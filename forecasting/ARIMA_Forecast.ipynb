{
  "cells": [
    {
      "cell_type": "markdown",
      "metadata": {
        "id": "fo4D4Yio9KGo"
      },
      "source": [
        "# Data Forecasting"
      ]
    },
    {
      "cell_type": "markdown",
      "metadata": {
        "id": "FdkmjLaTS43k"
      },
      "source": [
        "The module is in charge of: \n",
        "- forecasting the value of temperature in the next X seconds; \n",
        "- forecasting the value of humidity in the next X seconds; \n",
        "- forecasting the value of the gas sensor in the next X seconds \n",
        "\n",
        "(X is defined by users or developers). \n",
        "\n",
        "The time-series of the predicted values must be saved on INFLUX and shown on the GRAFANA dashboard as well; e.g. by using two lines for the temperature graph, one related to raw measurements, one to predictions. One or multiple techniques for time-series forecasting can be developed and compared.\n"
      ]
    },
    {
      "cell_type": "markdown",
      "metadata": {
        "id": "ljmAefVR9MU7"
      },
      "source": [
        "## Import Dependencies"
      ]
    },
    {
      "cell_type": "code",
      "execution_count": null,
      "metadata": {
        "id": "5QxN6K-MeHZQ"
      },
      "outputs": [],
      "source": [
        "!pip3 install influxdb_client\n",
        "!pip3 install statsmodels\n",
        "!pip3 install sklearn\n",
        "!pip3 install cufflinks\n",
        "!pip3 install pmdarima\n",
        "!pip3 install chart-studio"
      ]
    },
    {
      "cell_type": "markdown",
      "metadata": {},
      "source": [
        "## Import Libraries"
      ]
    },
    {
      "cell_type": "code",
      "execution_count": null,
      "metadata": {
        "id": "ok1ZYoOlX0gz"
      },
      "outputs": [],
      "source": [
        "import os\n",
        "import datetime\n",
        "import IPython\n",
        "import IPython.display\n",
        "import matplotlib as mpl\n",
        "import cufflinks as cf\n",
        "from plotly.offline import download_plotlyjs, init_notebook_mode, plot, iplot\n",
        "import matplotlib.pyplot as plt\n",
        "import chart_studio.plotly as py\n",
        "import numpy as np\n",
        "import pandas as pd\n",
        "import seaborn as sns\n",
        "import random\n",
        "from datetime import datetime,timezone\n",
        "import dateutil.parser\n",
        "import time\n",
        "import statsmodels.graphics.tsaplots as tsaplots\n",
        "from datetime import timedelta\n",
        "from influxdb_client import InfluxDBClient, Point, WriteOptions\n",
        "from influxdb_client.client.write_api import SYNCHRONOUS\n",
        "from influxdb_client.client.write_api import WriteType"
      ]
    },
    {
      "cell_type": "markdown",
      "metadata": {},
      "source": [
        "## Influx Setting"
      ]
    },
    {
      "cell_type": "code",
      "execution_count": null,
      "metadata": {},
      "outputs": [],
      "source": [
        "INFLUXDB_HOST = os.getenv(\"INFLUX_HOST\")\n",
        "INFLUXDB_PORT = os.getenv(\"INFLUX_HOST_PORT\")\n",
        "INFLUXDB_ORG = os.getenv(\"INFLUX_ORG\")\n",
        "INFLUXDB_TOKEN = os.getenv(\"INFLUX_TOKEN\")\n",
        "client = InfluxDBClient(url=\"http://\"+INFLUXDB_HOST+\":\"+INFLUXDB_PORT, token=INFLUXDB_TOKEN, org=INFLUXDB_ORG)"
      ]
    },
    {
      "cell_type": "markdown",
      "metadata": {},
      "source": [
        "## Retrive data from InfluxDb with Flux queries and plot data"
      ]
    },
    {
      "cell_type": "code",
      "execution_count": null,
      "metadata": {},
      "outputs": [],
      "source": [
        "from pandas import DataFrame\n",
        "\n",
        "def result_to_dataframe(result):\n",
        "    raw = []\n",
        "    for table in result:\n",
        "        for record in table.records:\n",
        "            raw.append((record.get_time(), record.get_value()))\n",
        "    return pd.DataFrame(raw, columns=['ds','y'], index=None)\n",
        "    \n",
        "buckets = ['temperature', 'humidity', 'gas']\n",
        "dfTemp = DataFrame\n",
        "dfHum = DataFrame\n",
        "dfGas = DataFrame\n",
        "\n",
        "for bucket in buckets:\n",
        "    query = 'from(bucket: \"'+ bucket +'\")' \\\n",
        "                ' |> range(start: 2022-11-29T01:00:00.00Z, stop: 2022-12-01T13:00:00.00Z)'\\\n",
        "                ' |> filter(fn: (r) => r[\"_measurement\"] == \"val\")' \\\n",
        "                ' |> filter(fn: (r) => r[\"_field\"] == \"' + bucket +'\")' \\\n",
        "                ' |> filter(fn: (r) => r[\"clientId\"] == \"diubi-esp-32\")' \\\n",
        "                ' |> filter(fn: (r) => r[\"lat\"] == \"42.846290\")' \\\n",
        "                ' |> aggregateWindow(every: 3m , fn: mean, createEmpty: false)'\\\n",
        "                ' |> yield(name: \"mean\")'\\\n",
        "\n",
        "    result = client.query_api().query(org=INFLUXDB_ORG, query=query)\n",
        "    print(result)\n",
        "    # Convert the results to dataframe\n",
        "    if (bucket == \"temperature\" and  result):\n",
        "        dfTemp = result_to_dataframe(result)\n",
        "        dfTemp['ds'] = dfTemp['ds'].dt.tz_localize(None)\n",
        "        #plot data\n",
        "        plot_cols = ['y']\n",
        "        plot_features = dfTemp[plot_cols]\n",
        "        plot_features.index = dfTemp['ds']\n",
        "        _ = plot_features.plot(subplots=True)\n",
        "\n",
        "    if (bucket == \"humidity\" and result):\n",
        "        dfHum = result_to_dataframe(result)\n",
        "        dfHum['ds'] = dfHum['ds'].dt.tz_localize(None)\n",
        "        #plot data\n",
        "        plot_cols = ['y']\n",
        "        plot_features = dfHum[plot_cols]\n",
        "        plot_features.index = dfHum['ds']\n",
        "        _ = plot_features.plot(subplots=True)\n",
        "\n",
        "    if (bucket == \"gas\" and result):\n",
        "        dfGas = result_to_dataframe(result)\n",
        "        dfGas['ds'] = dfGas['ds'].dt.tz_localize(None)\n",
        "        #plot data\n",
        "        plot_cols = ['y']\n",
        "        plot_features = dfGas[plot_cols]\n",
        "        plot_features.index = dfGas['ds']\n",
        "        _ = plot_features.plot(subplots=True)"
      ]
    },
    {
      "cell_type": "markdown",
      "metadata": {},
      "source": [
        "## Informations about DataFrames. \n",
        "### Train and Test Datasets cretion "
      ]
    },
    {
      "cell_type": "code",
      "execution_count": null,
      "metadata": {},
      "outputs": [],
      "source": [
        "trainTemp = DataFrame\n",
        "testTemp = DataFrame\n",
        "trainHum= DataFrame\n",
        "testHum = DataFrame\n",
        "trainGas = DataFrame\n",
        "testGas = DataFrame\n",
        "global tempDate\n",
        "global humDate\n",
        "global gasDate\n",
        "\n",
        "if ( not dfTemp.empty):\n",
        "    print(\"Temperature Dataset\")    \n",
        "    print(dfTemp.describe().transpose())\n",
        "    nrows = (len(dfTemp.values))\n",
        "    splitPoint = int (nrows * 0.80)\n",
        "    trainTemp = dfTemp['y'] [:splitPoint]\n",
        "    testTemp = dfTemp ['y'] [splitPoint:]\n",
        "    tempDate = dfTemp ['ds'] [splitPoint:].to_frame().reset_index()\n",
        "    # truncate ds to minutes\n",
        "    tempDate['ds'] = tempDate.ds.dt.floor('min')\n",
        "\n",
        "if (not dfHum.empty):\n",
        "    print(\"Humidity Dataset\")\n",
        "    print(dfHum.describe().transpose())\n",
        "    nrows = (len(dfHum.values))\n",
        "    splitPoint = int (nrows * 0.80)\n",
        "    trainHum = dfHum['y'] [:splitPoint]\n",
        "    testHum = dfHum ['y'] [splitPoint:]\n",
        "    humDate = dfHum ['ds'] [splitPoint:].to_frame().reset_index()\n",
        "    # truncate ds to minutes\n",
        "    humDate['ds'] = humDate.ds.dt.floor('min')   \n",
        "\n",
        "if (not dfGas.empty):\n",
        "    print(\"Gas Dataset\")\n",
        "    print(dfGas.describe().transpose())\n",
        "    nrows = (len(dfGas.values))\n",
        "    splitPoint = int (nrows * 0.80)\n",
        "    trainGas = dfGas['y'] [:splitPoint]\n",
        "    testGas = dfGas ['y'] [splitPoint:]\n",
        "    gasDate = dfGas ['ds'] [splitPoint:].to_frame().reset_index()\n",
        "    # truncate ds to minutes\n",
        "    humDate['ds'] = humDate.ds.dt.floor('min')"
      ]
    },
    {
      "cell_type": "markdown",
      "metadata": {},
      "source": [
        "## Finding the right ARIMA parameters"
      ]
    },
    {
      "cell_type": "markdown",
      "metadata": {},
      "source": [
        "### Finding the value of the d parameter "
      ]
    },
    {
      "cell_type": "code",
      "execution_count": null,
      "metadata": {},
      "outputs": [],
      "source": [
        "import numpy as np, pandas as pd\n",
        "import matplotlib.pyplot as plt\n",
        "def printPlot(dataset):\n",
        "    # Original Series\n",
        "    fig, (ax1, ax2, ax3) = plt.subplots(3)\n",
        "    ax1.plot(dataset); ax1.set_title('Original Series'); ax1.axes.xaxis.set_visible(False)\n",
        "    # 1st Differencing\n",
        "    ax2.plot(dataset.diff()); ax2.set_title('1st Order Differencing'); ax2.axes.xaxis.set_visible(False)\n",
        "    # 2nd Differencing\n",
        "    ax3.plot(dataset.diff().diff()); ax3.set_title('2nd Order Differencing')\n",
        "    plt.show()\n",
        "\n",
        "if ( not dfTemp.empty):\n",
        "    printPlot(trainTemp)\n",
        "\n",
        "if (not dfHum.empty):\n",
        "    printPlot(trainHum)   \n",
        "\n",
        "if (not dfGas.empty):\n",
        "    printPlot(trainGas)"
      ]
    },
    {
      "cell_type": "markdown",
      "metadata": {},
      "source": [
        "### Check if the time-series are stationary using the Dickey-Fuller test\n",
        "### If P Value > 0.05 we go ahead with finding the order of differencing."
      ]
    },
    {
      "cell_type": "code",
      "execution_count": null,
      "metadata": {},
      "outputs": [],
      "source": [
        "from statsmodels.tsa.stattools import adfuller\n",
        "\n",
        "resultTemp = 0.0\n",
        "resultHum = 0.0\n",
        "resultGas = 0.0\n",
        "\n",
        "if (not dfTemp.empty):\n",
        "    resultTemp = adfuller(trainTemp)\n",
        "    print('TEMPERATURE: ADF Statistic: %f' % resultTemp[0])\n",
        "    print('TEMPERATURE: p-value: %f' % resultTemp[1])\n",
        "\n",
        "if (not dfHum.empty):\n",
        "    resultHum = adfuller(trainHum)\n",
        "    print('HUMIDITY: ADF Statistic: %f' % resultHum[0])\n",
        "    print('HUMIDITY: p-value: %f' % resultHum[1])\n",
        "\n",
        "if (not dfGas.empty):\n",
        "    resultGas = adfuller(trainGas)\n",
        "    print('GAS: ADF Statistic: %f' % resultGas[0])\n",
        "    print('GAS: p-value: %f' % resultGas[1])\n",
        "    "
      ]
    },
    {
      "cell_type": "markdown",
      "metadata": {},
      "source": [
        "### Finding the value of the p and q parameter using the Autocorrelation and Partial Autocorrelation plots"
      ]
    },
    {
      "cell_type": "code",
      "execution_count": null,
      "metadata": {},
      "outputs": [],
      "source": [
        "from statsmodels.graphics import tsaplots\n",
        "\n",
        "if (not dfTemp.empty):\n",
        "    aux = trainTemp\n",
        "    train_new = aux.diff().dropna()\n",
        "    result = adfuller(train_new)\n",
        "    print('TEMPERATURE: ADF Statistic: %f' % result[0])\n",
        "    print('TEMPERATURE: new p-value: %f' % result[1])\n",
        "    fig = tsaplots.plot_acf(train_new, lags=10)\n",
        "    plt.show()\n",
        "    fig = tsaplots.plot_pacf(train_new, lags=10)\n",
        "    plt.show()\n",
        "\n",
        "if (not dfHum.empty):\n",
        "    aux = trainHum\n",
        "    train_new = aux.diff().dropna()\n",
        "    result = adfuller(train_new)\n",
        "    print('HUMIDITY: ADF Statistic: %f' % result[0])\n",
        "    print('HUMIDITY: new p-value: %f' % result[1])\n",
        "    fig = tsaplots.plot_acf(train_new, lags=10)\n",
        "    plt.show()\n",
        "    fig = tsaplots.plot_pacf(train_new, lags=10)\n",
        "    plt.show()\n",
        "\n",
        "if (not dfGas.empty):\n",
        "    aux = trainGas\n",
        "    train_new = aux.diff().dropna()\n",
        "    result = adfuller(train_new)\n",
        "    print('GAS: ADF Statistic: %f' % result[0])\n",
        "    print('GAS: new p-value: %f' % result[1])\n",
        "    fig = tsaplots.plot_acf(train_new, lags=10)\n",
        "    plt.show()\n",
        "    fig = tsaplots.plot_pacf(train_new, lags=10)\n",
        "    plt.show()"
      ]
    },
    {
      "cell_type": "markdown",
      "metadata": {},
      "source": [
        "## ARIMA models\n",
        "### ARIMA(p,d,q)"
      ]
    },
    {
      "cell_type": "code",
      "execution_count": null,
      "metadata": {},
      "outputs": [],
      "source": [
        "from statsmodels.tsa.arima.model import ARIMA\n",
        "import math\n",
        "from sklearn.metrics import mean_squared_error\n",
        "\n",
        "global temp_model_fit\n",
        "global hum_model_fit\n",
        "global gas_model_fit\n",
        "\n",
        "if (not trainTemp.empty):\n",
        "  historyTemp = [x for x in trainTemp]\n",
        "  predictionsTemp = list()\n",
        "if (not trainHum.empty):\n",
        "  historyHum = [x for x in trainHum]\n",
        "  predictionsHum = list()\n",
        "if (not trainGas.empty):\n",
        "  historyGas= [x for x in trainGas]\n",
        "  predictionsGas = list()\n",
        "\n",
        "if (not dfTemp.empty):\n",
        "  for t in testTemp.index:\n",
        "    model = ARIMA(historyTemp, order=(0,1,0))\n",
        "    temp_model_fit = model.fit()\n",
        "    output = temp_model_fit.forecast()\n",
        "    yest = output[0]\n",
        "    predictionsTemp.append(yest)\n",
        "    obs= testTemp[t]\n",
        "    historyTemp.append(obs)\n",
        "    print ('predicted=%f, expected=%f' % (yest, obs))\n",
        "\n",
        "if (not dfHum.empty):\n",
        "  for t in testHum.index:\n",
        "    model = ARIMA(historyHum, order=(0,1,0))\n",
        "    hum_model_fit = model.fit()\n",
        "    output = hum_model_fit.forecast()\n",
        "    yest = output[0]\n",
        "    predictionsHum.append(yest)\n",
        "    obs= testHum[t]\n",
        "    historyHum.append(obs)\n",
        "    print ('predicted=%f, expected=%f' % (yest, obs))\n",
        "\n",
        "if (not dfGas.empty):\n",
        "  for t in testGas.index:\n",
        "    model = ARIMA(historyGas, order=(2,2,1))\n",
        "    gas_model_fit = model.fit()\n",
        "    output = gas_model_fit.forecast()\n",
        "    yest = output[0]\n",
        "    predictionsGas.append(yest)\n",
        "    obs= testGas[t]\n",
        "    historyGas.append(obs)\n",
        "    print ('predicted=%f, expected=%f' % (yest, obs))\n"
      ]
    },
    {
      "cell_type": "code",
      "execution_count": null,
      "metadata": {},
      "outputs": [],
      "source": [
        "#This function sends Forecasting Data to InfluxDB\n",
        "def send_predictions(df, date, bucket):\n",
        "\tlines = [str(df['y'][d]) for d in range(len(df))]\n",
        "\tif(bucket == \"gas\"):\n",
        "\t\tlines = ['val,prediction=yes,clientId=' + str(\"diubi-esp-32\")+\",lat=999,lng=999\"+ \" gasPred\" + '=' + str(df['y'][d])\n",
        "\t\t\t\t\t\t\t\t\t\t+ ' ' + str(int(time.mktime(date['ds'][d].timetuple()))) + \"000000000\" for d in range(len(date))]\n",
        "\telse:\n",
        "\t\tlines = ['val,prediction=yes,clientId=' + str(\"diubi-esp-32\")+\",lat=999,lng=999\"+ \" \" + bucket + '=' + str(df['y'][d])\n",
        "\t\t\t\t\t\t\t\t\t\t+ ' ' + str(int(time.mktime(date['ds'][d].timetuple()))) + \"000000000\" for d in range(len(date))]\n",
        "\twrite_client = client.write_api(write_options=WriteOptions(batch_size=1000, flush_interval=10_000,\n",
        "\t\t\t\t\t\t\t\t\t\t\t\t\t\t\tjitter_interval=2_000, retry_interval=5_000, write_type=WriteType.synchronous))\n",
        "\twrite_client.write(bucket, INFLUXDB_ORG, lines)"
      ]
    },
    {
      "cell_type": "markdown",
      "metadata": {},
      "source": [
        "## ARIMA model Results and Evaluation \n",
        "### Forecasting plot and RMSE computation"
      ]
    },
    {
      "cell_type": "code",
      "execution_count": null,
      "metadata": {},
      "outputs": [],
      "source": [
        "#For each Dataset will be computed the forecasting plot and RMSE\n",
        "if (not trainTemp.empty):\n",
        "  print(\"Temperature:\")\n",
        "  rmse = math.sqrt(mean_squared_error(testTemp, predictionsTemp))\n",
        "  print('Test RMSE: %.3f'% rmse)\n",
        "  df = pd.DataFrame(predictionsTemp)\n",
        "  df.columns = ['y']\n",
        "  send_predictions(df, tempDate, \"temperature\")\n",
        "  df.set_index(testTemp.index, inplace=True)\n",
        "  plt.plot(df, label=\"Real Value\")\n",
        "  plt.plot(testTemp, \"-r\", label=\"Forecasted Value\")\n",
        "  plt.legend(loc=\"upper left\")\n",
        "  plt.show()\n",
        "\n",
        "if (not trainHum.empty):\n",
        "  print(\"Humidity:\")\n",
        "  rmse = math.sqrt(mean_squared_error(testHum, predictionsHum))\n",
        "  print('Test RMSE: %.3f'% rmse)\n",
        "  df = pd.DataFrame(predictionsHum)\n",
        "  df.columns = ['y']\n",
        "  send_predictions(df, humDate, \"humidity\")\n",
        "  df.set_index(testHum.index, inplace=True)\n",
        "  plt.plot(df, label=\"Real Value\")\n",
        "  plt.plot(testHum, \"-r\", label=\"Forecasted Value\")\n",
        "  plt.legend(loc=\"upper left\")\n",
        "  plt.show()\n",
        "  \n",
        "if (not trainGas.empty):\n",
        "  print(\"Gas:\")\n",
        "  rmse = math.sqrt(mean_squared_error(testGas, predictionsGas))\n",
        "  print('Test RMSE: %.3f'% rmse)\n",
        "  df = pd.DataFrame(predictionsGas)\n",
        "  df.columns = ['y']\n",
        "  df[\"y\"] = df[\"y\"].astype(int)\n",
        "  send_predictions(df, gasDate, \"gas\")\n",
        "  df.set_index(testGas.index, inplace=True)\n",
        "  plt.plot(df, label=\"Real Value\")\n",
        "  plt.plot(testGas, \"-r\", label=\"Forecasted Value\")\n",
        "  plt.legend(loc=\"upper left\")\n",
        "  plt.show()"
      ]
    },
    {
      "cell_type": "markdown",
      "metadata": {},
      "source": [
        "### Mean value and Confidence Interval"
      ]
    },
    {
      "cell_type": "code",
      "execution_count": null,
      "metadata": {},
      "outputs": [],
      "source": [
        "#Temperature evaluation\n",
        "temp_forecast = temp_model_fit.get_forecast()\n",
        "temp_forecast.summary_frame()\n",
        "yhat = temp_forecast.predicted_mean\n",
        "yhat_conf_int = temp_forecast.conf_int(alpha=0.05)\n",
        "\n",
        "print('Temperature Model Evaluation Summary:')\n",
        "print('-'*40)\n",
        "print('Mean: {}'.format(yhat))\n",
        "print('Confidence Interval: {}'.format(yhat_conf_int))\n",
        "\n",
        "#Humidity evaluation\n",
        "hum_forecast = hum_model_fit.get_forecast()\n",
        "hum_forecast.summary_frame()\n",
        "yhat = hum_forecast.predicted_mean\n",
        "yhat_conf_int = hum_forecast.conf_int(alpha=0.05)\n",
        "\n",
        "print('Humidity Model Evaluation Summary:')\n",
        "print('-'*40)\n",
        "print('Mean: {}'.format(yhat))\n",
        "print('Confidence Interval: {}'.format(yhat_conf_int))\n",
        "\n",
        "#Gas evaluation\n",
        "gas_forecast = gas_model_fit.get_forecast()\n",
        "gas_forecast.summary_frame()\n",
        "yhat = gas_forecast.predicted_mean\n",
        "yhat_conf_int = gas_forecast.conf_int(alpha=0.05)\n",
        "\n",
        "print('Gas Model Evaluation Summary:')\n",
        "print('-'*40)\n",
        "print('Mean: {}'.format(yhat))\n",
        "print('Confidence Interval: {}'.format(yhat_conf_int))"
      ]
    }
  ],
  "metadata": {
    "colab": {
      "collapsed_sections": [],
      "name": "forecasting.ipynb",
      "provenance": []
    },
    "kernelspec": {
      "display_name": "Python 3.8.9 64-bit",
      "language": "python",
      "name": "python3"
    },
    "language_info": {
      "codemirror_mode": {
        "name": "ipython",
        "version": 3
      },
      "file_extension": ".py",
      "mimetype": "text/x-python",
      "name": "python",
      "nbconvert_exporter": "python",
      "pygments_lexer": "ipython3",
      "version": "3.8.9"
    },
    "orig_nbformat": 4,
    "vscode": {
      "interpreter": {
        "hash": "31f2aee4e71d21fbe5cf8b01ff0e069b9275f58929596ceb00d14d90e3e16cd6"
      }
    }
  },
  "nbformat": 4,
  "nbformat_minor": 0
}
