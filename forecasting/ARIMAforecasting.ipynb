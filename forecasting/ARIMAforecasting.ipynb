{
  "cells": [
    {
      "cell_type": "markdown",
      "metadata": {
        "id": "fo4D4Yio9KGo"
      },
      "source": [
        "# Data Forecasting"
      ]
    },
    {
      "cell_type": "markdown",
      "metadata": {
        "id": "FdkmjLaTS43k"
      },
      "source": [
        "The module is in charge of: \n",
        "- forecasting the value of temperature in the next X seconds; \n",
        "- forecasting the value of humidity in the next X seconds; \n",
        "- forecasting the value of the gas sensor in the next X seconds \n",
        "\n",
        "(X is defined by users or developers). \n",
        "\n",
        "The time-series of the predicted values must be saved on INFLUX and shown on the GRAFANA dashboard as well; e.g. by using two lines for the temperature graph, one related to raw measurements, one to predictions. One or multiple techniques for time-series forecasting can be developed and compared.\n"
      ]
    },
    {
      "cell_type": "markdown",
      "metadata": {
        "id": "ljmAefVR9MU7"
      },
      "source": [
        "## Import Dependencies"
      ]
    },
    {
      "cell_type": "code",
      "execution_count": 1,
      "metadata": {
        "id": "ok1ZYoOlX0gz"
      },
      "outputs": [],
      "source": [
        "import os\n",
        "import datetime\n",
        "import IPython\n",
        "import IPython.display\n",
        "import matplotlib as mpl\n",
        "import matplotlib.pyplot as plt\n",
        "import numpy as np\n",
        "import pandas as pd\n",
        "import seaborn as sns\n",
        "import random"
      ]
    },
    {
      "cell_type": "markdown",
      "metadata": {
        "id": "SaA1B6eK7OIw"
      },
      "source": [
        "# Data retrival from influx"
      ]
    },
    {
      "cell_type": "code",
      "execution_count": null,
      "metadata": {
        "id": "5QxN6K-MeHZQ"
      },
      "outputs": [],
      "source": [
        "!pip3 install influxdb_client\n",
        "!pip install statsmodels"
      ]
    },
    {
      "cell_type": "code",
      "execution_count": 3,
      "metadata": {
        "id": "UzZvSAcjX0gz"
      },
      "outputs": [],
      "source": [
        "from influxdb_client import InfluxDBClient, Point\n",
        "from influxdb_client.client.write_api import SYNCHRONOUS\n",
        "token = '0-boCREZ1XTzYhmT3RYogxFDtraRzOEZsMYNxjp0mBOWHCif47lUv2UddrAfyJUwupk33ci92-aHHFWhjv2pRg=='\n",
        "bucket = 'temperature'\n",
        "org = 'iot_group'\n",
        "client = InfluxDBClient(url=\"http://192.168.43.177:8086\", token=token, org=org)\n",
        "query_api = client.query_api()\n",
        "write_api = client.write_api(write_options=SYNCHRONOUS)"
      ]
    },
    {
      "cell_type": "code",
      "execution_count": 4,
      "metadata": {
        "id": "6Xh3QCixYHMo"
      },
      "outputs": [],
      "source": [
        "query = 'from(bucket: \"temperature\")' \\\n",
        "  '|> range(start:2022-08-10T15:00:00Z, stop:2022-09-20T15:00:00Z)'"
      ]
    },
    {
      "cell_type": "code",
      "execution_count": 5,
      "metadata": {
        "id": "RhJtyKHrYVGg"
      },
      "outputs": [],
      "source": [
        "result = client.query_api().query(org=org, query=query)"
      ]
    },
    {
      "cell_type": "markdown",
      "metadata": {
        "id": "14AWt2TjYkPR"
      },
      "source": [
        "-Exploiting the query results in order to obtain a dataframe"
      ]
    },
    {
      "cell_type": "markdown",
      "metadata": {
        "id": "evQxhyZsTZ5t"
      },
      "source": [
        "## Implementation Temperature Predictor"
      ]
    },
    {
      "cell_type": "markdown",
      "metadata": {},
      "source": [
        "### ARIMA"
      ]
    },
    {
      "cell_type": "code",
      "execution_count": null,
      "metadata": {
        "id": "2sq6vfjVaxU3"
      },
      "outputs": [],
      "source": [
        "dataset_path = \"../datasets/dataset1.csv\"\n",
        "df = pd.read_csv(dataset_path)\n",
        "df.head()"
      ]
    },
    {
      "cell_type": "code",
      "execution_count": null,
      "metadata": {
        "id": "TlJhzIZua-0q"
      },
      "outputs": [],
      "source": [
        "df.head()"
      ]
    },
    {
      "cell_type": "code",
      "execution_count": null,
      "metadata": {
        "id": "LY-YYLL9bosS"
      },
      "outputs": [],
      "source": [
        "#evolution over time of our data\n",
        "plot_cols = ['_value']\n",
        "plot_features = df[plot_cols]\n",
        "plot_features.index = df['_time']\n",
        "print(df.to_string())\n",
        "_ = plot_features.plot(subplots=True)\n",
        "\n"
      ]
    },
    {
      "cell_type": "code",
      "execution_count": null,
      "metadata": {
        "id": "U41Ppk2abxUw"
      },
      "outputs": [],
      "source": [
        "df.describe()"
      ]
    },
    {
      "cell_type": "code",
      "execution_count": 65,
      "metadata": {
        "id": "CqMVIgEGbz0-"
      },
      "outputs": [],
      "source": [
        "nrows = (len(df.values))\n",
        "splitPoint = int (nrows * 0.60)\n",
        "train = df['_value'] [:splitPoint]\n",
        "test = df ['_value'] [splitPoint:]"
      ]
    },
    {
      "cell_type": "code",
      "execution_count": null,
      "metadata": {
        "id": "u-st1hECb4EK"
      },
      "outputs": [],
      "source": [
        " # Check whether the time-series is stationary through the Dickey-Fuller test\n",
        "from statsmodels.tsa.stattools import adfuller\n",
        "result = adfuller(train)\n",
        "\n",
        "print('ADF Statistic: %f' % result[0])\n",
        "print('p-value: %f' % result[1])"
      ]
    },
    {
      "cell_type": "code",
      "execution_count": null,
      "metadata": {
        "id": "M6bB0EK_b8Mu"
      },
      "outputs": [],
      "source": [
        "train_new = train.diff().dropna()\n",
        "result = adfuller(train_new)\n",
        "print('ADF Statistic: %f' % result[0])\n",
        "print('p-value: %f' % result[1])"
      ]
    },
    {
      "cell_type": "code",
      "execution_count": null,
      "metadata": {
        "colab": {
          "base_uri": "https://localhost:8080/",
          "height": 281
        },
        "id": "l5VD-Rpgb-9c",
        "outputId": "b42be848-5f06-429e-a875-18cec2efb3e1"
      },
      "outputs": [],
      "source": [
        "from statsmodels.graphics import tsaplots\n",
        "fig = tsaplots.plot_acf(train_new,lags=10)\n",
        "plt.show()"
      ]
    },
    {
      "cell_type": "code",
      "execution_count": null,
      "metadata": {
        "colab": {
          "base_uri": "https://localhost:8080/",
          "height": 281
        },
        "id": "aA98K_lUcBNi",
        "outputId": "cebc7e87-3d6b-42d1-dcc5-5689c84ab0fe"
      },
      "outputs": [],
      "source": [
        "fig = tsaplots.plot_pacf(train_new, lags=10)\n",
        "plt.show()"
      ]
    },
    {
      "cell_type": "code",
      "execution_count": null,
      "metadata": {
        "id": "NR3V2mx8d7p-"
      },
      "outputs": [],
      "source": [
        "#Step 6; Apply ARIMA model\n",
        "from statsmodels.tsa.arima.model import ARIMA\n",
        "history = [x for x in train]\n",
        "predictions = list()\n",
        "print(test)\n",
        "for t in test.index:\n",
        "  model = ARIMA(history, order=(0,0,1))\n",
        "  model_fit = model. fit()\n",
        "  output = model_fit.forecast()\n",
        "  yest = output[0]\n",
        "  predictions.append(yest)\n",
        "  obs= test[t]\n",
        "  history.append(obs)\n",
        "  print ('predicted=%f, expected=%f' % (yest, obs))"
      ]
    },
    {
      "cell_type": "code",
      "execution_count": null,
      "metadata": {
        "colab": {
          "base_uri": "https://localhost:8080/",
          "height": 282
        },
        "id": "ZKPLesOwckie",
        "outputId": "72a64881-82bf-407f-d4db-b4173062d3ad"
      },
      "outputs": [],
      "source": [
        "import math\n",
        "from sklearn.metrics import mean_squared_error\n",
        "\n",
        "rmse = math.sqrt(mean_squared_error(test, predictions))\n",
        "print('Test RMSE: %.3f'% rmse)\n",
        "\n",
        "df2 = pd. DataFrame (predictions)\n",
        "df2. set_index(test.index, inplace=True)\n",
        "plt.plot(test)\n",
        "plt.plot(df2, color='red')\n",
        "plt.show()"
      ]
    },
    {
      "cell_type": "markdown",
      "metadata": {
        "id": "F_Ihy7o9TdE7"
      },
      "source": [
        "## Implementation Humidity Predictor"
      ]
    },
    {
      "cell_type": "code",
      "execution_count": null,
      "metadata": {
        "colab": {
          "base_uri": "https://localhost:8080/",
          "height": 204
        },
        "id": "Trmw6Jegekg-",
        "outputId": "26b37b2b-5c09-477e-8db1-865145b0b1c8"
      },
      "outputs": [],
      "source": [
        "dataset_path = \"/content/drive/MyDrive/Datasets/Forecasting/hum.csv\"\n",
        "df = pd.read_csv(dataset_path)\n",
        "df.head()"
      ]
    },
    {
      "cell_type": "code",
      "execution_count": null,
      "metadata": {
        "colab": {
          "base_uri": "https://localhost:8080/",
          "height": 204
        },
        "id": "vuFtYoXPfP8m",
        "outputId": "1e2f74af-4094-4e88-86cf-d85396588ae9"
      },
      "outputs": [],
      "source": [
        "df = df.rename(columns={\"409151bfa0cc\" : 'time', \"409151bfa0cc.1\" : 'y'})\n",
        "df.head()"
      ]
    },
    {
      "cell_type": "code",
      "execution_count": null,
      "metadata": {
        "colab": {
          "base_uri": "https://localhost:8080/",
          "height": 265
        },
        "id": "iwdHubMqfWP_",
        "outputId": "636d6690-f96a-4fbb-a6e9-aacb57c7037f"
      },
      "outputs": [],
      "source": [
        "#evolution over time of our data\n",
        "plot_cols = ['y']\n",
        "plot_features = df[plot_cols]\n",
        "_ = plot_features.plot(subplots=True)"
      ]
    },
    {
      "cell_type": "code",
      "execution_count": null,
      "metadata": {
        "colab": {
          "base_uri": "https://localhost:8080/",
          "height": 80
        },
        "id": "ZoMhX28wffSo",
        "outputId": "88269a87-8120-4162-a5df-e15612d84904"
      },
      "outputs": [],
      "source": [
        "df.describe().transpose()"
      ]
    },
    {
      "cell_type": "code",
      "execution_count": null,
      "metadata": {
        "id": "_C4w_3Uej10C"
      },
      "outputs": [],
      "source": [
        "nrows = (len(df.values))\n",
        "splitPoint = int (nrows * 0.60)\n",
        "train = df['y'] [:splitPoint]\n",
        "test = df ['y'] [splitPoint:]"
      ]
    },
    {
      "cell_type": "code",
      "execution_count": null,
      "metadata": {
        "colab": {
          "base_uri": "https://localhost:8080/"
        },
        "id": "bQ7PkTNtfud_",
        "outputId": "b7c9a5c2-9db9-4633-bbab-1b3a2c9e1274"
      },
      "outputs": [],
      "source": [
        " # Check whether the time-series is stationary through the Dickey-Fuller test\n",
        "from statsmodels.tsa.stattools import adfuller\n",
        "result = adfuller(train)\n",
        "\n",
        "print('ADF Statistic: %f' % result[0])\n",
        "print('p-value: %f' % result[1])"
      ]
    },
    {
      "cell_type": "code",
      "execution_count": null,
      "metadata": {
        "colab": {
          "base_uri": "https://localhost:8080/"
        },
        "id": "5rNoUdguf9LH",
        "outputId": "cad1a9fa-0b81-485e-af8a-6b57477dbd63"
      },
      "outputs": [],
      "source": [
        "train_new = train.diff().dropna()\n",
        "result = adfuller(train_new)\n",
        "print('ADF Statistic: %f' % result[0])\n",
        "print('p-value: %f' % result[1])"
      ]
    },
    {
      "cell_type": "code",
      "execution_count": null,
      "metadata": {
        "colab": {
          "base_uri": "https://localhost:8080/",
          "height": 281
        },
        "id": "TvvIGGvDiAa2",
        "outputId": "3f83e1e5-db0a-478a-d8c4-be0510819680"
      },
      "outputs": [],
      "source": [
        "fig = tsaplots.plot_acf(train_new, lags=10)\n",
        "plt.show()"
      ]
    },
    {
      "cell_type": "code",
      "execution_count": null,
      "metadata": {
        "colab": {
          "base_uri": "https://localhost:8080/",
          "height": 281
        },
        "id": "5TziuC7xiGvs",
        "outputId": "780f43b4-c43f-4a76-f437-def3c26dc52e"
      },
      "outputs": [],
      "source": [
        "fig = tsaplots.plot_pacf(train_new, lags=10)\n",
        "plt.show()"
      ]
    },
    {
      "cell_type": "code",
      "execution_count": null,
      "metadata": {
        "id": "ND0HzPy9iSgf"
      },
      "outputs": [],
      "source": [
        "history = [x for x in train]\n",
        "predictions = list()\n",
        "print(test)\n",
        "for t in test.index:\n",
        "  model = ARIMA(history, order=(1,1,1))\n",
        "  model_fit = model.fit()\n",
        "  output = model_fit.forecast()\n",
        "  yest = output[0]\n",
        "  predictions.append(yest)\n",
        "  obs= test[t]\n",
        "  history.append(obs)\n",
        "  print ('predicted=%f, expected=%f' % (yest, obs))"
      ]
    },
    {
      "cell_type": "code",
      "execution_count": null,
      "metadata": {
        "colab": {
          "base_uri": "https://localhost:8080/",
          "height": 282
        },
        "id": "wQtI3hApiZkq",
        "outputId": "d84afbf1-70ce-4130-a591-624520e861f1"
      },
      "outputs": [],
      "source": [
        "rmse = math.sqrt(mean_squared_error(test, predictions))\n",
        "print('Test RMSE: %.3f'% rmse)\n",
        "\n",
        "df2 = pd.DataFrame(predictions)\n",
        "df2. set_index(test.index, inplace=True)\n",
        "plt.plot(test)\n",
        "plt.plot(df2, color='red')\n",
        "plt.show()"
      ]
    },
    {
      "cell_type": "markdown",
      "metadata": {
        "id": "P_n8dloD9QJ7"
      },
      "source": [
        "## Implement Gas Predictor"
      ]
    },
    {
      "cell_type": "code",
      "execution_count": null,
      "metadata": {
        "id": "yEZEGVqK3Ows"
      },
      "outputs": [],
      "source": [
        "dataset_path = \"/content/drive/MyDrive/Datasets/Forecasting/gas.csv\"\n",
        "df = pd.read_csv(dataset_path)"
      ]
    },
    {
      "cell_type": "code",
      "execution_count": null,
      "metadata": {
        "colab": {
          "base_uri": "https://localhost:8080/",
          "height": 204
        },
        "id": "21-CkR4X-V50",
        "outputId": "2cb01b2a-f3b0-4098-dee5-de26d7b14719"
      },
      "outputs": [],
      "source": [
        "df.head()"
      ]
    },
    {
      "cell_type": "code",
      "execution_count": null,
      "metadata": {
        "colab": {
          "base_uri": "https://localhost:8080/"
        },
        "id": "pfJpy6jF_M8R",
        "outputId": "2544cf11-85d7-46d3-ace4-9e921e847d97"
      },
      "outputs": [],
      "source": [
        "df['y'].size"
      ]
    },
    {
      "cell_type": "code",
      "execution_count": null,
      "metadata": {
        "colab": {
          "base_uri": "https://localhost:8080/"
        },
        "id": "4C71CXhmYkGd",
        "outputId": "6ac3f878-601a-4747-80a4-3399b08b6806"
      },
      "outputs": [],
      "source": [
        "df['y'][0:4288] = 4095"
      ]
    },
    {
      "cell_type": "code",
      "execution_count": null,
      "metadata": {
        "colab": {
          "base_uri": "https://localhost:8080/",
          "height": 265
        },
        "id": "tKn0xnRo4XDd",
        "outputId": "5783fd06-65cf-4efc-ce61-c19e617c4edc"
      },
      "outputs": [],
      "source": [
        "#evolution over time of our data\n",
        "plot_cols = ['y']\n",
        "plot_features = df[plot_cols]\n",
        "_ = plot_features.plot(subplots=True)"
      ]
    },
    {
      "cell_type": "code",
      "execution_count": null,
      "metadata": {
        "colab": {
          "base_uri": "https://localhost:8080/"
        },
        "id": "oTvEEeo-Y03h",
        "outputId": "8f48826c-906c-4b56-8a3e-3d81e3454c10"
      },
      "outputs": [],
      "source": [
        "df['y'][3000:4000] = [4095 for i in range(0,1000)]"
      ]
    },
    {
      "cell_type": "code",
      "execution_count": null,
      "metadata": {
        "colab": {
          "base_uri": "https://localhost:8080/",
          "height": 80
        },
        "id": "aHBytLqO5cp2",
        "outputId": "f2bb0c63-6fd7-4ed8-f739-a62040c5f32c"
      },
      "outputs": [],
      "source": [
        "df.describe().transpose()"
      ]
    },
    {
      "cell_type": "code",
      "execution_count": null,
      "metadata": {
        "id": "rExbYodZWgNb"
      },
      "outputs": [],
      "source": [
        "nrows = (len(df.values))\n",
        "splitPoint = int (nrows * 0.50)\n",
        "train = df['y'] [:splitPoint]\n",
        "test = df ['y'] [splitPoint:]"
      ]
    },
    {
      "cell_type": "markdown",
      "metadata": {
        "id": "EijrLNzNcQQX"
      },
      "source": [
        "Check for stationarity "
      ]
    },
    {
      "cell_type": "code",
      "execution_count": null,
      "metadata": {
        "colab": {
          "base_uri": "https://localhost:8080/"
        },
        "id": "uDjqEB3WcOJ1",
        "outputId": "5e2fc108-6c9c-42d4-d5bc-e44f7ebc9a9a"
      },
      "outputs": [],
      "source": [
        " # Check whether the time-series is stationary through the Dickey-Fuller test\n",
        "from statsmodels.tsa.stattools import adfuller\n",
        "result = adfuller(train)\n",
        "\n",
        "print('ADF Statistic: %f' % result[0])\n",
        "print('p-value: %f' % result[1])"
      ]
    },
    {
      "cell_type": "code",
      "execution_count": null,
      "metadata": {
        "colab": {
          "base_uri": "https://localhost:8080/"
        },
        "id": "VF-2hbHnct40",
        "outputId": "71149065-364c-4cc3-edcc-5474b2157c6b"
      },
      "outputs": [],
      "source": [
        "train_new = train.diff().dropna()\n",
        "result = adfuller(train_new)\n",
        "\n",
        "print('ADF Statistic: %f' % result[0])\n",
        "print('p-value: %f' % result[1])"
      ]
    },
    {
      "cell_type": "code",
      "execution_count": null,
      "metadata": {
        "colab": {
          "base_uri": "https://localhost:8080/",
          "height": 281
        },
        "id": "uxU3f2VWc8iV",
        "outputId": "77f0252b-2e48-455e-d89a-e0acd5e1601c"
      },
      "outputs": [],
      "source": [
        "from statsmodels.graphics import tsaplots\n",
        "fig = tsaplots.plot_acf(train, lags=10)\n",
        "plt.show()"
      ]
    },
    {
      "cell_type": "code",
      "execution_count": null,
      "metadata": {
        "colab": {
          "base_uri": "https://localhost:8080/",
          "height": 281
        },
        "id": "r7n3lZBedz1P",
        "outputId": "ebef80e6-c699-4bb8-f3bb-b189f5d8a8f4"
      },
      "outputs": [],
      "source": [
        "fig = tsaplots.plot_pacf(train, lags=10)\n",
        "plt.show()"
      ]
    },
    {
      "cell_type": "code",
      "execution_count": null,
      "metadata": {
        "id": "-h_kP0EcCe1j"
      },
      "outputs": [],
      "source": [
        "# Apply ARIMA model\n",
        "from statsmodels.tsa.arima_model import ARIMA\n",
        "history = list(np.array([x for x in train_new]).astype('float64'))\n",
        "predictions = list()\n",
        "print(test)\n",
        "for t in test.index:\n",
        "  model = ARIMA(history, order=(1,1,1))\n",
        "  model_fit = model.fit()\n",
        "  output = model_fit.forecast()\n",
        "  yest = output[0]\n",
        "  predictions.append(yest)\n",
        "  obs= test[t]\n",
        "  history.append(obs)\n",
        "  print ('predicted=%f, expected=%f' % (yest, obs))"
      ]
    },
    {
      "cell_type": "code",
      "execution_count": null,
      "metadata": {
        "colab": {
          "base_uri": "https://localhost:8080/",
          "height": 282
        },
        "id": "llGspgKFg5Uk",
        "outputId": "545e00f7-41cd-4142-f881-5f5d6214326e"
      },
      "outputs": [],
      "source": [
        "import math\n",
        "from sklearn.metrics import mean_squared_error\n",
        "\n",
        "rmse = math.sqrt(mean_squared_error(test, predictions))\n",
        "print('Test RMSE: %.3f'% rmse)\n",
        "\n",
        "df2 = pd. DataFrame (predictions)\n",
        "df2. set_index(test.index, inplace=True)\n",
        "plt.plot(test)\n",
        "plt.plot(df2, color='red')\n",
        "plt.show()"
      ]
    },
    {
      "cell_type": "code",
      "execution_count": null,
      "metadata": {
        "colab": {
          "base_uri": "https://localhost:8080/",
          "height": 282
        },
        "id": "7NWHjStlNQyL",
        "outputId": "042b4624-a82e-44f3-d65d-45b279eb538b"
      },
      "outputs": [],
      "source": [
        "plt.plot(test)\n"
      ]
    },
    {
      "cell_type": "code",
      "execution_count": null,
      "metadata": {
        "id": "3lq2xSRwSodF"
      },
      "outputs": [],
      "source": [
        "import pickle\n",
        "pickle.dump(model_fit, open('gas-model', 'wb'))"
      ]
    }
  ],
  "metadata": {
    "colab": {
      "collapsed_sections": [],
      "name": "forecasting.ipynb",
      "provenance": []
    },
    "kernelspec": {
      "display_name": "Python 3.8.9 64-bit",
      "language": "python",
      "name": "python3"
    },
    "language_info": {
      "codemirror_mode": {
        "name": "ipython",
        "version": 3
      },
      "file_extension": ".py",
      "mimetype": "text/x-python",
      "name": "python",
      "nbconvert_exporter": "python",
      "pygments_lexer": "ipython3",
      "version": "3.8.9"
    },
    "orig_nbformat": 4,
    "vscode": {
      "interpreter": {
        "hash": "31f2aee4e71d21fbe5cf8b01ff0e069b9275f58929596ceb00d14d90e3e16cd6"
      }
    }
  },
  "nbformat": 4,
  "nbformat_minor": 0
}
