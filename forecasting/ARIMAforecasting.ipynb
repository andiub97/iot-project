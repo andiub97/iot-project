{
  "cells": [
    {
      "cell_type": "markdown",
      "metadata": {
        "id": "fo4D4Yio9KGo"
      },
      "source": [
        "# Data Forecasting"
      ]
    },
    {
      "cell_type": "markdown",
      "metadata": {
        "id": "FdkmjLaTS43k"
      },
      "source": [
        "The module is in charge of: \n",
        "- forecasting the value of temperature in the next X seconds; \n",
        "- forecasting the value of humidity in the next X seconds; \n",
        "- forecasting the value of the gas sensor in the next X seconds \n",
        "\n",
        "(X is defined by users or developers). \n",
        "\n",
        "The time-series of the predicted values must be saved on INFLUX and shown on the GRAFANA dashboard as well; e.g. by using two lines for the temperature graph, one related to raw measurements, one to predictions. One or multiple techniques for time-series forecasting can be developed and compared.\n"
      ]
    },
    {
      "cell_type": "markdown",
      "metadata": {
        "id": "ljmAefVR9MU7"
      },
      "source": [
        "## Import Dependencies"
      ]
    },
    {
      "cell_type": "code",
      "execution_count": 10,
      "metadata": {
        "id": "ok1ZYoOlX0gz"
      },
      "outputs": [],
      "source": [
        "import os\n",
        "import datetime\n",
        "import IPython\n",
        "import IPython.display\n",
        "import matplotlib as mpl\n",
        "import matplotlib.pyplot as plt\n",
        "import numpy as np\n",
        "import pandas as pd\n",
        "import seaborn as sns\n",
        "import random\n",
        "from datetime import datetime,timezone\n",
        "import dateutil.parser\n",
        "import time\n",
        "from datetime import timedelta\n",
        "from influxdb_client import InfluxDBClient, Point\n",
        "from influxdb_client.client.write_api import SYNCHRONOUS"
      ]
    },
    {
      "cell_type": "markdown",
      "metadata": {
        "id": "SaA1B6eK7OIw"
      },
      "source": [
        "# Data retrival from influx"
      ]
    },
    {
      "cell_type": "code",
      "execution_count": 2,
      "metadata": {
        "id": "5QxN6K-MeHZQ"
      },
      "outputs": [
        {
          "name": "stdout",
          "output_type": "stream",
          "text": [
            "Requirement already satisfied: influxdb_client in c:\\users\\andre\\appdata\\local\\programs\\python\\python39\\lib\\site-packages (1.31.0)\n",
            "Requirement already satisfied: urllib3>=1.26.0 in c:\\users\\andre\\appdata\\local\\programs\\python\\python39\\lib\\site-packages (from influxdb_client) (1.26.12)\n",
            "Requirement already satisfied: setuptools>=21.0.0 in c:\\users\\andre\\appdata\\local\\programs\\python\\python39\\lib\\site-packages (from influxdb_client) (57.4.0)\n",
            "Requirement already satisfied: rx>=3.0.1 in c:\\users\\andre\\appdata\\local\\programs\\python\\python39\\lib\\site-packages (from influxdb_client) (3.2.0)\n",
            "Requirement already satisfied: python-dateutil>=2.5.3 in c:\\users\\andre\\appdata\\local\\programs\\python\\python39\\lib\\site-packages (from influxdb_client) (2.8.2)\n",
            "Requirement already satisfied: certifi>=14.05.14 in c:\\users\\andre\\appdata\\local\\programs\\python\\python39\\lib\\site-packages (from influxdb_client) (2022.6.15)\n",
            "Requirement already satisfied: six>=1.5 in c:\\users\\andre\\appdata\\local\\programs\\python\\python39\\lib\\site-packages (from python-dateutil>=2.5.3->influxdb_client) (1.16.0)\n"
          ]
        },
        {
          "name": "stderr",
          "output_type": "stream",
          "text": [
            "WARNING: You are using pip version 21.2.3; however, version 22.2.2 is available.\n",
            "You should consider upgrading via the 'C:\\Users\\andre\\AppData\\Local\\Programs\\Python\\Python39\\python.exe -m pip install --upgrade pip' command.\n"
          ]
        }
      ],
      "source": [
<<<<<<< Updated upstream
        "!pip3 install influxdb_client"
=======
        "!pip3 install influxdb_client\n",
        "!pip3 install statsmodels\n",
        "!pip3 install sklearn"
>>>>>>> Stashed changes
      ]
    },
    {
      "cell_type": "code",
      "execution_count": 5,
      "metadata": {
        "id": "UzZvSAcjX0gz"
      },
      "outputs": [],
      "source": [
        "token = '0-boCREZ1XTzYhmT3RYogxFDtraRzOEZsMYNxjp0mBOWHCif47lUv2UddrAfyJUwupk33ci92-aHHFWhjv2pRg=='\n",
        "bucket = 'temperature'\n",
        "org = 'iot_group'\n",
        "client = InfluxDBClient(url=\"http://192.168.43.177:8086\", token=token, org=org)\n",
        "query_api = client.query_api()\n",
        "write_api = client.write_api(write_options=SYNCHRONOUS)"
      ]
    },
    {
      "cell_type": "code",
      "execution_count": 4,
      "metadata": {
        "id": "6Xh3QCixYHMo"
      },
      "outputs": [],
      "source": [
        "query = 'from(bucket: \"temperature\")' \\\n",
        "  '|> range(start:2022-08-10T15:00:00Z, stop:2022-09-20T15:00:00Z)'"
      ]
    },
    {
      "cell_type": "code",
      "execution_count": 5,
      "metadata": {
        "id": "RhJtyKHrYVGg"
      },
      "outputs": [],
      "source": [
        "result = client.query_api().query(org=org, query=query)"
      ]
    },
    {
      "cell_type": "markdown",
      "metadata": {
        "id": "14AWt2TjYkPR"
      },
      "source": [
        "-Exploiting the query results in order to obtain a dataframe"
      ]
    },
    {
      "cell_type": "code",
      "execution_count": 6,
      "metadata": {
        "id": "-214pYzR9GYd"
      },
      "outputs": [
        {
          "ename": "ModuleNotFoundError",
          "evalue": "No module named 'google'",
          "output_type": "error",
          "traceback": [
            "\u001b[1;31m---------------------------------------------------------------------------\u001b[0m",
            "\u001b[1;31mModuleNotFoundError\u001b[0m                       Traceback (most recent call last)",
            "\u001b[1;32md:\\uniboProjects\\iotProjects\\iot-project\\forecasting\\forecasting.ipynb Cella 11\u001b[0m in \u001b[0;36m<cell line: 1>\u001b[1;34m()\u001b[0m\n\u001b[1;32m----> <a href='vscode-notebook-cell:/d%3A/uniboProjects/iotProjects/iot-project/forecasting/forecasting.ipynb#X13sZmlsZQ%3D%3D?line=0'>1</a>\u001b[0m \u001b[39mfrom\u001b[39;00m \u001b[39mgoogle\u001b[39;00m\u001b[39m.\u001b[39;00m\u001b[39mcolab\u001b[39;00m \u001b[39mimport\u001b[39;00m drive\n\u001b[0;32m      <a href='vscode-notebook-cell:/d%3A/uniboProjects/iotProjects/iot-project/forecasting/forecasting.ipynb#X13sZmlsZQ%3D%3D?line=1'>2</a>\u001b[0m drive\u001b[39m.\u001b[39mmount(\u001b[39m'\u001b[39m\u001b[39m/content/drive\u001b[39m\u001b[39m'\u001b[39m)\n",
            "\u001b[1;31mModuleNotFoundError\u001b[0m: No module named 'google'"
          ]
        }
      ],
      "source": [
        "from google.colab import drive\n",
        "drive.mount('/content/drive')"
      ]
    },
    {
      "cell_type": "markdown",
      "metadata": {
        "id": "evQxhyZsTZ5t"
      },
      "source": [
        "## Implementation Temperature Predictor"
      ]
    },
    {
      "cell_type": "markdown",
      "metadata": {},
      "source": [
        "### ARIMA"
      ]
    },
    {
      "cell_type": "code",
      "execution_count": 61,
      "metadata": {
        "id": "2sq6vfjVaxU3"
      },
      "outputs": [
        {
          "data": {
            "text/html": [
              "<div>\n",
              "<style scoped>\n",
              "    .dataframe tbody tr th:only-of-type {\n",
              "        vertical-align: middle;\n",
              "    }\n",
              "\n",
              "    .dataframe tbody tr th {\n",
              "        vertical-align: top;\n",
              "    }\n",
              "\n",
              "    .dataframe thead th {\n",
              "        text-align: right;\n",
              "    }\n",
              "</style>\n",
              "<table border=\"1\" class=\"dataframe\">\n",
              "  <thead>\n",
              "    <tr style=\"text-align: right;\">\n",
              "      <th></th>\n",
              "      <th>result</th>\n",
              "      <th>table</th>\n",
              "      <th>_start</th>\n",
              "      <th>_stop</th>\n",
              "      <th>_time</th>\n",
              "      <th>_value</th>\n",
              "      <th>_field</th>\n",
              "      <th>_measurement</th>\n",
              "      <th>clientId</th>\n",
              "      <th>lat</th>\n",
              "      <th>lng</th>\n",
              "      <th>prediction</th>\n",
              "    </tr>\n",
              "  </thead>\n",
              "  <tbody>\n",
              "    <tr>\n",
              "      <th>0</th>\n",
              "      <td>NaN</td>\n",
              "      <td>0</td>\n",
              "      <td>2022-08-10T15:00:00Z</td>\n",
              "      <td>2022-09-20T15:00:00Z</td>\n",
              "      <td>2022-08-25T10:13:02.3585624Z</td>\n",
              "      <td>29.4</td>\n",
              "      <td>temperature</td>\n",
              "      <td>val</td>\n",
              "      <td>diubi-esp-32</td>\n",
              "      <td>42.84629</td>\n",
              "      <td>13.904817</td>\n",
              "      <td>no</td>\n",
              "    </tr>\n",
              "    <tr>\n",
              "      <th>1</th>\n",
              "      <td>NaN</td>\n",
              "      <td>0</td>\n",
              "      <td>2022-08-10T15:00:00Z</td>\n",
              "      <td>2022-09-20T15:00:00Z</td>\n",
              "      <td>2022-08-25T10:13:04.8724766Z</td>\n",
              "      <td>29.4</td>\n",
              "      <td>temperature</td>\n",
              "      <td>val</td>\n",
              "      <td>diubi-esp-32</td>\n",
              "      <td>42.84629</td>\n",
              "      <td>13.904817</td>\n",
              "      <td>no</td>\n",
              "    </tr>\n",
              "    <tr>\n",
              "      <th>2</th>\n",
              "      <td>NaN</td>\n",
              "      <td>0</td>\n",
              "      <td>2022-08-10T15:00:00Z</td>\n",
              "      <td>2022-09-20T15:00:00Z</td>\n",
              "      <td>2022-08-25T10:13:07.3884615Z</td>\n",
              "      <td>29.4</td>\n",
              "      <td>temperature</td>\n",
              "      <td>val</td>\n",
              "      <td>diubi-esp-32</td>\n",
              "      <td>42.84629</td>\n",
              "      <td>13.904817</td>\n",
              "      <td>no</td>\n",
              "    </tr>\n",
              "    <tr>\n",
              "      <th>3</th>\n",
              "      <td>NaN</td>\n",
              "      <td>0</td>\n",
              "      <td>2022-08-10T15:00:00Z</td>\n",
              "      <td>2022-09-20T15:00:00Z</td>\n",
              "      <td>2022-08-25T10:13:09.8994101Z</td>\n",
              "      <td>29.4</td>\n",
              "      <td>temperature</td>\n",
              "      <td>val</td>\n",
              "      <td>diubi-esp-32</td>\n",
              "      <td>42.84629</td>\n",
              "      <td>13.904817</td>\n",
              "      <td>no</td>\n",
              "    </tr>\n",
              "    <tr>\n",
              "      <th>4</th>\n",
              "      <td>NaN</td>\n",
              "      <td>0</td>\n",
              "      <td>2022-08-10T15:00:00Z</td>\n",
              "      <td>2022-09-20T15:00:00Z</td>\n",
              "      <td>2022-08-25T10:13:12.414701Z</td>\n",
              "      <td>29.5</td>\n",
              "      <td>temperature</td>\n",
              "      <td>val</td>\n",
              "      <td>diubi-esp-32</td>\n",
              "      <td>42.84629</td>\n",
              "      <td>13.904817</td>\n",
              "      <td>no</td>\n",
              "    </tr>\n",
              "  </tbody>\n",
              "</table>\n",
              "</div>"
            ],
            "text/plain": [
              "   result  table                _start                 _stop  \\\n",
              "0     NaN      0  2022-08-10T15:00:00Z  2022-09-20T15:00:00Z   \n",
              "1     NaN      0  2022-08-10T15:00:00Z  2022-09-20T15:00:00Z   \n",
              "2     NaN      0  2022-08-10T15:00:00Z  2022-09-20T15:00:00Z   \n",
              "3     NaN      0  2022-08-10T15:00:00Z  2022-09-20T15:00:00Z   \n",
              "4     NaN      0  2022-08-10T15:00:00Z  2022-09-20T15:00:00Z   \n",
              "\n",
              "                          _time  _value       _field _measurement  \\\n",
              "0  2022-08-25T10:13:02.3585624Z    29.4  temperature          val   \n",
              "1  2022-08-25T10:13:04.8724766Z    29.4  temperature          val   \n",
              "2  2022-08-25T10:13:07.3884615Z    29.4  temperature          val   \n",
              "3  2022-08-25T10:13:09.8994101Z    29.4  temperature          val   \n",
              "4   2022-08-25T10:13:12.414701Z    29.5  temperature          val   \n",
              "\n",
              "       clientId       lat        lng prediction  \n",
              "0  diubi-esp-32  42.84629  13.904817         no  \n",
              "1  diubi-esp-32  42.84629  13.904817         no  \n",
              "2  diubi-esp-32  42.84629  13.904817         no  \n",
              "3  diubi-esp-32  42.84629  13.904817         no  \n",
              "4  diubi-esp-32  42.84629  13.904817         no  "
            ]
          },
          "execution_count": 61,
          "metadata": {},
          "output_type": "execute_result"
        }
      ],
      "source": [
        "dataset_path = \"../datasets/temperature_dataset.csv\"\n",
        "df = pd.read_csv(dataset_path)\n",
        "df.head()"
      ]
    },
    {
      "cell_type": "code",
<<<<<<< Updated upstream
      "execution_count": 62,
      "metadata": {
        "id": "TlJhzIZua-0q"
      },
      "outputs": [
        {
          "data": {
            "text/html": [
              "<div>\n",
              "<style scoped>\n",
              "    .dataframe tbody tr th:only-of-type {\n",
              "        vertical-align: middle;\n",
              "    }\n",
              "\n",
              "    .dataframe tbody tr th {\n",
              "        vertical-align: top;\n",
              "    }\n",
              "\n",
              "    .dataframe thead th {\n",
              "        text-align: right;\n",
              "    }\n",
              "</style>\n",
              "<table border=\"1\" class=\"dataframe\">\n",
              "  <thead>\n",
              "    <tr style=\"text-align: right;\">\n",
              "      <th></th>\n",
              "      <th>result</th>\n",
              "      <th>table</th>\n",
              "      <th>_start</th>\n",
              "      <th>_stop</th>\n",
              "      <th>_time</th>\n",
              "      <th>_value</th>\n",
              "      <th>_field</th>\n",
              "      <th>_measurement</th>\n",
              "      <th>clientId</th>\n",
              "      <th>lat</th>\n",
              "      <th>lng</th>\n",
              "      <th>prediction</th>\n",
              "    </tr>\n",
              "  </thead>\n",
              "  <tbody>\n",
              "    <tr>\n",
              "      <th>0</th>\n",
              "      <td>NaN</td>\n",
              "      <td>0</td>\n",
              "      <td>2022-08-10T15:00:00Z</td>\n",
              "      <td>2022-09-20T15:00:00Z</td>\n",
              "      <td>2022-08-25T10:13:02.3585624Z</td>\n",
              "      <td>29.4</td>\n",
              "      <td>temperature</td>\n",
              "      <td>val</td>\n",
              "      <td>diubi-esp-32</td>\n",
              "      <td>42.84629</td>\n",
              "      <td>13.904817</td>\n",
              "      <td>no</td>\n",
              "    </tr>\n",
              "    <tr>\n",
              "      <th>1</th>\n",
              "      <td>NaN</td>\n",
              "      <td>0</td>\n",
              "      <td>2022-08-10T15:00:00Z</td>\n",
              "      <td>2022-09-20T15:00:00Z</td>\n",
              "      <td>2022-08-25T10:13:04.8724766Z</td>\n",
              "      <td>29.4</td>\n",
              "      <td>temperature</td>\n",
              "      <td>val</td>\n",
              "      <td>diubi-esp-32</td>\n",
              "      <td>42.84629</td>\n",
              "      <td>13.904817</td>\n",
              "      <td>no</td>\n",
              "    </tr>\n",
              "    <tr>\n",
              "      <th>2</th>\n",
              "      <td>NaN</td>\n",
              "      <td>0</td>\n",
              "      <td>2022-08-10T15:00:00Z</td>\n",
              "      <td>2022-09-20T15:00:00Z</td>\n",
              "      <td>2022-08-25T10:13:07.3884615Z</td>\n",
              "      <td>29.4</td>\n",
              "      <td>temperature</td>\n",
              "      <td>val</td>\n",
              "      <td>diubi-esp-32</td>\n",
              "      <td>42.84629</td>\n",
              "      <td>13.904817</td>\n",
              "      <td>no</td>\n",
              "    </tr>\n",
              "    <tr>\n",
              "      <th>3</th>\n",
              "      <td>NaN</td>\n",
              "      <td>0</td>\n",
              "      <td>2022-08-10T15:00:00Z</td>\n",
              "      <td>2022-09-20T15:00:00Z</td>\n",
              "      <td>2022-08-25T10:13:09.8994101Z</td>\n",
              "      <td>29.4</td>\n",
              "      <td>temperature</td>\n",
              "      <td>val</td>\n",
              "      <td>diubi-esp-32</td>\n",
              "      <td>42.84629</td>\n",
              "      <td>13.904817</td>\n",
              "      <td>no</td>\n",
              "    </tr>\n",
              "    <tr>\n",
              "      <th>4</th>\n",
              "      <td>NaN</td>\n",
              "      <td>0</td>\n",
              "      <td>2022-08-10T15:00:00Z</td>\n",
              "      <td>2022-09-20T15:00:00Z</td>\n",
              "      <td>2022-08-25T10:13:12.414701Z</td>\n",
              "      <td>29.5</td>\n",
              "      <td>temperature</td>\n",
              "      <td>val</td>\n",
              "      <td>diubi-esp-32</td>\n",
              "      <td>42.84629</td>\n",
              "      <td>13.904817</td>\n",
              "      <td>no</td>\n",
              "    </tr>\n",
              "  </tbody>\n",
              "</table>\n",
              "</div>"
            ],
            "text/plain": [
              "   result  table                _start                 _stop  \\\n",
              "0     NaN      0  2022-08-10T15:00:00Z  2022-09-20T15:00:00Z   \n",
              "1     NaN      0  2022-08-10T15:00:00Z  2022-09-20T15:00:00Z   \n",
              "2     NaN      0  2022-08-10T15:00:00Z  2022-09-20T15:00:00Z   \n",
              "3     NaN      0  2022-08-10T15:00:00Z  2022-09-20T15:00:00Z   \n",
              "4     NaN      0  2022-08-10T15:00:00Z  2022-09-20T15:00:00Z   \n",
              "\n",
              "                          _time  _value       _field _measurement  \\\n",
              "0  2022-08-25T10:13:02.3585624Z    29.4  temperature          val   \n",
              "1  2022-08-25T10:13:04.8724766Z    29.4  temperature          val   \n",
              "2  2022-08-25T10:13:07.3884615Z    29.4  temperature          val   \n",
              "3  2022-08-25T10:13:09.8994101Z    29.4  temperature          val   \n",
              "4   2022-08-25T10:13:12.414701Z    29.5  temperature          val   \n",
              "\n",
              "       clientId       lat        lng prediction  \n",
              "0  diubi-esp-32  42.84629  13.904817         no  \n",
              "1  diubi-esp-32  42.84629  13.904817         no  \n",
              "2  diubi-esp-32  42.84629  13.904817         no  \n",
              "3  diubi-esp-32  42.84629  13.904817         no  \n",
              "4  diubi-esp-32  42.84629  13.904817         no  "
            ]
          },
          "execution_count": 62,
          "metadata": {},
          "output_type": "execute_result"
        }
      ],
=======
      "execution_count": 52,
      "metadata": {},
      "outputs": [],
>>>>>>> Stashed changes
      "source": [
        "#time normalization\n",
        "for t in df['_time'].values:\n",
        "    d=dateutil.parser.parse(t)\n",
        "    aux=d.strftime('%Y-%m-%d')\n",
        "    df['_time'].replace({t:aux },inplace=True)"
      ]
    },
    {
      "cell_type": "code",
      "execution_count": null,
      "metadata": {
        "id": "LY-YYLL9bosS"
      },
      "outputs": [],
      "source": [
        "#evolution over time of our data\n",
        "plot_cols = ['_value']\n",
        "plot_features = df[plot_cols]\n",
        "plot_features.index = df['_time']\n",
        "print(df.to_string())\n",
        "_ = plot_features.plot(subplots=True)\n",
        "\n"
      ]
    },
    {
      "cell_type": "code",
      "execution_count": 64,
      "metadata": {
        "id": "U41Ppk2abxUw"
      },
      "outputs": [
        {
          "data": {
            "text/html": [
              "<div>\n",
              "<style scoped>\n",
              "    .dataframe tbody tr th:only-of-type {\n",
              "        vertical-align: middle;\n",
              "    }\n",
              "\n",
              "    .dataframe tbody tr th {\n",
              "        vertical-align: top;\n",
              "    }\n",
              "\n",
              "    .dataframe thead th {\n",
              "        text-align: right;\n",
              "    }\n",
              "</style>\n",
              "<table border=\"1\" class=\"dataframe\">\n",
              "  <thead>\n",
              "    <tr style=\"text-align: right;\">\n",
              "      <th></th>\n",
              "      <th>result</th>\n",
              "      <th>table</th>\n",
              "      <th>_value</th>\n",
              "      <th>lat</th>\n",
              "      <th>lng</th>\n",
              "    </tr>\n",
              "  </thead>\n",
              "  <tbody>\n",
              "    <tr>\n",
              "      <th>count</th>\n",
              "      <td>0.0</td>\n",
              "      <td>3637.000000</td>\n",
              "      <td>3637.000000</td>\n",
              "      <td>3.637000e+03</td>\n",
              "      <td>3.637000e+03</td>\n",
              "    </tr>\n",
              "    <tr>\n",
              "      <th>mean</th>\n",
              "      <td>NaN</td>\n",
              "      <td>0.034094</td>\n",
              "      <td>32.535771</td>\n",
              "      <td>4.284629e+01</td>\n",
              "      <td>1.390482e+01</td>\n",
              "    </tr>\n",
              "    <tr>\n",
              "      <th>std</th>\n",
              "      <td>NaN</td>\n",
              "      <td>0.181496</td>\n",
              "      <td>0.645202</td>\n",
              "      <td>7.106404e-15</td>\n",
              "      <td>1.776601e-15</td>\n",
              "    </tr>\n",
              "    <tr>\n",
              "      <th>min</th>\n",
              "      <td>NaN</td>\n",
              "      <td>0.000000</td>\n",
              "      <td>29.400000</td>\n",
              "      <td>4.284629e+01</td>\n",
              "      <td>1.390482e+01</td>\n",
              "    </tr>\n",
              "    <tr>\n",
              "      <th>25%</th>\n",
              "      <td>NaN</td>\n",
              "      <td>0.000000</td>\n",
              "      <td>32.500000</td>\n",
              "      <td>4.284629e+01</td>\n",
              "      <td>1.390482e+01</td>\n",
              "    </tr>\n",
              "    <tr>\n",
              "      <th>50%</th>\n",
              "      <td>NaN</td>\n",
              "      <td>0.000000</td>\n",
              "      <td>32.800000</td>\n",
              "      <td>4.284629e+01</td>\n",
              "      <td>1.390482e+01</td>\n",
              "    </tr>\n",
              "    <tr>\n",
              "      <th>75%</th>\n",
              "      <td>NaN</td>\n",
              "      <td>0.000000</td>\n",
              "      <td>32.900000</td>\n",
              "      <td>4.284629e+01</td>\n",
              "      <td>1.390482e+01</td>\n",
              "    </tr>\n",
              "    <tr>\n",
              "      <th>max</th>\n",
              "      <td>NaN</td>\n",
              "      <td>1.000000</td>\n",
              "      <td>33.100000</td>\n",
              "      <td>4.284629e+01</td>\n",
              "      <td>1.390482e+01</td>\n",
              "    </tr>\n",
              "  </tbody>\n",
              "</table>\n",
              "</div>"
            ],
            "text/plain": [
              "       result        table       _value           lat           lng\n",
              "count     0.0  3637.000000  3637.000000  3.637000e+03  3.637000e+03\n",
              "mean      NaN     0.034094    32.535771  4.284629e+01  1.390482e+01\n",
              "std       NaN     0.181496     0.645202  7.106404e-15  1.776601e-15\n",
              "min       NaN     0.000000    29.400000  4.284629e+01  1.390482e+01\n",
              "25%       NaN     0.000000    32.500000  4.284629e+01  1.390482e+01\n",
              "50%       NaN     0.000000    32.800000  4.284629e+01  1.390482e+01\n",
              "75%       NaN     0.000000    32.900000  4.284629e+01  1.390482e+01\n",
              "max       NaN     1.000000    33.100000  4.284629e+01  1.390482e+01"
            ]
          },
          "execution_count": 64,
          "metadata": {},
          "output_type": "execute_result"
        }
      ],
      "source": [
        "df.describe()"
      ]
    },
    {
      "cell_type": "code",
      "execution_count": 112,
      "metadata": {
        "id": "CqMVIgEGbz0-"
      },
      "outputs": [],
      "source": [
        "nrows = (len(df.values))\n",
        "splitPoint = int (nrows * 0.60)\n",
        "train = df['_value'] [:splitPoint]\n",
        "test = df ['_value'] [splitPoint:]"
      ]
    },
    {
      "cell_type": "markdown",
      "metadata": {},
      "source": [
        "## CALCOLO D\n"
      ]
    },
    {
      "cell_type": "code",
<<<<<<< Updated upstream
      "execution_count": null,
      "metadata": {},
      "outputs": [],
      "source": [
        "!pip install statsmodels"
=======
      "execution_count": 100,
      "metadata": {},
      "outputs": [
        {
          "data": {
            "image/png": "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",
            "text/plain": [
              "<Figure size 640x480 with 2 Axes>"
            ]
          },
          "metadata": {},
          "output_type": "display_data"
        }
      ],
      "source": [
        "from statsmodels.graphics. tsaplots import plot_acf\n",
        "f = plt.figure()\n",
        "ax1 = f.add_subplot(121)\n",
        "ax1.set_title('1st Order Differencing')\n",
        "ax1.plot(df[\"_value\"].diff())\n",
        "\n",
        "ax2 = f.add_subplot(122)\n",
        "plot_acf(df[\"_value\"].diff().dropna(),ax=ax2)\n",
        "plt.show()"
>>>>>>> Stashed changes
      ]
    },
    {
      "cell_type": "code",
<<<<<<< Updated upstream
      "execution_count": 66,
      "metadata": {
        "id": "u-st1hECb4EK"
      },
=======
      "execution_count": 129,
      "metadata": {},
>>>>>>> Stashed changes
      "outputs": [
        {
          "name": "stdout",
          "output_type": "stream",
          "text": [
<<<<<<< Updated upstream
            "ADF Statistic: -3.908645\n",
            "p-value: 0.001972\n"
=======
            "p-value: 0.15098194033494433\n",
            "p-value: 2.4754768762266734e-12\n",
            "p-value: 0.0\n",
            "p-value: 0.0\n"
>>>>>>> Stashed changes
          ]
        }
      ],
      "source": [
        "from statsmodels.tsa.stattools import adfuller\n",
        "result = adfuller(train.dropna())\n",
        "print(\"p-value:\" , result[1])\n",
        "result = adfuller(train.diff().dropna())\n",
        "print(\"p-value:\" , result[1])\n",
        "result = adfuller(train.diff().diff().dropna())\n",
        "print(\"p-value:\" , result[1])\n"
      ]
    },
    {
      "cell_type": "code",
<<<<<<< Updated upstream
      "execution_count": 67,
      "metadata": {
        "id": "M6bB0EK_b8Mu"
      },
      "outputs": [
        {
          "name": "stdout",
          "output_type": "stream",
          "text": [
            "ADF Statistic: -48.817876\n",
            "p-value: 0.000000\n"
          ]
        }
      ],
=======
      "execution_count": 128,
      "metadata": {},
      "outputs": [
        {
          "data": {
            "image/png": "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",
            "text/plain": [
              "<Figure size 640x480 with 2 Axes>"
            ]
          },
          "metadata": {},
          "output_type": "display_data"
        }
      ],
      "source": [
        "f = plt.figure()\n",
        "ax1 = f.add_subplot(121)\n",
        "ax1.set_title('2st Order Differencing')\n",
        "ax1.plot(train.diff().diff())\n",
        "\n",
        "ax2 = f.add_subplot(122)\n",
        "plot_acf(train.diff().diff().dropna(),ax=ax2)\n",
        "plt.show()"
      ]
    },
    {
      "cell_type": "markdown",
      "metadata": {},
>>>>>>> Stashed changes
      "source": [
        "## CALCOLO Q"
      ]
    },
    {
      "cell_type": "code",
<<<<<<< Updated upstream
      "execution_count": 68,
      "metadata": {
        "colab": {
          "base_uri": "https://localhost:8080/",
          "height": 281
        },
        "id": "l5VD-Rpgb-9c",
        "outputId": "b42be848-5f06-429e-a875-18cec2efb3e1"
      },
      "outputs": [
        {
          "data": {
            "image/png": "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",
            "text/plain": [
              "<Figure size 432x288 with 1 Axes>"
            ]
          },
          "metadata": {
            "needs_background": "light"
          },
=======
      "execution_count": 125,
      "metadata": {},
      "outputs": [
        {
          "name": "stderr",
          "output_type": "stream",
          "text": [
            "/Users/riccardobaratin/Library/Python/3.8/lib/python/site-packages/statsmodels/graphics/tsaplots.py:348: FutureWarning: The default method 'yw' can produce PACF values outside of the [-1,1] interval. After 0.13, the default will change tounadjusted Yule-Walker ('ywm'). You can use this method now by setting method='ywm'.\n",
            "  warnings.warn(\n"
          ]
        },
        {
          "data": {
            "image/png": "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",
            "text/plain": [
              "<Figure size 640x480 with 1 Axes>"
            ]
          },
          "metadata": {},
>>>>>>> Stashed changes
          "output_type": "display_data"
        }
      ],
      "source": [
<<<<<<< Updated upstream
        "from statsmodels.graphics import tsaplots\n",
        "fig = tsaplots.plot_acf(train_new,lags=10)\n",
=======
        "fig = tsaplots.plot_pacf(train.dropna(), lags=10)\n",
>>>>>>> Stashed changes
        "plt.show()"
      ]
    },
    {
      "cell_type": "code",
<<<<<<< Updated upstream
      "execution_count": 69,
=======
      "execution_count": 126,
>>>>>>> Stashed changes
      "metadata": {
        "colab": {
          "base_uri": "https://localhost:8080/",
          "height": 281
        },
        "id": "aA98K_lUcBNi",
        "outputId": "cebc7e87-3d6b-42d1-dcc5-5689c84ab0fe"
      },
      "outputs": [
        {
<<<<<<< Updated upstream
          "name": "stderr",
          "output_type": "stream",
          "text": [
            "c:\\Users\\andre\\AppData\\Local\\Programs\\Python\\Python39\\lib\\site-packages\\statsmodels\\graphics\\tsaplots.py:348: FutureWarning: The default method 'yw' can produce PACF values outside of the [-1,1] interval. After 0.13, the default will change tounadjusted Yule-Walker ('ywm'). You can use this method now by setting method='ywm'.\n",
            "  warnings.warn(\n"
          ]
        },
        {
          "data": {
            "image/png": "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",
            "text/plain": [
              "<Figure size 432x288 with 1 Axes>"
            ]
          },
          "metadata": {
            "needs_background": "light"
          },
=======
          "data": {
            "image/png": "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",
            "text/plain": [
              "<Figure size 640x480 with 1 Axes>"
            ]
          },
          "metadata": {},
          "output_type": "display_data"
        }
      ],
      "source": [
        "fig = tsaplots.plot_pacf(train.diff().dropna(), lags=10)\n",
        "plt.show()"
      ]
    },
    {
      "cell_type": "code",
      "execution_count": 127,
      "metadata": {},
      "outputs": [
        {
          "data": {
            "image/png": "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",
            "text/plain": [
              "<Figure size 640x480 with 1 Axes>"
            ]
          },
          "metadata": {},
>>>>>>> Stashed changes
          "output_type": "display_data"
        }
      ],
      "source": [
<<<<<<< Updated upstream
        "fig = tsaplots.plot_pacf(train_new, lags=10)\n",
=======
        "fig = tsaplots.plot_pacf(train.diff().diff().dropna(), lags=10)\n",
>>>>>>> Stashed changes
        "plt.show()"
      ]
    },
    {
      "cell_type": "code",
      "execution_count": null,
      "metadata": {
        "id": "NR3V2mx8d7p-"
      },
      "outputs": [],
      "source": [
        "#Step 6; Apply ARIMA model\n",
        "from statsmodels.tsa.arima.model import ARIMA\n",
        "history = [x for x in train]\n",
        "predictions = list()\n",
        "print(test)\n",
        "for t in test.index:\n",
        "  #order=(p,d,q)\n",
        "  model = ARIMA(history, order=(2,2,1))\n",
        "  model_fit = model. fit()\n",
        "  output = model_fit.forecast()\n",
        "  yest = output[0]\n",
        "  predictions.append(yest)\n",
        "  obs = test[t]\n",
        "  history.append(obs)\n",
        "  print ('predicted=%f, expected=%f' % (yest, obs))"
      ]
    },
    {
      "cell_type": "code",
<<<<<<< Updated upstream
      "execution_count": 72,
=======
      "execution_count": 86,
>>>>>>> Stashed changes
      "metadata": {
        "colab": {
          "base_uri": "https://localhost:8080/",
          "height": 282
        },
        "id": "ZKPLesOwckie",
        "outputId": "72a64881-82bf-407f-d4db-b4173062d3ad"
      },
      "outputs": [
        {
          "name": "stdout",
          "output_type": "stream",
          "text": [
<<<<<<< Updated upstream
            "Test RMSE: 0.207\n"
=======
            "Test RMSE: 0.845\n"
>>>>>>> Stashed changes
          ]
        },
        {
          "data": {
<<<<<<< Updated upstream
            "image/png": "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",
            "text/plain": [
              "<Figure size 432x288 with 1 Axes>"
            ]
          },
          "metadata": {
            "needs_background": "light"
          },
=======
            "image/png": "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",
            "text/plain": [
              "<Figure size 640x480 with 1 Axes>"
            ]
          },
          "metadata": {},
>>>>>>> Stashed changes
          "output_type": "display_data"
        }
      ],
      "source": [
        "import math\n",
        "from sklearn.metrics import mean_squared_error\n",
        "\n",
        "rmse = math.sqrt(mean_squared_error(test, predictions))\n",
        "print('Test RMSE: %.3f'% rmse)\n",
        "\n",
        "df2 = pd. DataFrame (predictions)\n",
        "df2. set_index(test.index, inplace=True)\n",
        "plt.plot(test)\n",
        "plt.plot(df2, color='red')\n",
        "plt.show()"
      ]
    },
    {
      "cell_type": "markdown",
      "metadata": {},
      "source": [
        "### Prophet"
      ]
    },
    {
      "cell_type": "code",
      "execution_count": null,
      "metadata": {},
      "outputs": [],
      "source": [
        "%pip install conda"
      ]
    },
    {
      "cell_type": "code",
      "execution_count": 25,
      "metadata": {},
      "outputs": [
        {
          "name": "stdout",
          "output_type": "stream",
          "text": [
            "Note: you may need to restart the kernel to use updated packages.\n"
          ]
        },
        {
          "name": "stderr",
          "output_type": "stream",
          "text": [
            "ERROR: unknown command \"conda\"\n",
            "\n"
          ]
        }
      ],
      "source": [
        "%pip conda install -c conda-forge fbprophet -y"
      ]
    },
    {
      "cell_type": "code",
      "execution_count": 27,
      "metadata": {},
      "outputs": [
        {
          "name": "stdout",
          "output_type": "stream",
          "text": [
            "Requirement already satisfied: plotly in c:\\users\\andre\\appdata\\local\\programs\\python\\python39\\lib\\site-packages (5.10.0)\n",
            "Requirement already satisfied: tenacity>=6.2.0 in c:\\users\\andre\\appdata\\local\\programs\\python\\python39\\lib\\site-packages (from plotly) (8.0.1)\n"
          ]
        },
        {
          "name": "stderr",
          "output_type": "stream",
          "text": [
            "WARNING: You are using pip version 21.2.3; however, version 22.2.2 is available.\n",
            "You should consider upgrading via the 'C:\\Users\\andre\\AppData\\Local\\Programs\\Python\\Python39\\python.exe -m pip install --upgrade pip' command.\n"
          ]
        }
      ],
      "source": [
        "!pip install --upgrade plotly"
      ]
    },
    {
      "cell_type": "code",
      "execution_count": 28,
      "metadata": {},
      "outputs": [],
      "source": [
        "import pandas as pd\n",
        "import matplotlib.pyplot as plt\n",
        "import datetime as datetime\n",
        "from prophet import Prophet"
      ]
    },
    {
      "cell_type": "code",
      "execution_count": 29,
      "metadata": {},
      "outputs": [],
      "source": [
        "model_params = {\"daily_seasonality\": False, \"weekly_seasonality\": False, \"yearly_seasonality\": True, \"seasonality_mode\": \"multiplicative\", \"growth\": \"logistic\"}"
      ]
    },
    {
      "cell_type": "code",
      "execution_count": 30,
      "metadata": {},
      "outputs": [
        {
          "ename": "ValueError",
          "evalue": "Parameter \"growth\" should be \"linear\", \"logistic\" or \"flat\".",
          "output_type": "error",
          "traceback": [
            "\u001b[1;31m---------------------------------------------------------------------------\u001b[0m",
            "\u001b[1;31mValueError\u001b[0m                                Traceback (most recent call last)",
            "\u001b[1;32md:\\uniboProjects\\iotProjects\\iot-project\\forecasting\\forecasting.ipynb Cella 32\u001b[0m in \u001b[0;36m<cell line: 1>\u001b[1;34m()\u001b[0m\n\u001b[1;32m----> <a href='vscode-notebook-cell:/d%3A/uniboProjects/iotProjects/iot-project/forecasting/forecasting.ipynb#Y115sZmlsZQ%3D%3D?line=0'>1</a>\u001b[0m model \u001b[39m=\u001b[39m Prophet(model_params)\n",
            "File \u001b[1;32mc:\\Users\\andre\\AppData\\Local\\Programs\\Python\\Python39\\lib\\site-packages\\prophet\\forecaster.py:140\u001b[0m, in \u001b[0;36mProphet.__init__\u001b[1;34m(self, growth, changepoints, n_changepoints, changepoint_range, yearly_seasonality, weekly_seasonality, daily_seasonality, holidays, seasonality_mode, seasonality_prior_scale, holidays_prior_scale, changepoint_prior_scale, mcmc_samples, interval_width, uncertainty_samples, stan_backend)\u001b[0m\n\u001b[0;32m    138\u001b[0m \u001b[39mself\u001b[39m\u001b[39m.\u001b[39mtrain_holiday_names \u001b[39m=\u001b[39m \u001b[39mNone\u001b[39;00m\n\u001b[0;32m    139\u001b[0m \u001b[39mself\u001b[39m\u001b[39m.\u001b[39mfit_kwargs \u001b[39m=\u001b[39m {}\n\u001b[1;32m--> 140\u001b[0m \u001b[39mself\u001b[39;49m\u001b[39m.\u001b[39;49mvalidate_inputs()\n\u001b[0;32m    141\u001b[0m \u001b[39mself\u001b[39m\u001b[39m.\u001b[39m_load_stan_backend(stan_backend)\n",
            "File \u001b[1;32mc:\\Users\\andre\\AppData\\Local\\Programs\\Python\\Python39\\lib\\site-packages\\prophet\\forecaster.py:159\u001b[0m, in \u001b[0;36mProphet.validate_inputs\u001b[1;34m(self)\u001b[0m\n\u001b[0;32m    157\u001b[0m \u001b[39m\"\"\"Validates the inputs to Prophet.\"\"\"\u001b[39;00m\n\u001b[0;32m    158\u001b[0m \u001b[39mif\u001b[39;00m \u001b[39mself\u001b[39m\u001b[39m.\u001b[39mgrowth \u001b[39mnot\u001b[39;00m \u001b[39min\u001b[39;00m (\u001b[39m'\u001b[39m\u001b[39mlinear\u001b[39m\u001b[39m'\u001b[39m, \u001b[39m'\u001b[39m\u001b[39mlogistic\u001b[39m\u001b[39m'\u001b[39m, \u001b[39m'\u001b[39m\u001b[39mflat\u001b[39m\u001b[39m'\u001b[39m):\n\u001b[1;32m--> 159\u001b[0m     \u001b[39mraise\u001b[39;00m \u001b[39mValueError\u001b[39;00m(\n\u001b[0;32m    160\u001b[0m         \u001b[39m'\u001b[39m\u001b[39mParameter \u001b[39m\u001b[39m\"\u001b[39m\u001b[39mgrowth\u001b[39m\u001b[39m\"\u001b[39m\u001b[39m should be \u001b[39m\u001b[39m\"\u001b[39m\u001b[39mlinear\u001b[39m\u001b[39m\"\u001b[39m\u001b[39m, \u001b[39m\u001b[39m\"\u001b[39m\u001b[39mlogistic\u001b[39m\u001b[39m\"\u001b[39m\u001b[39m or \u001b[39m\u001b[39m\"\u001b[39m\u001b[39mflat\u001b[39m\u001b[39m\"\u001b[39m\u001b[39m.\u001b[39m\u001b[39m'\u001b[39m)\n\u001b[0;32m    161\u001b[0m \u001b[39mif\u001b[39;00m ((\u001b[39mself\u001b[39m\u001b[39m.\u001b[39mchangepoint_range \u001b[39m<\u001b[39m \u001b[39m0\u001b[39m) \u001b[39mor\u001b[39;00m (\u001b[39mself\u001b[39m\u001b[39m.\u001b[39mchangepoint_range \u001b[39m>\u001b[39m \u001b[39m1\u001b[39m)):\n\u001b[0;32m    162\u001b[0m     \u001b[39mraise\u001b[39;00m \u001b[39mValueError\u001b[39;00m(\u001b[39m'\u001b[39m\u001b[39mParameter \u001b[39m\u001b[39m\"\u001b[39m\u001b[39mchangepoint_range\u001b[39m\u001b[39m\"\u001b[39m\u001b[39m must be in [0, 1]\u001b[39m\u001b[39m'\u001b[39m)\n",
            "\u001b[1;31mValueError\u001b[0m: Parameter \"growth\" should be \"linear\", \"logistic\" or \"flat\"."
          ]
        }
      ],
      "source": [
        "model = Prophet(model_params)"
      ]
    },
    {
      "cell_type": "code",
      "execution_count": null,
      "metadata": {},
      "outputs": [],
      "source": [
        "model.plot_components(forecast)\n",
        "model.plot(forecast)"
      ]
    },
    {
      "cell_type": "markdown",
      "metadata": {
        "id": "F_Ihy7o9TdE7"
      },
      "source": [
        "## Implementation Humidity Predictor"
      ]
    },
    {
      "cell_type": "code",
      "execution_count": 76,
      "metadata": {},
      "outputs": [
        {
          "ename": "TypeError",
          "evalue": "a bytes-like object is required, not 'str'",
          "output_type": "error",
          "traceback": [
            "\u001b[0;31m---------------------------------------------------------------------------\u001b[0m",
            "\u001b[0;31mTypeError\u001b[0m                                 Traceback (most recent call last)",
            "\u001b[1;32m/Users/riccardobaratin/Documents/GitHub/iot-project/forecasting/ARIMAforecasting.ipynb Cella 25\u001b[0m in \u001b[0;36m<cell line: 2>\u001b[0;34m()\u001b[0m\n\u001b[1;32m      <a href='vscode-notebook-cell:/Users/riccardobaratin/Documents/GitHub/iot-project/forecasting/ARIMAforecasting.ipynb#Y121sZmlsZQ%3D%3D?line=4'>5</a>\u001b[0m \u001b[39mfor\u001b[39;00m row \u001b[39min\u001b[39;00m reader:\n\u001b[1;32m      <a href='vscode-notebook-cell:/Users/riccardobaratin/Documents/GitHub/iot-project/forecasting/ARIMAforecasting.ipynb#Y121sZmlsZQ%3D%3D?line=5'>6</a>\u001b[0m     \u001b[39mif\u001b[39;00m row[\u001b[39m0\u001b[39m] \u001b[39m==\u001b[39m \u001b[39m\"\u001b[39m\u001b[39mLambrate\u001b[39m\u001b[39m\"\u001b[39m:\n\u001b[0;32m----> <a href='vscode-notebook-cell:/Users/riccardobaratin/Documents/GitHub/iot-project/forecasting/ARIMAforecasting.ipynb#Y121sZmlsZQ%3D%3D?line=6'>7</a>\u001b[0m         writer\u001b[39m.\u001b[39;49mwriterow(row)\n",
            "\u001b[0;31mTypeError\u001b[0m: a bytes-like object is required, not 'str'"
          ]
        }
      ],
      "source": [
        "import csv\n",
        "with open('../datasets/humidity_dataset.csv', 'r') as inp, open('../datasets/humidity_dataset_clean.csv', 'wb') as out:\n",
        "    writer = csv.writer(out)\n",
        "    reader = csv.reader(inp) \n",
        "    for row in reader:\n",
        "        if row[0] == \"Lambrate\":\n",
        "            writer.writerow(row.encode('utf-8'))"
      ]
    },
    {
      "cell_type": "code",
      "execution_count": null,
      "metadata": {
        "colab": {
          "base_uri": "https://localhost:8080/",
          "height": 204
        },
        "id": "Trmw6Jegekg-",
        "outputId": "26b37b2b-5c09-477e-8db1-865145b0b1c8"
      },
      "outputs": [
        {
          "data": {
            "text/html": [
              "\n",
              "  <div id=\"df-c306852b-7769-4551-b2bb-20a1534dba96\">\n",
              "    <div class=\"colab-df-container\">\n",
              "      <div>\n",
              "<style scoped>\n",
              "    .dataframe tbody tr th:only-of-type {\n",
              "        vertical-align: middle;\n",
              "    }\n",
              "\n",
              "    .dataframe tbody tr th {\n",
              "        vertical-align: top;\n",
              "    }\n",
              "\n",
              "    .dataframe thead th {\n",
              "        text-align: right;\n",
              "    }\n",
              "</style>\n",
              "<table border=\"1\" class=\"dataframe\">\n",
              "  <thead>\n",
              "    <tr style=\"text-align: right;\">\n",
              "      <th></th>\n",
              "      <th>409151bfa0cc</th>\n",
              "      <th>409151bfa0cc.1</th>\n",
              "    </tr>\n",
              "  </thead>\n",
              "  <tbody>\n",
              "    <tr>\n",
              "      <th>0</th>\n",
              "      <td>2022-06-05 23:03:12</td>\n",
              "      <td>49.9</td>\n",
              "    </tr>\n",
              "    <tr>\n",
              "      <th>1</th>\n",
              "      <td>2022-06-05 23:03:15</td>\n",
              "      <td>49.9</td>\n",
              "    </tr>\n",
              "    <tr>\n",
              "      <th>2</th>\n",
              "      <td>2022-06-05 23:03:17</td>\n",
              "      <td>49.9</td>\n",
              "    </tr>\n",
              "    <tr>\n",
              "      <th>3</th>\n",
              "      <td>2022-06-05 23:03:20</td>\n",
              "      <td>49.8</td>\n",
              "    </tr>\n",
              "    <tr>\n",
              "      <th>4</th>\n",
              "      <td>2022-06-05 23:03:22</td>\n",
              "      <td>49.8</td>\n",
              "    </tr>\n",
              "  </tbody>\n",
              "</table>\n",
              "</div>\n",
              "      <button class=\"colab-df-convert\" onclick=\"convertToInteractive('df-c306852b-7769-4551-b2bb-20a1534dba96')\"\n",
              "              title=\"Convert this dataframe to an interactive table.\"\n",
              "              style=\"display:none;\">\n",
              "        \n",
              "  <svg xmlns=\"http://www.w3.org/2000/svg\" height=\"24px\"viewBox=\"0 0 24 24\"\n",
              "       width=\"24px\">\n",
              "    <path d=\"M0 0h24v24H0V0z\" fill=\"none\"/>\n",
              "    <path d=\"M18.56 5.44l.94 2.06.94-2.06 2.06-.94-2.06-.94-.94-2.06-.94 2.06-2.06.94zm-11 1L8.5 8.5l.94-2.06 2.06-.94-2.06-.94L8.5 2.5l-.94 2.06-2.06.94zm10 10l.94 2.06.94-2.06 2.06-.94-2.06-.94-.94-2.06-.94 2.06-2.06.94z\"/><path d=\"M17.41 7.96l-1.37-1.37c-.4-.4-.92-.59-1.43-.59-.52 0-1.04.2-1.43.59L10.3 9.45l-7.72 7.72c-.78.78-.78 2.05 0 2.83L4 21.41c.39.39.9.59 1.41.59.51 0 1.02-.2 1.41-.59l7.78-7.78 2.81-2.81c.8-.78.8-2.07 0-2.86zM5.41 20L4 18.59l7.72-7.72 1.47 1.35L5.41 20z\"/>\n",
              "  </svg>\n",
              "      </button>\n",
              "      \n",
              "  <style>\n",
              "    .colab-df-container {\n",
              "      display:flex;\n",
              "      flex-wrap:wrap;\n",
              "      gap: 12px;\n",
              "    }\n",
              "\n",
              "    .colab-df-convert {\n",
              "      background-color: #E8F0FE;\n",
              "      border: none;\n",
              "      border-radius: 50%;\n",
              "      cursor: pointer;\n",
              "      display: none;\n",
              "      fill: #1967D2;\n",
              "      height: 32px;\n",
              "      padding: 0 0 0 0;\n",
              "      width: 32px;\n",
              "    }\n",
              "\n",
              "    .colab-df-convert:hover {\n",
              "      background-color: #E2EBFA;\n",
              "      box-shadow: 0px 1px 2px rgba(60, 64, 67, 0.3), 0px 1px 3px 1px rgba(60, 64, 67, 0.15);\n",
              "      fill: #174EA6;\n",
              "    }\n",
              "\n",
              "    [theme=dark] .colab-df-convert {\n",
              "      background-color: #3B4455;\n",
              "      fill: #D2E3FC;\n",
              "    }\n",
              "\n",
              "    [theme=dark] .colab-df-convert:hover {\n",
              "      background-color: #434B5C;\n",
              "      box-shadow: 0px 1px 3px 1px rgba(0, 0, 0, 0.15);\n",
              "      filter: drop-shadow(0px 1px 2px rgba(0, 0, 0, 0.3));\n",
              "      fill: #FFFFFF;\n",
              "    }\n",
              "  </style>\n",
              "\n",
              "      <script>\n",
              "        const buttonEl =\n",
              "          document.querySelector('#df-c306852b-7769-4551-b2bb-20a1534dba96 button.colab-df-convert');\n",
              "        buttonEl.style.display =\n",
              "          google.colab.kernel.accessAllowed ? 'block' : 'none';\n",
              "\n",
              "        async function convertToInteractive(key) {\n",
              "          const element = document.querySelector('#df-c306852b-7769-4551-b2bb-20a1534dba96');\n",
              "          const dataTable =\n",
              "            await google.colab.kernel.invokeFunction('convertToInteractive',\n",
              "                                                     [key], {});\n",
              "          if (!dataTable) return;\n",
              "\n",
              "          const docLinkHtml = 'Like what you see? Visit the ' +\n",
              "            '<a target=\"_blank\" href=https://colab.research.google.com/notebooks/data_table.ipynb>data table notebook</a>'\n",
              "            + ' to learn more about interactive tables.';\n",
              "          element.innerHTML = '';\n",
              "          dataTable['output_type'] = 'display_data';\n",
              "          await google.colab.output.renderOutput(dataTable, element);\n",
              "          const docLink = document.createElement('div');\n",
              "          docLink.innerHTML = docLinkHtml;\n",
              "          element.appendChild(docLink);\n",
              "        }\n",
              "      </script>\n",
              "    </div>\n",
              "  </div>\n",
              "  "
            ],
            "text/plain": [
              "          409151bfa0cc  409151bfa0cc.1\n",
              "0  2022-06-05 23:03:12            49.9\n",
              "1  2022-06-05 23:03:15            49.9\n",
              "2  2022-06-05 23:03:17            49.9\n",
              "3  2022-06-05 23:03:20            49.8\n",
              "4  2022-06-05 23:03:22            49.8"
            ]
          },
          "execution_count": 130,
          "metadata": {},
          "output_type": "execute_result"
        }
      ],
      "source": [
        "\n",
        "dataset_path = \"/content/drive/MyDrive/Datasets/Forecasting/hum.csv\"\n",
        "df = pd.read_csv(dataset_path)\n",
        "df.head()"
      ]
    },
    {
      "cell_type": "code",
      "execution_count": null,
      "metadata": {
        "colab": {
          "base_uri": "https://localhost:8080/",
          "height": 204
        },
        "id": "vuFtYoXPfP8m",
        "outputId": "1e2f74af-4094-4e88-86cf-d85396588ae9"
      },
      "outputs": [
        {
          "data": {
            "text/html": [
              "\n",
              "  <div id=\"df-4a9930d6-7dfb-45e5-aae4-ade0e875a18c\">\n",
              "    <div class=\"colab-df-container\">\n",
              "      <div>\n",
              "<style scoped>\n",
              "    .dataframe tbody tr th:only-of-type {\n",
              "        vertical-align: middle;\n",
              "    }\n",
              "\n",
              "    .dataframe tbody tr th {\n",
              "        vertical-align: top;\n",
              "    }\n",
              "\n",
              "    .dataframe thead th {\n",
              "        text-align: right;\n",
              "    }\n",
              "</style>\n",
              "<table border=\"1\" class=\"dataframe\">\n",
              "  <thead>\n",
              "    <tr style=\"text-align: right;\">\n",
              "      <th></th>\n",
              "      <th>time</th>\n",
              "      <th>y</th>\n",
              "    </tr>\n",
              "  </thead>\n",
              "  <tbody>\n",
              "    <tr>\n",
              "      <th>0</th>\n",
              "      <td>2022-06-05 23:03:12</td>\n",
              "      <td>49.9</td>\n",
              "    </tr>\n",
              "    <tr>\n",
              "      <th>1</th>\n",
              "      <td>2022-06-05 23:03:15</td>\n",
              "      <td>49.9</td>\n",
              "    </tr>\n",
              "    <tr>\n",
              "      <th>2</th>\n",
              "      <td>2022-06-05 23:03:17</td>\n",
              "      <td>49.9</td>\n",
              "    </tr>\n",
              "    <tr>\n",
              "      <th>3</th>\n",
              "      <td>2022-06-05 23:03:20</td>\n",
              "      <td>49.8</td>\n",
              "    </tr>\n",
              "    <tr>\n",
              "      <th>4</th>\n",
              "      <td>2022-06-05 23:03:22</td>\n",
              "      <td>49.8</td>\n",
              "    </tr>\n",
              "  </tbody>\n",
              "</table>\n",
              "</div>\n",
              "      <button class=\"colab-df-convert\" onclick=\"convertToInteractive('df-4a9930d6-7dfb-45e5-aae4-ade0e875a18c')\"\n",
              "              title=\"Convert this dataframe to an interactive table.\"\n",
              "              style=\"display:none;\">\n",
              "        \n",
              "  <svg xmlns=\"http://www.w3.org/2000/svg\" height=\"24px\"viewBox=\"0 0 24 24\"\n",
              "       width=\"24px\">\n",
              "    <path d=\"M0 0h24v24H0V0z\" fill=\"none\"/>\n",
              "    <path d=\"M18.56 5.44l.94 2.06.94-2.06 2.06-.94-2.06-.94-.94-2.06-.94 2.06-2.06.94zm-11 1L8.5 8.5l.94-2.06 2.06-.94-2.06-.94L8.5 2.5l-.94 2.06-2.06.94zm10 10l.94 2.06.94-2.06 2.06-.94-2.06-.94-.94-2.06-.94 2.06-2.06.94z\"/><path d=\"M17.41 7.96l-1.37-1.37c-.4-.4-.92-.59-1.43-.59-.52 0-1.04.2-1.43.59L10.3 9.45l-7.72 7.72c-.78.78-.78 2.05 0 2.83L4 21.41c.39.39.9.59 1.41.59.51 0 1.02-.2 1.41-.59l7.78-7.78 2.81-2.81c.8-.78.8-2.07 0-2.86zM5.41 20L4 18.59l7.72-7.72 1.47 1.35L5.41 20z\"/>\n",
              "  </svg>\n",
              "      </button>\n",
              "      \n",
              "  <style>\n",
              "    .colab-df-container {\n",
              "      display:flex;\n",
              "      flex-wrap:wrap;\n",
              "      gap: 12px;\n",
              "    }\n",
              "\n",
              "    .colab-df-convert {\n",
              "      background-color: #E8F0FE;\n",
              "      border: none;\n",
              "      border-radius: 50%;\n",
              "      cursor: pointer;\n",
              "      display: none;\n",
              "      fill: #1967D2;\n",
              "      height: 32px;\n",
              "      padding: 0 0 0 0;\n",
              "      width: 32px;\n",
              "    }\n",
              "\n",
              "    .colab-df-convert:hover {\n",
              "      background-color: #E2EBFA;\n",
              "      box-shadow: 0px 1px 2px rgba(60, 64, 67, 0.3), 0px 1px 3px 1px rgba(60, 64, 67, 0.15);\n",
              "      fill: #174EA6;\n",
              "    }\n",
              "\n",
              "    [theme=dark] .colab-df-convert {\n",
              "      background-color: #3B4455;\n",
              "      fill: #D2E3FC;\n",
              "    }\n",
              "\n",
              "    [theme=dark] .colab-df-convert:hover {\n",
              "      background-color: #434B5C;\n",
              "      box-shadow: 0px 1px 3px 1px rgba(0, 0, 0, 0.15);\n",
              "      filter: drop-shadow(0px 1px 2px rgba(0, 0, 0, 0.3));\n",
              "      fill: #FFFFFF;\n",
              "    }\n",
              "  </style>\n",
              "\n",
              "      <script>\n",
              "        const buttonEl =\n",
              "          document.querySelector('#df-4a9930d6-7dfb-45e5-aae4-ade0e875a18c button.colab-df-convert');\n",
              "        buttonEl.style.display =\n",
              "          google.colab.kernel.accessAllowed ? 'block' : 'none';\n",
              "\n",
              "        async function convertToInteractive(key) {\n",
              "          const element = document.querySelector('#df-4a9930d6-7dfb-45e5-aae4-ade0e875a18c');\n",
              "          const dataTable =\n",
              "            await google.colab.kernel.invokeFunction('convertToInteractive',\n",
              "                                                     [key], {});\n",
              "          if (!dataTable) return;\n",
              "\n",
              "          const docLinkHtml = 'Like what you see? Visit the ' +\n",
              "            '<a target=\"_blank\" href=https://colab.research.google.com/notebooks/data_table.ipynb>data table notebook</a>'\n",
              "            + ' to learn more about interactive tables.';\n",
              "          element.innerHTML = '';\n",
              "          dataTable['output_type'] = 'display_data';\n",
              "          await google.colab.output.renderOutput(dataTable, element);\n",
              "          const docLink = document.createElement('div');\n",
              "          docLink.innerHTML = docLinkHtml;\n",
              "          element.appendChild(docLink);\n",
              "        }\n",
              "      </script>\n",
              "    </div>\n",
              "  </div>\n",
              "  "
            ],
            "text/plain": [
              "                  time     y\n",
              "0  2022-06-05 23:03:12  49.9\n",
              "1  2022-06-05 23:03:15  49.9\n",
              "2  2022-06-05 23:03:17  49.9\n",
              "3  2022-06-05 23:03:20  49.8\n",
              "4  2022-06-05 23:03:22  49.8"
            ]
          },
          "execution_count": 131,
          "metadata": {},
          "output_type": "execute_result"
        }
      ],
      "source": [
        "df = df.rename(columns={\"409151bfa0cc\" : 'time', \"409151bfa0cc.1\" : 'y'})\n",
        "df.head()"
      ]
    },
    {
      "cell_type": "code",
      "execution_count": null,
      "metadata": {
        "colab": {
          "base_uri": "https://localhost:8080/",
          "height": 265
        },
        "id": "iwdHubMqfWP_",
        "outputId": "636d6690-f96a-4fbb-a6e9-aacb57c7037f"
      },
      "outputs": [
        {
          "data": {
            "image/png": "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",
            "text/plain": [
              "<Figure size 432x288 with 1 Axes>"
            ]
          },
          "metadata": {
            "needs_background": "light"
          },
          "output_type": "display_data"
        }
      ],
      "source": [
        "#evolution over time of our data\n",
        "plot_cols = ['y']\n",
        "plot_features = df[plot_cols]\n",
        "_ = plot_features.plot(subplots=True)"
      ]
    },
    {
      "cell_type": "code",
      "execution_count": null,
      "metadata": {
        "colab": {
          "base_uri": "https://localhost:8080/",
          "height": 80
        },
        "id": "ZoMhX28wffSo",
        "outputId": "88269a87-8120-4162-a5df-e15612d84904"
      },
      "outputs": [
        {
          "data": {
            "text/html": [
              "\n",
              "  <div id=\"df-c9760789-77ba-4458-8099-60a89df958db\">\n",
              "    <div class=\"colab-df-container\">\n",
              "      <div>\n",
              "<style scoped>\n",
              "    .dataframe tbody tr th:only-of-type {\n",
              "        vertical-align: middle;\n",
              "    }\n",
              "\n",
              "    .dataframe tbody tr th {\n",
              "        vertical-align: top;\n",
              "    }\n",
              "\n",
              "    .dataframe thead th {\n",
              "        text-align: right;\n",
              "    }\n",
              "</style>\n",
              "<table border=\"1\" class=\"dataframe\">\n",
              "  <thead>\n",
              "    <tr style=\"text-align: right;\">\n",
              "      <th></th>\n",
              "      <th>count</th>\n",
              "      <th>mean</th>\n",
              "      <th>std</th>\n",
              "      <th>min</th>\n",
              "      <th>25%</th>\n",
              "      <th>50%</th>\n",
              "      <th>75%</th>\n",
              "      <th>max</th>\n",
              "    </tr>\n",
              "  </thead>\n",
              "  <tbody>\n",
              "    <tr>\n",
              "      <th>y</th>\n",
              "      <td>118.0</td>\n",
              "      <td>47.049153</td>\n",
              "      <td>1.572344</td>\n",
              "      <td>45.2</td>\n",
              "      <td>45.825</td>\n",
              "      <td>46.45</td>\n",
              "      <td>48.425</td>\n",
              "      <td>50.0</td>\n",
              "    </tr>\n",
              "  </tbody>\n",
              "</table>\n",
              "</div>\n",
              "      <button class=\"colab-df-convert\" onclick=\"convertToInteractive('df-c9760789-77ba-4458-8099-60a89df958db')\"\n",
              "              title=\"Convert this dataframe to an interactive table.\"\n",
              "              style=\"display:none;\">\n",
              "        \n",
              "  <svg xmlns=\"http://www.w3.org/2000/svg\" height=\"24px\"viewBox=\"0 0 24 24\"\n",
              "       width=\"24px\">\n",
              "    <path d=\"M0 0h24v24H0V0z\" fill=\"none\"/>\n",
              "    <path d=\"M18.56 5.44l.94 2.06.94-2.06 2.06-.94-2.06-.94-.94-2.06-.94 2.06-2.06.94zm-11 1L8.5 8.5l.94-2.06 2.06-.94-2.06-.94L8.5 2.5l-.94 2.06-2.06.94zm10 10l.94 2.06.94-2.06 2.06-.94-2.06-.94-.94-2.06-.94 2.06-2.06.94z\"/><path d=\"M17.41 7.96l-1.37-1.37c-.4-.4-.92-.59-1.43-.59-.52 0-1.04.2-1.43.59L10.3 9.45l-7.72 7.72c-.78.78-.78 2.05 0 2.83L4 21.41c.39.39.9.59 1.41.59.51 0 1.02-.2 1.41-.59l7.78-7.78 2.81-2.81c.8-.78.8-2.07 0-2.86zM5.41 20L4 18.59l7.72-7.72 1.47 1.35L5.41 20z\"/>\n",
              "  </svg>\n",
              "      </button>\n",
              "      \n",
              "  <style>\n",
              "    .colab-df-container {\n",
              "      display:flex;\n",
              "      flex-wrap:wrap;\n",
              "      gap: 12px;\n",
              "    }\n",
              "\n",
              "    .colab-df-convert {\n",
              "      background-color: #E8F0FE;\n",
              "      border: none;\n",
              "      border-radius: 50%;\n",
              "      cursor: pointer;\n",
              "      display: none;\n",
              "      fill: #1967D2;\n",
              "      height: 32px;\n",
              "      padding: 0 0 0 0;\n",
              "      width: 32px;\n",
              "    }\n",
              "\n",
              "    .colab-df-convert:hover {\n",
              "      background-color: #E2EBFA;\n",
              "      box-shadow: 0px 1px 2px rgba(60, 64, 67, 0.3), 0px 1px 3px 1px rgba(60, 64, 67, 0.15);\n",
              "      fill: #174EA6;\n",
              "    }\n",
              "\n",
              "    [theme=dark] .colab-df-convert {\n",
              "      background-color: #3B4455;\n",
              "      fill: #D2E3FC;\n",
              "    }\n",
              "\n",
              "    [theme=dark] .colab-df-convert:hover {\n",
              "      background-color: #434B5C;\n",
              "      box-shadow: 0px 1px 3px 1px rgba(0, 0, 0, 0.15);\n",
              "      filter: drop-shadow(0px 1px 2px rgba(0, 0, 0, 0.3));\n",
              "      fill: #FFFFFF;\n",
              "    }\n",
              "  </style>\n",
              "\n",
              "      <script>\n",
              "        const buttonEl =\n",
              "          document.querySelector('#df-c9760789-77ba-4458-8099-60a89df958db button.colab-df-convert');\n",
              "        buttonEl.style.display =\n",
              "          google.colab.kernel.accessAllowed ? 'block' : 'none';\n",
              "\n",
              "        async function convertToInteractive(key) {\n",
              "          const element = document.querySelector('#df-c9760789-77ba-4458-8099-60a89df958db');\n",
              "          const dataTable =\n",
              "            await google.colab.kernel.invokeFunction('convertToInteractive',\n",
              "                                                     [key], {});\n",
              "          if (!dataTable) return;\n",
              "\n",
              "          const docLinkHtml = 'Like what you see? Visit the ' +\n",
              "            '<a target=\"_blank\" href=https://colab.research.google.com/notebooks/data_table.ipynb>data table notebook</a>'\n",
              "            + ' to learn more about interactive tables.';\n",
              "          element.innerHTML = '';\n",
              "          dataTable['output_type'] = 'display_data';\n",
              "          await google.colab.output.renderOutput(dataTable, element);\n",
              "          const docLink = document.createElement('div');\n",
              "          docLink.innerHTML = docLinkHtml;\n",
              "          element.appendChild(docLink);\n",
              "        }\n",
              "      </script>\n",
              "    </div>\n",
              "  </div>\n",
              "  "
            ],
            "text/plain": [
              "   count       mean       std   min     25%    50%     75%   max\n",
              "y  118.0  47.049153  1.572344  45.2  45.825  46.45  48.425  50.0"
            ]
          },
          "execution_count": 133,
          "metadata": {},
          "output_type": "execute_result"
        }
      ],
      "source": [
        "df.describe().transpose()"
      ]
    },
    {
      "cell_type": "code",
      "execution_count": null,
      "metadata": {
        "id": "_C4w_3Uej10C"
      },
      "outputs": [],
      "source": [
        "nrows = (len(df.values))\n",
        "splitPoint = int (nrows * 0.60)\n",
        "train = df['y'] [:splitPoint]\n",
        "test = df ['y'] [splitPoint:]"
      ]
    },
    {
      "cell_type": "code",
      "execution_count": null,
      "metadata": {
        "colab": {
          "base_uri": "https://localhost:8080/"
        },
        "id": "bQ7PkTNtfud_",
        "outputId": "b7c9a5c2-9db9-4633-bbab-1b3a2c9e1274"
      },
      "outputs": [
        {
          "name": "stdout",
          "output_type": "stream",
          "text": [
            "ADF Statistic: -1.015842\n",
            "p-value: 0.747443\n"
          ]
        }
      ],
      "source": [
        " # Check whether the time-series is stationary through the Dickey-Fuller test\n",
        "from statsmodels.tsa.stattools import adfuller\n",
        "result = adfuller(train)\n",
        "\n",
        "print('ADF Statistic: %f' % result[0])\n",
        "print('p-value: %f' % result[1])"
      ]
    },
    {
      "cell_type": "code",
      "execution_count": null,
      "metadata": {
        "colab": {
          "base_uri": "https://localhost:8080/"
        },
        "id": "5rNoUdguf9LH",
        "outputId": "cad1a9fa-0b81-485e-af8a-6b57477dbd63"
      },
      "outputs": [
        {
          "name": "stdout",
          "output_type": "stream",
          "text": [
            "ADF Statistic: -4.107289\n",
            "p-value: 0.000942\n"
          ]
        }
      ],
      "source": [
        "train_new = train.diff().dropna()\n",
        "result = adfuller(train_new)\n",
        "print('ADF Statistic: %f' % result[0])\n",
        "print('p-value: %f' % result[1])"
      ]
    },
    {
      "cell_type": "code",
      "execution_count": null,
      "metadata": {
        "colab": {
          "base_uri": "https://localhost:8080/",
          "height": 281
        },
        "id": "TvvIGGvDiAa2",
        "outputId": "3f83e1e5-db0a-478a-d8c4-be0510819680"
      },
      "outputs": [
        {
          "data": {
            "image/png": "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",
            "text/plain": [
              "<Figure size 432x288 with 1 Axes>"
            ]
          },
          "metadata": {
            "needs_background": "light"
          },
          "output_type": "display_data"
        }
      ],
      "source": [
        "fig = tsaplots.plot_acf(train_new, lags=10)\n",
        "plt.show()"
      ]
    },
    {
      "cell_type": "code",
      "execution_count": null,
      "metadata": {
        "colab": {
          "base_uri": "https://localhost:8080/",
          "height": 281
        },
        "id": "5TziuC7xiGvs",
        "outputId": "780f43b4-c43f-4a76-f437-def3c26dc52e"
      },
      "outputs": [
        {
          "data": {
            "image/png": "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",
            "text/plain": [
              "<Figure size 432x288 with 1 Axes>"
            ]
          },
          "metadata": {
            "needs_background": "light"
          },
          "output_type": "display_data"
        }
      ],
      "source": [
        "fig = tsaplots.plot_pacf(train_new, lags=10)\n",
        "plt.show()"
      ]
    },
    {
      "cell_type": "code",
      "execution_count": null,
      "metadata": {
        "id": "ND0HzPy9iSgf"
      },
      "outputs": [],
      "source": [
        "history = [x for x in train]\n",
        "predictions = list()\n",
        "print(test)\n",
        "for t in test.index:\n",
        "  model = ARIMA(history, order=(1,1,1))\n",
        "  model_fit = model.fit()\n",
        "  output = model_fit.forecast()\n",
        "  yest = output[0]\n",
        "  predictions.append(yest)\n",
        "  obs= test[t]\n",
        "  history.append(obs)\n",
        "  print ('predicted=%f, expected=%f' % (yest, obs))"
      ]
    },
    {
      "cell_type": "code",
      "execution_count": null,
      "metadata": {
        "colab": {
          "base_uri": "https://localhost:8080/",
          "height": 282
        },
        "id": "wQtI3hApiZkq",
        "outputId": "d84afbf1-70ce-4130-a591-624520e861f1"
      },
      "outputs": [
        {
          "name": "stdout",
          "output_type": "stream",
          "text": [
            "Test RMSE: 0.118\n"
          ]
        },
        {
          "data": {
            "image/png": "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",
            "text/plain": [
              "<Figure size 432x288 with 1 Axes>"
            ]
          },
          "metadata": {
            "needs_background": "light"
          },
          "output_type": "display_data"
        }
      ],
      "source": [
        "rmse = math.sqrt(mean_squared_error(test, predictions))\n",
        "print('Test RMSE: %.3f'% rmse)\n",
        "\n",
        "df2 = pd.DataFrame(predictions)\n",
        "df2. set_index(test.index, inplace=True)\n",
        "plt.plot(test)\n",
        "plt.plot(df2, color='red')\n",
        "plt.show()"
      ]
    },
    {
      "cell_type": "markdown",
      "metadata": {
        "id": "P_n8dloD9QJ7"
      },
      "source": [
        "## Implement Gas Predictor"
      ]
    },
    {
      "cell_type": "code",
      "execution_count": null,
      "metadata": {
        "id": "yEZEGVqK3Ows"
      },
      "outputs": [],
      "source": [
        "dataset_path = \"/content/drive/MyDrive/Datasets/Forecasting/gas.csv\"\n",
        "df = pd.read_csv(dataset_path)"
      ]
    },
    {
      "cell_type": "code",
      "execution_count": null,
      "metadata": {
        "colab": {
          "base_uri": "https://localhost:8080/",
          "height": 204
        },
        "id": "21-CkR4X-V50",
        "outputId": "2cb01b2a-f3b0-4098-dee5-de26d7b14719"
      },
      "outputs": [
        {
          "data": {
            "text/html": [
              "\n",
              "  <div id=\"df-afe950a2-1e2d-4e2c-a63a-406a0bcacac2\">\n",
              "    <div class=\"colab-df-container\">\n",
              "      <div>\n",
              "<style scoped>\n",
              "    .dataframe tbody tr th:only-of-type {\n",
              "        vertical-align: middle;\n",
              "    }\n",
              "\n",
              "    .dataframe tbody tr th {\n",
              "        vertical-align: top;\n",
              "    }\n",
              "\n",
              "    .dataframe thead th {\n",
              "        text-align: right;\n",
              "    }\n",
              "</style>\n",
              "<table border=\"1\" class=\"dataframe\">\n",
              "  <thead>\n",
              "    <tr style=\"text-align: right;\">\n",
              "      <th></th>\n",
              "      <th>Time</th>\n",
              "      <th>y</th>\n",
              "    </tr>\n",
              "  </thead>\n",
              "  <tbody>\n",
              "    <tr>\n",
              "      <th>0</th>\n",
              "      <td>2022-06-05 21:07:11</td>\n",
              "      <td>4095</td>\n",
              "    </tr>\n",
              "    <tr>\n",
              "      <th>1</th>\n",
              "      <td>2022-06-05 21:07:13</td>\n",
              "      <td>4095</td>\n",
              "    </tr>\n",
              "    <tr>\n",
              "      <th>2</th>\n",
              "      <td>2022-06-05 21:07:16</td>\n",
              "      <td>4095</td>\n",
              "    </tr>\n",
              "    <tr>\n",
              "      <th>3</th>\n",
              "      <td>2022-06-05 21:07:18</td>\n",
              "      <td>4095</td>\n",
              "    </tr>\n",
              "    <tr>\n",
              "      <th>4</th>\n",
              "      <td>2022-06-05 21:07:21</td>\n",
              "      <td>4095</td>\n",
              "    </tr>\n",
              "  </tbody>\n",
              "</table>\n",
              "</div>\n",
              "      <button class=\"colab-df-convert\" onclick=\"convertToInteractive('df-afe950a2-1e2d-4e2c-a63a-406a0bcacac2')\"\n",
              "              title=\"Convert this dataframe to an interactive table.\"\n",
              "              style=\"display:none;\">\n",
              "        \n",
              "  <svg xmlns=\"http://www.w3.org/2000/svg\" height=\"24px\"viewBox=\"0 0 24 24\"\n",
              "       width=\"24px\">\n",
              "    <path d=\"M0 0h24v24H0V0z\" fill=\"none\"/>\n",
              "    <path d=\"M18.56 5.44l.94 2.06.94-2.06 2.06-.94-2.06-.94-.94-2.06-.94 2.06-2.06.94zm-11 1L8.5 8.5l.94-2.06 2.06-.94-2.06-.94L8.5 2.5l-.94 2.06-2.06.94zm10 10l.94 2.06.94-2.06 2.06-.94-2.06-.94-.94-2.06-.94 2.06-2.06.94z\"/><path d=\"M17.41 7.96l-1.37-1.37c-.4-.4-.92-.59-1.43-.59-.52 0-1.04.2-1.43.59L10.3 9.45l-7.72 7.72c-.78.78-.78 2.05 0 2.83L4 21.41c.39.39.9.59 1.41.59.51 0 1.02-.2 1.41-.59l7.78-7.78 2.81-2.81c.8-.78.8-2.07 0-2.86zM5.41 20L4 18.59l7.72-7.72 1.47 1.35L5.41 20z\"/>\n",
              "  </svg>\n",
              "      </button>\n",
              "      \n",
              "  <style>\n",
              "    .colab-df-container {\n",
              "      display:flex;\n",
              "      flex-wrap:wrap;\n",
              "      gap: 12px;\n",
              "    }\n",
              "\n",
              "    .colab-df-convert {\n",
              "      background-color: #E8F0FE;\n",
              "      border: none;\n",
              "      border-radius: 50%;\n",
              "      cursor: pointer;\n",
              "      display: none;\n",
              "      fill: #1967D2;\n",
              "      height: 32px;\n",
              "      padding: 0 0 0 0;\n",
              "      width: 32px;\n",
              "    }\n",
              "\n",
              "    .colab-df-convert:hover {\n",
              "      background-color: #E2EBFA;\n",
              "      box-shadow: 0px 1px 2px rgba(60, 64, 67, 0.3), 0px 1px 3px 1px rgba(60, 64, 67, 0.15);\n",
              "      fill: #174EA6;\n",
              "    }\n",
              "\n",
              "    [theme=dark] .colab-df-convert {\n",
              "      background-color: #3B4455;\n",
              "      fill: #D2E3FC;\n",
              "    }\n",
              "\n",
              "    [theme=dark] .colab-df-convert:hover {\n",
              "      background-color: #434B5C;\n",
              "      box-shadow: 0px 1px 3px 1px rgba(0, 0, 0, 0.15);\n",
              "      filter: drop-shadow(0px 1px 2px rgba(0, 0, 0, 0.3));\n",
              "      fill: #FFFFFF;\n",
              "    }\n",
              "  </style>\n",
              "\n",
              "      <script>\n",
              "        const buttonEl =\n",
              "          document.querySelector('#df-afe950a2-1e2d-4e2c-a63a-406a0bcacac2 button.colab-df-convert');\n",
              "        buttonEl.style.display =\n",
              "          google.colab.kernel.accessAllowed ? 'block' : 'none';\n",
              "\n",
              "        async function convertToInteractive(key) {\n",
              "          const element = document.querySelector('#df-afe950a2-1e2d-4e2c-a63a-406a0bcacac2');\n",
              "          const dataTable =\n",
              "            await google.colab.kernel.invokeFunction('convertToInteractive',\n",
              "                                                     [key], {});\n",
              "          if (!dataTable) return;\n",
              "\n",
              "          const docLinkHtml = 'Like what you see? Visit the ' +\n",
              "            '<a target=\"_blank\" href=https://colab.research.google.com/notebooks/data_table.ipynb>data table notebook</a>'\n",
              "            + ' to learn more about interactive tables.';\n",
              "          element.innerHTML = '';\n",
              "          dataTable['output_type'] = 'display_data';\n",
              "          await google.colab.output.renderOutput(dataTable, element);\n",
              "          const docLink = document.createElement('div');\n",
              "          docLink.innerHTML = docLinkHtml;\n",
              "          element.appendChild(docLink);\n",
              "        }\n",
              "      </script>\n",
              "    </div>\n",
              "  </div>\n",
              "  "
            ],
            "text/plain": [
              "                  Time     y\n",
              "0  2022-06-05 21:07:11  4095\n",
              "1  2022-06-05 21:07:13  4095\n",
              "2  2022-06-05 21:07:16  4095\n",
              "3  2022-06-05 21:07:18  4095\n",
              "4  2022-06-05 21:07:21  4095"
            ]
          },
          "execution_count": 47,
          "metadata": {},
          "output_type": "execute_result"
        }
      ],
      "source": [
        "df.head()"
      ]
    },
    {
      "cell_type": "code",
      "execution_count": null,
      "metadata": {
        "colab": {
          "base_uri": "https://localhost:8080/"
        },
        "id": "pfJpy6jF_M8R",
        "outputId": "2544cf11-85d7-46d3-ace4-9e921e847d97"
      },
      "outputs": [
        {
          "data": {
            "text/plain": [
              "4288"
            ]
          },
          "execution_count": 14,
          "metadata": {},
          "output_type": "execute_result"
        }
      ],
      "source": [
        "df['y'].size"
      ]
    },
    {
      "cell_type": "code",
      "execution_count": null,
      "metadata": {
        "colab": {
          "base_uri": "https://localhost:8080/"
        },
        "id": "4C71CXhmYkGd",
        "outputId": "6ac3f878-601a-4747-80a4-3399b08b6806"
      },
      "outputs": [
        {
          "name": "stderr",
          "output_type": "stream",
          "text": [
            "/usr/local/lib/python3.7/dist-packages/ipykernel_launcher.py:1: SettingWithCopyWarning: \n",
            "A value is trying to be set on a copy of a slice from a DataFrame\n",
            "\n",
            "See the caveats in the documentation: https://pandas.pydata.org/pandas-docs/stable/user_guide/indexing.html#returning-a-view-versus-a-copy\n",
            "  \"\"\"Entry point for launching an IPython kernel.\n"
          ]
        }
      ],
      "source": [
        "df['y'][0:4288] = 4095"
      ]
    },
    {
      "cell_type": "code",
      "execution_count": null,
      "metadata": {
        "colab": {
          "base_uri": "https://localhost:8080/",
          "height": 265
        },
        "id": "tKn0xnRo4XDd",
        "outputId": "5783fd06-65cf-4efc-ce61-c19e617c4edc"
      },
      "outputs": [
        {
          "data": {
            "image/png": "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",
            "text/plain": [
              "<Figure size 432x288 with 1 Axes>"
            ]
          },
          "metadata": {
            "needs_background": "light"
          },
          "output_type": "display_data"
        }
      ],
      "source": [
        "#evolution over time of our data\n",
        "plot_cols = ['y']\n",
        "plot_features = df[plot_cols]\n",
        "_ = plot_features.plot(subplots=True)"
      ]
    },
    {
      "cell_type": "code",
      "execution_count": null,
      "metadata": {
        "colab": {
          "base_uri": "https://localhost:8080/"
        },
        "id": "oTvEEeo-Y03h",
        "outputId": "8f48826c-906c-4b56-8a3e-3d81e3454c10"
      },
      "outputs": [
        {
          "name": "stderr",
          "output_type": "stream",
          "text": [
            "/usr/local/lib/python3.7/dist-packages/ipykernel_launcher.py:1: SettingWithCopyWarning: \n",
            "A value is trying to be set on a copy of a slice from a DataFrame\n",
            "\n",
            "See the caveats in the documentation: https://pandas.pydata.org/pandas-docs/stable/user_guide/indexing.html#returning-a-view-versus-a-copy\n",
            "  \"\"\"Entry point for launching an IPython kernel.\n"
          ]
        }
      ],
      "source": [
        "df['y'][3000:4000] = [4095 for i in range(0,1000)]"
      ]
    },
    {
      "cell_type": "code",
      "execution_count": null,
      "metadata": {
        "colab": {
          "base_uri": "https://localhost:8080/",
          "height": 80
        },
        "id": "aHBytLqO5cp2",
        "outputId": "f2bb0c63-6fd7-4ed8-f739-a62040c5f32c"
      },
      "outputs": [
        {
          "data": {
            "text/html": [
              "\n",
              "  <div id=\"df-72886fde-81b1-45f7-81da-85b87bff5b01\">\n",
              "    <div class=\"colab-df-container\">\n",
              "      <div>\n",
              "<style scoped>\n",
              "    .dataframe tbody tr th:only-of-type {\n",
              "        vertical-align: middle;\n",
              "    }\n",
              "\n",
              "    .dataframe tbody tr th {\n",
              "        vertical-align: top;\n",
              "    }\n",
              "\n",
              "    .dataframe thead th {\n",
              "        text-align: right;\n",
              "    }\n",
              "</style>\n",
              "<table border=\"1\" class=\"dataframe\">\n",
              "  <thead>\n",
              "    <tr style=\"text-align: right;\">\n",
              "      <th></th>\n",
              "      <th>count</th>\n",
              "      <th>mean</th>\n",
              "      <th>std</th>\n",
              "      <th>min</th>\n",
              "      <th>25%</th>\n",
              "      <th>50%</th>\n",
              "      <th>75%</th>\n",
              "      <th>max</th>\n",
              "    </tr>\n",
              "  </thead>\n",
              "  <tbody>\n",
              "    <tr>\n",
              "      <th>y</th>\n",
              "      <td>4288.0</td>\n",
              "      <td>3134.295709</td>\n",
              "      <td>1635.698257</td>\n",
              "      <td>350.0</td>\n",
              "      <td>350.0</td>\n",
              "      <td>4095.0</td>\n",
              "      <td>4095.0</td>\n",
              "      <td>4095.0</td>\n",
              "    </tr>\n",
              "  </tbody>\n",
              "</table>\n",
              "</div>\n",
              "      <button class=\"colab-df-convert\" onclick=\"convertToInteractive('df-72886fde-81b1-45f7-81da-85b87bff5b01')\"\n",
              "              title=\"Convert this dataframe to an interactive table.\"\n",
              "              style=\"display:none;\">\n",
              "        \n",
              "  <svg xmlns=\"http://www.w3.org/2000/svg\" height=\"24px\"viewBox=\"0 0 24 24\"\n",
              "       width=\"24px\">\n",
              "    <path d=\"M0 0h24v24H0V0z\" fill=\"none\"/>\n",
              "    <path d=\"M18.56 5.44l.94 2.06.94-2.06 2.06-.94-2.06-.94-.94-2.06-.94 2.06-2.06.94zm-11 1L8.5 8.5l.94-2.06 2.06-.94-2.06-.94L8.5 2.5l-.94 2.06-2.06.94zm10 10l.94 2.06.94-2.06 2.06-.94-2.06-.94-.94-2.06-.94 2.06-2.06.94z\"/><path d=\"M17.41 7.96l-1.37-1.37c-.4-.4-.92-.59-1.43-.59-.52 0-1.04.2-1.43.59L10.3 9.45l-7.72 7.72c-.78.78-.78 2.05 0 2.83L4 21.41c.39.39.9.59 1.41.59.51 0 1.02-.2 1.41-.59l7.78-7.78 2.81-2.81c.8-.78.8-2.07 0-2.86zM5.41 20L4 18.59l7.72-7.72 1.47 1.35L5.41 20z\"/>\n",
              "  </svg>\n",
              "      </button>\n",
              "      \n",
              "  <style>\n",
              "    .colab-df-container {\n",
              "      display:flex;\n",
              "      flex-wrap:wrap;\n",
              "      gap: 12px;\n",
              "    }\n",
              "\n",
              "    .colab-df-convert {\n",
              "      background-color: #E8F0FE;\n",
              "      border: none;\n",
              "      border-radius: 50%;\n",
              "      cursor: pointer;\n",
              "      display: none;\n",
              "      fill: #1967D2;\n",
              "      height: 32px;\n",
              "      padding: 0 0 0 0;\n",
              "      width: 32px;\n",
              "    }\n",
              "\n",
              "    .colab-df-convert:hover {\n",
              "      background-color: #E2EBFA;\n",
              "      box-shadow: 0px 1px 2px rgba(60, 64, 67, 0.3), 0px 1px 3px 1px rgba(60, 64, 67, 0.15);\n",
              "      fill: #174EA6;\n",
              "    }\n",
              "\n",
              "    [theme=dark] .colab-df-convert {\n",
              "      background-color: #3B4455;\n",
              "      fill: #D2E3FC;\n",
              "    }\n",
              "\n",
              "    [theme=dark] .colab-df-convert:hover {\n",
              "      background-color: #434B5C;\n",
              "      box-shadow: 0px 1px 3px 1px rgba(0, 0, 0, 0.15);\n",
              "      filter: drop-shadow(0px 1px 2px rgba(0, 0, 0, 0.3));\n",
              "      fill: #FFFFFF;\n",
              "    }\n",
              "  </style>\n",
              "\n",
              "      <script>\n",
              "        const buttonEl =\n",
              "          document.querySelector('#df-72886fde-81b1-45f7-81da-85b87bff5b01 button.colab-df-convert');\n",
              "        buttonEl.style.display =\n",
              "          google.colab.kernel.accessAllowed ? 'block' : 'none';\n",
              "\n",
              "        async function convertToInteractive(key) {\n",
              "          const element = document.querySelector('#df-72886fde-81b1-45f7-81da-85b87bff5b01');\n",
              "          const dataTable =\n",
              "            await google.colab.kernel.invokeFunction('convertToInteractive',\n",
              "                                                     [key], {});\n",
              "          if (!dataTable) return;\n",
              "\n",
              "          const docLinkHtml = 'Like what you see? Visit the ' +\n",
              "            '<a target=\"_blank\" href=https://colab.research.google.com/notebooks/data_table.ipynb>data table notebook</a>'\n",
              "            + ' to learn more about interactive tables.';\n",
              "          element.innerHTML = '';\n",
              "          dataTable['output_type'] = 'display_data';\n",
              "          await google.colab.output.renderOutput(dataTable, element);\n",
              "          const docLink = document.createElement('div');\n",
              "          docLink.innerHTML = docLinkHtml;\n",
              "          element.appendChild(docLink);\n",
              "        }\n",
              "      </script>\n",
              "    </div>\n",
              "  </div>\n",
              "  "
            ],
            "text/plain": [
              "    count         mean          std    min    25%     50%     75%     max\n",
              "y  4288.0  3134.295709  1635.698257  350.0  350.0  4095.0  4095.0  4095.0"
            ]
          },
          "execution_count": 75,
          "metadata": {},
          "output_type": "execute_result"
        }
      ],
      "source": [
        "df.describe().transpose()"
      ]
    },
    {
      "cell_type": "code",
      "execution_count": null,
      "metadata": {
        "id": "rExbYodZWgNb"
      },
      "outputs": [],
      "source": [
        "nrows = (len(df.values))\n",
        "splitPoint = int (nrows * 0.50)\n",
        "train = df['y'] [:splitPoint]\n",
        "test = df ['y'] [splitPoint:]"
      ]
    },
    {
      "cell_type": "markdown",
      "metadata": {
        "id": "EijrLNzNcQQX"
      },
      "source": [
        "Check for stationarity "
      ]
    },
    {
      "cell_type": "code",
      "execution_count": null,
      "metadata": {
        "colab": {
          "base_uri": "https://localhost:8080/"
        },
        "id": "uDjqEB3WcOJ1",
        "outputId": "5e2fc108-6c9c-42d4-d5bc-e44f7ebc9a9a"
      },
      "outputs": [
        {
          "name": "stdout",
          "output_type": "stream",
          "text": [
            "ADF Statistic: -2.005413\n",
            "p-value: 0.284205\n"
          ]
        }
      ],
      "source": [
        " # Check whether the time-series is stationary through the Dickey-Fuller test\n",
        "from statsmodels.tsa.stattools import adfuller\n",
        "result = adfuller(train)\n",
        "\n",
        "print('ADF Statistic: %f' % result[0])\n",
        "print('p-value: %f' % result[1])"
      ]
    },
    {
      "cell_type": "code",
      "execution_count": null,
      "metadata": {
        "colab": {
          "base_uri": "https://localhost:8080/"
        },
        "id": "VF-2hbHnct40",
        "outputId": "71149065-364c-4cc3-edcc-5474b2157c6b"
      },
      "outputs": [
        {
          "name": "stdout",
          "output_type": "stream",
          "text": [
            "ADF Statistic: -46.260134\n",
            "p-value: 0.000000\n"
          ]
        }
      ],
      "source": [
        "train_new = train.diff().dropna()\n",
        "result = adfuller(train_new)\n",
        "\n",
        "print('ADF Statistic: %f' % result[0])\n",
        "print('p-value: %f' % result[1])"
      ]
    },
    {
      "cell_type": "code",
      "execution_count": null,
      "metadata": {
        "colab": {
          "base_uri": "https://localhost:8080/",
          "height": 281
        },
        "id": "uxU3f2VWc8iV",
        "outputId": "77f0252b-2e48-455e-d89a-e0acd5e1601c"
      },
      "outputs": [
        {
          "data": {
            "image/png": "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",
            "text/plain": [
              "<Figure size 432x288 with 1 Axes>"
            ]
          },
          "metadata": {
            "needs_background": "light"
          },
          "output_type": "display_data"
        }
      ],
      "source": [
        "from statsmodels.graphics import tsaplots\n",
        "fig = tsaplots.plot_acf(train, lags=10)\n",
        "plt.show()"
      ]
    },
    {
      "cell_type": "code",
      "execution_count": null,
      "metadata": {
        "colab": {
          "base_uri": "https://localhost:8080/",
          "height": 281
        },
        "id": "r7n3lZBedz1P",
        "outputId": "ebef80e6-c699-4bb8-f3bb-b189f5d8a8f4"
      },
      "outputs": [
        {
          "data": {
            "image/png": "iVBORw0KGgoAAAANSUhEUgAAAXQAAAEICAYAAABPgw/pAAAABHNCSVQICAgIfAhkiAAAAAlwSFlzAAALEgAACxIB0t1+/AAAADh0RVh0U29mdHdhcmUAbWF0cGxvdGxpYiB2ZXJzaW9uMy4yLjIsIGh0dHA6Ly9tYXRwbG90bGliLm9yZy+WH4yJAAAVe0lEQVR4nO3dfbRddX3n8fcniTzJQ9QEK0lKqKQMkRmCcxf40Fam6Ag4BZczo9BRwUVlnIpjrTMdfBjKotbadlrRkT5QxQdUEGnXTMaJYktlOXWpQxC0EoqkEUzCU0QiKmBI8p0/zr7MyeXe3HOTc3OSX96vtc7i7N/+7f377pPL5+z72/ucm6pCkrTvmzPqAiRJw2GgS1IjDHRJaoSBLkmNMNAlqREGuiQ1wkDXHpPkx0l+boB+S5NUknl7oq69VZLzk/zdbmz/+STnDbMm7d0MdD0pyd1JHuuC94EkH0ty6C7u66Ykv9bfVlWHVtW64VT75BgPJzlwhttVkmOHVcfeIMmlST7Z31ZVZ1TVx0dVk/Y8A10T/UpVHQo8HxgD3j2TjdMz6z9XSZYCvwgUcNZsj7e7JvttY3//DUTDZ6BrUlW1Efg8cEKSZyT5XJJN3Rnx55IsHu/bnSn/bpKvAI8CV9ML2w91Z/sf6vo9eWac5BVJbk3ySJL1SS6dYYmvB74GfAzYYVph4m8H/VMXSb7cNX+zq+01Xfsbk6xN8oMkK5Mc1bf985L8dbfugSTv7NoPTHJ5knu7x+Xjvy0kOTXJhiT/Jcn9wEe7s+jrk3wyySPA+UmOSPKRJPcl2ZjkPUnmTnbAST7QvVaPJLklyS927acD7wRe0x3TNye+DknmJHl3knuSPJjkE0mO6NaNT3Gdl+R7Sb6f5F0z/PfQXsBA16SSLAHOBG6l93PyUeBo4GeBx4APTdjkdcCFwGHA+cD/AS7qplkummSIn9AL5fnAK4D/kOSVMyjx9cCnusfLkzx7kI2q6pe6pyd2tX0myS8Dvwe8GngOcA9wLUCSw4C/Ab4AHAUcC9zY7eNdwAuAFcCJwMns+BvNzwDPpPe6Xdi1nQ1c3x33p+i9IW3t9nsS8C+BHaaq+tzcjfVM4NPAZ5McVFVfAN4LfKY7phMn2fb87vEvgJ8DDuWp/4a/ABwHnAZckuT4KerQ3qqqfPigqgDuBn4MbKYXan8CHDxJvxXAw33LNwGXTehzE/BrE9oKOHaKsS8H3t89X9r1nTdF318AngAWdMv/ALxtqrHpBdnfTVUH8BHgD/qWD+32vxQ4F7h1ijr+ETizb/nlwN3d81OBLcBBfesvBb7ct/xs4Kf9r3E33pcmq3uS8R+m98Y0vu9PTvVvQO9N6Nf71h3XHeO8vtd7cd/6/wucM+qfSR8zeziHp4leWVV/09+Q5BDg/cDpwDO65sOSzK2qbd3y+pkMkuQU4H3ACcABwIHAZwfc/Dzgi1X1/W75013b+2dSQ5+jgG+ML1TVj5M8BCwCltAL7qm2u6dv+Z6ubdymqnp8wjb9r9PRwNOA+5KMt81hitcyyX8CLujGKOBwYMGURzV9rfPovamMu7/v+aP03ti0D3HKRYN4O70zulOq6nBgfNoifX0mfm3ndF/j+WlgJbCkqo4A/mzC/iaV5GB6UyMvSXJ/Nz/9NuDEJONTDT8BDunb7Gem2e299MJ1fIynA88CNtIL16lutdxhO3rTUff2LU/2GvS3rad3hr6gquZ3j8Or6nkTN+rmy3+L3rE/o6rmAz/k/79m073ek9W6FXhgmu20DzHQNYjD6M2bb07yTOC3B9jmAaYOwvF9/qCqHk9yMvCrA9bySmAbsJze1M8K4Hh6c/av7/rcBrwqySHdRdgLpqntGuANSVZ0FzXfC3y9qu4GPgc8J8lvdBdBD+t+uxjf7t1JFiZZAFwC7HDr4M5U1X3AF4E/SnJ4d+HyuUleMkn3w+gF8CZgXpJL6J2h9x/T0p3cYXQN8LYkx6R3K+r4nPvWQevV3s9A1yAuBw4Gvk/vzpIvDLDNB4B/090V88FJ1v86cFmSH9ELwusGrOU84KNV9b2qun/8Qe8C37/rbgV8P7356weAj9O7+NjvUuDjSTYneXU3xfRfgb8E7gOeC5wDUFU/Al4G/Aq9KYm76F1YBHgPsBr4FvD39KZt3jPgcYx7Pb0ppzX05sSvp3dhdqIb6L3u36E3XfI4O07NjE9XPZTkGzzVVfTuPvoy8N1u+7fMsFbt5VLlH7iQpBZ4hi5JjTDQJakRBrokNcJAl6RGjOyDRQsWLKilS5eOanhJ2ifdcsst36+qhZOtG1mgL126lNWrV49qeEnaJyW5Z6p1TrlIUiMMdElqhIEuSY0w0CWpEQa6JDVi2kBPclX3J6u+PcX6JPlg9+e7vpXk+cMvs2fb9uLGOx7ggzfexY13PMC27X4PjSSNG+S2xY/R+ya7T0yx/gxgWfc4BfjT7r9DtW178bqPfJ3b1m/msS3bOPiAuaxYMp+rLziFuXOm/Rrt3Rr3pjsf5PZ7H+F5Rx3OqccdOavjSdKumjbQq+rL6f2F9amcDXyiel/b+LUk85M8p/uu56G56c4HuW39Zh7d0vsDOY9u2cZt6zdz050PctrxA/05yRkb1ZuIJO2KYcyhL2LH72Xe0LU9RZILk6xOsnrTpk0zGuT2ex/hsS3bdmh7bMs21tz7yAzLHVz/m0ix45uIJO1t9uhF0aq6sqrGqmps4cJJP7k6pecddTgHHzB3h7aDD5jL8qMOn2KL3TeKNxFJ2lXDCPSN9P6Q7rjFXdtQnXrckaxYMp9s2wK1nUO66Y9Tjzty2EM9aRRvIpK0q4YR6CuB13d3u7wA+OGw588B5s4JV19wCgvv+l/M3/AV/vu5J836XPYo3kQkaVdNe1E0yTXAqcCCJBvo/YHgpwFU1Z8Bq4AzgbXAo8AbZqvYuXPCIZvXccjmdbN2IXTieFdfcAovfNUFbHn6kfzRu9/mXS6S9lqD3OVy7jTrC3jz0Cray+zpNxFJ2lV+UlSSGmGgS1IjDHRJaoSBLkmNMNAlqREGuiQ1wkCXpEYY6JLUCANdkhphoEtSIwx0SWqEgS5JjTDQJakRBrokNcJAl6RGGOiS1AgDXZIaYaBLUiMMdElqhIEuSY0w0CWpEQa6JDXCQJekRhjoktQIA12SGmGgS1IjDHRJaoSBLkmNMNAlqREDBXqS05PcmWRtkosnWf+zSb6U5NYk30py5vBLlSTtzLSBnmQucAVwBrAcODfJ8gnd3g1cV1UnAecAfzLsQiVJOzfIGfrJwNqqWldVW4BrgbMn9Cng8O75EcC9wytRkjSIQQJ9EbC+b3lD19bvUuC1STYAq4C3TLajJBcmWZ1k9aZNm3ahXEnSVIZ1UfRc4GNVtRg4E7g6yVP2XVVXVtVYVY0tXLhwSENLkmCwQN8ILOlbXty19bsAuA6gqr4KHAQsGEaBkqTBDBLoNwPLkhyT5AB6Fz1XTujzPeA0gCTH0wt051QkaQ+aNtCraitwEXADcAe9u1luT3JZkrO6bm8H3pjkm8A1wPlVVbNVtCTpqeYN0qmqVtG72Nnfdknf8zXAi4dbmiRpJvykqCQ1wkCXpEYY6JLUCANdkhphoEtSIwx0SWqEgS5JjTDQJakRBrokNcJAl6RGGOiS1AgDXZIaYaBLUiMMdElqhIEuSY0w0CWpEQa6JDXCQJekRhjoktQIA12SGmGgS1IjDHRJaoSBLkmNMNAlqREGuiQ1wkCXpEYY6JLUCANdkhphoEtSIwYK9CSnJ7kzydokF0/R59VJ1iS5Pcmnh1umJGk686brkGQucAXwMmADcHOSlVW1pq/PMuAdwIur6uEkR85WwZKkyQ1yhn4ysLaq1lXVFuBa4OwJfd4IXFFVDwNU1YPDLVOSNJ1BAn0RsL5veUPX1u/ngZ9P8pUkX0ty+mQ7SnJhktVJVm/atGnXKpYkTWpYF0XnAcuAU4Fzgb9IMn9ip6q6sqrGqmps4cKFQxpakgSDBfpGYEnf8uKurd8GYGVVPVFV3wW+Qy/gJUl7yCCBfjOwLMkxSQ4AzgFWTujzP+idnZNkAb0pmHVDrFOSNI1pA72qtgIXATcAdwDXVdXtSS5LclbX7QbgoSRrgC8B/7mqHpqtoiVJTzXtbYsAVbUKWDWh7ZK+5wX8ZveQJI2AnxSVpEYY6JLUCANdkhphoEtSIwx0SWqEgS5JjTDQJakRBrokNcJAl6RGGOiS1AgDXZIaYaBLUiMMdElqhIEuSY0w0CWpEQa6JDXCQJekRhjoktQIA12SGmGgS1IjDHRJaoSBLkmNMNAlqREGuiQ1wkCXpEYY6JLUCANdkhphoEtSIwx0SWrEQIGe5PQkdyZZm+TinfT710kqydjwSpQkDWLaQE8yF7gCOANYDpybZPkk/Q4D3gp8fdhFSpKmN8gZ+snA2qpaV1VbgGuBsyfp9zvA7wOPD7E+SdKABgn0RcD6vuUNXduTkjwfWFJV/3tnO0pyYZLVSVZv2rRpxsVKkqa22xdFk8wB/hh4+3R9q+rKqhqrqrGFCxfu7tCSpD6DBPpGYEnf8uKubdxhwAnATUnuBl4ArPTCqCTtWYME+s3AsiTHJDkAOAdYOb6yqn5YVQuqamlVLQW+BpxVVatnpWJJ0qSmDfSq2gpcBNwA3AFcV1W3J7ksyVmzXaAkaTDzBulUVauAVRPaLpmi76m7X5Ykaab8pKgkNcJAl6RGGOiS1AgDXZIaYaBLUiMMdElqhIEuSY0w0CWpEQa6JDXCQJekRhjoktQIA12SGmGgS1IjDHRJaoSBLkmNMNAlqREGuiQ1wkCXpEYY6JLUCANdkhphoEtSIwx0SWqEgS5JjTDQJakRBrokNcJAl6RGGOiS1AgDXZIaYaBLUiMGCvQkpye5M8naJBdPsv43k6xJ8q0kNyY5evilSpJ2ZtpATzIXuAI4A1gOnJtk+YRutwJjVfXPgOuBPxh2oZKknRvkDP1kYG1VrauqLcC1wNn9HarqS1X1aLf4NWDxcMuUJE1nkEBfBKzvW97QtU3lAuDzk61IcmGS1UlWb9q0afAqJUnTGupF0SSvBcaAP5xsfVVdWVVjVTW2cOHCYQ4tSfu9eQP02Qgs6Vte3LXtIMlLgXcBL6mqnw6nPEnSoAY5Q78ZWJbkmCQHAOcAK/s7JDkJ+HPgrKp6cPhlSpKmM22gV9VW4CLgBuAO4Lqquj3JZUnO6rr9IXAo8NkktyVZOcXuJEmzZJApF6pqFbBqQtslfc9fOuS6JEkz5CdFJakRBrokNcJAl6RGGOiS1AgDXZIaYaBLUiMMdElqhIEuSY0w0CWpEQa6JDXCQJekRhjoktQIA12SGmGgS1IjDHRJaoSBLkmNMNAlqREGuiQ1wkCXpEYY6JLUCANdkhphoEtSIwx0SWqEgS5JjZg36gL2tK/+40Mz3uaRx57Y5W0laaIXPvdZs7Jfz9AlqREGuiQ1wkCXpEYY6JLUiIEuiiY5HfgAMBf4cFW9b8L6A4FPAP8ceAh4TVXdPdxS9x/btxe3rd/M3Q/9hKXPejorlsxnzpw4pmM65n465qCmDfQkc4ErgJcBG4Cbk6ysqjV93S4AHq6qY5OcA/w+8JrZKLh127cX7/38Hax98Mds2bqdA+bN4dgjD+WdZxw/az80jumYjrn3jjkTqaqdd0heCFxaVS/vlt8BUFW/19fnhq7PV5PMA+4HFtZOdv7Mo4+vl73zqhkXfNs3bwNgxYkrZrwtwCOPPzHjbe5a820Ali0/YZfGnIkfPb6VjZsfo/+VS2DR/IM57KDZucvUMR3TMffsmIcf9LRdruG6N73olqoam2zdIHPoi4D1fcsburZJ+1TVVuCHwFNutExyYZLVSVY/8cTMgxV6Qb6rYb6rli0/YY+EOcDjT2xj4ttgFfz0iW2O6ZiOuR+OORN79INFVXUlcCXA2NhYfebfv3BPDg/s/R8O+sY9D/PBv72Ln27d/mTbgfPmcP6LjuH5Rz/DMR3TMRsYc3c+WHTdm6ZeN8gZ+kZgSd/y4q5t0j7dlMsR9C6OaoZWLJnPsUceyoHz5hB6PyzHHnkoK5bMd0zHdMz9cMyZGGQOfR7wHeA0esF9M/CrVXV7X583A/+0qt7UXRR9VVW9emf7HRsbq9WrV+9u/TO2t5+hw/5z5d4xHXN/HXN3ztCTTDmHPm2gdzs4E7ic3m2LV1XV7ya5DFhdVSuTHARcDZwE/AA4p6rW7WyfBrqk/dVsBfpAc+hVtQpYNaHtkr7njwP/dpcrlCTtNj8pKkmNMNAlqRH73fehz9b3EEvSqHmGLkmNMNAlqREGuiQ1wkCXpEYY6JLUCANdkhphoEtSIwx0SWqEgS5JjRjo2xZnZeBkE3DPLm6+APj+EMvZW3mcbfE42zKq4zy6qhZOtmJkgb47kqye6usjW+JxtsXjbMveeJxOuUhSIwx0SWrEvhroV466gD3E42yLx9mWve4498k5dEnSU+2rZ+iSpAkMdElqxD4X6ElOT3JnkrVJLh51PbMhyZIkX0qyJsntSd466ppmU5K5SW5N8rlR1zJbksxPcn2Sf0hyR5IXjrqm2ZDkbd3P7LeTXJPkoFHXNAxJrkryYJJv97U9M8lfJ7mr++8zRlkj7GOBnmQucAVwBrAcODfJ8tFWNSu2Am+vquXAC4A3N3qc494K3DHqImbZB4AvVNU/AU6kweNNsgj4j8BYVZ0AzAXOGW1VQ/Mx4PQJbRcDN1bVMuDGbnmk9qlAB04G1lbVuqraAlwLnD3imoauqu6rqm90z39E73/+RaOtanYkWQy8AvjwqGuZLUmOAH4J+AhAVW2pqs2jrWrWzAMOTjIPOAS4d8T1DEVVfRn4wYTms4GPd88/DrxyjxY1iX0t0BcB6/uWN9Bo0I1LshQ4Cfj6aCuZNZcDvwVsH3Uhs+gYYBPw0W5q6cNJnj7qooatqjYC/w34HnAf8MOq+uJoq5pVz66q+7rn9wPPHmUxsO8F+n4lyaHAXwK/UVWPjLqeYUvyr4AHq+qWUdcyy+YBzwf+tKpOAn7CXvDr+bB1c8hn03sDOwp4epLXjraqPaN693+P/B7wfS3QNwJL+pYXd23NSfI0emH+qar6q1HXM0teDJyV5G5602e/nOSToy1pVmwANlTV+G9Z19ML+Na8FPhuVW2qqieAvwJeNOKaZtMDSZ4D0P33wRHXs88F+s3AsiTHJDmA3gWXlSOuaeiShN586x1V9cejrme2VNU7qmpxVS2l92/5t1XV3BldVd0PrE9yXNd0GrBmhCXNlu8BL0hySPczfBoNXvztsxI4r3t+HvA/R1gL0PtVcJ9RVVuTXATcQO8K+lVVdfuIy5oNLwZeB/x9ktu6tndW1aoR1qTd8xbgU92JyDrgDSOuZ+iq6utJrge+Qe9OrVvZCz8evyuSXAOcCixIsgH4beB9wHVJLqD3VeCvHl2FPX70X5Iasa9NuUiSpmCgS1IjDHRJaoSBLkmNMNAlqREGuiQ1wkCXpEb8P8dZGTpLTKxwAAAAAElFTkSuQmCC",
            "text/plain": [
              "<Figure size 432x288 with 1 Axes>"
            ]
          },
          "metadata": {
            "needs_background": "light"
          },
          "output_type": "display_data"
        }
      ],
      "source": [
        "fig = tsaplots.plot_pacf(train, lags=10)\n",
        "plt.show()"
      ]
    },
    {
      "cell_type": "code",
      "execution_count": null,
      "metadata": {
        "id": "-h_kP0EcCe1j"
      },
      "outputs": [],
      "source": [
        "# Apply ARIMA model\n",
        "from statsmodels.tsa.arima_model import ARIMA\n",
        "history = list(np.array([x for x in train_new]).astype('float64'))\n",
        "predictions = list()\n",
        "print(test)\n",
        "for t in test.index:\n",
        "  model = ARIMA(history, order=(1,1,1))\n",
        "  model_fit = model.fit()\n",
        "  output = model_fit.forecast()\n",
        "  yest = output[0]\n",
        "  predictions.append(yest)\n",
        "  obs= test[t]\n",
        "  history.append(obs)\n",
        "  print ('predicted=%f, expected=%f' % (yest, obs))"
      ]
    },
    {
      "cell_type": "code",
      "execution_count": null,
      "metadata": {
        "colab": {
          "base_uri": "https://localhost:8080/",
          "height": 282
        },
        "id": "llGspgKFg5Uk",
        "outputId": "545e00f7-41cd-4142-f881-5f5d6214326e"
      },
      "outputs": [
        {
          "name": "stdout",
          "output_type": "stream",
          "text": [
            "Test RMSE: 180.939\n"
          ]
        },
        {
          "data": {
            "image/png": "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",
            "text/plain": [
              "<Figure size 432x288 with 1 Axes>"
            ]
          },
          "metadata": {
            "needs_background": "light"
          },
          "output_type": "display_data"
        }
      ],
      "source": [
        "import math\n",
        "from sklearn.metrics import mean_squared_error\n",
        "\n",
        "rmse = math.sqrt(mean_squared_error(test, predictions))\n",
        "print('Test RMSE: %.3f'% rmse)\n",
        "\n",
        "df2 = pd. DataFrame (predictions)\n",
        "df2. set_index(test.index, inplace=True)\n",
        "plt.plot(test)\n",
        "plt.plot(df2, color='red')\n",
        "plt.show()"
      ]
    },
    {
      "cell_type": "code",
      "execution_count": null,
      "metadata": {
        "colab": {
          "base_uri": "https://localhost:8080/",
          "height": 282
        },
        "id": "7NWHjStlNQyL",
        "outputId": "042b4624-a82e-44f3-d65d-45b279eb538b"
      },
      "outputs": [
        {
          "data": {
            "text/plain": [
              "[<matplotlib.lines.Line2D at 0x7f149e7ec910>]"
            ]
          },
          "execution_count": 83,
          "metadata": {},
          "output_type": "execute_result"
        },
        {
          "data": {
            "image/png": "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",
            "text/plain": [
              "<Figure size 432x288 with 1 Axes>"
            ]
          },
          "metadata": {
            "needs_background": "light"
          },
          "output_type": "display_data"
        }
      ],
      "source": [
        "plt.plot(test)\n"
      ]
    },
    {
      "cell_type": "code",
      "execution_count": null,
      "metadata": {
        "id": "3lq2xSRwSodF"
      },
      "outputs": [],
      "source": [
        "import pickle\n",
        "pickle.dump(model_fit, open('gas-model', 'wb'))"
      ]
    }
  ],
  "metadata": {
    "colab": {
      "collapsed_sections": [],
      "name": "forecasting.ipynb",
      "provenance": []
    },
    "kernelspec": {
      "display_name": "Python 3.9.7 64-bit",
      "language": "python",
      "name": "python3"
    },
    "language_info": {
      "codemirror_mode": {
        "name": "ipython",
        "version": 3
      },
      "file_extension": ".py",
      "mimetype": "text/x-python",
      "name": "python",
      "nbconvert_exporter": "python",
      "pygments_lexer": "ipython3",
      "version": "3.9.7"
    },
    "orig_nbformat": 4,
    "vscode": {
      "interpreter": {
        "hash": "08e595c52ca3b9470036b1110e67b559e55f367cabc363f2e28d35631ed95060"
      }
    }
  },
  "nbformat": 4,
  "nbformat_minor": 0
}
