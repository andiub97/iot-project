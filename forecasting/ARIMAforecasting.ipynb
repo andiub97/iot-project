{
  "cells": [
    {
      "cell_type": "markdown",
      "metadata": {
        "id": "fo4D4Yio9KGo"
      },
      "source": [
        "# Data Forecasting"
      ]
    },
    {
      "cell_type": "markdown",
      "metadata": {
        "id": "FdkmjLaTS43k"
      },
      "source": [
        "The module is in charge of: \n",
        "- forecasting the value of temperature in the next X seconds; \n",
        "- forecasting the value of humidity in the next X seconds; \n",
        "- forecasting the value of the gas sensor in the next X seconds \n",
        "\n",
        "(X is defined by users or developers). \n",
        "\n",
        "The time-series of the predicted values must be saved on INFLUX and shown on the GRAFANA dashboard as well; e.g. by using two lines for the temperature graph, one related to raw measurements, one to predictions. One or multiple techniques for time-series forecasting can be developed and compared.\n"
      ]
    },
    {
      "cell_type": "markdown",
      "metadata": {
        "id": "ljmAefVR9MU7"
      },
      "source": [
        "## Import Dependencies"
      ]
    },
    {
      "cell_type": "code",
      "execution_count": 1,
      "metadata": {
        "id": "ok1ZYoOlX0gz"
      },
      "outputs": [],
      "source": [
        "import os\n",
        "import datetime\n",
        "import IPython\n",
        "import IPython.display\n",
        "import matplotlib as mpl\n",
        "import matplotlib.pyplot as plt\n",
        "import numpy as np\n",
        "import pandas as pd\n",
        "import seaborn as sns\n",
        "import random"
      ]
    },
    {
      "cell_type": "markdown",
      "metadata": {
        "id": "SaA1B6eK7OIw"
      },
      "source": [
        "# Data retrival from influx"
      ]
    },
    {
      "cell_type": "code",
      "execution_count": 2,
      "metadata": {
        "id": "5QxN6K-MeHZQ"
      },
      "outputs": [
        {
          "name": "stdout",
          "output_type": "stream",
          "text": [
            "Requirement already satisfied: influxdb_client in c:\\users\\andre\\appdata\\local\\programs\\python\\python39\\lib\\site-packages (1.31.0)\n",
            "Requirement already satisfied: urllib3>=1.26.0 in c:\\users\\andre\\appdata\\local\\programs\\python\\python39\\lib\\site-packages (from influxdb_client) (1.26.12)\n",
            "Requirement already satisfied: setuptools>=21.0.0 in c:\\users\\andre\\appdata\\local\\programs\\python\\python39\\lib\\site-packages (from influxdb_client) (57.4.0)\n",
            "Requirement already satisfied: rx>=3.0.1 in c:\\users\\andre\\appdata\\local\\programs\\python\\python39\\lib\\site-packages (from influxdb_client) (3.2.0)\n",
            "Requirement already satisfied: python-dateutil>=2.5.3 in c:\\users\\andre\\appdata\\local\\programs\\python\\python39\\lib\\site-packages (from influxdb_client) (2.8.2)\n",
            "Requirement already satisfied: certifi>=14.05.14 in c:\\users\\andre\\appdata\\local\\programs\\python\\python39\\lib\\site-packages (from influxdb_client) (2022.6.15)\n",
            "Requirement already satisfied: six>=1.5 in c:\\users\\andre\\appdata\\local\\programs\\python\\python39\\lib\\site-packages (from python-dateutil>=2.5.3->influxdb_client) (1.16.0)\n"
          ]
        },
        {
          "name": "stderr",
          "output_type": "stream",
          "text": [
            "WARNING: You are using pip version 21.2.3; however, version 22.2.2 is available.\n",
            "You should consider upgrading via the 'C:\\Users\\andre\\AppData\\Local\\Programs\\Python\\Python39\\python.exe -m pip install --upgrade pip' command.\n"
          ]
        }
      ],
      "source": [
        "!pip3 install influxdb_client"
      ]
    },
    {
      "cell_type": "code",
      "execution_count": 3,
      "metadata": {
        "id": "UzZvSAcjX0gz"
      },
      "outputs": [],
      "source": [
        "from influxdb_client import InfluxDBClient, Point\n",
        "from influxdb_client.client.write_api import SYNCHRONOUS\n",
        "token = '0-boCREZ1XTzYhmT3RYogxFDtraRzOEZsMYNxjp0mBOWHCif47lUv2UddrAfyJUwupk33ci92-aHHFWhjv2pRg=='\n",
        "bucket = 'temperature'\n",
        "org = 'iot_group'\n",
        "client = InfluxDBClient(url=\"http://192.168.43.177:8086\", token=token, org=org)\n",
        "query_api = client.query_api()\n",
        "write_api = client.write_api(write_options=SYNCHRONOUS)"
      ]
    },
    {
      "cell_type": "code",
      "execution_count": 4,
      "metadata": {
        "id": "6Xh3QCixYHMo"
      },
      "outputs": [],
      "source": [
        "query = 'from(bucket: \"temperature\")' \\\n",
        "  '|> range(start:2022-08-10T15:00:00Z, stop:2022-09-20T15:00:00Z)'"
      ]
    },
    {
      "cell_type": "code",
      "execution_count": 5,
      "metadata": {
        "id": "RhJtyKHrYVGg"
      },
      "outputs": [],
      "source": [
        "result = client.query_api().query(org=org, query=query)"
      ]
    },
    {
      "cell_type": "markdown",
      "metadata": {
        "id": "14AWt2TjYkPR"
      },
      "source": [
        "-Exploiting the query results in order to obtain a dataframe"
      ]
    },
    {
      "cell_type": "code",
      "execution_count": 6,
      "metadata": {
        "id": "-214pYzR9GYd"
      },
      "outputs": [
        {
          "ename": "ModuleNotFoundError",
          "evalue": "No module named 'google'",
          "output_type": "error",
          "traceback": [
            "\u001b[1;31m---------------------------------------------------------------------------\u001b[0m",
            "\u001b[1;31mModuleNotFoundError\u001b[0m                       Traceback (most recent call last)",
            "\u001b[1;32md:\\uniboProjects\\iotProjects\\iot-project\\forecasting\\forecasting.ipynb Cella 11\u001b[0m in \u001b[0;36m<cell line: 1>\u001b[1;34m()\u001b[0m\n\u001b[1;32m----> <a href='vscode-notebook-cell:/d%3A/uniboProjects/iotProjects/iot-project/forecasting/forecasting.ipynb#X13sZmlsZQ%3D%3D?line=0'>1</a>\u001b[0m \u001b[39mfrom\u001b[39;00m \u001b[39mgoogle\u001b[39;00m\u001b[39m.\u001b[39;00m\u001b[39mcolab\u001b[39;00m \u001b[39mimport\u001b[39;00m drive\n\u001b[0;32m      <a href='vscode-notebook-cell:/d%3A/uniboProjects/iotProjects/iot-project/forecasting/forecasting.ipynb#X13sZmlsZQ%3D%3D?line=1'>2</a>\u001b[0m drive\u001b[39m.\u001b[39mmount(\u001b[39m'\u001b[39m\u001b[39m/content/drive\u001b[39m\u001b[39m'\u001b[39m)\n",
            "\u001b[1;31mModuleNotFoundError\u001b[0m: No module named 'google'"
          ]
        }
      ],
      "source": [
        "from google.colab import drive\n",
        "drive.mount('/content/drive')"
      ]
    },
    {
      "cell_type": "markdown",
      "metadata": {
        "id": "evQxhyZsTZ5t"
      },
      "source": [
        "## Implementation Temperature Predictor"
      ]
    },
    {
      "cell_type": "markdown",
      "metadata": {},
      "source": [
        "### ARIMA"
      ]
    },
    {
      "cell_type": "code",
      "execution_count": 61,
      "metadata": {
        "id": "2sq6vfjVaxU3"
      },
      "outputs": [
        {
          "data": {
            "text/html": [
              "<div>\n",
              "<style scoped>\n",
              "    .dataframe tbody tr th:only-of-type {\n",
              "        vertical-align: middle;\n",
              "    }\n",
              "\n",
              "    .dataframe tbody tr th {\n",
              "        vertical-align: top;\n",
              "    }\n",
              "\n",
              "    .dataframe thead th {\n",
              "        text-align: right;\n",
              "    }\n",
              "</style>\n",
              "<table border=\"1\" class=\"dataframe\">\n",
              "  <thead>\n",
              "    <tr style=\"text-align: right;\">\n",
              "      <th></th>\n",
              "      <th>result</th>\n",
              "      <th>table</th>\n",
              "      <th>_start</th>\n",
              "      <th>_stop</th>\n",
              "      <th>_time</th>\n",
              "      <th>_value</th>\n",
              "      <th>_field</th>\n",
              "      <th>_measurement</th>\n",
              "      <th>clientId</th>\n",
              "      <th>lat</th>\n",
              "      <th>lng</th>\n",
              "      <th>prediction</th>\n",
              "    </tr>\n",
              "  </thead>\n",
              "  <tbody>\n",
              "    <tr>\n",
              "      <th>0</th>\n",
              "      <td>NaN</td>\n",
              "      <td>0</td>\n",
              "      <td>2022-08-10T15:00:00Z</td>\n",
              "      <td>2022-09-20T15:00:00Z</td>\n",
              "      <td>2022-08-25T10:13:02.3585624Z</td>\n",
              "      <td>29.4</td>\n",
              "      <td>temperature</td>\n",
              "      <td>val</td>\n",
              "      <td>diubi-esp-32</td>\n",
              "      <td>42.84629</td>\n",
              "      <td>13.904817</td>\n",
              "      <td>no</td>\n",
              "    </tr>\n",
              "    <tr>\n",
              "      <th>1</th>\n",
              "      <td>NaN</td>\n",
              "      <td>0</td>\n",
              "      <td>2022-08-10T15:00:00Z</td>\n",
              "      <td>2022-09-20T15:00:00Z</td>\n",
              "      <td>2022-08-25T10:13:04.8724766Z</td>\n",
              "      <td>29.4</td>\n",
              "      <td>temperature</td>\n",
              "      <td>val</td>\n",
              "      <td>diubi-esp-32</td>\n",
              "      <td>42.84629</td>\n",
              "      <td>13.904817</td>\n",
              "      <td>no</td>\n",
              "    </tr>\n",
              "    <tr>\n",
              "      <th>2</th>\n",
              "      <td>NaN</td>\n",
              "      <td>0</td>\n",
              "      <td>2022-08-10T15:00:00Z</td>\n",
              "      <td>2022-09-20T15:00:00Z</td>\n",
              "      <td>2022-08-25T10:13:07.3884615Z</td>\n",
              "      <td>29.4</td>\n",
              "      <td>temperature</td>\n",
              "      <td>val</td>\n",
              "      <td>diubi-esp-32</td>\n",
              "      <td>42.84629</td>\n",
              "      <td>13.904817</td>\n",
              "      <td>no</td>\n",
              "    </tr>\n",
              "    <tr>\n",
              "      <th>3</th>\n",
              "      <td>NaN</td>\n",
              "      <td>0</td>\n",
              "      <td>2022-08-10T15:00:00Z</td>\n",
              "      <td>2022-09-20T15:00:00Z</td>\n",
              "      <td>2022-08-25T10:13:09.8994101Z</td>\n",
              "      <td>29.4</td>\n",
              "      <td>temperature</td>\n",
              "      <td>val</td>\n",
              "      <td>diubi-esp-32</td>\n",
              "      <td>42.84629</td>\n",
              "      <td>13.904817</td>\n",
              "      <td>no</td>\n",
              "    </tr>\n",
              "    <tr>\n",
              "      <th>4</th>\n",
              "      <td>NaN</td>\n",
              "      <td>0</td>\n",
              "      <td>2022-08-10T15:00:00Z</td>\n",
              "      <td>2022-09-20T15:00:00Z</td>\n",
              "      <td>2022-08-25T10:13:12.414701Z</td>\n",
              "      <td>29.5</td>\n",
              "      <td>temperature</td>\n",
              "      <td>val</td>\n",
              "      <td>diubi-esp-32</td>\n",
              "      <td>42.84629</td>\n",
              "      <td>13.904817</td>\n",
              "      <td>no</td>\n",
              "    </tr>\n",
              "  </tbody>\n",
              "</table>\n",
              "</div>"
            ],
            "text/plain": [
              "   result  table                _start                 _stop  \\\n",
              "0     NaN      0  2022-08-10T15:00:00Z  2022-09-20T15:00:00Z   \n",
              "1     NaN      0  2022-08-10T15:00:00Z  2022-09-20T15:00:00Z   \n",
              "2     NaN      0  2022-08-10T15:00:00Z  2022-09-20T15:00:00Z   \n",
              "3     NaN      0  2022-08-10T15:00:00Z  2022-09-20T15:00:00Z   \n",
              "4     NaN      0  2022-08-10T15:00:00Z  2022-09-20T15:00:00Z   \n",
              "\n",
              "                          _time  _value       _field _measurement  \\\n",
              "0  2022-08-25T10:13:02.3585624Z    29.4  temperature          val   \n",
              "1  2022-08-25T10:13:04.8724766Z    29.4  temperature          val   \n",
              "2  2022-08-25T10:13:07.3884615Z    29.4  temperature          val   \n",
              "3  2022-08-25T10:13:09.8994101Z    29.4  temperature          val   \n",
              "4   2022-08-25T10:13:12.414701Z    29.5  temperature          val   \n",
              "\n",
              "       clientId       lat        lng prediction  \n",
              "0  diubi-esp-32  42.84629  13.904817         no  \n",
              "1  diubi-esp-32  42.84629  13.904817         no  \n",
              "2  diubi-esp-32  42.84629  13.904817         no  \n",
              "3  diubi-esp-32  42.84629  13.904817         no  \n",
              "4  diubi-esp-32  42.84629  13.904817         no  "
            ]
          },
          "execution_count": 61,
          "metadata": {},
          "output_type": "execute_result"
        }
      ],
      "source": [
        "dataset_path = \"../datasets/dataset1.csv\"\n",
        "df = pd.read_csv(dataset_path)\n",
        "df.head()"
      ]
    },
    {
      "cell_type": "code",
      "execution_count": 62,
      "metadata": {
        "id": "TlJhzIZua-0q"
      },
      "outputs": [
        {
          "data": {
            "text/html": [
              "<div>\n",
              "<style scoped>\n",
              "    .dataframe tbody tr th:only-of-type {\n",
              "        vertical-align: middle;\n",
              "    }\n",
              "\n",
              "    .dataframe tbody tr th {\n",
              "        vertical-align: top;\n",
              "    }\n",
              "\n",
              "    .dataframe thead th {\n",
              "        text-align: right;\n",
              "    }\n",
              "</style>\n",
              "<table border=\"1\" class=\"dataframe\">\n",
              "  <thead>\n",
              "    <tr style=\"text-align: right;\">\n",
              "      <th></th>\n",
              "      <th>result</th>\n",
              "      <th>table</th>\n",
              "      <th>_start</th>\n",
              "      <th>_stop</th>\n",
              "      <th>_time</th>\n",
              "      <th>_value</th>\n",
              "      <th>_field</th>\n",
              "      <th>_measurement</th>\n",
              "      <th>clientId</th>\n",
              "      <th>lat</th>\n",
              "      <th>lng</th>\n",
              "      <th>prediction</th>\n",
              "    </tr>\n",
              "  </thead>\n",
              "  <tbody>\n",
              "    <tr>\n",
              "      <th>0</th>\n",
              "      <td>NaN</td>\n",
              "      <td>0</td>\n",
              "      <td>2022-08-10T15:00:00Z</td>\n",
              "      <td>2022-09-20T15:00:00Z</td>\n",
              "      <td>2022-08-25T10:13:02.3585624Z</td>\n",
              "      <td>29.4</td>\n",
              "      <td>temperature</td>\n",
              "      <td>val</td>\n",
              "      <td>diubi-esp-32</td>\n",
              "      <td>42.84629</td>\n",
              "      <td>13.904817</td>\n",
              "      <td>no</td>\n",
              "    </tr>\n",
              "    <tr>\n",
              "      <th>1</th>\n",
              "      <td>NaN</td>\n",
              "      <td>0</td>\n",
              "      <td>2022-08-10T15:00:00Z</td>\n",
              "      <td>2022-09-20T15:00:00Z</td>\n",
              "      <td>2022-08-25T10:13:04.8724766Z</td>\n",
              "      <td>29.4</td>\n",
              "      <td>temperature</td>\n",
              "      <td>val</td>\n",
              "      <td>diubi-esp-32</td>\n",
              "      <td>42.84629</td>\n",
              "      <td>13.904817</td>\n",
              "      <td>no</td>\n",
              "    </tr>\n",
              "    <tr>\n",
              "      <th>2</th>\n",
              "      <td>NaN</td>\n",
              "      <td>0</td>\n",
              "      <td>2022-08-10T15:00:00Z</td>\n",
              "      <td>2022-09-20T15:00:00Z</td>\n",
              "      <td>2022-08-25T10:13:07.3884615Z</td>\n",
              "      <td>29.4</td>\n",
              "      <td>temperature</td>\n",
              "      <td>val</td>\n",
              "      <td>diubi-esp-32</td>\n",
              "      <td>42.84629</td>\n",
              "      <td>13.904817</td>\n",
              "      <td>no</td>\n",
              "    </tr>\n",
              "    <tr>\n",
              "      <th>3</th>\n",
              "      <td>NaN</td>\n",
              "      <td>0</td>\n",
              "      <td>2022-08-10T15:00:00Z</td>\n",
              "      <td>2022-09-20T15:00:00Z</td>\n",
              "      <td>2022-08-25T10:13:09.8994101Z</td>\n",
              "      <td>29.4</td>\n",
              "      <td>temperature</td>\n",
              "      <td>val</td>\n",
              "      <td>diubi-esp-32</td>\n",
              "      <td>42.84629</td>\n",
              "      <td>13.904817</td>\n",
              "      <td>no</td>\n",
              "    </tr>\n",
              "    <tr>\n",
              "      <th>4</th>\n",
              "      <td>NaN</td>\n",
              "      <td>0</td>\n",
              "      <td>2022-08-10T15:00:00Z</td>\n",
              "      <td>2022-09-20T15:00:00Z</td>\n",
              "      <td>2022-08-25T10:13:12.414701Z</td>\n",
              "      <td>29.5</td>\n",
              "      <td>temperature</td>\n",
              "      <td>val</td>\n",
              "      <td>diubi-esp-32</td>\n",
              "      <td>42.84629</td>\n",
              "      <td>13.904817</td>\n",
              "      <td>no</td>\n",
              "    </tr>\n",
              "  </tbody>\n",
              "</table>\n",
              "</div>"
            ],
            "text/plain": [
              "   result  table                _start                 _stop  \\\n",
              "0     NaN      0  2022-08-10T15:00:00Z  2022-09-20T15:00:00Z   \n",
              "1     NaN      0  2022-08-10T15:00:00Z  2022-09-20T15:00:00Z   \n",
              "2     NaN      0  2022-08-10T15:00:00Z  2022-09-20T15:00:00Z   \n",
              "3     NaN      0  2022-08-10T15:00:00Z  2022-09-20T15:00:00Z   \n",
              "4     NaN      0  2022-08-10T15:00:00Z  2022-09-20T15:00:00Z   \n",
              "\n",
              "                          _time  _value       _field _measurement  \\\n",
              "0  2022-08-25T10:13:02.3585624Z    29.4  temperature          val   \n",
              "1  2022-08-25T10:13:04.8724766Z    29.4  temperature          val   \n",
              "2  2022-08-25T10:13:07.3884615Z    29.4  temperature          val   \n",
              "3  2022-08-25T10:13:09.8994101Z    29.4  temperature          val   \n",
              "4   2022-08-25T10:13:12.414701Z    29.5  temperature          val   \n",
              "\n",
              "       clientId       lat        lng prediction  \n",
              "0  diubi-esp-32  42.84629  13.904817         no  \n",
              "1  diubi-esp-32  42.84629  13.904817         no  \n",
              "2  diubi-esp-32  42.84629  13.904817         no  \n",
              "3  diubi-esp-32  42.84629  13.904817         no  \n",
              "4  diubi-esp-32  42.84629  13.904817         no  "
            ]
          },
          "execution_count": 62,
          "metadata": {},
          "output_type": "execute_result"
        }
      ],
      "source": [
        "df.head()"
      ]
    },
    {
      "cell_type": "code",
      "execution_count": null,
      "metadata": {
        "id": "LY-YYLL9bosS"
      },
      "outputs": [],
      "source": [
        "#evolution over time of our data\n",
        "plot_cols = ['_value']\n",
        "plot_features = df[plot_cols]\n",
        "plot_features.index = df['_time']\n",
        "print(df.to_string())\n",
        "_ = plot_features.plot(subplots=True)\n",
        "\n"
      ]
    },
    {
      "cell_type": "code",
      "execution_count": 64,
      "metadata": {
        "id": "U41Ppk2abxUw"
      },
      "outputs": [
        {
          "data": {
            "text/html": [
              "<div>\n",
              "<style scoped>\n",
              "    .dataframe tbody tr th:only-of-type {\n",
              "        vertical-align: middle;\n",
              "    }\n",
              "\n",
              "    .dataframe tbody tr th {\n",
              "        vertical-align: top;\n",
              "    }\n",
              "\n",
              "    .dataframe thead th {\n",
              "        text-align: right;\n",
              "    }\n",
              "</style>\n",
              "<table border=\"1\" class=\"dataframe\">\n",
              "  <thead>\n",
              "    <tr style=\"text-align: right;\">\n",
              "      <th></th>\n",
              "      <th>result</th>\n",
              "      <th>table</th>\n",
              "      <th>_value</th>\n",
              "      <th>lat</th>\n",
              "      <th>lng</th>\n",
              "    </tr>\n",
              "  </thead>\n",
              "  <tbody>\n",
              "    <tr>\n",
              "      <th>count</th>\n",
              "      <td>0.0</td>\n",
              "      <td>3637.000000</td>\n",
              "      <td>3637.000000</td>\n",
              "      <td>3.637000e+03</td>\n",
              "      <td>3.637000e+03</td>\n",
              "    </tr>\n",
              "    <tr>\n",
              "      <th>mean</th>\n",
              "      <td>NaN</td>\n",
              "      <td>0.034094</td>\n",
              "      <td>32.535771</td>\n",
              "      <td>4.284629e+01</td>\n",
              "      <td>1.390482e+01</td>\n",
              "    </tr>\n",
              "    <tr>\n",
              "      <th>std</th>\n",
              "      <td>NaN</td>\n",
              "      <td>0.181496</td>\n",
              "      <td>0.645202</td>\n",
              "      <td>7.106404e-15</td>\n",
              "      <td>1.776601e-15</td>\n",
              "    </tr>\n",
              "    <tr>\n",
              "      <th>min</th>\n",
              "      <td>NaN</td>\n",
              "      <td>0.000000</td>\n",
              "      <td>29.400000</td>\n",
              "      <td>4.284629e+01</td>\n",
              "      <td>1.390482e+01</td>\n",
              "    </tr>\n",
              "    <tr>\n",
              "      <th>25%</th>\n",
              "      <td>NaN</td>\n",
              "      <td>0.000000</td>\n",
              "      <td>32.500000</td>\n",
              "      <td>4.284629e+01</td>\n",
              "      <td>1.390482e+01</td>\n",
              "    </tr>\n",
              "    <tr>\n",
              "      <th>50%</th>\n",
              "      <td>NaN</td>\n",
              "      <td>0.000000</td>\n",
              "      <td>32.800000</td>\n",
              "      <td>4.284629e+01</td>\n",
              "      <td>1.390482e+01</td>\n",
              "    </tr>\n",
              "    <tr>\n",
              "      <th>75%</th>\n",
              "      <td>NaN</td>\n",
              "      <td>0.000000</td>\n",
              "      <td>32.900000</td>\n",
              "      <td>4.284629e+01</td>\n",
              "      <td>1.390482e+01</td>\n",
              "    </tr>\n",
              "    <tr>\n",
              "      <th>max</th>\n",
              "      <td>NaN</td>\n",
              "      <td>1.000000</td>\n",
              "      <td>33.100000</td>\n",
              "      <td>4.284629e+01</td>\n",
              "      <td>1.390482e+01</td>\n",
              "    </tr>\n",
              "  </tbody>\n",
              "</table>\n",
              "</div>"
            ],
            "text/plain": [
              "       result        table       _value           lat           lng\n",
              "count     0.0  3637.000000  3637.000000  3.637000e+03  3.637000e+03\n",
              "mean      NaN     0.034094    32.535771  4.284629e+01  1.390482e+01\n",
              "std       NaN     0.181496     0.645202  7.106404e-15  1.776601e-15\n",
              "min       NaN     0.000000    29.400000  4.284629e+01  1.390482e+01\n",
              "25%       NaN     0.000000    32.500000  4.284629e+01  1.390482e+01\n",
              "50%       NaN     0.000000    32.800000  4.284629e+01  1.390482e+01\n",
              "75%       NaN     0.000000    32.900000  4.284629e+01  1.390482e+01\n",
              "max       NaN     1.000000    33.100000  4.284629e+01  1.390482e+01"
            ]
          },
          "execution_count": 64,
          "metadata": {},
          "output_type": "execute_result"
        }
      ],
      "source": [
        "df.describe()"
      ]
    },
    {
      "cell_type": "code",
      "execution_count": 65,
      "metadata": {
        "id": "CqMVIgEGbz0-"
      },
      "outputs": [],
      "source": [
        "nrows = (len(df.values))\n",
        "splitPoint = int (nrows * 0.60)\n",
        "train = df['_value'] [:splitPoint]\n",
        "test = df ['_value'] [splitPoint:]"
      ]
    },
    {
      "cell_type": "code",
      "execution_count": null,
      "metadata": {},
      "outputs": [],
      "source": [
        "!pip install statsmodels"
      ]
    },
    {
      "cell_type": "code",
      "execution_count": 66,
      "metadata": {
        "id": "u-st1hECb4EK"
      },
      "outputs": [
        {
          "name": "stdout",
          "output_type": "stream",
          "text": [
            "ADF Statistic: -3.908645\n",
            "p-value: 0.001972\n"
          ]
        }
      ],
      "source": [
        " # Check whether the time-series is stationary through the Dickey-Fuller test\n",
        "from statsmodels.tsa.stattools import adfuller\n",
        "result = adfuller(train)\n",
        "\n",
        "print('ADF Statistic: %f' % result[0])\n",
        "print('p-value: %f' % result[1])"
      ]
    },
    {
      "cell_type": "code",
      "execution_count": 67,
      "metadata": {
        "id": "M6bB0EK_b8Mu"
      },
      "outputs": [
        {
          "name": "stdout",
          "output_type": "stream",
          "text": [
            "ADF Statistic: -48.817876\n",
            "p-value: 0.000000\n"
          ]
        }
      ],
      "source": [
        "train_new = train.diff().dropna()\n",
        "result = adfuller(train_new)\n",
        "print('ADF Statistic: %f' % result[0])\n",
        "print('p-value: %f' % result[1])"
      ]
    },
    {
      "cell_type": "code",
      "execution_count": 68,
      "metadata": {
        "colab": {
          "base_uri": "https://localhost:8080/",
          "height": 281
        },
        "id": "l5VD-Rpgb-9c",
        "outputId": "b42be848-5f06-429e-a875-18cec2efb3e1"
      },
      "outputs": [
        {
          "data": {
            "image/png": "[encoded data removed]",
            "text/plain": [
              "<Figure size 432x288 with 1 Axes>"
            ]
          },
          "metadata": {
            "needs_background": "light"
          },
          "output_type": "display_data"
        }
      ],
      "source": [
        "from statsmodels.graphics import tsaplots\n",
        "fig = tsaplots.plot_acf(train_new,lags=10)\n",
        "plt.show()"
      ]
    },
    {
      "cell_type": "code",
      "execution_count": 69,
      "metadata": {
        "colab": {
          "base_uri": "https://localhost:8080/",
          "height": 281
        },
        "id": "aA98K_lUcBNi",
        "outputId": "cebc7e87-3d6b-42d1-dcc5-5689c84ab0fe"
      },
      "outputs": [
        {
          "name": "stderr",
          "output_type": "stream",
          "text": [
            "c:\\Users\\andre\\AppData\\Local\\Programs\\Python\\Python39\\lib\\site-packages\\statsmodels\\graphics\\tsaplots.py:348: FutureWarning: The default method 'yw' can produce PACF values outside of the [-1,1] interval. After 0.13, the default will change tounadjusted Yule-Walker ('ywm'). You can use this method now by setting method='ywm'.\n",
            "  warnings.warn(\n"
          ]
        },
        {
          "data": {
            "image/png": "[encoded data removed]",
            "text/plain": [
              "<Figure size 432x288 with 1 Axes>"
            ]
          },
          "metadata": {
            "needs_background": "light"
          },
          "output_type": "display_data"
        }
      ],
      "source": [
        "fig = tsaplots.plot_pacf(train_new, lags=10)\n",
        "plt.show()"
      ]
    },
    {
      "cell_type": "code",
      "execution_count": null,
      "metadata": {
        "id": "NR3V2mx8d7p-"
      },
      "outputs": [],
      "source": [
        "#Step 6; Apply ARIMA model\n",
        "from statsmodels.tsa.arima.model import ARIMA\n",
        "history = [x for x in train]\n",
        "predictions = list()\n",
        "print(test)\n",
        "for t in test.index:\n",
        "  model = ARIMA(history, order=(0,0,1))\n",
        "  model_fit = model. fit()\n",
        "  output = model_fit.forecast()\n",
        "  yest = output[0]\n",
        "  predictions.append(yest)\n",
        "  obs= test[t]\n",
        "  history.append(obs)\n",
        "  print ('predicted=%f, expected=%f' % (yest, obs))"
      ]
    },
    {
      "cell_type": "code",
      "execution_count": 72,
      "metadata": {
        "colab": {
          "base_uri": "https://localhost:8080/",
          "height": 282
        },
        "id": "ZKPLesOwckie",
        "outputId": "72a64881-82bf-407f-d4db-b4173062d3ad"
      },
      "outputs": [
        {
          "name": "stdout",
          "output_type": "stream",
          "text": [
            "Test RMSE: 0.207\n"
          ]
        },
        {
          "data": {
            "image/png": "[encoded data removed]",
            "text/plain": [
              "<Figure size 432x288 with 1 Axes>"
            ]
          },
          "metadata": {
            "needs_background": "light"
          },
          "output_type": "display_data"
        }
      ],
      "source": [
        "import math\n",
        "from sklearn.metrics import mean_squared_error\n",
        "\n",
        "rmse = math.sqrt(mean_squared_error(test, predictions))\n",
        "print('Test RMSE: %.3f'% rmse)\n",
        "\n",
        "df2 = pd. DataFrame (predictions)\n",
        "df2. set_index(test.index, inplace=True)\n",
        "plt.plot(test)\n",
        "plt.plot(df2, color='red')\n",
        "plt.show()"
      ]
    },
    {
      "cell_type": "markdown",
      "metadata": {},
      "source": [
        "### Prophet"
      ]
    },
    {
      "cell_type": "code",
      "execution_count": null,
      "metadata": {},
      "outputs": [],
      "source": [
        "%pip install conda"
      ]
    },
    {
      "cell_type": "code",
      "execution_count": 25,
      "metadata": {},
      "outputs": [
        {
          "name": "stdout",
          "output_type": "stream",
          "text": [
            "Note: you may need to restart the kernel to use updated packages.\n"
          ]
        },
        {
          "name": "stderr",
          "output_type": "stream",
          "text": [
            "ERROR: unknown command \"conda\"\n",
            "\n"
          ]
        }
      ],
      "source": [
        "%pip conda install -c conda-forge fbprophet -y"
      ]
    },
    {
      "cell_type": "code",
      "execution_count": 27,
      "metadata": {},
      "outputs": [
        {
          "name": "stdout",
          "output_type": "stream",
          "text": [
            "Requirement already satisfied: plotly in c:\\users\\andre\\appdata\\local\\programs\\python\\python39\\lib\\site-packages (5.10.0)\n",
            "Requirement already satisfied: tenacity>=6.2.0 in c:\\users\\andre\\appdata\\local\\programs\\python\\python39\\lib\\site-packages (from plotly) (8.0.1)\n"
          ]
        },
        {
          "name": "stderr",
          "output_type": "stream",
          "text": [
            "WARNING: You are using pip version 21.2.3; however, version 22.2.2 is available.\n",
            "You should consider upgrading via the 'C:\\Users\\andre\\AppData\\Local\\Programs\\Python\\Python39\\python.exe -m pip install --upgrade pip' command.\n"
          ]
        }
      ],
      "source": [
        "!pip install --upgrade plotly"
      ]
    },
    {
      "cell_type": "code",
      "execution_count": 28,
      "metadata": {},
      "outputs": [],
      "source": [
        "import pandas as pd\n",
        "import matplotlib.pyplot as plt\n",
        "import datetime as datetime\n",
        "from prophet import Prophet"
      ]
    },
    {
      "cell_type": "code",
      "execution_count": 29,
      "metadata": {},
      "outputs": [],
      "source": [
        "model_params = {\"daily_seasonality\": False, \"weekly_seasonality\": False, \"yearly_seasonality\": True, \"seasonality_mode\": \"multiplicative\", \"growth\": \"logistic\"}"
      ]
    },
    {
      "cell_type": "code",
      "execution_count": 30,
      "metadata": {},
      "outputs": [
        {
          "ename": "ValueError",
          "evalue": "Parameter \"growth\" should be \"linear\", \"logistic\" or \"flat\".",
          "output_type": "error",
          "traceback": [
            "\u001b[1;31m---------------------------------------------------------------------------\u001b[0m",
            "\u001b[1;31mValueError\u001b[0m                                Traceback (most recent call last)",
            "\u001b[1;32md:\\uniboProjects\\iotProjects\\iot-project\\forecasting\\forecasting.ipynb Cella 32\u001b[0m in \u001b[0;36m<cell line: 1>\u001b[1;34m()\u001b[0m\n\u001b[1;32m----> <a href='vscode-notebook-cell:/d%3A/uniboProjects/iotProjects/iot-project/forecasting/forecasting.ipynb#Y115sZmlsZQ%3D%3D?line=0'>1</a>\u001b[0m model \u001b[39m=\u001b[39m Prophet(model_params)\n",
            "File \u001b[1;32mc:\\Users\\andre\\AppData\\Local\\Programs\\Python\\Python39\\lib\\site-packages\\prophet\\forecaster.py:140\u001b[0m, in \u001b[0;36mProphet.__init__\u001b[1;34m(self, growth, changepoints, n_changepoints, changepoint_range, yearly_seasonality, weekly_seasonality, daily_seasonality, holidays, seasonality_mode, seasonality_prior_scale, holidays_prior_scale, changepoint_prior_scale, mcmc_samples, interval_width, uncertainty_samples, stan_backend)\u001b[0m\n\u001b[0;32m    138\u001b[0m \u001b[39mself\u001b[39m\u001b[39m.\u001b[39mtrain_holiday_names \u001b[39m=\u001b[39m \u001b[39mNone\u001b[39;00m\n\u001b[0;32m    139\u001b[0m \u001b[39mself\u001b[39m\u001b[39m.\u001b[39mfit_kwargs \u001b[39m=\u001b[39m {}\n\u001b[1;32m--> 140\u001b[0m \u001b[39mself\u001b[39;49m\u001b[39m.\u001b[39;49mvalidate_inputs()\n\u001b[0;32m    141\u001b[0m \u001b[39mself\u001b[39m\u001b[39m.\u001b[39m_load_stan_backend(stan_backend)\n",
            "File \u001b[1;32mc:\\Users\\andre\\AppData\\Local\\Programs\\Python\\Python39\\lib\\site-packages\\prophet\\forecaster.py:159\u001b[0m, in \u001b[0;36mProphet.validate_inputs\u001b[1;34m(self)\u001b[0m\n\u001b[0;32m    157\u001b[0m \u001b[39m\"\"\"Validates the inputs to Prophet.\"\"\"\u001b[39;00m\n\u001b[0;32m    158\u001b[0m \u001b[39mif\u001b[39;00m \u001b[39mself\u001b[39m\u001b[39m.\u001b[39mgrowth \u001b[39mnot\u001b[39;00m \u001b[39min\u001b[39;00m (\u001b[39m'\u001b[39m\u001b[39mlinear\u001b[39m\u001b[39m'\u001b[39m, \u001b[39m'\u001b[39m\u001b[39mlogistic\u001b[39m\u001b[39m'\u001b[39m, \u001b[39m'\u001b[39m\u001b[39mflat\u001b[39m\u001b[39m'\u001b[39m):\n\u001b[1;32m--> 159\u001b[0m     \u001b[39mraise\u001b[39;00m \u001b[39mValueError\u001b[39;00m(\n\u001b[0;32m    160\u001b[0m         \u001b[39m'\u001b[39m\u001b[39mParameter \u001b[39m\u001b[39m\"\u001b[39m\u001b[39mgrowth\u001b[39m\u001b[39m\"\u001b[39m\u001b[39m should be \u001b[39m\u001b[39m\"\u001b[39m\u001b[39mlinear\u001b[39m\u001b[39m\"\u001b[39m\u001b[39m, \u001b[39m\u001b[39m\"\u001b[39m\u001b[39mlogistic\u001b[39m\u001b[39m\"\u001b[39m\u001b[39m or \u001b[39m\u001b[39m\"\u001b[39m\u001b[39mflat\u001b[39m\u001b[39m\"\u001b[39m\u001b[39m.\u001b[39m\u001b[39m'\u001b[39m)\n\u001b[0;32m    161\u001b[0m \u001b[39mif\u001b[39;00m ((\u001b[39mself\u001b[39m\u001b[39m.\u001b[39mchangepoint_range \u001b[39m<\u001b[39m \u001b[39m0\u001b[39m) \u001b[39mor\u001b[39;00m (\u001b[39mself\u001b[39m\u001b[39m.\u001b[39mchangepoint_range \u001b[39m>\u001b[39m \u001b[39m1\u001b[39m)):\n\u001b[0;32m    162\u001b[0m     \u001b[39mraise\u001b[39;00m \u001b[39mValueError\u001b[39;00m(\u001b[39m'\u001b[39m\u001b[39mParameter \u001b[39m\u001b[39m\"\u001b[39m\u001b[39mchangepoint_range\u001b[39m\u001b[39m\"\u001b[39m\u001b[39m must be in [0, 1]\u001b[39m\u001b[39m'\u001b[39m)\n",
            "\u001b[1;31mValueError\u001b[0m: Parameter \"growth\" should be \"linear\", \"logistic\" or \"flat\"."
          ]
        }
      ],
      "source": [
        "model = Prophet(model_params)"
      ]
    },
    {
      "cell_type": "code",
      "execution_count": null,
      "metadata": {},
      "outputs": [],
      "source": [
        "model.plot_components(forecast)\n",
        "model.plot(forecast)"
      ]
    },
    {
      "cell_type": "markdown",
      "metadata": {
        "id": "F_Ihy7o9TdE7"
      },
      "source": [
        "## Implementation Humidity Predictor"
      ]
    },
    {
      "cell_type": "code",
      "execution_count": null,
      "metadata": {
        "colab": {
          "base_uri": "https://localhost:8080/",
          "height": 204
        },
        "id": "Trmw6Jegekg-",
        "outputId": "26b37b2b-5c09-477e-8db1-865145b0b1c8"
      },
      "outputs": [
        {
          "data": {
            "text/html": [
              "\n",
              "  <div id=\"df-c306852b-7769-4551-b2bb-20a1534dba96\">\n",
              "    <div class=\"colab-df-container\">\n",
              "      <div>\n",
              "<style scoped>\n",
              "    .dataframe tbody tr th:only-of-type {\n",
              "        vertical-align: middle;\n",
              "    }\n",
              "\n",
              "    .dataframe tbody tr th {\n",
              "        vertical-align: top;\n",
              "    }\n",
              "\n",
              "    .dataframe thead th {\n",
              "        text-align: right;\n",
              "    }\n",
              "</style>\n",
              "<table border=\"1\" class=\"dataframe\">\n",
              "  <thead>\n",
              "    <tr style=\"text-align: right;\">\n",
              "      <th></th>\n",
              "      <th>409151bfa0cc</th>\n",
              "      <th>409151bfa0cc.1</th>\n",
              "    </tr>\n",
              "  </thead>\n",
              "  <tbody>\n",
              "    <tr>\n",
              "      <th>0</th>\n",
              "      <td>2022-06-05 23:03:12</td>\n",
              "      <td>49.9</td>\n",
              "    </tr>\n",
              "    <tr>\n",
              "      <th>1</th>\n",
              "      <td>2022-06-05 23:03:15</td>\n",
              "      <td>49.9</td>\n",
              "    </tr>\n",
              "    <tr>\n",
              "      <th>2</th>\n",
              "      <td>2022-06-05 23:03:17</td>\n",
              "      <td>49.9</td>\n",
              "    </tr>\n",
              "    <tr>\n",
              "      <th>3</th>\n",
              "      <td>2022-06-05 23:03:20</td>\n",
              "      <td>49.8</td>\n",
              "    </tr>\n",
              "    <tr>\n",
              "      <th>4</th>\n",
              "      <td>2022-06-05 23:03:22</td>\n",
              "      <td>49.8</td>\n",
              "    </tr>\n",
              "  </tbody>\n",
              "</table>\n",
              "</div>\n",
              "      <button class=\"colab-df-convert\" onclick=\"convertToInteractive('df-c306852b-7769-4551-b2bb-20a1534dba96')\"\n",
              "              title=\"Convert this dataframe to an interactive table.\"\n",
              "              style=\"display:none;\">\n",
              "        \n",
              "  <svg xmlns=\"http://www.w3.org/2000/svg\" height=\"24px\"viewBox=\"0 0 24 24\"\n",
              "       width=\"24px\">\n",
              "    <path d=\"M0 0h24v24H0V0z\" fill=\"none\"/>\n",
              "    <path d=\"M18.56 5.44l.94 2.06.94-2.06 2.06-.94-2.06-.94-.94-2.06-.94 2.06-2.06.94zm-11 1L8.5 8.5l.94-2.06 2.06-.94-2.06-.94L8.5 2.5l-.94 2.06-2.06.94zm10 10l.94 2.06.94-2.06 2.06-.94-2.06-.94-.94-2.06-.94 2.06-2.06.94z\"/><path d=\"M17.41 7.96l-1.37-1.37c-.4-.4-.92-.59-1.43-.59-.52 0-1.04.2-1.43.59L10.3 9.45l-7.72 7.72c-.78.78-.78 2.05 0 2.83L4 21.41c.39.39.9.59 1.41.59.51 0 1.02-.2 1.41-.59l7.78-7.78 2.81-2.81c.8-.78.8-2.07 0-2.86zM5.41 20L4 18.59l7.72-7.72 1.47 1.35L5.41 20z\"/>\n",
              "  </svg>\n",
              "      </button>\n",
              "      \n",
              "  <style>\n",
              "    .colab-df-container {\n",
              "      display:flex;\n",
              "      flex-wrap:wrap;\n",
              "      gap: 12px;\n",
              "    }\n",
              "\n",
              "    .colab-df-convert {\n",
              "      background-color: #E8F0FE;\n",
              "      border: none;\n",
              "      border-radius: 50%;\n",
              "      cursor: pointer;\n",
              "      display: none;\n",
              "      fill: #1967D2;\n",
              "      height: 32px;\n",
              "      padding: 0 0 0 0;\n",
              "      width: 32px;\n",
              "    }\n",
              "\n",
              "    .colab-df-convert:hover {\n",
              "      background-color: #E2EBFA;\n",
              "      box-shadow: 0px 1px 2px rgba(60, 64, 67, 0.3), 0px 1px 3px 1px rgba(60, 64, 67, 0.15);\n",
              "      fill: #174EA6;\n",
              "    }\n",
              "\n",
              "    [theme=dark] .colab-df-convert {\n",
              "      background-color: #3B4455;\n",
              "      fill: #D2E3FC;\n",
              "    }\n",
              "\n",
              "    [theme=dark] .colab-df-convert:hover {\n",
              "      background-color: #434B5C;\n",
              "      box-shadow: 0px 1px 3px 1px rgba(0, 0, 0, 0.15);\n",
              "      filter: drop-shadow(0px 1px 2px rgba(0, 0, 0, 0.3));\n",
              "      fill: #FFFFFF;\n",
              "    }\n",
              "  </style>\n",
              "\n",
              "      <script>\n",
              "        const buttonEl =\n",
              "          document.querySelector('#df-c306852b-7769-4551-b2bb-20a1534dba96 button.colab-df-convert');\n",
              "        buttonEl.style.display =\n",
              "          google.colab.kernel.accessAllowed ? 'block' : 'none';\n",
              "\n",
              "        async function convertToInteractive(key) {\n",
              "          const element = document.querySelector('#df-c306852b-7769-4551-b2bb-20a1534dba96');\n",
              "          const dataTable =\n",
              "            await google.colab.kernel.invokeFunction('convertToInteractive',\n",
              "                                                     [key], {});\n",
              "          if (!dataTable) return;\n",
              "\n",
              "          const docLinkHtml = 'Like what you see? Visit the ' +\n",
              "            '<a target=\"_blank\" href=https://colab.research.google.com/notebooks/data_table.ipynb>data table notebook</a>'\n",
              "            + ' to learn more about interactive tables.';\n",
              "          element.innerHTML = '';\n",
              "          dataTable['output_type'] = 'display_data';\n",
              "          await google.colab.output.renderOutput(dataTable, element);\n",
              "          const docLink = document.createElement('div');\n",
              "          docLink.innerHTML = docLinkHtml;\n",
              "          element.appendChild(docLink);\n",
              "        }\n",
              "      </script>\n",
              "    </div>\n",
              "  </div>\n",
              "  "
            ],
            "text/plain": [
              "          409151bfa0cc  409151bfa0cc.1\n",
              "0  2022-06-05 23:03:12            49.9\n",
              "1  2022-06-05 23:03:15            49.9\n",
              "2  2022-06-05 23:03:17            49.9\n",
              "3  2022-06-05 23:03:20            49.8\n",
              "4  2022-06-05 23:03:22            49.8"
            ]
          },
          "execution_count": 130,
          "metadata": {},
          "output_type": "execute_result"
        }
      ],
      "source": [
        "dataset_path = \"/content/drive/MyDrive/Datasets/Forecasting/hum.csv\"\n",
        "df = pd.read_csv(dataset_path)\n",
        "df.head()"
      ]
    },
    {
      "cell_type": "code",
      "execution_count": null,
      "metadata": {
        "colab": {
          "base_uri": "https://localhost:8080/",
          "height": 204
        },
        "id": "vuFtYoXPfP8m",
        "outputId": "1e2f74af-4094-4e88-86cf-d85396588ae9"
      },
      "outputs": [
        {
          "data": {
            "text/html": [
              "\n",
              "  <div id=\"df-4a9930d6-7dfb-45e5-aae4-ade0e875a18c\">\n",
              "    <div class=\"colab-df-container\">\n",
              "      <div>\n",
              "<style scoped>\n",
              "    .dataframe tbody tr th:only-of-type {\n",
              "        vertical-align: middle;\n",
              "    }\n",
              "\n",
              "    .dataframe tbody tr th {\n",
              "        vertical-align: top;\n",
              "    }\n",
              "\n",
              "    .dataframe thead th {\n",
              "        text-align: right;\n",
              "    }\n",
              "</style>\n",
              "<table border=\"1\" class=\"dataframe\">\n",
              "  <thead>\n",
              "    <tr style=\"text-align: right;\">\n",
              "      <th></th>\n",
              "      <th>time</th>\n",
              "      <th>y</th>\n",
              "    </tr>\n",
              "  </thead>\n",
              "  <tbody>\n",
              "    <tr>\n",
              "      <th>0</th>\n",
              "      <td>2022-06-05 23:03:12</td>\n",
              "      <td>49.9</td>\n",
              "    </tr>\n",
              "    <tr>\n",
              "      <th>1</th>\n",
              "      <td>2022-06-05 23:03:15</td>\n",
              "      <td>49.9</td>\n",
              "    </tr>\n",
              "    <tr>\n",
              "      <th>2</th>\n",
              "      <td>2022-06-05 23:03:17</td>\n",
              "      <td>49.9</td>\n",
              "    </tr>\n",
              "    <tr>\n",
              "      <th>3</th>\n",
              "      <td>2022-06-05 23:03:20</td>\n",
              "      <td>49.8</td>\n",
              "    </tr>\n",
              "    <tr>\n",
              "      <th>4</th>\n",
              "      <td>2022-06-05 23:03:22</td>\n",
              "      <td>49.8</td>\n",
              "    </tr>\n",
              "  </tbody>\n",
              "</table>\n",
              "</div>\n",
              "      <button class=\"colab-df-convert\" onclick=\"convertToInteractive('df-4a9930d6-7dfb-45e5-aae4-ade0e875a18c')\"\n",
              "              title=\"Convert this dataframe to an interactive table.\"\n",
              "              style=\"display:none;\">\n",
              "        \n",
              "  <svg xmlns=\"http://www.w3.org/2000/svg\" height=\"24px\"viewBox=\"0 0 24 24\"\n",
              "       width=\"24px\">\n",
              "    <path d=\"M0 0h24v24H0V0z\" fill=\"none\"/>\n",
              "    <path d=\"M18.56 5.44l.94 2.06.94-2.06 2.06-.94-2.06-.94-.94-2.06-.94 2.06-2.06.94zm-11 1L8.5 8.5l.94-2.06 2.06-.94-2.06-.94L8.5 2.5l-.94 2.06-2.06.94zm10 10l.94 2.06.94-2.06 2.06-.94-2.06-.94-.94-2.06-.94 2.06-2.06.94z\"/><path d=\"M17.41 7.96l-1.37-1.37c-.4-.4-.92-.59-1.43-.59-.52 0-1.04.2-1.43.59L10.3 9.45l-7.72 7.72c-.78.78-.78 2.05 0 2.83L4 21.41c.39.39.9.59 1.41.59.51 0 1.02-.2 1.41-.59l7.78-7.78 2.81-2.81c.8-.78.8-2.07 0-2.86zM5.41 20L4 18.59l7.72-7.72 1.47 1.35L5.41 20z\"/>\n",
              "  </svg>\n",
              "      </button>\n",
              "      \n",
              "  <style>\n",
              "    .colab-df-container {\n",
              "      display:flex;\n",
              "      flex-wrap:wrap;\n",
              "      gap: 12px;\n",
              "    }\n",
              "\n",
              "    .colab-df-convert {\n",
              "      background-color: #E8F0FE;\n",
              "      border: none;\n",
              "      border-radius: 50%;\n",
              "      cursor: pointer;\n",
              "      display: none;\n",
              "      fill: #1967D2;\n",
              "      height: 32px;\n",
              "      padding: 0 0 0 0;\n",
              "      width: 32px;\n",
              "    }\n",
              "\n",
              "    .colab-df-convert:hover {\n",
              "      background-color: #E2EBFA;\n",
              "      box-shadow: 0px 1px 2px rgba(60, 64, 67, 0.3), 0px 1px 3px 1px rgba(60, 64, 67, 0.15);\n",
              "      fill: #174EA6;\n",
              "    }\n",
              "\n",
              "    [theme=dark] .colab-df-convert {\n",
              "      background-color: #3B4455;\n",
              "      fill: #D2E3FC;\n",
              "    }\n",
              "\n",
              "    [theme=dark] .colab-df-convert:hover {\n",
              "      background-color: #434B5C;\n",
              "      box-shadow: 0px 1px 3px 1px rgba(0, 0, 0, 0.15);\n",
              "      filter: drop-shadow(0px 1px 2px rgba(0, 0, 0, 0.3));\n",
              "      fill: #FFFFFF;\n",
              "    }\n",
              "  </style>\n",
              "\n",
              "      <script>\n",
              "        const buttonEl =\n",
              "          document.querySelector('#df-4a9930d6-7dfb-45e5-aae4-ade0e875a18c button.colab-df-convert');\n",
              "        buttonEl.style.display =\n",
              "          google.colab.kernel.accessAllowed ? 'block' : 'none';\n",
              "\n",
              "        async function convertToInteractive(key) {\n",
              "          const element = document.querySelector('#df-4a9930d6-7dfb-45e5-aae4-ade0e875a18c');\n",
              "          const dataTable =\n",
              "            await google.colab.kernel.invokeFunction('convertToInteractive',\n",
              "                                                     [key], {});\n",
              "          if (!dataTable) return;\n",
              "\n",
              "          const docLinkHtml = 'Like what you see? Visit the ' +\n",
              "            '<a target=\"_blank\" href=https://colab.research.google.com/notebooks/data_table.ipynb>data table notebook</a>'\n",
              "            + ' to learn more about interactive tables.';\n",
              "          element.innerHTML = '';\n",
              "          dataTable['output_type'] = 'display_data';\n",
              "          await google.colab.output.renderOutput(dataTable, element);\n",
              "          const docLink = document.createElement('div');\n",
              "          docLink.innerHTML = docLinkHtml;\n",
              "          element.appendChild(docLink);\n",
              "        }\n",
              "      </script>\n",
              "    </div>\n",
              "  </div>\n",
              "  "
            ],
            "text/plain": [
              "                  time     y\n",
              "0  2022-06-05 23:03:12  49.9\n",
              "1  2022-06-05 23:03:15  49.9\n",
              "2  2022-06-05 23:03:17  49.9\n",
              "3  2022-06-05 23:03:20  49.8\n",
              "4  2022-06-05 23:03:22  49.8"
            ]
          },
          "execution_count": 131,
          "metadata": {},
          "output_type": "execute_result"
        }
      ],
      "source": [
        "df = df.rename(columns={\"409151bfa0cc\" : 'time', \"409151bfa0cc.1\" : 'y'})\n",
        "df.head()"
      ]
    },
    {
      "cell_type": "code",
      "execution_count": null,
      "metadata": {
        "colab": {
          "base_uri": "https://localhost:8080/",
          "height": 265
        },
        "id": "iwdHubMqfWP_",
        "outputId": "636d6690-f96a-4fbb-a6e9-aacb57c7037f"
      },
      "outputs": [
        {
          "data": {
            "image/png": "[encoded data removed]",
            "text/plain": [
              "<Figure size 432x288 with 1 Axes>"
            ]
          },
          "metadata": {
            "needs_background": "light"
          },
          "output_type": "display_data"
        }
      ],
      "source": [
        "#evolution over time of our data\n",
        "plot_cols = ['y']\n",
        "plot_features = df[plot_cols]\n",
        "_ = plot_features.plot(subplots=True)"
      ]
    },
    {
      "cell_type": "code",
      "execution_count": null,
      "metadata": {
        "colab": {
          "base_uri": "https://localhost:8080/",
          "height": 80
        },
        "id": "ZoMhX28wffSo",
        "outputId": "88269a87-8120-4162-a5df-e15612d84904"
      },
      "outputs": [
        {
          "data": {
            "text/html": [
              "\n",
              "  <div id=\"df-c9760789-77ba-4458-8099-60a89df958db\">\n",
              "    <div class=\"colab-df-container\">\n",
              "      <div>\n",
              "<style scoped>\n",
              "    .dataframe tbody tr th:only-of-type {\n",
              "        vertical-align: middle;\n",
              "    }\n",
              "\n",
              "    .dataframe tbody tr th {\n",
              "        vertical-align: top;\n",
              "    }\n",
              "\n",
              "    .dataframe thead th {\n",
              "        text-align: right;\n",
              "    }\n",
              "</style>\n",
              "<table border=\"1\" class=\"dataframe\">\n",
              "  <thead>\n",
              "    <tr style=\"text-align: right;\">\n",
              "      <th></th>\n",
              "      <th>count</th>\n",
              "      <th>mean</th>\n",
              "      <th>std</th>\n",
              "      <th>min</th>\n",
              "      <th>25%</th>\n",
              "      <th>50%</th>\n",
              "      <th>75%</th>\n",
              "      <th>max</th>\n",
              "    </tr>\n",
              "  </thead>\n",
              "  <tbody>\n",
              "    <tr>\n",
              "      <th>y</th>\n",
              "      <td>118.0</td>\n",
              "      <td>47.049153</td>\n",
              "      <td>1.572344</td>\n",
              "      <td>45.2</td>\n",
              "      <td>45.825</td>\n",
              "      <td>46.45</td>\n",
              "      <td>48.425</td>\n",
              "      <td>50.0</td>\n",
              "    </tr>\n",
              "  </tbody>\n",
              "</table>\n",
              "</div>\n",
              "      <button class=\"colab-df-convert\" onclick=\"convertToInteractive('df-c9760789-77ba-4458-8099-60a89df958db')\"\n",
              "              title=\"Convert this dataframe to an interactive table.\"\n",
              "              style=\"display:none;\">\n",
              "        \n",
              "  <svg xmlns=\"http://www.w3.org/2000/svg\" height=\"24px\"viewBox=\"0 0 24 24\"\n",
              "       width=\"24px\">\n",
              "    <path d=\"M0 0h24v24H0V0z\" fill=\"none\"/>\n",
              "    <path d=\"M18.56 5.44l.94 2.06.94-2.06 2.06-.94-2.06-.94-.94-2.06-.94 2.06-2.06.94zm-11 1L8.5 8.5l.94-2.06 2.06-.94-2.06-.94L8.5 2.5l-.94 2.06-2.06.94zm10 10l.94 2.06.94-2.06 2.06-.94-2.06-.94-.94-2.06-.94 2.06-2.06.94z\"/><path d=\"M17.41 7.96l-1.37-1.37c-.4-.4-.92-.59-1.43-.59-.52 0-1.04.2-1.43.59L10.3 9.45l-7.72 7.72c-.78.78-.78 2.05 0 2.83L4 21.41c.39.39.9.59 1.41.59.51 0 1.02-.2 1.41-.59l7.78-7.78 2.81-2.81c.8-.78.8-2.07 0-2.86zM5.41 20L4 18.59l7.72-7.72 1.47 1.35L5.41 20z\"/>\n",
              "  </svg>\n",
              "      </button>\n",
              "      \n",
              "  <style>\n",
              "    .colab-df-container {\n",
              "      display:flex;\n",
              "      flex-wrap:wrap;\n",
              "      gap: 12px;\n",
              "    }\n",
              "\n",
              "    .colab-df-convert {\n",
              "      background-color: #E8F0FE;\n",
              "      border: none;\n",
              "      border-radius: 50%;\n",
              "      cursor: pointer;\n",
              "      display: none;\n",
              "      fill: #1967D2;\n",
              "      height: 32px;\n",
              "      padding: 0 0 0 0;\n",
              "      width: 32px;\n",
              "    }\n",
              "\n",
              "    .colab-df-convert:hover {\n",
              "      background-color: #E2EBFA;\n",
              "      box-shadow: 0px 1px 2px rgba(60, 64, 67, 0.3), 0px 1px 3px 1px rgba(60, 64, 67, 0.15);\n",
              "      fill: #174EA6;\n",
              "    }\n",
              "\n",
              "    [theme=dark] .colab-df-convert {\n",
              "      background-color: #3B4455;\n",
              "      fill: #D2E3FC;\n",
              "    }\n",
              "\n",
              "    [theme=dark] .colab-df-convert:hover {\n",
              "      background-color: #434B5C;\n",
              "      box-shadow: 0px 1px 3px 1px rgba(0, 0, 0, 0.15);\n",
              "      filter: drop-shadow(0px 1px 2px rgba(0, 0, 0, 0.3));\n",
              "      fill: #FFFFFF;\n",
              "    }\n",
              "  </style>\n",
              "\n",
              "      <script>\n",
              "        const buttonEl =\n",
              "          document.querySelector('#df-c9760789-77ba-4458-8099-60a89df958db button.colab-df-convert');\n",
              "        buttonEl.style.display =\n",
              "          google.colab.kernel.accessAllowed ? 'block' : 'none';\n",
              "\n",
              "        async function convertToInteractive(key) {\n",
              "          const element = document.querySelector('#df-c9760789-77ba-4458-8099-60a89df958db');\n",
              "          const dataTable =\n",
              "            await google.colab.kernel.invokeFunction('convertToInteractive',\n",
              "                                                     [key], {});\n",
              "          if (!dataTable) return;\n",
              "\n",
              "          const docLinkHtml = 'Like what you see? Visit the ' +\n",
              "            '<a target=\"_blank\" href=https://colab.research.google.com/notebooks/data_table.ipynb>data table notebook</a>'\n",
              "            + ' to learn more about interactive tables.';\n",
              "          element.innerHTML = '';\n",
              "          dataTable['output_type'] = 'display_data';\n",
              "          await google.colab.output.renderOutput(dataTable, element);\n",
              "          const docLink = document.createElement('div');\n",
              "          docLink.innerHTML = docLinkHtml;\n",
              "          element.appendChild(docLink);\n",
              "        }\n",
              "      </script>\n",
              "    </div>\n",
              "  </div>\n",
              "  "
            ],
            "text/plain": [
              "   count       mean       std   min     25%    50%     75%   max\n",
              "y  118.0  47.049153  1.572344  45.2  45.825  46.45  48.425  50.0"
            ]
          },
          "execution_count": 133,
          "metadata": {},
          "output_type": "execute_result"
        }
      ],
      "source": [
        "df.describe().transpose()"
      ]
    },
    {
      "cell_type": "code",
      "execution_count": null,
      "metadata": {
        "id": "_C4w_3Uej10C"
      },
      "outputs": [],
      "source": [
        "nrows = (len(df.values))\n",
        "splitPoint = int (nrows * 0.60)\n",
        "train = df['y'] [:splitPoint]\n",
        "test = df ['y'] [splitPoint:]"
      ]
    },
    {
      "cell_type": "code",
      "execution_count": null,
      "metadata": {
        "colab": {
          "base_uri": "https://localhost:8080/"
        },
        "id": "bQ7PkTNtfud_",
        "outputId": "b7c9a5c2-9db9-4633-bbab-1b3a2c9e1274"
      },
      "outputs": [
        {
          "name": "stdout",
          "output_type": "stream",
          "text": [
            "ADF Statistic: -1.015842\n",
            "p-value: 0.747443\n"
          ]
        }
      ],
      "source": [
        " # Check whether the time-series is stationary through the Dickey-Fuller test\n",
        "from statsmodels.tsa.stattools import adfuller\n",
        "result = adfuller(train)\n",
        "\n",
        "print('ADF Statistic: %f' % result[0])\n",
        "print('p-value: %f' % result[1])"
      ]
    },
    {
      "cell_type": "code",
      "execution_count": null,
      "metadata": {
        "colab": {
          "base_uri": "https://localhost:8080/"
        },
        "id": "5rNoUdguf9LH",
        "outputId": "cad1a9fa-0b81-485e-af8a-6b57477dbd63"
      },
      "outputs": [
        {
          "name": "stdout",
          "output_type": "stream",
          "text": [
            "ADF Statistic: -4.107289\n",
            "p-value: 0.000942\n"
          ]
        }
      ],
      "source": [
        "train_new = train.diff().dropna()\n",
        "result = adfuller(train_new)\n",
        "print('ADF Statistic: %f' % result[0])\n",
        "print('p-value: %f' % result[1])"
      ]
    },
    {
      "cell_type": "code",
      "execution_count": null,
      "metadata": {
        "colab": {
          "base_uri": "https://localhost:8080/",
          "height": 281
        },
        "id": "TvvIGGvDiAa2",
        "outputId": "3f83e1e5-db0a-478a-d8c4-be0510819680"
      },
      "outputs": [
        {
          "data": {
            "image/png": "[encoded data removed]",
            "text/plain": [
              "<Figure size 432x288 with 1 Axes>"
            ]
          },
          "metadata": {
            "needs_background": "light"
          },
          "output_type": "display_data"
        }
      ],
      "source": [
        "fig = tsaplots.plot_acf(train_new, lags=10)\n",
        "plt.show()"
      ]
    },
    {
      "cell_type": "code",
      "execution_count": null,
      "metadata": {
        "colab": {
          "base_uri": "https://localhost:8080/",
          "height": 281
        },
        "id": "5TziuC7xiGvs",
        "outputId": "780f43b4-c43f-4a76-f437-def3c26dc52e"
      },
      "outputs": [
        {
          "data": {
            "image/png": "[encoded data removed]",
            "text/plain": [
              "<Figure size 432x288 with 1 Axes>"
            ]
          },
          "metadata": {
            "needs_background": "light"
          },
          "output_type": "display_data"
        }
      ],
      "source": [
        "fig = tsaplots.plot_pacf(train_new, lags=10)\n",
        "plt.show()"
      ]
    },
    {
      "cell_type": "code",
      "execution_count": null,
      "metadata": {
        "id": "ND0HzPy9iSgf"
      },
      "outputs": [],
      "source": [
        "history = [x for x in train]\n",
        "predictions = list()\n",
        "print(test)\n",
        "for t in test.index:\n",
        "  model = ARIMA(history, order=(1,1,1))\n",
        "  model_fit = model.fit()\n",
        "  output = model_fit.forecast()\n",
        "  yest = output[0]\n",
        "  predictions.append(yest)\n",
        "  obs= test[t]\n",
        "  history.append(obs)\n",
        "  print ('predicted=%f, expected=%f' % (yest, obs))"
      ]
    },
    {
      "cell_type": "code",
      "execution_count": null,
      "metadata": {
        "colab": {
          "base_uri": "https://localhost:8080/",
          "height": 282
        },
        "id": "wQtI3hApiZkq",
        "outputId": "d84afbf1-70ce-4130-a591-624520e861f1"
      },
      "outputs": [
        {
          "name": "stdout",
          "output_type": "stream",
          "text": [
            "Test RMSE: 0.118\n"
          ]
        },
        {
          "data": {
            "image/png": "[encoded data removed]",
            "text/plain": [
              "<Figure size 432x288 with 1 Axes>"
            ]
          },
          "metadata": {
            "needs_background": "light"
          },
          "output_type": "display_data"
        }
      ],
      "source": [
        "rmse = math.sqrt(mean_squared_error(test, predictions))\n",
        "print('Test RMSE: %.3f'% rmse)\n",
        "\n",
        "df2 = pd.DataFrame(predictions)\n",
        "df2. set_index(test.index, inplace=True)\n",
        "plt.plot(test)\n",
        "plt.plot(df2, color='red')\n",
        "plt.show()"
      ]
    },
    {
      "cell_type": "markdown",
      "metadata": {
        "id": "P_n8dloD9QJ7"
      },
      "source": [
        "## Implement Gas Predictor"
      ]
    },
    {
      "cell_type": "code",
      "execution_count": null,
      "metadata": {
        "id": "yEZEGVqK3Ows"
      },
      "outputs": [],
      "source": [
        "dataset_path = \"/content/drive/MyDrive/Datasets/Forecasting/gas.csv\"\n",
        "df = pd.read_csv(dataset_path)"
      ]
    },
    {
      "cell_type": "code",
      "execution_count": null,
      "metadata": {
        "colab": {
          "base_uri": "https://localhost:8080/",
          "height": 204
        },
        "id": "21-CkR4X-V50",
        "outputId": "2cb01b2a-f3b0-4098-dee5-de26d7b14719"
      },
      "outputs": [
        {
          "data": {
            "text/html": [
              "\n",
              "  <div id=\"df-afe950a2-1e2d-4e2c-a63a-406a0bcacac2\">\n",
              "    <div class=\"colab-df-container\">\n",
              "      <div>\n",
              "<style scoped>\n",
              "    .dataframe tbody tr th:only-of-type {\n",
              "        vertical-align: middle;\n",
              "    }\n",
              "\n",
              "    .dataframe tbody tr th {\n",
              "        vertical-align: top;\n",
              "    }\n",
              "\n",
              "    .dataframe thead th {\n",
              "        text-align: right;\n",
              "    }\n",
              "</style>\n",
              "<table border=\"1\" class=\"dataframe\">\n",
              "  <thead>\n",
              "    <tr style=\"text-align: right;\">\n",
              "      <th></th>\n",
              "      <th>Time</th>\n",
              "      <th>y</th>\n",
              "    </tr>\n",
              "  </thead>\n",
              "  <tbody>\n",
              "    <tr>\n",
              "      <th>0</th>\n",
              "      <td>2022-06-05 21:07:11</td>\n",
              "      <td>4095</td>\n",
              "    </tr>\n",
              "    <tr>\n",
              "      <th>1</th>\n",
              "      <td>2022-06-05 21:07:13</td>\n",
              "      <td>4095</td>\n",
              "    </tr>\n",
              "    <tr>\n",
              "      <th>2</th>\n",
              "      <td>2022-06-05 21:07:16</td>\n",
              "      <td>4095</td>\n",
              "    </tr>\n",
              "    <tr>\n",
              "      <th>3</th>\n",
              "      <td>2022-06-05 21:07:18</td>\n",
              "      <td>4095</td>\n",
              "    </tr>\n",
              "    <tr>\n",
              "      <th>4</th>\n",
              "      <td>2022-06-05 21:07:21</td>\n",
              "      <td>4095</td>\n",
              "    </tr>\n",
              "  </tbody>\n",
              "</table>\n",
              "</div>\n",
              "      <button class=\"colab-df-convert\" onclick=\"convertToInteractive('df-afe950a2-1e2d-4e2c-a63a-406a0bcacac2')\"\n",
              "              title=\"Convert this dataframe to an interactive table.\"\n",
              "              style=\"display:none;\">\n",
              "        \n",
              "  <svg xmlns=\"http://www.w3.org/2000/svg\" height=\"24px\"viewBox=\"0 0 24 24\"\n",
              "       width=\"24px\">\n",
              "    <path d=\"M0 0h24v24H0V0z\" fill=\"none\"/>\n",
              "    <path d=\"M18.56 5.44l.94 2.06.94-2.06 2.06-.94-2.06-.94-.94-2.06-.94 2.06-2.06.94zm-11 1L8.5 8.5l.94-2.06 2.06-.94-2.06-.94L8.5 2.5l-.94 2.06-2.06.94zm10 10l.94 2.06.94-2.06 2.06-.94-2.06-.94-.94-2.06-.94 2.06-2.06.94z\"/><path d=\"M17.41 7.96l-1.37-1.37c-.4-.4-.92-.59-1.43-.59-.52 0-1.04.2-1.43.59L10.3 9.45l-7.72 7.72c-.78.78-.78 2.05 0 2.83L4 21.41c.39.39.9.59 1.41.59.51 0 1.02-.2 1.41-.59l7.78-7.78 2.81-2.81c.8-.78.8-2.07 0-2.86zM5.41 20L4 18.59l7.72-7.72 1.47 1.35L5.41 20z\"/>\n",
              "  </svg>\n",
              "      </button>\n",
              "      \n",
              "  <style>\n",
              "    .colab-df-container {\n",
              "      display:flex;\n",
              "      flex-wrap:wrap;\n",
              "      gap: 12px;\n",
              "    }\n",
              "\n",
              "    .colab-df-convert {\n",
              "      background-color: #E8F0FE;\n",
              "      border: none;\n",
              "      border-radius: 50%;\n",
              "      cursor: pointer;\n",
              "      display: none;\n",
              "      fill: #1967D2;\n",
              "      height: 32px;\n",
              "      padding: 0 0 0 0;\n",
              "      width: 32px;\n",
              "    }\n",
              "\n",
              "    .colab-df-convert:hover {\n",
              "      background-color: #E2EBFA;\n",
              "      box-shadow: 0px 1px 2px rgba(60, 64, 67, 0.3), 0px 1px 3px 1px rgba(60, 64, 67, 0.15);\n",
              "      fill: #174EA6;\n",
              "    }\n",
              "\n",
              "    [theme=dark] .colab-df-convert {\n",
              "      background-color: #3B4455;\n",
              "      fill: #D2E3FC;\n",
              "    }\n",
              "\n",
              "    [theme=dark] .colab-df-convert:hover {\n",
              "      background-color: #434B5C;\n",
              "      box-shadow: 0px 1px 3px 1px rgba(0, 0, 0, 0.15);\n",
              "      filter: drop-shadow(0px 1px 2px rgba(0, 0, 0, 0.3));\n",
              "      fill: #FFFFFF;\n",
              "    }\n",
              "  </style>\n",
              "\n",
              "      <script>\n",
              "        const buttonEl =\n",
              "          document.querySelector('#df-afe950a2-1e2d-4e2c-a63a-406a0bcacac2 button.colab-df-convert');\n",
              "        buttonEl.style.display =\n",
              "          google.colab.kernel.accessAllowed ? 'block' : 'none';\n",
              "\n",
              "        async function convertToInteractive(key) {\n",
              "          const element = document.querySelector('#df-afe950a2-1e2d-4e2c-a63a-406a0bcacac2');\n",
              "          const dataTable =\n",
              "            await google.colab.kernel.invokeFunction('convertToInteractive',\n",
              "                                                     [key], {});\n",
              "          if (!dataTable) return;\n",
              "\n",
              "          const docLinkHtml = 'Like what you see? Visit the ' +\n",
              "            '<a target=\"_blank\" href=https://colab.research.google.com/notebooks/data_table.ipynb>data table notebook</a>'\n",
              "            + ' to learn more about interactive tables.';\n",
              "          element.innerHTML = '';\n",
              "          dataTable['output_type'] = 'display_data';\n",
              "          await google.colab.output.renderOutput(dataTable, element);\n",
              "          const docLink = document.createElement('div');\n",
              "          docLink.innerHTML = docLinkHtml;\n",
              "          element.appendChild(docLink);\n",
              "        }\n",
              "      </script>\n",
              "    </div>\n",
              "  </div>\n",
              "  "
            ],
            "text/plain": [
              "                  Time     y\n",
              "0  2022-06-05 21:07:11  4095\n",
              "1  2022-06-05 21:07:13  4095\n",
              "2  2022-06-05 21:07:16  4095\n",
              "3  2022-06-05 21:07:18  4095\n",
              "4  2022-06-05 21:07:21  4095"
            ]
          },
          "execution_count": 47,
          "metadata": {},
          "output_type": "execute_result"
        }
      ],
      "source": [
        "df.head()"
      ]
    },
    {
      "cell_type": "code",
      "execution_count": null,
      "metadata": {
        "colab": {
          "base_uri": "https://localhost:8080/"
        },
        "id": "pfJpy6jF_M8R",
        "outputId": "2544cf11-85d7-46d3-ace4-9e921e847d97"
      },
      "outputs": [
        {
          "data": {
            "text/plain": [
              "4288"
            ]
          },
          "execution_count": 14,
          "metadata": {},
          "output_type": "execute_result"
        }
      ],
      "source": [
        "df['y'].size"
      ]
    },
    {
      "cell_type": "code",
      "execution_count": null,
      "metadata": {
        "colab": {
          "base_uri": "https://localhost:8080/"
        },
        "id": "4C71CXhmYkGd",
        "outputId": "6ac3f878-601a-4747-80a4-3399b08b6806"
      },
      "outputs": [
        {
          "name": "stderr",
          "output_type": "stream",
          "text": [
            "/usr/local/lib/python3.7/dist-packages/ipykernel_launcher.py:1: SettingWithCopyWarning: \n",
            "A value is trying to be set on a copy of a slice from a DataFrame\n",
            "\n",
            "See the caveats in the documentation: https://pandas.pydata.org/pandas-docs/stable/user_guide/indexing.html#returning-a-view-versus-a-copy\n",
            "  \"\"\"Entry point for launching an IPython kernel.\n"
          ]
        }
      ],
      "source": [
        "df['y'][0:4288] = 4095"
      ]
    },
    {
      "cell_type": "code",
      "execution_count": null,
      "metadata": {
        "colab": {
          "base_uri": "https://localhost:8080/",
          "height": 265
        },
        "id": "tKn0xnRo4XDd",
        "outputId": "5783fd06-65cf-4efc-ce61-c19e617c4edc"
      },
      "outputs": [
        {
          "data": {
            "image/png": "[encoded data removed]",
            "text/plain": [
              "<Figure size 432x288 with 1 Axes>"
            ]
          },
          "metadata": {
            "needs_background": "light"
          },
          "output_type": "display_data"
        }
      ],
      "source": [
        "#evolution over time of our data\n",
        "plot_cols = ['y']\n",
        "plot_features = df[plot_cols]\n",
        "_ = plot_features.plot(subplots=True)"
      ]
    },
    {
      "cell_type": "code",
      "execution_count": null,
      "metadata": {
        "colab": {
          "base_uri": "https://localhost:8080/"
        },
        "id": "oTvEEeo-Y03h",
        "outputId": "8f48826c-906c-4b56-8a3e-3d81e3454c10"
      },
      "outputs": [
        {
          "name": "stderr",
          "output_type": "stream",
          "text": [
            "/usr/local/lib/python3.7/dist-packages/ipykernel_launcher.py:1: SettingWithCopyWarning: \n",
            "A value is trying to be set on a copy of a slice from a DataFrame\n",
            "\n",
            "See the caveats in the documentation: https://pandas.pydata.org/pandas-docs/stable/user_guide/indexing.html#returning-a-view-versus-a-copy\n",
            "  \"\"\"Entry point for launching an IPython kernel.\n"
          ]
        }
      ],
      "source": [
        "df['y'][3000:4000] = [4095 for i in range(0,1000)]"
      ]
    },
    {
      "cell_type": "code",
      "execution_count": null,
      "metadata": {
        "colab": {
          "base_uri": "https://localhost:8080/",
          "height": 80
        },
        "id": "aHBytLqO5cp2",
        "outputId": "f2bb0c63-6fd7-4ed8-f739-a62040c5f32c"
      },
      "outputs": [
        {
          "data": {
            "text/html": [
              "\n",
              "  <div id=\"df-72886fde-81b1-45f7-81da-85b87bff5b01\">\n",
              "    <div class=\"colab-df-container\">\n",
              "      <div>\n",
              "<style scoped>\n",
              "    .dataframe tbody tr th:only-of-type {\n",
              "        vertical-align: middle;\n",
              "    }\n",
              "\n",
              "    .dataframe tbody tr th {\n",
              "        vertical-align: top;\n",
              "    }\n",
              "\n",
              "    .dataframe thead th {\n",
              "        text-align: right;\n",
              "    }\n",
              "</style>\n",
              "<table border=\"1\" class=\"dataframe\">\n",
              "  <thead>\n",
              "    <tr style=\"text-align: right;\">\n",
              "      <th></th>\n",
              "      <th>count</th>\n",
              "      <th>mean</th>\n",
              "      <th>std</th>\n",
              "      <th>min</th>\n",
              "      <th>25%</th>\n",
              "      <th>50%</th>\n",
              "      <th>75%</th>\n",
              "      <th>max</th>\n",
              "    </tr>\n",
              "  </thead>\n",
              "  <tbody>\n",
              "    <tr>\n",
              "      <th>y</th>\n",
              "      <td>4288.0</td>\n",
              "      <td>3134.295709</td>\n",
              "      <td>1635.698257</td>\n",
              "      <td>350.0</td>\n",
              "      <td>350.0</td>\n",
              "      <td>4095.0</td>\n",
              "      <td>4095.0</td>\n",
              "      <td>4095.0</td>\n",
              "    </tr>\n",
              "  </tbody>\n",
              "</table>\n",
              "</div>\n",
              "      <button class=\"colab-df-convert\" onclick=\"convertToInteractive('df-72886fde-81b1-45f7-81da-85b87bff5b01')\"\n",
              "              title=\"Convert this dataframe to an interactive table.\"\n",
              "              style=\"display:none;\">\n",
              "        \n",
              "  <svg xmlns=\"http://www.w3.org/2000/svg\" height=\"24px\"viewBox=\"0 0 24 24\"\n",
              "       width=\"24px\">\n",
              "    <path d=\"M0 0h24v24H0V0z\" fill=\"none\"/>\n",
              "    <path d=\"M18.56 5.44l.94 2.06.94-2.06 2.06-.94-2.06-.94-.94-2.06-.94 2.06-2.06.94zm-11 1L8.5 8.5l.94-2.06 2.06-.94-2.06-.94L8.5 2.5l-.94 2.06-2.06.94zm10 10l.94 2.06.94-2.06 2.06-.94-2.06-.94-.94-2.06-.94 2.06-2.06.94z\"/><path d=\"M17.41 7.96l-1.37-1.37c-.4-.4-.92-.59-1.43-.59-.52 0-1.04.2-1.43.59L10.3 9.45l-7.72 7.72c-.78.78-.78 2.05 0 2.83L4 21.41c.39.39.9.59 1.41.59.51 0 1.02-.2 1.41-.59l7.78-7.78 2.81-2.81c.8-.78.8-2.07 0-2.86zM5.41 20L4 18.59l7.72-7.72 1.47 1.35L5.41 20z\"/>\n",
              "  </svg>\n",
              "      </button>\n",
              "      \n",
              "  <style>\n",
              "    .colab-df-container {\n",
              "      display:flex;\n",
              "      flex-wrap:wrap;\n",
              "      gap: 12px;\n",
              "    }\n",
              "\n",
              "    .colab-df-convert {\n",
              "      background-color: #E8F0FE;\n",
              "      border: none;\n",
              "      border-radius: 50%;\n",
              "      cursor: pointer;\n",
              "      display: none;\n",
              "      fill: #1967D2;\n",
              "      height: 32px;\n",
              "      padding: 0 0 0 0;\n",
              "      width: 32px;\n",
              "    }\n",
              "\n",
              "    .colab-df-convert:hover {\n",
              "      background-color: #E2EBFA;\n",
              "      box-shadow: 0px 1px 2px rgba(60, 64, 67, 0.3), 0px 1px 3px 1px rgba(60, 64, 67, 0.15);\n",
              "      fill: #174EA6;\n",
              "    }\n",
              "\n",
              "    [theme=dark] .colab-df-convert {\n",
              "      background-color: #3B4455;\n",
              "      fill: #D2E3FC;\n",
              "    }\n",
              "\n",
              "    [theme=dark] .colab-df-convert:hover {\n",
              "      background-color: #434B5C;\n",
              "      box-shadow: 0px 1px 3px 1px rgba(0, 0, 0, 0.15);\n",
              "      filter: drop-shadow(0px 1px 2px rgba(0, 0, 0, 0.3));\n",
              "      fill: #FFFFFF;\n",
              "    }\n",
              "  </style>\n",
              "\n",
              "      <script>\n",
              "        const buttonEl =\n",
              "          document.querySelector('#df-72886fde-81b1-45f7-81da-85b87bff5b01 button.colab-df-convert');\n",
              "        buttonEl.style.display =\n",
              "          google.colab.kernel.accessAllowed ? 'block' : 'none';\n",
              "\n",
              "        async function convertToInteractive(key) {\n",
              "          const element = document.querySelector('#df-72886fde-81b1-45f7-81da-85b87bff5b01');\n",
              "          const dataTable =\n",
              "            await google.colab.kernel.invokeFunction('convertToInteractive',\n",
              "                                                     [key], {});\n",
              "          if (!dataTable) return;\n",
              "\n",
              "          const docLinkHtml = 'Like what you see? Visit the ' +\n",
              "            '<a target=\"_blank\" href=https://colab.research.google.com/notebooks/data_table.ipynb>data table notebook</a>'\n",
              "            + ' to learn more about interactive tables.';\n",
              "          element.innerHTML = '';\n",
              "          dataTable['output_type'] = 'display_data';\n",
              "          await google.colab.output.renderOutput(dataTable, element);\n",
              "          const docLink = document.createElement('div');\n",
              "          docLink.innerHTML = docLinkHtml;\n",
              "          element.appendChild(docLink);\n",
              "        }\n",
              "      </script>\n",
              "    </div>\n",
              "  </div>\n",
              "  "
            ],
            "text/plain": [
              "    count         mean          std    min    25%     50%     75%     max\n",
              "y  4288.0  3134.295709  1635.698257  350.0  350.0  4095.0  4095.0  4095.0"
            ]
          },
          "execution_count": 75,
          "metadata": {},
          "output_type": "execute_result"
        }
      ],
      "source": [
        "df.describe().transpose()"
      ]
    },
    {
      "cell_type": "code",
      "execution_count": null,
      "metadata": {
        "id": "rExbYodZWgNb"
      },
      "outputs": [],
      "source": [
        "nrows = (len(df.values))\n",
        "splitPoint = int (nrows * 0.50)\n",
        "train = df['y'] [:splitPoint]\n",
        "test = df ['y'] [splitPoint:]"
      ]
    },
    {
      "cell_type": "markdown",
      "metadata": {
        "id": "EijrLNzNcQQX"
      },
      "source": [
        "Check for stationarity "
      ]
    },
    {
      "cell_type": "code",
      "execution_count": null,
      "metadata": {
        "colab": {
          "base_uri": "https://localhost:8080/"
        },
        "id": "uDjqEB3WcOJ1",
        "outputId": "5e2fc108-6c9c-42d4-d5bc-e44f7ebc9a9a"
      },
      "outputs": [
        {
          "name": "stdout",
          "output_type": "stream",
          "text": [
            "ADF Statistic: -2.005413\n",
            "p-value: 0.284205\n"
          ]
        }
      ],
      "source": [
        " # Check whether the time-series is stationary through the Dickey-Fuller test\n",
        "from statsmodels.tsa.stattools import adfuller\n",
        "result = adfuller(train)\n",
        "\n",
        "print('ADF Statistic: %f' % result[0])\n",
        "print('p-value: %f' % result[1])"
      ]
    },
    {
      "cell_type": "code",
      "execution_count": null,
      "metadata": {
        "colab": {
          "base_uri": "https://localhost:8080/"
        },
        "id": "VF-2hbHnct40",
        "outputId": "71149065-364c-4cc3-edcc-5474b2157c6b"
      },
      "outputs": [
        {
          "name": "stdout",
          "output_type": "stream",
          "text": [
            "ADF Statistic: -46.260134\n",
            "p-value: 0.000000\n"
          ]
        }
      ],
      "source": [
        "train_new = train.diff().dropna()\n",
        "result = adfuller(train_new)\n",
        "\n",
        "print('ADF Statistic: %f' % result[0])\n",
        "print('p-value: %f' % result[1])"
      ]
    },
    {
      "cell_type": "code",
      "execution_count": null,
      "metadata": {
        "colab": {
          "base_uri": "https://localhost:8080/",
          "height": 281
        },
        "id": "uxU3f2VWc8iV",
        "outputId": "77f0252b-2e48-455e-d89a-e0acd5e1601c"
      },
      "outputs": [
        {
          "data": {
            "image/png": "[encoded data removed]",
            "text/plain": [
              "<Figure size 432x288 with 1 Axes>"
            ]
          },
          "metadata": {
            "needs_background": "light"
          },
          "output_type": "display_data"
        }
      ],
      "source": [
        "from statsmodels.graphics import tsaplots\n",
        "fig = tsaplots.plot_acf(train, lags=10)\n",
        "plt.show()"
      ]
    },
    {
      "cell_type": "code",
      "execution_count": null,
      "metadata": {
        "colab": {
          "base_uri": "https://localhost:8080/",
          "height": 281
        },
        "id": "r7n3lZBedz1P",
        "outputId": "ebef80e6-c699-4bb8-f3bb-b189f5d8a8f4"
      },
      "outputs": [
        {
          "data": {
            "image/png": "[encoded data removed]",
            "text/plain": [
              "<Figure size 432x288 with 1 Axes>"
            ]
          },
          "metadata": {
            "needs_background": "light"
          },
          "output_type": "display_data"
        }
      ],
      "source": [
        "fig = tsaplots.plot_pacf(train, lags=10)\n",
        "plt.show()"
      ]
    },
    {
      "cell_type": "code",
      "execution_count": null,
      "metadata": {
        "id": "-h_kP0EcCe1j"
      },
      "outputs": [],
      "source": [
        "# Apply ARIMA model\n",
        "from statsmodels.tsa.arima_model import ARIMA\n",
        "history = list(np.array([x for x in train_new]).astype('float64'))\n",
        "predictions = list()\n",
        "print(test)\n",
        "for t in test.index:\n",
        "  model = ARIMA(history, order=(1,1,1))\n",
        "  model_fit = model.fit()\n",
        "  output = model_fit.forecast()\n",
        "  yest = output[0]\n",
        "  predictions.append(yest)\n",
        "  obs= test[t]\n",
        "  history.append(obs)\n",
        "  print ('predicted=%f, expected=%f' % (yest, obs))"
      ]
    },
    {
      "cell_type": "code",
      "execution_count": null,
      "metadata": {
        "colab": {
          "base_uri": "https://localhost:8080/",
          "height": 282
        },
        "id": "llGspgKFg5Uk",
        "outputId": "545e00f7-41cd-4142-f881-5f5d6214326e"
      },
      "outputs": [
        {
          "name": "stdout",
          "output_type": "stream",
          "text": [
            "Test RMSE: 180.939\n"
          ]
        },
        {
          "data": {
            "image/png": "[encoded data removed]",
            "text/plain": [
              "<Figure size 432x288 with 1 Axes>"
            ]
          },
          "metadata": {
            "needs_background": "light"
          },
          "output_type": "display_data"
        }
      ],
      "source": [
        "import math\n",
        "from sklearn.metrics import mean_squared_error\n",
        "\n",
        "rmse = math.sqrt(mean_squared_error(test, predictions))\n",
        "print('Test RMSE: %.3f'% rmse)\n",
        "\n",
        "df2 = pd. DataFrame (predictions)\n",
        "df2. set_index(test.index, inplace=True)\n",
        "plt.plot(test)\n",
        "plt.plot(df2, color='red')\n",
        "plt.show()"
      ]
    },
    {
      "cell_type": "code",
      "execution_count": null,
      "metadata": {
        "colab": {
          "base_uri": "https://localhost:8080/",
          "height": 282
        },
        "id": "7NWHjStlNQyL",
        "outputId": "042b4624-a82e-44f3-d65d-45b279eb538b"
      },
      "outputs": [
        {
          "data": {
            "text/plain": [
              "[<matplotlib.lines.Line2D at 0x7f149e7ec910>]"
            ]
          },
          "execution_count": 83,
          "metadata": {},
          "output_type": "execute_result"
        },
        {
          "data": {
            "image/png": "[encoded data removed]",
            "text/plain": [
              "<Figure size 432x288 with 1 Axes>"
            ]
          },
          "metadata": {
            "needs_background": "light"
          },
          "output_type": "display_data"
        }
      ],
      "source": [
        "plt.plot(test)\n"
      ]
    },
    {
      "cell_type": "code",
      "execution_count": null,
      "metadata": {
        "id": "3lq2xSRwSodF"
      },
      "outputs": [],
      "source": [
        "import pickle\n",
        "pickle.dump(model_fit, open('gas-model', 'wb'))"
      ]
    }
  ],
  "metadata": {
    "colab": {
      "collapsed_sections": [],
      "name": "forecasting.ipynb",
      "provenance": []
    },
    "kernelspec": {
      "display_name": "Python 3.9.7 64-bit",
      "language": "python",
      "name": "python3"
    },
    "language_info": {
      "codemirror_mode": {
        "name": "ipython",
        "version": 3
      },
      "file_extension": ".py",
      "mimetype": "text/x-python",
      "name": "python",
      "nbconvert_exporter": "python",
      "pygments_lexer": "ipython3",
      "version": "3.9.7"
    },
    "orig_nbformat": 4,
    "vscode": {
      "interpreter": {
        "hash": "08e595c52ca3b9470036b1110e67b559e55f367cabc363f2e28d35631ed95060"
      }
    }
  },
  "nbformat": 4,
  "nbformat_minor": 0
}
