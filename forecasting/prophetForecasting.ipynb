{
  "cells": [
    {
      "cell_type": "markdown",
      "metadata": {
        "id": "fo4D4Yio9KGo"
      },
      "source": [
        "# Data Forecasting"
      ]
    },
    {
      "cell_type": "markdown",
      "metadata": {
        "id": "FdkmjLaTS43k"
      },
      "source": [
        "The module is in charge of: \n",
        "- forecasting the value of temperature in the next X seconds; \n",
        "- forecasting the value of humidity in the next X seconds; \n",
        "- forecasting the value of the gas sensor in the next X seconds \n",
        "\n",
        "(X is defined by users or developers). \n",
        "\n",
        "The time-series of the predicted values must be saved on INFLUX and shown on the GRAFANA dashboard as well; e.g. by using two lines for the temperature graph, one related to raw measurements, one to predictions. One or multiple techniques for time-series forecasting can be developed and compared.\n"
      ]
    },
    {
      "cell_type": "markdown",
      "metadata": {
        "id": "ljmAefVR9MU7"
      },
      "source": [
        "## Import Dependencies"
      ]
    },
    {
      "cell_type": "code",
      "execution_count": null,
      "metadata": {},
      "outputs": [],
      "source": [
        "!pip3 install matplotlib\n",
        "!pip3 install pandas\n",
        "!pip3 install seaborn\n",
        "!pip3 install influxdb_client"
      ]
    },
    {
      "cell_type": "code",
      "execution_count": 92,
      "metadata": {
        "id": "ok1ZYoOlX0gz"
      },
      "outputs": [],
      "source": [
        "import os\n",
        "import datetime\n",
        "import IPython\n",
        "import IPython.display\n",
        "import matplotlib as mpl\n",
        "import matplotlib.pyplot as plt\n",
        "import numpy as np\n",
        "import pandas as pd\n",
        "import seaborn as sns\n",
        "import random\n",
        "from influxdb_client import InfluxDBClient, Point\n",
        "from influxdb_client.client.write_api import SYNCHRONOUS\n",
        "import chart_studio.plotly as plotly\n",
        "import plotly.figure_factory as ff\n",
        "from plotly import graph_objs as go\n",
        "from fbprophet import Prophet\n",
        "from fbprophet.plot import plot_plotly\n",
        "from datetime import datetime,timezone\n",
        "import dateutil.parser\n",
        "import time\n",
        "from datetime import timedelta"
      ]
    },
    {
      "cell_type": "markdown",
      "metadata": {
        "id": "SaA1B6eK7OIw"
      },
      "source": [
        "# Data retrival from influx"
      ]
    },
    {
      "cell_type": "code",
      "execution_count": 94,
      "metadata": {
        "id": "UzZvSAcjX0gz"
      },
      "outputs": [],
      "source": [
        "token = 'gYkhnh7Ft18AtFX8m7BEn3RQGb4vb9tcE_AbWkXFfXgpqU69ad3DQsKPvHW959iqN-mLFZW2wi6Pc7-XmohEAA=='\n",
        "bucket = 'temperature'\n",
        "org = 'iot_group'\n",
        "client = InfluxDBClient(url=\"http://192.168.178.39:8086\", token=token, org=org)\n",
        "query_api = client.query_api()\n",
        "write_api = client.write_api(write_options=SYNCHRONOUS)"
      ]
    },
    {
      "cell_type": "code",
      "execution_count": 95,
      "metadata": {
        "id": "6Xh3QCixYHMo"
      },
      "outputs": [],
      "source": [
        "query = 'from(bucket: \"temperature\")' \\\n",
        "  '|> range(start:2022-08-10T15:00:00Z, stop:2022-09-20T15:00:00Z)'"
      ]
    },
    {
      "cell_type": "code",
      "execution_count": null,
      "metadata": {
        "id": "RhJtyKHrYVGg"
      },
      "outputs": [],
      "source": [
        "result = client.query_api().query(org=org, query=query)\n",
        "print(result)"
      ]
    },
    {
      "cell_type": "markdown",
      "metadata": {
        "id": "14AWt2TjYkPR"
      },
      "source": [
        "-Exploiting the query results in order to obtain a dataframe"
      ]
    },
    {
      "cell_type": "markdown",
      "metadata": {
        "id": "evQxhyZsTZ5t"
      },
      "source": [
        "## Implementation Temperature Predictor"
      ]
    },
    {
      "cell_type": "code",
      "execution_count": 133,
      "metadata": {},
      "outputs": [],
      "source": [
        "import pandas as pd\n",
        "import numpy as np\n",
        "import chart_studio.plotly as plotly\n",
        "import plotly.figure_factory as ff\n",
        "from plotly import graph_objs as go\n",
        "from fbprophet import Prophet\n",
        "from fbprophet.plot import plot_plotly\n",
        "from datetime import datetime,timezone\n",
        "import dateutil.parser\n",
        "import time\n",
        "from datetime import timedelta"
      ]
    },
    {
      "cell_type": "code",
      "execution_count": null,
      "metadata": {},
      "outputs": [],
      "source": [
        "!pip3 install chart_studio\n",
        "!pip3 install fbprophet"
      ]
    },
    {
      "cell_type": "code",
      "execution_count": null,
      "metadata": {
        "id": "2sq6vfjVaxU3"
      },
      "outputs": [],
      "source": [
        "dataset_path = \"/Users/riccardobaratin/Documents/GitHub/iot-project/datasets/dataset_temp_bolo.csv\"\n",
        "df = pd.read_csv(dataset_path)\n",
        "df.head()\n",
        "#for t in df['_time'].values:\n",
        "#     d=dateutil.parser.parse(t)\n",
        "#     aux=d.strftime('%Y-%m-%d')\n",
        "#     df['_time'].replace({t:aux },inplace=True)"
      ]
    },
    {
      "cell_type": "code",
      "execution_count": null,
      "metadata": {},
      "outputs": [],
      "source": [
        "fig = go.Figure()\n",
        "fig.add_trace(go.Scatter(x=df[\"_time\"], y=df['_value'], name='temperature',line_color='green'))\n",
        "fig.layout.update(title_text='Time Series data with Rangeslider',xaxis_rangeslider_visible=True)\n",
        "fig"
      ]
    },
    {
      "cell_type": "code",
      "execution_count": null,
      "metadata": {},
      "outputs": [],
      "source": [
        "X = df[[\"_time\", \"_value\"]]\n",
        "y = df.iloc[:,5]\n",
        "print(y)"
      ]
    },
    {
      "cell_type": "code",
      "execution_count": null,
      "metadata": {},
      "outputs": [],
      "source": [
        "train_df = pd.DataFrame()\n",
        "train_df[\"ds\"] = pd.to_datetime(X[\"_time\"])\n",
        "train_df[\"y\"]=y\n",
        "train_df.head(2)"
      ]
    },
    {
      "cell_type": "code",
      "execution_count": null,
      "metadata": {},
      "outputs": [],
      "source": [
        "model = Prophet()\n",
        "model.fit(train_df)\n",
        "future = model.make_future_dataframe(periods=365)\n",
        "future.tail(2)"
      ]
    },
    {
      "cell_type": "code",
      "execution_count": null,
      "metadata": {},
      "outputs": [],
      "source": [
        "forecast = model.predict(future)\n",
        "fig1 = plot_plotly(model, forecast)\n",
        "fig1"
      ]
    },
    {
      "cell_type": "code",
      "execution_count": null,
      "metadata": {},
      "outputs": [],
      "source": [
        "#plot component wise forecast\n",
        "fig2 = model.plot_components(forecast)"
      ]
    }
  ],
  "metadata": {
    "colab": {
      "collapsed_sections": [],
      "name": "forecasting.ipynb",
      "provenance": []
    },
    "kernelspec": {
      "display_name": "Python 3.8.9 64-bit",
      "language": "python",
      "name": "python3"
    },
    "language_info": {
      "codemirror_mode": {
        "name": "ipython",
        "version": 3
      },
      "file_extension": ".py",
      "mimetype": "text/x-python",
      "name": "python",
      "nbconvert_exporter": "python",
      "pygments_lexer": "ipython3",
      "version": "3.8.9"
    },
    "orig_nbformat": 4,
    "vscode": {
      "interpreter": {
        "hash": "31f2aee4e71d21fbe5cf8b01ff0e069b9275f58929596ceb00d14d90e3e16cd6"
      }
    }
  },
  "nbformat": 4,
  "nbformat_minor": 0
}
