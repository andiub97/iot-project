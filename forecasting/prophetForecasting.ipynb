{
  "cells": [
    {
      "cell_type": "markdown",
      "metadata": {
        "id": "fo4D4Yio9KGo"
      },
      "source": [
        "# Data Forecasting"
      ]
    },
    {
      "cell_type": "markdown",
      "metadata": {
        "id": "FdkmjLaTS43k"
      },
      "source": [
        "The module is in charge of: \n",
        "- forecasting the value of temperature in the next X seconds; \n",
        "- forecasting the value of humidity in the next X seconds; \n",
        "- forecasting the value of the gas sensor in the next X seconds \n",
        "\n",
        "(X is defined by users or developers). \n",
        "\n",
        "The time-series of the predicted values must be saved on INFLUX and shown on the GRAFANA dashboard as well; e.g. by using two lines for the temperature graph, one related to raw measurements, one to predictions. One or multiple techniques for time-series forecasting can be developed and compared.\n"
      ]
    },
    {
      "cell_type": "markdown",
      "metadata": {
        "id": "ljmAefVR9MU7"
      },
      "source": [
        "## Import Dependencies"
      ]
    },
    {
      "cell_type": "code",
      "execution_count": 2,
      "metadata": {
        "id": "ok1ZYoOlX0gz"
      },
      "outputs": [],
      "source": [
        "import os\n",
        "import datetime\n",
        "import IPython\n",
        "import IPython.display\n",
        "import matplotlib as mpl\n",
        "import matplotlib.pyplot as plt\n",
        "import numpy as np\n",
        "import pandas as pd\n",
        "import seaborn as sns\n",
        "import random"
      ]
    },
    {
      "cell_type": "markdown",
      "metadata": {
        "id": "SaA1B6eK7OIw"
      },
      "source": [
        "# Data retrival from influx"
      ]
    },
    {
      "cell_type": "code",
      "source": [
        "!pip3 install influxdb_client"
      ],
      "metadata": {
        "id": "5QxN6K-MeHZQ"
      },
      "execution_count": null,
      "outputs": []
    },
    {
      "cell_type": "code",
      "execution_count": null,
      "metadata": {
        "id": "UzZvSAcjX0gz"
      },
      "outputs": [],
      "source": [
        "from influxdb_client import InfluxDBClient, Point\n",
        "from influxdb_client.client.write_api import SYNCHRONOUS\n",
        "token = '0-boCREZ1XTzYhmT3RYogxFDtraRzOEZsMYNxjp0mBOWHCif47lUv2UddrAfyJUwupk33ci92-aHHFWhjv2pRg=='\n",
        "bucket = 'temperature'\n",
        "org = 'iot_group'\n",
        "client = InfluxDBClient(url=\"http://192.168.43.177:8086\", token=token, org=org)\n",
        "query_api = client.query_api()\n",
        "write_api = client.write_api(write_options=SYNCHRONOUS)"
      ]
    },
    {
      "cell_type": "code",
      "execution_count": null,
      "metadata": {
        "id": "6Xh3QCixYHMo"
      },
      "outputs": [],
      "source": [
        "query = 'from(bucket: \"temperature\")' \\\n",
        "  '|> range(start:2022-08-10T15:00:00Z, stop:2022-09-20T15:00:00Z)'"
      ]
    },
    {
      "cell_type": "code",
      "execution_count": null,
      "metadata": {
        "id": "RhJtyKHrYVGg"
      },
      "outputs": [],
      "source": [
        "result = client.query_api().query(org=org, query=query)"
      ]
    },
    {
      "cell_type": "markdown",
      "metadata": {
        "id": "14AWt2TjYkPR"
      },
      "source": [
        "-Exploiting the query results in order to obtain a dataframe"
      ]
    },
    {
      "cell_type": "code",
      "execution_count": null,
      "metadata": {
        "id": "-214pYzR9GYd"
      },
      "outputs": [],
      "source": [
        "from google.colab import drive\n",
        "drive.mount('/content/drive')"
      ]
    },
    {
      "cell_type": "markdown",
      "metadata": {
        "id": "evQxhyZsTZ5t"
      },
      "source": [
        "## Implementation Temperature Predictor"
      ]
    },
    {
      "cell_type": "code",
      "execution_count": null,
      "metadata": {
        "id": "2sq6vfjVaxU3"
      },
      "outputs": [],
      "source": [
        "dataset_path = \"/content/drive/MyDrive/Datasets/Forecasting/temp.csv\"\n",
        "df = pd.read_csv(dataset_path)\n",
        "df.head()"
      ]
    },
    {
      "cell_type": "code",
      "execution_count": null,
      "metadata": {
        "id": "TlJhzIZua-0q"
      },
      "outputs": [],
      "source": [
        "df.head()"
      ]
    },
    {
      "cell_type": "code",
      "execution_count": null,
      "metadata": {
        "id": "LY-YYLL9bosS"
      },
      "outputs": [],
      "source": [
        "#evolution over time of our data\n",
        "plot_cols = ['y']\n",
        "plot_features = df[plot_cols]\n",
        "plot_features.index = date_time\n",
        "_ = plot_features.plot(subplots=True)\n",
        "\n"
      ]
    },
    {
      "cell_type": "code",
      "execution_count": null,
      "metadata": {
        "id": "U41Ppk2abxUw"
      },
      "outputs": [],
      "source": [
        "df.describe().transpose()"
      ]
    },
    {
      "cell_type": "code",
      "execution_count": null,
      "metadata": {
        "id": "CqMVIgEGbz0-"
      },
      "outputs": [],
      "source": [
        "nrows = (len(df.values))\n",
        "splitPoint = int (nrows * 0.60)\n",
        "train = df['y'] [:splitPoint]\n",
        "test = df ['y'] [splitPoint:]"
      ]
    },
    {
      "cell_type": "code",
      "execution_count": null,
      "metadata": {
        "id": "u-st1hECb4EK"
      },
      "outputs": [],
      "source": [
        " # Check whether the time-series is stationary through the Dickey-Fuller test\n",
        "from statsmodels.tsa.stattools import adfuller\n",
        "result = adfuller(train)\n",
        "\n",
        "print('ADF Statistic: %f' % result[0])\n",
        "print('p-value: %f' % result[1])"
      ]
    },
    {
      "cell_type": "code",
      "execution_count": null,
      "metadata": {
        "id": "M6bB0EK_b8Mu"
      },
      "outputs": [],
      "source": [
        "train_new = train.diff().dropna()\n",
        "result = adfuller(train_new)\n",
        "print('ADF Statistic: %f' % result[0])\n",
        "print('p-value: %f' % result[1])"
      ]
    },
    {
      "cell_type": "code",
      "execution_count": null,
      "metadata": {
        "colab": {
          "base_uri": "https://localhost:8080/",
          "height": 281
        },
        "id": "l5VD-Rpgb-9c",
        "outputId": "b42be848-5f06-429e-a875-18cec2efb3e1"
      },
      "outputs": [
        {
          "data": {
            "image/png": "[encoded data removed]",
            "text/plain": [
              "<Figure size 432x288 with 1 Axes>"
            ]
          },
          "metadata": {
            "needs_background": "light"
          },
          "output_type": "display_data"
        }
      ],
      "source": [
        "from statsmodels.graphics import tsaplots\n",
        "fig = tsaplots.plot_acf(train_new, lags=10)\n",
        "plt.show()"
      ]
    },
    {
      "cell_type": "code",
      "execution_count": null,
      "metadata": {
        "colab": {
          "base_uri": "https://localhost:8080/",
          "height": 281
        },
        "id": "aA98K_lUcBNi",
        "outputId": "cebc7e87-3d6b-42d1-dcc5-5689c84ab0fe"
      },
      "outputs": [
        {
          "data": {
            "image/png": "[encoded data removed]",
            "text/plain": [
              "<Figure size 432x288 with 1 Axes>"
            ]
          },
          "metadata": {
            "needs_background": "light"
          },
          "output_type": "display_data"
        }
      ],
      "source": [
        "fig = tsaplots.plot_pacf(train_new, lags=10)\n",
        "plt.show()"
      ]
    },
    {
      "cell_type": "code",
      "execution_count": null,
      "metadata": {
        "id": "NR3V2mx8d7p-"
      },
      "outputs": [],
      "source": [
        "#Step 6; Apply ARIMA model\n",
        "from statsmodels.tsa.arima_model import ARIMA\n",
        "history = [x for x in train]\n",
        "predictions = list()\n",
        "print(test)\n",
        "for t in test.index:\n",
        "  model = ARIMA(history, order=(0,0,1))\n",
        "  model_fit = model. fit()\n",
        "  output = model_fit.forecast()\n",
        "  yest = output[0]\n",
        "  predictions.append(yest)\n",
        "  obs= test[t]\n",
        "  history.append(obs)\n",
        "  print ('predicted=%f, expected=%f' % (yest, obs))"
      ]
    },
    {
      "cell_type": "code",
      "execution_count": null,
      "metadata": {
        "colab": {
          "base_uri": "https://localhost:8080/",
          "height": 282
        },
        "id": "ZKPLesOwckie",
        "outputId": "72a64881-82bf-407f-d4db-b4173062d3ad"
      },
      "outputs": [
        {
          "name": "stdout",
          "output_type": "stream",
          "text": [
            "Test RMSE: 0.019\n"
          ]
        },
        {
          "data": {
            "image/png": "[encoded data removed]",
            "text/plain": [
              "<Figure size 432x288 with 1 Axes>"
            ]
          },
          "metadata": {
            "needs_background": "light"
          },
          "output_type": "display_data"
        }
      ],
      "source": [
        "import math\n",
        "from sklearn.metrics import mean_squared_error\n",
        "\n",
        "rmse = math.sqrt(mean_squared_error(test, predictions))\n",
        "print('Test RMSE: %.3f'% rmse)\n",
        "\n",
        "df2 = pd. DataFrame (predictions)\n",
        "df2. set_index(test.index, inplace=True)\n",
        "plt.plot(test)\n",
        "plt.plot(df2, color='red')\n",
        "plt.show()"
      ]
    },
    {
      "cell_type": "markdown",
      "metadata": {
        "id": "F_Ihy7o9TdE7"
      },
      "source": [
        "## Implementation Humidity Predictor"
      ]
    },
    {
      "cell_type": "code",
      "execution_count": null,
      "metadata": {
        "colab": {
          "base_uri": "https://localhost:8080/",
          "height": 204
        },
        "id": "Trmw6Jegekg-",
        "outputId": "26b37b2b-5c09-477e-8db1-865145b0b1c8"
      },
      "outputs": [
        {
          "data": {
            "text/html": [
              "\n",
              "  <div id=\"df-c306852b-7769-4551-b2bb-20a1534dba96\">\n",
              "    <div class=\"colab-df-container\">\n",
              "      <div>\n",
              "<style scoped>\n",
              "    .dataframe tbody tr th:only-of-type {\n",
              "        vertical-align: middle;\n",
              "    }\n",
              "\n",
              "    .dataframe tbody tr th {\n",
              "        vertical-align: top;\n",
              "    }\n",
              "\n",
              "    .dataframe thead th {\n",
              "        text-align: right;\n",
              "    }\n",
              "</style>\n",
              "<table border=\"1\" class=\"dataframe\">\n",
              "  <thead>\n",
              "    <tr style=\"text-align: right;\">\n",
              "      <th></th>\n",
              "      <th>409151bfa0cc</th>\n",
              "      <th>409151bfa0cc.1</th>\n",
              "    </tr>\n",
              "  </thead>\n",
              "  <tbody>\n",
              "    <tr>\n",
              "      <th>0</th>\n",
              "      <td>2022-06-05 23:03:12</td>\n",
              "      <td>49.9</td>\n",
              "    </tr>\n",
              "    <tr>\n",
              "      <th>1</th>\n",
              "      <td>2022-06-05 23:03:15</td>\n",
              "      <td>49.9</td>\n",
              "    </tr>\n",
              "    <tr>\n",
              "      <th>2</th>\n",
              "      <td>2022-06-05 23:03:17</td>\n",
              "      <td>49.9</td>\n",
              "    </tr>\n",
              "    <tr>\n",
              "      <th>3</th>\n",
              "      <td>2022-06-05 23:03:20</td>\n",
              "      <td>49.8</td>\n",
              "    </tr>\n",
              "    <tr>\n",
              "      <th>4</th>\n",
              "      <td>2022-06-05 23:03:22</td>\n",
              "      <td>49.8</td>\n",
              "    </tr>\n",
              "  </tbody>\n",
              "</table>\n",
              "</div>\n",
              "      <button class=\"colab-df-convert\" onclick=\"convertToInteractive('df-c306852b-7769-4551-b2bb-20a1534dba96')\"\n",
              "              title=\"Convert this dataframe to an interactive table.\"\n",
              "              style=\"display:none;\">\n",
              "        \n",
              "  <svg xmlns=\"http://www.w3.org/2000/svg\" height=\"24px\"viewBox=\"0 0 24 24\"\n",
              "       width=\"24px\">\n",
              "    <path d=\"M0 0h24v24H0V0z\" fill=\"none\"/>\n",
              "    <path d=\"M18.56 5.44l.94 2.06.94-2.06 2.06-.94-2.06-.94-.94-2.06-.94 2.06-2.06.94zm-11 1L8.5 8.5l.94-2.06 2.06-.94-2.06-.94L8.5 2.5l-.94 2.06-2.06.94zm10 10l.94 2.06.94-2.06 2.06-.94-2.06-.94-.94-2.06-.94 2.06-2.06.94z\"/><path d=\"M17.41 7.96l-1.37-1.37c-.4-.4-.92-.59-1.43-.59-.52 0-1.04.2-1.43.59L10.3 9.45l-7.72 7.72c-.78.78-.78 2.05 0 2.83L4 21.41c.39.39.9.59 1.41.59.51 0 1.02-.2 1.41-.59l7.78-7.78 2.81-2.81c.8-.78.8-2.07 0-2.86zM5.41 20L4 18.59l7.72-7.72 1.47 1.35L5.41 20z\"/>\n",
              "  </svg>\n",
              "      </button>\n",
              "      \n",
              "  <style>\n",
              "    .colab-df-container {\n",
              "      display:flex;\n",
              "      flex-wrap:wrap;\n",
              "      gap: 12px;\n",
              "    }\n",
              "\n",
              "    .colab-df-convert {\n",
              "      background-color: #E8F0FE;\n",
              "      border: none;\n",
              "      border-radius: 50%;\n",
              "      cursor: pointer;\n",
              "      display: none;\n",
              "      fill: #1967D2;\n",
              "      height: 32px;\n",
              "      padding: 0 0 0 0;\n",
              "      width: 32px;\n",
              "    }\n",
              "\n",
              "    .colab-df-convert:hover {\n",
              "      background-color: #E2EBFA;\n",
              "      box-shadow: 0px 1px 2px rgba(60, 64, 67, 0.3), 0px 1px 3px 1px rgba(60, 64, 67, 0.15);\n",
              "      fill: #174EA6;\n",
              "    }\n",
              "\n",
              "    [theme=dark] .colab-df-convert {\n",
              "      background-color: #3B4455;\n",
              "      fill: #D2E3FC;\n",
              "    }\n",
              "\n",
              "    [theme=dark] .colab-df-convert:hover {\n",
              "      background-color: #434B5C;\n",
              "      box-shadow: 0px 1px 3px 1px rgba(0, 0, 0, 0.15);\n",
              "      filter: drop-shadow(0px 1px 2px rgba(0, 0, 0, 0.3));\n",
              "      fill: #FFFFFF;\n",
              "    }\n",
              "  </style>\n",
              "\n",
              "      <script>\n",
              "        const buttonEl =\n",
              "          document.querySelector('#df-c306852b-7769-4551-b2bb-20a1534dba96 button.colab-df-convert');\n",
              "        buttonEl.style.display =\n",
              "          google.colab.kernel.accessAllowed ? 'block' : 'none';\n",
              "\n",
              "        async function convertToInteractive(key) {\n",
              "          const element = document.querySelector('#df-c306852b-7769-4551-b2bb-20a1534dba96');\n",
              "          const dataTable =\n",
              "            await google.colab.kernel.invokeFunction('convertToInteractive',\n",
              "                                                     [key], {});\n",
              "          if (!dataTable) return;\n",
              "\n",
              "          const docLinkHtml = 'Like what you see? Visit the ' +\n",
              "            '<a target=\"_blank\" href=https://colab.research.google.com/notebooks/data_table.ipynb>data table notebook</a>'\n",
              "            + ' to learn more about interactive tables.';\n",
              "          element.innerHTML = '';\n",
              "          dataTable['output_type'] = 'display_data';\n",
              "          await google.colab.output.renderOutput(dataTable, element);\n",
              "          const docLink = document.createElement('div');\n",
              "          docLink.innerHTML = docLinkHtml;\n",
              "          element.appendChild(docLink);\n",
              "        }\n",
              "      </script>\n",
              "    </div>\n",
              "  </div>\n",
              "  "
            ],
            "text/plain": [
              "          409151bfa0cc  409151bfa0cc.1\n",
              "0  2022-06-05 23:03:12            49.9\n",
              "1  2022-06-05 23:03:15            49.9\n",
              "2  2022-06-05 23:03:17            49.9\n",
              "3  2022-06-05 23:03:20            49.8\n",
              "4  2022-06-05 23:03:22            49.8"
            ]
          },
          "execution_count": 130,
          "metadata": {},
          "output_type": "execute_result"
        }
      ],
      "source": [
        "dataset_path = \"/content/drive/MyDrive/Datasets/Forecasting/hum.csv\"\n",
        "df = pd.read_csv(dataset_path)\n",
        "df.head()"
      ]
    },
    {
      "cell_type": "code",
      "execution_count": null,
      "metadata": {
        "colab": {
          "base_uri": "https://localhost:8080/",
          "height": 204
        },
        "id": "vuFtYoXPfP8m",
        "outputId": "1e2f74af-4094-4e88-86cf-d85396588ae9"
      },
      "outputs": [
        {
          "data": {
            "text/html": [
              "\n",
              "  <div id=\"df-4a9930d6-7dfb-45e5-aae4-ade0e875a18c\">\n",
              "    <div class=\"colab-df-container\">\n",
              "      <div>\n",
              "<style scoped>\n",
              "    .dataframe tbody tr th:only-of-type {\n",
              "        vertical-align: middle;\n",
              "    }\n",
              "\n",
              "    .dataframe tbody tr th {\n",
              "        vertical-align: top;\n",
              "    }\n",
              "\n",
              "    .dataframe thead th {\n",
              "        text-align: right;\n",
              "    }\n",
              "</style>\n",
              "<table border=\"1\" class=\"dataframe\">\n",
              "  <thead>\n",
              "    <tr style=\"text-align: right;\">\n",
              "      <th></th>\n",
              "      <th>time</th>\n",
              "      <th>y</th>\n",
              "    </tr>\n",
              "  </thead>\n",
              "  <tbody>\n",
              "    <tr>\n",
              "      <th>0</th>\n",
              "      <td>2022-06-05 23:03:12</td>\n",
              "      <td>49.9</td>\n",
              "    </tr>\n",
              "    <tr>\n",
              "      <th>1</th>\n",
              "      <td>2022-06-05 23:03:15</td>\n",
              "      <td>49.9</td>\n",
              "    </tr>\n",
              "    <tr>\n",
              "      <th>2</th>\n",
              "      <td>2022-06-05 23:03:17</td>\n",
              "      <td>49.9</td>\n",
              "    </tr>\n",
              "    <tr>\n",
              "      <th>3</th>\n",
              "      <td>2022-06-05 23:03:20</td>\n",
              "      <td>49.8</td>\n",
              "    </tr>\n",
              "    <tr>\n",
              "      <th>4</th>\n",
              "      <td>2022-06-05 23:03:22</td>\n",
              "      <td>49.8</td>\n",
              "    </tr>\n",
              "  </tbody>\n",
              "</table>\n",
              "</div>\n",
              "      <button class=\"colab-df-convert\" onclick=\"convertToInteractive('df-4a9930d6-7dfb-45e5-aae4-ade0e875a18c')\"\n",
              "              title=\"Convert this dataframe to an interactive table.\"\n",
              "              style=\"display:none;\">\n",
              "        \n",
              "  <svg xmlns=\"http://www.w3.org/2000/svg\" height=\"24px\"viewBox=\"0 0 24 24\"\n",
              "       width=\"24px\">\n",
              "    <path d=\"M0 0h24v24H0V0z\" fill=\"none\"/>\n",
              "    <path d=\"M18.56 5.44l.94 2.06.94-2.06 2.06-.94-2.06-.94-.94-2.06-.94 2.06-2.06.94zm-11 1L8.5 8.5l.94-2.06 2.06-.94-2.06-.94L8.5 2.5l-.94 2.06-2.06.94zm10 10l.94 2.06.94-2.06 2.06-.94-2.06-.94-.94-2.06-.94 2.06-2.06.94z\"/><path d=\"M17.41 7.96l-1.37-1.37c-.4-.4-.92-.59-1.43-.59-.52 0-1.04.2-1.43.59L10.3 9.45l-7.72 7.72c-.78.78-.78 2.05 0 2.83L4 21.41c.39.39.9.59 1.41.59.51 0 1.02-.2 1.41-.59l7.78-7.78 2.81-2.81c.8-.78.8-2.07 0-2.86zM5.41 20L4 18.59l7.72-7.72 1.47 1.35L5.41 20z\"/>\n",
              "  </svg>\n",
              "      </button>\n",
              "      \n",
              "  <style>\n",
              "    .colab-df-container {\n",
              "      display:flex;\n",
              "      flex-wrap:wrap;\n",
              "      gap: 12px;\n",
              "    }\n",
              "\n",
              "    .colab-df-convert {\n",
              "      background-color: #E8F0FE;\n",
              "      border: none;\n",
              "      border-radius: 50%;\n",
              "      cursor: pointer;\n",
              "      display: none;\n",
              "      fill: #1967D2;\n",
              "      height: 32px;\n",
              "      padding: 0 0 0 0;\n",
              "      width: 32px;\n",
              "    }\n",
              "\n",
              "    .colab-df-convert:hover {\n",
              "      background-color: #E2EBFA;\n",
              "      box-shadow: 0px 1px 2px rgba(60, 64, 67, 0.3), 0px 1px 3px 1px rgba(60, 64, 67, 0.15);\n",
              "      fill: #174EA6;\n",
              "    }\n",
              "\n",
              "    [theme=dark] .colab-df-convert {\n",
              "      background-color: #3B4455;\n",
              "      fill: #D2E3FC;\n",
              "    }\n",
              "\n",
              "    [theme=dark] .colab-df-convert:hover {\n",
              "      background-color: #434B5C;\n",
              "      box-shadow: 0px 1px 3px 1px rgba(0, 0, 0, 0.15);\n",
              "      filter: drop-shadow(0px 1px 2px rgba(0, 0, 0, 0.3));\n",
              "      fill: #FFFFFF;\n",
              "    }\n",
              "  </style>\n",
              "\n",
              "      <script>\n",
              "        const buttonEl =\n",
              "          document.querySelector('#df-4a9930d6-7dfb-45e5-aae4-ade0e875a18c button.colab-df-convert');\n",
              "        buttonEl.style.display =\n",
              "          google.colab.kernel.accessAllowed ? 'block' : 'none';\n",
              "\n",
              "        async function convertToInteractive(key) {\n",
              "          const element = document.querySelector('#df-4a9930d6-7dfb-45e5-aae4-ade0e875a18c');\n",
              "          const dataTable =\n",
              "            await google.colab.kernel.invokeFunction('convertToInteractive',\n",
              "                                                     [key], {});\n",
              "          if (!dataTable) return;\n",
              "\n",
              "          const docLinkHtml = 'Like what you see? Visit the ' +\n",
              "            '<a target=\"_blank\" href=https://colab.research.google.com/notebooks/data_table.ipynb>data table notebook</a>'\n",
              "            + ' to learn more about interactive tables.';\n",
              "          element.innerHTML = '';\n",
              "          dataTable['output_type'] = 'display_data';\n",
              "          await google.colab.output.renderOutput(dataTable, element);\n",
              "          const docLink = document.createElement('div');\n",
              "          docLink.innerHTML = docLinkHtml;\n",
              "          element.appendChild(docLink);\n",
              "        }\n",
              "      </script>\n",
              "    </div>\n",
              "  </div>\n",
              "  "
            ],
            "text/plain": [
              "                  time     y\n",
              "0  2022-06-05 23:03:12  49.9\n",
              "1  2022-06-05 23:03:15  49.9\n",
              "2  2022-06-05 23:03:17  49.9\n",
              "3  2022-06-05 23:03:20  49.8\n",
              "4  2022-06-05 23:03:22  49.8"
            ]
          },
          "execution_count": 131,
          "metadata": {},
          "output_type": "execute_result"
        }
      ],
      "source": [
        "df = df.rename(columns={\"409151bfa0cc\" : 'time', \"409151bfa0cc.1\" : 'y'})\n",
        "df.head()"
      ]
    },
    {
      "cell_type": "code",
      "execution_count": null,
      "metadata": {
        "colab": {
          "base_uri": "https://localhost:8080/",
          "height": 265
        },
        "id": "iwdHubMqfWP_",
        "outputId": "636d6690-f96a-4fbb-a6e9-aacb57c7037f"
      },
      "outputs": [
        {
          "data": {
            "image/png": "[encoded data removed]",
            "text/plain": [
              "<Figure size 432x288 with 1 Axes>"
            ]
          },
          "metadata": {
            "needs_background": "light"
          },
          "output_type": "display_data"
        }
      ],
      "source": [
        "#evolution over time of our data\n",
        "plot_cols = ['y']\n",
        "plot_features = df[plot_cols]\n",
        "_ = plot_features.plot(subplots=True)"
      ]
    },
    {
      "cell_type": "code",
      "execution_count": null,
      "metadata": {
        "colab": {
          "base_uri": "https://localhost:8080/",
          "height": 80
        },
        "id": "ZoMhX28wffSo",
        "outputId": "88269a87-8120-4162-a5df-e15612d84904"
      },
      "outputs": [
        {
          "data": {
            "text/html": [
              "\n",
              "  <div id=\"df-c9760789-77ba-4458-8099-60a89df958db\">\n",
              "    <div class=\"colab-df-container\">\n",
              "      <div>\n",
              "<style scoped>\n",
              "    .dataframe tbody tr th:only-of-type {\n",
              "        vertical-align: middle;\n",
              "    }\n",
              "\n",
              "    .dataframe tbody tr th {\n",
              "        vertical-align: top;\n",
              "    }\n",
              "\n",
              "    .dataframe thead th {\n",
              "        text-align: right;\n",
              "    }\n",
              "</style>\n",
              "<table border=\"1\" class=\"dataframe\">\n",
              "  <thead>\n",
              "    <tr style=\"text-align: right;\">\n",
              "      <th></th>\n",
              "      <th>count</th>\n",
              "      <th>mean</th>\n",
              "      <th>std</th>\n",
              "      <th>min</th>\n",
              "      <th>25%</th>\n",
              "      <th>50%</th>\n",
              "      <th>75%</th>\n",
              "      <th>max</th>\n",
              "    </tr>\n",
              "  </thead>\n",
              "  <tbody>\n",
              "    <tr>\n",
              "      <th>y</th>\n",
              "      <td>118.0</td>\n",
              "      <td>47.049153</td>\n",
              "      <td>1.572344</td>\n",
              "      <td>45.2</td>\n",
              "      <td>45.825</td>\n",
              "      <td>46.45</td>\n",
              "      <td>48.425</td>\n",
              "      <td>50.0</td>\n",
              "    </tr>\n",
              "  </tbody>\n",
              "</table>\n",
              "</div>\n",
              "      <button class=\"colab-df-convert\" onclick=\"convertToInteractive('df-c9760789-77ba-4458-8099-60a89df958db')\"\n",
              "              title=\"Convert this dataframe to an interactive table.\"\n",
              "              style=\"display:none;\">\n",
              "        \n",
              "  <svg xmlns=\"http://www.w3.org/2000/svg\" height=\"24px\"viewBox=\"0 0 24 24\"\n",
              "       width=\"24px\">\n",
              "    <path d=\"M0 0h24v24H0V0z\" fill=\"none\"/>\n",
              "    <path d=\"M18.56 5.44l.94 2.06.94-2.06 2.06-.94-2.06-.94-.94-2.06-.94 2.06-2.06.94zm-11 1L8.5 8.5l.94-2.06 2.06-.94-2.06-.94L8.5 2.5l-.94 2.06-2.06.94zm10 10l.94 2.06.94-2.06 2.06-.94-2.06-.94-.94-2.06-.94 2.06-2.06.94z\"/><path d=\"M17.41 7.96l-1.37-1.37c-.4-.4-.92-.59-1.43-.59-.52 0-1.04.2-1.43.59L10.3 9.45l-7.72 7.72c-.78.78-.78 2.05 0 2.83L4 21.41c.39.39.9.59 1.41.59.51 0 1.02-.2 1.41-.59l7.78-7.78 2.81-2.81c.8-.78.8-2.07 0-2.86zM5.41 20L4 18.59l7.72-7.72 1.47 1.35L5.41 20z\"/>\n",
              "  </svg>\n",
              "      </button>\n",
              "      \n",
              "  <style>\n",
              "    .colab-df-container {\n",
              "      display:flex;\n",
              "      flex-wrap:wrap;\n",
              "      gap: 12px;\n",
              "    }\n",
              "\n",
              "    .colab-df-convert {\n",
              "      background-color: #E8F0FE;\n",
              "      border: none;\n",
              "      border-radius: 50%;\n",
              "      cursor: pointer;\n",
              "      display: none;\n",
              "      fill: #1967D2;\n",
              "      height: 32px;\n",
              "      padding: 0 0 0 0;\n",
              "      width: 32px;\n",
              "    }\n",
              "\n",
              "    .colab-df-convert:hover {\n",
              "      background-color: #E2EBFA;\n",
              "      box-shadow: 0px 1px 2px rgba(60, 64, 67, 0.3), 0px 1px 3px 1px rgba(60, 64, 67, 0.15);\n",
              "      fill: #174EA6;\n",
              "    }\n",
              "\n",
              "    [theme=dark] .colab-df-convert {\n",
              "      background-color: #3B4455;\n",
              "      fill: #D2E3FC;\n",
              "    }\n",
              "\n",
              "    [theme=dark] .colab-df-convert:hover {\n",
              "      background-color: #434B5C;\n",
              "      box-shadow: 0px 1px 3px 1px rgba(0, 0, 0, 0.15);\n",
              "      filter: drop-shadow(0px 1px 2px rgba(0, 0, 0, 0.3));\n",
              "      fill: #FFFFFF;\n",
              "    }\n",
              "  </style>\n",
              "\n",
              "      <script>\n",
              "        const buttonEl =\n",
              "          document.querySelector('#df-c9760789-77ba-4458-8099-60a89df958db button.colab-df-convert');\n",
              "        buttonEl.style.display =\n",
              "          google.colab.kernel.accessAllowed ? 'block' : 'none';\n",
              "\n",
              "        async function convertToInteractive(key) {\n",
              "          const element = document.querySelector('#df-c9760789-77ba-4458-8099-60a89df958db');\n",
              "          const dataTable =\n",
              "            await google.colab.kernel.invokeFunction('convertToInteractive',\n",
              "                                                     [key], {});\n",
              "          if (!dataTable) return;\n",
              "\n",
              "          const docLinkHtml = 'Like what you see? Visit the ' +\n",
              "            '<a target=\"_blank\" href=https://colab.research.google.com/notebooks/data_table.ipynb>data table notebook</a>'\n",
              "            + ' to learn more about interactive tables.';\n",
              "          element.innerHTML = '';\n",
              "          dataTable['output_type'] = 'display_data';\n",
              "          await google.colab.output.renderOutput(dataTable, element);\n",
              "          const docLink = document.createElement('div');\n",
              "          docLink.innerHTML = docLinkHtml;\n",
              "          element.appendChild(docLink);\n",
              "        }\n",
              "      </script>\n",
              "    </div>\n",
              "  </div>\n",
              "  "
            ],
            "text/plain": [
              "   count       mean       std   min     25%    50%     75%   max\n",
              "y  118.0  47.049153  1.572344  45.2  45.825  46.45  48.425  50.0"
            ]
          },
          "execution_count": 133,
          "metadata": {},
          "output_type": "execute_result"
        }
      ],
      "source": [
        "df.describe().transpose()"
      ]
    },
    {
      "cell_type": "code",
      "execution_count": null,
      "metadata": {
        "id": "_C4w_3Uej10C"
      },
      "outputs": [],
      "source": [
        "nrows = (len(df.values))\n",
        "splitPoint = int (nrows * 0.60)\n",
        "train = df['y'] [:splitPoint]\n",
        "test = df ['y'] [splitPoint:]"
      ]
    },
    {
      "cell_type": "code",
      "execution_count": null,
      "metadata": {
        "colab": {
          "base_uri": "https://localhost:8080/"
        },
        "id": "bQ7PkTNtfud_",
        "outputId": "b7c9a5c2-9db9-4633-bbab-1b3a2c9e1274"
      },
      "outputs": [
        {
          "name": "stdout",
          "output_type": "stream",
          "text": [
            "ADF Statistic: -1.015842\n",
            "p-value: 0.747443\n"
          ]
        }
      ],
      "source": [
        " # Check whether the time-series is stationary through the Dickey-Fuller test\n",
        "from statsmodels.tsa.stattools import adfuller\n",
        "result = adfuller(train)\n",
        "\n",
        "print('ADF Statistic: %f' % result[0])\n",
        "print('p-value: %f' % result[1])"
      ]
    },
    {
      "cell_type": "code",
      "execution_count": null,
      "metadata": {
        "colab": {
          "base_uri": "https://localhost:8080/"
        },
        "id": "5rNoUdguf9LH",
        "outputId": "cad1a9fa-0b81-485e-af8a-6b57477dbd63"
      },
      "outputs": [
        {
          "name": "stdout",
          "output_type": "stream",
          "text": [
            "ADF Statistic: -4.107289\n",
            "p-value: 0.000942\n"
          ]
        }
      ],
      "source": [
        "train_new = train.diff().dropna()\n",
        "result = adfuller(train_new)\n",
        "print('ADF Statistic: %f' % result[0])\n",
        "print('p-value: %f' % result[1])"
      ]
    },
    {
      "cell_type": "code",
      "execution_count": null,
      "metadata": {
        "colab": {
          "base_uri": "https://localhost:8080/",
          "height": 281
        },
        "id": "TvvIGGvDiAa2",
        "outputId": "3f83e1e5-db0a-478a-d8c4-be0510819680"
      },
      "outputs": [
        {
          "data": {
            "image/png": "[encoded data removed]",
            "text/plain": [
              "<Figure size 432x288 with 1 Axes>"
            ]
          },
          "metadata": {
            "needs_background": "light"
          },
          "output_type": "display_data"
        }
      ],
      "source": [
        "fig = tsaplots.plot_acf(train_new, lags=10)\n",
        "plt.show()"
      ]
    },
    {
      "cell_type": "code",
      "execution_count": null,
      "metadata": {
        "colab": {
          "base_uri": "https://localhost:8080/",
          "height": 281
        },
        "id": "5TziuC7xiGvs",
        "outputId": "780f43b4-c43f-4a76-f437-def3c26dc52e"
      },
      "outputs": [
        {
          "data": {
            "image/png": "[encoded data removed]",
            "text/plain": [
              "<Figure size 432x288 with 1 Axes>"
            ]
          },
          "metadata": {
            "needs_background": "light"
          },
          "output_type": "display_data"
        }
      ],
      "source": [
        "fig = tsaplots.plot_pacf(train_new, lags=10)\n",
        "plt.show()"
      ]
    },
    {
      "cell_type": "code",
      "execution_count": null,
      "metadata": {
        "id": "ND0HzPy9iSgf"
      },
      "outputs": [],
      "source": [
        "history = [x for x in train]\n",
        "predictions = list()\n",
        "print(test)\n",
        "for t in test.index:\n",
        "  model = ARIMA(history, order=(1,1,1))\n",
        "  model_fit = model.fit()\n",
        "  output = model_fit.forecast()\n",
        "  yest = output[0]\n",
        "  predictions.append(yest)\n",
        "  obs= test[t]\n",
        "  history.append(obs)\n",
        "  print ('predicted=%f, expected=%f' % (yest, obs))"
      ]
    },
    {
      "cell_type": "code",
      "execution_count": null,
      "metadata": {
        "colab": {
          "base_uri": "https://localhost:8080/",
          "height": 282
        },
        "id": "wQtI3hApiZkq",
        "outputId": "d84afbf1-70ce-4130-a591-624520e861f1"
      },
      "outputs": [
        {
          "name": "stdout",
          "output_type": "stream",
          "text": [
            "Test RMSE: 0.118\n"
          ]
        },
        {
          "data": {
            "image/png": "[encoded data removed]",
            "text/plain": [
              "<Figure size 432x288 with 1 Axes>"
            ]
          },
          "metadata": {
            "needs_background": "light"
          },
          "output_type": "display_data"
        }
      ],
      "source": [
        "rmse = math.sqrt(mean_squared_error(test, predictions))\n",
        "print('Test RMSE: %.3f'% rmse)\n",
        "\n",
        "df2 = pd.DataFrame(predictions)\n",
        "df2. set_index(test.index, inplace=True)\n",
        "plt.plot(test)\n",
        "plt.plot(df2, color='red')\n",
        "plt.show()"
      ]
    },
    {
      "cell_type": "code",
      "source": [
        "import os\n",
        "import datetime\n",
        "import IPython\n",
        "import IPython.display\n",
        "import matplotlib as mpl\n",
        "import matplotlib.pyplot as plt\n",
        "import numpy as np\n",
        "import pandas as pd\n",
        "import seaborn as sns\n",
        "import random"
      ],
      "metadata": {
        "id": "kxXUN_FGf1s1"
      },
      "execution_count": 4,
      "outputs": []
    },
    {
      "cell_type": "code",
      "source": [
        "dataset_path = \"/content/dataset1.csv\"\n",
        "df = pd.read_csv(dataset_path)\n",
        "df.head()"
      ],
      "metadata": {
        "colab": {
          "base_uri": "https://localhost:8080/",
          "height": 206
        },
        "id": "nPy7pXhOffcg",
        "outputId": "eb8bfefb-dd7d-4f0c-ced5-5f3f7256ee3b"
      },
      "execution_count": 5,
      "outputs": [
        {
          "output_type": "execute_result",
          "data": {
            "text/plain": [
              "   result  table                _start                 _stop  \\\n",
              "0     NaN      0  2022-08-10T15:00:00Z  2022-09-20T15:00:00Z   \n",
              "1     NaN      0  2022-08-10T15:00:00Z  2022-09-20T15:00:00Z   \n",
              "2     NaN      0  2022-08-10T15:00:00Z  2022-09-20T15:00:00Z   \n",
              "3     NaN      0  2022-08-10T15:00:00Z  2022-09-20T15:00:00Z   \n",
              "4     NaN      0  2022-08-10T15:00:00Z  2022-09-20T15:00:00Z   \n",
              "\n",
              "                          _time  _value       _field _measurement  \\\n",
              "0  2022-08-25T10:13:02.3585624Z    29.4  temperature          val   \n",
              "1  2022-08-25T10:13:04.8724766Z    29.4  temperature          val   \n",
              "2  2022-08-25T10:13:07.3884615Z    29.4  temperature          val   \n",
              "3  2022-08-25T10:13:09.8994101Z    29.4  temperature          val   \n",
              "4   2022-08-25T10:13:12.414701Z    29.5  temperature          val   \n",
              "\n",
              "       clientId       lat        lng prediction  \n",
              "0  diubi-esp-32  42.84629  13.904817         no  \n",
              "1  diubi-esp-32  42.84629  13.904817         no  \n",
              "2  diubi-esp-32  42.84629  13.904817         no  \n",
              "3  diubi-esp-32  42.84629  13.904817         no  \n",
              "4  diubi-esp-32  42.84629  13.904817         no  "
            ],
            "text/html": [
              "\n",
              "  <div id=\"df-b4c241d9-221f-4b22-b820-f3a39efde1c0\">\n",
              "    <div class=\"colab-df-container\">\n",
              "      <div>\n",
              "<style scoped>\n",
              "    .dataframe tbody tr th:only-of-type {\n",
              "        vertical-align: middle;\n",
              "    }\n",
              "\n",
              "    .dataframe tbody tr th {\n",
              "        vertical-align: top;\n",
              "    }\n",
              "\n",
              "    .dataframe thead th {\n",
              "        text-align: right;\n",
              "    }\n",
              "</style>\n",
              "<table border=\"1\" class=\"dataframe\">\n",
              "  <thead>\n",
              "    <tr style=\"text-align: right;\">\n",
              "      <th></th>\n",
              "      <th>result</th>\n",
              "      <th>table</th>\n",
              "      <th>_start</th>\n",
              "      <th>_stop</th>\n",
              "      <th>_time</th>\n",
              "      <th>_value</th>\n",
              "      <th>_field</th>\n",
              "      <th>_measurement</th>\n",
              "      <th>clientId</th>\n",
              "      <th>lat</th>\n",
              "      <th>lng</th>\n",
              "      <th>prediction</th>\n",
              "    </tr>\n",
              "  </thead>\n",
              "  <tbody>\n",
              "    <tr>\n",
              "      <th>0</th>\n",
              "      <td>NaN</td>\n",
              "      <td>0</td>\n",
              "      <td>2022-08-10T15:00:00Z</td>\n",
              "      <td>2022-09-20T15:00:00Z</td>\n",
              "      <td>2022-08-25T10:13:02.3585624Z</td>\n",
              "      <td>29.4</td>\n",
              "      <td>temperature</td>\n",
              "      <td>val</td>\n",
              "      <td>diubi-esp-32</td>\n",
              "      <td>42.84629</td>\n",
              "      <td>13.904817</td>\n",
              "      <td>no</td>\n",
              "    </tr>\n",
              "    <tr>\n",
              "      <th>1</th>\n",
              "      <td>NaN</td>\n",
              "      <td>0</td>\n",
              "      <td>2022-08-10T15:00:00Z</td>\n",
              "      <td>2022-09-20T15:00:00Z</td>\n",
              "      <td>2022-08-25T10:13:04.8724766Z</td>\n",
              "      <td>29.4</td>\n",
              "      <td>temperature</td>\n",
              "      <td>val</td>\n",
              "      <td>diubi-esp-32</td>\n",
              "      <td>42.84629</td>\n",
              "      <td>13.904817</td>\n",
              "      <td>no</td>\n",
              "    </tr>\n",
              "    <tr>\n",
              "      <th>2</th>\n",
              "      <td>NaN</td>\n",
              "      <td>0</td>\n",
              "      <td>2022-08-10T15:00:00Z</td>\n",
              "      <td>2022-09-20T15:00:00Z</td>\n",
              "      <td>2022-08-25T10:13:07.3884615Z</td>\n",
              "      <td>29.4</td>\n",
              "      <td>temperature</td>\n",
              "      <td>val</td>\n",
              "      <td>diubi-esp-32</td>\n",
              "      <td>42.84629</td>\n",
              "      <td>13.904817</td>\n",
              "      <td>no</td>\n",
              "    </tr>\n",
              "    <tr>\n",
              "      <th>3</th>\n",
              "      <td>NaN</td>\n",
              "      <td>0</td>\n",
              "      <td>2022-08-10T15:00:00Z</td>\n",
              "      <td>2022-09-20T15:00:00Z</td>\n",
              "      <td>2022-08-25T10:13:09.8994101Z</td>\n",
              "      <td>29.4</td>\n",
              "      <td>temperature</td>\n",
              "      <td>val</td>\n",
              "      <td>diubi-esp-32</td>\n",
              "      <td>42.84629</td>\n",
              "      <td>13.904817</td>\n",
              "      <td>no</td>\n",
              "    </tr>\n",
              "    <tr>\n",
              "      <th>4</th>\n",
              "      <td>NaN</td>\n",
              "      <td>0</td>\n",
              "      <td>2022-08-10T15:00:00Z</td>\n",
              "      <td>2022-09-20T15:00:00Z</td>\n",
              "      <td>2022-08-25T10:13:12.414701Z</td>\n",
              "      <td>29.5</td>\n",
              "      <td>temperature</td>\n",
              "      <td>val</td>\n",
              "      <td>diubi-esp-32</td>\n",
              "      <td>42.84629</td>\n",
              "      <td>13.904817</td>\n",
              "      <td>no</td>\n",
              "    </tr>\n",
              "  </tbody>\n",
              "</table>\n",
              "</div>\n",
              "      <button class=\"colab-df-convert\" onclick=\"convertToInteractive('df-b4c241d9-221f-4b22-b820-f3a39efde1c0')\"\n",
              "              title=\"Convert this dataframe to an interactive table.\"\n",
              "              style=\"display:none;\">\n",
              "        \n",
              "  <svg xmlns=\"http://www.w3.org/2000/svg\" height=\"24px\"viewBox=\"0 0 24 24\"\n",
              "       width=\"24px\">\n",
              "    <path d=\"M0 0h24v24H0V0z\" fill=\"none\"/>\n",
              "    <path d=\"M18.56 5.44l.94 2.06.94-2.06 2.06-.94-2.06-.94-.94-2.06-.94 2.06-2.06.94zm-11 1L8.5 8.5l.94-2.06 2.06-.94-2.06-.94L8.5 2.5l-.94 2.06-2.06.94zm10 10l.94 2.06.94-2.06 2.06-.94-2.06-.94-.94-2.06-.94 2.06-2.06.94z\"/><path d=\"M17.41 7.96l-1.37-1.37c-.4-.4-.92-.59-1.43-.59-.52 0-1.04.2-1.43.59L10.3 9.45l-7.72 7.72c-.78.78-.78 2.05 0 2.83L4 21.41c.39.39.9.59 1.41.59.51 0 1.02-.2 1.41-.59l7.78-7.78 2.81-2.81c.8-.78.8-2.07 0-2.86zM5.41 20L4 18.59l7.72-7.72 1.47 1.35L5.41 20z\"/>\n",
              "  </svg>\n",
              "      </button>\n",
              "      \n",
              "  <style>\n",
              "    .colab-df-container {\n",
              "      display:flex;\n",
              "      flex-wrap:wrap;\n",
              "      gap: 12px;\n",
              "    }\n",
              "\n",
              "    .colab-df-convert {\n",
              "      background-color: #E8F0FE;\n",
              "      border: none;\n",
              "      border-radius: 50%;\n",
              "      cursor: pointer;\n",
              "      display: none;\n",
              "      fill: #1967D2;\n",
              "      height: 32px;\n",
              "      padding: 0 0 0 0;\n",
              "      width: 32px;\n",
              "    }\n",
              "\n",
              "    .colab-df-convert:hover {\n",
              "      background-color: #E2EBFA;\n",
              "      box-shadow: 0px 1px 2px rgba(60, 64, 67, 0.3), 0px 1px 3px 1px rgba(60, 64, 67, 0.15);\n",
              "      fill: #174EA6;\n",
              "    }\n",
              "\n",
              "    [theme=dark] .colab-df-convert {\n",
              "      background-color: #3B4455;\n",
              "      fill: #D2E3FC;\n",
              "    }\n",
              "\n",
              "    [theme=dark] .colab-df-convert:hover {\n",
              "      background-color: #434B5C;\n",
              "      box-shadow: 0px 1px 3px 1px rgba(0, 0, 0, 0.15);\n",
              "      filter: drop-shadow(0px 1px 2px rgba(0, 0, 0, 0.3));\n",
              "      fill: #FFFFFF;\n",
              "    }\n",
              "  </style>\n",
              "\n",
              "      <script>\n",
              "        const buttonEl =\n",
              "          document.querySelector('#df-b4c241d9-221f-4b22-b820-f3a39efde1c0 button.colab-df-convert');\n",
              "        buttonEl.style.display =\n",
              "          google.colab.kernel.accessAllowed ? 'block' : 'none';\n",
              "\n",
              "        async function convertToInteractive(key) {\n",
              "          const element = document.querySelector('#df-b4c241d9-221f-4b22-b820-f3a39efde1c0');\n",
              "          const dataTable =\n",
              "            await google.colab.kernel.invokeFunction('convertToInteractive',\n",
              "                                                     [key], {});\n",
              "          if (!dataTable) return;\n",
              "\n",
              "          const docLinkHtml = 'Like what you see? Visit the ' +\n",
              "            '<a target=\"_blank\" href=https://colab.research.google.com/notebooks/data_table.ipynb>data table notebook</a>'\n",
              "            + ' to learn more about interactive tables.';\n",
              "          element.innerHTML = '';\n",
              "          dataTable['output_type'] = 'display_data';\n",
              "          await google.colab.output.renderOutput(dataTable, element);\n",
              "          const docLink = document.createElement('div');\n",
              "          docLink.innerHTML = docLinkHtml;\n",
              "          element.appendChild(docLink);\n",
              "        }\n",
              "      </script>\n",
              "    </div>\n",
              "  </div>\n",
              "  "
            ]
          },
          "metadata": {},
          "execution_count": 5
        }
      ]
    },
    {
      "cell_type": "code",
      "source": [
        "plot_cols = ['_value']\n",
        "plot_features = df[plot_cols]\n",
        "plot_features.index = df['_time']\n",
        "print(df.to_string())\n",
        "_ = plot_features.plot(subplots=True)"
      ],
      "metadata": {
        "id": "4ZfW8q9kf7Uf"
      },
      "execution_count": null,
      "outputs": []
    },
    {
      "cell_type": "code",
      "source": [
        "nrows = (len(df.values))\n",
        "splitPoint = int (nrows * 0.60)\n",
        "train = df['_value'] [:splitPoint]\n",
        "test = df ['_value'] [splitPoint:]"
      ],
      "metadata": {
        "id": "qKBNsrOmgA_P"
      },
      "execution_count": 7,
      "outputs": []
    },
    {
      "cell_type": "code",
      "source": [
        "!pip install pystan==2.19.1.1 --quiet\n",
        "!pip install fbprophet --quiet\n",
        "!pip install yfinance --quiet"
      ],
      "metadata": {
        "id": "2bHeWa9SgLC-"
      },
      "execution_count": 8,
      "outputs": []
    },
    {
      "cell_type": "code",
      "source": [
        "import pandas as pd\n",
        "import yfinance as yf\n",
        "from datetime import datetime,timezone\n",
        "import dateutil.parser\n",
        "import time\n",
        "from datetime import timedelta\n",
        "import plotly.graph_objects as go\n",
        "from fbprophet import Prophet\n",
        "from fbprophet.plot import plot_plotly, plot_components_plotly\n",
        "import warnings\n",
        "\n",
        "warnings.filterwarnings('ignore')\n",
        "\n",
        "pd.options.display.float_format = '${:,.2f}'.format"
      ],
      "metadata": {
        "id": "GJUkCOTnhqZx"
      },
      "execution_count": 9,
      "outputs": []
    },
    {
      "cell_type": "code",
      "source": [
        "arr = []\n",
        "for t in df['_time'].values:\n",
        "      d=dateutil.parser.parse(t)\n",
        "      arr=d.strftime('%Y-%m-%d')\n",
        "      df['_time'].replace({ t:arr },inplace=True)\n",
        "\n",
        "data = df.reset_index()[['_time','_value']]\n",
        "data.columns=['ds','y']"
      ],
      "metadata": {
        "id": "H8OWNrg7iNXz"
      },
      "execution_count": 10,
      "outputs": []
    },
    {
      "cell_type": "code",
      "source": [
        "m = Prophet(\n",
        "    daily_seasonality = False, \n",
        "    weekly_seasonality = False, \n",
        "    yearly_seasonality = True, \n",
        "    seasonality_mode = \"multiplicative\", \n",
        "    growth = \"linear\"\n",
        ")\n",
        "\n",
        "m.fit(data)"
      ],
      "metadata": {
        "colab": {
          "base_uri": "https://localhost:8080/"
        },
        "id": "35IreBSKh_Fh",
        "outputId": "69a83a9c-d6e2-4ce5-db8f-08ffb630b1c4"
      },
      "execution_count": 12,
      "outputs": [
        {
          "output_type": "execute_result",
          "data": {
            "text/plain": [
              "<fbprophet.forecaster.Prophet at 0x7f5a232d0290>"
            ]
          },
          "metadata": {},
          "execution_count": 12
        }
      ]
    },
    {
      "cell_type": "code",
      "metadata": {
        "colab": {
          "base_uri": "https://localhost:8080/",
          "height": 206
        },
        "id": "NvGVBudz5s3-",
        "outputId": "53bd7b0c-07de-4142-e3fa-ff5d72e43bd9"
      },
      "source": [
        "future = m.make_future_dataframe(periods = 365)\n",
        "future.tail()"
      ],
      "execution_count": 13,
      "outputs": [
        {
          "output_type": "execute_result",
          "data": {
            "text/plain": [
              "            ds\n",
              "363 2023-08-22\n",
              "364 2023-08-23\n",
              "365 2023-08-24\n",
              "366 2023-08-25\n",
              "367 2023-08-26"
            ],
            "text/html": [
              "\n",
              "  <div id=\"df-0687d8bc-52ae-4c2d-b090-cc46aabd9bd2\">\n",
              "    <div class=\"colab-df-container\">\n",
              "      <div>\n",
              "<style scoped>\n",
              "    .dataframe tbody tr th:only-of-type {\n",
              "        vertical-align: middle;\n",
              "    }\n",
              "\n",
              "    .dataframe tbody tr th {\n",
              "        vertical-align: top;\n",
              "    }\n",
              "\n",
              "    .dataframe thead th {\n",
              "        text-align: right;\n",
              "    }\n",
              "</style>\n",
              "<table border=\"1\" class=\"dataframe\">\n",
              "  <thead>\n",
              "    <tr style=\"text-align: right;\">\n",
              "      <th></th>\n",
              "      <th>ds</th>\n",
              "    </tr>\n",
              "  </thead>\n",
              "  <tbody>\n",
              "    <tr>\n",
              "      <th>363</th>\n",
              "      <td>2023-08-22</td>\n",
              "    </tr>\n",
              "    <tr>\n",
              "      <th>364</th>\n",
              "      <td>2023-08-23</td>\n",
              "    </tr>\n",
              "    <tr>\n",
              "      <th>365</th>\n",
              "      <td>2023-08-24</td>\n",
              "    </tr>\n",
              "    <tr>\n",
              "      <th>366</th>\n",
              "      <td>2023-08-25</td>\n",
              "    </tr>\n",
              "    <tr>\n",
              "      <th>367</th>\n",
              "      <td>2023-08-26</td>\n",
              "    </tr>\n",
              "  </tbody>\n",
              "</table>\n",
              "</div>\n",
              "      <button class=\"colab-df-convert\" onclick=\"convertToInteractive('df-0687d8bc-52ae-4c2d-b090-cc46aabd9bd2')\"\n",
              "              title=\"Convert this dataframe to an interactive table.\"\n",
              "              style=\"display:none;\">\n",
              "        \n",
              "  <svg xmlns=\"http://www.w3.org/2000/svg\" height=\"24px\"viewBox=\"0 0 24 24\"\n",
              "       width=\"24px\">\n",
              "    <path d=\"M0 0h24v24H0V0z\" fill=\"none\"/>\n",
              "    <path d=\"M18.56 5.44l.94 2.06.94-2.06 2.06-.94-2.06-.94-.94-2.06-.94 2.06-2.06.94zm-11 1L8.5 8.5l.94-2.06 2.06-.94-2.06-.94L8.5 2.5l-.94 2.06-2.06.94zm10 10l.94 2.06.94-2.06 2.06-.94-2.06-.94-.94-2.06-.94 2.06-2.06.94z\"/><path d=\"M17.41 7.96l-1.37-1.37c-.4-.4-.92-.59-1.43-.59-.52 0-1.04.2-1.43.59L10.3 9.45l-7.72 7.72c-.78.78-.78 2.05 0 2.83L4 21.41c.39.39.9.59 1.41.59.51 0 1.02-.2 1.41-.59l7.78-7.78 2.81-2.81c.8-.78.8-2.07 0-2.86zM5.41 20L4 18.59l7.72-7.72 1.47 1.35L5.41 20z\"/>\n",
              "  </svg>\n",
              "      </button>\n",
              "      \n",
              "  <style>\n",
              "    .colab-df-container {\n",
              "      display:flex;\n",
              "      flex-wrap:wrap;\n",
              "      gap: 12px;\n",
              "    }\n",
              "\n",
              "    .colab-df-convert {\n",
              "      background-color: #E8F0FE;\n",
              "      border: none;\n",
              "      border-radius: 50%;\n",
              "      cursor: pointer;\n",
              "      display: none;\n",
              "      fill: #1967D2;\n",
              "      height: 32px;\n",
              "      padding: 0 0 0 0;\n",
              "      width: 32px;\n",
              "    }\n",
              "\n",
              "    .colab-df-convert:hover {\n",
              "      background-color: #E2EBFA;\n",
              "      box-shadow: 0px 1px 2px rgba(60, 64, 67, 0.3), 0px 1px 3px 1px rgba(60, 64, 67, 0.15);\n",
              "      fill: #174EA6;\n",
              "    }\n",
              "\n",
              "    [theme=dark] .colab-df-convert {\n",
              "      background-color: #3B4455;\n",
              "      fill: #D2E3FC;\n",
              "    }\n",
              "\n",
              "    [theme=dark] .colab-df-convert:hover {\n",
              "      background-color: #434B5C;\n",
              "      box-shadow: 0px 1px 3px 1px rgba(0, 0, 0, 0.15);\n",
              "      filter: drop-shadow(0px 1px 2px rgba(0, 0, 0, 0.3));\n",
              "      fill: #FFFFFF;\n",
              "    }\n",
              "  </style>\n",
              "\n",
              "      <script>\n",
              "        const buttonEl =\n",
              "          document.querySelector('#df-0687d8bc-52ae-4c2d-b090-cc46aabd9bd2 button.colab-df-convert');\n",
              "        buttonEl.style.display =\n",
              "          google.colab.kernel.accessAllowed ? 'block' : 'none';\n",
              "\n",
              "        async function convertToInteractive(key) {\n",
              "          const element = document.querySelector('#df-0687d8bc-52ae-4c2d-b090-cc46aabd9bd2');\n",
              "          const dataTable =\n",
              "            await google.colab.kernel.invokeFunction('convertToInteractive',\n",
              "                                                     [key], {});\n",
              "          if (!dataTable) return;\n",
              "\n",
              "          const docLinkHtml = 'Like what you see? Visit the ' +\n",
              "            '<a target=\"_blank\" href=https://colab.research.google.com/notebooks/data_table.ipynb>data table notebook</a>'\n",
              "            + ' to learn more about interactive tables.';\n",
              "          element.innerHTML = '';\n",
              "          dataTable['output_type'] = 'display_data';\n",
              "          await google.colab.output.renderOutput(dataTable, element);\n",
              "          const docLink = document.createElement('div');\n",
              "          docLink.innerHTML = docLinkHtml;\n",
              "          element.appendChild(docLink);\n",
              "        }\n",
              "      </script>\n",
              "    </div>\n",
              "  </div>\n",
              "  "
            ]
          },
          "metadata": {},
          "execution_count": 13
        }
      ]
    },
    {
      "cell_type": "code",
      "source": [
        "forecast = m.predict(future)\n",
        "forecast[['ds', 'yhat', 'yhat_lower', 'yhat_upper']].tail()"
      ],
      "metadata": {
        "colab": {
          "base_uri": "https://localhost:8080/",
          "height": 206
        },
        "id": "13_Qo7TjiHtl",
        "outputId": "f8fb0ed3-3c7c-4e08-f158-eea370f67a0f"
      },
      "execution_count": 15,
      "outputs": [
        {
          "output_type": "execute_result",
          "data": {
            "text/plain": [
              "            ds    yhat  yhat_lower  yhat_upper\n",
              "363 2023-08-22 $232.70    $-335.80     $781.13\n",
              "364 2023-08-23 $233.00    $-337.19     $783.17\n",
              "365 2023-08-24 $233.30    $-339.19     $785.16\n",
              "366 2023-08-25 $233.59    $-342.70     $786.81\n",
              "367 2023-08-26 $233.90    $-344.07     $789.87"
            ],
            "text/html": [
              "\n",
              "  <div id=\"df-3bde2c52-a2c0-4baf-98eb-49710110bad6\">\n",
              "    <div class=\"colab-df-container\">\n",
              "      <div>\n",
              "<style scoped>\n",
              "    .dataframe tbody tr th:only-of-type {\n",
              "        vertical-align: middle;\n",
              "    }\n",
              "\n",
              "    .dataframe tbody tr th {\n",
              "        vertical-align: top;\n",
              "    }\n",
              "\n",
              "    .dataframe thead th {\n",
              "        text-align: right;\n",
              "    }\n",
              "</style>\n",
              "<table border=\"1\" class=\"dataframe\">\n",
              "  <thead>\n",
              "    <tr style=\"text-align: right;\">\n",
              "      <th></th>\n",
              "      <th>ds</th>\n",
              "      <th>yhat</th>\n",
              "      <th>yhat_lower</th>\n",
              "      <th>yhat_upper</th>\n",
              "    </tr>\n",
              "  </thead>\n",
              "  <tbody>\n",
              "    <tr>\n",
              "      <th>363</th>\n",
              "      <td>2023-08-22</td>\n",
              "      <td>$232.70</td>\n",
              "      <td>$-335.80</td>\n",
              "      <td>$781.13</td>\n",
              "    </tr>\n",
              "    <tr>\n",
              "      <th>364</th>\n",
              "      <td>2023-08-23</td>\n",
              "      <td>$233.00</td>\n",
              "      <td>$-337.19</td>\n",
              "      <td>$783.17</td>\n",
              "    </tr>\n",
              "    <tr>\n",
              "      <th>365</th>\n",
              "      <td>2023-08-24</td>\n",
              "      <td>$233.30</td>\n",
              "      <td>$-339.19</td>\n",
              "      <td>$785.16</td>\n",
              "    </tr>\n",
              "    <tr>\n",
              "      <th>366</th>\n",
              "      <td>2023-08-25</td>\n",
              "      <td>$233.59</td>\n",
              "      <td>$-342.70</td>\n",
              "      <td>$786.81</td>\n",
              "    </tr>\n",
              "    <tr>\n",
              "      <th>367</th>\n",
              "      <td>2023-08-26</td>\n",
              "      <td>$233.90</td>\n",
              "      <td>$-344.07</td>\n",
              "      <td>$789.87</td>\n",
              "    </tr>\n",
              "  </tbody>\n",
              "</table>\n",
              "</div>\n",
              "      <button class=\"colab-df-convert\" onclick=\"convertToInteractive('df-3bde2c52-a2c0-4baf-98eb-49710110bad6')\"\n",
              "              title=\"Convert this dataframe to an interactive table.\"\n",
              "              style=\"display:none;\">\n",
              "        \n",
              "  <svg xmlns=\"http://www.w3.org/2000/svg\" height=\"24px\"viewBox=\"0 0 24 24\"\n",
              "       width=\"24px\">\n",
              "    <path d=\"M0 0h24v24H0V0z\" fill=\"none\"/>\n",
              "    <path d=\"M18.56 5.44l.94 2.06.94-2.06 2.06-.94-2.06-.94-.94-2.06-.94 2.06-2.06.94zm-11 1L8.5 8.5l.94-2.06 2.06-.94-2.06-.94L8.5 2.5l-.94 2.06-2.06.94zm10 10l.94 2.06.94-2.06 2.06-.94-2.06-.94-.94-2.06-.94 2.06-2.06.94z\"/><path d=\"M17.41 7.96l-1.37-1.37c-.4-.4-.92-.59-1.43-.59-.52 0-1.04.2-1.43.59L10.3 9.45l-7.72 7.72c-.78.78-.78 2.05 0 2.83L4 21.41c.39.39.9.59 1.41.59.51 0 1.02-.2 1.41-.59l7.78-7.78 2.81-2.81c.8-.78.8-2.07 0-2.86zM5.41 20L4 18.59l7.72-7.72 1.47 1.35L5.41 20z\"/>\n",
              "  </svg>\n",
              "      </button>\n",
              "      \n",
              "  <style>\n",
              "    .colab-df-container {\n",
              "      display:flex;\n",
              "      flex-wrap:wrap;\n",
              "      gap: 12px;\n",
              "    }\n",
              "\n",
              "    .colab-df-convert {\n",
              "      background-color: #E8F0FE;\n",
              "      border: none;\n",
              "      border-radius: 50%;\n",
              "      cursor: pointer;\n",
              "      display: none;\n",
              "      fill: #1967D2;\n",
              "      height: 32px;\n",
              "      padding: 0 0 0 0;\n",
              "      width: 32px;\n",
              "    }\n",
              "\n",
              "    .colab-df-convert:hover {\n",
              "      background-color: #E2EBFA;\n",
              "      box-shadow: 0px 1px 2px rgba(60, 64, 67, 0.3), 0px 1px 3px 1px rgba(60, 64, 67, 0.15);\n",
              "      fill: #174EA6;\n",
              "    }\n",
              "\n",
              "    [theme=dark] .colab-df-convert {\n",
              "      background-color: #3B4455;\n",
              "      fill: #D2E3FC;\n",
              "    }\n",
              "\n",
              "    [theme=dark] .colab-df-convert:hover {\n",
              "      background-color: #434B5C;\n",
              "      box-shadow: 0px 1px 3px 1px rgba(0, 0, 0, 0.15);\n",
              "      filter: drop-shadow(0px 1px 2px rgba(0, 0, 0, 0.3));\n",
              "      fill: #FFFFFF;\n",
              "    }\n",
              "  </style>\n",
              "\n",
              "      <script>\n",
              "        const buttonEl =\n",
              "          document.querySelector('#df-3bde2c52-a2c0-4baf-98eb-49710110bad6 button.colab-df-convert');\n",
              "        buttonEl.style.display =\n",
              "          google.colab.kernel.accessAllowed ? 'block' : 'none';\n",
              "\n",
              "        async function convertToInteractive(key) {\n",
              "          const element = document.querySelector('#df-3bde2c52-a2c0-4baf-98eb-49710110bad6');\n",
              "          const dataTable =\n",
              "            await google.colab.kernel.invokeFunction('convertToInteractive',\n",
              "                                                     [key], {});\n",
              "          if (!dataTable) return;\n",
              "\n",
              "          const docLinkHtml = 'Like what you see? Visit the ' +\n",
              "            '<a target=\"_blank\" href=https://colab.research.google.com/notebooks/data_table.ipynb>data table notebook</a>'\n",
              "            + ' to learn more about interactive tables.';\n",
              "          element.innerHTML = '';\n",
              "          dataTable['output_type'] = 'display_data';\n",
              "          await google.colab.output.renderOutput(dataTable, element);\n",
              "          const docLink = document.createElement('div');\n",
              "          docLink.innerHTML = docLinkHtml;\n",
              "          element.appendChild(docLink);\n",
              "        }\n",
              "      </script>\n",
              "    </div>\n",
              "  </div>\n",
              "  "
            ]
          },
          "metadata": {},
          "execution_count": 15
        }
      ]
    },
    {
      "cell_type": "code",
      "source": [
        "plot_plotly(m, forecast)"
      ],
      "metadata": {
        "colab": {
          "base_uri": "https://localhost:8080/",
          "height": 617
        },
        "id": "qofM4QHt0_wq",
        "outputId": "eee437c2-5043-4c4e-c129-e1af6add0b78"
      },
      "execution_count": 16,
      "outputs": [
        {
          "output_type": "display_data",
          "data": {
            "text/html": [
              "<html>\n",
              "<head><meta charset=\"utf-8\" /></head>\n",
              "<body>\n",
              "    <div>            <script src=\"https://cdnjs.cloudflare.com/ajax/libs/mathjax/2.7.5/MathJax.js?config=TeX-AMS-MML_SVG\"></script><script type=\"text/javascript\">if (window.MathJax) {MathJax.Hub.Config({SVG: {font: \"STIX-Web\"}});}</script>                <script type=\"text/javascript\">window.PlotlyConfig = {MathJaxConfig: 'local'};</script>\n",
              "        <script src=\"https://cdn.plot.ly/plotly-2.8.3.min.js\"></script>                <div id=\"93d7a304-24be-40f0-985c-5a5b2013360f\" class=\"plotly-graph-div\" style=\"height:600px; width:900px;\"></div>            <script type=\"text/javascript\">                                    window.PLOTLYENV=window.PLOTLYENV || {};                                    if (document.getElementById(\"93d7a304-24be-40f0-985c-5a5b2013360f\")) {                    Plotly.newPlot(                        \"93d7a304-24be-40f0-985c-5a5b2013360f\",                        [{\"marker\":{\"color\":\"black\",\"size\":4},\"mode\":\"markers\",\"name\":\"Actual\",\"x\":[\"2022-08-24T00:00:00\",\"2022-08-24T00:00:00\",\"2022-08-24T00:00:00\",\"2022-08-24T00:00:00\",\"2022-08-24T00:00:00\",\"2022-08-24T00:00:00\",\"2022-08-24T00:00:00\",\"2022-08-24T00:00:00\",\"2022-08-24T00:00:00\",\"2022-08-24T00:00:00\",\"2022-08-24T00:00:00\",\"2022-08-24T00:00:00\",\"2022-08-24T00:00:00\",\"2022-08-24T00:00:00\",\"2022-08-24T00:00:00\",\"2022-08-24T00:00:00\",\"2022-08-24T00:00:00\",\"2022-08-24T00:00:00\",\"2022-08-24T00:00:00\",\"2022-08-24T00:00:00\",\"2022-08-24T00:00:00\",\"2022-08-24T00:00:00\",\"2022-08-24T00:00:00\",\"2022-08-24T00:00:00\",\"2022-08-24T00:00:00\",\"2022-08-24T00:00:00\",\"2022-08-24T00:00:00\",\"2022-08-24T00:00:00\",\"2022-08-24T00:00:00\",\"2022-08-24T00:00:00\",\"2022-08-24T00:00:00\",\"2022-08-24T00:00:00\",\"2022-08-24T00:00:00\",\"2022-08-24T00:00:00\",\"2022-08-24T00:00:00\",\"2022-08-24T00:00:00\",\"2022-08-24T00:00:00\",\"2022-08-24T00:00:00\",\"2022-08-24T00:00:00\",\"2022-08-24T00:00:00\",\"2022-08-24T00:00:00\",\"2022-08-24T00:00:00\",\"2022-08-24T00:00:00\",\"2022-08-24T00:00:00\",\"2022-08-24T00:00:00\",\"2022-08-24T00:00:00\",\"2022-08-24T00:00:00\",\"2022-08-24T00:00:00\",\"2022-08-24T00:00:00\",\"2022-08-24T00:00:00\",\"2022-08-24T00:00:00\",\"2022-08-24T00:00:00\",\"2022-08-24T00:00:00\",\"2022-08-24T00:00:00\",\"2022-08-24T00:00:00\",\"2022-08-24T00:00:00\",\"2022-08-24T00:00:00\",\"2022-08-24T00:00:00\",\"2022-08-24T00:00:00\",\"2022-08-24T00:00:00\",\"2022-08-24T00:00:00\",\"2022-08-24T00:00:00\",\"2022-08-24T00:00:00\",\"2022-08-24T00:00:00\",\"2022-08-24T00:00:00\",\"2022-08-24T00:00:00\",\"2022-08-24T00:00:00\",\"2022-08-24T00:00:00\",\"2022-08-24T00:00:00\",\"2022-08-24T00:00:00\",\"2022-08-24T00:00:00\",\"2022-08-24T00:00:00\",\"2022-08-24T00:00:00\",\"2022-08-24T00:00:00\",\"2022-08-24T00:00:00\",\"2022-08-24T00:00:00\",\"2022-08-24T00:00:00\",\"2022-08-24T00:00:00\",\"2022-08-24T00:00:00\",\"2022-08-24T00:00:00\",\"2022-08-24T00:00:00\",\"2022-08-24T00:00:00\",\"2022-08-24T00:00:00\",\"2022-08-24T00:00:00\",\"2022-08-24T00:00:00\",\"2022-08-24T00:00:00\",\"2022-08-24T00:00:00\",\"2022-08-24T00:00:00\",\"2022-08-24T00:00:00\",\"2022-08-24T00:00:00\",\"2022-08-24T00:00:00\",\"2022-08-24T00:00:00\",\"2022-08-24T00:00:00\",\"2022-08-24T00:00:00\",\"2022-08-24T00:00:00\",\"2022-08-24T00:00:00\",\"2022-08-24T00:00:00\",\"2022-08-24T00:00:00\",\"2022-08-24T00:00:00\",\"2022-08-24T00:00:00\",\"2022-08-24T00:00:00\",\"2022-08-24T00:00:00\",\"2022-08-24T00:00:00\",\"2022-08-24T00:00:00\",\"2022-08-24T00:00:00\",\"2022-08-24T00:00:00\",\"2022-08-24T00:00:00\",\"2022-08-24T00:00:00\",\"2022-08-24T00:00:00\",\"2022-08-24T00:00:00\",\"2022-08-24T00:00:00\",\"2022-08-24T00:00:00\",\"2022-08-24T00:00:00\",\"2022-08-24T00:00:00\",\"2022-08-24T00:00:00\",\"2022-08-24T00:00:00\",\"2022-08-24T00:00:00\",\"2022-08-24T00:00:00\",\"2022-08-24T00:00:00\",\"2022-08-24T00:00:00\",\"2022-08-24T00:00:00\",\"2022-08-24T00:00:00\",\"2022-08-24T00:00:00\",\"2022-08-24T00:00:00\",\"2022-08-25T00:00:00\",\"2022-08-25T00:00:00\",\"2022-08-25T00:00:00\",\"2022-08-25T00:00:00\",\"2022-08-25T00:00:00\",\"2022-08-25T00:00:00\",\"2022-08-25T00:00:00\",\"2022-08-25T00:00:00\",\"2022-08-25T00:00:00\",\"2022-08-25T00:00:00\",\"2022-08-25T00:00:00\",\"2022-08-25T00:00:00\",\"2022-08-25T00:00:00\",\"2022-08-25T00:00:00\",\"2022-08-25T00:00:00\",\"2022-08-25T00:00:00\",\"2022-08-25T00:00:00\",\"2022-08-25T00:00:00\",\"2022-08-25T00:00:00\",\"2022-08-25T00:00:00\",\"2022-08-25T00:00:00\",\"2022-08-25T00:00:00\",\"2022-08-25T00:00:00\",\"2022-08-25T00:00:00\",\"2022-08-25T00:00:00\",\"2022-08-25T00:00:00\",\"2022-08-25T00:00:00\",\"2022-08-25T00:00:00\",\"2022-08-25T00:00:00\",\"2022-08-25T00:00:00\",\"2022-08-25T00:00:00\",\"2022-08-25T00:00:00\",\"2022-08-25T00:00:00\",\"2022-08-25T00:00:00\",\"2022-08-25T00:00:00\",\"2022-08-25T00:00:00\",\"2022-08-25T00:00:00\",\"2022-08-25T00:00:00\",\"2022-08-25T00:00:00\",\"2022-08-25T00:00:00\",\"2022-08-25T00:00:00\",\"2022-08-25T00:00:00\",\"2022-08-25T00:00:00\",\"2022-08-25T00:00:00\",\"2022-08-25T00:00:00\",\"2022-08-25T00:00:00\",\"2022-08-25T00:00:00\",\"2022-08-25T00:00:00\",\"2022-08-25T00:00:00\",\"2022-08-25T00:00:00\",\"2022-08-25T00:00:00\",\"2022-08-25T00:00:00\",\"2022-08-25T00:00:00\",\"2022-08-25T00:00:00\",\"2022-08-25T00:00:00\",\"2022-08-25T00:00:00\",\"2022-08-25T00:00:00\",\"2022-08-25T00:00:00\",\"2022-08-25T00:00:00\",\"2022-08-25T00:00:00\",\"2022-08-25T00:00:00\",\"2022-08-25T00:00:00\",\"2022-08-25T00:00:00\",\"2022-08-25T00:00:00\",\"2022-08-25T00:00:00\",\"2022-08-25T00:00:00\",\"2022-08-25T00:00:00\",\"2022-08-25T00:00:00\",\"2022-08-25T00:00:00\",\"2022-08-25T00:00:00\",\"2022-08-25T00:00:00\",\"2022-08-25T00:00:00\",\"2022-08-25T00:00:00\",\"2022-08-25T00:00:00\",\"2022-08-25T00:00:00\",\"2022-08-25T00:00:00\",\"2022-08-25T00:00:00\",\"2022-08-25T00:00:00\",\"2022-08-25T00:00:00\",\"2022-08-25T00:00:00\",\"2022-08-25T00:00:00\",\"2022-08-25T00:00:00\",\"2022-08-25T00:00:00\",\"2022-08-25T00:00:00\",\"2022-08-25T00:00:00\",\"2022-08-25T00:00:00\",\"2022-08-25T00:00:00\",\"2022-08-25T00:00:00\",\"2022-08-25T00:00:00\",\"2022-08-25T00:00:00\",\"2022-08-25T00:00:00\",\"2022-08-25T00:00:00\",\"2022-08-25T00:00:00\",\"2022-08-25T00:00:00\",\"2022-08-25T00:00:00\",\"2022-08-25T00:00:00\",\"2022-08-25T00:00:00\",\"2022-08-25T00:00:00\",\"2022-08-25T00:00:00\",\"2022-08-25T00:00:00\",\"2022-08-25T00:00:00\",\"2022-08-25T00:00:00\",\"2022-08-25T00:00:00\",\"2022-08-25T00:00:00\",\"2022-08-25T00:00:00\",\"2022-08-25T00:00:00\",\"2022-08-25T00:00:00\",\"2022-08-25T00:00:00\",\"2022-08-25T00:00:00\",\"2022-08-25T00:00:00\",\"2022-08-25T00:00:00\",\"2022-08-25T00:00:00\",\"2022-08-25T00:00:00\",\"2022-08-25T00:00:00\",\"2022-08-25T00:00:00\",\"2022-08-25T00:00:00\",\"2022-08-25T00:00:00\",\"2022-08-25T00:00:00\",\"2022-08-25T00:00:00\",\"2022-08-25T00:00:00\",\"2022-08-25T00:00:00\",\"2022-08-25T00:00:00\",\"2022-08-25T00:00:00\",\"2022-08-25T00:00:00\",\"2022-08-25T00:00:00\",\"2022-08-25T00:00:00\",\"2022-08-25T00:00:00\",\"2022-08-25T00:00:00\",\"2022-08-25T00:00:00\",\"2022-08-25T00:00:00\",\"2022-08-25T00:00:00\",\"2022-08-25T00:00:00\",\"2022-08-25T00:00:00\",\"2022-08-25T00:00:00\",\"2022-08-25T00:00:00\",\"2022-08-25T00:00:00\",\"2022-08-25T00:00:00\",\"2022-08-25T00:00:00\",\"2022-08-25T00:00:00\",\"2022-08-25T00:00:00\",\"2022-08-25T00:00:00\",\"2022-08-25T00:00:00\",\"2022-08-25T00:00:00\",\"2022-08-25T00:00:00\",\"2022-08-25T00:00:00\",\"2022-08-25T00:00:00\",\"2022-08-25T00:00:00\",\"2022-08-25T00:00:00\",\"2022-08-25T00:00:00\",\"2022-08-25T00:00:00\",\"2022-08-25T00:00:00\",\"2022-08-25T00:00:00\",\"2022-08-25T00:00:00\",\"2022-08-25T00:00:00\",\"2022-08-25T00:00:00\",\"2022-08-25T00:00:00\",\"2022-08-25T00:00:00\",\"2022-08-25T00:00:00\",\"2022-08-25T00:00:00\",\"2022-08-25T00:00:00\",\"2022-08-25T00:00:00\",\"2022-08-25T00:00:00\",\"2022-08-25T00:00:00\",\"2022-08-25T00:00:00\",\"2022-08-25T00:00:00\",\"2022-08-25T00:00:00\",\"2022-08-25T00:00:00\",\"2022-08-25T00:00:00\",\"2022-08-25T00:00:00\",\"2022-08-25T00:00:00\",\"2022-08-25T00:00:00\",\"2022-08-25T00:00:00\",\"2022-08-25T00:00:00\",\"2022-08-25T00:00:00\",\"2022-08-25T00:00:00\",\"2022-08-25T00:00:00\",\"2022-08-25T00:00:00\",\"2022-08-25T00:00:00\",\"2022-08-25T00:00:00\",\"2022-08-25T00:00:00\",\"2022-08-25T00:00:00\",\"2022-08-25T00:00:00\",\"2022-08-25T00:00:00\",\"2022-08-25T00:00:00\",\"2022-08-25T00:00:00\",\"2022-08-25T00:00:00\",\"2022-08-25T00:00:00\",\"2022-08-25T00:00:00\",\"2022-08-25T00:00:00\",\"2022-08-25T00:00:00\",\"2022-08-25T00:00:00\",\"2022-08-25T00:00:00\",\"2022-08-25T00:00:00\",\"2022-08-25T00:00:00\",\"2022-08-25T00:00:00\",\"2022-08-25T00:00:00\",\"2022-08-25T00:00:00\",\"2022-08-25T00:00:00\",\"2022-08-25T00:00:00\",\"2022-08-25T00:00:00\",\"2022-08-25T00:00:00\",\"2022-08-25T00:00:00\",\"2022-08-25T00:00:00\",\"2022-08-25T00:00:00\",\"2022-08-25T00:00:00\",\"2022-08-25T00:00:00\",\"2022-08-25T00:00:00\",\"2022-08-25T00:00:00\",\"2022-08-25T00:00:00\",\"2022-08-25T00:00:00\",\"2022-08-25T00:00:00\",\"2022-08-25T00:00:00\",\"2022-08-25T00:00:00\",\"2022-08-25T00:00:00\",\"2022-08-25T00:00:00\",\"2022-08-25T00:00:00\",\"2022-08-25T00:00:00\",\"2022-08-25T00:00:00\",\"2022-08-25T00:00:00\",\"2022-08-25T00:00:00\",\"2022-08-25T00:00:00\",\"2022-08-25T00:00:00\",\"2022-08-25T00:00:00\",\"2022-08-25T00:00:00\",\"2022-08-25T00:00:00\",\"2022-08-25T00:00:00\",\"2022-08-25T00:00:00\",\"2022-08-25T00:00:00\",\"2022-08-25T00:00:00\",\"2022-08-25T00:00:00\",\"2022-08-25T00:00:00\",\"2022-08-25T00:00:00\",\"2022-08-25T00:00:00\",\"2022-08-25T00:00:00\",\"2022-08-25T00:00:00\",\"2022-08-25T00:00:00\",\"2022-08-25T00:00:00\",\"2022-08-25T00:00:00\",\"2022-08-25T00:00:00\",\"2022-08-25T00:00:00\",\"2022-08-25T00:00:00\",\"2022-08-25T00:00:00\",\"2022-08-25T00:00:00\",\"2022-08-25T00:00:00\",\"2022-08-25T00:00:00\",\"2022-08-25T00:00:00\",\"2022-08-25T00:00:00\",\"2022-08-25T00:00:00\",\"2022-08-25T00:00:00\",\"2022-08-25T00:00:00\",\"2022-08-25T00:00:00\",\"2022-08-25T00:00:00\",\"2022-08-25T00:00:00\",\"2022-08-25T00:00:00\",\"2022-08-25T00:00:00\",\"2022-08-25T00:00:00\",\"2022-08-25T00:00:00\",\"2022-08-25T00:00:00\",\"2022-08-25T00:00:00\",\"2022-08-25T00:00:00\",\"2022-08-25T00:00:00\",\"2022-08-25T00:00:00\",\"2022-08-25T00:00:00\",\"2022-08-25T00:00:00\",\"2022-08-25T00:00:00\",\"2022-08-25T00:00:00\",\"2022-08-25T00:00:00\",\"2022-08-25T00:00:00\",\"2022-08-25T00:00:00\",\"2022-08-25T00:00:00\",\"2022-08-25T00:00:00\",\"2022-08-25T00:00:00\",\"2022-08-25T00:00:00\",\"2022-08-25T00:00:00\",\"2022-08-25T00:00:00\",\"2022-08-25T00:00:00\",\"2022-08-25T00:00:00\",\"2022-08-25T00:00:00\",\"2022-08-25T00:00:00\",\"2022-08-25T00:00:00\",\"2022-08-25T00:00:00\",\"2022-08-25T00:00:00\",\"2022-08-25T00:00:00\",\"2022-08-25T00:00:00\",\"2022-08-25T00:00:00\",\"2022-08-25T00:00:00\",\"2022-08-25T00:00:00\",\"2022-08-25T00:00:00\",\"2022-08-25T00:00:00\",\"2022-08-25T00:00:00\",\"2022-08-25T00:00:00\",\"2022-08-25T00:00:00\",\"2022-08-25T00:00:00\",\"2022-08-25T00:00:00\",\"2022-08-25T00:00:00\",\"2022-08-25T00:00:00\",\"2022-08-25T00:00:00\",\"2022-08-25T00:00:00\",\"2022-08-25T00:00:00\",\"2022-08-25T00:00:00\",\"2022-08-25T00:00:00\",\"2022-08-25T00:00:00\",\"2022-08-25T00:00:00\",\"2022-08-25T00:00:00\",\"2022-08-25T00:00:00\",\"2022-08-25T00:00:00\",\"2022-08-25T00:00:00\",\"2022-08-25T00:00:00\",\"2022-08-25T00:00:00\",\"2022-08-25T00:00:00\",\"2022-08-25T00:00:00\",\"2022-08-25T00:00:00\",\"2022-08-25T00:00:00\",\"2022-08-25T00:00:00\",\"2022-08-25T00:00:00\",\"2022-08-25T00:00:00\",\"2022-08-25T00:00:00\",\"2022-08-25T00:00:00\",\"2022-08-25T00:00:00\",\"2022-08-25T00:00:00\",\"2022-08-25T00:00:00\",\"2022-08-25T00:00:00\",\"2022-08-25T00:00:00\",\"2022-08-25T00:00:00\",\"2022-08-25T00:00:00\",\"2022-08-25T00:00:00\",\"2022-08-25T00:00:00\",\"2022-08-25T00:00:00\",\"2022-08-25T00:00:00\",\"2022-08-25T00:00:00\",\"2022-08-25T00:00:00\",\"2022-08-25T00:00:00\",\"2022-08-25T00:00:00\",\"2022-08-25T00:00:00\",\"2022-08-25T00:00:00\",\"2022-08-25T00:00:00\",\"2022-08-25T00:00:00\",\"2022-08-25T00:00:00\",\"2022-08-25T00:00:00\",\"2022-08-25T00:00:00\",\"2022-08-25T00:00:00\",\"2022-08-25T00:00:00\",\"2022-08-25T00:00:00\",\"2022-08-25T00:00:00\",\"2022-08-25T00:00:00\",\"2022-08-25T00:00:00\",\"2022-08-25T00:00:00\",\"2022-08-25T00:00:00\",\"2022-08-25T00:00:00\",\"2022-08-25T00:00:00\",\"2022-08-25T00:00:00\",\"2022-08-25T00:00:00\",\"2022-08-25T00:00:00\",\"2022-08-25T00:00:00\",\"2022-08-25T00:00:00\",\"2022-08-25T00:00:00\",\"2022-08-25T00:00:00\",\"2022-08-25T00:00:00\",\"2022-08-25T00:00:00\",\"2022-08-25T00:00:00\",\"2022-08-25T00:00:00\",\"2022-08-25T00:00:00\",\"2022-08-25T00:00:00\",\"2022-08-25T00:00:00\",\"2022-08-25T00:00:00\",\"2022-08-25T00:00:00\",\"2022-08-25T00:00:00\",\"2022-08-25T00:00:00\",\"2022-08-25T00:00:00\",\"2022-08-25T00:00:00\",\"2022-08-25T00:00:00\",\"2022-08-25T00:00:00\",\"2022-08-25T00:00:00\",\"2022-08-25T00:00:00\",\"2022-08-25T00:00:00\",\"2022-08-25T00:00:00\",\"2022-08-25T00:00:00\",\"2022-08-25T00:00:00\",\"2022-08-25T00:00:00\",\"2022-08-25T00:00:00\",\"2022-08-25T00:00:00\",\"2022-08-25T00:00:00\",\"2022-08-25T00:00:00\",\"2022-08-25T00:00:00\",\"2022-08-25T00:00:00\",\"2022-08-25T00:00:00\",\"2022-08-25T00:00:00\",\"2022-08-25T00:00:00\",\"2022-08-25T00:00:00\",\"2022-08-25T00:00:00\",\"2022-08-25T00:00:00\",\"2022-08-25T00:00:00\",\"2022-08-25T00:00:00\",\"2022-08-25T00:00:00\",\"2022-08-25T00:00:00\",\"2022-08-25T00:00:00\",\"2022-08-25T00:00:00\",\"2022-08-25T00:00:00\",\"2022-08-25T00:00:00\",\"2022-08-25T00:00:00\",\"2022-08-25T00:00:00\",\"2022-08-25T00:00:00\",\"2022-08-25T00:00:00\",\"2022-08-25T00:00:00\",\"2022-08-25T00:00:00\",\"2022-08-25T00:00:00\",\"2022-08-25T00:00:00\",\"2022-08-25T00:00:00\",\"2022-08-25T00:00:00\",\"2022-08-25T00:00:00\",\"2022-08-25T00:00:00\",\"2022-08-25T00:00:00\",\"2022-08-25T00:00:00\",\"2022-08-25T00:00:00\",\"2022-08-25T00:00:00\",\"2022-08-25T00:00:00\",\"2022-08-25T00:00:00\",\"2022-08-25T00:00:00\",\"2022-08-25T00:00:00\",\"2022-08-25T00:00:00\",\"2022-08-25T00:00:00\",\"2022-08-25T00:00:00\",\"2022-08-25T00:00:00\",\"2022-08-25T00:00:00\",\"2022-08-25T00:00:00\",\"2022-08-25T00:00:00\",\"2022-08-25T00:00:00\",\"2022-08-25T00:00:00\",\"2022-08-25T00:00:00\",\"2022-08-25T00:00:00\",\"2022-08-25T00:00:00\",\"2022-08-25T00:00:00\",\"2022-08-25T00:00:00\",\"2022-08-25T00:00:00\",\"2022-08-25T00:00:00\",\"2022-08-25T00:00:00\",\"2022-08-25T00:00:00\",\"2022-08-25T00:00:00\",\"2022-08-25T00:00:00\",\"2022-08-25T00:00:00\",\"2022-08-25T00:00:00\",\"2022-08-25T00:00:00\",\"2022-08-25T00:00:00\",\"2022-08-25T00:00:00\",\"2022-08-25T00:00:00\",\"2022-08-25T00:00:00\",\"2022-08-25T00:00:00\",\"2022-08-25T00:00:00\",\"2022-08-25T00:00:00\",\"2022-08-25T00:00:00\",\"2022-08-25T00:00:00\",\"2022-08-25T00:00:00\",\"2022-08-25T00:00:00\",\"2022-08-25T00:00:00\",\"2022-08-25T00:00:00\",\"2022-08-25T00:00:00\",\"2022-08-25T00:00:00\",\"2022-08-25T00:00:00\",\"2022-08-25T00:00:00\",\"2022-08-25T00:00:00\",\"2022-08-25T00:00:00\",\"2022-08-25T00:00:00\",\"2022-08-25T00:00:00\",\"2022-08-25T00:00:00\",\"2022-08-25T00:00:00\",\"2022-08-25T00:00:00\",\"2022-08-25T00:00:00\",\"2022-08-25T00:00:00\",\"2022-08-25T00:00:00\",\"2022-08-25T00:00:00\",\"2022-08-25T00:00:00\",\"2022-08-25T00:00:00\",\"2022-08-25T00:00:00\",\"2022-08-25T00:00:00\",\"2022-08-25T00:00:00\",\"2022-08-25T00:00:00\",\"2022-08-25T00:00:00\",\"2022-08-25T00:00:00\",\"2022-08-25T00:00:00\",\"2022-08-25T00:00:00\",\"2022-08-25T00:00:00\",\"2022-08-25T00:00:00\",\"2022-08-25T00:00:00\",\"2022-08-25T00:00:00\",\"2022-08-25T00:00:00\",\"2022-08-25T00:00:00\",\"2022-08-25T00:00:00\",\"2022-08-25T00:00:00\",\"2022-08-25T00:00:00\",\"2022-08-25T00:00:00\",\"2022-08-25T00:00:00\",\"2022-08-25T00:00:00\",\"2022-08-25T00:00:00\",\"2022-08-25T00:00:00\",\"2022-08-25T00:00:00\",\"2022-08-25T00:00:00\",\"2022-08-25T00:00:00\",\"2022-08-25T00:00:00\",\"2022-08-25T00:00:00\",\"2022-08-25T00:00:00\",\"2022-08-25T00:00:00\",\"2022-08-25T00:00:00\",\"2022-08-25T00:00:00\",\"2022-08-25T00:00:00\",\"2022-08-25T00:00:00\",\"2022-08-25T00:00:00\",\"2022-08-25T00:00:00\",\"2022-08-25T00:00:00\",\"2022-08-25T00:00:00\",\"2022-08-25T00:00:00\",\"2022-08-25T00:00:00\",\"2022-08-25T00:00:00\",\"2022-08-25T00:00:00\",\"2022-08-25T00:00:00\",\"2022-08-25T00:00:00\",\"2022-08-25T00:00:00\",\"2022-08-25T00:00:00\",\"2022-08-25T00:00:00\",\"2022-08-25T00:00:00\",\"2022-08-25T00:00:00\",\"2022-08-25T00:00:00\",\"2022-08-25T00:00:00\",\"2022-08-25T00:00:00\",\"2022-08-25T00:00:00\",\"2022-08-25T00:00:00\",\"2022-08-25T00:00:00\",\"2022-08-25T00:00:00\",\"2022-08-25T00:00:00\",\"2022-08-25T00:00:00\",\"2022-08-25T00:00:00\",\"2022-08-25T00:00:00\",\"2022-08-25T00:00:00\",\"2022-08-25T00:00:00\",\"2022-08-25T00:00:00\",\"2022-08-25T00:00:00\",\"2022-08-25T00:00:00\",\"2022-08-25T00:00:00\",\"2022-08-25T00:00:00\",\"2022-08-25T00:00:00\",\"2022-08-25T00:00:00\",\"2022-08-25T00:00:00\",\"2022-08-25T00:00:00\",\"2022-08-25T00:00:00\",\"2022-08-25T00:00:00\",\"2022-08-25T00:00:00\",\"2022-08-25T00:00:00\",\"2022-08-25T00:00:00\",\"2022-08-25T00:00:00\",\"2022-08-25T00:00:00\",\"2022-08-25T00:00:00\",\"2022-08-25T00:00:00\",\"2022-08-25T00:00:00\",\"2022-08-25T00:00:00\",\"2022-08-25T00:00:00\",\"2022-08-25T00:00:00\",\"2022-08-25T00:00:00\",\"2022-08-25T00:00:00\",\"2022-08-25T00:00:00\",\"2022-08-25T00:00:00\",\"2022-08-25T00:00:00\",\"2022-08-25T00:00:00\",\"2022-08-25T00:00:00\",\"2022-08-25T00:00:00\",\"2022-08-25T00:00:00\",\"2022-08-25T00:00:00\",\"2022-08-25T00:00:00\",\"2022-08-25T00:00:00\",\"2022-08-25T00:00:00\",\"2022-08-25T00:00:00\",\"2022-08-25T00:00:00\",\"2022-08-25T00:00:00\",\"2022-08-25T00:00:00\",\"2022-08-25T00:00:00\",\"2022-08-25T00:00:00\",\"2022-08-25T00:00:00\",\"2022-08-25T00:00:00\",\"2022-08-25T00:00:00\",\"2022-08-25T00:00:00\",\"2022-08-25T00:00:00\",\"2022-08-25T00:00:00\",\"2022-08-25T00:00:00\",\"2022-08-25T00:00:00\",\"2022-08-25T00:00:00\",\"2022-08-25T00:00:00\",\"2022-08-25T00:00:00\",\"2022-08-25T00:00:00\",\"2022-08-25T00:00:00\",\"2022-08-25T00:00:00\",\"2022-08-25T00:00:00\",\"2022-08-25T00:00:00\",\"2022-08-25T00:00:00\",\"2022-08-25T00:00:00\",\"2022-08-25T00:00:00\",\"2022-08-25T00:00:00\",\"2022-08-25T00:00:00\",\"2022-08-25T00:00:00\",\"2022-08-25T00:00:00\",\"2022-08-25T00:00:00\",\"2022-08-25T00:00:00\",\"2022-08-25T00:00:00\",\"2022-08-25T00:00:00\",\"2022-08-25T00:00:00\",\"2022-08-25T00:00:00\",\"2022-08-25T00:00:00\",\"2022-08-25T00:00:00\",\"2022-08-25T00:00:00\",\"2022-08-25T00:00:00\",\"2022-08-25T00:00:00\",\"2022-08-25T00:00:00\",\"2022-08-25T00:00:00\",\"2022-08-25T00:00:00\",\"2022-08-25T00:00:00\",\"2022-08-25T00:00:00\",\"2022-08-25T00:00:00\",\"2022-08-25T00:00:00\",\"2022-08-25T00:00:00\",\"2022-08-25T00:00:00\",\"2022-08-25T00:00:00\",\"2022-08-25T00:00:00\",\"2022-08-25T00:00:00\",\"2022-08-25T00:00:00\",\"2022-08-25T00:00:00\",\"2022-08-25T00:00:00\",\"2022-08-25T00:00:00\",\"2022-08-25T00:00:00\",\"2022-08-25T00:00:00\",\"2022-08-25T00:00:00\",\"2022-08-25T00:00:00\",\"2022-08-25T00:00:00\",\"2022-08-25T00:00:00\",\"2022-08-25T00:00:00\",\"2022-08-25T00:00:00\",\"2022-08-25T00:00:00\",\"2022-08-25T00:00:00\",\"2022-08-25T00:00:00\",\"2022-08-25T00:00:00\",\"2022-08-25T00:00:00\",\"2022-08-25T00:00:00\",\"2022-08-25T00:00:00\",\"2022-08-25T00:00:00\",\"2022-08-25T00:00:00\",\"2022-08-25T00:00:00\",\"2022-08-25T00:00:00\",\"2022-08-25T00:00:00\",\"2022-08-25T00:00:00\",\"2022-08-25T00:00:00\",\"2022-08-25T00:00:00\",\"2022-08-25T00:00:00\",\"2022-08-25T00:00:00\",\"2022-08-25T00:00:00\",\"2022-08-25T00:00:00\",\"2022-08-25T00:00:00\",\"2022-08-25T00:00:00\",\"2022-08-25T00:00:00\",\"2022-08-25T00:00:00\",\"2022-08-25T00:00:00\",\"2022-08-25T00:00:00\",\"2022-08-25T00:00:00\",\"2022-08-25T00:00:00\",\"2022-08-25T00:00:00\",\"2022-08-25T00:00:00\",\"2022-08-25T00:00:00\",\"2022-08-25T00:00:00\",\"2022-08-25T00:00:00\",\"2022-08-25T00:00:00\",\"2022-08-25T00:00:00\",\"2022-08-25T00:00:00\",\"2022-08-25T00:00:00\",\"2022-08-25T00:00:00\",\"2022-08-25T00:00:00\",\"2022-08-25T00:00:00\",\"2022-08-25T00:00:00\",\"2022-08-25T00:00:00\",\"2022-08-25T00:00:00\",\"2022-08-25T00:00:00\",\"2022-08-25T00:00:00\",\"2022-08-25T00:00:00\",\"2022-08-25T00:00:00\",\"2022-08-25T00:00:00\",\"2022-08-25T00:00:00\",\"2022-08-25T00:00:00\",\"2022-08-25T00:00:00\",\"2022-08-25T00:00:00\",\"2022-08-25T00:00:00\",\"2022-08-25T00:00:00\",\"2022-08-25T00:00:00\",\"2022-08-25T00:00:00\",\"2022-08-25T00:00:00\",\"2022-08-25T00:00:00\",\"2022-08-25T00:00:00\",\"2022-08-25T00:00:00\",\"2022-08-25T00:00:00\",\"2022-08-25T00:00:00\",\"2022-08-25T00:00:00\",\"2022-08-25T00:00:00\",\"2022-08-25T00:00:00\",\"2022-08-25T00:00:00\",\"2022-08-25T00:00:00\",\"2022-08-25T00:00:00\",\"2022-08-25T00:00:00\",\"2022-08-25T00:00:00\",\"2022-08-25T00:00:00\",\"2022-08-25T00:00:00\",\"2022-08-25T00:00:00\",\"2022-08-25T00:00:00\",\"2022-08-25T00:00:00\",\"2022-08-25T00:00:00\",\"2022-08-25T00:00:00\",\"2022-08-25T00:00:00\",\"2022-08-25T00:00:00\",\"2022-08-25T00:00:00\",\"2022-08-25T00:00:00\",\"2022-08-25T00:00:00\",\"2022-08-25T00:00:00\",\"2022-08-25T00:00:00\",\"2022-08-25T00:00:00\",\"2022-08-25T00:00:00\",\"2022-08-25T00:00:00\",\"2022-08-25T00:00:00\",\"2022-08-25T00:00:00\",\"2022-08-25T00:00:00\",\"2022-08-25T00:00:00\",\"2022-08-25T00:00:00\",\"2022-08-25T00:00:00\",\"2022-08-25T00:00:00\",\"2022-08-25T00:00:00\",\"2022-08-25T00:00:00\",\"2022-08-25T00:00:00\",\"2022-08-25T00:00:00\",\"2022-08-25T00:00:00\",\"2022-08-25T00:00:00\",\"2022-08-25T00:00:00\",\"2022-08-25T00:00:00\",\"2022-08-25T00:00:00\",\"2022-08-25T00:00:00\",\"2022-08-25T00:00:00\",\"2022-08-25T00:00:00\",\"2022-08-25T00:00:00\",\"2022-08-25T00:00:00\",\"2022-08-25T00:00:00\",\"2022-08-25T00:00:00\",\"2022-08-25T00:00:00\",\"2022-08-25T00:00:00\",\"2022-08-25T00:00:00\",\"2022-08-25T00:00:00\",\"2022-08-25T00:00:00\",\"2022-08-25T00:00:00\",\"2022-08-25T00:00:00\",\"2022-08-25T00:00:00\",\"2022-08-25T00:00:00\",\"2022-08-25T00:00:00\",\"2022-08-25T00:00:00\",\"2022-08-25T00:00:00\",\"2022-08-25T00:00:00\",\"2022-08-25T00:00:00\",\"2022-08-25T00:00:00\",\"2022-08-25T00:00:00\",\"2022-08-25T00:00:00\",\"2022-08-25T00:00:00\",\"2022-08-25T00:00:00\",\"2022-08-25T00:00:00\",\"2022-08-25T00:00:00\",\"2022-08-25T00:00:00\",\"2022-08-25T00:00:00\",\"2022-08-25T00:00:00\",\"2022-08-25T00:00:00\",\"2022-08-25T00:00:00\",\"2022-08-25T00:00:00\",\"2022-08-25T00:00:00\",\"2022-08-25T00:00:00\",\"2022-08-25T00:00:00\",\"2022-08-25T00:00:00\",\"2022-08-25T00:00:00\",\"2022-08-25T00:00:00\",\"2022-08-25T00:00:00\",\"2022-08-25T00:00:00\",\"2022-08-25T00:00:00\",\"2022-08-25T00:00:00\",\"2022-08-25T00:00:00\",\"2022-08-25T00:00:00\",\"2022-08-25T00:00:00\",\"2022-08-25T00:00:00\",\"2022-08-25T00:00:00\",\"2022-08-25T00:00:00\",\"2022-08-25T00:00:00\",\"2022-08-25T00:00:00\",\"2022-08-25T00:00:00\",\"2022-08-25T00:00:00\",\"2022-08-25T00:00:00\",\"2022-08-25T00:00:00\",\"2022-08-25T00:00:00\",\"2022-08-25T00:00:00\",\"2022-08-25T00:00:00\",\"2022-08-25T00:00:00\",\"2022-08-25T00:00:00\",\"2022-08-25T00:00:00\",\"2022-08-25T00:00:00\",\"2022-08-25T00:00:00\",\"2022-08-25T00:00:00\",\"2022-08-25T00:00:00\",\"2022-08-25T00:00:00\",\"2022-08-25T00:00:00\",\"2022-08-25T00:00:00\",\"2022-08-25T00:00:00\",\"2022-08-25T00:00:00\",\"2022-08-25T00:00:00\",\"2022-08-25T00:00:00\",\"2022-08-25T00:00:00\",\"2022-08-25T00:00:00\",\"2022-08-25T00:00:00\",\"2022-08-25T00:00:00\",\"2022-08-25T00:00:00\",\"2022-08-25T00:00:00\",\"2022-08-25T00:00:00\",\"2022-08-25T00:00:00\",\"2022-08-25T00:00:00\",\"2022-08-25T00:00:00\",\"2022-08-25T00:00:00\",\"2022-08-25T00:00:00\",\"2022-08-25T00:00:00\",\"2022-08-25T00:00:00\",\"2022-08-25T00:00:00\",\"2022-08-25T00:00:00\",\"2022-08-25T00:00:00\",\"2022-08-25T00:00:00\",\"2022-08-26T00:00:00\",\"2022-08-26T00:00:00\",\"2022-08-26T00:00:00\",\"2022-08-26T00:00:00\",\"2022-08-26T00:00:00\",\"2022-08-26T00:00:00\",\"2022-08-26T00:00:00\",\"2022-08-26T00:00:00\",\"2022-08-26T00:00:00\",\"2022-08-26T00:00:00\",\"2022-08-26T00:00:00\",\"2022-08-26T00:00:00\",\"2022-08-26T00:00:00\",\"2022-08-26T00:00:00\",\"2022-08-26T00:00:00\",\"2022-08-26T00:00:00\",\"2022-08-26T00:00:00\",\"2022-08-26T00:00:00\",\"2022-08-26T00:00:00\",\"2022-08-26T00:00:00\",\"2022-08-26T00:00:00\",\"2022-08-26T00:00:00\",\"2022-08-26T00:00:00\",\"2022-08-26T00:00:00\",\"2022-08-26T00:00:00\",\"2022-08-26T00:00:00\",\"2022-08-26T00:00:00\",\"2022-08-26T00:00:00\",\"2022-08-26T00:00:00\",\"2022-08-26T00:00:00\",\"2022-08-26T00:00:00\",\"2022-08-26T00:00:00\",\"2022-08-26T00:00:00\",\"2022-08-26T00:00:00\",\"2022-08-26T00:00:00\",\"2022-08-26T00:00:00\",\"2022-08-26T00:00:00\",\"2022-08-26T00:00:00\",\"2022-08-26T00:00:00\",\"2022-08-26T00:00:00\",\"2022-08-26T00:00:00\",\"2022-08-26T00:00:00\",\"2022-08-26T00:00:00\",\"2022-08-26T00:00:00\",\"2022-08-26T00:00:00\",\"2022-08-26T00:00:00\",\"2022-08-26T00:00:00\",\"2022-08-26T00:00:00\",\"2022-08-26T00:00:00\",\"2022-08-26T00:00:00\",\"2022-08-26T00:00:00\",\"2022-08-26T00:00:00\",\"2022-08-26T00:00:00\",\"2022-08-26T00:00:00\",\"2022-08-26T00:00:00\",\"2022-08-26T00:00:00\",\"2022-08-26T00:00:00\",\"2022-08-26T00:00:00\",\"2022-08-26T00:00:00\",\"2022-08-26T00:00:00\",\"2022-08-26T00:00:00\",\"2022-08-26T00:00:00\",\"2022-08-26T00:00:00\",\"2022-08-26T00:00:00\",\"2022-08-26T00:00:00\",\"2022-08-26T00:00:00\",\"2022-08-26T00:00:00\",\"2022-08-26T00:00:00\",\"2022-08-26T00:00:00\",\"2022-08-26T00:00:00\",\"2022-08-26T00:00:00\",\"2022-08-26T00:00:00\",\"2022-08-26T00:00:00\",\"2022-08-26T00:00:00\",\"2022-08-26T00:00:00\",\"2022-08-26T00:00:00\",\"2022-08-26T00:00:00\",\"2022-08-26T00:00:00\",\"2022-08-26T00:00:00\",\"2022-08-26T00:00:00\",\"2022-08-26T00:00:00\",\"2022-08-26T00:00:00\",\"2022-08-26T00:00:00\",\"2022-08-26T00:00:00\",\"2022-08-26T00:00:00\",\"2022-08-26T00:00:00\",\"2022-08-26T00:00:00\",\"2022-08-26T00:00:00\",\"2022-08-26T00:00:00\",\"2022-08-26T00:00:00\",\"2022-08-26T00:00:00\",\"2022-08-26T00:00:00\",\"2022-08-26T00:00:00\",\"2022-08-26T00:00:00\",\"2022-08-26T00:00:00\",\"2022-08-26T00:00:00\",\"2022-08-26T00:00:00\",\"2022-08-26T00:00:00\",\"2022-08-26T00:00:00\",\"2022-08-26T00:00:00\",\"2022-08-26T00:00:00\",\"2022-08-26T00:00:00\",\"2022-08-26T00:00:00\",\"2022-08-26T00:00:00\",\"2022-08-26T00:00:00\",\"2022-08-26T00:00:00\",\"2022-08-26T00:00:00\",\"2022-08-26T00:00:00\",\"2022-08-26T00:00:00\",\"2022-08-26T00:00:00\",\"2022-08-26T00:00:00\",\"2022-08-26T00:00:00\",\"2022-08-26T00:00:00\",\"2022-08-26T00:00:00\",\"2022-08-26T00:00:00\",\"2022-08-26T00:00:00\",\"2022-08-26T00:00:00\",\"2022-08-26T00:00:00\",\"2022-08-26T00:00:00\",\"2022-08-26T00:00:00\",\"2022-08-26T00:00:00\",\"2022-08-26T00:00:00\",\"2022-08-26T00:00:00\",\"2022-08-26T00:00:00\",\"2022-08-26T00:00:00\",\"2022-08-26T00:00:00\",\"2022-08-26T00:00:00\",\"2022-08-26T00:00:00\",\"2022-08-26T00:00:00\",\"2022-08-26T00:00:00\",\"2022-08-26T00:00:00\",\"2022-08-26T00:00:00\",\"2022-08-26T00:00:00\",\"2022-08-26T00:00:00\",\"2022-08-26T00:00:00\",\"2022-08-26T00:00:00\",\"2022-08-26T00:00:00\",\"2022-08-26T00:00:00\",\"2022-08-26T00:00:00\",\"2022-08-26T00:00:00\",\"2022-08-26T00:00:00\",\"2022-08-26T00:00:00\",\"2022-08-26T00:00:00\",\"2022-08-26T00:00:00\",\"2022-08-26T00:00:00\",\"2022-08-26T00:00:00\",\"2022-08-26T00:00:00\",\"2022-08-26T00:00:00\",\"2022-08-26T00:00:00\",\"2022-08-26T00:00:00\",\"2022-08-26T00:00:00\",\"2022-08-26T00:00:00\",\"2022-08-26T00:00:00\",\"2022-08-26T00:00:00\",\"2022-08-26T00:00:00\",\"2022-08-26T00:00:00\",\"2022-08-26T00:00:00\",\"2022-08-26T00:00:00\",\"2022-08-26T00:00:00\",\"2022-08-26T00:00:00\",\"2022-08-26T00:00:00\",\"2022-08-26T00:00:00\",\"2022-08-26T00:00:00\",\"2022-08-26T00:00:00\",\"2022-08-26T00:00:00\",\"2022-08-26T00:00:00\",\"2022-08-26T00:00:00\",\"2022-08-26T00:00:00\",\"2022-08-26T00:00:00\",\"2022-08-26T00:00:00\",\"2022-08-26T00:00:00\",\"2022-08-26T00:00:00\",\"2022-08-26T00:00:00\",\"2022-08-26T00:00:00\",\"2022-08-26T00:00:00\",\"2022-08-26T00:00:00\",\"2022-08-26T00:00:00\",\"2022-08-26T00:00:00\",\"2022-08-26T00:00:00\",\"2022-08-26T00:00:00\",\"2022-08-26T00:00:00\",\"2022-08-26T00:00:00\",\"2022-08-26T00:00:00\",\"2022-08-26T00:00:00\",\"2022-08-26T00:00:00\",\"2022-08-26T00:00:00\",\"2022-08-26T00:00:00\",\"2022-08-26T00:00:00\",\"2022-08-26T00:00:00\",\"2022-08-26T00:00:00\",\"2022-08-26T00:00:00\",\"2022-08-26T00:00:00\",\"2022-08-26T00:00:00\",\"2022-08-26T00:00:00\",\"2022-08-26T00:00:00\",\"2022-08-26T00:00:00\",\"2022-08-26T00:00:00\",\"2022-08-26T00:00:00\",\"2022-08-26T00:00:00\",\"2022-08-26T00:00:00\",\"2022-08-26T00:00:00\",\"2022-08-26T00:00:00\",\"2022-08-26T00:00:00\",\"2022-08-26T00:00:00\",\"2022-08-26T00:00:00\",\"2022-08-26T00:00:00\",\"2022-08-26T00:00:00\",\"2022-08-26T00:00:00\",\"2022-08-26T00:00:00\",\"2022-08-26T00:00:00\",\"2022-08-26T00:00:00\",\"2022-08-26T00:00:00\",\"2022-08-26T00:00:00\",\"2022-08-26T00:00:00\",\"2022-08-26T00:00:00\",\"2022-08-26T00:00:00\",\"2022-08-26T00:00:00\",\"2022-08-26T00:00:00\",\"2022-08-26T00:00:00\",\"2022-08-26T00:00:00\",\"2022-08-26T00:00:00\",\"2022-08-26T00:00:00\",\"2022-08-26T00:00:00\",\"2022-08-26T00:00:00\",\"2022-08-26T00:00:00\",\"2022-08-26T00:00:00\",\"2022-08-26T00:00:00\",\"2022-08-26T00:00:00\",\"2022-08-26T00:00:00\",\"2022-08-26T00:00:00\",\"2022-08-26T00:00:00\",\"2022-08-26T00:00:00\",\"2022-08-26T00:00:00\",\"2022-08-26T00:00:00\",\"2022-08-26T00:00:00\",\"2022-08-26T00:00:00\",\"2022-08-26T00:00:00\",\"2022-08-26T00:00:00\",\"2022-08-26T00:00:00\",\"2022-08-26T00:00:00\",\"2022-08-26T00:00:00\",\"2022-08-26T00:00:00\",\"2022-08-26T00:00:00\",\"2022-08-26T00:00:00\",\"2022-08-26T00:00:00\",\"2022-08-26T00:00:00\",\"2022-08-26T00:00:00\",\"2022-08-26T00:00:00\",\"2022-08-26T00:00:00\",\"2022-08-26T00:00:00\",\"2022-08-26T00:00:00\",\"2022-08-26T00:00:00\",\"2022-08-26T00:00:00\",\"2022-08-26T00:00:00\",\"2022-08-26T00:00:00\",\"2022-08-26T00:00:00\",\"2022-08-26T00:00:00\",\"2022-08-26T00:00:00\",\"2022-08-26T00:00:00\",\"2022-08-26T00:00:00\",\"2022-08-26T00:00:00\",\"2022-08-26T00:00:00\",\"2022-08-26T00:00:00\",\"2022-08-26T00:00:00\",\"2022-08-26T00:00:00\",\"2022-08-26T00:00:00\",\"2022-08-26T00:00:00\",\"2022-08-26T00:00:00\",\"2022-08-26T00:00:00\",\"2022-08-26T00:00:00\",\"2022-08-26T00:00:00\",\"2022-08-26T00:00:00\",\"2022-08-26T00:00:00\",\"2022-08-26T00:00:00\",\"2022-08-26T00:00:00\",\"2022-08-26T00:00:00\",\"2022-08-26T00:00:00\",\"2022-08-26T00:00:00\",\"2022-08-26T00:00:00\",\"2022-08-26T00:00:00\",\"2022-08-26T00:00:00\",\"2022-08-26T00:00:00\",\"2022-08-26T00:00:00\",\"2022-08-26T00:00:00\",\"2022-08-26T00:00:00\",\"2022-08-26T00:00:00\",\"2022-08-26T00:00:00\",\"2022-08-26T00:00:00\",\"2022-08-26T00:00:00\",\"2022-08-26T00:00:00\",\"2022-08-26T00:00:00\",\"2022-08-26T00:00:00\",\"2022-08-26T00:00:00\",\"2022-08-26T00:00:00\",\"2022-08-26T00:00:00\",\"2022-08-26T00:00:00\",\"2022-08-26T00:00:00\",\"2022-08-26T00:00:00\",\"2022-08-26T00:00:00\",\"2022-08-26T00:00:00\",\"2022-08-26T00:00:00\",\"2022-08-26T00:00:00\",\"2022-08-26T00:00:00\",\"2022-08-26T00:00:00\",\"2022-08-26T00:00:00\",\"2022-08-26T00:00:00\",\"2022-08-26T00:00:00\",\"2022-08-26T00:00:00\",\"2022-08-26T00:00:00\",\"2022-08-26T00:00:00\",\"2022-08-26T00:00:00\",\"2022-08-26T00:00:00\",\"2022-08-26T00:00:00\",\"2022-08-26T00:00:00\",\"2022-08-26T00:00:00\",\"2022-08-26T00:00:00\",\"2022-08-26T00:00:00\",\"2022-08-26T00:00:00\",\"2022-08-26T00:00:00\",\"2022-08-26T00:00:00\",\"2022-08-26T00:00:00\",\"2022-08-26T00:00:00\",\"2022-08-26T00:00:00\",\"2022-08-26T00:00:00\",\"2022-08-26T00:00:00\",\"2022-08-26T00:00:00\",\"2022-08-26T00:00:00\",\"2022-08-26T00:00:00\",\"2022-08-26T00:00:00\",\"2022-08-26T00:00:00\",\"2022-08-26T00:00:00\",\"2022-08-26T00:00:00\",\"2022-08-26T00:00:00\",\"2022-08-26T00:00:00\",\"2022-08-26T00:00:00\",\"2022-08-26T00:00:00\",\"2022-08-26T00:00:00\",\"2022-08-26T00:00:00\",\"2022-08-26T00:00:00\",\"2022-08-26T00:00:00\",\"2022-08-26T00:00:00\",\"2022-08-26T00:00:00\",\"2022-08-26T00:00:00\",\"2022-08-26T00:00:00\",\"2022-08-26T00:00:00\",\"2022-08-26T00:00:00\",\"2022-08-26T00:00:00\",\"2022-08-26T00:00:00\",\"2022-08-26T00:00:00\",\"2022-08-26T00:00:00\",\"2022-08-26T00:00:00\",\"2022-08-26T00:00:00\",\"2022-08-26T00:00:00\",\"2022-08-26T00:00:00\",\"2022-08-26T00:00:00\",\"2022-08-26T00:00:00\",\"2022-08-26T00:00:00\",\"2022-08-26T00:00:00\",\"2022-08-26T00:00:00\",\"2022-08-26T00:00:00\",\"2022-08-26T00:00:00\",\"2022-08-26T00:00:00\",\"2022-08-26T00:00:00\",\"2022-08-26T00:00:00\",\"2022-08-26T00:00:00\",\"2022-08-26T00:00:00\",\"2022-08-26T00:00:00\",\"2022-08-26T00:00:00\",\"2022-08-26T00:00:00\",\"2022-08-26T00:00:00\",\"2022-08-26T00:00:00\",\"2022-08-26T00:00:00\",\"2022-08-26T00:00:00\",\"2022-08-26T00:00:00\",\"2022-08-26T00:00:00\",\"2022-08-26T00:00:00\",\"2022-08-26T00:00:00\",\"2022-08-26T00:00:00\",\"2022-08-26T00:00:00\",\"2022-08-26T00:00:00\",\"2022-08-26T00:00:00\",\"2022-08-26T00:00:00\",\"2022-08-26T00:00:00\",\"2022-08-26T00:00:00\",\"2022-08-26T00:00:00\",\"2022-08-26T00:00:00\",\"2022-08-26T00:00:00\",\"2022-08-26T00:00:00\",\"2022-08-26T00:00:00\",\"2022-08-26T00:00:00\",\"2022-08-26T00:00:00\",\"2022-08-26T00:00:00\",\"2022-08-26T00:00:00\",\"2022-08-26T00:00:00\",\"2022-08-26T00:00:00\",\"2022-08-26T00:00:00\",\"2022-08-26T00:00:00\",\"2022-08-26T00:00:00\",\"2022-08-26T00:00:00\",\"2022-08-26T00:00:00\",\"2022-08-26T00:00:00\",\"2022-08-26T00:00:00\",\"2022-08-26T00:00:00\",\"2022-08-26T00:00:00\",\"2022-08-26T00:00:00\",\"2022-08-26T00:00:00\",\"2022-08-26T00:00:00\",\"2022-08-26T00:00:00\",\"2022-08-26T00:00:00\",\"2022-08-26T00:00:00\",\"2022-08-26T00:00:00\",\"2022-08-26T00:00:00\",\"2022-08-26T00:00:00\",\"2022-08-26T00:00:00\",\"2022-08-26T00:00:00\",\"2022-08-26T00:00:00\",\"2022-08-26T00:00:00\",\"2022-08-26T00:00:00\",\"2022-08-26T00:00:00\",\"2022-08-26T00:00:00\",\"2022-08-26T00:00:00\",\"2022-08-26T00:00:00\",\"2022-08-26T00:00:00\",\"2022-08-26T00:00:00\",\"2022-08-26T00:00:00\",\"2022-08-26T00:00:00\",\"2022-08-26T00:00:00\",\"2022-08-26T00:00:00\",\"2022-08-26T00:00:00\",\"2022-08-26T00:00:00\",\"2022-08-26T00:00:00\",\"2022-08-26T00:00:00\",\"2022-08-26T00:00:00\",\"2022-08-26T00:00:00\",\"2022-08-26T00:00:00\",\"2022-08-26T00:00:00\",\"2022-08-26T00:00:00\",\"2022-08-26T00:00:00\",\"2022-08-26T00:00:00\",\"2022-08-26T00:00:00\",\"2022-08-26T00:00:00\",\"2022-08-26T00:00:00\",\"2022-08-26T00:00:00\",\"2022-08-26T00:00:00\",\"2022-08-26T00:00:00\",\"2022-08-26T00:00:00\",\"2022-08-26T00:00:00\",\"2022-08-26T00:00:00\",\"2022-08-26T00:00:00\",\"2022-08-26T00:00:00\",\"2022-08-26T00:00:00\",\"2022-08-26T00:00:00\",\"2022-08-26T00:00:00\",\"2022-08-26T00:00:00\",\"2022-08-26T00:00:00\",\"2022-08-26T00:00:00\",\"2022-08-26T00:00:00\",\"2022-08-26T00:00:00\",\"2022-08-26T00:00:00\",\"2022-08-26T00:00:00\",\"2022-08-26T00:00:00\",\"2022-08-26T00:00:00\",\"2022-08-26T00:00:00\",\"2022-08-26T00:00:00\",\"2022-08-26T00:00:00\",\"2022-08-26T00:00:00\",\"2022-08-26T00:00:00\",\"2022-08-26T00:00:00\",\"2022-08-26T00:00:00\",\"2022-08-26T00:00:00\",\"2022-08-26T00:00:00\",\"2022-08-26T00:00:00\",\"2022-08-26T00:00:00\",\"2022-08-26T00:00:00\",\"2022-08-26T00:00:00\",\"2022-08-26T00:00:00\",\"2022-08-26T00:00:00\",\"2022-08-26T00:00:00\",\"2022-08-26T00:00:00\",\"2022-08-26T00:00:00\",\"2022-08-26T00:00:00\",\"2022-08-26T00:00:00\",\"2022-08-26T00:00:00\",\"2022-08-26T00:00:00\",\"2022-08-26T00:00:00\",\"2022-08-26T00:00:00\",\"2022-08-26T00:00:00\",\"2022-08-26T00:00:00\",\"2022-08-26T00:00:00\",\"2022-08-26T00:00:00\",\"2022-08-26T00:00:00\",\"2022-08-26T00:00:00\",\"2022-08-26T00:00:00\",\"2022-08-26T00:00:00\",\"2022-08-26T00:00:00\",\"2022-08-26T00:00:00\",\"2022-08-26T00:00:00\",\"2022-08-26T00:00:00\",\"2022-08-26T00:00:00\",\"2022-08-26T00:00:00\",\"2022-08-26T00:00:00\",\"2022-08-26T00:00:00\",\"2022-08-26T00:00:00\",\"2022-08-26T00:00:00\",\"2022-08-26T00:00:00\",\"2022-08-26T00:00:00\",\"2022-08-26T00:00:00\",\"2022-08-26T00:00:00\",\"2022-08-26T00:00:00\",\"2022-08-26T00:00:00\",\"2022-08-26T00:00:00\",\"2022-08-26T00:00:00\",\"2022-08-26T00:00:00\",\"2022-08-26T00:00:00\",\"2022-08-26T00:00:00\",\"2022-08-26T00:00:00\",\"2022-08-26T00:00:00\",\"2022-08-26T00:00:00\",\"2022-08-26T00:00:00\",\"2022-08-26T00:00:00\",\"2022-08-26T00:00:00\",\"2022-08-26T00:00:00\",\"2022-08-26T00:00:00\",\"2022-08-26T00:00:00\",\"2022-08-26T00:00:00\",\"2022-08-26T00:00:00\",\"2022-08-26T00:00:00\",\"2022-08-26T00:00:00\",\"2022-08-26T00:00:00\",\"2022-08-26T00:00:00\",\"2022-08-26T00:00:00\",\"2022-08-26T00:00:00\",\"2022-08-26T00:00:00\",\"2022-08-26T00:00:00\",\"2022-08-26T00:00:00\",\"2022-08-26T00:00:00\",\"2022-08-26T00:00:00\",\"2022-08-26T00:00:00\",\"2022-08-26T00:00:00\",\"2022-08-26T00:00:00\",\"2022-08-26T00:00:00\",\"2022-08-26T00:00:00\",\"2022-08-26T00:00:00\",\"2022-08-26T00:00:00\",\"2022-08-26T00:00:00\",\"2022-08-26T00:00:00\",\"2022-08-26T00:00:00\",\"2022-08-26T00:00:00\",\"2022-08-26T00:00:00\",\"2022-08-26T00:00:00\",\"2022-08-26T00:00:00\",\"2022-08-26T00:00:00\",\"2022-08-26T00:00:00\",\"2022-08-26T00:00:00\",\"2022-08-26T00:00:00\",\"2022-08-26T00:00:00\",\"2022-08-26T00:00:00\",\"2022-08-26T00:00:00\",\"2022-08-26T00:00:00\",\"2022-08-26T00:00:00\",\"2022-08-26T00:00:00\",\"2022-08-26T00:00:00\",\"2022-08-26T00:00:00\",\"2022-08-26T00:00:00\",\"2022-08-26T00:00:00\",\"2022-08-26T00:00:00\",\"2022-08-26T00:00:00\",\"2022-08-26T00:00:00\",\"2022-08-26T00:00:00\",\"2022-08-26T00:00:00\",\"2022-08-26T00:00:00\",\"2022-08-26T00:00:00\",\"2022-08-26T00:00:00\",\"2022-08-26T00:00:00\",\"2022-08-26T00:00:00\",\"2022-08-26T00:00:00\",\"2022-08-26T00:00:00\",\"2022-08-26T00:00:00\",\"2022-08-26T00:00:00\",\"2022-08-26T00:00:00\",\"2022-08-26T00:00:00\",\"2022-08-26T00:00:00\",\"2022-08-26T00:00:00\",\"2022-08-26T00:00:00\",\"2022-08-26T00:00:00\",\"2022-08-26T00:00:00\",\"2022-08-26T00:00:00\",\"2022-08-26T00:00:00\",\"2022-08-26T00:00:00\",\"2022-08-26T00:00:00\",\"2022-08-26T00:00:00\",\"2022-08-26T00:00:00\",\"2022-08-26T00:00:00\",\"2022-08-26T00:00:00\",\"2022-08-26T00:00:00\",\"2022-08-26T00:00:00\",\"2022-08-26T00:00:00\",\"2022-08-26T00:00:00\",\"2022-08-26T00:00:00\",\"2022-08-26T00:00:00\",\"2022-08-26T00:00:00\",\"2022-08-26T00:00:00\",\"2022-08-26T00:00:00\",\"2022-08-26T00:00:00\",\"2022-08-26T00:00:00\",\"2022-08-26T00:00:00\",\"2022-08-26T00:00:00\",\"2022-08-26T00:00:00\",\"2022-08-26T00:00:00\",\"2022-08-26T00:00:00\",\"2022-08-26T00:00:00\",\"2022-08-26T00:00:00\",\"2022-08-26T00:00:00\",\"2022-08-26T00:00:00\",\"2022-08-26T00:00:00\",\"2022-08-26T00:00:00\",\"2022-08-26T00:00:00\",\"2022-08-26T00:00:00\",\"2022-08-26T00:00:00\",\"2022-08-26T00:00:00\",\"2022-08-26T00:00:00\",\"2022-08-26T00:00:00\",\"2022-08-26T00:00:00\",\"2022-08-26T00:00:00\",\"2022-08-26T00:00:00\",\"2022-08-26T00:00:00\",\"2022-08-26T00:00:00\",\"2022-08-26T00:00:00\",\"2022-08-26T00:00:00\",\"2022-08-26T00:00:00\",\"2022-08-26T00:00:00\",\"2022-08-26T00:00:00\",\"2022-08-26T00:00:00\",\"2022-08-26T00:00:00\",\"2022-08-26T00:00:00\",\"2022-08-26T00:00:00\",\"2022-08-26T00:00:00\",\"2022-08-26T00:00:00\",\"2022-08-26T00:00:00\",\"2022-08-26T00:00:00\",\"2022-08-26T00:00:00\",\"2022-08-26T00:00:00\",\"2022-08-26T00:00:00\",\"2022-08-26T00:00:00\",\"2022-08-26T00:00:00\",\"2022-08-26T00:00:00\",\"2022-08-26T00:00:00\",\"2022-08-26T00:00:00\",\"2022-08-26T00:00:00\",\"2022-08-26T00:00:00\",\"2022-08-26T00:00:00\",\"2022-08-26T00:00:00\",\"2022-08-26T00:00:00\",\"2022-08-26T00:00:00\",\"2022-08-26T00:00:00\",\"2022-08-26T00:00:00\",\"2022-08-26T00:00:00\",\"2022-08-26T00:00:00\",\"2022-08-26T00:00:00\",\"2022-08-26T00:00:00\",\"2022-08-26T00:00:00\",\"2022-08-26T00:00:00\",\"2022-08-26T00:00:00\",\"2022-08-26T00:00:00\",\"2022-08-26T00:00:00\",\"2022-08-26T00:00:00\",\"2022-08-26T00:00:00\",\"2022-08-26T00:00:00\",\"2022-08-26T00:00:00\",\"2022-08-26T00:00:00\",\"2022-08-26T00:00:00\",\"2022-08-26T00:00:00\",\"2022-08-26T00:00:00\",\"2022-08-26T00:00:00\",\"2022-08-26T00:00:00\",\"2022-08-26T00:00:00\",\"2022-08-26T00:00:00\",\"2022-08-26T00:00:00\",\"2022-08-26T00:00:00\",\"2022-08-26T00:00:00\",\"2022-08-26T00:00:00\",\"2022-08-26T00:00:00\",\"2022-08-26T00:00:00\",\"2022-08-26T00:00:00\",\"2022-08-26T00:00:00\",\"2022-08-26T00:00:00\",\"2022-08-26T00:00:00\",\"2022-08-26T00:00:00\",\"2022-08-26T00:00:00\",\"2022-08-26T00:00:00\",\"2022-08-26T00:00:00\",\"2022-08-26T00:00:00\",\"2022-08-26T00:00:00\",\"2022-08-26T00:00:00\",\"2022-08-26T00:00:00\",\"2022-08-26T00:00:00\",\"2022-08-26T00:00:00\",\"2022-08-26T00:00:00\",\"2022-08-26T00:00:00\",\"2022-08-26T00:00:00\",\"2022-08-26T00:00:00\",\"2022-08-26T00:00:00\",\"2022-08-26T00:00:00\",\"2022-08-26T00:00:00\",\"2022-08-26T00:00:00\",\"2022-08-26T00:00:00\",\"2022-08-26T00:00:00\",\"2022-08-26T00:00:00\",\"2022-08-26T00:00:00\",\"2022-08-26T00:00:00\",\"2022-08-26T00:00:00\",\"2022-08-26T00:00:00\",\"2022-08-26T00:00:00\",\"2022-08-26T00:00:00\",\"2022-08-26T00:00:00\",\"2022-08-26T00:00:00\",\"2022-08-26T00:00:00\",\"2022-08-26T00:00:00\",\"2022-08-26T00:00:00\",\"2022-08-26T00:00:00\",\"2022-08-26T00:00:00\",\"2022-08-26T00:00:00\",\"2022-08-26T00:00:00\",\"2022-08-26T00:00:00\",\"2022-08-26T00:00:00\",\"2022-08-26T00:00:00\",\"2022-08-26T00:00:00\",\"2022-08-26T00:00:00\",\"2022-08-26T00:00:00\",\"2022-08-26T00:00:00\",\"2022-08-26T00:00:00\",\"2022-08-26T00:00:00\",\"2022-08-26T00:00:00\",\"2022-08-26T00:00:00\",\"2022-08-26T00:00:00\",\"2022-08-26T00:00:00\",\"2022-08-26T00:00:00\",\"2022-08-26T00:00:00\",\"2022-08-26T00:00:00\",\"2022-08-26T00:00:00\",\"2022-08-26T00:00:00\",\"2022-08-26T00:00:00\",\"2022-08-26T00:00:00\",\"2022-08-26T00:00:00\",\"2022-08-26T00:00:00\",\"2022-08-26T00:00:00\",\"2022-08-26T00:00:00\",\"2022-08-26T00:00:00\",\"2022-08-26T00:00:00\",\"2022-08-26T00:00:00\",\"2022-08-26T00:00:00\",\"2022-08-26T00:00:00\",\"2022-08-26T00:00:00\",\"2022-08-26T00:00:00\",\"2022-08-26T00:00:00\",\"2022-08-26T00:00:00\",\"2022-08-26T00:00:00\",\"2022-08-26T00:00:00\",\"2022-08-26T00:00:00\",\"2022-08-26T00:00:00\",\"2022-08-26T00:00:00\",\"2022-08-26T00:00:00\",\"2022-08-26T00:00:00\",\"2022-08-26T00:00:00\",\"2022-08-26T00:00:00\",\"2022-08-26T00:00:00\",\"2022-08-26T00:00:00\",\"2022-08-26T00:00:00\",\"2022-08-26T00:00:00\",\"2022-08-26T00:00:00\",\"2022-08-26T00:00:00\",\"2022-08-26T00:00:00\",\"2022-08-26T00:00:00\",\"2022-08-26T00:00:00\",\"2022-08-26T00:00:00\",\"2022-08-26T00:00:00\",\"2022-08-26T00:00:00\",\"2022-08-26T00:00:00\",\"2022-08-26T00:00:00\",\"2022-08-26T00:00:00\",\"2022-08-26T00:00:00\",\"2022-08-26T00:00:00\",\"2022-08-26T00:00:00\",\"2022-08-26T00:00:00\",\"2022-08-26T00:00:00\",\"2022-08-26T00:00:00\",\"2022-08-26T00:00:00\",\"2022-08-26T00:00:00\",\"2022-08-26T00:00:00\",\"2022-08-26T00:00:00\",\"2022-08-26T00:00:00\",\"2022-08-26T00:00:00\",\"2022-08-26T00:00:00\",\"2022-08-26T00:00:00\",\"2022-08-26T00:00:00\",\"2022-08-26T00:00:00\",\"2022-08-26T00:00:00\",\"2022-08-26T00:00:00\",\"2022-08-26T00:00:00\",\"2022-08-26T00:00:00\",\"2022-08-26T00:00:00\",\"2022-08-26T00:00:00\",\"2022-08-26T00:00:00\",\"2022-08-26T00:00:00\",\"2022-08-26T00:00:00\",\"2022-08-26T00:00:00\",\"2022-08-26T00:00:00\",\"2022-08-26T00:00:00\",\"2022-08-26T00:00:00\",\"2022-08-26T00:00:00\",\"2022-08-26T00:00:00\",\"2022-08-26T00:00:00\",\"2022-08-26T00:00:00\",\"2022-08-26T00:00:00\",\"2022-08-26T00:00:00\",\"2022-08-26T00:00:00\",\"2022-08-26T00:00:00\",\"2022-08-26T00:00:00\",\"2022-08-26T00:00:00\",\"2022-08-26T00:00:00\",\"2022-08-26T00:00:00\",\"2022-08-26T00:00:00\",\"2022-08-26T00:00:00\",\"2022-08-26T00:00:00\",\"2022-08-26T00:00:00\",\"2022-08-26T00:00:00\",\"2022-08-26T00:00:00\",\"2022-08-26T00:00:00\",\"2022-08-26T00:00:00\",\"2022-08-26T00:00:00\",\"2022-08-26T00:00:00\",\"2022-08-26T00:00:00\",\"2022-08-26T00:00:00\",\"2022-08-26T00:00:00\",\"2022-08-26T00:00:00\",\"2022-08-26T00:00:00\",\"2022-08-26T00:00:00\",\"2022-08-26T00:00:00\",\"2022-08-26T00:00:00\",\"2022-08-26T00:00:00\",\"2022-08-26T00:00:00\",\"2022-08-26T00:00:00\",\"2022-08-26T00:00:00\",\"2022-08-26T00:00:00\",\"2022-08-26T00:00:00\",\"2022-08-26T00:00:00\",\"2022-08-26T00:00:00\",\"2022-08-26T00:00:00\",\"2022-08-26T00:00:00\",\"2022-08-26T00:00:00\",\"2022-08-26T00:00:00\",\"2022-08-26T00:00:00\",\"2022-08-26T00:00:00\",\"2022-08-26T00:00:00\",\"2022-08-26T00:00:00\",\"2022-08-26T00:00:00\",\"2022-08-26T00:00:00\",\"2022-08-26T00:00:00\",\"2022-08-26T00:00:00\",\"2022-08-26T00:00:00\",\"2022-08-26T00:00:00\",\"2022-08-26T00:00:00\",\"2022-08-26T00:00:00\",\"2022-08-26T00:00:00\",\"2022-08-26T00:00:00\",\"2022-08-26T00:00:00\",\"2022-08-26T00:00:00\",\"2022-08-26T00:00:00\",\"2022-08-26T00:00:00\",\"2022-08-26T00:00:00\",\"2022-08-26T00:00:00\",\"2022-08-26T00:00:00\",\"2022-08-26T00:00:00\",\"2022-08-26T00:00:00\",\"2022-08-26T00:00:00\",\"2022-08-26T00:00:00\",\"2022-08-26T00:00:00\",\"2022-08-26T00:00:00\",\"2022-08-26T00:00:00\",\"2022-08-26T00:00:00\",\"2022-08-26T00:00:00\",\"2022-08-26T00:00:00\",\"2022-08-26T00:00:00\",\"2022-08-26T00:00:00\",\"2022-08-26T00:00:00\",\"2022-08-26T00:00:00\",\"2022-08-26T00:00:00\",\"2022-08-26T00:00:00\",\"2022-08-26T00:00:00\",\"2022-08-26T00:00:00\",\"2022-08-26T00:00:00\",\"2022-08-26T00:00:00\",\"2022-08-26T00:00:00\",\"2022-08-26T00:00:00\",\"2022-08-26T00:00:00\",\"2022-08-26T00:00:00\",\"2022-08-26T00:00:00\",\"2022-08-26T00:00:00\",\"2022-08-26T00:00:00\",\"2022-08-26T00:00:00\",\"2022-08-26T00:00:00\",\"2022-08-26T00:00:00\",\"2022-08-26T00:00:00\",\"2022-08-26T00:00:00\",\"2022-08-26T00:00:00\",\"2022-08-26T00:00:00\",\"2022-08-26T00:00:00\",\"2022-08-26T00:00:00\",\"2022-08-26T00:00:00\",\"2022-08-26T00:00:00\",\"2022-08-26T00:00:00\",\"2022-08-26T00:00:00\",\"2022-08-26T00:00:00\",\"2022-08-26T00:00:00\",\"2022-08-26T00:00:00\",\"2022-08-26T00:00:00\",\"2022-08-26T00:00:00\",\"2022-08-26T00:00:00\",\"2022-08-26T00:00:00\",\"2022-08-26T00:00:00\",\"2022-08-26T00:00:00\",\"2022-08-26T00:00:00\",\"2022-08-26T00:00:00\",\"2022-08-26T00:00:00\",\"2022-08-26T00:00:00\",\"2022-08-26T00:00:00\",\"2022-08-26T00:00:00\",\"2022-08-26T00:00:00\",\"2022-08-26T00:00:00\",\"2022-08-26T00:00:00\",\"2022-08-26T00:00:00\",\"2022-08-26T00:00:00\",\"2022-08-26T00:00:00\",\"2022-08-26T00:00:00\",\"2022-08-26T00:00:00\",\"2022-08-26T00:00:00\",\"2022-08-26T00:00:00\",\"2022-08-26T00:00:00\",\"2022-08-26T00:00:00\",\"2022-08-26T00:00:00\",\"2022-08-26T00:00:00\",\"2022-08-26T00:00:00\",\"2022-08-26T00:00:00\",\"2022-08-26T00:00:00\",\"2022-08-26T00:00:00\",\"2022-08-26T00:00:00\",\"2022-08-26T00:00:00\",\"2022-08-26T00:00:00\",\"2022-08-26T00:00:00\",\"2022-08-26T00:00:00\",\"2022-08-26T00:00:00\",\"2022-08-26T00:00:00\",\"2022-08-26T00:00:00\",\"2022-08-26T00:00:00\",\"2022-08-26T00:00:00\",\"2022-08-26T00:00:00\",\"2022-08-26T00:00:00\",\"2022-08-26T00:00:00\",\"2022-08-26T00:00:00\",\"2022-08-26T00:00:00\",\"2022-08-26T00:00:00\",\"2022-08-26T00:00:00\",\"2022-08-26T00:00:00\",\"2022-08-26T00:00:00\",\"2022-08-26T00:00:00\",\"2022-08-26T00:00:00\",\"2022-08-26T00:00:00\",\"2022-08-26T00:00:00\",\"2022-08-26T00:00:00\",\"2022-08-26T00:00:00\",\"2022-08-26T00:00:00\",\"2022-08-26T00:00:00\",\"2022-08-26T00:00:00\",\"2022-08-26T00:00:00\",\"2022-08-26T00:00:00\",\"2022-08-26T00:00:00\",\"2022-08-26T00:00:00\",\"2022-08-26T00:00:00\",\"2022-08-26T00:00:00\",\"2022-08-26T00:00:00\",\"2022-08-26T00:00:00\",\"2022-08-26T00:00:00\",\"2022-08-26T00:00:00\",\"2022-08-26T00:00:00\",\"2022-08-26T00:00:00\",\"2022-08-26T00:00:00\",\"2022-08-26T00:00:00\",\"2022-08-26T00:00:00\",\"2022-08-26T00:00:00\",\"2022-08-26T00:00:00\",\"2022-08-26T00:00:00\",\"2022-08-26T00:00:00\",\"2022-08-26T00:00:00\",\"2022-08-26T00:00:00\",\"2022-08-26T00:00:00\",\"2022-08-26T00:00:00\",\"2022-08-26T00:00:00\",\"2022-08-26T00:00:00\",\"2022-08-26T00:00:00\",\"2022-08-26T00:00:00\",\"2022-08-26T00:00:00\",\"2022-08-26T00:00:00\",\"2022-08-26T00:00:00\",\"2022-08-26T00:00:00\",\"2022-08-26T00:00:00\",\"2022-08-26T00:00:00\",\"2022-08-26T00:00:00\",\"2022-08-26T00:00:00\",\"2022-08-26T00:00:00\",\"2022-08-26T00:00:00\",\"2022-08-26T00:00:00\",\"2022-08-26T00:00:00\",\"2022-08-26T00:00:00\",\"2022-08-26T00:00:00\",\"2022-08-26T00:00:00\",\"2022-08-26T00:00:00\",\"2022-08-26T00:00:00\",\"2022-08-26T00:00:00\",\"2022-08-26T00:00:00\",\"2022-08-26T00:00:00\",\"2022-08-26T00:00:00\",\"2022-08-26T00:00:00\",\"2022-08-26T00:00:00\",\"2022-08-26T00:00:00\",\"2022-08-26T00:00:00\",\"2022-08-26T00:00:00\",\"2022-08-26T00:00:00\",\"2022-08-26T00:00:00\",\"2022-08-26T00:00:00\",\"2022-08-26T00:00:00\",\"2022-08-26T00:00:00\",\"2022-08-26T00:00:00\",\"2022-08-26T00:00:00\",\"2022-08-26T00:00:00\",\"2022-08-26T00:00:00\",\"2022-08-26T00:00:00\",\"2022-08-26T00:00:00\",\"2022-08-26T00:00:00\",\"2022-08-26T00:00:00\",\"2022-08-26T00:00:00\",\"2022-08-26T00:00:00\",\"2022-08-26T00:00:00\",\"2022-08-26T00:00:00\",\"2022-08-26T00:00:00\",\"2022-08-26T00:00:00\",\"2022-08-26T00:00:00\",\"2022-08-26T00:00:00\",\"2022-08-26T00:00:00\",\"2022-08-26T00:00:00\",\"2022-08-26T00:00:00\",\"2022-08-26T00:00:00\",\"2022-08-26T00:00:00\",\"2022-08-26T00:00:00\",\"2022-08-26T00:00:00\",\"2022-08-26T00:00:00\",\"2022-08-26T00:00:00\",\"2022-08-26T00:00:00\",\"2022-08-26T00:00:00\",\"2022-08-26T00:00:00\",\"2022-08-26T00:00:00\",\"2022-08-26T00:00:00\",\"2022-08-26T00:00:00\",\"2022-08-26T00:00:00\",\"2022-08-26T00:00:00\",\"2022-08-26T00:00:00\",\"2022-08-26T00:00:00\",\"2022-08-26T00:00:00\",\"2022-08-26T00:00:00\",\"2022-08-26T00:00:00\",\"2022-08-26T00:00:00\",\"2022-08-26T00:00:00\",\"2022-08-26T00:00:00\",\"2022-08-26T00:00:00\",\"2022-08-26T00:00:00\",\"2022-08-26T00:00:00\",\"2022-08-26T00:00:00\",\"2022-08-26T00:00:00\",\"2022-08-26T00:00:00\",\"2022-08-26T00:00:00\",\"2022-08-26T00:00:00\",\"2022-08-26T00:00:00\",\"2022-08-26T00:00:00\",\"2022-08-26T00:00:00\",\"2022-08-26T00:00:00\",\"2022-08-26T00:00:00\",\"2022-08-26T00:00:00\",\"2022-08-26T00:00:00\",\"2022-08-26T00:00:00\",\"2022-08-26T00:00:00\",\"2022-08-26T00:00:00\",\"2022-08-26T00:00:00\",\"2022-08-26T00:00:00\",\"2022-08-26T00:00:00\",\"2022-08-26T00:00:00\",\"2022-08-26T00:00:00\",\"2022-08-26T00:00:00\",\"2022-08-26T00:00:00\",\"2022-08-26T00:00:00\",\"2022-08-26T00:00:00\",\"2022-08-26T00:00:00\",\"2022-08-26T00:00:00\",\"2022-08-26T00:00:00\",\"2022-08-26T00:00:00\",\"2022-08-26T00:00:00\",\"2022-08-26T00:00:00\",\"2022-08-26T00:00:00\",\"2022-08-26T00:00:00\",\"2022-08-26T00:00:00\",\"2022-08-26T00:00:00\",\"2022-08-26T00:00:00\",\"2022-08-26T00:00:00\",\"2022-08-26T00:00:00\",\"2022-08-26T00:00:00\",\"2022-08-26T00:00:00\",\"2022-08-26T00:00:00\",\"2022-08-26T00:00:00\",\"2022-08-26T00:00:00\",\"2022-08-26T00:00:00\",\"2022-08-26T00:00:00\",\"2022-08-26T00:00:00\",\"2022-08-26T00:00:00\",\"2022-08-26T00:00:00\",\"2022-08-26T00:00:00\",\"2022-08-26T00:00:00\",\"2022-08-26T00:00:00\",\"2022-08-26T00:00:00\",\"2022-08-26T00:00:00\",\"2022-08-26T00:00:00\",\"2022-08-26T00:00:00\",\"2022-08-26T00:00:00\",\"2022-08-26T00:00:00\",\"2022-08-26T00:00:00\",\"2022-08-26T00:00:00\",\"2022-08-26T00:00:00\",\"2022-08-26T00:00:00\",\"2022-08-26T00:00:00\",\"2022-08-26T00:00:00\",\"2022-08-26T00:00:00\",\"2022-08-26T00:00:00\",\"2022-08-26T00:00:00\",\"2022-08-26T00:00:00\",\"2022-08-26T00:00:00\",\"2022-08-26T00:00:00\",\"2022-08-26T00:00:00\",\"2022-08-26T00:00:00\",\"2022-08-26T00:00:00\",\"2022-08-26T00:00:00\",\"2022-08-26T00:00:00\",\"2022-08-26T00:00:00\",\"2022-08-26T00:00:00\",\"2022-08-26T00:00:00\",\"2022-08-26T00:00:00\",\"2022-08-26T00:00:00\",\"2022-08-26T00:00:00\",\"2022-08-26T00:00:00\",\"2022-08-26T00:00:00\",\"2022-08-26T00:00:00\",\"2022-08-26T00:00:00\",\"2022-08-26T00:00:00\",\"2022-08-26T00:00:00\",\"2022-08-26T00:00:00\",\"2022-08-26T00:00:00\",\"2022-08-26T00:00:00\",\"2022-08-26T00:00:00\",\"2022-08-26T00:00:00\",\"2022-08-26T00:00:00\",\"2022-08-26T00:00:00\",\"2022-08-26T00:00:00\",\"2022-08-26T00:00:00\",\"2022-08-26T00:00:00\",\"2022-08-26T00:00:00\",\"2022-08-26T00:00:00\",\"2022-08-26T00:00:00\",\"2022-08-26T00:00:00\",\"2022-08-26T00:00:00\",\"2022-08-26T00:00:00\",\"2022-08-26T00:00:00\",\"2022-08-26T00:00:00\",\"2022-08-26T00:00:00\",\"2022-08-26T00:00:00\",\"2022-08-26T00:00:00\",\"2022-08-26T00:00:00\",\"2022-08-26T00:00:00\",\"2022-08-26T00:00:00\",\"2022-08-26T00:00:00\",\"2022-08-26T00:00:00\",\"2022-08-26T00:00:00\",\"2022-08-26T00:00:00\",\"2022-08-26T00:00:00\",\"2022-08-26T00:00:00\",\"2022-08-26T00:00:00\",\"2022-08-26T00:00:00\",\"2022-08-26T00:00:00\",\"2022-08-26T00:00:00\",\"2022-08-26T00:00:00\",\"2022-08-26T00:00:00\",\"2022-08-26T00:00:00\",\"2022-08-26T00:00:00\",\"2022-08-26T00:00:00\",\"2022-08-26T00:00:00\",\"2022-08-26T00:00:00\",\"2022-08-26T00:00:00\",\"2022-08-26T00:00:00\",\"2022-08-26T00:00:00\",\"2022-08-26T00:00:00\",\"2022-08-26T00:00:00\",\"2022-08-26T00:00:00\",\"2022-08-26T00:00:00\",\"2022-08-26T00:00:00\",\"2022-08-26T00:00:00\",\"2022-08-26T00:00:00\",\"2022-08-26T00:00:00\",\"2022-08-26T00:00:00\",\"2022-08-26T00:00:00\",\"2022-08-26T00:00:00\",\"2022-08-26T00:00:00\",\"2022-08-26T00:00:00\",\"2022-08-26T00:00:00\",\"2022-08-26T00:00:00\",\"2022-08-26T00:00:00\",\"2022-08-26T00:00:00\",\"2022-08-26T00:00:00\",\"2022-08-26T00:00:00\",\"2022-08-26T00:00:00\",\"2022-08-26T00:00:00\",\"2022-08-26T00:00:00\",\"2022-08-26T00:00:00\",\"2022-08-26T00:00:00\",\"2022-08-26T00:00:00\",\"2022-08-26T00:00:00\",\"2022-08-26T00:00:00\",\"2022-08-26T00:00:00\",\"2022-08-26T00:00:00\",\"2022-08-26T00:00:00\",\"2022-08-26T00:00:00\",\"2022-08-26T00:00:00\",\"2022-08-26T00:00:00\",\"2022-08-26T00:00:00\",\"2022-08-26T00:00:00\",\"2022-08-26T00:00:00\",\"2022-08-26T00:00:00\",\"2022-08-26T00:00:00\",\"2022-08-26T00:00:00\",\"2022-08-26T00:00:00\",\"2022-08-26T00:00:00\",\"2022-08-26T00:00:00\",\"2022-08-26T00:00:00\",\"2022-08-26T00:00:00\",\"2022-08-26T00:00:00\",\"2022-08-26T00:00:00\",\"2022-08-26T00:00:00\",\"2022-08-26T00:00:00\",\"2022-08-26T00:00:00\",\"2022-08-26T00:00:00\",\"2022-08-26T00:00:00\",\"2022-08-26T00:00:00\",\"2022-08-26T00:00:00\",\"2022-08-26T00:00:00\",\"2022-08-26T00:00:00\",\"2022-08-26T00:00:00\",\"2022-08-26T00:00:00\",\"2022-08-26T00:00:00\",\"2022-08-26T00:00:00\",\"2022-08-26T00:00:00\",\"2022-08-26T00:00:00\",\"2022-08-26T00:00:00\",\"2022-08-26T00:00:00\",\"2022-08-26T00:00:00\",\"2022-08-26T00:00:00\",\"2022-08-26T00:00:00\",\"2022-08-26T00:00:00\",\"2022-08-26T00:00:00\",\"2022-08-26T00:00:00\",\"2022-08-26T00:00:00\",\"2022-08-26T00:00:00\",\"2022-08-26T00:00:00\",\"2022-08-26T00:00:00\",\"2022-08-26T00:00:00\",\"2022-08-26T00:00:00\",\"2022-08-26T00:00:00\",\"2022-08-26T00:00:00\",\"2022-08-26T00:00:00\",\"2022-08-26T00:00:00\",\"2022-08-26T00:00:00\",\"2022-08-26T00:00:00\",\"2022-08-26T00:00:00\",\"2022-08-26T00:00:00\",\"2022-08-26T00:00:00\",\"2022-08-26T00:00:00\",\"2022-08-26T00:00:00\",\"2022-08-26T00:00:00\",\"2022-08-26T00:00:00\",\"2022-08-26T00:00:00\",\"2022-08-26T00:00:00\",\"2022-08-26T00:00:00\",\"2022-08-26T00:00:00\",\"2022-08-26T00:00:00\",\"2022-08-26T00:00:00\",\"2022-08-26T00:00:00\",\"2022-08-26T00:00:00\",\"2022-08-26T00:00:00\",\"2022-08-26T00:00:00\",\"2022-08-26T00:00:00\",\"2022-08-26T00:00:00\",\"2022-08-26T00:00:00\",\"2022-08-26T00:00:00\",\"2022-08-26T00:00:00\",\"2022-08-26T00:00:00\",\"2022-08-26T00:00:00\",\"2022-08-26T00:00:00\",\"2022-08-26T00:00:00\",\"2022-08-26T00:00:00\",\"2022-08-26T00:00:00\",\"2022-08-26T00:00:00\",\"2022-08-26T00:00:00\",\"2022-08-26T00:00:00\",\"2022-08-26T00:00:00\",\"2022-08-26T00:00:00\",\"2022-08-26T00:00:00\",\"2022-08-26T00:00:00\",\"2022-08-26T00:00:00\",\"2022-08-26T00:00:00\",\"2022-08-26T00:00:00\",\"2022-08-26T00:00:00\",\"2022-08-26T00:00:00\",\"2022-08-26T00:00:00\",\"2022-08-26T00:00:00\",\"2022-08-26T00:00:00\",\"2022-08-26T00:00:00\",\"2022-08-26T00:00:00\",\"2022-08-26T00:00:00\",\"2022-08-26T00:00:00\",\"2022-08-26T00:00:00\",\"2022-08-26T00:00:00\",\"2022-08-26T00:00:00\",\"2022-08-26T00:00:00\",\"2022-08-26T00:00:00\",\"2022-08-26T00:00:00\",\"2022-08-26T00:00:00\",\"2022-08-26T00:00:00\",\"2022-08-26T00:00:00\",\"2022-08-26T00:00:00\",\"2022-08-26T00:00:00\",\"2022-08-26T00:00:00\",\"2022-08-26T00:00:00\",\"2022-08-26T00:00:00\",\"2022-08-26T00:00:00\",\"2022-08-26T00:00:00\",\"2022-08-26T00:00:00\",\"2022-08-26T00:00:00\",\"2022-08-26T00:00:00\",\"2022-08-26T00:00:00\",\"2022-08-26T00:00:00\",\"2022-08-26T00:00:00\",\"2022-08-26T00:00:00\",\"2022-08-26T00:00:00\",\"2022-08-26T00:00:00\",\"2022-08-26T00:00:00\",\"2022-08-26T00:00:00\",\"2022-08-26T00:00:00\",\"2022-08-26T00:00:00\",\"2022-08-26T00:00:00\",\"2022-08-26T00:00:00\",\"2022-08-26T00:00:00\",\"2022-08-26T00:00:00\",\"2022-08-26T00:00:00\",\"2022-08-26T00:00:00\",\"2022-08-26T00:00:00\",\"2022-08-26T00:00:00\",\"2022-08-26T00:00:00\",\"2022-08-26T00:00:00\",\"2022-08-26T00:00:00\",\"2022-08-26T00:00:00\",\"2022-08-26T00:00:00\",\"2022-08-26T00:00:00\",\"2022-08-26T00:00:00\",\"2022-08-26T00:00:00\",\"2022-08-26T00:00:00\",\"2022-08-26T00:00:00\",\"2022-08-26T00:00:00\",\"2022-08-26T00:00:00\",\"2022-08-26T00:00:00\",\"2022-08-26T00:00:00\",\"2022-08-26T00:00:00\",\"2022-08-26T00:00:00\",\"2022-08-26T00:00:00\",\"2022-08-26T00:00:00\",\"2022-08-26T00:00:00\",\"2022-08-26T00:00:00\",\"2022-08-26T00:00:00\",\"2022-08-26T00:00:00\",\"2022-08-26T00:00:00\",\"2022-08-26T00:00:00\",\"2022-08-26T00:00:00\",\"2022-08-26T00:00:00\",\"2022-08-26T00:00:00\",\"2022-08-26T00:00:00\",\"2022-08-26T00:00:00\",\"2022-08-26T00:00:00\",\"2022-08-26T00:00:00\",\"2022-08-26T00:00:00\",\"2022-08-26T00:00:00\",\"2022-08-26T00:00:00\",\"2022-08-26T00:00:00\",\"2022-08-26T00:00:00\",\"2022-08-26T00:00:00\",\"2022-08-26T00:00:00\",\"2022-08-26T00:00:00\",\"2022-08-26T00:00:00\",\"2022-08-26T00:00:00\",\"2022-08-26T00:00:00\",\"2022-08-26T00:00:00\",\"2022-08-26T00:00:00\",\"2022-08-26T00:00:00\",\"2022-08-26T00:00:00\",\"2022-08-26T00:00:00\",\"2022-08-26T00:00:00\",\"2022-08-26T00:00:00\",\"2022-08-26T00:00:00\",\"2022-08-26T00:00:00\",\"2022-08-26T00:00:00\",\"2022-08-26T00:00:00\",\"2022-08-26T00:00:00\",\"2022-08-26T00:00:00\",\"2022-08-26T00:00:00\",\"2022-08-26T00:00:00\",\"2022-08-26T00:00:00\",\"2022-08-26T00:00:00\",\"2022-08-26T00:00:00\",\"2022-08-26T00:00:00\",\"2022-08-26T00:00:00\",\"2022-08-26T00:00:00\",\"2022-08-26T00:00:00\",\"2022-08-26T00:00:00\",\"2022-08-26T00:00:00\",\"2022-08-26T00:00:00\",\"2022-08-26T00:00:00\",\"2022-08-26T00:00:00\",\"2022-08-26T00:00:00\",\"2022-08-26T00:00:00\",\"2022-08-26T00:00:00\",\"2022-08-26T00:00:00\",\"2022-08-26T00:00:00\",\"2022-08-26T00:00:00\",\"2022-08-26T00:00:00\",\"2022-08-26T00:00:00\",\"2022-08-26T00:00:00\",\"2022-08-26T00:00:00\",\"2022-08-26T00:00:00\",\"2022-08-26T00:00:00\",\"2022-08-26T00:00:00\",\"2022-08-26T00:00:00\",\"2022-08-26T00:00:00\",\"2022-08-26T00:00:00\",\"2022-08-26T00:00:00\",\"2022-08-26T00:00:00\",\"2022-08-26T00:00:00\",\"2022-08-26T00:00:00\",\"2022-08-26T00:00:00\",\"2022-08-26T00:00:00\",\"2022-08-26T00:00:00\",\"2022-08-26T00:00:00\",\"2022-08-26T00:00:00\",\"2022-08-26T00:00:00\",\"2022-08-26T00:00:00\",\"2022-08-26T00:00:00\",\"2022-08-26T00:00:00\",\"2022-08-26T00:00:00\",\"2022-08-26T00:00:00\",\"2022-08-26T00:00:00\",\"2022-08-26T00:00:00\",\"2022-08-26T00:00:00\",\"2022-08-26T00:00:00\",\"2022-08-26T00:00:00\",\"2022-08-26T00:00:00\",\"2022-08-26T00:00:00\",\"2022-08-26T00:00:00\",\"2022-08-26T00:00:00\",\"2022-08-26T00:00:00\",\"2022-08-26T00:00:00\",\"2022-08-26T00:00:00\",\"2022-08-26T00:00:00\",\"2022-08-26T00:00:00\",\"2022-08-26T00:00:00\",\"2022-08-26T00:00:00\",\"2022-08-26T00:00:00\",\"2022-08-26T00:00:00\",\"2022-08-26T00:00:00\",\"2022-08-26T00:00:00\",\"2022-08-26T00:00:00\",\"2022-08-26T00:00:00\",\"2022-08-26T00:00:00\",\"2022-08-26T00:00:00\",\"2022-08-26T00:00:00\",\"2022-08-26T00:00:00\",\"2022-08-26T00:00:00\",\"2022-08-26T00:00:00\",\"2022-08-26T00:00:00\",\"2022-08-26T00:00:00\",\"2022-08-26T00:00:00\",\"2022-08-26T00:00:00\",\"2022-08-26T00:00:00\",\"2022-08-26T00:00:00\",\"2022-08-26T00:00:00\",\"2022-08-26T00:00:00\",\"2022-08-26T00:00:00\",\"2022-08-26T00:00:00\",\"2022-08-26T00:00:00\",\"2022-08-26T00:00:00\",\"2022-08-26T00:00:00\",\"2022-08-26T00:00:00\",\"2022-08-26T00:00:00\",\"2022-08-26T00:00:00\",\"2022-08-26T00:00:00\",\"2022-08-26T00:00:00\",\"2022-08-26T00:00:00\",\"2022-08-26T00:00:00\",\"2022-08-26T00:00:00\",\"2022-08-26T00:00:00\",\"2022-08-26T00:00:00\",\"2022-08-26T00:00:00\",\"2022-08-26T00:00:00\",\"2022-08-26T00:00:00\",\"2022-08-26T00:00:00\",\"2022-08-26T00:00:00\",\"2022-08-26T00:00:00\",\"2022-08-26T00:00:00\",\"2022-08-26T00:00:00\",\"2022-08-26T00:00:00\",\"2022-08-26T00:00:00\",\"2022-08-26T00:00:00\",\"2022-08-26T00:00:00\",\"2022-08-26T00:00:00\",\"2022-08-26T00:00:00\",\"2022-08-26T00:00:00\",\"2022-08-26T00:00:00\",\"2022-08-26T00:00:00\",\"2022-08-26T00:00:00\",\"2022-08-26T00:00:00\",\"2022-08-26T00:00:00\",\"2022-08-26T00:00:00\",\"2022-08-26T00:00:00\",\"2022-08-26T00:00:00\",\"2022-08-26T00:00:00\",\"2022-08-26T00:00:00\",\"2022-08-26T00:00:00\",\"2022-08-26T00:00:00\",\"2022-08-26T00:00:00\",\"2022-08-26T00:00:00\",\"2022-08-26T00:00:00\",\"2022-08-26T00:00:00\",\"2022-08-26T00:00:00\",\"2022-08-26T00:00:00\",\"2022-08-26T00:00:00\",\"2022-08-26T00:00:00\",\"2022-08-26T00:00:00\",\"2022-08-26T00:00:00\",\"2022-08-26T00:00:00\",\"2022-08-26T00:00:00\",\"2022-08-26T00:00:00\",\"2022-08-26T00:00:00\",\"2022-08-26T00:00:00\",\"2022-08-26T00:00:00\",\"2022-08-26T00:00:00\",\"2022-08-26T00:00:00\",\"2022-08-26T00:00:00\",\"2022-08-26T00:00:00\",\"2022-08-26T00:00:00\",\"2022-08-26T00:00:00\",\"2022-08-26T00:00:00\",\"2022-08-26T00:00:00\",\"2022-08-26T00:00:00\",\"2022-08-26T00:00:00\",\"2022-08-26T00:00:00\",\"2022-08-26T00:00:00\",\"2022-08-26T00:00:00\",\"2022-08-26T00:00:00\",\"2022-08-26T00:00:00\",\"2022-08-26T00:00:00\",\"2022-08-26T00:00:00\",\"2022-08-26T00:00:00\",\"2022-08-26T00:00:00\",\"2022-08-26T00:00:00\",\"2022-08-26T00:00:00\",\"2022-08-26T00:00:00\",\"2022-08-26T00:00:00\",\"2022-08-26T00:00:00\",\"2022-08-26T00:00:00\",\"2022-08-26T00:00:00\",\"2022-08-26T00:00:00\",\"2022-08-26T00:00:00\",\"2022-08-26T00:00:00\",\"2022-08-26T00:00:00\",\"2022-08-26T00:00:00\",\"2022-08-26T00:00:00\",\"2022-08-26T00:00:00\",\"2022-08-26T00:00:00\",\"2022-08-26T00:00:00\",\"2022-08-26T00:00:00\",\"2022-08-26T00:00:00\",\"2022-08-26T00:00:00\",\"2022-08-26T00:00:00\",\"2022-08-26T00:00:00\",\"2022-08-26T00:00:00\",\"2022-08-26T00:00:00\",\"2022-08-26T00:00:00\",\"2022-08-26T00:00:00\",\"2022-08-26T00:00:00\",\"2022-08-26T00:00:00\",\"2022-08-26T00:00:00\",\"2022-08-26T00:00:00\",\"2022-08-26T00:00:00\",\"2022-08-26T00:00:00\",\"2022-08-26T00:00:00\",\"2022-08-26T00:00:00\",\"2022-08-26T00:00:00\",\"2022-08-26T00:00:00\",\"2022-08-26T00:00:00\",\"2022-08-26T00:00:00\",\"2022-08-26T00:00:00\",\"2022-08-26T00:00:00\",\"2022-08-26T00:00:00\",\"2022-08-26T00:00:00\",\"2022-08-26T00:00:00\",\"2022-08-26T00:00:00\",\"2022-08-26T00:00:00\",\"2022-08-26T00:00:00\",\"2022-08-26T00:00:00\",\"2022-08-26T00:00:00\",\"2022-08-26T00:00:00\",\"2022-08-26T00:00:00\",\"2022-08-26T00:00:00\",\"2022-08-26T00:00:00\",\"2022-08-26T00:00:00\",\"2022-08-26T00:00:00\",\"2022-08-26T00:00:00\",\"2022-08-26T00:00:00\",\"2022-08-26T00:00:00\",\"2022-08-26T00:00:00\",\"2022-08-26T00:00:00\",\"2022-08-26T00:00:00\",\"2022-08-26T00:00:00\",\"2022-08-26T00:00:00\",\"2022-08-26T00:00:00\",\"2022-08-26T00:00:00\",\"2022-08-26T00:00:00\",\"2022-08-26T00:00:00\",\"2022-08-26T00:00:00\",\"2022-08-26T00:00:00\",\"2022-08-26T00:00:00\",\"2022-08-26T00:00:00\",\"2022-08-26T00:00:00\",\"2022-08-26T00:00:00\",\"2022-08-26T00:00:00\",\"2022-08-26T00:00:00\",\"2022-08-26T00:00:00\",\"2022-08-26T00:00:00\",\"2022-08-26T00:00:00\",\"2022-08-26T00:00:00\",\"2022-08-26T00:00:00\",\"2022-08-26T00:00:00\",\"2022-08-26T00:00:00\",\"2022-08-26T00:00:00\",\"2022-08-26T00:00:00\",\"2022-08-26T00:00:00\",\"2022-08-26T00:00:00\",\"2022-08-26T00:00:00\",\"2022-08-26T00:00:00\",\"2022-08-26T00:00:00\",\"2022-08-26T00:00:00\",\"2022-08-26T00:00:00\",\"2022-08-26T00:00:00\",\"2022-08-26T00:00:00\",\"2022-08-26T00:00:00\",\"2022-08-26T00:00:00\",\"2022-08-26T00:00:00\",\"2022-08-26T00:00:00\",\"2022-08-26T00:00:00\",\"2022-08-26T00:00:00\",\"2022-08-26T00:00:00\",\"2022-08-26T00:00:00\",\"2022-08-26T00:00:00\",\"2022-08-26T00:00:00\",\"2022-08-26T00:00:00\",\"2022-08-26T00:00:00\",\"2022-08-26T00:00:00\",\"2022-08-26T00:00:00\",\"2022-08-26T00:00:00\",\"2022-08-26T00:00:00\",\"2022-08-26T00:00:00\",\"2022-08-26T00:00:00\",\"2022-08-26T00:00:00\",\"2022-08-26T00:00:00\",\"2022-08-26T00:00:00\",\"2022-08-26T00:00:00\",\"2022-08-26T00:00:00\",\"2022-08-26T00:00:00\",\"2022-08-26T00:00:00\",\"2022-08-26T00:00:00\",\"2022-08-26T00:00:00\",\"2022-08-26T00:00:00\",\"2022-08-26T00:00:00\",\"2022-08-26T00:00:00\",\"2022-08-26T00:00:00\",\"2022-08-26T00:00:00\",\"2022-08-26T00:00:00\",\"2022-08-26T00:00:00\",\"2022-08-26T00:00:00\",\"2022-08-26T00:00:00\",\"2022-08-26T00:00:00\",\"2022-08-26T00:00:00\",\"2022-08-26T00:00:00\",\"2022-08-26T00:00:00\",\"2022-08-26T00:00:00\",\"2022-08-26T00:00:00\",\"2022-08-26T00:00:00\",\"2022-08-26T00:00:00\",\"2022-08-26T00:00:00\",\"2022-08-26T00:00:00\",\"2022-08-26T00:00:00\",\"2022-08-26T00:00:00\",\"2022-08-26T00:00:00\",\"2022-08-26T00:00:00\",\"2022-08-26T00:00:00\",\"2022-08-26T00:00:00\",\"2022-08-26T00:00:00\",\"2022-08-26T00:00:00\",\"2022-08-26T00:00:00\",\"2022-08-26T00:00:00\",\"2022-08-26T00:00:00\",\"2022-08-26T00:00:00\",\"2022-08-26T00:00:00\",\"2022-08-26T00:00:00\",\"2022-08-26T00:00:00\",\"2022-08-26T00:00:00\",\"2022-08-26T00:00:00\",\"2022-08-26T00:00:00\",\"2022-08-26T00:00:00\",\"2022-08-26T00:00:00\",\"2022-08-26T00:00:00\",\"2022-08-26T00:00:00\",\"2022-08-26T00:00:00\",\"2022-08-26T00:00:00\",\"2022-08-26T00:00:00\",\"2022-08-26T00:00:00\",\"2022-08-26T00:00:00\",\"2022-08-26T00:00:00\",\"2022-08-26T00:00:00\",\"2022-08-26T00:00:00\",\"2022-08-26T00:00:00\",\"2022-08-26T00:00:00\",\"2022-08-26T00:00:00\",\"2022-08-26T00:00:00\",\"2022-08-26T00:00:00\",\"2022-08-26T00:00:00\",\"2022-08-26T00:00:00\",\"2022-08-26T00:00:00\",\"2022-08-26T00:00:00\",\"2022-08-26T00:00:00\",\"2022-08-26T00:00:00\",\"2022-08-26T00:00:00\",\"2022-08-26T00:00:00\",\"2022-08-26T00:00:00\",\"2022-08-26T00:00:00\",\"2022-08-26T00:00:00\",\"2022-08-26T00:00:00\",\"2022-08-26T00:00:00\",\"2022-08-26T00:00:00\",\"2022-08-26T00:00:00\",\"2022-08-26T00:00:00\",\"2022-08-26T00:00:00\",\"2022-08-26T00:00:00\",\"2022-08-26T00:00:00\",\"2022-08-26T00:00:00\",\"2022-08-26T00:00:00\",\"2022-08-26T00:00:00\",\"2022-08-26T00:00:00\",\"2022-08-26T00:00:00\",\"2022-08-26T00:00:00\",\"2022-08-26T00:00:00\",\"2022-08-26T00:00:00\",\"2022-08-26T00:00:00\",\"2022-08-26T00:00:00\",\"2022-08-26T00:00:00\",\"2022-08-26T00:00:00\",\"2022-08-26T00:00:00\",\"2022-08-26T00:00:00\",\"2022-08-26T00:00:00\",\"2022-08-26T00:00:00\",\"2022-08-26T00:00:00\",\"2022-08-26T00:00:00\",\"2022-08-26T00:00:00\",\"2022-08-26T00:00:00\",\"2022-08-26T00:00:00\",\"2022-08-26T00:00:00\",\"2022-08-26T00:00:00\",\"2022-08-26T00:00:00\",\"2022-08-26T00:00:00\",\"2022-08-26T00:00:00\",\"2022-08-26T00:00:00\",\"2022-08-26T00:00:00\",\"2022-08-26T00:00:00\",\"2022-08-26T00:00:00\",\"2022-08-26T00:00:00\",\"2022-08-26T00:00:00\",\"2022-08-26T00:00:00\",\"2022-08-26T00:00:00\",\"2022-08-26T00:00:00\",\"2022-08-26T00:00:00\",\"2022-08-26T00:00:00\",\"2022-08-26T00:00:00\",\"2022-08-26T00:00:00\",\"2022-08-26T00:00:00\",\"2022-08-26T00:00:00\",\"2022-08-26T00:00:00\",\"2022-08-26T00:00:00\",\"2022-08-26T00:00:00\",\"2022-08-26T00:00:00\",\"2022-08-26T00:00:00\",\"2022-08-26T00:00:00\",\"2022-08-26T00:00:00\",\"2022-08-26T00:00:00\",\"2022-08-26T00:00:00\",\"2022-08-26T00:00:00\",\"2022-08-26T00:00:00\",\"2022-08-26T00:00:00\",\"2022-08-26T00:00:00\",\"2022-08-26T00:00:00\",\"2022-08-26T00:00:00\",\"2022-08-26T00:00:00\",\"2022-08-26T00:00:00\",\"2022-08-26T00:00:00\",\"2022-08-26T00:00:00\",\"2022-08-26T00:00:00\",\"2022-08-26T00:00:00\",\"2022-08-26T00:00:00\",\"2022-08-26T00:00:00\",\"2022-08-26T00:00:00\",\"2022-08-26T00:00:00\",\"2022-08-26T00:00:00\",\"2022-08-26T00:00:00\",\"2022-08-26T00:00:00\",\"2022-08-26T00:00:00\",\"2022-08-26T00:00:00\",\"2022-08-26T00:00:00\",\"2022-08-26T00:00:00\",\"2022-08-26T00:00:00\",\"2022-08-26T00:00:00\",\"2022-08-26T00:00:00\",\"2022-08-26T00:00:00\",\"2022-08-26T00:00:00\",\"2022-08-26T00:00:00\",\"2022-08-26T00:00:00\",\"2022-08-26T00:00:00\",\"2022-08-26T00:00:00\",\"2022-08-26T00:00:00\",\"2022-08-26T00:00:00\",\"2022-08-26T00:00:00\",\"2022-08-26T00:00:00\",\"2022-08-26T00:00:00\",\"2022-08-26T00:00:00\",\"2022-08-26T00:00:00\",\"2022-08-26T00:00:00\",\"2022-08-26T00:00:00\",\"2022-08-26T00:00:00\",\"2022-08-26T00:00:00\",\"2022-08-26T00:00:00\",\"2022-08-26T00:00:00\",\"2022-08-26T00:00:00\",\"2022-08-26T00:00:00\",\"2022-08-26T00:00:00\",\"2022-08-26T00:00:00\",\"2022-08-26T00:00:00\",\"2022-08-26T00:00:00\",\"2022-08-26T00:00:00\",\"2022-08-26T00:00:00\",\"2022-08-26T00:00:00\",\"2022-08-26T00:00:00\",\"2022-08-26T00:00:00\",\"2022-08-26T00:00:00\",\"2022-08-26T00:00:00\",\"2022-08-26T00:00:00\",\"2022-08-26T00:00:00\",\"2022-08-26T00:00:00\",\"2022-08-26T00:00:00\",\"2022-08-26T00:00:00\",\"2022-08-26T00:00:00\",\"2022-08-26T00:00:00\",\"2022-08-26T00:00:00\",\"2022-08-26T00:00:00\",\"2022-08-26T00:00:00\",\"2022-08-26T00:00:00\",\"2022-08-26T00:00:00\",\"2022-08-26T00:00:00\",\"2022-08-26T00:00:00\",\"2022-08-26T00:00:00\",\"2022-08-26T00:00:00\",\"2022-08-26T00:00:00\",\"2022-08-26T00:00:00\",\"2022-08-26T00:00:00\",\"2022-08-26T00:00:00\",\"2022-08-26T00:00:00\",\"2022-08-26T00:00:00\",\"2022-08-26T00:00:00\",\"2022-08-26T00:00:00\",\"2022-08-26T00:00:00\",\"2022-08-26T00:00:00\",\"2022-08-26T00:00:00\",\"2022-08-26T00:00:00\",\"2022-08-26T00:00:00\",\"2022-08-26T00:00:00\",\"2022-08-26T00:00:00\",\"2022-08-26T00:00:00\",\"2022-08-26T00:00:00\",\"2022-08-26T00:00:00\",\"2022-08-26T00:00:00\",\"2022-08-26T00:00:00\",\"2022-08-26T00:00:00\",\"2022-08-26T00:00:00\",\"2022-08-26T00:00:00\",\"2022-08-26T00:00:00\",\"2022-08-26T00:00:00\",\"2022-08-26T00:00:00\",\"2022-08-26T00:00:00\",\"2022-08-26T00:00:00\",\"2022-08-26T00:00:00\",\"2022-08-26T00:00:00\",\"2022-08-26T00:00:00\",\"2022-08-26T00:00:00\",\"2022-08-26T00:00:00\",\"2022-08-26T00:00:00\",\"2022-08-26T00:00:00\",\"2022-08-26T00:00:00\",\"2022-08-26T00:00:00\",\"2022-08-26T00:00:00\",\"2022-08-26T00:00:00\",\"2022-08-26T00:00:00\",\"2022-08-26T00:00:00\",\"2022-08-26T00:00:00\",\"2022-08-26T00:00:00\",\"2022-08-26T00:00:00\",\"2022-08-26T00:00:00\",\"2022-08-26T00:00:00\",\"2022-08-26T00:00:00\",\"2022-08-26T00:00:00\",\"2022-08-26T00:00:00\",\"2022-08-26T00:00:00\",\"2022-08-26T00:00:00\",\"2022-08-26T00:00:00\",\"2022-08-26T00:00:00\",\"2022-08-26T00:00:00\",\"2022-08-26T00:00:00\",\"2022-08-26T00:00:00\",\"2022-08-26T00:00:00\",\"2022-08-26T00:00:00\",\"2022-08-26T00:00:00\",\"2022-08-26T00:00:00\",\"2022-08-26T00:00:00\",\"2022-08-26T00:00:00\",\"2022-08-26T00:00:00\",\"2022-08-26T00:00:00\",\"2022-08-26T00:00:00\",\"2022-08-26T00:00:00\",\"2022-08-26T00:00:00\",\"2022-08-26T00:00:00\",\"2022-08-26T00:00:00\",\"2022-08-26T00:00:00\",\"2022-08-26T00:00:00\",\"2022-08-26T00:00:00\",\"2022-08-26T00:00:00\",\"2022-08-26T00:00:00\",\"2022-08-26T00:00:00\",\"2022-08-26T00:00:00\",\"2022-08-26T00:00:00\",\"2022-08-26T00:00:00\",\"2022-08-26T00:00:00\",\"2022-08-26T00:00:00\",\"2022-08-26T00:00:00\",\"2022-08-26T00:00:00\",\"2022-08-26T00:00:00\",\"2022-08-26T00:00:00\",\"2022-08-26T00:00:00\",\"2022-08-26T00:00:00\",\"2022-08-26T00:00:00\",\"2022-08-26T00:00:00\",\"2022-08-26T00:00:00\",\"2022-08-26T00:00:00\",\"2022-08-26T00:00:00\",\"2022-08-26T00:00:00\",\"2022-08-26T00:00:00\",\"2022-08-26T00:00:00\",\"2022-08-26T00:00:00\",\"2022-08-26T00:00:00\",\"2022-08-26T00:00:00\",\"2022-08-26T00:00:00\",\"2022-08-26T00:00:00\",\"2022-08-26T00:00:00\",\"2022-08-26T00:00:00\",\"2022-08-26T00:00:00\",\"2022-08-26T00:00:00\",\"2022-08-26T00:00:00\",\"2022-08-26T00:00:00\",\"2022-08-26T00:00:00\",\"2022-08-26T00:00:00\",\"2022-08-26T00:00:00\",\"2022-08-26T00:00:00\",\"2022-08-26T00:00:00\",\"2022-08-26T00:00:00\",\"2022-08-26T00:00:00\",\"2022-08-26T00:00:00\",\"2022-08-26T00:00:00\",\"2022-08-26T00:00:00\",\"2022-08-26T00:00:00\",\"2022-08-26T00:00:00\",\"2022-08-26T00:00:00\",\"2022-08-26T00:00:00\",\"2022-08-26T00:00:00\",\"2022-08-26T00:00:00\",\"2022-08-26T00:00:00\",\"2022-08-26T00:00:00\",\"2022-08-26T00:00:00\",\"2022-08-26T00:00:00\",\"2022-08-26T00:00:00\",\"2022-08-26T00:00:00\",\"2022-08-26T00:00:00\",\"2022-08-26T00:00:00\",\"2022-08-26T00:00:00\",\"2022-08-26T00:00:00\",\"2022-08-26T00:00:00\",\"2022-08-26T00:00:00\",\"2022-08-26T00:00:00\",\"2022-08-26T00:00:00\",\"2022-08-26T00:00:00\",\"2022-08-26T00:00:00\",\"2022-08-26T00:00:00\",\"2022-08-26T00:00:00\",\"2022-08-26T00:00:00\",\"2022-08-26T00:00:00\",\"2022-08-26T00:00:00\",\"2022-08-26T00:00:00\",\"2022-08-26T00:00:00\",\"2022-08-26T00:00:00\",\"2022-08-26T00:00:00\",\"2022-08-26T00:00:00\",\"2022-08-26T00:00:00\",\"2022-08-26T00:00:00\",\"2022-08-26T00:00:00\",\"2022-08-26T00:00:00\",\"2022-08-26T00:00:00\",\"2022-08-26T00:00:00\",\"2022-08-26T00:00:00\",\"2022-08-26T00:00:00\",\"2022-08-26T00:00:00\",\"2022-08-26T00:00:00\",\"2022-08-26T00:00:00\",\"2022-08-26T00:00:00\",\"2022-08-26T00:00:00\",\"2022-08-26T00:00:00\",\"2022-08-26T00:00:00\",\"2022-08-26T00:00:00\",\"2022-08-26T00:00:00\",\"2022-08-26T00:00:00\",\"2022-08-26T00:00:00\",\"2022-08-26T00:00:00\",\"2022-08-26T00:00:00\",\"2022-08-26T00:00:00\",\"2022-08-26T00:00:00\",\"2022-08-26T00:00:00\",\"2022-08-26T00:00:00\",\"2022-08-26T00:00:00\",\"2022-08-26T00:00:00\",\"2022-08-26T00:00:00\",\"2022-08-26T00:00:00\",\"2022-08-26T00:00:00\",\"2022-08-26T00:00:00\",\"2022-08-26T00:00:00\",\"2022-08-26T00:00:00\",\"2022-08-26T00:00:00\",\"2022-08-26T00:00:00\",\"2022-08-26T00:00:00\",\"2022-08-26T00:00:00\",\"2022-08-26T00:00:00\",\"2022-08-26T00:00:00\",\"2022-08-26T00:00:00\",\"2022-08-26T00:00:00\",\"2022-08-26T00:00:00\",\"2022-08-26T00:00:00\",\"2022-08-26T00:00:00\",\"2022-08-26T00:00:00\",\"2022-08-26T00:00:00\",\"2022-08-26T00:00:00\",\"2022-08-26T00:00:00\",\"2022-08-26T00:00:00\",\"2022-08-26T00:00:00\",\"2022-08-26T00:00:00\",\"2022-08-26T00:00:00\",\"2022-08-26T00:00:00\",\"2022-08-26T00:00:00\",\"2022-08-26T00:00:00\",\"2022-08-26T00:00:00\",\"2022-08-26T00:00:00\",\"2022-08-26T00:00:00\",\"2022-08-26T00:00:00\",\"2022-08-26T00:00:00\",\"2022-08-26T00:00:00\",\"2022-08-26T00:00:00\",\"2022-08-26T00:00:00\",\"2022-08-26T00:00:00\",\"2022-08-26T00:00:00\",\"2022-08-26T00:00:00\",\"2022-08-26T00:00:00\",\"2022-08-26T00:00:00\",\"2022-08-26T00:00:00\",\"2022-08-26T00:00:00\",\"2022-08-26T00:00:00\",\"2022-08-26T00:00:00\",\"2022-08-26T00:00:00\",\"2022-08-26T00:00:00\",\"2022-08-26T00:00:00\",\"2022-08-26T00:00:00\",\"2022-08-26T00:00:00\",\"2022-08-26T00:00:00\",\"2022-08-26T00:00:00\",\"2022-08-26T00:00:00\",\"2022-08-26T00:00:00\",\"2022-08-26T00:00:00\",\"2022-08-26T00:00:00\",\"2022-08-26T00:00:00\",\"2022-08-26T00:00:00\",\"2022-08-26T00:00:00\",\"2022-08-26T00:00:00\",\"2022-08-26T00:00:00\",\"2022-08-26T00:00:00\",\"2022-08-26T00:00:00\",\"2022-08-26T00:00:00\",\"2022-08-26T00:00:00\",\"2022-08-26T00:00:00\",\"2022-08-26T00:00:00\",\"2022-08-26T00:00:00\",\"2022-08-26T00:00:00\",\"2022-08-26T00:00:00\",\"2022-08-26T00:00:00\",\"2022-08-26T00:00:00\",\"2022-08-26T00:00:00\",\"2022-08-26T00:00:00\",\"2022-08-26T00:00:00\",\"2022-08-26T00:00:00\",\"2022-08-26T00:00:00\",\"2022-08-26T00:00:00\",\"2022-08-26T00:00:00\",\"2022-08-26T00:00:00\",\"2022-08-26T00:00:00\",\"2022-08-26T00:00:00\",\"2022-08-26T00:00:00\",\"2022-08-26T00:00:00\",\"2022-08-26T00:00:00\",\"2022-08-26T00:00:00\",\"2022-08-26T00:00:00\",\"2022-08-26T00:00:00\",\"2022-08-26T00:00:00\",\"2022-08-26T00:00:00\",\"2022-08-26T00:00:00\",\"2022-08-26T00:00:00\",\"2022-08-26T00:00:00\",\"2022-08-26T00:00:00\",\"2022-08-26T00:00:00\",\"2022-08-26T00:00:00\",\"2022-08-26T00:00:00\",\"2022-08-26T00:00:00\",\"2022-08-26T00:00:00\",\"2022-08-26T00:00:00\",\"2022-08-26T00:00:00\",\"2022-08-26T00:00:00\",\"2022-08-26T00:00:00\",\"2022-08-26T00:00:00\",\"2022-08-26T00:00:00\",\"2022-08-26T00:00:00\",\"2022-08-26T00:00:00\",\"2022-08-26T00:00:00\",\"2022-08-26T00:00:00\",\"2022-08-26T00:00:00\",\"2022-08-26T00:00:00\",\"2022-08-26T00:00:00\",\"2022-08-26T00:00:00\",\"2022-08-26T00:00:00\",\"2022-08-26T00:00:00\",\"2022-08-26T00:00:00\",\"2022-08-26T00:00:00\",\"2022-08-26T00:00:00\",\"2022-08-26T00:00:00\",\"2022-08-26T00:00:00\",\"2022-08-26T00:00:00\",\"2022-08-26T00:00:00\",\"2022-08-26T00:00:00\",\"2022-08-26T00:00:00\",\"2022-08-26T00:00:00\",\"2022-08-26T00:00:00\",\"2022-08-26T00:00:00\",\"2022-08-26T00:00:00\",\"2022-08-26T00:00:00\",\"2022-08-26T00:00:00\",\"2022-08-26T00:00:00\",\"2022-08-26T00:00:00\",\"2022-08-26T00:00:00\",\"2022-08-26T00:00:00\",\"2022-08-26T00:00:00\",\"2022-08-26T00:00:00\",\"2022-08-26T00:00:00\",\"2022-08-26T00:00:00\",\"2022-08-26T00:00:00\",\"2022-08-26T00:00:00\",\"2022-08-26T00:00:00\",\"2022-08-26T00:00:00\",\"2022-08-26T00:00:00\",\"2022-08-26T00:00:00\",\"2022-08-26T00:00:00\",\"2022-08-26T00:00:00\",\"2022-08-26T00:00:00\",\"2022-08-26T00:00:00\",\"2022-08-26T00:00:00\",\"2022-08-26T00:00:00\",\"2022-08-26T00:00:00\",\"2022-08-26T00:00:00\",\"2022-08-26T00:00:00\",\"2022-08-26T00:00:00\",\"2022-08-26T00:00:00\",\"2022-08-26T00:00:00\",\"2022-08-26T00:00:00\",\"2022-08-26T00:00:00\",\"2022-08-26T00:00:00\",\"2022-08-26T00:00:00\",\"2022-08-26T00:00:00\",\"2022-08-26T00:00:00\",\"2022-08-26T00:00:00\",\"2022-08-26T00:00:00\",\"2022-08-26T00:00:00\",\"2022-08-26T00:00:00\",\"2022-08-26T00:00:00\",\"2022-08-26T00:00:00\",\"2022-08-26T00:00:00\",\"2022-08-26T00:00:00\",\"2022-08-26T00:00:00\",\"2022-08-26T00:00:00\",\"2022-08-26T00:00:00\",\"2022-08-26T00:00:00\",\"2022-08-26T00:00:00\",\"2022-08-26T00:00:00\",\"2022-08-26T00:00:00\",\"2022-08-26T00:00:00\",\"2022-08-26T00:00:00\",\"2022-08-26T00:00:00\",\"2022-08-26T00:00:00\",\"2022-08-26T00:00:00\",\"2022-08-26T00:00:00\",\"2022-08-26T00:00:00\",\"2022-08-26T00:00:00\",\"2022-08-26T00:00:00\",\"2022-08-26T00:00:00\",\"2022-08-26T00:00:00\",\"2022-08-26T00:00:00\",\"2022-08-26T00:00:00\",\"2022-08-26T00:00:00\",\"2022-08-26T00:00:00\",\"2022-08-26T00:00:00\",\"2022-08-26T00:00:00\",\"2022-08-26T00:00:00\",\"2022-08-26T00:00:00\",\"2022-08-26T00:00:00\",\"2022-08-26T00:00:00\",\"2022-08-26T00:00:00\",\"2022-08-26T00:00:00\",\"2022-08-26T00:00:00\",\"2022-08-26T00:00:00\",\"2022-08-26T00:00:00\",\"2022-08-26T00:00:00\",\"2022-08-26T00:00:00\",\"2022-08-26T00:00:00\",\"2022-08-26T00:00:00\",\"2022-08-26T00:00:00\",\"2022-08-26T00:00:00\",\"2022-08-26T00:00:00\",\"2022-08-26T00:00:00\",\"2022-08-26T00:00:00\",\"2022-08-26T00:00:00\",\"2022-08-26T00:00:00\",\"2022-08-26T00:00:00\",\"2022-08-26T00:00:00\",\"2022-08-26T00:00:00\",\"2022-08-26T00:00:00\",\"2022-08-26T00:00:00\",\"2022-08-26T00:00:00\",\"2022-08-26T00:00:00\",\"2022-08-26T00:00:00\",\"2022-08-26T00:00:00\",\"2022-08-26T00:00:00\",\"2022-08-26T00:00:00\",\"2022-08-26T00:00:00\",\"2022-08-26T00:00:00\",\"2022-08-26T00:00:00\",\"2022-08-26T00:00:00\",\"2022-08-26T00:00:00\",\"2022-08-26T00:00:00\",\"2022-08-26T00:00:00\",\"2022-08-26T00:00:00\",\"2022-08-26T00:00:00\",\"2022-08-26T00:00:00\",\"2022-08-26T00:00:00\",\"2022-08-26T00:00:00\",\"2022-08-26T00:00:00\",\"2022-08-26T00:00:00\",\"2022-08-26T00:00:00\",\"2022-08-26T00:00:00\",\"2022-08-26T00:00:00\",\"2022-08-26T00:00:00\",\"2022-08-26T00:00:00\",\"2022-08-26T00:00:00\",\"2022-08-26T00:00:00\",\"2022-08-26T00:00:00\",\"2022-08-26T00:00:00\",\"2022-08-26T00:00:00\",\"2022-08-26T00:00:00\",\"2022-08-26T00:00:00\",\"2022-08-26T00:00:00\",\"2022-08-26T00:00:00\",\"2022-08-26T00:00:00\",\"2022-08-26T00:00:00\",\"2022-08-26T00:00:00\",\"2022-08-26T00:00:00\",\"2022-08-26T00:00:00\",\"2022-08-26T00:00:00\",\"2022-08-26T00:00:00\",\"2022-08-26T00:00:00\",\"2022-08-26T00:00:00\",\"2022-08-26T00:00:00\",\"2022-08-26T00:00:00\",\"2022-08-26T00:00:00\",\"2022-08-26T00:00:00\",\"2022-08-26T00:00:00\",\"2022-08-26T00:00:00\",\"2022-08-26T00:00:00\",\"2022-08-26T00:00:00\",\"2022-08-26T00:00:00\",\"2022-08-26T00:00:00\",\"2022-08-26T00:00:00\",\"2022-08-26T00:00:00\",\"2022-08-26T00:00:00\",\"2022-08-26T00:00:00\",\"2022-08-26T00:00:00\",\"2022-08-26T00:00:00\",\"2022-08-26T00:00:00\",\"2022-08-26T00:00:00\",\"2022-08-26T00:00:00\",\"2022-08-26T00:00:00\",\"2022-08-26T00:00:00\",\"2022-08-26T00:00:00\",\"2022-08-26T00:00:00\",\"2022-08-26T00:00:00\",\"2022-08-26T00:00:00\",\"2022-08-26T00:00:00\",\"2022-08-26T00:00:00\",\"2022-08-26T00:00:00\",\"2022-08-26T00:00:00\",\"2022-08-26T00:00:00\",\"2022-08-26T00:00:00\",\"2022-08-26T00:00:00\",\"2022-08-26T00:00:00\",\"2022-08-26T00:00:00\",\"2022-08-26T00:00:00\",\"2022-08-26T00:00:00\",\"2022-08-26T00:00:00\",\"2022-08-26T00:00:00\",\"2022-08-26T00:00:00\",\"2022-08-26T00:00:00\",\"2022-08-26T00:00:00\",\"2022-08-26T00:00:00\",\"2022-08-26T00:00:00\",\"2022-08-26T00:00:00\",\"2022-08-26T00:00:00\",\"2022-08-26T00:00:00\",\"2022-08-26T00:00:00\",\"2022-08-26T00:00:00\",\"2022-08-26T00:00:00\",\"2022-08-26T00:00:00\",\"2022-08-26T00:00:00\",\"2022-08-26T00:00:00\",\"2022-08-26T00:00:00\",\"2022-08-26T00:00:00\",\"2022-08-26T00:00:00\",\"2022-08-26T00:00:00\",\"2022-08-26T00:00:00\",\"2022-08-26T00:00:00\",\"2022-08-26T00:00:00\",\"2022-08-26T00:00:00\",\"2022-08-26T00:00:00\",\"2022-08-26T00:00:00\",\"2022-08-26T00:00:00\",\"2022-08-26T00:00:00\",\"2022-08-26T00:00:00\",\"2022-08-26T00:00:00\",\"2022-08-26T00:00:00\",\"2022-08-26T00:00:00\",\"2022-08-26T00:00:00\",\"2022-08-26T00:00:00\",\"2022-08-26T00:00:00\",\"2022-08-26T00:00:00\",\"2022-08-26T00:00:00\",\"2022-08-26T00:00:00\",\"2022-08-26T00:00:00\",\"2022-08-26T00:00:00\",\"2022-08-26T00:00:00\",\"2022-08-26T00:00:00\",\"2022-08-26T00:00:00\",\"2022-08-26T00:00:00\",\"2022-08-26T00:00:00\",\"2022-08-26T00:00:00\",\"2022-08-26T00:00:00\",\"2022-08-26T00:00:00\",\"2022-08-26T00:00:00\",\"2022-08-26T00:00:00\",\"2022-08-26T00:00:00\",\"2022-08-26T00:00:00\",\"2022-08-26T00:00:00\",\"2022-08-26T00:00:00\",\"2022-08-26T00:00:00\",\"2022-08-26T00:00:00\",\"2022-08-26T00:00:00\",\"2022-08-26T00:00:00\",\"2022-08-26T00:00:00\",\"2022-08-26T00:00:00\",\"2022-08-26T00:00:00\",\"2022-08-26T00:00:00\",\"2022-08-26T00:00:00\",\"2022-08-26T00:00:00\",\"2022-08-26T00:00:00\",\"2022-08-26T00:00:00\",\"2022-08-26T00:00:00\",\"2022-08-26T00:00:00\",\"2022-08-26T00:00:00\",\"2022-08-26T00:00:00\",\"2022-08-26T00:00:00\",\"2022-08-26T00:00:00\",\"2022-08-26T00:00:00\",\"2022-08-26T00:00:00\",\"2022-08-26T00:00:00\",\"2022-08-26T00:00:00\",\"2022-08-26T00:00:00\",\"2022-08-26T00:00:00\",\"2022-08-26T00:00:00\",\"2022-08-26T00:00:00\",\"2022-08-26T00:00:00\",\"2022-08-26T00:00:00\",\"2022-08-26T00:00:00\",\"2022-08-26T00:00:00\",\"2022-08-26T00:00:00\",\"2022-08-26T00:00:00\",\"2022-08-26T00:00:00\",\"2022-08-26T00:00:00\",\"2022-08-26T00:00:00\",\"2022-08-26T00:00:00\",\"2022-08-26T00:00:00\",\"2022-08-26T00:00:00\",\"2022-08-26T00:00:00\",\"2022-08-26T00:00:00\",\"2022-08-26T00:00:00\",\"2022-08-26T00:00:00\",\"2022-08-26T00:00:00\",\"2022-08-26T00:00:00\",\"2022-08-26T00:00:00\",\"2022-08-26T00:00:00\",\"2022-08-26T00:00:00\",\"2022-08-26T00:00:00\",\"2022-08-26T00:00:00\",\"2022-08-26T00:00:00\",\"2022-08-26T00:00:00\",\"2022-08-26T00:00:00\",\"2022-08-26T00:00:00\",\"2022-08-26T00:00:00\",\"2022-08-26T00:00:00\",\"2022-08-26T00:00:00\",\"2022-08-26T00:00:00\",\"2022-08-26T00:00:00\",\"2022-08-26T00:00:00\",\"2022-08-26T00:00:00\",\"2022-08-26T00:00:00\",\"2022-08-26T00:00:00\",\"2022-08-26T00:00:00\",\"2022-08-26T00:00:00\",\"2022-08-26T00:00:00\",\"2022-08-26T00:00:00\",\"2022-08-26T00:00:00\",\"2022-08-26T00:00:00\",\"2022-08-26T00:00:00\",\"2022-08-26T00:00:00\",\"2022-08-26T00:00:00\",\"2022-08-26T00:00:00\",\"2022-08-26T00:00:00\",\"2022-08-26T00:00:00\",\"2022-08-26T00:00:00\",\"2022-08-26T00:00:00\",\"2022-08-26T00:00:00\",\"2022-08-26T00:00:00\",\"2022-08-26T00:00:00\",\"2022-08-26T00:00:00\",\"2022-08-26T00:00:00\",\"2022-08-26T00:00:00\",\"2022-08-26T00:00:00\",\"2022-08-26T00:00:00\",\"2022-08-26T00:00:00\",\"2022-08-26T00:00:00\",\"2022-08-26T00:00:00\",\"2022-08-26T00:00:00\",\"2022-08-26T00:00:00\",\"2022-08-26T00:00:00\",\"2022-08-26T00:00:00\",\"2022-08-26T00:00:00\",\"2022-08-26T00:00:00\",\"2022-08-26T00:00:00\",\"2022-08-26T00:00:00\",\"2022-08-26T00:00:00\",\"2022-08-26T00:00:00\",\"2022-08-26T00:00:00\",\"2022-08-26T00:00:00\",\"2022-08-26T00:00:00\",\"2022-08-26T00:00:00\",\"2022-08-26T00:00:00\",\"2022-08-26T00:00:00\",\"2022-08-26T00:00:00\",\"2022-08-26T00:00:00\",\"2022-08-26T00:00:00\",\"2022-08-26T00:00:00\",\"2022-08-26T00:00:00\",\"2022-08-26T00:00:00\",\"2022-08-26T00:00:00\",\"2022-08-26T00:00:00\",\"2022-08-26T00:00:00\",\"2022-08-26T00:00:00\",\"2022-08-26T00:00:00\",\"2022-08-26T00:00:00\",\"2022-08-26T00:00:00\",\"2022-08-26T00:00:00\",\"2022-08-26T00:00:00\",\"2022-08-26T00:00:00\",\"2022-08-26T00:00:00\",\"2022-08-26T00:00:00\",\"2022-08-26T00:00:00\",\"2022-08-26T00:00:00\",\"2022-08-26T00:00:00\",\"2022-08-26T00:00:00\",\"2022-08-26T00:00:00\",\"2022-08-26T00:00:00\",\"2022-08-26T00:00:00\",\"2022-08-26T00:00:00\",\"2022-08-26T00:00:00\",\"2022-08-26T00:00:00\",\"2022-08-26T00:00:00\",\"2022-08-26T00:00:00\",\"2022-08-26T00:00:00\",\"2022-08-26T00:00:00\",\"2022-08-26T00:00:00\",\"2022-08-26T00:00:00\",\"2022-08-26T00:00:00\",\"2022-08-26T00:00:00\",\"2022-08-26T00:00:00\",\"2022-08-26T00:00:00\",\"2022-08-26T00:00:00\",\"2022-08-26T00:00:00\",\"2022-08-26T00:00:00\",\"2022-08-26T00:00:00\",\"2022-08-26T00:00:00\",\"2022-08-26T00:00:00\",\"2022-08-26T00:00:00\",\"2022-08-26T00:00:00\",\"2022-08-26T00:00:00\",\"2022-08-26T00:00:00\",\"2022-08-26T00:00:00\",\"2022-08-26T00:00:00\",\"2022-08-26T00:00:00\",\"2022-08-26T00:00:00\",\"2022-08-26T00:00:00\",\"2022-08-26T00:00:00\",\"2022-08-26T00:00:00\",\"2022-08-26T00:00:00\",\"2022-08-26T00:00:00\",\"2022-08-26T00:00:00\",\"2022-08-26T00:00:00\",\"2022-08-26T00:00:00\",\"2022-08-26T00:00:00\",\"2022-08-26T00:00:00\",\"2022-08-26T00:00:00\",\"2022-08-26T00:00:00\",\"2022-08-26T00:00:00\",\"2022-08-26T00:00:00\",\"2022-08-26T00:00:00\",\"2022-08-26T00:00:00\",\"2022-08-26T00:00:00\",\"2022-08-26T00:00:00\",\"2022-08-26T00:00:00\",\"2022-08-26T00:00:00\",\"2022-08-26T00:00:00\",\"2022-08-26T00:00:00\",\"2022-08-26T00:00:00\",\"2022-08-26T00:00:00\",\"2022-08-26T00:00:00\",\"2022-08-26T00:00:00\",\"2022-08-26T00:00:00\",\"2022-08-26T00:00:00\",\"2022-08-26T00:00:00\",\"2022-08-26T00:00:00\",\"2022-08-26T00:00:00\",\"2022-08-26T00:00:00\",\"2022-08-26T00:00:00\",\"2022-08-26T00:00:00\",\"2022-08-26T00:00:00\",\"2022-08-26T00:00:00\",\"2022-08-26T00:00:00\",\"2022-08-26T00:00:00\",\"2022-08-26T00:00:00\",\"2022-08-26T00:00:00\",\"2022-08-26T00:00:00\",\"2022-08-26T00:00:00\",\"2022-08-26T00:00:00\",\"2022-08-26T00:00:00\",\"2022-08-26T00:00:00\",\"2022-08-26T00:00:00\",\"2022-08-26T00:00:00\",\"2022-08-26T00:00:00\",\"2022-08-26T00:00:00\",\"2022-08-26T00:00:00\",\"2022-08-26T00:00:00\",\"2022-08-26T00:00:00\",\"2022-08-26T00:00:00\",\"2022-08-26T00:00:00\",\"2022-08-26T00:00:00\",\"2022-08-26T00:00:00\",\"2022-08-26T00:00:00\",\"2022-08-26T00:00:00\",\"2022-08-26T00:00:00\",\"2022-08-26T00:00:00\",\"2022-08-26T00:00:00\",\"2022-08-26T00:00:00\",\"2022-08-26T00:00:00\",\"2022-08-26T00:00:00\",\"2022-08-26T00:00:00\",\"2022-08-26T00:00:00\",\"2022-08-26T00:00:00\",\"2022-08-26T00:00:00\",\"2022-08-26T00:00:00\",\"2022-08-26T00:00:00\",\"2022-08-26T00:00:00\",\"2022-08-26T00:00:00\",\"2022-08-26T00:00:00\",\"2022-08-26T00:00:00\",\"2022-08-26T00:00:00\",\"2022-08-26T00:00:00\",\"2022-08-26T00:00:00\",\"2022-08-26T00:00:00\",\"2022-08-26T00:00:00\",\"2022-08-26T00:00:00\",\"2022-08-26T00:00:00\",\"2022-08-26T00:00:00\",\"2022-08-26T00:00:00\",\"2022-08-26T00:00:00\",\"2022-08-26T00:00:00\",\"2022-08-26T00:00:00\",\"2022-08-26T00:00:00\",\"2022-08-26T00:00:00\",\"2022-08-26T00:00:00\",\"2022-08-26T00:00:00\",\"2022-08-26T00:00:00\",\"2022-08-26T00:00:00\",\"2022-08-26T00:00:00\",\"2022-08-26T00:00:00\",\"2022-08-26T00:00:00\",\"2022-08-26T00:00:00\",\"2022-08-26T00:00:00\",\"2022-08-26T00:00:00\",\"2022-08-26T00:00:00\",\"2022-08-26T00:00:00\",\"2022-08-26T00:00:00\",\"2022-08-26T00:00:00\",\"2022-08-26T00:00:00\",\"2022-08-26T00:00:00\",\"2022-08-26T00:00:00\",\"2022-08-26T00:00:00\",\"2022-08-26T00:00:00\",\"2022-08-26T00:00:00\",\"2022-08-26T00:00:00\",\"2022-08-26T00:00:00\"],\"y\":[32.20000076,32.0,32.0,32.0,32.0,32.0,32.0,32.0,32.0,32.0,32.0,32.0,32.0,32.0,32.0,32.0,32.0,32.0,32.0,32.0,32.0,32.0,32.0,32.0,32.0,32.0,32.0,32.0,32.0,32.0,32.0,32.0,32.20000076,32.0,32.0,32.0,32.0,32.0,32.0,32.0,32.0,32.0,32.0,32.0,32.0,32.0,32.0,32.0,32.0,32.0,32.0,32.0,32.0,32.0,32.0,32.0,32.0,32.0,32.0,32.0,32.0,32.0,32.0,32.0,32.20000076,32.20000076,32.09999847,32.09999847,32.20000076,32.20000076,32.20000076,32.20000076,32.20000076,32.20000076,32.20000076,32.20000076,32.20000076,32.20000076,32.20000076,32.20000076,32.20000076,32.20000076,32.20000076,32.20000076,32.20000076,32.20000076,32.20000076,32.20000076,32.20000076,32.20000076,32.0,32.09999847,32.20000076,32.20000076,32.09999847,32.0,32.20000076,32.0,32.0,32.0,32.0,32.1,32.1,32.1,32.0,32.0,32.0,32.0,32.1,32.1,32.09999847,32.09999847,32.09999847,32.0,32.09999847,32.09999847,32.09999847,32.09999847,32.09999847,32.09999847,32.09999847,32.09999847,32.09999847,32.09999847,32.7,32.7,32.7,32.7,32.7,32.7,32.7,32.7,32.7,32.7,32.7,32.7,32.7,32.7,32.7,32.7,32.7,32.7,32.8,32.7,32.7,32.7,32.7,32.7,32.6,32.7,32.7,32.7,32.7,32.7,32.7,32.7,32.7,32.7,32.7,32.7,32.7,32.7,32.7,32.7,32.7,32.7,32.8,32.7,32.8,32.8,32.8,32.8,32.8,32.8,32.8,32.8,32.8,32.8,32.8,32.8,32.8,32.8,32.8,32.8,32.8,32.6,32.8,32.8,32.8,32.8,32.7,32.8,32.8,32.8,32.8,32.8,32.8,32.8,32.8,32.8,32.8,32.8,32.8,32.8,32.8,32.8,32.8,32.8,32.8,32.6,32.6,32.6,32.6,32.6,32.8,32.6,32.6,32.6,32.6,32.6,32.6,32.6,32.6,32.6,32.6,32.6,32.6,32.6,32.6,32.6,32.6,32.6,32.6,32.6,32.6,32.6,32.6,32.6,32.6,32.6,32.6,32.6,32.6,32.6,32.6,32.6,32.6,32.6,32.6,32.6,32.6,32.6,32.6,32.6,32.6,32.6,32.6,32.6,32.6,32.6,32.6,32.6,32.6,32.6,32.6,32.6,32.6,32.6,32.6,32.6,32.6,32.6,32.6,32.6,32.6,32.6,32.6,32.6,32.6,32.6,32.6,32.6,32.6,32.6,32.6,32.6,32.6,32.6,32.6,32.6,32.6,32.6,32.6,32.6,32.6,32.6,32.6,32.8,32.8,32.8,32.8,32.8,32.8,32.8,32.8,32.8,32.8,32.8,32.8,32.8,32.8,32.8,32.8,32.8,32.8,32.8,32.8,32.8,32.8,32.8,32.8,32.8,32.8,32.8,32.8,32.8,32.8,32.8,32.8,32.8,32.8,32.8,32.8,32.8,32.8,32.8,32.8,32.8,32.8,32.8,32.8,32.8,32.8,32.8,32.8,32.8,32.8,32.8,32.8,32.8,32.8,32.8,32.8,32.8,32.8,32.8,32.8,32.8,32.8,32.8,32.8,32.8,32.8,32.8,32.8,32.8,32.8,32.8,32.8,32.8,32.8,32.8,32.8,32.8,32.8,32.8,32.8,32.8,32.8,32.8,32.8,32.8,32.8,32.8,32.8,32.8,32.8,32.8,32.8,32.8,32.8,32.8,32.8,32.8,32.8,32.8,32.8,32.8,32.8,32.8,32.8,32.8,32.8,32.8,32.8,32.8,32.8,32.8,32.8,32.8,32.8,32.8,32.8,32.8,32.8,32.8,32.8,32.8,32.8,32.8,32.8,32.8,32.8,32.8,32.8,32.8,32.8,32.8,32.8,32.8,32.8,32.8,32.8,32.8,32.8,32.8,32.8,32.8,32.8,32.8,32.8,32.8,32.8,32.8,32.8,32.8,32.8,32.8,32.8,32.8,32.8,32.8,32.8,32.8,32.8,32.8,32.8,32.8,32.8,32.8,32.8,32.9,32.8,32.8,32.8,32.8,32.8,32.8,32.8,32.6,32.8,32.8,32.9,32.6,29.4,32.6,31.5,31.5,31.5,31.6,31.6,31.6,31.6,31.6,31.6,31.6,31.6,31.6,31.6,31.6,31.7,31.7,31.7,31.7,31.7,31.7,31.7,31.7,31.7,31.7,31.7,31.5,31.5,31.5,31.5,29.5,29.4,29.4,29.4,31.3,31.3,31.3,31.3,31.3,31.3,31.3,31.4,31.7,31.4,31.4,31.4,31.4,31.4,31.4,31.4,31.4,31.5,31.5,31.5,31.5,31.5,31.4,31.8,31.8,31.8,32.0,32.0,32.0,32.0,32.0,32.0,32.0,32.0,32.0,32.0,32.0,32.0,32.0,32.0,32.0,32.0,32.0,32.0,32.0,32.0,32.0,32.0,32.0,32.0,32.0,32.0,32.0,29.5,31.9,31.9,31.8,31.8,31.8,31.8,31.8,31.8,31.8,31.8,31.8,31.8,31.8,31.8,31.9,31.9,31.9,31.9,31.9,31.9,31.9,31.9,31.9,31.9,31.9,31.9,31.9,31.9,31.9,32.0,29.5,29.5,30.9,30.9,30.9,30.9,30.9,30.8,30.8,30.8,30.8,30.8,30.8,30.7,30.7,30.7,30.7,30.7,30.7,30.6,30.6,30.6,30.6,30.6,30.6,30.6,30.6,30.9,30.9,30.9,31.0,31.3,32.6,31.3,31.3,31.3,31.3,31.2,31.2,31.2,31.2,31.2,31.2,30.5,31.2,31.1,31.1,31.1,31.1,31.1,31.1,31.1,31.0,31.0,31.0,31.0,31.0,31.1,30.5,30.5,30.5,30.0,30.0,30.0,29.9,29.9,29.9,29.9,29.9,29.8,29.8,29.8,29.7,30.0,29.7,29.7,29.7,29.7,29.7,29.7,29.6,29.6,29.6,29.5,29.5,29.5,29.5,29.7,29.5,30.0,30.0,30.5,30.5,30.5,30.5,30.5,30.4,30.5,30.4,30.3,30.3,30.3,30.3,30.0,30.3,30.3,30.3,30.3,30.3,30.2,30.2,30.1,30.1,30.1,30.1,30.1,30.0,30.3,32.0,30.2,32.1,32.5,32.5,32.5,32.5,32.5,32.5,32.5,32.5,32.5,32.5,32.5,32.5,32.5,32.5,32.5,32.5,32.5,32.5,32.5,32.5,32.5,32.5,32.5,32.5,32.5,32.5,32.5,32.5,32.5,32.5,32.5,32.5,32.5,32.5,32.5,32.5,32.5,32.5,32.5,32.5,32.5,32.5,32.5,32.5,32.5,32.5,32.5,32.5,32.5,32.5,32.5,32.5,32.5,32.5,32.5,32.5,32.6,32.5,32.5,32.6,32.6,32.6,32.6,32.6,32.6,32.6,32.6,32.6,32.6,32.6,32.6,32.6,32.6,32.6,32.6,32.6,32.6,32.6,32.6,32.6,32.6,32.6,32.0,32.6,32.6,32.6,32.5,32.6,32.6,32.5,32.6,32.6,32.5,32.5,32.5,32.5,32.5,32.5,32.5,32.6,32.5,32.6,32.5,32.6,32.6,32.5,32.6,32.6,32.5,32.6,32.6,32.6,32.5,32.6,32.6,32.5,32.5,32.5,32.5,32.2,32.2,32.2,32.2,32.2,32.2,32.2,32.2,32.2,32.2,32.2,32.2,32.2,32.2,32.2,32.2,32.2,32.2,32.2,32.2,32.2,32.2,32.2,32.2,32.2,32.2,32.2,32.2,32.2,32.2,32.1,32.1,32.5,32.0,32.1,32.1,32.1,32.1,32.1,32.1,32.1,32.1,32.2,32.1,32.1,32.1,32.2,32.2,32.2,32.2,32.2,32.2,32.2,32.2,32.2,32.2,32.1,32.2,32.2,32.2,32.5,32.4,32.5,32.5,32.4,32.5,32.5,32.5,32.5,32.5,32.5,32.5,32.5,32.5,32.5,32.5,32.5,32.5,32.5,32.5,32.5,32.5,32.5,32.3,32.5,32.5,32.5,32.4,32.5,32.4,32.3,32.3,32.3,32.4,32.4,32.3,32.3,32.4,32.4,32.3,32.4,32.4,32.4,32.4,32.4,32.4,32.4,32.4,32.4,32.4,32.4,32.4,32.4,32.4,32.3,32.4,33.0,33.0,33.0,32.9,33.0,32.9,33.0,33.0,33.0,33.0,32.9,33.0,33.0,32.9,33.0,33.0,33.0,33.0,33.0,32.9,33.0,32.9,32.9,33.0,32.9,32.9,32.9,33.0,32.9,33.0,33.0,33.0,33.0,33.0,33.0,33.0,33.0,33.0,33.0,33.0,33.0,33.0,33.0,32.9,32.9,33.0,33.0,33.0,32.9,32.9,32.9,33.0,32.9,32.9,33.0,33.0,33.0,33.0,33.0,33.0,33.0,33.0,32.9,32.9,33.0,33.0,33.0,33.0,33.0,32.9,33.0,33.0,33.0,32.9,33.0,32.9,32.9,33.0,32.8,32.9,32.8,32.8,32.8,32.9,32.8,32.9,32.8,32.8,32.8,32.8,32.8,32.8,32.8,32.9,32.8,32.8,32.9,32.9,32.9,32.9,32.9,32.9,32.8,32.8,32.9,32.9,32.9,32.8,32.8,32.8,32.8,32.9,32.9,32.9,32.9,32.8,32.8,32.9,33.0,32.9,33.0,33.0,33.0,33.0,33.0,33.0,33.0,33.0,33.0,33.0,33.0,33.0,32.9,33.0,32.9,32.9,32.9,33.0,32.8,32.8,32.9,32.8,32.9,32.9,32.9,32.9,32.9,32.9,32.9,32.9,32.9,32.9,33.0,33.0,33.0,33.0,32.9,32.8,32.9,32.8,32.8,32.8,32.8,32.8,32.8,32.8,32.8,32.8,32.8,32.8,32.8,32.8,32.8,32.8,32.8,32.8,32.8,32.8,32.8,32.9,32.9,32.9,32.9,32.9,32.9,32.8,32.8,32.9,32.8,32.9,32.8,32.9,32.8,32.8,32.9,32.8,32.9,32.8,32.8,32.8,32.8,32.8,32.8,32.8,32.8,32.9,32.8,32.8,32.8,32.8,32.8,32.8,32.8,32.8,32.9,32.8,32.9,32.8,32.8,32.8,32.8,32.8,32.8,32.8,32.8,32.8,32.8,32.8,32.8,32.8,32.8,32.8,32.8,32.8,32.8,32.8,32.9,32.9,32.9,32.9,32.9,32.9,32.9,32.9,32.9,32.9,32.9,32.9,32.9,32.9,32.9,32.9,32.9,32.9,32.9,32.8,32.9,32.8,32.9,32.9,32.9,32.9,32.9,32.9,32.9,32.9,32.9,32.9,32.9,32.9,32.9,32.9,32.9,32.9,32.9,32.9,32.9,32.9,32.9,32.9,32.9,32.9,32.9,32.9,32.9,32.9,32.9,32.9,32.9,32.9,32.9,32.9,32.9,32.9,32.9,32.9,32.9,32.9,32.9,32.8,32.8,32.9,32.9,32.9,32.9,32.9,32.9,32.9,32.8,32.9,32.8,32.9,32.9,32.9,32.9,32.9,32.9,32.9,32.8,32.8,32.8,32.8,32.8,32.8,32.8,32.8,32.8,32.8,32.8,32.8,32.8,32.8,32.8,32.8,32.8,32.8,32.8,32.8,32.8,32.8,32.8,32.8,32.8,32.8,32.8,32.8,32.8,32.8,32.8,32.8,32.8,32.8,32.8,32.8,32.8,32.8,32.8,32.8,32.8,32.8,32.8,32.8,32.9,32.8,32.8,32.8,32.9,32.8,32.8,32.8,32.8,32.8,32.8,32.8,32.9,32.9,32.8,32.8,32.8,32.8,32.8,32.8,32.8,32.8,32.8,32.8,32.8,32.8,32.8,32.8,32.8,32.8,32.8,32.9,32.8,32.8,32.8,32.9,32.8,32.8,32.8,32.8,32.8,32.8,32.8,32.8,32.8,32.8,32.8,32.8,32.8,32.8,32.8,32.8,32.8,32.8,32.8,32.8,32.8,32.8,32.8,32.8,32.8,32.8,32.8,32.8,32.8,32.8,32.8,32.8,32.8,32.8,32.8,32.8,32.8,32.8,32.8,32.8,32.8,32.8,32.8,32.8,32.8,32.8,32.8,32.8,32.8,32.8,32.8,32.8,32.8,32.8,32.8,32.8,32.8,32.8,32.8,32.8,32.8,32.8,32.8,32.8,32.8,32.8,32.8,32.8,32.8,32.8,32.8,32.8,32.8,32.8,32.8,32.8,32.8,32.8,32.8,32.9,32.9,32.9,32.9,33.0,32.9,32.9,32.9,32.9,32.9,32.9,32.9,32.9,32.9,32.9,32.9,32.9,32.9,32.9,32.9,33.0,32.9,32.9,33.0,32.9,33.0,33.0,32.9,32.9,32.9,33.0,32.9,32.9,32.9,32.9,33.0,32.9,32.9,32.9,32.9,33.0,33.0,33.0,33.0,32.9,32.9,32.9,32.9,32.9,32.9,32.9,32.9,32.9,32.9,32.9,32.9,32.9,32.9,32.9,32.9,33.0,33.0,33.0,32.9,33.0,33.0,33.0,33.0,33.0,33.0,33.0,33.0,33.0,33.0,33.0,33.0,33.0,33.0,33.0,33.0,33.0,33.0,33.0,32.9,32.9,32.9,32.9,32.9,32.9,33.0,32.9,32.9,32.9,33.0,33.0,32.9,33.0,32.9,33.0,33.0,33.0,32.9,32.9,32.9,32.9,32.9,32.9,32.9,32.9,32.9,32.9,32.9,32.9,32.9,32.9,32.9,32.9,32.9,32.9,32.9,33.0,33.0,33.0,33.0,33.0,33.0,33.0,33.0,33.0,33.0,33.0,33.0,33.0,33.0,33.0,33.0,33.0,33.0,33.0,33.0,33.0,33.0,33.0,33.0,33.0,33.0,33.0,33.0,33.0,33.0,33.0,33.0,33.0,33.0,33.0,33.0,33.0,33.0,33.0,33.0,32.8,32.8,32.9,32.8,32.8,32.8,32.8,32.8,32.8,32.8,32.8,32.8,32.8,32.8,32.8,32.8,32.8,32.8,32.8,32.8,32.8,32.8,32.8,32.8,32.8,32.8,32.8,32.8,32.8,32.8,32.8,32.8,32.8,32.8,32.8,32.8,32.8,32.8,32.8,32.8,32.8,32.8,32.8,32.8,32.8,32.8,32.8,32.8,32.8,32.8,32.8,32.8,32.8,32.8,32.8,32.8,32.8,32.8,32.8,32.8,32.8,32.8,32.8,32.8,32.8,32.8,32.8,32.8,32.8,32.8,32.8,32.8,32.8,32.8,32.8,32.8,32.8,32.8,32.8,32.8,32.8,32.8,32.8,32.8,32.8,32.8,32.8,32.8,32.8,32.8,32.8,32.8,32.8,32.8,32.8,32.8,32.8,32.8,32.8,32.8,32.8,32.8,32.8,32.8,32.8,32.8,32.8,32.8,32.8,32.8,32.8,32.8,32.8,32.8,32.8,32.8,32.8,32.8,32.8,32.8,32.8,32.8,32.8,32.8,32.8,32.8,32.8,32.8,32.8,32.8,32.8,32.8,32.8,32.9,32.9,32.8,32.9,32.8,32.9,32.9,32.8,32.8,32.8,32.8,32.8,32.8,32.8,32.8,32.8,32.8,32.8,32.8,32.8,32.8,32.8,32.8,32.8,32.8,32.8,32.8,32.8,32.8,32.8,32.8,32.8,32.8,32.8,32.8,32.8,32.8,32.8,32.8,32.8,32.8,32.8,32.8,32.8,32.8,32.8,32.8,32.8,32.9,32.8,32.8,32.8,32.8,32.8,32.8,32.8,32.8,32.8,32.8,32.8,32.8,32.8,32.8,32.8,32.8,32.8,32.8,32.8,32.8,32.8,32.9,32.8,32.8,32.8,32.8,32.8,32.8,32.8,32.8,32.8,32.8,32.8,32.8,32.8,32.8,32.8,32.8,32.8,32.9,32.8,32.8,32.8,32.9,32.8,32.9,32.8,32.8,32.8,32.8,32.8,32.8,32.9,32.9,32.8,32.8,32.8,32.8,32.8,32.8,32.8,32.8,32.8,32.8,32.8,32.8,32.8,32.8,32.8,32.8,32.8,32.8,32.8,32.8,32.8,32.8,32.8,32.8,32.8,32.8,32.8,32.8,32.8,32.8,32.8,32.8,32.8,32.8,32.8,32.8,32.8,32.8,32.8,32.8,32.8,32.8,32.8,32.8,32.8,32.8,32.8,32.8,32.8,32.8,32.8,32.8,32.8,32.8,32.8,32.8,32.8,32.8,32.8,32.8,32.8,32.8,32.8,32.8,32.8,32.8,32.8,32.8,32.8,32.8,32.8,32.8,32.8,32.8,32.8,32.8,32.8,32.8,32.8,32.8,32.8,32.8,32.8,32.8,32.8,32.8,32.8,32.8,32.9,32.8,32.8,32.8,32.8,32.8,32.8,32.8,32.8,32.8,32.8,32.8,32.8,32.8,32.8,32.8,32.8,32.8,32.8,32.8,32.8,32.8,32.8,32.8,32.8,32.8,32.8,32.8,32.8,32.8,32.8,32.8,32.8,32.8,32.8,32.8,32.8,32.8,32.8,32.8,32.8,32.8,32.8,32.8,32.8,32.8,32.8,32.8,32.8,32.8,32.8,32.8,32.8,32.8,32.8,32.8,32.8,32.8,32.8,32.8,32.8,32.8,32.8,32.8,32.8,32.8,32.8,32.8,32.8,32.8,32.8,32.8,32.8,32.8,32.8,32.8,32.8,32.8,32.8,32.8,32.8,32.8,32.8,32.8,32.8,32.8,32.8,32.8,32.8,32.8,32.8,32.8,32.8,32.8,32.8,32.8,32.8,32.8,32.8,32.8,32.8,32.8,32.8,32.8,32.8,32.8,32.8,32.8,32.8,32.8,32.8,32.8,32.8,32.8,32.8,32.8,32.8,32.8,32.8,32.8,32.8,32.8,32.8,32.8,32.8,32.8,32.8,32.8,32.8,32.8,32.8,32.8,32.8,32.8,32.8,32.8,32.8,32.8,32.8,32.8,32.8,32.8,32.8,32.8,32.8,32.8,32.8,32.8,32.8,32.8,32.8,32.8,32.8,32.8,32.8,32.8,32.8,32.8,32.8,32.8,32.8,32.8,32.8,32.8,32.8,32.8,32.8,32.8,32.8,32.8,32.8,32.8,32.8,32.8,32.8,32.8,32.8,32.8,32.8,32.8,32.8,32.8,32.8,32.9,32.9,32.8,32.8,32.8,32.8,32.8,32.8,32.8,32.8,32.8,32.8,32.8,32.8,32.8,32.8,32.9,32.8,32.8,32.8,32.8,32.8,32.8,32.8,32.8,32.8,32.8,32.9,32.8,32.8,32.8,32.8,32.8,32.9,32.8,32.8,32.8,32.8,32.8,32.8,32.8,32.8,32.8,32.8,32.8,32.8,32.8,32.8,32.8,32.8,32.8,32.8,32.8,32.8,32.8,32.8,32.8,32.8,32.8,32.8,32.8,32.8,32.8,32.8,32.8,32.9,32.8,32.8,32.8,32.8,32.9,32.8,32.8,32.8,32.8,32.8,32.8,32.8,32.8,32.8,32.8,32.8,32.8,32.8,32.8,32.8,32.8,32.8,32.8,32.8,32.8,32.8,32.8,32.8,32.8,32.8,32.8,32.8,32.8,32.8,32.8,32.8,32.8,32.8,32.8,32.9,32.8,32.9,32.9,32.8,32.8,32.9,32.9,32.9,32.8,32.9,32.8,32.8,32.8,32.8,32.8,32.8,32.8,32.8,32.8,32.8,32.8,32.9,32.8,32.8,32.8,32.8,32.8,32.8,32.8,32.8,32.8,32.8,32.2,32.7,32.8,32.8,32.8,32.8,32.8,32.8,32.8,32.8,32.8,32.8,32.8,32.8,32.8,32.8,32.8,32.8,32.8,32.8,32.8,32.8,32.8,32.8,32.8,32.8,32.8,32.8,32.8,32.8,32.8,32.8,32.8,32.8,32.8,32.8,32.8,32.8,32.8,32.8,32.8,32.8,32.8,32.8,32.8,32.9,32.9,32.9,32.9,32.9,32.9,32.9,32.8,32.9,32.9,32.9,32.9,32.9,32.9,32.9,32.9,32.9,32.9,32.9,32.8,32.9,32.8,32.8,32.8,32.8,32.8,32.8,32.8,32.8,32.8,32.9,32.8,32.8,32.8,32.8,32.8,32.8,32.9,32.9,32.9,32.8,32.8,32.8,32.8,32.7,32.7,32.6,32.7,32.7,32.7,32.7,32.7,32.6,32.7,32.7,32.7,32.7,32.7,32.7,32.8,32.7,32.7,32.7,32.8,32.6,32.6,32.6,32.6,32.6,32.6,32.6,32.6,32.6,32.6,32.6,32.6,32.6,32.6,32.6,32.6,32.6,32.6,32.6,32.6,32.6,32.9,32.8,32.8,32.8,32.8,32.8,32.8,32.8,32.8,32.8,32.8,32.8,32.8,32.8,32.8,32.8,32.8,32.8,32.8,32.8,32.8,32.8,32.7,32.8,32.8,32.8,32.7,32.8,32.8,32.7,32.8,32.8,32.8,32.8,32.8,32.8,32.8,32.8,32.8,32.8,32.8,32.8,32.8,32.8,32.9,32.9,32.9,33.0,33.0,33.0,33.0,33.0,33.0,33.0,33.0,33.0,33.0,33.0,33.0,33.0,33.0,33.0,33.0,33.0,33.0,33.0,33.0,33.0,33.0,33.0,33.0,33.0,33.0,33.0,33.0,33.0,33.0,33.0,33.0,33.0,33.0,33.0,33.0,33.0,33.0,33.0,33.0,33.0,33.0,33.0,33.0,33.0,33.0,33.0,33.0,33.0,33.0,33.0,33.0,33.0,33.0,33.0,33.0,33.0,33.0,33.0,33.0,33.0,33.0,33.0,33.0,33.0,33.0,33.0,33.0,33.0,33.0,33.0,33.0,33.0,33.0,33.0,33.0,33.0,33.0,33.1,33.0,33.0,33.0,33.0,33.0,33.0,32.6,33.0,33.0,33.0,33.0,33.0,33.0,33.0,33.0,33.0,33.0,33.0,33.0,33.0,33.0,33.0,33.0,33.0,33.0,33.0,33.0,33.0,33.0,33.0,33.0,32.9,32.9,32.9,32.9,32.9,32.9,32.9,32.9,33.0,32.9,32.9,32.9,32.9,33.0,32.9,32.9,33.0,33.0,32.9,33.0,33.0,33.0,33.0,33.0,33.0,33.0,33.0,33.0,33.0,33.0,33.0,33.0,33.0,33.0,33.0,33.0,33.0,33.0,33.0,33.0,33.0,33.0,33.0,33.0,33.0,33.0,33.0,33.0,33.0,33.0,33.0,33.0,33.0,33.0,33.0,33.0,33.0,33.0,33.0,33.0,33.0,33.0,33.0,32.6,32.6,32.6,31.4,31.4,31.4,31.4,31.4,31.4,31.4,31.5,31.4,31.4,31.5,31.5,31.5,31.5,31.5,31.5,31.5,31.5,31.5,31.5,31.3,31.3,31.1,31.1,31.1,31.1,31.1,31.1,31.1,31.2,31.3,31.2,31.2,31.2,31.2,31.3,31.3,31.3,31.3,31.3,31.2,31.1,31.6,31.6,31.8,31.8,31.8,31.8,31.8,31.9,31.9,31.9,31.8,31.9,31.9,31.9,31.9,31.9,31.9,31.9,31.9,32.0,31.9,31.6,31.8,31.8,31.6,31.6,31.6,31.6,31.6,31.6,31.6,31.7,31.8,31.7,31.7,31.7,31.7,31.7,31.7,31.7,31.7,31.8,31.7,32.0,31.0,31.0,30.0,30.0,30.1,30.1,30.1,30.1,30.1,30.2,30.0,30.2,30.3,30.3,30.3,30.3,30.3,30.3,30.3,30.3,30.3,30.4,30.0,30.0,29.5,29.5,29.5,29.5,29.5,29.60000038,29.60000038,29.70000076,30.0,29.70000076,29.8,29.8,29.9,29.9,29.9,29.9,29.9,29.9,29.70000076,31.0,30.4,30.5,30.8,30.8,30.8,30.8,30.8,30.9,30.9,30.9,30.8,30.9,30.9,30.9,30.9,31.0,31.0,31.0,31.0,31.0,30.9,30.4,30.7,30.7,30.5,30.5,30.5,30.5,30.5,30.5,30.5,30.5,30.7,30.6,30.6,30.6,30.6,30.7,30.7,30.7,30.7,30.7,30.6,33.0,32.0,32.0,32.5,32.5,32.5,32.5,32.5,32.5,32.5,32.5,32.5,32.5,32.5,32.5,32.5,32.5,32.5,32.5,32.5,32.5,32.5,32.5,32.5,32.5,32.4,32.4,32.4,32.4,32.4,32.4,32.4,32.4,32.5,32.4,32.5,32.5,32.5,32.5,32.5,32.5,32.5,32.5,32.5,32.4,32.5,32.5,32.6,32.6,32.6,32.6,32.6,32.6,32.6,32.6,32.6,32.6,32.6,32.6,32.6,32.6,32.6,32.6,32.6,32.6,32.6,32.5,32.6,32.6,32.5,32.5,32.6,32.5,32.5,32.6,32.6,32.5,32.6,32.6,32.6,32.6,32.6,32.6,32.6,32.6,32.6,32.6,32.5,32.0,32.4,32.4,32.2,32.2,32.2,32.2,32.2,32.2,32.2,32.2,32.2,32.2,32.2,32.2,32.2,32.2,32.2,32.2,32.2,32.2,32.2,32.2,32.1,32.1,32.0,32.0,32.0,32.0,32.0,32.0,32.0,32.0,32.1,32.0,32.0,32.0,32.1,32.1,32.0,32.1,32.1,32.1,32.0,32.4,32.2,32.2,32.3,32.3,32.4,32.3,32.3,32.3,32.3,32.4,32.3,32.4,32.4,32.4,32.4,32.4,32.4,32.4,32.4,32.4,32.4,32.2,32.3,32.3,32.2,32.2,32.2,32.2,32.2,32.2,32.3,32.2,32.3,32.2,32.3,32.3,32.3,32.3,32.3,32.3,32.3,32.3,32.3,32.7,33.0,33.0,32.6,32.5,32.5,32.5,32.5,32.5,32.5,32.5,32.5,32.5,32.5,32.5,32.5,32.5,32.5,32.5,32.5,32.6,32.6,32.6,32.6,32.7,32.7,32.7,32.7,32.7,32.6,32.6,32.6,32.5,32.6,32.6,32.6,32.6,32.6,32.6,32.6,32.6,32.6,32.6,32.5,32.5,32.5,32.4,32.4,32.4,32.3,32.3,32.3,32.3,32.3,32.4,32.3,32.3,32.2,32.3,32.3,32.2,32.3,32.3,32.2,32.3,32.7,32.4,32.4,32.5,32.5,32.5,32.5,32.5,32.5,32.5,32.5,32.4,32.5,32.5,32.5,32.5,32.5,32.4,32.4,32.4,32.4,32.5,32.7,32.7,32.7,32.8,32.8,32.8,32.8,32.8,32.8,32.8,32.8,32.8,32.8,32.8,32.8,32.8,32.8,32.8,32.8,32.8,32.8,32.8,32.8,32.8,32.8,32.8,32.8,32.8,32.8,32.8,32.8,32.8,32.8,32.8,32.8,32.8,32.8,32.8,32.8,32.8,32.8,32.8,32.8,32.8,32.2,32.8,32.8,32.8,32.8,32.8,32.8,32.8,32.8,32.8,32.8,32.8,32.7,32.8,32.8,32.8,32.8,32.8,32.8,32.8,32.7,32.8,32.7,32.7,32.8,32.8,32.7,32.7,32.7,32.7,32.7,32.7,32.7,32.7,32.7,32.7,32.7,32.7,32.7,32.8,32.8,32.7,32.7,32.7,32.2,32.3,32.3,32.6,32.6,32.6,32.6,32.6,32.6,32.6,32.6,32.6,32.6,32.6,32.6,32.6,32.6,32.6,32.6,32.6,32.6,32.6,32.6,32.6,32.6,32.5,32.5,32.5,32.5,32.5,32.5,32.5,32.5,32.6,32.5,32.5,32.5,32.5,32.5,32.5,32.5,32.6,32.6,32.5,32.5,32.7,32.6,32.7,32.7,32.7,32.7,32.7,32.7,32.7,32.7,32.7,32.7,32.7,32.7,32.7,32.7,32.7,32.7,32.8,32.7,32.7,32.7,32.7,32.7,32.6,32.7,32.7,32.7,32.7,32.7,32.7,32.6,32.7,32.6,32.6,32.6,32.6,32.6,32.7,32.7,32.7,32.7,32.6,32.8,32.5,32.5,32.3,32.4,32.4,32.4,32.3,32.3,32.4,32.4,32.3,32.4,32.4,32.4,32.4,32.4,32.4,32.4,32.4,32.4,32.4,32.4,32.3,32.3,32.2,32.3,32.3,32.2,32.2,32.3,32.3,32.3,32.4,32.3,32.3,32.3,32.3,32.3,32.3,32.3,32.3,32.4,32.3,32.5,32.4,32.4,32.5,32.5,32.5,32.5,32.5,32.5,32.5,32.5,32.5,32.5,32.5,32.5,32.5,32.5,32.5,32.5,32.5,32.5,32.5,32.4,32.5,32.5,32.4,32.4,32.4,32.4,32.4,32.4,32.4,32.4,32.4,32.4,32.4,32.4,32.4,32.4,32.4,32.5,32.5,32.5,32.4,32.8,32.8,32.8,33.0,33.0,33.0,33.0,33.0,33.0,33.0,33.0,33.0,33.0,33.0,33.0,33.0,33.0,33.0,33.0,33.0,33.0,33.0,33.0,33.0,33.0,33.0,33.0,33.0,33.0,33.0,33.0,33.0,33.0,33.0,33.0,33.0,33.0,33.0,33.0,33.0,33.0,33.0,33.0,33.0,33.0,33.0,33.0,32.9,32.9,32.9,32.9,32.9,32.9,32.9,32.9,32.9,32.9,32.9,32.9,32.9,32.9,32.9,32.9,32.9,32.9,32.9,33.0,32.9,32.9,33.0,33.0,33.0,33.0,33.0,32.9,33.0,32.9,32.9,32.9,32.9,32.9,32.9,32.9,32.9,32.9,32.9,32.9,32.9,32.9,33.0,33.0,33.0,33.0,33.0,33.0,33.0,33.0,33.0,33.0,33.0,33.0,33.0,33.0,33.0,33.0,33.0,33.0,33.0,33.0,33.0,33.0,33.0,33.0,33.0,33.0,33.0,33.0,33.0,33.0,33.0,33.0,33.0,33.0,33.0,33.0,33.0,33.0,33.0,33.0,33.0,33.0,33.0,33.0,33.0,33.0,33.0,33.0,33.0,33.0,33.0,33.0,33.0,33.0,33.0,33.0,33.0,33.0,33.0,33.0,33.0,33.0,33.0,33.0,33.0,33.0,33.0,33.0,33.0,33.0,33.0,33.0,33.0,33.0,33.0,33.0,33.0,33.0,33.0,33.0,33.0,33.0,33.0,33.0,33.0,33.0,33.0,33.0,32.9,32.9,32.9,32.9,32.9,32.9,32.8,32.8,32.8,32.8,32.9,32.8,32.8,32.8,32.8,32.8,32.8,32.8,32.8,32.8,32.8,32.8,32.9,32.9,33.0,33.0,33.0,33.0,33.0,33.0,33.0,33.0,32.9,32.9,33.0,33.0,33.0,32.9,32.9,33.0,32.9,32.9,33.0,33.0,32.8,32.8,32.8,32.8,32.8,32.8,32.8,32.8,32.8,32.8,32.8,32.8,32.8,32.8,32.8,32.8,32.8,32.8,32.8,32.8,32.8,32.8,32.8,32.8,32.8,32.8,32.8,32.8,32.8,32.8,32.8,32.8,32.8,32.8,32.8,32.8,32.8,32.8,32.8,32.8,32.8,32.8,32.8,32.9,33.0,33.0,33.0,33.0,33.0,33.0,33.0,33.0,33.0,33.0,33.0,33.0,33.0,33.0,33.0,33.0,33.0,33.0,33.0,33.0,33.0,33.0,33.0,33.0,32.9,33.0,32.9,32.9,32.9,32.9,32.9,32.9,33.0,32.9,32.9,32.9,32.9,32.9,33.0,33.0,33.0,33.0,33.0,33.0,33.0,33.0,33.0,33.0,33.0,33.0,33.0,33.0,33.0,33.0,33.0,33.0,33.0,33.0,33.0,33.0,33.0,33.0,33.0,33.0,33.0,33.0,33.0,33.0,33.0,33.0,33.0,33.0,33.0,33.0,33.0,33.0,33.0,33.0,33.0,33.0,33.0,33.0,33.0,33.0,33.0,33.0,33.0,32.8],\"type\":\"scatter\"},{\"hoverinfo\":\"skip\",\"line\":{\"width\":0},\"mode\":\"lines\",\"x\":[\"2022-08-24T00:00:00\",\"2022-08-25T00:00:00\",\"2022-08-26T00:00:00\",\"2022-08-27T00:00:00\",\"2022-08-28T00:00:00\",\"2022-08-29T00:00:00\",\"2022-08-30T00:00:00\",\"2022-08-31T00:00:00\",\"2022-09-01T00:00:00\",\"2022-09-02T00:00:00\",\"2022-09-03T00:00:00\",\"2022-09-04T00:00:00\",\"2022-09-05T00:00:00\",\"2022-09-06T00:00:00\",\"2022-09-07T00:00:00\",\"2022-09-08T00:00:00\",\"2022-09-09T00:00:00\",\"2022-09-10T00:00:00\",\"2022-09-11T00:00:00\",\"2022-09-12T00:00:00\",\"2022-09-13T00:00:00\",\"2022-09-14T00:00:00\",\"2022-09-15T00:00:00\",\"2022-09-16T00:00:00\",\"2022-09-17T00:00:00\",\"2022-09-18T00:00:00\",\"2022-09-19T00:00:00\",\"2022-09-20T00:00:00\",\"2022-09-21T00:00:00\",\"2022-09-22T00:00:00\",\"2022-09-23T00:00:00\",\"2022-09-24T00:00:00\",\"2022-09-25T00:00:00\",\"2022-09-26T00:00:00\",\"2022-09-27T00:00:00\",\"2022-09-28T00:00:00\",\"2022-09-29T00:00:00\",\"2022-09-30T00:00:00\",\"2022-10-01T00:00:00\",\"2022-10-02T00:00:00\",\"2022-10-03T00:00:00\",\"2022-10-04T00:00:00\",\"2022-10-05T00:00:00\",\"2022-10-06T00:00:00\",\"2022-10-07T00:00:00\",\"2022-10-08T00:00:00\",\"2022-10-09T00:00:00\",\"2022-10-10T00:00:00\",\"2022-10-11T00:00:00\",\"2022-10-12T00:00:00\",\"2022-10-13T00:00:00\",\"2022-10-14T00:00:00\",\"2022-10-15T00:00:00\",\"2022-10-16T00:00:00\",\"2022-10-17T00:00:00\",\"2022-10-18T00:00:00\",\"2022-10-19T00:00:00\",\"2022-10-20T00:00:00\",\"2022-10-21T00:00:00\",\"2022-10-22T00:00:00\",\"2022-10-23T00:00:00\",\"2022-10-24T00:00:00\",\"2022-10-25T00:00:00\",\"2022-10-26T00:00:00\",\"2022-10-27T00:00:00\",\"2022-10-28T00:00:00\",\"2022-10-29T00:00:00\",\"2022-10-30T00:00:00\",\"2022-10-31T00:00:00\",\"2022-11-01T00:00:00\",\"2022-11-02T00:00:00\",\"2022-11-03T00:00:00\",\"2022-11-04T00:00:00\",\"2022-11-05T00:00:00\",\"2022-11-06T00:00:00\",\"2022-11-07T00:00:00\",\"2022-11-08T00:00:00\",\"2022-11-09T00:00:00\",\"2022-11-10T00:00:00\",\"2022-11-11T00:00:00\",\"2022-11-12T00:00:00\",\"2022-11-13T00:00:00\",\"2022-11-14T00:00:00\",\"2022-11-15T00:00:00\",\"2022-11-16T00:00:00\",\"2022-11-17T00:00:00\",\"2022-11-18T00:00:00\",\"2022-11-19T00:00:00\",\"2022-11-20T00:00:00\",\"2022-11-21T00:00:00\",\"2022-11-22T00:00:00\",\"2022-11-23T00:00:00\",\"2022-11-24T00:00:00\",\"2022-11-25T00:00:00\",\"2022-11-26T00:00:00\",\"2022-11-27T00:00:00\",\"2022-11-28T00:00:00\",\"2022-11-29T00:00:00\",\"2022-11-30T00:00:00\",\"2022-12-01T00:00:00\",\"2022-12-02T00:00:00\",\"2022-12-03T00:00:00\",\"2022-12-04T00:00:00\",\"2022-12-05T00:00:00\",\"2022-12-06T00:00:00\",\"2022-12-07T00:00:00\",\"2022-12-08T00:00:00\",\"2022-12-09T00:00:00\",\"2022-12-10T00:00:00\",\"2022-12-11T00:00:00\",\"2022-12-12T00:00:00\",\"2022-12-13T00:00:00\",\"2022-12-14T00:00:00\",\"2022-12-15T00:00:00\",\"2022-12-16T00:00:00\",\"2022-12-17T00:00:00\",\"2022-12-18T00:00:00\",\"2022-12-19T00:00:00\",\"2022-12-20T00:00:00\",\"2022-12-21T00:00:00\",\"2022-12-22T00:00:00\",\"2022-12-23T00:00:00\",\"2022-12-24T00:00:00\",\"2022-12-25T00:00:00\",\"2022-12-26T00:00:00\",\"2022-12-27T00:00:00\",\"2022-12-28T00:00:00\",\"2022-12-29T00:00:00\",\"2022-12-30T00:00:00\",\"2022-12-31T00:00:00\",\"2023-01-01T00:00:00\",\"2023-01-02T00:00:00\",\"2023-01-03T00:00:00\",\"2023-01-04T00:00:00\",\"2023-01-05T00:00:00\",\"2023-01-06T00:00:00\",\"2023-01-07T00:00:00\",\"2023-01-08T00:00:00\",\"2023-01-09T00:00:00\",\"2023-01-10T00:00:00\",\"2023-01-11T00:00:00\",\"2023-01-12T00:00:00\",\"2023-01-13T00:00:00\",\"2023-01-14T00:00:00\",\"2023-01-15T00:00:00\",\"2023-01-16T00:00:00\",\"2023-01-17T00:00:00\",\"2023-01-18T00:00:00\",\"2023-01-19T00:00:00\",\"2023-01-20T00:00:00\",\"2023-01-21T00:00:00\",\"2023-01-22T00:00:00\",\"2023-01-23T00:00:00\",\"2023-01-24T00:00:00\",\"2023-01-25T00:00:00\",\"2023-01-26T00:00:00\",\"2023-01-27T00:00:00\",\"2023-01-28T00:00:00\",\"2023-01-29T00:00:00\",\"2023-01-30T00:00:00\",\"2023-01-31T00:00:00\",\"2023-02-01T00:00:00\",\"2023-02-02T00:00:00\",\"2023-02-03T00:00:00\",\"2023-02-04T00:00:00\",\"2023-02-05T00:00:00\",\"2023-02-06T00:00:00\",\"2023-02-07T00:00:00\",\"2023-02-08T00:00:00\",\"2023-02-09T00:00:00\",\"2023-02-10T00:00:00\",\"2023-02-11T00:00:00\",\"2023-02-12T00:00:00\",\"2023-02-13T00:00:00\",\"2023-02-14T00:00:00\",\"2023-02-15T00:00:00\",\"2023-02-16T00:00:00\",\"2023-02-17T00:00:00\",\"2023-02-18T00:00:00\",\"2023-02-19T00:00:00\",\"2023-02-20T00:00:00\",\"2023-02-21T00:00:00\",\"2023-02-22T00:00:00\",\"2023-02-23T00:00:00\",\"2023-02-24T00:00:00\",\"2023-02-25T00:00:00\",\"2023-02-26T00:00:00\",\"2023-02-27T00:00:00\",\"2023-02-28T00:00:00\",\"2023-03-01T00:00:00\",\"2023-03-02T00:00:00\",\"2023-03-03T00:00:00\",\"2023-03-04T00:00:00\",\"2023-03-05T00:00:00\",\"2023-03-06T00:00:00\",\"2023-03-07T00:00:00\",\"2023-03-08T00:00:00\",\"2023-03-09T00:00:00\",\"2023-03-10T00:00:00\",\"2023-03-11T00:00:00\",\"2023-03-12T00:00:00\",\"2023-03-13T00:00:00\",\"2023-03-14T00:00:00\",\"2023-03-15T00:00:00\",\"2023-03-16T00:00:00\",\"2023-03-17T00:00:00\",\"2023-03-18T00:00:00\",\"2023-03-19T00:00:00\",\"2023-03-20T00:00:00\",\"2023-03-21T00:00:00\",\"2023-03-22T00:00:00\",\"2023-03-23T00:00:00\",\"2023-03-24T00:00:00\",\"2023-03-25T00:00:00\",\"2023-03-26T00:00:00\",\"2023-03-27T00:00:00\",\"2023-03-28T00:00:00\",\"2023-03-29T00:00:00\",\"2023-03-30T00:00:00\",\"2023-03-31T00:00:00\",\"2023-04-01T00:00:00\",\"2023-04-02T00:00:00\",\"2023-04-03T00:00:00\",\"2023-04-04T00:00:00\",\"2023-04-05T00:00:00\",\"2023-04-06T00:00:00\",\"2023-04-07T00:00:00\",\"2023-04-08T00:00:00\",\"2023-04-09T00:00:00\",\"2023-04-10T00:00:00\",\"2023-04-11T00:00:00\",\"2023-04-12T00:00:00\",\"2023-04-13T00:00:00\",\"2023-04-14T00:00:00\",\"2023-04-15T00:00:00\",\"2023-04-16T00:00:00\",\"2023-04-17T00:00:00\",\"2023-04-18T00:00:00\",\"2023-04-19T00:00:00\",\"2023-04-20T00:00:00\",\"2023-04-21T00:00:00\",\"2023-04-22T00:00:00\",\"2023-04-23T00:00:00\",\"2023-04-24T00:00:00\",\"2023-04-25T00:00:00\",\"2023-04-26T00:00:00\",\"2023-04-27T00:00:00\",\"2023-04-28T00:00:00\",\"2023-04-29T00:00:00\",\"2023-04-30T00:00:00\",\"2023-05-01T00:00:00\",\"2023-05-02T00:00:00\",\"2023-05-03T00:00:00\",\"2023-05-04T00:00:00\",\"2023-05-05T00:00:00\",\"2023-05-06T00:00:00\",\"2023-05-07T00:00:00\",\"2023-05-08T00:00:00\",\"2023-05-09T00:00:00\",\"2023-05-10T00:00:00\",\"2023-05-11T00:00:00\",\"2023-05-12T00:00:00\",\"2023-05-13T00:00:00\",\"2023-05-14T00:00:00\",\"2023-05-15T00:00:00\",\"2023-05-16T00:00:00\",\"2023-05-17T00:00:00\",\"2023-05-18T00:00:00\",\"2023-05-19T00:00:00\",\"2023-05-20T00:00:00\",\"2023-05-21T00:00:00\",\"2023-05-22T00:00:00\",\"2023-05-23T00:00:00\",\"2023-05-24T00:00:00\",\"2023-05-25T00:00:00\",\"2023-05-26T00:00:00\",\"2023-05-27T00:00:00\",\"2023-05-28T00:00:00\",\"2023-05-29T00:00:00\",\"2023-05-30T00:00:00\",\"2023-05-31T00:00:00\",\"2023-06-01T00:00:00\",\"2023-06-02T00:00:00\",\"2023-06-03T00:00:00\",\"2023-06-04T00:00:00\",\"2023-06-05T00:00:00\",\"2023-06-06T00:00:00\",\"2023-06-07T00:00:00\",\"2023-06-08T00:00:00\",\"2023-06-09T00:00:00\",\"2023-06-10T00:00:00\",\"2023-06-11T00:00:00\",\"2023-06-12T00:00:00\",\"2023-06-13T00:00:00\",\"2023-06-14T00:00:00\",\"2023-06-15T00:00:00\",\"2023-06-16T00:00:00\",\"2023-06-17T00:00:00\",\"2023-06-18T00:00:00\",\"2023-06-19T00:00:00\",\"2023-06-20T00:00:00\",\"2023-06-21T00:00:00\",\"2023-06-22T00:00:00\",\"2023-06-23T00:00:00\",\"2023-06-24T00:00:00\",\"2023-06-25T00:00:00\",\"2023-06-26T00:00:00\",\"2023-06-27T00:00:00\",\"2023-06-28T00:00:00\",\"2023-06-29T00:00:00\",\"2023-06-30T00:00:00\",\"2023-07-01T00:00:00\",\"2023-07-02T00:00:00\",\"2023-07-03T00:00:00\",\"2023-07-04T00:00:00\",\"2023-07-05T00:00:00\",\"2023-07-06T00:00:00\",\"2023-07-07T00:00:00\",\"2023-07-08T00:00:00\",\"2023-07-09T00:00:00\",\"2023-07-10T00:00:00\",\"2023-07-11T00:00:00\",\"2023-07-12T00:00:00\",\"2023-07-13T00:00:00\",\"2023-07-14T00:00:00\",\"2023-07-15T00:00:00\",\"2023-07-16T00:00:00\",\"2023-07-17T00:00:00\",\"2023-07-18T00:00:00\",\"2023-07-19T00:00:00\",\"2023-07-20T00:00:00\",\"2023-07-21T00:00:00\",\"2023-07-22T00:00:00\",\"2023-07-23T00:00:00\",\"2023-07-24T00:00:00\",\"2023-07-25T00:00:00\",\"2023-07-26T00:00:00\",\"2023-07-27T00:00:00\",\"2023-07-28T00:00:00\",\"2023-07-29T00:00:00\",\"2023-07-30T00:00:00\",\"2023-07-31T00:00:00\",\"2023-08-01T00:00:00\",\"2023-08-02T00:00:00\",\"2023-08-03T00:00:00\",\"2023-08-04T00:00:00\",\"2023-08-05T00:00:00\",\"2023-08-06T00:00:00\",\"2023-08-07T00:00:00\",\"2023-08-08T00:00:00\",\"2023-08-09T00:00:00\",\"2023-08-10T00:00:00\",\"2023-08-11T00:00:00\",\"2023-08-12T00:00:00\",\"2023-08-13T00:00:00\",\"2023-08-14T00:00:00\",\"2023-08-15T00:00:00\",\"2023-08-16T00:00:00\",\"2023-08-17T00:00:00\",\"2023-08-18T00:00:00\",\"2023-08-19T00:00:00\",\"2023-08-20T00:00:00\",\"2023-08-21T00:00:00\",\"2023-08-22T00:00:00\",\"2023-08-23T00:00:00\",\"2023-08-24T00:00:00\",\"2023-08-25T00:00:00\",\"2023-08-26T00:00:00\"],\"y\":[31.25599736616388,31.35373799772134,31.90711770537907,32.438198896469196,32.96065342699167,33.417685484542005,33.71766025046562,34.201459561604935,34.41884769406435,34.682550631836556,34.92291868274391,35.01065870540581,35.43128838524285,35.503662634862025,35.83591274611653,35.83680586228965,36.049903760201595,36.309687749468836,36.368644128690796,36.736194232690984,36.5645785093913,37.03496892761837,36.927719625767686,37.046248424141766,37.11445268931938,37.22747168911648,37.34887056971108,37.20161164287109,37.104131572673175,37.13945655147471,37.27590024075733,37.25377722584924,37.04480538328565,37.06208489201297,36.812059592425385,36.84540492423496,36.662238291257964,36.70161700039973,36.37365967151582,36.32473876770766,36.226382197648526,36.17893535512887,36.070036965062876,35.72707284865947,35.36817466506759,35.43059862983968,35.30095847021627,34.891134314795295,34.33113898988057,34.22727724974877,33.765393551548975,33.74568894699149,33.16181852312289,32.8693764415091,32.746408864766785,32.47401213071894,32.19276734563383,32.046278170529405,31.342537731180798,31.42842883524393,30.5236414481638,30.37303216216902,29.607514364610278,29.643271566677214,28.995769745422777,27.954871050184405,27.977496222039967,27.29607482444659,27.19690613240799,25.91643558124285,25.533605573333013,25.652916254453338,24.408225098713704,24.210648503649825,23.48174654477255,22.982528257051214,22.750900362076344,21.560356274487173,20.82486020911902,19.634910490339408,18.31511195534777,18.314468533437537,18.227653108879547,17.324783498315973,16.7844167018771,16.49733331167217,15.830488314397487,16.236301702104473,15.727691243013327,16.46331431200625,14.981187967621928,14.277339751694743,13.512273852694873,12.782964955154814,11.29117861660345,10.438663668302077,9.997658107231008,9.474884732939303,8.203648178224185,7.69208037109778,6.4925736675948285,5.933155000125468,5.536116864072706,4.243885710229422,3.796388115107636,3.319408902372344,2.5216644680934093,1.5479260901651235,-0.2986248233584023,0.2436929199496714,-0.6692679831384196,-1.6934246421330696,-1.2381691310149332,-3.3665479443620003,-3.685505196728608,-4.014696582394464,-4.386322029761962,-5.116232088524937,-6.07256682254947,-6.622144330983842,-7.3001178549183035,-8.412365393407384,-9.563641234024933,-11.003959228003362,-11.474891612589294,-12.410141555228385,-13.37352613863314,-14.703368631707566,-15.025974129403231,-16.7426988854464,-17.708915565593948,-18.942243970903267,-19.19839162375149,-20.344512339906352,-21.70777345440677,-22.660431020067833,-23.135987775845447,-25.335042500552557,-25.50653710861398,-25.893199651583004,-26.410649919086065,-27.23384047097626,-29.107386231448338,-30.107385256254094,-31.63549942625595,-33.124179306112396,-34.15300820574775,-34.32073324545065,-35.76199562353339,-37.143604192522844,-37.89417695861866,-38.82123133960939,-39.36261191788058,-40.2820440625657,-41.921181443643825,-42.39907949065253,-43.356704176574134,-44.522629781290405,-45.220326135900116,-46.00990359339161,-46.65383865429704,-48.74624511923209,-48.79668241470362,-51.23998397925349,-53.03958881760395,-53.44663714257387,-53.767243873309305,-54.49962307872359,-55.38326043888702,-55.36580618161718,-56.85678348344787,-59.76679519469232,-60.419907719960605,-61.141058160947786,-61.9949819665893,-62.427961116603434,-64.27030160638557,-64.9166733729781,-65.93950255989833,-67.19107770029893,-67.38814449138705,-68.86178326558395,-69.42031312582267,-70.26282316272574,-70.99512253568409,-72.20166137616617,-73.86882146359979,-75.02242133186739,-75.93734881917788,-76.61573697870296,-76.65133631965351,-77.48962534541693,-79.39841213678635,-80.17212921068351,-81.52602205281556,-82.91771561290489,-83.05478076833481,-83.91885993785881,-86.22846115496417,-87.61348609866914,-88.90807283854892,-91.34859585140548,-91.52166373344156,-93.27367339291521,-94.59628825044138,-95.13194643668392,-97.88663476844921,-98.8535481160284,-101.01639798720802,-102.65822205079904,-103.28088298475015,-106.13551572665695,-108.11605433130914,-109.10251030340189,-110.31792926295262,-111.32849511010703,-113.90412417279953,-114.82460323286327,-117.19337591109124,-118.20177165299027,-121.27775519086696,-123.53137152050404,-124.68675236441156,-125.58686228529943,-126.70846195411009,-127.2328769562793,-128.70355800936758,-130.846998272575,-132.29997938869477,-134.5101196133609,-134.70868482635038,-136.0366563346483,-138.6761896502824,-140.02550001894764,-139.7713479458358,-141.72754574634598,-142.66010138899668,-142.6198149766676,-144.31033793924075,-144.43464992359597,-145.5602400424296,-145.41687340773248,-148.1132139516879,-147.76065570031463,-149.33633320103567,-151.17728888104097,-153.50961920336383,-154.43695891704715,-157.4375683495252,-158.82329842189165,-159.62943846804413,-161.20085477476795,-162.12207944003595,-163.38162462525736,-166.03340156369487,-166.71239034235123,-167.57307658027193,-168.49316170527916,-171.4824864000622,-174.93380547703413,-176.4144653922678,-178.59150203045644,-179.01718590919492,-180.78467576508416,-183.35133598945066,-184.7115079000756,-186.6885636818097,-188.76658114177482,-190.21395047593083,-193.2940107186883,-194.40774182167522,-195.84564946593812,-197.53775080563122,-198.50641938715017,-200.2538915251931,-201.27068917601676,-203.0133570287817,-203.98096266719452,-204.06603971872428,-206.65569705526167,-206.86712484935077,-208.278917723606,-209.55044505368858,-212.03270002440036,-213.73046596599465,-216.30037811827322,-218.38600855119626,-220.41982976066643,-223.33865434943323,-224.26731256904216,-226.76891843788692,-227.26304699586697,-228.7308322853601,-230.63128485685064,-231.71220106365382,-233.47703641447092,-235.4781475698514,-238.6973985447215,-240.21614421679496,-240.639356534215,-242.81365271110624,-243.68978813947976,-245.3019500444616,-246.84614991718297,-248.61259833695928,-249.5368053061169,-251.42596429305576,-254.06514103587773,-254.97410773746202,-256.3441151697767,-257.2834350255098,-258.4105477537665,-259.3808010560845,-260.2235965037384,-261.7954183604109,-261.49333379431556,-264.28330576335935,-266.6793255131475,-267.66168873348727,-267.80793720124115,-269.77672855523946,-271.38600814451496,-272.03813156493703,-273.35230587085164,-273.7001956832886,-274.66896008202855,-276.46254136593217,-277.0258852263859,-278.8343921992625,-279.8010174964458,-280.78673851407086,-282.0765941309068,-282.8630432962182,-285.7576006585118,-288.42203210903045,-289.3000518806735,-291.90076283462196,-293.57505633411023,-297.9196161217346,-298.3814664742603,-298.58029340646016,-300.0852650990101,-303.0549586574083,-305.1718237580909,-306.6449052107888,-309.7210455600647,-312.94252575320235,-315.10448860796384,-316.57874896484503,-319.23669362835403,-321.8849318402347,-323.72224657342787,-325.9369525318361,-327.31423281522075,-328.16737874735776,-329.3640388853751,-329.2432607421982,-330.40283400347323,-331.2263648254993,-332.3421211512796,-333.2450574855445,-334.0812739997096,-334.4916450002179,-335.7978577651734,-337.1860502779859,-339.1920867592208,-342.7028134581611,-344.0686719588152],\"type\":\"scatter\"},{\"fill\":\"tonexty\",\"fillcolor\":\"rgba(0, 114, 178, 0.2)\",\"line\":{\"color\":\"#0072B2\",\"width\":2},\"mode\":\"lines\",\"name\":\"Predicted\",\"x\":[\"2022-08-24T00:00:00\",\"2022-08-25T00:00:00\",\"2022-08-26T00:00:00\",\"2022-08-27T00:00:00\",\"2022-08-28T00:00:00\",\"2022-08-29T00:00:00\",\"2022-08-30T00:00:00\",\"2022-08-31T00:00:00\",\"2022-09-01T00:00:00\",\"2022-09-02T00:00:00\",\"2022-09-03T00:00:00\",\"2022-09-04T00:00:00\",\"2022-09-05T00:00:00\",\"2022-09-06T00:00:00\",\"2022-09-07T00:00:00\",\"2022-09-08T00:00:00\",\"2022-09-09T00:00:00\",\"2022-09-10T00:00:00\",\"2022-09-11T00:00:00\",\"2022-09-12T00:00:00\",\"2022-09-13T00:00:00\",\"2022-09-14T00:00:00\",\"2022-09-15T00:00:00\",\"2022-09-16T00:00:00\",\"2022-09-17T00:00:00\",\"2022-09-18T00:00:00\",\"2022-09-19T00:00:00\",\"2022-09-20T00:00:00\",\"2022-09-21T00:00:00\",\"2022-09-22T00:00:00\",\"2022-09-23T00:00:00\",\"2022-09-24T00:00:00\",\"2022-09-25T00:00:00\",\"2022-09-26T00:00:00\",\"2022-09-27T00:00:00\",\"2022-09-28T00:00:00\",\"2022-09-29T00:00:00\",\"2022-09-30T00:00:00\",\"2022-10-01T00:00:00\",\"2022-10-02T00:00:00\",\"2022-10-03T00:00:00\",\"2022-10-04T00:00:00\",\"2022-10-05T00:00:00\",\"2022-10-06T00:00:00\",\"2022-10-07T00:00:00\",\"2022-10-08T00:00:00\",\"2022-10-09T00:00:00\",\"2022-10-10T00:00:00\",\"2022-10-11T00:00:00\",\"2022-10-12T00:00:00\",\"2022-10-13T00:00:00\",\"2022-10-14T00:00:00\",\"2022-10-15T00:00:00\",\"2022-10-16T00:00:00\",\"2022-10-17T00:00:00\",\"2022-10-18T00:00:00\",\"2022-10-19T00:00:00\",\"2022-10-20T00:00:00\",\"2022-10-21T00:00:00\",\"2022-10-22T00:00:00\",\"2022-10-23T00:00:00\",\"2022-10-24T00:00:00\",\"2022-10-25T00:00:00\",\"2022-10-26T00:00:00\",\"2022-10-27T00:00:00\",\"2022-10-28T00:00:00\",\"2022-10-29T00:00:00\",\"2022-10-30T00:00:00\",\"2022-10-31T00:00:00\",\"2022-11-01T00:00:00\",\"2022-11-02T00:00:00\",\"2022-11-03T00:00:00\",\"2022-11-04T00:00:00\",\"2022-11-05T00:00:00\",\"2022-11-06T00:00:00\",\"2022-11-07T00:00:00\",\"2022-11-08T00:00:00\",\"2022-11-09T00:00:00\",\"2022-11-10T00:00:00\",\"2022-11-11T00:00:00\",\"2022-11-12T00:00:00\",\"2022-11-13T00:00:00\",\"2022-11-14T00:00:00\",\"2022-11-15T00:00:00\",\"2022-11-16T00:00:00\",\"2022-11-17T00:00:00\",\"2022-11-18T00:00:00\",\"2022-11-19T00:00:00\",\"2022-11-20T00:00:00\",\"2022-11-21T00:00:00\",\"2022-11-22T00:00:00\",\"2022-11-23T00:00:00\",\"2022-11-24T00:00:00\",\"2022-11-25T00:00:00\",\"2022-11-26T00:00:00\",\"2022-11-27T00:00:00\",\"2022-11-28T00:00:00\",\"2022-11-29T00:00:00\",\"2022-11-30T00:00:00\",\"2022-12-01T00:00:00\",\"2022-12-02T00:00:00\",\"2022-12-03T00:00:00\",\"2022-12-04T00:00:00\",\"2022-12-05T00:00:00\",\"2022-12-06T00:00:00\",\"2022-12-07T00:00:00\",\"2022-12-08T00:00:00\",\"2022-12-09T00:00:00\",\"2022-12-10T00:00:00\",\"2022-12-11T00:00:00\",\"2022-12-12T00:00:00\",\"2022-12-13T00:00:00\",\"2022-12-14T00:00:00\",\"2022-12-15T00:00:00\",\"2022-12-16T00:00:00\",\"2022-12-17T00:00:00\",\"2022-12-18T00:00:00\",\"2022-12-19T00:00:00\",\"2022-12-20T00:00:00\",\"2022-12-21T00:00:00\",\"2022-12-22T00:00:00\",\"2022-12-23T00:00:00\",\"2022-12-24T00:00:00\",\"2022-12-25T00:00:00\",\"2022-12-26T00:00:00\",\"2022-12-27T00:00:00\",\"2022-12-28T00:00:00\",\"2022-12-29T00:00:00\",\"2022-12-30T00:00:00\",\"2022-12-31T00:00:00\",\"2023-01-01T00:00:00\",\"2023-01-02T00:00:00\",\"2023-01-03T00:00:00\",\"2023-01-04T00:00:00\",\"2023-01-05T00:00:00\",\"2023-01-06T00:00:00\",\"2023-01-07T00:00:00\",\"2023-01-08T00:00:00\",\"2023-01-09T00:00:00\",\"2023-01-10T00:00:00\",\"2023-01-11T00:00:00\",\"2023-01-12T00:00:00\",\"2023-01-13T00:00:00\",\"2023-01-14T00:00:00\",\"2023-01-15T00:00:00\",\"2023-01-16T00:00:00\",\"2023-01-17T00:00:00\",\"2023-01-18T00:00:00\",\"2023-01-19T00:00:00\",\"2023-01-20T00:00:00\",\"2023-01-21T00:00:00\",\"2023-01-22T00:00:00\",\"2023-01-23T00:00:00\",\"2023-01-24T00:00:00\",\"2023-01-25T00:00:00\",\"2023-01-26T00:00:00\",\"2023-01-27T00:00:00\",\"2023-01-28T00:00:00\",\"2023-01-29T00:00:00\",\"2023-01-30T00:00:00\",\"2023-01-31T00:00:00\",\"2023-02-01T00:00:00\",\"2023-02-02T00:00:00\",\"2023-02-03T00:00:00\",\"2023-02-04T00:00:00\",\"2023-02-05T00:00:00\",\"2023-02-06T00:00:00\",\"2023-02-07T00:00:00\",\"2023-02-08T00:00:00\",\"2023-02-09T00:00:00\",\"2023-02-10T00:00:00\",\"2023-02-11T00:00:00\",\"2023-02-12T00:00:00\",\"2023-02-13T00:00:00\",\"2023-02-14T00:00:00\",\"2023-02-15T00:00:00\",\"2023-02-16T00:00:00\",\"2023-02-17T00:00:00\",\"2023-02-18T00:00:00\",\"2023-02-19T00:00:00\",\"2023-02-20T00:00:00\",\"2023-02-21T00:00:00\",\"2023-02-22T00:00:00\",\"2023-02-23T00:00:00\",\"2023-02-24T00:00:00\",\"2023-02-25T00:00:00\",\"2023-02-26T00:00:00\",\"2023-02-27T00:00:00\",\"2023-02-28T00:00:00\",\"2023-03-01T00:00:00\",\"2023-03-02T00:00:00\",\"2023-03-03T00:00:00\",\"2023-03-04T00:00:00\",\"2023-03-05T00:00:00\",\"2023-03-06T00:00:00\",\"2023-03-07T00:00:00\",\"2023-03-08T00:00:00\",\"2023-03-09T00:00:00\",\"2023-03-10T00:00:00\",\"2023-03-11T00:00:00\",\"2023-03-12T00:00:00\",\"2023-03-13T00:00:00\",\"2023-03-14T00:00:00\",\"2023-03-15T00:00:00\",\"2023-03-16T00:00:00\",\"2023-03-17T00:00:00\",\"2023-03-18T00:00:00\",\"2023-03-19T00:00:00\",\"2023-03-20T00:00:00\",\"2023-03-21T00:00:00\",\"2023-03-22T00:00:00\",\"2023-03-23T00:00:00\",\"2023-03-24T00:00:00\",\"2023-03-25T00:00:00\",\"2023-03-26T00:00:00\",\"2023-03-27T00:00:00\",\"2023-03-28T00:00:00\",\"2023-03-29T00:00:00\",\"2023-03-30T00:00:00\",\"2023-03-31T00:00:00\",\"2023-04-01T00:00:00\",\"2023-04-02T00:00:00\",\"2023-04-03T00:00:00\",\"2023-04-04T00:00:00\",\"2023-04-05T00:00:00\",\"2023-04-06T00:00:00\",\"2023-04-07T00:00:00\",\"2023-04-08T00:00:00\",\"2023-04-09T00:00:00\",\"2023-04-10T00:00:00\",\"2023-04-11T00:00:00\",\"2023-04-12T00:00:00\",\"2023-04-13T00:00:00\",\"2023-04-14T00:00:00\",\"2023-04-15T00:00:00\",\"2023-04-16T00:00:00\",\"2023-04-17T00:00:00\",\"2023-04-18T00:00:00\",\"2023-04-19T00:00:00\",\"2023-04-20T00:00:00\",\"2023-04-21T00:00:00\",\"2023-04-22T00:00:00\",\"2023-04-23T00:00:00\",\"2023-04-24T00:00:00\",\"2023-04-25T00:00:00\",\"2023-04-26T00:00:00\",\"2023-04-27T00:00:00\",\"2023-04-28T00:00:00\",\"2023-04-29T00:00:00\",\"2023-04-30T00:00:00\",\"2023-05-01T00:00:00\",\"2023-05-02T00:00:00\",\"2023-05-03T00:00:00\",\"2023-05-04T00:00:00\",\"2023-05-05T00:00:00\",\"2023-05-06T00:00:00\",\"2023-05-07T00:00:00\",\"2023-05-08T00:00:00\",\"2023-05-09T00:00:00\",\"2023-05-10T00:00:00\",\"2023-05-11T00:00:00\",\"2023-05-12T00:00:00\",\"2023-05-13T00:00:00\",\"2023-05-14T00:00:00\",\"2023-05-15T00:00:00\",\"2023-05-16T00:00:00\",\"2023-05-17T00:00:00\",\"2023-05-18T00:00:00\",\"2023-05-19T00:00:00\",\"2023-05-20T00:00:00\",\"2023-05-21T00:00:00\",\"2023-05-22T00:00:00\",\"2023-05-23T00:00:00\",\"2023-05-24T00:00:00\",\"2023-05-25T00:00:00\",\"2023-05-26T00:00:00\",\"2023-05-27T00:00:00\",\"2023-05-28T00:00:00\",\"2023-05-29T00:00:00\",\"2023-05-30T00:00:00\",\"2023-05-31T00:00:00\",\"2023-06-01T00:00:00\",\"2023-06-02T00:00:00\",\"2023-06-03T00:00:00\",\"2023-06-04T00:00:00\",\"2023-06-05T00:00:00\",\"2023-06-06T00:00:00\",\"2023-06-07T00:00:00\",\"2023-06-08T00:00:00\",\"2023-06-09T00:00:00\",\"2023-06-10T00:00:00\",\"2023-06-11T00:00:00\",\"2023-06-12T00:00:00\",\"2023-06-13T00:00:00\",\"2023-06-14T00:00:00\",\"2023-06-15T00:00:00\",\"2023-06-16T00:00:00\",\"2023-06-17T00:00:00\",\"2023-06-18T00:00:00\",\"2023-06-19T00:00:00\",\"2023-06-20T00:00:00\",\"2023-06-21T00:00:00\",\"2023-06-22T00:00:00\",\"2023-06-23T00:00:00\",\"2023-06-24T00:00:00\",\"2023-06-25T00:00:00\",\"2023-06-26T00:00:00\",\"2023-06-27T00:00:00\",\"2023-06-28T00:00:00\",\"2023-06-29T00:00:00\",\"2023-06-30T00:00:00\",\"2023-07-01T00:00:00\",\"2023-07-02T00:00:00\",\"2023-07-03T00:00:00\",\"2023-07-04T00:00:00\",\"2023-07-05T00:00:00\",\"2023-07-06T00:00:00\",\"2023-07-07T00:00:00\",\"2023-07-08T00:00:00\",\"2023-07-09T00:00:00\",\"2023-07-10T00:00:00\",\"2023-07-11T00:00:00\",\"2023-07-12T00:00:00\",\"2023-07-13T00:00:00\",\"2023-07-14T00:00:00\",\"2023-07-15T00:00:00\",\"2023-07-16T00:00:00\",\"2023-07-17T00:00:00\",\"2023-07-18T00:00:00\",\"2023-07-19T00:00:00\",\"2023-07-20T00:00:00\",\"2023-07-21T00:00:00\",\"2023-07-22T00:00:00\",\"2023-07-23T00:00:00\",\"2023-07-24T00:00:00\",\"2023-07-25T00:00:00\",\"2023-07-26T00:00:00\",\"2023-07-27T00:00:00\",\"2023-07-28T00:00:00\",\"2023-07-29T00:00:00\",\"2023-07-30T00:00:00\",\"2023-07-31T00:00:00\",\"2023-08-01T00:00:00\",\"2023-08-02T00:00:00\",\"2023-08-03T00:00:00\",\"2023-08-04T00:00:00\",\"2023-08-05T00:00:00\",\"2023-08-06T00:00:00\",\"2023-08-07T00:00:00\",\"2023-08-08T00:00:00\",\"2023-08-09T00:00:00\",\"2023-08-10T00:00:00\",\"2023-08-11T00:00:00\",\"2023-08-12T00:00:00\",\"2023-08-13T00:00:00\",\"2023-08-14T00:00:00\",\"2023-08-15T00:00:00\",\"2023-08-16T00:00:00\",\"2023-08-17T00:00:00\",\"2023-08-18T00:00:00\",\"2023-08-19T00:00:00\",\"2023-08-20T00:00:00\",\"2023-08-21T00:00:00\",\"2023-08-22T00:00:00\",\"2023-08-23T00:00:00\",\"2023-08-24T00:00:00\",\"2023-08-25T00:00:00\",\"2023-08-26T00:00:00\"],\"y\":[32.05955747456533,32.157015668130214,32.67399025819936,33.19149585739088,33.710271963891806,34.23104475688592,34.754508554300166,35.28130774130279,35.812019676640354,36.34713906510344,36.88706425114703,37.43208584172349,37.98237800689482,38.53799273635073,39.098857250489175,39.6647746784281,40.235428024655974,40.8103873535979,41.3891200298584,41.97100376399428,42.555342131982144,43.14138216353499,43.72833353231332,44.31538883179906,44.901744385712995,45.48662102252115,46.06928424048556,46.64906320311167,47.22536803446393,47.79770492892616,48.365688649379955,48.9290520598141,49.48765242105988,50.04147426930293,50.5906287936583,51.13534972860331,51.67598587655619,52.21299047243674,52.74690769282486,53.27835669462544,53.808013639528205,54.3365922188549,54.86482323685855,55.39343383784663,55.9231269727769,56.45456169386807,56.98833484143575,57.52496464627134,58.064876714603685,58.60839279263605,59.15572262588868,59.70695913749349,60.26207705186515,60.820934988711876,61.38328095014418,61.94876102375007,62.516931029887786,63.087270754950744,63.65920033655287,64.23209830375785,64.80532072751126,65.37822090477923,65.95016898551272,66.5205709548771,67.08888640412133,67.65464456139182,68.21745810757446,68.7770343702657,69.33318356917702,69.88582387624072,70.43498315070023,70.98079731058068,71.52350540410657,72.06344154473354,72.60102396848217,73.13674155928766,73.67113826448764,74.2047958860145,74.73831578141315,75.27230004100427,75.80733272233468,76.3439617200989,76.88268182902289,77.42391951943759,77.96801989157768,78.51523620666796,79.06572231269395,79.61952819285531,80.17659876782939,80.73677598211553,81.29980410298249,81.8653380610522,82.43295456737754,83.00216565592933,83.57243422536155,84.143191092077,84.71385301992692,85.28384116175945,85.85259933547151,86.41961156257727,86.98441832047608,87.54663099983925,88.10594411464118,88.66214488258507,89.21511987586379,89.76485853379997,90.31145342710273,90.8550972651864,91.3960767400919,91.93476339981382,92.47160183719804,93.00709556509345,93.54179102146892,94.0762602074499,94.6110825047966,95.14682624585755,95.68403061761903,96.22318847182744,96.76473058554878,97.30901187176984,97.85629997910851,98.4067666452258,98.96048208244429,99.51741257901791,100.07742139844704,100.64027295532838,101.20564014272838,101.77311458622844,102.34221950674478,102.9124247909265,103.48316379702936,104.05385136791766,104.62390248308027,105.19275095956486,105.75986760829501,106.32477726750709,106.88707416862209,107.44643514076056,108.00263022677947,108.55553036413019,109.10511187551354,109.6514576144191,110.19475471604204,110.73528901149032,111.27343626924153,111.8096505291296,112.34444988753532,112.87840017491828,113.41209703572801,113.94614697381849,114.48114796201071,115.01767023120395,115.55623785179033,116.09731169807085,116.64127434550213,117.18841739210033,117.7389316209557,118.29290033282264,118.85029607885112,119.41098091677901,119.97471020263644,120.54113981771258,121.10983662074558,121.68029181150162,122.25193679742262,122.82416107289887,123.39633155361969,123.96781275860545,124.53798720160802,125.10627534267643,125.67215446032549,126.23517583471262,126.79497968174637,127.3513073456727,127.9040103413987,128.45305593509727,128.99852905949746,129.54063047537934,130.07967120956852,130.61606341843532,131.15030794079135,131.6829789114835,132.21470590344703,132.746154148376,133.2780034517678,133.81092646468974,134.34556700059935,134.8825190898811,135.42230744719603,135.96536998757634,136.51204296754705,137.06254924909837,137.61699008939812,138.17534075057353,138.73745010502554,139.30304428622014,139.87173430665572,140.4430274377374,141.01634202465516,141.5910252969191,142.16637363563686,142.74165467514243,143.3161305520498,143.88908157138772,144.45982953876717,145.02776001044566,145.5923427397701,146.15314964826584,146.7098697212082,147.26232031885505,147.8104545029537,148.35436410040973,148.89427835841536,149.4305581838153,149.96368609971304,150.49425218992212,151.02293643243001,151.5504879424235,152.07770174966862,152.6053938207734,153.13437510107298,153.66542539138192,154.19926789005623,154.73654521991716,155.27779772269204,155.82344474150455,156.3737695263206,156.92890829047928,157.48884382163797,158.05340391134538,158.62226471819375,159.19495902468887,159.77088919238955,160.3493444683862,160.92952215364582,161.51055201469856,162.09152320886324,162.67151290338361,163.24961570361023,163.8249729670914,164.39680107067144,164.9644177171831,165.5272654167864,166.08493135442788,166.63716295716364,167.18387860048236,167.7251730376027,168.26131729579564,168.79275295432257,169.32008089436363,169.84404478698562,170.36550975522212,170.88543680536318,171.4048537654308,171.92482359084664,172.4464109943765,172.97064842613298,173.49850246716016,174.0308417052603,174.56840713355055,175.1117860511444,175.6613903526415,176.2174399712248,176.77995209232836,177.34873658527383,177.92339791382173,178.5033435887713,179.08779902246144,179.67582844249884,180.26636132650285,180.858223637292,181.45017297457244,182.0409366201975,182.62925134415664,183.21390376150174,183.79376998940734,184.36785335033204,184.93531890266107,185.49552365379517,186.04804142090293,186.59268144875983,187.12950006846216,187.65880488057812,188.1811511658692,188.69733045974638,189.20835146630614,189.71541372695225,190.21987468998458,190.7232110439766,191.22697537241464,191.7327493536533,192.2420948631582,192.75650442962976,193.27735254930167,193.80584937111738,194.34299822846566,194.88955841092624,195.44601444361737,196.01255297513242,196.58904817189568,197.17505628235193,197.7698197751104,198.37228117818825,198.98110645968777,199.59471750190747,200.2113329395042,200.82901636631976,201.44573067303128,202.0593970664053,202.66795714753437,203.26943629674952,203.8620065316462,204.44404697513934,205.0142000945284,205.571421950595,206.11502482651525,206.64471078713098,207.16059494557692,207.66321748081756,208.15354374933713,208.63295215911478,209.1032098152606,209.5664362948069,210.02505625336102,210.4817418987331,210.93934667654622,211.40083179106156,211.8691874225066,212.34735069268112,212.8381225673106,213.34408596172298,213.8675273327974,214.41036399319196,214.974079273959,215.55966749075412,216.1675904407841,216.79774687782813,217.44945608809437,218.12145632865318,218.81191850216769,219.51847503697692,220.2382635311652,220.96798431436903,221.7039706928879,222.4422702831177,223.1787355156654,223.9091211170525,224.62918615581498,225.33479808178424,226.0220360963566,226.68729117102615,227.32736008256714,227.93953095553508,228.52165799355453,229.0722233357446,229.59038428732146,230.0760045359725,230.5296683687063,230.95267733696588,231.3470292694478,231.71537999022587,232.0609885521534,232.387647229876,232.6995979212955,233.0014369699169,233.2980107331575,233.59430447466136,233.8953273448877],\"type\":\"scatter\"},{\"fill\":\"tonexty\",\"fillcolor\":\"rgba(0, 114, 178, 0.2)\",\"hoverinfo\":\"skip\",\"line\":{\"width\":0},\"mode\":\"lines\",\"x\":[\"2022-08-24T00:00:00\",\"2022-08-25T00:00:00\",\"2022-08-26T00:00:00\",\"2022-08-27T00:00:00\",\"2022-08-28T00:00:00\",\"2022-08-29T00:00:00\",\"2022-08-30T00:00:00\",\"2022-08-31T00:00:00\",\"2022-09-01T00:00:00\",\"2022-09-02T00:00:00\",\"2022-09-03T00:00:00\",\"2022-09-04T00:00:00\",\"2022-09-05T00:00:00\",\"2022-09-06T00:00:00\",\"2022-09-07T00:00:00\",\"2022-09-08T00:00:00\",\"2022-09-09T00:00:00\",\"2022-09-10T00:00:00\",\"2022-09-11T00:00:00\",\"2022-09-12T00:00:00\",\"2022-09-13T00:00:00\",\"2022-09-14T00:00:00\",\"2022-09-15T00:00:00\",\"2022-09-16T00:00:00\",\"2022-09-17T00:00:00\",\"2022-09-18T00:00:00\",\"2022-09-19T00:00:00\",\"2022-09-20T00:00:00\",\"2022-09-21T00:00:00\",\"2022-09-22T00:00:00\",\"2022-09-23T00:00:00\",\"2022-09-24T00:00:00\",\"2022-09-25T00:00:00\",\"2022-09-26T00:00:00\",\"2022-09-27T00:00:00\",\"2022-09-28T00:00:00\",\"2022-09-29T00:00:00\",\"2022-09-30T00:00:00\",\"2022-10-01T00:00:00\",\"2022-10-02T00:00:00\",\"2022-10-03T00:00:00\",\"2022-10-04T00:00:00\",\"2022-10-05T00:00:00\",\"2022-10-06T00:00:00\",\"2022-10-07T00:00:00\",\"2022-10-08T00:00:00\",\"2022-10-09T00:00:00\",\"2022-10-10T00:00:00\",\"2022-10-11T00:00:00\",\"2022-10-12T00:00:00\",\"2022-10-13T00:00:00\",\"2022-10-14T00:00:00\",\"2022-10-15T00:00:00\",\"2022-10-16T00:00:00\",\"2022-10-17T00:00:00\",\"2022-10-18T00:00:00\",\"2022-10-19T00:00:00\",\"2022-10-20T00:00:00\",\"2022-10-21T00:00:00\",\"2022-10-22T00:00:00\",\"2022-10-23T00:00:00\",\"2022-10-24T00:00:00\",\"2022-10-25T00:00:00\",\"2022-10-26T00:00:00\",\"2022-10-27T00:00:00\",\"2022-10-28T00:00:00\",\"2022-10-29T00:00:00\",\"2022-10-30T00:00:00\",\"2022-10-31T00:00:00\",\"2022-11-01T00:00:00\",\"2022-11-02T00:00:00\",\"2022-11-03T00:00:00\",\"2022-11-04T00:00:00\",\"2022-11-05T00:00:00\",\"2022-11-06T00:00:00\",\"2022-11-07T00:00:00\",\"2022-11-08T00:00:00\",\"2022-11-09T00:00:00\",\"2022-11-10T00:00:00\",\"2022-11-11T00:00:00\",\"2022-11-12T00:00:00\",\"2022-11-13T00:00:00\",\"2022-11-14T00:00:00\",\"2022-11-15T00:00:00\",\"2022-11-16T00:00:00\",\"2022-11-17T00:00:00\",\"2022-11-18T00:00:00\",\"2022-11-19T00:00:00\",\"2022-11-20T00:00:00\",\"2022-11-21T00:00:00\",\"2022-11-22T00:00:00\",\"2022-11-23T00:00:00\",\"2022-11-24T00:00:00\",\"2022-11-25T00:00:00\",\"2022-11-26T00:00:00\",\"2022-11-27T00:00:00\",\"2022-11-28T00:00:00\",\"2022-11-29T00:00:00\",\"2022-11-30T00:00:00\",\"2022-12-01T00:00:00\",\"2022-12-02T00:00:00\",\"2022-12-03T00:00:00\",\"2022-12-04T00:00:00\",\"2022-12-05T00:00:00\",\"2022-12-06T00:00:00\",\"2022-12-07T00:00:00\",\"2022-12-08T00:00:00\",\"2022-12-09T00:00:00\",\"2022-12-10T00:00:00\",\"2022-12-11T00:00:00\",\"2022-12-12T00:00:00\",\"2022-12-13T00:00:00\",\"2022-12-14T00:00:00\",\"2022-12-15T00:00:00\",\"2022-12-16T00:00:00\",\"2022-12-17T00:00:00\",\"2022-12-18T00:00:00\",\"2022-12-19T00:00:00\",\"2022-12-20T00:00:00\",\"2022-12-21T00:00:00\",\"2022-12-22T00:00:00\",\"2022-12-23T00:00:00\",\"2022-12-24T00:00:00\",\"2022-12-25T00:00:00\",\"2022-12-26T00:00:00\",\"2022-12-27T00:00:00\",\"2022-12-28T00:00:00\",\"2022-12-29T00:00:00\",\"2022-12-30T00:00:00\",\"2022-12-31T00:00:00\",\"2023-01-01T00:00:00\",\"2023-01-02T00:00:00\",\"2023-01-03T00:00:00\",\"2023-01-04T00:00:00\",\"2023-01-05T00:00:00\",\"2023-01-06T00:00:00\",\"2023-01-07T00:00:00\",\"2023-01-08T00:00:00\",\"2023-01-09T00:00:00\",\"2023-01-10T00:00:00\",\"2023-01-11T00:00:00\",\"2023-01-12T00:00:00\",\"2023-01-13T00:00:00\",\"2023-01-14T00:00:00\",\"2023-01-15T00:00:00\",\"2023-01-16T00:00:00\",\"2023-01-17T00:00:00\",\"2023-01-18T00:00:00\",\"2023-01-19T00:00:00\",\"2023-01-20T00:00:00\",\"2023-01-21T00:00:00\",\"2023-01-22T00:00:00\",\"2023-01-23T00:00:00\",\"2023-01-24T00:00:00\",\"2023-01-25T00:00:00\",\"2023-01-26T00:00:00\",\"2023-01-27T00:00:00\",\"2023-01-28T00:00:00\",\"2023-01-29T00:00:00\",\"2023-01-30T00:00:00\",\"2023-01-31T00:00:00\",\"2023-02-01T00:00:00\",\"2023-02-02T00:00:00\",\"2023-02-03T00:00:00\",\"2023-02-04T00:00:00\",\"2023-02-05T00:00:00\",\"2023-02-06T00:00:00\",\"2023-02-07T00:00:00\",\"2023-02-08T00:00:00\",\"2023-02-09T00:00:00\",\"2023-02-10T00:00:00\",\"2023-02-11T00:00:00\",\"2023-02-12T00:00:00\",\"2023-02-13T00:00:00\",\"2023-02-14T00:00:00\",\"2023-02-15T00:00:00\",\"2023-02-16T00:00:00\",\"2023-02-17T00:00:00\",\"2023-02-18T00:00:00\",\"2023-02-19T00:00:00\",\"2023-02-20T00:00:00\",\"2023-02-21T00:00:00\",\"2023-02-22T00:00:00\",\"2023-02-23T00:00:00\",\"2023-02-24T00:00:00\",\"2023-02-25T00:00:00\",\"2023-02-26T00:00:00\",\"2023-02-27T00:00:00\",\"2023-02-28T00:00:00\",\"2023-03-01T00:00:00\",\"2023-03-02T00:00:00\",\"2023-03-03T00:00:00\",\"2023-03-04T00:00:00\",\"2023-03-05T00:00:00\",\"2023-03-06T00:00:00\",\"2023-03-07T00:00:00\",\"2023-03-08T00:00:00\",\"2023-03-09T00:00:00\",\"2023-03-10T00:00:00\",\"2023-03-11T00:00:00\",\"2023-03-12T00:00:00\",\"2023-03-13T00:00:00\",\"2023-03-14T00:00:00\",\"2023-03-15T00:00:00\",\"2023-03-16T00:00:00\",\"2023-03-17T00:00:00\",\"2023-03-18T00:00:00\",\"2023-03-19T00:00:00\",\"2023-03-20T00:00:00\",\"2023-03-21T00:00:00\",\"2023-03-22T00:00:00\",\"2023-03-23T00:00:00\",\"2023-03-24T00:00:00\",\"2023-03-25T00:00:00\",\"2023-03-26T00:00:00\",\"2023-03-27T00:00:00\",\"2023-03-28T00:00:00\",\"2023-03-29T00:00:00\",\"2023-03-30T00:00:00\",\"2023-03-31T00:00:00\",\"2023-04-01T00:00:00\",\"2023-04-02T00:00:00\",\"2023-04-03T00:00:00\",\"2023-04-04T00:00:00\",\"2023-04-05T00:00:00\",\"2023-04-06T00:00:00\",\"2023-04-07T00:00:00\",\"2023-04-08T00:00:00\",\"2023-04-09T00:00:00\",\"2023-04-10T00:00:00\",\"2023-04-11T00:00:00\",\"2023-04-12T00:00:00\",\"2023-04-13T00:00:00\",\"2023-04-14T00:00:00\",\"2023-04-15T00:00:00\",\"2023-04-16T00:00:00\",\"2023-04-17T00:00:00\",\"2023-04-18T00:00:00\",\"2023-04-19T00:00:00\",\"2023-04-20T00:00:00\",\"2023-04-21T00:00:00\",\"2023-04-22T00:00:00\",\"2023-04-23T00:00:00\",\"2023-04-24T00:00:00\",\"2023-04-25T00:00:00\",\"2023-04-26T00:00:00\",\"2023-04-27T00:00:00\",\"2023-04-28T00:00:00\",\"2023-04-29T00:00:00\",\"2023-04-30T00:00:00\",\"2023-05-01T00:00:00\",\"2023-05-02T00:00:00\",\"2023-05-03T00:00:00\",\"2023-05-04T00:00:00\",\"2023-05-05T00:00:00\",\"2023-05-06T00:00:00\",\"2023-05-07T00:00:00\",\"2023-05-08T00:00:00\",\"2023-05-09T00:00:00\",\"2023-05-10T00:00:00\",\"2023-05-11T00:00:00\",\"2023-05-12T00:00:00\",\"2023-05-13T00:00:00\",\"2023-05-14T00:00:00\",\"2023-05-15T00:00:00\",\"2023-05-16T00:00:00\",\"2023-05-17T00:00:00\",\"2023-05-18T00:00:00\",\"2023-05-19T00:00:00\",\"2023-05-20T00:00:00\",\"2023-05-21T00:00:00\",\"2023-05-22T00:00:00\",\"2023-05-23T00:00:00\",\"2023-05-24T00:00:00\",\"2023-05-25T00:00:00\",\"2023-05-26T00:00:00\",\"2023-05-27T00:00:00\",\"2023-05-28T00:00:00\",\"2023-05-29T00:00:00\",\"2023-05-30T00:00:00\",\"2023-05-31T00:00:00\",\"2023-06-01T00:00:00\",\"2023-06-02T00:00:00\",\"2023-06-03T00:00:00\",\"2023-06-04T00:00:00\",\"2023-06-05T00:00:00\",\"2023-06-06T00:00:00\",\"2023-06-07T00:00:00\",\"2023-06-08T00:00:00\",\"2023-06-09T00:00:00\",\"2023-06-10T00:00:00\",\"2023-06-11T00:00:00\",\"2023-06-12T00:00:00\",\"2023-06-13T00:00:00\",\"2023-06-14T00:00:00\",\"2023-06-15T00:00:00\",\"2023-06-16T00:00:00\",\"2023-06-17T00:00:00\",\"2023-06-18T00:00:00\",\"2023-06-19T00:00:00\",\"2023-06-20T00:00:00\",\"2023-06-21T00:00:00\",\"2023-06-22T00:00:00\",\"2023-06-23T00:00:00\",\"2023-06-24T00:00:00\",\"2023-06-25T00:00:00\",\"2023-06-26T00:00:00\",\"2023-06-27T00:00:00\",\"2023-06-28T00:00:00\",\"2023-06-29T00:00:00\",\"2023-06-30T00:00:00\",\"2023-07-01T00:00:00\",\"2023-07-02T00:00:00\",\"2023-07-03T00:00:00\",\"2023-07-04T00:00:00\",\"2023-07-05T00:00:00\",\"2023-07-06T00:00:00\",\"2023-07-07T00:00:00\",\"2023-07-08T00:00:00\",\"2023-07-09T00:00:00\",\"2023-07-10T00:00:00\",\"2023-07-11T00:00:00\",\"2023-07-12T00:00:00\",\"2023-07-13T00:00:00\",\"2023-07-14T00:00:00\",\"2023-07-15T00:00:00\",\"2023-07-16T00:00:00\",\"2023-07-17T00:00:00\",\"2023-07-18T00:00:00\",\"2023-07-19T00:00:00\",\"2023-07-20T00:00:00\",\"2023-07-21T00:00:00\",\"2023-07-22T00:00:00\",\"2023-07-23T00:00:00\",\"2023-07-24T00:00:00\",\"2023-07-25T00:00:00\",\"2023-07-26T00:00:00\",\"2023-07-27T00:00:00\",\"2023-07-28T00:00:00\",\"2023-07-29T00:00:00\",\"2023-07-30T00:00:00\",\"2023-07-31T00:00:00\",\"2023-08-01T00:00:00\",\"2023-08-02T00:00:00\",\"2023-08-03T00:00:00\",\"2023-08-04T00:00:00\",\"2023-08-05T00:00:00\",\"2023-08-06T00:00:00\",\"2023-08-07T00:00:00\",\"2023-08-08T00:00:00\",\"2023-08-09T00:00:00\",\"2023-08-10T00:00:00\",\"2023-08-11T00:00:00\",\"2023-08-12T00:00:00\",\"2023-08-13T00:00:00\",\"2023-08-14T00:00:00\",\"2023-08-15T00:00:00\",\"2023-08-16T00:00:00\",\"2023-08-17T00:00:00\",\"2023-08-18T00:00:00\",\"2023-08-19T00:00:00\",\"2023-08-20T00:00:00\",\"2023-08-21T00:00:00\",\"2023-08-22T00:00:00\",\"2023-08-23T00:00:00\",\"2023-08-24T00:00:00\",\"2023-08-25T00:00:00\",\"2023-08-26T00:00:00\"],\"y\":[32.88328069903208,32.9648060650145,33.48081286764443,33.940677257728396,34.55119265327763,35.08014213034871,35.77525715220679,36.50605858689043,37.30174969241228,38.0684406030853,38.99557709601697,39.84241801894631,40.89265032803244,41.77140017305519,42.80751950842883,43.6838890562664,44.671339233586856,45.91546812166948,47.00273444891641,48.01866252395717,49.19050393148793,50.30769932933245,51.56073333300161,52.567193505857624,53.94517109476577,54.88341733069021,56.19610063413476,57.588745435131365,58.61976946209489,59.93664647084907,61.035320130452796,62.05592436142714,63.54564673777368,64.54697902526239,66.0553061516282,67.28644948727214,68.97484318907453,69.70897886987204,71.04437837396208,72.1212714578535,73.506389632265,74.67243333762623,75.71465188773091,77.03702674017775,78.67591518957735,79.46637606964605,81.14834399485939,82.68284703297878,83.31198309630865,85.0465320068642,86.31647657069877,88.24684084696176,89.28653857213271,90.59704189104237,92.09604505375181,93.10739386264963,95.04693241823745,96.56567073706769,98.33838965598362,100.21692009262024,101.74217533871658,103.57882076110546,105.27707679168871,107.10741691344998,108.28724512710856,109.54305836149976,110.91840648291256,112.63803769786001,114.38332393669756,116.16250335360729,117.3834880008813,118.73813604674126,119.93233627708972,121.20402923064374,123.02224833943852,123.73789274863951,124.98088725674856,126.74426911984754,127.95276335523862,129.03814314983657,131.07084597915232,132.75536960953187,134.60189524903947,135.64080335015507,137.56869295685783,138.55765228619816,140.24467579802558,141.04824939407405,143.3857124934649,145.69810342393222,146.602870944725,146.96474483191503,149.9575894121217,150.90846856428138,152.87686446599324,153.54710562483166,155.1462428622646,157.3986884099345,158.88627663629302,160.7032882565557,162.91004930359813,165.49116612586852,167.15932348494258,168.90240109323216,170.3433333970238,171.7934384297327,173.59615130954674,175.36735830210296,177.23279584574556,178.7830956364891,180.6335867327749,182.23394593582628,183.9211841680933,185.50832184203483,186.88754840812697,188.53118568471402,190.70540184411593,192.35471309709504,194.5833765475429,196.10370320813925,198.03501698946735,200.016922568168,201.43603373053736,203.28329815177636,204.6161511666578,206.4670178102606,207.71443731961327,210.3662446833905,211.83161313617808,214.51914962670764,216.72716150754562,218.30988968441739,220.35431107538022,222.22847635218014,224.0225074159769,225.17396812807937,226.93029103602942,228.76412864092487,230.37947303453083,232.27520914441567,234.21890764047916,236.55584122702544,238.33313453295742,240.4077813261734,243.08829772667934,244.1828050724077,245.34184013346916,247.61596120173198,248.6398771583163,250.44445727603127,252.2589640224618,254.27983196646625,256.4815543421045,258.07321504808823,261.15117181073333,263.9794933121347,265.3898345822392,268.0154113219845,268.84485439264046,271.5812104267404,273.9986327006912,275.3403447189024,277.84757466999383,279.56338742088656,280.6296894708922,282.5940195006703,284.637992390299,287.11271003237334,288.62924937625576,292.01133874242,293.68146975065184,295.4277755874475,297.50419016367977,300.4538132657342,302.02853057921385,304.79304995956255,306.07245972551647,307.7797300552924,309.93529939469505,311.38227372765226,313.3072395020205,316.83816125747325,318.53018427260105,321.1074516965668,323.10081484480816,324.67439120939963,326.0324704865303,327.3170448084823,329.83092581417895,332.38999634342485,335.0101549755639,336.49102182931716,338.26178559902496,340.9885667853696,342.3958737750045,344.9120433302089,346.7516434408445,348.334766687505,349.5990141499359,352.35528484589497,353.82610909055506,355.9242036816248,358.9942057163441,362.1835060140462,363.5781047391606,366.23428667177956,369.0554894895689,370.54855004838345,372.93991774904384,375.7332961087186,378.0463460196037,379.61460342679914,381.3650295331859,384.34700674952717,385.811166950101,387.991002553847,389.6061847951099,392.2458800021757,393.6376259163887,396.27117081843755,397.4260063147298,399.90544450793254,401.84822624454335,404.69956319855106,406.8841562434587,409.12028516419184,411.89414254148204,415.150843000988,417.3426391425321,420.4847565092236,423.54499056711796,426.2203609501996,428.17536164880937,430.63166587727113,431.85715405546813,434.55758345724905,437.2312488655,439.22806383136316,441.8897245914023,443.8445129924542,446.6734815021372,449.27302029274546,451.135812946497,453.3875075314175,456.05773458126146,458.1256620249099,459.98279097531724,462.1861985465304,465.4630691091731,467.9069076193548,471.0478241036216,473.36243879222496,476.4114500800106,478.59392435673914,481.36222992025614,483.8829449167185,486.1862135562324,487.945355835135,490.4622099943595,492.7482826331839,495.1402956375353,496.89536925711,500.0010199779075,502.4246522376143,504.252498108176,507.09636979853286,509.89056974685934,513.2112343780943,516.1075906382454,518.1176646322442,521.307304162001,523.1746384706636,526.4930700421303,529.9998578867054,532.210550713246,536.4444082471732,539.4234256736652,544.0703714535296,547.1200844178752,548.9348264981563,549.2519731116602,553.809610241549,557.4631621193131,561.2323115119345,564.4094973128391,565.8836452317973,569.7269614182819,571.1831897404579,574.7293027082515,577.3341466881643,579.2563479929601,581.9833680596929,583.6899088568651,586.1017390766231,588.781605551535,592.3930993884243,593.3962853436659,596.0487165916792,599.7106239259446,600.8299747459401,604.0868863945936,606.2678558199282,609.4580661155713,611.831730177903,614.6648833753079,617.8722454572821,620.5741371672468,624.6889690744587,628.8411755567994,631.6631264147838,635.3680336695176,638.859280353705,643.9219855233558,646.9864071710002,650.3288436826086,652.0051167203931,654.9294549639314,657.3792693095494,661.9369621952424,665.1252257739902,666.564418818496,666.4141195149549,668.2165230187222,669.7479883111532,673.8492446739878,677.9252250587267,681.1554110648871,684.2534090186737,685.5760584890237,687.3279926228523,691.5435876107862,693.8197709949151,697.4357125850022,699.6241657372314,702.7833664826906,706.7157179792005,709.4502163067986,712.4685683376038,716.170450052018,719.2573574139213,722.9773484917821,725.8797922247543,729.083624204323,732.1622740846509,734.8754666776912,737.4670875194456,739.4005554347541,742.6817170235557,746.7960201692088,748.5998335511114,752.5040724697416,755.901622145416,760.3042907525497,764.3270617888805,766.4969078519231,767.9547562012235,769.6645139761675,771.8265279642102,774.8416604384694,777.107528214011,778.9511340903729,779.9357146690264,780.2929449425582,781.1339328390158,783.1669954978727,785.1590313663493,786.8063833940798,789.871988067102],\"type\":\"scatter\"}],                        {\"height\":600,\"showlegend\":false,\"width\":900,\"xaxis\":{\"rangeselector\":{\"buttons\":[{\"count\":7,\"label\":\"1w\",\"step\":\"day\",\"stepmode\":\"backward\"},{\"count\":1,\"label\":\"1m\",\"step\":\"month\",\"stepmode\":\"backward\"},{\"count\":6,\"label\":\"6m\",\"step\":\"month\",\"stepmode\":\"backward\"},{\"count\":1,\"label\":\"1y\",\"step\":\"year\",\"stepmode\":\"backward\"},{\"step\":\"all\"}]},\"rangeslider\":{\"visible\":true},\"title\":{\"text\":\"ds\"},\"type\":\"date\"},\"yaxis\":{\"title\":{\"text\":\"y\"}},\"template\":{\"data\":{\"bar\":[{\"error_x\":{\"color\":\"#2a3f5f\"},\"error_y\":{\"color\":\"#2a3f5f\"},\"marker\":{\"line\":{\"color\":\"#E5ECF6\",\"width\":0.5},\"pattern\":{\"fillmode\":\"overlay\",\"size\":10,\"solidity\":0.2}},\"type\":\"bar\"}],\"barpolar\":[{\"marker\":{\"line\":{\"color\":\"#E5ECF6\",\"width\":0.5},\"pattern\":{\"fillmode\":\"overlay\",\"size\":10,\"solidity\":0.2}},\"type\":\"barpolar\"}],\"carpet\":[{\"aaxis\":{\"endlinecolor\":\"#2a3f5f\",\"gridcolor\":\"white\",\"linecolor\":\"white\",\"minorgridcolor\":\"white\",\"startlinecolor\":\"#2a3f5f\"},\"baxis\":{\"endlinecolor\":\"#2a3f5f\",\"gridcolor\":\"white\",\"linecolor\":\"white\",\"minorgridcolor\":\"white\",\"startlinecolor\":\"#2a3f5f\"},\"type\":\"carpet\"}],\"choropleth\":[{\"colorbar\":{\"outlinewidth\":0,\"ticks\":\"\"},\"type\":\"choropleth\"}],\"contour\":[{\"colorbar\":{\"outlinewidth\":0,\"ticks\":\"\"},\"colorscale\":[[0.0,\"#0d0887\"],[0.1111111111111111,\"#46039f\"],[0.2222222222222222,\"#7201a8\"],[0.3333333333333333,\"#9c179e\"],[0.4444444444444444,\"#bd3786\"],[0.5555555555555556,\"#d8576b\"],[0.6666666666666666,\"#ed7953\"],[0.7777777777777778,\"#fb9f3a\"],[0.8888888888888888,\"#fdca26\"],[1.0,\"#f0f921\"]],\"type\":\"contour\"}],\"contourcarpet\":[{\"colorbar\":{\"outlinewidth\":0,\"ticks\":\"\"},\"type\":\"contourcarpet\"}],\"heatmap\":[{\"colorbar\":{\"outlinewidth\":0,\"ticks\":\"\"},\"colorscale\":[[0.0,\"#0d0887\"],[0.1111111111111111,\"#46039f\"],[0.2222222222222222,\"#7201a8\"],[0.3333333333333333,\"#9c179e\"],[0.4444444444444444,\"#bd3786\"],[0.5555555555555556,\"#d8576b\"],[0.6666666666666666,\"#ed7953\"],[0.7777777777777778,\"#fb9f3a\"],[0.8888888888888888,\"#fdca26\"],[1.0,\"#f0f921\"]],\"type\":\"heatmap\"}],\"heatmapgl\":[{\"colorbar\":{\"outlinewidth\":0,\"ticks\":\"\"},\"colorscale\":[[0.0,\"#0d0887\"],[0.1111111111111111,\"#46039f\"],[0.2222222222222222,\"#7201a8\"],[0.3333333333333333,\"#9c179e\"],[0.4444444444444444,\"#bd3786\"],[0.5555555555555556,\"#d8576b\"],[0.6666666666666666,\"#ed7953\"],[0.7777777777777778,\"#fb9f3a\"],[0.8888888888888888,\"#fdca26\"],[1.0,\"#f0f921\"]],\"type\":\"heatmapgl\"}],\"histogram\":[{\"marker\":{\"pattern\":{\"fillmode\":\"overlay\",\"size\":10,\"solidity\":0.2}},\"type\":\"histogram\"}],\"histogram2d\":[{\"colorbar\":{\"outlinewidth\":0,\"ticks\":\"\"},\"colorscale\":[[0.0,\"#0d0887\"],[0.1111111111111111,\"#46039f\"],[0.2222222222222222,\"#7201a8\"],[0.3333333333333333,\"#9c179e\"],[0.4444444444444444,\"#bd3786\"],[0.5555555555555556,\"#d8576b\"],[0.6666666666666666,\"#ed7953\"],[0.7777777777777778,\"#fb9f3a\"],[0.8888888888888888,\"#fdca26\"],[1.0,\"#f0f921\"]],\"type\":\"histogram2d\"}],\"histogram2dcontour\":[{\"colorbar\":{\"outlinewidth\":0,\"ticks\":\"\"},\"colorscale\":[[0.0,\"#0d0887\"],[0.1111111111111111,\"#46039f\"],[0.2222222222222222,\"#7201a8\"],[0.3333333333333333,\"#9c179e\"],[0.4444444444444444,\"#bd3786\"],[0.5555555555555556,\"#d8576b\"],[0.6666666666666666,\"#ed7953\"],[0.7777777777777778,\"#fb9f3a\"],[0.8888888888888888,\"#fdca26\"],[1.0,\"#f0f921\"]],\"type\":\"histogram2dcontour\"}],\"mesh3d\":[{\"colorbar\":{\"outlinewidth\":0,\"ticks\":\"\"},\"type\":\"mesh3d\"}],\"parcoords\":[{\"line\":{\"colorbar\":{\"outlinewidth\":0,\"ticks\":\"\"}},\"type\":\"parcoords\"}],\"pie\":[{\"automargin\":true,\"type\":\"pie\"}],\"scatter\":[{\"marker\":{\"colorbar\":{\"outlinewidth\":0,\"ticks\":\"\"}},\"type\":\"scatter\"}],\"scatter3d\":[{\"line\":{\"colorbar\":{\"outlinewidth\":0,\"ticks\":\"\"}},\"marker\":{\"colorbar\":{\"outlinewidth\":0,\"ticks\":\"\"}},\"type\":\"scatter3d\"}],\"scattercarpet\":[{\"marker\":{\"colorbar\":{\"outlinewidth\":0,\"ticks\":\"\"}},\"type\":\"scattercarpet\"}],\"scattergeo\":[{\"marker\":{\"colorbar\":{\"outlinewidth\":0,\"ticks\":\"\"}},\"type\":\"scattergeo\"}],\"scattergl\":[{\"marker\":{\"colorbar\":{\"outlinewidth\":0,\"ticks\":\"\"}},\"type\":\"scattergl\"}],\"scattermapbox\":[{\"marker\":{\"colorbar\":{\"outlinewidth\":0,\"ticks\":\"\"}},\"type\":\"scattermapbox\"}],\"scatterpolar\":[{\"marker\":{\"colorbar\":{\"outlinewidth\":0,\"ticks\":\"\"}},\"type\":\"scatterpolar\"}],\"scatterpolargl\":[{\"marker\":{\"colorbar\":{\"outlinewidth\":0,\"ticks\":\"\"}},\"type\":\"scatterpolargl\"}],\"scatterternary\":[{\"marker\":{\"colorbar\":{\"outlinewidth\":0,\"ticks\":\"\"}},\"type\":\"scatterternary\"}],\"surface\":[{\"colorbar\":{\"outlinewidth\":0,\"ticks\":\"\"},\"colorscale\":[[0.0,\"#0d0887\"],[0.1111111111111111,\"#46039f\"],[0.2222222222222222,\"#7201a8\"],[0.3333333333333333,\"#9c179e\"],[0.4444444444444444,\"#bd3786\"],[0.5555555555555556,\"#d8576b\"],[0.6666666666666666,\"#ed7953\"],[0.7777777777777778,\"#fb9f3a\"],[0.8888888888888888,\"#fdca26\"],[1.0,\"#f0f921\"]],\"type\":\"surface\"}],\"table\":[{\"cells\":{\"fill\":{\"color\":\"#EBF0F8\"},\"line\":{\"color\":\"white\"}},\"header\":{\"fill\":{\"color\":\"#C8D4E3\"},\"line\":{\"color\":\"white\"}},\"type\":\"table\"}]},\"layout\":{\"annotationdefaults\":{\"arrowcolor\":\"#2a3f5f\",\"arrowhead\":0,\"arrowwidth\":1},\"autotypenumbers\":\"strict\",\"coloraxis\":{\"colorbar\":{\"outlinewidth\":0,\"ticks\":\"\"}},\"colorscale\":{\"diverging\":[[0,\"#8e0152\"],[0.1,\"#c51b7d\"],[0.2,\"#de77ae\"],[0.3,\"#f1b6da\"],[0.4,\"#fde0ef\"],[0.5,\"#f7f7f7\"],[0.6,\"#e6f5d0\"],[0.7,\"#b8e186\"],[0.8,\"#7fbc41\"],[0.9,\"#4d9221\"],[1,\"#276419\"]],\"sequential\":[[0.0,\"#0d0887\"],[0.1111111111111111,\"#46039f\"],[0.2222222222222222,\"#7201a8\"],[0.3333333333333333,\"#9c179e\"],[0.4444444444444444,\"#bd3786\"],[0.5555555555555556,\"#d8576b\"],[0.6666666666666666,\"#ed7953\"],[0.7777777777777778,\"#fb9f3a\"],[0.8888888888888888,\"#fdca26\"],[1.0,\"#f0f921\"]],\"sequentialminus\":[[0.0,\"#0d0887\"],[0.1111111111111111,\"#46039f\"],[0.2222222222222222,\"#7201a8\"],[0.3333333333333333,\"#9c179e\"],[0.4444444444444444,\"#bd3786\"],[0.5555555555555556,\"#d8576b\"],[0.6666666666666666,\"#ed7953\"],[0.7777777777777778,\"#fb9f3a\"],[0.8888888888888888,\"#fdca26\"],[1.0,\"#f0f921\"]]},\"colorway\":[\"#636efa\",\"#EF553B\",\"#00cc96\",\"#ab63fa\",\"#FFA15A\",\"#19d3f3\",\"#FF6692\",\"#B6E880\",\"#FF97FF\",\"#FECB52\"],\"font\":{\"color\":\"#2a3f5f\"},\"geo\":{\"bgcolor\":\"white\",\"lakecolor\":\"white\",\"landcolor\":\"#E5ECF6\",\"showlakes\":true,\"showland\":true,\"subunitcolor\":\"white\"},\"hoverlabel\":{\"align\":\"left\"},\"hovermode\":\"closest\",\"mapbox\":{\"style\":\"light\"},\"paper_bgcolor\":\"white\",\"plot_bgcolor\":\"#E5ECF6\",\"polar\":{\"angularaxis\":{\"gridcolor\":\"white\",\"linecolor\":\"white\",\"ticks\":\"\"},\"bgcolor\":\"#E5ECF6\",\"radialaxis\":{\"gridcolor\":\"white\",\"linecolor\":\"white\",\"ticks\":\"\"}},\"scene\":{\"xaxis\":{\"backgroundcolor\":\"#E5ECF6\",\"gridcolor\":\"white\",\"gridwidth\":2,\"linecolor\":\"white\",\"showbackground\":true,\"ticks\":\"\",\"zerolinecolor\":\"white\"},\"yaxis\":{\"backgroundcolor\":\"#E5ECF6\",\"gridcolor\":\"white\",\"gridwidth\":2,\"linecolor\":\"white\",\"showbackground\":true,\"ticks\":\"\",\"zerolinecolor\":\"white\"},\"zaxis\":{\"backgroundcolor\":\"#E5ECF6\",\"gridcolor\":\"white\",\"gridwidth\":2,\"linecolor\":\"white\",\"showbackground\":true,\"ticks\":\"\",\"zerolinecolor\":\"white\"}},\"shapedefaults\":{\"line\":{\"color\":\"#2a3f5f\"}},\"ternary\":{\"aaxis\":{\"gridcolor\":\"white\",\"linecolor\":\"white\",\"ticks\":\"\"},\"baxis\":{\"gridcolor\":\"white\",\"linecolor\":\"white\",\"ticks\":\"\"},\"bgcolor\":\"#E5ECF6\",\"caxis\":{\"gridcolor\":\"white\",\"linecolor\":\"white\",\"ticks\":\"\"}},\"title\":{\"x\":0.05},\"xaxis\":{\"automargin\":true,\"gridcolor\":\"white\",\"linecolor\":\"white\",\"ticks\":\"\",\"title\":{\"standoff\":15},\"zerolinecolor\":\"white\",\"zerolinewidth\":2},\"yaxis\":{\"automargin\":true,\"gridcolor\":\"white\",\"linecolor\":\"white\",\"ticks\":\"\",\"title\":{\"standoff\":15},\"zerolinecolor\":\"white\",\"zerolinewidth\":2}}}},                        {\"responsive\": true}                    ).then(function(){\n",
              "                            \n",
              "var gd = document.getElementById('93d7a304-24be-40f0-985c-5a5b2013360f');\n",
              "var x = new MutationObserver(function (mutations, observer) {{\n",
              "        var display = window.getComputedStyle(gd).display;\n",
              "        if (!display || display === 'none') {{\n",
              "            console.log([gd, 'removed!']);\n",
              "            Plotly.purge(gd);\n",
              "            observer.disconnect();\n",
              "        }}\n",
              "}});\n",
              "\n",
              "// Listen for the removal of the full notebook cells\n",
              "var notebookContainer = gd.closest('#notebook-container');\n",
              "if (notebookContainer) {{\n",
              "    x.observe(notebookContainer, {childList: true});\n",
              "}}\n",
              "\n",
              "// Listen for the clearing of the current output cell\n",
              "var outputEl = gd.closest('.output');\n",
              "if (outputEl) {{\n",
              "    x.observe(outputEl, {childList: true});\n",
              "}}\n",
              "\n",
              "                        })                };                            </script>        </div>\n",
              "</body>\n",
              "</html>"
            ]
          },
          "metadata": {}
        }
      ]
    },
    {
      "cell_type": "markdown",
      "metadata": {
        "id": "P_n8dloD9QJ7"
      },
      "source": [
        "## Implement Gas Predictor"
      ]
    },
    {
      "cell_type": "code",
      "execution_count": null,
      "metadata": {
        "id": "yEZEGVqK3Ows"
      },
      "outputs": [],
      "source": [
        "dataset_path = \"/content/drive/MyDrive/Datasets/Forecasting/gas.csv\"\n",
        "df = pd.read_csv(dataset_path)"
      ]
    },
    {
      "cell_type": "code",
      "execution_count": null,
      "metadata": {
        "colab": {
          "base_uri": "https://localhost:8080/",
          "height": 204
        },
        "id": "21-CkR4X-V50",
        "outputId": "2cb01b2a-f3b0-4098-dee5-de26d7b14719"
      },
      "outputs": [
        {
          "data": {
            "text/html": [
              "\n",
              "  <div id=\"df-afe950a2-1e2d-4e2c-a63a-406a0bcacac2\">\n",
              "    <div class=\"colab-df-container\">\n",
              "      <div>\n",
              "<style scoped>\n",
              "    .dataframe tbody tr th:only-of-type {\n",
              "        vertical-align: middle;\n",
              "    }\n",
              "\n",
              "    .dataframe tbody tr th {\n",
              "        vertical-align: top;\n",
              "    }\n",
              "\n",
              "    .dataframe thead th {\n",
              "        text-align: right;\n",
              "    }\n",
              "</style>\n",
              "<table border=\"1\" class=\"dataframe\">\n",
              "  <thead>\n",
              "    <tr style=\"text-align: right;\">\n",
              "      <th></th>\n",
              "      <th>Time</th>\n",
              "      <th>y</th>\n",
              "    </tr>\n",
              "  </thead>\n",
              "  <tbody>\n",
              "    <tr>\n",
              "      <th>0</th>\n",
              "      <td>2022-06-05 21:07:11</td>\n",
              "      <td>4095</td>\n",
              "    </tr>\n",
              "    <tr>\n",
              "      <th>1</th>\n",
              "      <td>2022-06-05 21:07:13</td>\n",
              "      <td>4095</td>\n",
              "    </tr>\n",
              "    <tr>\n",
              "      <th>2</th>\n",
              "      <td>2022-06-05 21:07:16</td>\n",
              "      <td>4095</td>\n",
              "    </tr>\n",
              "    <tr>\n",
              "      <th>3</th>\n",
              "      <td>2022-06-05 21:07:18</td>\n",
              "      <td>4095</td>\n",
              "    </tr>\n",
              "    <tr>\n",
              "      <th>4</th>\n",
              "      <td>2022-06-05 21:07:21</td>\n",
              "      <td>4095</td>\n",
              "    </tr>\n",
              "  </tbody>\n",
              "</table>\n",
              "</div>\n",
              "      <button class=\"colab-df-convert\" onclick=\"convertToInteractive('df-afe950a2-1e2d-4e2c-a63a-406a0bcacac2')\"\n",
              "              title=\"Convert this dataframe to an interactive table.\"\n",
              "              style=\"display:none;\">\n",
              "        \n",
              "  <svg xmlns=\"http://www.w3.org/2000/svg\" height=\"24px\"viewBox=\"0 0 24 24\"\n",
              "       width=\"24px\">\n",
              "    <path d=\"M0 0h24v24H0V0z\" fill=\"none\"/>\n",
              "    <path d=\"M18.56 5.44l.94 2.06.94-2.06 2.06-.94-2.06-.94-.94-2.06-.94 2.06-2.06.94zm-11 1L8.5 8.5l.94-2.06 2.06-.94-2.06-.94L8.5 2.5l-.94 2.06-2.06.94zm10 10l.94 2.06.94-2.06 2.06-.94-2.06-.94-.94-2.06-.94 2.06-2.06.94z\"/><path d=\"M17.41 7.96l-1.37-1.37c-.4-.4-.92-.59-1.43-.59-.52 0-1.04.2-1.43.59L10.3 9.45l-7.72 7.72c-.78.78-.78 2.05 0 2.83L4 21.41c.39.39.9.59 1.41.59.51 0 1.02-.2 1.41-.59l7.78-7.78 2.81-2.81c.8-.78.8-2.07 0-2.86zM5.41 20L4 18.59l7.72-7.72 1.47 1.35L5.41 20z\"/>\n",
              "  </svg>\n",
              "      </button>\n",
              "      \n",
              "  <style>\n",
              "    .colab-df-container {\n",
              "      display:flex;\n",
              "      flex-wrap:wrap;\n",
              "      gap: 12px;\n",
              "    }\n",
              "\n",
              "    .colab-df-convert {\n",
              "      background-color: #E8F0FE;\n",
              "      border: none;\n",
              "      border-radius: 50%;\n",
              "      cursor: pointer;\n",
              "      display: none;\n",
              "      fill: #1967D2;\n",
              "      height: 32px;\n",
              "      padding: 0 0 0 0;\n",
              "      width: 32px;\n",
              "    }\n",
              "\n",
              "    .colab-df-convert:hover {\n",
              "      background-color: #E2EBFA;\n",
              "      box-shadow: 0px 1px 2px rgba(60, 64, 67, 0.3), 0px 1px 3px 1px rgba(60, 64, 67, 0.15);\n",
              "      fill: #174EA6;\n",
              "    }\n",
              "\n",
              "    [theme=dark] .colab-df-convert {\n",
              "      background-color: #3B4455;\n",
              "      fill: #D2E3FC;\n",
              "    }\n",
              "\n",
              "    [theme=dark] .colab-df-convert:hover {\n",
              "      background-color: #434B5C;\n",
              "      box-shadow: 0px 1px 3px 1px rgba(0, 0, 0, 0.15);\n",
              "      filter: drop-shadow(0px 1px 2px rgba(0, 0, 0, 0.3));\n",
              "      fill: #FFFFFF;\n",
              "    }\n",
              "  </style>\n",
              "\n",
              "      <script>\n",
              "        const buttonEl =\n",
              "          document.querySelector('#df-afe950a2-1e2d-4e2c-a63a-406a0bcacac2 button.colab-df-convert');\n",
              "        buttonEl.style.display =\n",
              "          google.colab.kernel.accessAllowed ? 'block' : 'none';\n",
              "\n",
              "        async function convertToInteractive(key) {\n",
              "          const element = document.querySelector('#df-afe950a2-1e2d-4e2c-a63a-406a0bcacac2');\n",
              "          const dataTable =\n",
              "            await google.colab.kernel.invokeFunction('convertToInteractive',\n",
              "                                                     [key], {});\n",
              "          if (!dataTable) return;\n",
              "\n",
              "          const docLinkHtml = 'Like what you see? Visit the ' +\n",
              "            '<a target=\"_blank\" href=https://colab.research.google.com/notebooks/data_table.ipynb>data table notebook</a>'\n",
              "            + ' to learn more about interactive tables.';\n",
              "          element.innerHTML = '';\n",
              "          dataTable['output_type'] = 'display_data';\n",
              "          await google.colab.output.renderOutput(dataTable, element);\n",
              "          const docLink = document.createElement('div');\n",
              "          docLink.innerHTML = docLinkHtml;\n",
              "          element.appendChild(docLink);\n",
              "        }\n",
              "      </script>\n",
              "    </div>\n",
              "  </div>\n",
              "  "
            ],
            "text/plain": [
              "                  Time     y\n",
              "0  2022-06-05 21:07:11  4095\n",
              "1  2022-06-05 21:07:13  4095\n",
              "2  2022-06-05 21:07:16  4095\n",
              "3  2022-06-05 21:07:18  4095\n",
              "4  2022-06-05 21:07:21  4095"
            ]
          },
          "execution_count": 47,
          "metadata": {},
          "output_type": "execute_result"
        }
      ],
      "source": [
        "df.head()"
      ]
    },
    {
      "cell_type": "code",
      "execution_count": null,
      "metadata": {
        "colab": {
          "base_uri": "https://localhost:8080/"
        },
        "id": "pfJpy6jF_M8R",
        "outputId": "2544cf11-85d7-46d3-ace4-9e921e847d97"
      },
      "outputs": [
        {
          "data": {
            "text/plain": [
              "4288"
            ]
          },
          "execution_count": 14,
          "metadata": {},
          "output_type": "execute_result"
        }
      ],
      "source": [
        "df['y'].size"
      ]
    },
    {
      "cell_type": "code",
      "execution_count": null,
      "metadata": {
        "colab": {
          "base_uri": "https://localhost:8080/"
        },
        "id": "4C71CXhmYkGd",
        "outputId": "6ac3f878-601a-4747-80a4-3399b08b6806"
      },
      "outputs": [
        {
          "name": "stderr",
          "output_type": "stream",
          "text": [
            "/usr/local/lib/python3.7/dist-packages/ipykernel_launcher.py:1: SettingWithCopyWarning: \n",
            "A value is trying to be set on a copy of a slice from a DataFrame\n",
            "\n",
            "See the caveats in the documentation: https://pandas.pydata.org/pandas-docs/stable/user_guide/indexing.html#returning-a-view-versus-a-copy\n",
            "  \"\"\"Entry point for launching an IPython kernel.\n"
          ]
        }
      ],
      "source": [
        "df['y'][0:4288] = 4095"
      ]
    },
    {
      "cell_type": "code",
      "execution_count": null,
      "metadata": {
        "colab": {
          "base_uri": "https://localhost:8080/",
          "height": 265
        },
        "id": "tKn0xnRo4XDd",
        "outputId": "5783fd06-65cf-4efc-ce61-c19e617c4edc"
      },
      "outputs": [
        {
          "data": {
            "image/png": "[encoded data removed]",
            "text/plain": [
              "<Figure size 432x288 with 1 Axes>"
            ]
          },
          "metadata": {
            "needs_background": "light"
          },
          "output_type": "display_data"
        }
      ],
      "source": [
        "#evolution over time of our data\n",
        "plot_cols = ['y']\n",
        "plot_features = df[plot_cols]\n",
        "_ = plot_features.plot(subplots=True)"
      ]
    },
    {
      "cell_type": "code",
      "execution_count": null,
      "metadata": {
        "colab": {
          "base_uri": "https://localhost:8080/"
        },
        "id": "oTvEEeo-Y03h",
        "outputId": "8f48826c-906c-4b56-8a3e-3d81e3454c10"
      },
      "outputs": [
        {
          "name": "stderr",
          "output_type": "stream",
          "text": [
            "/usr/local/lib/python3.7/dist-packages/ipykernel_launcher.py:1: SettingWithCopyWarning: \n",
            "A value is trying to be set on a copy of a slice from a DataFrame\n",
            "\n",
            "See the caveats in the documentation: https://pandas.pydata.org/pandas-docs/stable/user_guide/indexing.html#returning-a-view-versus-a-copy\n",
            "  \"\"\"Entry point for launching an IPython kernel.\n"
          ]
        }
      ],
      "source": [
        "df['y'][3000:4000] = [4095 for i in range(0,1000)]"
      ]
    },
    {
      "cell_type": "code",
      "execution_count": null,
      "metadata": {
        "colab": {
          "base_uri": "https://localhost:8080/",
          "height": 80
        },
        "id": "aHBytLqO5cp2",
        "outputId": "f2bb0c63-6fd7-4ed8-f739-a62040c5f32c"
      },
      "outputs": [
        {
          "data": {
            "text/html": [
              "\n",
              "  <div id=\"df-72886fde-81b1-45f7-81da-85b87bff5b01\">\n",
              "    <div class=\"colab-df-container\">\n",
              "      <div>\n",
              "<style scoped>\n",
              "    .dataframe tbody tr th:only-of-type {\n",
              "        vertical-align: middle;\n",
              "    }\n",
              "\n",
              "    .dataframe tbody tr th {\n",
              "        vertical-align: top;\n",
              "    }\n",
              "\n",
              "    .dataframe thead th {\n",
              "        text-align: right;\n",
              "    }\n",
              "</style>\n",
              "<table border=\"1\" class=\"dataframe\">\n",
              "  <thead>\n",
              "    <tr style=\"text-align: right;\">\n",
              "      <th></th>\n",
              "      <th>count</th>\n",
              "      <th>mean</th>\n",
              "      <th>std</th>\n",
              "      <th>min</th>\n",
              "      <th>25%</th>\n",
              "      <th>50%</th>\n",
              "      <th>75%</th>\n",
              "      <th>max</th>\n",
              "    </tr>\n",
              "  </thead>\n",
              "  <tbody>\n",
              "    <tr>\n",
              "      <th>y</th>\n",
              "      <td>4288.0</td>\n",
              "      <td>3134.295709</td>\n",
              "      <td>1635.698257</td>\n",
              "      <td>350.0</td>\n",
              "      <td>350.0</td>\n",
              "      <td>4095.0</td>\n",
              "      <td>4095.0</td>\n",
              "      <td>4095.0</td>\n",
              "    </tr>\n",
              "  </tbody>\n",
              "</table>\n",
              "</div>\n",
              "      <button class=\"colab-df-convert\" onclick=\"convertToInteractive('df-72886fde-81b1-45f7-81da-85b87bff5b01')\"\n",
              "              title=\"Convert this dataframe to an interactive table.\"\n",
              "              style=\"display:none;\">\n",
              "        \n",
              "  <svg xmlns=\"http://www.w3.org/2000/svg\" height=\"24px\"viewBox=\"0 0 24 24\"\n",
              "       width=\"24px\">\n",
              "    <path d=\"M0 0h24v24H0V0z\" fill=\"none\"/>\n",
              "    <path d=\"M18.56 5.44l.94 2.06.94-2.06 2.06-.94-2.06-.94-.94-2.06-.94 2.06-2.06.94zm-11 1L8.5 8.5l.94-2.06 2.06-.94-2.06-.94L8.5 2.5l-.94 2.06-2.06.94zm10 10l.94 2.06.94-2.06 2.06-.94-2.06-.94-.94-2.06-.94 2.06-2.06.94z\"/><path d=\"M17.41 7.96l-1.37-1.37c-.4-.4-.92-.59-1.43-.59-.52 0-1.04.2-1.43.59L10.3 9.45l-7.72 7.72c-.78.78-.78 2.05 0 2.83L4 21.41c.39.39.9.59 1.41.59.51 0 1.02-.2 1.41-.59l7.78-7.78 2.81-2.81c.8-.78.8-2.07 0-2.86zM5.41 20L4 18.59l7.72-7.72 1.47 1.35L5.41 20z\"/>\n",
              "  </svg>\n",
              "      </button>\n",
              "      \n",
              "  <style>\n",
              "    .colab-df-container {\n",
              "      display:flex;\n",
              "      flex-wrap:wrap;\n",
              "      gap: 12px;\n",
              "    }\n",
              "\n",
              "    .colab-df-convert {\n",
              "      background-color: #E8F0FE;\n",
              "      border: none;\n",
              "      border-radius: 50%;\n",
              "      cursor: pointer;\n",
              "      display: none;\n",
              "      fill: #1967D2;\n",
              "      height: 32px;\n",
              "      padding: 0 0 0 0;\n",
              "      width: 32px;\n",
              "    }\n",
              "\n",
              "    .colab-df-convert:hover {\n",
              "      background-color: #E2EBFA;\n",
              "      box-shadow: 0px 1px 2px rgba(60, 64, 67, 0.3), 0px 1px 3px 1px rgba(60, 64, 67, 0.15);\n",
              "      fill: #174EA6;\n",
              "    }\n",
              "\n",
              "    [theme=dark] .colab-df-convert {\n",
              "      background-color: #3B4455;\n",
              "      fill: #D2E3FC;\n",
              "    }\n",
              "\n",
              "    [theme=dark] .colab-df-convert:hover {\n",
              "      background-color: #434B5C;\n",
              "      box-shadow: 0px 1px 3px 1px rgba(0, 0, 0, 0.15);\n",
              "      filter: drop-shadow(0px 1px 2px rgba(0, 0, 0, 0.3));\n",
              "      fill: #FFFFFF;\n",
              "    }\n",
              "  </style>\n",
              "\n",
              "      <script>\n",
              "        const buttonEl =\n",
              "          document.querySelector('#df-72886fde-81b1-45f7-81da-85b87bff5b01 button.colab-df-convert');\n",
              "        buttonEl.style.display =\n",
              "          google.colab.kernel.accessAllowed ? 'block' : 'none';\n",
              "\n",
              "        async function convertToInteractive(key) {\n",
              "          const element = document.querySelector('#df-72886fde-81b1-45f7-81da-85b87bff5b01');\n",
              "          const dataTable =\n",
              "            await google.colab.kernel.invokeFunction('convertToInteractive',\n",
              "                                                     [key], {});\n",
              "          if (!dataTable) return;\n",
              "\n",
              "          const docLinkHtml = 'Like what you see? Visit the ' +\n",
              "            '<a target=\"_blank\" href=https://colab.research.google.com/notebooks/data_table.ipynb>data table notebook</a>'\n",
              "            + ' to learn more about interactive tables.';\n",
              "          element.innerHTML = '';\n",
              "          dataTable['output_type'] = 'display_data';\n",
              "          await google.colab.output.renderOutput(dataTable, element);\n",
              "          const docLink = document.createElement('div');\n",
              "          docLink.innerHTML = docLinkHtml;\n",
              "          element.appendChild(docLink);\n",
              "        }\n",
              "      </script>\n",
              "    </div>\n",
              "  </div>\n",
              "  "
            ],
            "text/plain": [
              "    count         mean          std    min    25%     50%     75%     max\n",
              "y  4288.0  3134.295709  1635.698257  350.0  350.0  4095.0  4095.0  4095.0"
            ]
          },
          "execution_count": 75,
          "metadata": {},
          "output_type": "execute_result"
        }
      ],
      "source": [
        "df.describe().transpose()"
      ]
    },
    {
      "cell_type": "code",
      "execution_count": null,
      "metadata": {
        "id": "rExbYodZWgNb"
      },
      "outputs": [],
      "source": [
        "nrows = (len(df.values))\n",
        "splitPoint = int (nrows * 0.50)\n",
        "train = df['y'] [:splitPoint]\n",
        "test = df ['y'] [splitPoint:]"
      ]
    },
    {
      "cell_type": "markdown",
      "metadata": {
        "id": "EijrLNzNcQQX"
      },
      "source": [
        "Check for stationarity "
      ]
    },
    {
      "cell_type": "code",
      "execution_count": null,
      "metadata": {
        "colab": {
          "base_uri": "https://localhost:8080/"
        },
        "id": "uDjqEB3WcOJ1",
        "outputId": "5e2fc108-6c9c-42d4-d5bc-e44f7ebc9a9a"
      },
      "outputs": [
        {
          "name": "stdout",
          "output_type": "stream",
          "text": [
            "ADF Statistic: -2.005413\n",
            "p-value: 0.284205\n"
          ]
        }
      ],
      "source": [
        " # Check whether the time-series is stationary through the Dickey-Fuller test\n",
        "from statsmodels.tsa.stattools import adfuller\n",
        "result = adfuller(train)\n",
        "\n",
        "print('ADF Statistic: %f' % result[0])\n",
        "print('p-value: %f' % result[1])"
      ]
    },
    {
      "cell_type": "code",
      "execution_count": null,
      "metadata": {
        "colab": {
          "base_uri": "https://localhost:8080/"
        },
        "id": "VF-2hbHnct40",
        "outputId": "71149065-364c-4cc3-edcc-5474b2157c6b"
      },
      "outputs": [
        {
          "name": "stdout",
          "output_type": "stream",
          "text": [
            "ADF Statistic: -46.260134\n",
            "p-value: 0.000000\n"
          ]
        }
      ],
      "source": [
        "train_new = train.diff().dropna()\n",
        "result = adfuller(train_new)\n",
        "\n",
        "print('ADF Statistic: %f' % result[0])\n",
        "print('p-value: %f' % result[1])"
      ]
    },
    {
      "cell_type": "code",
      "execution_count": null,
      "metadata": {
        "colab": {
          "base_uri": "https://localhost:8080/",
          "height": 281
        },
        "id": "uxU3f2VWc8iV",
        "outputId": "77f0252b-2e48-455e-d89a-e0acd5e1601c"
      },
      "outputs": [
        {
          "data": {
            "image/png": "[encoded data removed]",
            "text/plain": [
              "<Figure size 432x288 with 1 Axes>"
            ]
          },
          "metadata": {
            "needs_background": "light"
          },
          "output_type": "display_data"
        }
      ],
      "source": [
        "from statsmodels.graphics import tsaplots\n",
        "fig = tsaplots.plot_acf(train, lags=10)\n",
        "plt.show()"
      ]
    },
    {
      "cell_type": "code",
      "execution_count": null,
      "metadata": {
        "colab": {
          "base_uri": "https://localhost:8080/",
          "height": 281
        },
        "id": "r7n3lZBedz1P",
        "outputId": "ebef80e6-c699-4bb8-f3bb-b189f5d8a8f4"
      },
      "outputs": [
        {
          "data": {
            "image/png": "[encoded data removed]",
            "text/plain": [
              "<Figure size 432x288 with 1 Axes>"
            ]
          },
          "metadata": {
            "needs_background": "light"
          },
          "output_type": "display_data"
        }
      ],
      "source": [
        "fig = tsaplots.plot_pacf(train, lags=10)\n",
        "plt.show()"
      ]
    },
    {
      "cell_type": "code",
      "execution_count": null,
      "metadata": {
        "id": "-h_kP0EcCe1j"
      },
      "outputs": [],
      "source": [
        "# Apply ARIMA model\n",
        "from statsmodels.tsa.arima_model import ARIMA\n",
        "history = list(np.array([x for x in train_new]).astype('float64'))\n",
        "predictions = list()\n",
        "print(test)\n",
        "for t in test.index:\n",
        "  model = ARIMA(history, order=(1,1,1))\n",
        "  model_fit = model.fit()\n",
        "  output = model_fit.forecast()\n",
        "  yest = output[0]\n",
        "  predictions.append(yest)\n",
        "  obs= test[t]\n",
        "  history.append(obs)\n",
        "  print ('predicted=%f, expected=%f' % (yest, obs))"
      ]
    },
    {
      "cell_type": "code",
      "execution_count": null,
      "metadata": {
        "colab": {
          "base_uri": "https://localhost:8080/",
          "height": 282
        },
        "id": "llGspgKFg5Uk",
        "outputId": "545e00f7-41cd-4142-f881-5f5d6214326e"
      },
      "outputs": [
        {
          "name": "stdout",
          "output_type": "stream",
          "text": [
            "Test RMSE: 180.939\n"
          ]
        },
        {
          "data": {
            "image/png": "[encoded data removed]",
            "text/plain": [
              "<Figure size 432x288 with 1 Axes>"
            ]
          },
          "metadata": {
            "needs_background": "light"
          },
          "output_type": "display_data"
        }
      ],
      "source": [
        "import math\n",
        "from sklearn.metrics import mean_squared_error\n",
        "\n",
        "rmse = math.sqrt(mean_squared_error(test, predictions))\n",
        "print('Test RMSE: %.3f'% rmse)\n",
        "\n",
        "df2 = pd. DataFrame (predictions)\n",
        "df2. set_index(test.index, inplace=True)\n",
        "plt.plot(test)\n",
        "plt.plot(df2, color='red')\n",
        "plt.show()"
      ]
    },
    {
      "cell_type": "code",
      "execution_count": null,
      "metadata": {
        "colab": {
          "base_uri": "https://localhost:8080/",
          "height": 282
        },
        "id": "7NWHjStlNQyL",
        "outputId": "042b4624-a82e-44f3-d65d-45b279eb538b"
      },
      "outputs": [
        {
          "data": {
            "text/plain": [
              "[<matplotlib.lines.Line2D at 0x7f149e7ec910>]"
            ]
          },
          "execution_count": 83,
          "metadata": {},
          "output_type": "execute_result"
        },
        {
          "data": {
            "image/png": "[encoded data removed]",
            "text/plain": [
              "<Figure size 432x288 with 1 Axes>"
            ]
          },
          "metadata": {
            "needs_background": "light"
          },
          "output_type": "display_data"
        }
      ],
      "source": [
        "plt.plot(test)\n"
      ]
    },
    {
      "cell_type": "code",
      "execution_count": null,
      "metadata": {
        "id": "3lq2xSRwSodF"
      },
      "outputs": [],
      "source": [
        "import pickle\n",
        "pickle.dump(model_fit, open('gas-model', 'wb'))"
      ]
    }
  ],
  "metadata": {
    "colab": {
      "collapsed_sections": [],
      "name": "forecasting.ipynb",
      "provenance": []
    },
    "interpreter": {
      "hash": "6ab6f325c139420c901eb2a338a56d1814c8c09a35ae652d680ca2cefe53e16a"
    },
    "kernelspec": {
      "display_name": "Python 3.7.6 ('base')",
      "language": "python",
      "name": "python3"
    },
    "language_info": {
      "codemirror_mode": {
        "name": "ipython",
        "version": 3
      },
      "file_extension": ".py",
      "mimetype": "text/x-python",
      "name": "python",
      "nbconvert_exporter": "python",
      "pygments_lexer": "ipython3",
      "version": "3.7.6"
    },
    "orig_nbformat": 4
  },
  "nbformat": 4,
  "nbformat_minor": 0
}