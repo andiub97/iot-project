{
  "cells": [
    {
      "cell_type": "markdown",
      "metadata": {
        "id": "fo4D4Yio9KGo"
      },
      "source": [
        "# Data Forecasting with prophet\n"
      ]
    },
    {
      "cell_type": "markdown",
      "metadata": {},
      "source": [
        "# PROPHET PREDICTION"
      ]
    },
    {
      "cell_type": "markdown",
      "metadata": {},
      "source": [
        "## TESTO"
      ]
    },
    {
      "cell_type": "markdown",
      "metadata": {
        "id": "ljmAefVR9MU7"
      },
      "source": [
        "## Import Dependencies"
      ]
    },
    {
      "cell_type": "code",
      "execution_count": 1,
      "metadata": {},
      "outputs": [
        {
          "name": "stdout",
          "output_type": "stream",
          "text": [
            "Defaulting to user installation because normal site-packages is not writeable\n",
            "Requirement already satisfied: chart_studio in /Users/riccardobaratin/Library/Python/3.8/lib/python/site-packages (1.1.0)\n",
            "Requirement already satisfied: requests in /Users/riccardobaratin/Library/Python/3.8/lib/python/site-packages (from chart_studio) (2.28.1)\n",
            "Requirement already satisfied: six in /Library/Developer/CommandLineTools/Library/Frameworks/Python3.framework/Versions/3.8/lib/python3.8/site-packages (from chart_studio) (1.15.0)\n",
            "Requirement already satisfied: plotly in /Users/riccardobaratin/Library/Python/3.8/lib/python/site-packages (from chart_studio) (5.10.0)\n",
            "Requirement already satisfied: retrying>=1.3.3 in /Users/riccardobaratin/Library/Python/3.8/lib/python/site-packages (from chart_studio) (1.3.3)\n",
            "Requirement already satisfied: tenacity>=6.2.0 in /Users/riccardobaratin/Library/Python/3.8/lib/python/site-packages (from plotly->chart_studio) (8.0.1)\n",
            "Requirement already satisfied: idna<4,>=2.5 in /Users/riccardobaratin/Library/Python/3.8/lib/python/site-packages (from requests->chart_studio) (3.3)\n",
            "Requirement already satisfied: urllib3<1.27,>=1.21.1 in /Users/riccardobaratin/Library/Python/3.8/lib/python/site-packages (from requests->chart_studio) (1.26.12)\n",
            "Requirement already satisfied: certifi>=2017.4.17 in /Users/riccardobaratin/Library/Python/3.8/lib/python/site-packages (from requests->chart_studio) (2022.6.15)\n",
            "Requirement already satisfied: charset-normalizer<3,>=2 in /Users/riccardobaratin/Library/Python/3.8/lib/python/site-packages (from requests->chart_studio) (2.1.1)\n",
            "\n",
            "\u001b[1m[\u001b[0m\u001b[34;49mnotice\u001b[0m\u001b[1;39;49m]\u001b[0m\u001b[39;49m A new release of pip available: \u001b[0m\u001b[31;49m22.2.2\u001b[0m\u001b[39;49m -> \u001b[0m\u001b[32;49m22.3.1\u001b[0m\n",
            "\u001b[1m[\u001b[0m\u001b[34;49mnotice\u001b[0m\u001b[1;39;49m]\u001b[0m\u001b[39;49m To update, run: \u001b[0m\u001b[32;49m/Library/Developer/CommandLineTools/usr/bin/python3 -m pip install --upgrade pip\u001b[0m\n",
            "Defaulting to user installation because normal site-packages is not writeable\n",
            "Requirement already satisfied: pystan in /Users/riccardobaratin/Library/Python/3.8/lib/python/site-packages (2.19.1.1)\n",
            "Requirement already satisfied: Cython!=0.25.1,>=0.22 in /Users/riccardobaratin/Library/Python/3.8/lib/python/site-packages (from pystan) (0.29.32)\n",
            "Requirement already satisfied: numpy>=1.7 in /Users/riccardobaratin/Library/Python/3.8/lib/python/site-packages (from pystan) (1.23.2)\n",
            "\n",
            "\u001b[1m[\u001b[0m\u001b[34;49mnotice\u001b[0m\u001b[1;39;49m]\u001b[0m\u001b[39;49m A new release of pip available: \u001b[0m\u001b[31;49m22.2.2\u001b[0m\u001b[39;49m -> \u001b[0m\u001b[32;49m22.3.1\u001b[0m\n",
            "\u001b[1m[\u001b[0m\u001b[34;49mnotice\u001b[0m\u001b[1;39;49m]\u001b[0m\u001b[39;49m To update, run: \u001b[0m\u001b[32;49m/Library/Developer/CommandLineTools/usr/bin/python3 -m pip install --upgrade pip\u001b[0m\n",
            "Defaulting to user installation because normal site-packages is not writeable\n",
            "Requirement already satisfied: fbprophet in /Users/riccardobaratin/Library/Python/3.8/lib/python/site-packages (0.7.1)\n",
            "Requirement already satisfied: Cython>=0.22 in /Users/riccardobaratin/Library/Python/3.8/lib/python/site-packages (from fbprophet) (0.29.32)\n",
            "Requirement already satisfied: cmdstanpy==0.9.5 in /Users/riccardobaratin/Library/Python/3.8/lib/python/site-packages (from fbprophet) (0.9.5)\n",
            "Requirement already satisfied: pystan>=2.14 in /Users/riccardobaratin/Library/Python/3.8/lib/python/site-packages (from fbprophet) (2.19.1.1)\n",
            "Requirement already satisfied: numpy>=1.15.4 in /Users/riccardobaratin/Library/Python/3.8/lib/python/site-packages (from fbprophet) (1.23.2)\n",
            "Requirement already satisfied: pandas>=1.0.4 in /Users/riccardobaratin/Library/Python/3.8/lib/python/site-packages (from fbprophet) (1.4.3)\n",
            "Requirement already satisfied: matplotlib>=2.0.0 in /Users/riccardobaratin/Library/Python/3.8/lib/python/site-packages (from fbprophet) (3.5.3)\n",
            "Requirement already satisfied: LunarCalendar>=0.0.9 in /Users/riccardobaratin/Library/Python/3.8/lib/python/site-packages (from fbprophet) (0.0.9)\n",
            "Requirement already satisfied: convertdate>=2.1.2 in /Users/riccardobaratin/Library/Python/3.8/lib/python/site-packages (from fbprophet) (2.4.0)\n",
            "Requirement already satisfied: holidays>=0.10.2 in /Users/riccardobaratin/Library/Python/3.8/lib/python/site-packages (from fbprophet) (0.15)\n",
            "Requirement already satisfied: setuptools-git>=1.2 in /Users/riccardobaratin/Library/Python/3.8/lib/python/site-packages (from fbprophet) (1.2)\n",
            "Requirement already satisfied: python-dateutil>=2.8.0 in /Users/riccardobaratin/Library/Python/3.8/lib/python/site-packages (from fbprophet) (2.8.2)\n",
            "Requirement already satisfied: tqdm>=4.36.1 in /Users/riccardobaratin/Library/Python/3.8/lib/python/site-packages (from fbprophet) (4.64.0)\n",
            "Requirement already satisfied: pymeeus<=1,>=0.3.13 in /Users/riccardobaratin/Library/Python/3.8/lib/python/site-packages (from convertdate>=2.1.2->fbprophet) (0.5.11)\n",
            "Requirement already satisfied: korean-lunar-calendar in /Users/riccardobaratin/Library/Python/3.8/lib/python/site-packages (from holidays>=0.10.2->fbprophet) (0.2.1)\n",
            "Requirement already satisfied: hijri-converter in /Users/riccardobaratin/Library/Python/3.8/lib/python/site-packages (from holidays>=0.10.2->fbprophet) (2.2.4)\n",
            "Requirement already satisfied: ephem>=3.7.5.3 in /Users/riccardobaratin/Library/Python/3.8/lib/python/site-packages (from LunarCalendar>=0.0.9->fbprophet) (4.1.3)\n",
            "Requirement already satisfied: pytz in /Users/riccardobaratin/Library/Python/3.8/lib/python/site-packages (from LunarCalendar>=0.0.9->fbprophet) (2022.2.1)\n",
            "Requirement already satisfied: cycler>=0.10 in /Users/riccardobaratin/Library/Python/3.8/lib/python/site-packages (from matplotlib>=2.0.0->fbprophet) (0.11.0)\n",
            "Requirement already satisfied: fonttools>=4.22.0 in /Users/riccardobaratin/Library/Python/3.8/lib/python/site-packages (from matplotlib>=2.0.0->fbprophet) (4.37.1)\n",
            "Requirement already satisfied: pillow>=6.2.0 in /Users/riccardobaratin/Library/Python/3.8/lib/python/site-packages (from matplotlib>=2.0.0->fbprophet) (9.2.0)\n",
            "Requirement already satisfied: pyparsing>=2.2.1 in /Users/riccardobaratin/Library/Python/3.8/lib/python/site-packages (from matplotlib>=2.0.0->fbprophet) (3.0.9)\n",
            "Requirement already satisfied: packaging>=20.0 in /Users/riccardobaratin/Library/Python/3.8/lib/python/site-packages (from matplotlib>=2.0.0->fbprophet) (21.3)\n",
            "Requirement already satisfied: kiwisolver>=1.0.1 in /Users/riccardobaratin/Library/Python/3.8/lib/python/site-packages (from matplotlib>=2.0.0->fbprophet) (1.4.4)\n",
            "Requirement already satisfied: six>=1.5 in /Library/Developer/CommandLineTools/Library/Frameworks/Python3.framework/Versions/3.8/lib/python3.8/site-packages (from python-dateutil>=2.8.0->fbprophet) (1.15.0)\n",
            "\n",
            "\u001b[1m[\u001b[0m\u001b[34;49mnotice\u001b[0m\u001b[1;39;49m]\u001b[0m\u001b[39;49m A new release of pip available: \u001b[0m\u001b[31;49m22.2.2\u001b[0m\u001b[39;49m -> \u001b[0m\u001b[32;49m22.3.1\u001b[0m\n",
            "\u001b[1m[\u001b[0m\u001b[34;49mnotice\u001b[0m\u001b[1;39;49m]\u001b[0m\u001b[39;49m To update, run: \u001b[0m\u001b[32;49m/Library/Developer/CommandLineTools/usr/bin/python3 -m pip install --upgrade pip\u001b[0m\n",
            "Defaulting to user installation because normal site-packages is not writeable\n",
            "Requirement already satisfied: glob2 in /Users/riccardobaratin/Library/Python/3.8/lib/python/site-packages (0.7)\n",
            "\n",
            "\u001b[1m[\u001b[0m\u001b[34;49mnotice\u001b[0m\u001b[1;39;49m]\u001b[0m\u001b[39;49m A new release of pip available: \u001b[0m\u001b[31;49m22.2.2\u001b[0m\u001b[39;49m -> \u001b[0m\u001b[32;49m22.3.1\u001b[0m\n",
            "\u001b[1m[\u001b[0m\u001b[34;49mnotice\u001b[0m\u001b[1;39;49m]\u001b[0m\u001b[39;49m To update, run: \u001b[0m\u001b[32;49m/Library/Developer/CommandLineTools/usr/bin/python3 -m pip install --upgrade pip\u001b[0m\n",
            "Defaulting to user installation because normal site-packages is not writeable\n",
            "Requirement already satisfied: python-dateutil in /Users/riccardobaratin/Library/Python/3.8/lib/python/site-packages (2.8.2)\n",
            "Requirement already satisfied: six>=1.5 in /Library/Developer/CommandLineTools/Library/Frameworks/Python3.framework/Versions/3.8/lib/python3.8/site-packages (from python-dateutil) (1.15.0)\n",
            "\n",
            "\u001b[1m[\u001b[0m\u001b[34;49mnotice\u001b[0m\u001b[1;39;49m]\u001b[0m\u001b[39;49m A new release of pip available: \u001b[0m\u001b[31;49m22.2.2\u001b[0m\u001b[39;49m -> \u001b[0m\u001b[32;49m22.3.1\u001b[0m\n",
            "\u001b[1m[\u001b[0m\u001b[34;49mnotice\u001b[0m\u001b[1;39;49m]\u001b[0m\u001b[39;49m To update, run: \u001b[0m\u001b[32;49m/Library/Developer/CommandLineTools/usr/bin/python3 -m pip install --upgrade pip\u001b[0m\n"
          ]
        }
      ],
      "source": [
        "!pip3 install chart_studio\n",
        "!pip3 install pystan\n",
        "!pip3 install fbprophet\n",
        "!pip3 install glob2\n",
        "!pip3 install python-dateutil"
      ]
    },
    {
      "cell_type": "code",
      "execution_count": 3,
      "metadata": {},
      "outputs": [],
      "source": [
        "import os\n",
        "import itertools\n",
        "import pandas as pd\n",
        "from pandas.tseries.offsets import DateOffset\n",
        "import matplotlib.pyplot as plt\n",
        "import time\n",
        "import datetime \n",
        "from datetime import timedelta\n",
        "import math\n",
        "import numpy as np\n",
        "import scipy.stats as st\n",
        "from prophet import Prophet\n",
        "from influxdb_client import InfluxDBClient\n",
        "from sklearn.metrics import mean_squared_error, r2_score, mean_absolute_error\n",
        "from sklearn.model_selection import train_test_split\n",
        "from statsmodels.tsa.stattools import adfuller"
      ]
    },
    {
      "cell_type": "code",
      "execution_count": 4,
      "metadata": {},
      "outputs": [],
      "source": [
        "INFLUXDB_HOST = os.getenv(\"INFLUX_HOST\")\n",
        "INFLUXDB_PORT = os.getenv(\"INFLUX_HOST_PORT\")\n",
        "INFLUXDB_ORG = os.getenv(\"INFLUX_ORG\")\n",
        "INFLUXDB_TOKEN = os.getenv(\"INFLUX_TOKEN\")\n",
        "client = InfluxDBClient(url=\"http://\"+INFLUXDB_HOST+\":\"+INFLUXDB_PORT, token=INFLUXDB_TOKEN, org=INFLUXDB_ORG)\n"
      ]
    },
    {
      "cell_type": "code",
      "execution_count": 5,
      "metadata": {},
      "outputs": [],
      "source": [
        "def convert_to_dataframe(result):\n",
        "    raw = []\n",
        "    for table in result:\n",
        "        for record in table.records:\n",
        "            raw.append((record.get_time(), record.get_value()))\n",
        "    return pd.DataFrame(raw, columns=['ds','y'], index=None)"
      ]
    },
    {
      "cell_type": "code",
      "execution_count": 6,
      "metadata": {},
      "outputs": [],
      "source": [
        "buckets = [ 'temperature', 'humidity', 'gas']"
      ]
    },
    {
      "cell_type": "code",
      "execution_count": 10,
      "metadata": {},
      "outputs": [],
      "source": [
        "#With this function we obtain the forecasted data\n",
        "\n",
        "def bucket_forecast(bucket):\n",
        "    global mse_array\n",
        "    global forecasted_array\n",
        "    global expected_array\n",
        "    global forecasted\n",
        "    global expected\n",
        "    global forecast\n",
        "\n",
        "    mse_array = []\n",
        "    forecasted_array = []\n",
        "    expected_array = []\n",
        "    forecasted = []\n",
        "    expected = []\n",
        "    \n",
        "    print(bucket)\n",
        "    query = 'from(bucket: \"'+ bucket +'\")' \\\n",
        "                ' |> range(start:-30d)'\\\n",
        "                ' |> filter(fn: (r) => r[\"_measurement\"] == \"val\")' \\\n",
        "                ' |> filter(fn: (r) => r[\"_field\"] == \"' + bucket +'\")' \\\n",
        "                ' |> aggregateWindow(every: 3m , fn: mean, createEmpty: false)'\\\n",
        "                ' |> yield(name: \"mean\")'\\\n",
        "\n",
        "    result = client.query_api().query(org=INFLUXDB_ORG, query=query)\n",
        "    # Convert the results to dataframe\n",
        "    df = convert_to_dataframe(result)\n",
        "    print(df)\n",
        "    df['ds'] = df['ds'].dt.tz_localize(None)\n",
        "    #train_size 80% - test_size 20%\n",
        "\n",
        "    train, test = train_test_split(df, test_size=0.2, shuffle=False)\n",
        "    m = Prophet(\n",
        "        yearly_seasonality=False,\n",
        "        weekly_seasonality=False,\n",
        "        daily_seasonality=30,\n",
        "        n_changepoints=35,\n",
        "        changepoint_range=1,\n",
        "        changepoint_prior_scale=0.01\n",
        "    ).fit(train)\n",
        "    \n",
        "    test_interval = int((test.iloc[-1]['ds'].timestamp() - test.iloc[0]['ds'].timestamp()) / 60)\n",
        "    test_interval = test_interval + 5\n",
        "    #print(test_interval)\n",
        "\n",
        "    future = m.make_future_dataframe(periods=test_interval, freq= DateOffset(minutes=1))\n",
        "    forecast = m.predict(future)\n",
        "\n",
        "    forecast['ds'] = forecast.ds.dt.floor('min')\n",
        "    test['ds'] = test.ds.dt.floor('min')\n",
        "    metric = test.set_index('ds')[['y']].join(forecast.set_index('ds').yhat).reset_index()\n",
        "\n",
        "    metric = metric.dropna()\n",
        "    \n",
        "    mse = mean_squared_error(metric['y'], metric['yhat'])\n",
        "    mse_array.append(mse)\n",
        "    \n",
        "    expected_array.append(metric['y'].tolist())\n",
        "    forecasted_array.append(metric['yhat'].tolist())\n",
        "    forecasted = list(itertools.chain.from_iterable(forecasted_array))\n",
        "    expected = list(itertools.chain.from_iterable(expected_array))\n",
        "\n",
        "    \n",
        "\n",
        "# evaluate_field('temp')\n",
        "# print(mse_array)\n",
        "# print(sum(mse_array)/len(mse_array))"
      ]
    },
    {
      "cell_type": "code",
      "execution_count": 8,
      "metadata": {},
      "outputs": [],
      "source": [
        "from influxdb_client import InfluxDBClient, Point, WriteOptions\n",
        "from influxdb_client.client.write_api import SYNCHRONOUS\n",
        "from influxdb_client.client.write_api import WriteType"
      ]
    },
    {
      "cell_type": "code",
      "execution_count": 11,
      "metadata": {},
      "outputs": [
        {
          "name": "stdout",
          "output_type": "stream",
          "text": [
            "temperature\n",
            "                            ds          y\n",
            "0    2022-11-07 09:21:00+00:00  16.500000\n",
            "1    2022-11-07 09:24:00+00:00  16.155556\n",
            "2    2022-11-07 09:27:00+00:00  16.355932\n",
            "3    2022-11-07 09:30:00+00:00  16.483333\n",
            "4    2022-11-07 09:33:00+00:00  16.598611\n",
            "...                        ...        ...\n",
            "1568 2022-11-09 08:48:00+00:00  17.045168\n",
            "1569 2022-11-09 08:51:00+00:00  17.047503\n",
            "1570 2022-11-09 08:54:00+00:00  17.028814\n",
            "1571 2022-11-09 08:57:00+00:00  16.989251\n",
            "1572 2022-11-09 09:00:00+00:00  16.931120\n",
            "\n",
            "[1573 rows x 2 columns]\n"
          ]
        },
        {
          "name": "stderr",
          "output_type": "stream",
          "text": [
            "INFO:cmdstanpy:start chain 1\n",
            "INFO:cmdstanpy:finish chain 1\n",
            "WARNING:prophet.models:Optimization terminated abnormally. Falling back to Newton.\n",
            "INFO:cmdstanpy:start chain 1\n",
            "INFO:cmdstanpy:finish chain 1\n"
          ]
        },
        {
          "ename": "RuntimeError",
          "evalue": "Error during optimizing, error code -6",
          "output_type": "error",
          "traceback": [
            "\u001b[0;31m---------------------------------------------------------------------------\u001b[0m",
            "\u001b[0;31mRuntimeError\u001b[0m                              Traceback (most recent call last)",
            "File \u001b[0;32m~/Library/Python/3.8/lib/python/site-packages/prophet/models.py:96\u001b[0m, in \u001b[0;36mCmdStanPyBackend.fit\u001b[0;34m(self, stan_init, stan_data, **kwargs)\u001b[0m\n\u001b[1;32m     95\u001b[0m \u001b[39mtry\u001b[39;00m:\n\u001b[0;32m---> 96\u001b[0m     \u001b[39mself\u001b[39m\u001b[39m.\u001b[39mstan_fit \u001b[39m=\u001b[39m \u001b[39mself\u001b[39;49m\u001b[39m.\u001b[39;49mmodel\u001b[39m.\u001b[39;49moptimize(\u001b[39m*\u001b[39;49m\u001b[39m*\u001b[39;49margs)\n\u001b[1;32m     97\u001b[0m \u001b[39mexcept\u001b[39;00m \u001b[39mRuntimeError\u001b[39;00m \u001b[39mas\u001b[39;00m e:\n\u001b[1;32m     98\u001b[0m     \u001b[39m# Fall back on Newton\u001b[39;00m\n",
            "File \u001b[0;32m~/Library/Python/3.8/lib/python/site-packages/cmdstanpy/model.py:396\u001b[0m, in \u001b[0;36mCmdStanModel.optimize\u001b[0;34m(self, data, seed, inits, output_dir, save_diagnostics, algorithm, init_alpha, iter)\u001b[0m\n\u001b[1;32m    393\u001b[0m         msg \u001b[39m=\u001b[39m \u001b[39m'\u001b[39m\u001b[39m{}\u001b[39;00m\u001b[39m, error code \u001b[39m\u001b[39m{}\u001b[39;00m\u001b[39m'\u001b[39m\u001b[39m.\u001b[39mformat(\n\u001b[1;32m    394\u001b[0m             msg, runset\u001b[39m.\u001b[39m_retcode(dummy_chain_id)\n\u001b[1;32m    395\u001b[0m         )\n\u001b[0;32m--> 396\u001b[0m         \u001b[39mraise\u001b[39;00m \u001b[39mRuntimeError\u001b[39;00m(msg)\n\u001b[1;32m    397\u001b[0m mle \u001b[39m=\u001b[39m CmdStanMLE(runset)\n",
            "\u001b[0;31mRuntimeError\u001b[0m: Error during optimizing, error code -6",
            "\nDuring handling of the above exception, another exception occurred:\n",
            "\u001b[0;31mRuntimeError\u001b[0m                              Traceback (most recent call last)",
            "\u001b[1;32m/Users/riccardobaratin/Documents/GitHub/iot-project/forecasting/prophetForecasting.ipynb Cella 12\u001b[0m in \u001b[0;36m<cell line: 3>\u001b[0;34m()\u001b[0m\n\u001b[1;32m      <a href='vscode-notebook-cell:/Users/riccardobaratin/Documents/GitHub/iot-project/forecasting/prophetForecasting.ipynb#X14sZmlsZQ%3D%3D?line=1'>2</a>\u001b[0m i \u001b[39m=\u001b[39m \u001b[39m0\u001b[39m\n\u001b[1;32m      <a href='vscode-notebook-cell:/Users/riccardobaratin/Documents/GitHub/iot-project/forecasting/prophetForecasting.ipynb#X14sZmlsZQ%3D%3D?line=2'>3</a>\u001b[0m \u001b[39mfor\u001b[39;00m bucket \u001b[39min\u001b[39;00m buckets:\n\u001b[0;32m----> <a href='vscode-notebook-cell:/Users/riccardobaratin/Documents/GitHub/iot-project/forecasting/prophetForecasting.ipynb#X14sZmlsZQ%3D%3D?line=3'>4</a>\u001b[0m \tbucket_forecast(bucket)\n\u001b[1;32m      <a href='vscode-notebook-cell:/Users/riccardobaratin/Documents/GitHub/iot-project/forecasting/prophetForecasting.ipynb#X14sZmlsZQ%3D%3D?line=4'>5</a>\u001b[0m \t\u001b[39mprint\u001b[39m(\u001b[39m\"\u001b[39m\u001b[39m\\n\u001b[39;00m\u001b[39m\\n\u001b[39;00m\u001b[39mEvaluating \u001b[39m\u001b[39m\"\u001b[39m \u001b[39m+\u001b[39m bucket)\n\u001b[1;32m      <a href='vscode-notebook-cell:/Users/riccardobaratin/Documents/GitHub/iot-project/forecasting/prophetForecasting.ipynb#X14sZmlsZQ%3D%3D?line=5'>6</a>\u001b[0m \tplt\u001b[39m.\u001b[39mplot(expected, label\u001b[39m=\u001b[39m\u001b[39m\"\u001b[39m\u001b[39mReal Value\u001b[39m\u001b[39m\"\u001b[39m)\n",
            "\u001b[1;32m/Users/riccardobaratin/Documents/GitHub/iot-project/forecasting/prophetForecasting.ipynb Cella 12\u001b[0m in \u001b[0;36mbucket_forecast\u001b[0;34m(bucket)\u001b[0m\n\u001b[1;32m     <a href='vscode-notebook-cell:/Users/riccardobaratin/Documents/GitHub/iot-project/forecasting/prophetForecasting.ipynb#X14sZmlsZQ%3D%3D?line=29'>30</a>\u001b[0m \u001b[39m#train_size 80% - test_size 20%\u001b[39;00m\n\u001b[1;32m     <a href='vscode-notebook-cell:/Users/riccardobaratin/Documents/GitHub/iot-project/forecasting/prophetForecasting.ipynb#X14sZmlsZQ%3D%3D?line=31'>32</a>\u001b[0m train, test \u001b[39m=\u001b[39m train_test_split(df, test_size\u001b[39m=\u001b[39m\u001b[39m0.2\u001b[39m, shuffle\u001b[39m=\u001b[39m\u001b[39mFalse\u001b[39;00m)\n\u001b[0;32m---> <a href='vscode-notebook-cell:/Users/riccardobaratin/Documents/GitHub/iot-project/forecasting/prophetForecasting.ipynb#X14sZmlsZQ%3D%3D?line=32'>33</a>\u001b[0m m \u001b[39m=\u001b[39m Prophet(\n\u001b[1;32m     <a href='vscode-notebook-cell:/Users/riccardobaratin/Documents/GitHub/iot-project/forecasting/prophetForecasting.ipynb#X14sZmlsZQ%3D%3D?line=33'>34</a>\u001b[0m     yearly_seasonality\u001b[39m=\u001b[39;49m\u001b[39mFalse\u001b[39;49;00m,\n\u001b[1;32m     <a href='vscode-notebook-cell:/Users/riccardobaratin/Documents/GitHub/iot-project/forecasting/prophetForecasting.ipynb#X14sZmlsZQ%3D%3D?line=34'>35</a>\u001b[0m     weekly_seasonality\u001b[39m=\u001b[39;49m\u001b[39mFalse\u001b[39;49;00m,\n\u001b[1;32m     <a href='vscode-notebook-cell:/Users/riccardobaratin/Documents/GitHub/iot-project/forecasting/prophetForecasting.ipynb#X14sZmlsZQ%3D%3D?line=35'>36</a>\u001b[0m     daily_seasonality\u001b[39m=\u001b[39;49m\u001b[39m30\u001b[39;49m,\n\u001b[1;32m     <a href='vscode-notebook-cell:/Users/riccardobaratin/Documents/GitHub/iot-project/forecasting/prophetForecasting.ipynb#X14sZmlsZQ%3D%3D?line=36'>37</a>\u001b[0m     n_changepoints\u001b[39m=\u001b[39;49m\u001b[39m35\u001b[39;49m,\n\u001b[1;32m     <a href='vscode-notebook-cell:/Users/riccardobaratin/Documents/GitHub/iot-project/forecasting/prophetForecasting.ipynb#X14sZmlsZQ%3D%3D?line=37'>38</a>\u001b[0m     changepoint_range\u001b[39m=\u001b[39;49m\u001b[39m1\u001b[39;49m,\n\u001b[1;32m     <a href='vscode-notebook-cell:/Users/riccardobaratin/Documents/GitHub/iot-project/forecasting/prophetForecasting.ipynb#X14sZmlsZQ%3D%3D?line=38'>39</a>\u001b[0m     changepoint_prior_scale\u001b[39m=\u001b[39;49m\u001b[39m0.01\u001b[39;49m\n\u001b[1;32m     <a href='vscode-notebook-cell:/Users/riccardobaratin/Documents/GitHub/iot-project/forecasting/prophetForecasting.ipynb#X14sZmlsZQ%3D%3D?line=39'>40</a>\u001b[0m )\u001b[39m.\u001b[39;49mfit(train)\n\u001b[1;32m     <a href='vscode-notebook-cell:/Users/riccardobaratin/Documents/GitHub/iot-project/forecasting/prophetForecasting.ipynb#X14sZmlsZQ%3D%3D?line=41'>42</a>\u001b[0m test_interval \u001b[39m=\u001b[39m \u001b[39mint\u001b[39m((test\u001b[39m.\u001b[39miloc[\u001b[39m-\u001b[39m\u001b[39m1\u001b[39m][\u001b[39m'\u001b[39m\u001b[39mds\u001b[39m\u001b[39m'\u001b[39m]\u001b[39m.\u001b[39mtimestamp() \u001b[39m-\u001b[39m test\u001b[39m.\u001b[39miloc[\u001b[39m0\u001b[39m][\u001b[39m'\u001b[39m\u001b[39mds\u001b[39m\u001b[39m'\u001b[39m]\u001b[39m.\u001b[39mtimestamp()) \u001b[39m/\u001b[39m \u001b[39m60\u001b[39m)\n\u001b[1;32m     <a href='vscode-notebook-cell:/Users/riccardobaratin/Documents/GitHub/iot-project/forecasting/prophetForecasting.ipynb#X14sZmlsZQ%3D%3D?line=42'>43</a>\u001b[0m test_interval \u001b[39m=\u001b[39m test_interval \u001b[39m+\u001b[39m \u001b[39m5\u001b[39m\n",
            "File \u001b[0;32m~/Library/Python/3.8/lib/python/site-packages/prophet/forecaster.py:1174\u001b[0m, in \u001b[0;36mProphet.fit\u001b[0;34m(self, df, **kwargs)\u001b[0m\n\u001b[1;32m   1172\u001b[0m     \u001b[39mself\u001b[39m\u001b[39m.\u001b[39mparams \u001b[39m=\u001b[39m \u001b[39mself\u001b[39m\u001b[39m.\u001b[39mstan_backend\u001b[39m.\u001b[39msampling(stan_init, dat, \u001b[39mself\u001b[39m\u001b[39m.\u001b[39mmcmc_samples, \u001b[39m*\u001b[39m\u001b[39m*\u001b[39mkwargs)\n\u001b[1;32m   1173\u001b[0m \u001b[39melse\u001b[39;00m:\n\u001b[0;32m-> 1174\u001b[0m     \u001b[39mself\u001b[39m\u001b[39m.\u001b[39mparams \u001b[39m=\u001b[39m \u001b[39mself\u001b[39;49m\u001b[39m.\u001b[39;49mstan_backend\u001b[39m.\u001b[39;49mfit(stan_init, dat, \u001b[39m*\u001b[39;49m\u001b[39m*\u001b[39;49mkwargs)\n\u001b[1;32m   1176\u001b[0m \u001b[39mself\u001b[39m\u001b[39m.\u001b[39mstan_fit \u001b[39m=\u001b[39m \u001b[39mself\u001b[39m\u001b[39m.\u001b[39mstan_backend\u001b[39m.\u001b[39mstan_fit\n\u001b[1;32m   1177\u001b[0m \u001b[39m# If no changepoints were requested, replace delta with 0s\u001b[39;00m\n",
            "File \u001b[0;32m~/Library/Python/3.8/lib/python/site-packages/prophet/models.py:103\u001b[0m, in \u001b[0;36mCmdStanPyBackend.fit\u001b[0;34m(self, stan_init, stan_data, **kwargs)\u001b[0m\n\u001b[1;32m    101\u001b[0m     logger\u001b[39m.\u001b[39mwarning(\u001b[39m'\u001b[39m\u001b[39mOptimization terminated abnormally. Falling back to Newton.\u001b[39m\u001b[39m'\u001b[39m)\n\u001b[1;32m    102\u001b[0m     args[\u001b[39m'\u001b[39m\u001b[39malgorithm\u001b[39m\u001b[39m'\u001b[39m] \u001b[39m=\u001b[39m \u001b[39m'\u001b[39m\u001b[39mNewton\u001b[39m\u001b[39m'\u001b[39m\n\u001b[0;32m--> 103\u001b[0m     \u001b[39mself\u001b[39m\u001b[39m.\u001b[39mstan_fit \u001b[39m=\u001b[39m \u001b[39mself\u001b[39;49m\u001b[39m.\u001b[39;49mmodel\u001b[39m.\u001b[39;49moptimize(\u001b[39m*\u001b[39;49m\u001b[39m*\u001b[39;49margs)\n\u001b[1;32m    104\u001b[0m params \u001b[39m=\u001b[39m \u001b[39mself\u001b[39m\u001b[39m.\u001b[39mstan_to_dict_numpy(\n\u001b[1;32m    105\u001b[0m     \u001b[39mself\u001b[39m\u001b[39m.\u001b[39mstan_fit\u001b[39m.\u001b[39mcolumn_names, \u001b[39mself\u001b[39m\u001b[39m.\u001b[39mstan_fit\u001b[39m.\u001b[39moptimized_params_np)\n\u001b[1;32m    106\u001b[0m \u001b[39mfor\u001b[39;00m par \u001b[39min\u001b[39;00m params:\n",
            "File \u001b[0;32m~/Library/Python/3.8/lib/python/site-packages/cmdstanpy/model.py:396\u001b[0m, in \u001b[0;36mCmdStanModel.optimize\u001b[0;34m(self, data, seed, inits, output_dir, save_diagnostics, algorithm, init_alpha, iter)\u001b[0m\n\u001b[1;32m    392\u001b[0m     \u001b[39mif\u001b[39;00m runset\u001b[39m.\u001b[39m_retcode(dummy_chain_id) \u001b[39m!=\u001b[39m \u001b[39m0\u001b[39m:\n\u001b[1;32m    393\u001b[0m         msg \u001b[39m=\u001b[39m \u001b[39m'\u001b[39m\u001b[39m{}\u001b[39;00m\u001b[39m, error code \u001b[39m\u001b[39m{}\u001b[39;00m\u001b[39m'\u001b[39m\u001b[39m.\u001b[39mformat(\n\u001b[1;32m    394\u001b[0m             msg, runset\u001b[39m.\u001b[39m_retcode(dummy_chain_id)\n\u001b[1;32m    395\u001b[0m         )\n\u001b[0;32m--> 396\u001b[0m         \u001b[39mraise\u001b[39;00m \u001b[39mRuntimeError\u001b[39;00m(msg)\n\u001b[1;32m    397\u001b[0m mle \u001b[39m=\u001b[39m CmdStanMLE(runset)\n\u001b[1;32m    398\u001b[0m mle\u001b[39m.\u001b[39m_set_mle_attrs(runset\u001b[39m.\u001b[39mcsv_files[\u001b[39m0\u001b[39m])\n",
            "\u001b[0;31mRuntimeError\u001b[0m: Error during optimizing, error code -6"
          ]
        }
      ],
      "source": [
        "APE = []\n",
        "i = 0\n",
        "for bucket in buckets:\n",
        "\tbucket_forecast(bucket)\n",
        "\tprint(\"\\n\\nEvaluating \" + bucket)\n",
        "\tplt.plot(expected, label=\"Real Value\")\n",
        "\tplt.plot(forecasted, \"-r\", label=\"Forecasted Value\")\n",
        "\n",
        "\tplt.legend(loc=\"upper left\")\n",
        "\tplt.show()\n",
        "\n",
        "\t#Mean Square Error & Root Square Error considered more accurate \n",
        "\tmse = mean_squared_error(expected, forecasted)\n",
        "\tprint('mse')\n",
        "\tprint(mse) #mah\n",
        "\trmse = math.sqrt(mean_squared_error(expected, forecasted))\n",
        "\tprint('Test RMSE: %.3f'%rmse)\n",
        "\n",
        "\t\n",
        "\t# MAE\n",
        "\t# The mean absolute error, or MAE, \n",
        "\t# is calculated as the average of the forecast error values, \n",
        "\t# where all of the forecast error values are forced to be positive.\n",
        "\t# These error values are in the original units of the predicted values. \n",
        "\t# A mean absolute error of zero indicates no error.\n",
        "\n",
        "\t# Calculate the MAE \n",
        "\tmae = mean_absolute_error(expected, forecasted)\n",
        "\tprint('MAE: %f' % mae)\n",
        "\n",
        "\n",
        "\t# A confidence interval is an estimation technique used in statistical inference to constrain a pair or pairs of values, \n",
        "\t# within which the desired point estimate will be found (with a certain probability).\n",
        "\n",
        "\t# A confidence interval will allow us to calculate two values around a sample mean (one upper and one lower). \n",
        "\t# These values will bound an interval within which, with some probability, the population parameter will be found.\n",
        "\n",
        "\n",
        "\tmean = sum(forecasted) / len(forecasted) #mean\n",
        "\tprint(\"Mean: \",mean)\n",
        "\n",
        "\n",
        "\tstd = np.std(forecasted)  # standard deviation\n",
        "\tprint(\"Standard Deviation: \",std)\n",
        "\n",
        "\t# create 95% confidence interval\n",
        "\tres = st.t.interval(alpha=0.95, df=len(forecasted)-1,\n",
        "\t\t\t\tloc=np.mean(forecasted),\n",
        "\t\t\t\tscale=st.sem(forecasted))\n",
        "\n",
        "\tprint(\"Confidence intervals: \",res)\n",
        "\n",
        "\tlines = [str(forecast[\"yhat\"][d]) for d in range(len(forecast))]\n",
        "\tprint(lines)\n",
        "\tlines = ['val,prediction=yes,clientId=' + str(\"diubi-esp-32\")+\",lat=999,lng=999\"+ \" \" + bucket + '=' + str(forecast[\"yhat\"][d])\n",
        "\t\t\t\t\t\t\t\t\t+ ' ' + str(int(time.mktime(forecast['ds'][d].timetuple())) + 3600*2) + \"000000000\" for d in range(len(forecast))]\n",
        "\twrite_client = client.write_api(write_options=WriteOptions(batch_size=1000, flush_interval=10_000,\n",
        "\t\t\t\t\t\t\t\t\t\t\t\t\t\t\tjitter_interval=2_000, retry_interval=5_000, write_type=WriteType.synchronous))\n",
        "\twrite_client.write(bucket, INFLUXDB_ORG, lines)"
      ]
    }
  ],
  "metadata": {
    "colab": {
      "collapsed_sections": [],
      "name": "forecasting.ipynb",
      "provenance": []
    },
    "kernelspec": {
      "display_name": "Python 3.8.9 64-bit",
      "language": "python",
      "name": "python3"
    },
    "language_info": {
      "codemirror_mode": {
        "name": "ipython",
        "version": 3
      },
      "file_extension": ".py",
      "mimetype": "text/x-python",
      "name": "python",
      "nbconvert_exporter": "python",
      "pygments_lexer": "ipython3",
      "version": "3.8.9"
    },
    "orig_nbformat": 4,
    "vscode": {
      "interpreter": {
        "hash": "31f2aee4e71d21fbe5cf8b01ff0e069b9275f58929596ceb00d14d90e3e16cd6"
      }
    }
  },
  "nbformat": 4,
  "nbformat_minor": 0
}
