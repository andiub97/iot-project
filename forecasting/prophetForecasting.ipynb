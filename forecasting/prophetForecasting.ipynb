{
  "cells": [
    {
      "cell_type": "markdown",
      "metadata": {
        "id": "fo4D4Yio9KGo"
      },
      "source": [
        "# Data Forecasting with prophet\n"
      ]
    },
    {
      "cell_type": "markdown",
      "metadata": {},
      "source": [
        "# PROPHET PREDICTION"
      ]
    },
    {
      "cell_type": "markdown",
      "metadata": {},
      "source": [
        "## TESTO"
      ]
    },
    {
      "cell_type": "markdown",
      "metadata": {
        "id": "ljmAefVR9MU7"
      },
      "source": [
        "## Import Dependencies"
      ]
    },
    {
      "cell_type": "code",
      "execution_count": 1,
      "metadata": {},
      "outputs": [
        {
          "name": "stdout",
          "output_type": "stream",
          "text": [
            "Requirement already satisfied: chart_studio in d:\\anaconda\\lib\\site-packages (1.1.0)\n",
            "Requirement already satisfied: six in d:\\anaconda\\lib\\site-packages (from chart_studio) (1.16.0)\n",
            "Requirement already satisfied: retrying>=1.3.3 in d:\\anaconda\\lib\\site-packages (from chart_studio) (1.3.3)\n",
            "Requirement already satisfied: plotly in d:\\anaconda\\lib\\site-packages (from chart_studio) (5.6.0)\n",
            "Requirement already satisfied: requests in d:\\anaconda\\lib\\site-packages (from chart_studio) (2.27.1)\n",
            "Requirement already satisfied: tenacity>=6.2.0 in d:\\anaconda\\lib\\site-packages (from plotly->chart_studio) (8.0.1)\n",
            "Requirement already satisfied: urllib3<1.27,>=1.21.1 in c:\\users\\andre\\appdata\\roaming\\python\\python39\\site-packages (from requests->chart_studio) (1.26.12)\n",
            "Requirement already satisfied: charset-normalizer~=2.0.0 in d:\\anaconda\\lib\\site-packages (from requests->chart_studio) (2.0.4)\n",
            "Requirement already satisfied: idna<4,>=2.5 in d:\\anaconda\\lib\\site-packages (from requests->chart_studio) (3.3)\n",
            "Requirement already satisfied: certifi>=2017.4.17 in d:\\anaconda\\lib\\site-packages (from requests->chart_studio) (2021.10.8)\n",
            "^C\n",
            "^C\n",
            "Requirement already satisfied: glob2 in d:\\anaconda\\lib\\site-packages (0.7)\n"
          ]
        }
      ],
      "source": [
        "!pip3 install chart_studio\n",
        "!pip3 install pystan\n",
        "!pip3 install fbprophet\n",
        "!pip3 install glob2\n",
        "!pip3 install python-dateutil"
      ]
    },
    {
      "cell_type": "code",
      "execution_count": 1,
      "metadata": {},
      "outputs": [],
      "source": [
        "import os\n",
        "import itertools\n",
        "import pandas as pd\n",
        "from pandas.tseries.offsets import DateOffset\n",
        "import matplotlib.pyplot as plt\n",
        "import time\n",
        "import datetime \n",
        "from datetime import timedelta\n",
        "import math\n",
        "import numpy as np\n",
        "import scipy.stats as st\n",
        "from prophet import Prophet\n",
        "from influxdb_client import InfluxDBClient\n",
        "from sklearn.metrics import mean_squared_error, r2_score, mean_absolute_error\n",
        "from sklearn.model_selection import train_test_split\n",
        "from statsmodels.tsa.stattools import adfuller"
      ]
    },
    {
      "cell_type": "code",
      "execution_count": 2,
      "metadata": {},
      "outputs": [],
      "source": [
        "INFLUXDB_HOST = os.getenv(\"INFLUX_HOST\")\n",
        "INFLUXDB_PORT = os.getenv(\"INFLUX_HOST_PORT\")\n",
        "INFLUXDB_ORG = os.getenv(\"INFLUX_ORG\")\n",
        "INFLUXDB_TOKEN = os.getenv(\"INFLUX_TOKEN\")\n",
        "client = InfluxDBClient(url=\"http://\"+INFLUXDB_HOST+\":\"+INFLUXDB_PORT, token=INFLUXDB_TOKEN, org=INFLUXDB_ORG)\n"
      ]
    },
    {
      "cell_type": "code",
      "execution_count": 3,
      "metadata": {},
      "outputs": [],
      "source": [
        "def convert_to_dataframe(result):\n",
        "    raw = []\n",
        "    for table in result:\n",
        "        for record in table.records:\n",
        "            raw.append((record.get_time(), record.get_value()))\n",
        "    return pd.DataFrame(raw, columns=['ds','y'], index=None)"
      ]
    },
    {
      "cell_type": "code",
      "execution_count": 4,
      "metadata": {},
      "outputs": [],
      "source": [
        "buckets = [ 'temperature', 'humidity', 'gas']"
      ]
    },
    {
      "cell_type": "code",
      "execution_count": 12,
      "metadata": {},
      "outputs": [],
      "source": [
        "#With this function we obtain the forecasted data\n",
        "\n",
        "def bucket_forecast(bucket,i):\n",
        "    global mse_array\n",
        "    global forecasted_array\n",
        "    global expected_array\n",
        "    global forecasted\n",
        "    global expected\n",
        "    global forecast\n",
        "\n",
        "    mse_array = []\n",
        "    forecasted_array = []\n",
        "    expected_array = []\n",
        "    forecasted = []\n",
        "    expected = []\n",
        "    path = [\"../datasets/temperature.csv\", \"../datasets/Humidity.csv\", \"../datasets/Gas.csv\"]\n",
        "    \n",
        "    print(bucket)\n",
        "    query = 'from(bucket: \"'+ bucket +'\")' \\\n",
        "                ' |> range(start:-30d)'\\\n",
        "                ' |> filter(fn: (r) => r[\"_measurement\"] == \"val\")' \\\n",
        "                ' |> filter(fn: (r) => r[\"_field\"] == \"' + bucket +'\")' \\\n",
        "                ' |> aggregateWindow(every: 3m , fn: mean, createEmpty: false)'\\\n",
        "                ' |> yield(name: \"mean\")'\\\n",
        "\n",
        "    # result = client.query_api().query(org=INFLUXDB_ORG, query=query)\n",
        "    # Convert the results to dataframe\n",
        "    dataset_path = open(path[i])\n",
        "    df = pd.read_csv(dataset_path)\n",
        "    #df = convert_to_dataframe(result)\n",
        "    print(df)\n",
        "    \n",
        "    df['ds'] = pd.to_datetime(df['ds'])\n",
        "    df['ds'] = df['ds'].dt.tz_localize(None)\n",
        "    \n",
        "    #train_size 80% - test_size 20%\n",
        "\n",
        "    train, test = train_test_split(df, test_size=0.2, shuffle=False)\n",
        "    m = Prophet(\n",
        "        yearly_seasonality=False,\n",
        "        weekly_seasonality=False,\n",
        "        daily_seasonality=30,\n",
        "        n_changepoints=35,\n",
        "        changepoint_range=1,\n",
        "        changepoint_prior_scale=0.01\n",
        "    ).fit(train)\n",
        "    \n",
        "    test_interval = int((test.iloc[-1]['ds'].timestamp() - test.iloc[0]['ds'].timestamp()) / 60)\n",
        "    test_interval = test_interval + 5\n",
        "    #print(test_interval)\n",
        "\n",
        "    future = m.make_future_dataframe(periods=60*12, freq= DateOffset(minutes=1))\n",
        "    forecast = m.predict(future)\n",
        "\n",
        "    forecast['ds'] = forecast.ds.dt.floor('min')\n",
        "    test['ds'] = test.ds.dt.floor('min')\n",
        "    metric = test.set_index('ds')[['y']].join(forecast.set_index('ds').yhat).reset_index()\n",
        "\n",
        "    metric = metric.dropna()\n",
        "    \n",
        "    mse = mean_squared_error(metric['y'], metric['yhat'])\n",
        "    mse_array.append(mse)\n",
        "    \n",
        "    expected_array.append(metric['y'].tolist())\n",
        "    forecasted_array.append(metric['yhat'].tolist())\n",
        "    forecasted = list(itertools.chain.from_iterable(forecasted_array))\n",
        "    expected = list(itertools.chain.from_iterable(expected_array))\n",
        "\n",
        "    \n",
        "\n",
        "# evaluate_field('temp')\n",
        "# print(mse_array)\n",
        "# print(sum(mse_array)/len(mse_array))"
      ]
    },
    {
      "cell_type": "code",
      "execution_count": 13,
      "metadata": {},
      "outputs": [],
      "source": [
        "from influxdb_client import InfluxDBClient, Point, WriteOptions\n",
        "from influxdb_client.client.write_api import SYNCHRONOUS\n",
        "from influxdb_client.client.write_api import WriteType"
      ]
    },
    {
      "cell_type": "code",
      "execution_count": 15,
      "metadata": {},
      "outputs": [
        {
          "name": "stdout",
          "output_type": "stream",
          "text": [
            "temperature\n",
            "                                   ds     y\n",
            "0      2022-11-07T09:19:55.576000041Z  23.0\n",
            "1      2022-11-07T09:20:18.296123334Z  16.4\n",
            "2      2022-11-07T09:20:20.851790209Z  16.1\n",
            "3      2022-11-07T09:20:23.308454584Z  16.1\n",
            "4      2022-11-07T09:20:25.868063834Z  16.1\n",
            "...                               ...   ...\n",
            "18620  2022-11-08T22:13:03.470645208Z  17.5\n",
            "18621  2022-11-08T22:28:13.499101042Z  17.5\n",
            "18622  2022-11-08T22:43:33.508575792Z  17.4\n",
            "18623    2022-11-08T22:59:07.5065885Z  17.4\n",
            "18624  2022-11-08T22:59:08.518524792Z  17.4\n",
            "\n",
            "[18625 rows x 2 columns]\n"
          ]
        },
        {
          "name": "stderr",
          "output_type": "stream",
          "text": [
            "19:45:37 - cmdstanpy - INFO - Chain [1] start processing\n",
            "19:47:20 - cmdstanpy - INFO - Chain [1] done processing\n"
          ]
        },
        {
          "name": "stdout",
          "output_type": "stream",
          "text": [
            "\n",
            "\n",
            "Evaluating temperature\n"
          ]
        },
        {
          "name": "stderr",
          "output_type": "stream",
          "text": [
            "C:\\Users\\andre\\AppData\\Local\\Temp\\ipykernel_17776\\4089324538.py:56: SettingWithCopyWarning: \n",
            "A value is trying to be set on a copy of a slice from a DataFrame.\n",
            "Try using .loc[row_indexer,col_indexer] = value instead\n",
            "\n",
            "See the caveats in the documentation: https://pandas.pydata.org/pandas-docs/stable/user_guide/indexing.html#returning-a-view-versus-a-copy\n",
            "  test['ds'] = test.ds.dt.floor('min')\n"
          ]
        },
        {
          "data": {
            "image/png": "[encoded data removed]",
            "text/plain": [
              "<Figure size 432x288 with 1 Axes>"
            ]
          },
          "metadata": {
            "needs_background": "light"
          },
          "output_type": "display_data"
        },
        {
          "name": "stdout",
          "output_type": "stream",
          "text": [
            "mse\n",
            "0.571432881690165\n",
            "Test RMSE: 0.756\n",
            "MAE: 0.657126\n",
            "Mean:  18.03490967624837\n",
            "Standard Deviation:  0.8232933153084975\n",
            "Confidence intervals:  (18.00855780942155, 18.06126154307537)\n",
            "humidity\n",
            "                                   ds     y\n",
            "0      2022-11-07T09:19:55.577661084Z  52.6\n",
            "1      2022-11-07T09:20:18.297219084Z  56.6\n",
            "2      2022-11-07T09:20:20.852867667Z  56.7\n",
            "3        2022-11-07T09:20:23.3090375Z  56.9\n",
            "4      2022-11-07T09:20:25.870717292Z  57.0\n",
            "...                               ...   ...\n",
            "18620    2022-11-08T22:13:03.4710345Z  64.4\n",
            "18621  2022-11-08T22:28:13.503724375Z  64.4\n",
            "18622  2022-11-08T22:43:33.514910167Z  64.6\n",
            "18623  2022-11-08T22:59:07.507274542Z  64.6\n",
            "18624  2022-11-08T22:59:08.518886542Z  64.5\n",
            "\n",
            "[18625 rows x 2 columns]\n"
          ]
        },
        {
          "name": "stderr",
          "output_type": "stream",
          "text": [
            "19:47:31 - cmdstanpy - INFO - Chain [1] start processing\n",
            "19:48:45 - cmdstanpy - INFO - Chain [1] done processing\n"
          ]
        },
        {
          "name": "stdout",
          "output_type": "stream",
          "text": [
            "\n",
            "\n",
            "Evaluating humidity\n"
          ]
        },
        {
          "name": "stderr",
          "output_type": "stream",
          "text": [
            "C:\\Users\\andre\\AppData\\Local\\Temp\\ipykernel_17776\\4089324538.py:56: SettingWithCopyWarning: \n",
            "A value is trying to be set on a copy of a slice from a DataFrame.\n",
            "Try using .loc[row_indexer,col_indexer] = value instead\n",
            "\n",
            "See the caveats in the documentation: https://pandas.pydata.org/pandas-docs/stable/user_guide/indexing.html#returning-a-view-versus-a-copy\n",
            "  test['ds'] = test.ds.dt.floor('min')\n"
          ]
        },
        {
          "data": {
            "image/png": "[encoded data removed]",
            "text/plain": [
              "<Figure size 432x288 with 1 Axes>"
            ]
          },
          "metadata": {
            "needs_background": "light"
          },
          "output_type": "display_data"
        },
        {
          "name": "stdout",
          "output_type": "stream",
          "text": [
            "mse\n",
            "25.37020423231461\n",
            "Test RMSE: 5.037\n",
            "MAE: 4.597277\n",
            "Mean:  66.33902983299771\n",
            "Standard Deviation:  2.7090990830938355\n",
            "Confidence intervals:  (66.25231733706109, 66.42574232893496)\n",
            "gas\n",
            "                                   ds    y\n",
            "0      2022-11-07T09:19:55.577725667Z  750\n",
            "1      2022-11-07T09:20:18.298704792Z  325\n",
            "2      2022-11-07T09:20:20.853741709Z  212\n",
            "3         2022-11-07T09:20:23.309194Z  192\n",
            "4      2022-11-07T09:20:25.871001584Z  192\n",
            "...                               ...  ...\n",
            "18620  2022-11-08T22:13:03.471116083Z  113\n",
            "18621  2022-11-08T22:28:13.503803375Z  144\n",
            "18622  2022-11-08T22:43:33.518171167Z  167\n",
            "18623   2022-11-08T22:59:07.50736675Z   89\n",
            "18624  2022-11-08T22:59:08.518958292Z   95\n",
            "\n",
            "[18625 rows x 2 columns]\n"
          ]
        },
        {
          "name": "stderr",
          "output_type": "stream",
          "text": [
            "19:48:57 - cmdstanpy - INFO - Chain [1] start processing\n",
            "19:49:07 - cmdstanpy - INFO - Chain [1] done processing\n"
          ]
        },
        {
          "name": "stdout",
          "output_type": "stream",
          "text": [
            "\n",
            "\n",
            "Evaluating gas\n"
          ]
        },
        {
          "name": "stderr",
          "output_type": "stream",
          "text": [
            "C:\\Users\\andre\\AppData\\Local\\Temp\\ipykernel_17776\\4089324538.py:56: SettingWithCopyWarning: \n",
            "A value is trying to be set on a copy of a slice from a DataFrame.\n",
            "Try using .loc[row_indexer,col_indexer] = value instead\n",
            "\n",
            "See the caveats in the documentation: https://pandas.pydata.org/pandas-docs/stable/user_guide/indexing.html#returning-a-view-versus-a-copy\n",
            "  test['ds'] = test.ds.dt.floor('min')\n"
          ]
        },
        {
          "data": {
            "image/png": "[encoded data removed]",
            "text/plain": [
              "<Figure size 432x288 with 1 Axes>"
            ]
          },
          "metadata": {
            "needs_background": "light"
          },
          "output_type": "display_data"
        },
        {
          "name": "stdout",
          "output_type": "stream",
          "text": [
            "mse\n",
            "3452.955366915541\n",
            "Test RMSE: 58.762\n",
            "MAE: 47.963241\n",
            "Mean:  115.86684117387891\n",
            "Standard Deviation:  31.967512620435336\n",
            "Confidence intervals:  (114.84362913061655, 116.89005321714181)\n"
          ]
        }
      ],
      "source": [
        "APE = []\n",
        "i = 0\n",
        "for bucket in buckets:\n",
        "\tbucket_forecast(bucket,i)\n",
        "\tprint(\"\\n\\nEvaluating \" + bucket)\n",
        "\tplt.plot(expected, label=\"Real Value\")\n",
        "\tplt.plot(forecasted, \"-r\", label=\"Forecasted Value\")\n",
        "\n",
        "\tplt.legend(loc=\"upper left\")\n",
        "\tplt.show()\n",
        "\n",
        "\t#Mean Square Error & Root Square Error considered more accurate \n",
        "\tmse = mean_squared_error(expected, forecasted)\n",
        "\tprint('mse')\n",
        "\tprint(mse) #mah\n",
        "\trmse = math.sqrt(mean_squared_error(expected, forecasted))\n",
        "\tprint('Test RMSE: %.3f'%rmse)\n",
        "\n",
        "\t\n",
        "\t# MAE\n",
        "\t# The mean absolute error, or MAE, \n",
        "\t# is calculated as the average of the forecast error values, \n",
        "\t# where all of the forecast error values are forced to be positive.\n",
        "\t# These error values are in the original units of the predicted values. \n",
        "\t# A mean absolute error of zero indicates no error.\n",
        "\n",
        "\t# Calculate the MAE \n",
        "\tmae = mean_absolute_error(expected, forecasted)\n",
        "\tprint('MAE: %f' % mae)\n",
        "\n",
        "\n",
        "\t# A confidence interval is an estimation technique used in statistical inference to constrain a pair or pairs of values, \n",
        "\t# within which the desired point estimate will be found (with a certain probability).\n",
        "\n",
        "\t# A confidence interval will allow us to calculate two values around a sample mean (one upper and one lower). \n",
        "\t# These values will bound an interval within which, with some probability, the population parameter will be found.\n",
        "\n",
        "\n",
        "\tmean = sum(forecasted) / len(forecasted) #mean\n",
        "\tprint(\"Mean: \",mean)\n",
        "\n",
        "\n",
        "\tstd = np.std(forecasted)  # standard deviation\n",
        "\tprint(\"Standard Deviation: \",std)\n",
        "\n",
        "\t# create 95% confidence interval\n",
        "\tres = st.t.interval(alpha=0.95, df=len(forecasted)-1,\n",
        "\t\t\t\tloc=np.mean(forecasted),\n",
        "\t\t\t\tscale=st.sem(forecasted))\n",
        "\n",
        "\tprint(\"Confidence intervals: \",res)\n",
        "\n",
        "\t'''lines = [str(forecast[\"yhat\"][d]) for d in range(len(forecast))]\n",
        "\tprint(lines)\n",
        "\tlines = ['val,prediction=yes,clientId=' + str(\"diubi-esp-32\")+\",lat=999,lng=999\"+ \" \" + bucket + '=' + str(forecast[\"yhat\"][d])\n",
        "\t\t\t\t\t\t\t\t\t+ ' ' + str(int(time.mktime(forecast['ds'][d].timetuple())) + 3600*2) + \"000000000\" for d in range(len(forecast))]\n",
        "\twrite_client = client.write_api(write_options=WriteOptions(batch_size=1000, flush_interval=10_000,\n",
        "\t\t\t\t\t\t\t\t\t\t\t\t\t\t\tjitter_interval=2_000, retry_interval=5_000, write_type=WriteType.synchronous))\n",
        "\twrite_client.write(bucket, INFLUXDB_ORG, lines)'''\n",
        "\ti+=1"
      ]
    }
  ],
  "metadata": {
    "colab": {
      "collapsed_sections": [],
      "name": "forecasting.ipynb",
      "provenance": []
    },
    "kernelspec": {
      "display_name": "Python 3.9.7 64-bit",
      "language": "python",
      "name": "python3"
    },
    "language_info": {
      "codemirror_mode": {
        "name": "ipython",
        "version": 3
      },
      "file_extension": ".py",
      "mimetype": "text/x-python",
      "name": "python",
      "nbconvert_exporter": "python",
      "pygments_lexer": "ipython3",
      "version": "3.9.7"
    },
    "orig_nbformat": 4,
    "vscode": {
      "interpreter": {
        "hash": "08e595c52ca3b9470036b1110e67b559e55f367cabc363f2e28d35631ed95060"
      }
    }
  },
  "nbformat": 4,
  "nbformat_minor": 0
}
