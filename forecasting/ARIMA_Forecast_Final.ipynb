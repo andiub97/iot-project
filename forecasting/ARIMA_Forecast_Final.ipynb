{
  "cells": [
    {
      "cell_type": "markdown",
      "metadata": {
        "id": "fo4D4Yio9KGo"
      },
      "source": [
        "# Data Forecasting"
      ]
    },
    {
      "cell_type": "markdown",
      "metadata": {
        "id": "FdkmjLaTS43k"
      },
      "source": [
        "The module is in charge of: \n",
        "- forecasting the value of temperature in the next X seconds; \n",
        "- forecasting the value of humidity in the next X seconds; \n",
        "- forecasting the value of the gas sensor in the next X seconds \n",
        "\n",
        "(X is defined by users or developers). \n",
        "\n",
        "The time-series of the predicted values must be saved on INFLUX and shown on the GRAFANA dashboard as well; e.g. by using two lines for the temperature graph, one related to raw measurements, one to predictions. One or multiple techniques for time-series forecasting can be developed and compared.\n"
      ]
    },
    {
      "cell_type": "markdown",
      "metadata": {
        "id": "ljmAefVR9MU7"
      },
      "source": [
        "## Import Dependencies"
      ]
    },
    {
      "cell_type": "code",
      "execution_count": null,
      "metadata": {
        "id": "5QxN6K-MeHZQ"
      },
      "outputs": [],
      "source": [
        "!pip3 install influxdb_client\n",
        "!pip3 install statsmodels\n",
        "!pip3 install sklearn\n",
        "!pip3 install cufflinks\n",
        "!pip3 install pmdarima\n",
        "!pip3 install chart-studio"
      ]
    },
    {
      "cell_type": "code",
      "execution_count": 21,
      "metadata": {
        "id": "ok1ZYoOlX0gz"
      },
      "outputs": [],
      "source": [
        "import os\n",
        "import datetime\n",
        "import IPython\n",
        "import IPython.display\n",
        "import matplotlib as mpl\n",
        "import cufflinks as cf\n",
        "from plotly.offline import download_plotlyjs, init_notebook_mode, plot, iplot\n",
        "import matplotlib.pyplot as plt\n",
        "import chart_studio.plotly as py\n",
        "import numpy as np\n",
        "import pandas as pd\n",
        "import seaborn as sns\n",
        "import random\n",
        "from datetime import datetime,timezone\n",
        "import dateutil.parser\n",
        "import time\n",
        "import statsmodels.graphics.tsaplots as tsaplots\n",
        "from datetime import timedelta\n",
        "from influxdb_client import InfluxDBClient, Point, WriteOptions\n",
        "from influxdb_client.client.write_api import SYNCHRONOUS\n",
        "from influxdb_client.client.write_api import WriteType"
      ]
    },
    {
      "cell_type": "markdown",
      "metadata": {},
      "source": [
        "## Influx Setting"
      ]
    },
    {
      "cell_type": "code",
      "execution_count": null,
      "metadata": {},
      "outputs": [],
      "source": [
        "INFLUXDB_HOST = os.getenv(\"INFLUX_HOST\")\n",
        "INFLUXDB_PORT = os.getenv(\"INFLUX_HOST_PORT\")\n",
        "INFLUXDB_ORG = os.getenv(\"INFLUX_ORG\")\n",
        "INFLUXDB_TOKEN = os.getenv(\"INFLUX_TOKEN\")\n",
        "client = InfluxDBClient(url=\"http://\"+INFLUXDB_HOST+\":\"+INFLUXDB_PORT, token=INFLUXDB_TOKEN, org=INFLUXDB_ORG)"
      ]
    },
    {
      "cell_type": "markdown",
      "metadata": {},
      "source": [
        "## Influx Query"
      ]
    },
    {
      "cell_type": "code",
      "execution_count": null,
      "metadata": {},
      "outputs": [],
      "source": [
        "buckets = ['temperature']\n",
        "for bucket in buckets:\n",
        "    query = 'from(bucket: \"' + bucket + '\")' \\\n",
        "                ' |> range(start: 2022-09-26T00:00:00.00Z, stop: 2022-09-28T15:50:00.00Z)' \\\n",
        "                ' |> filter(fn: (r) => r[\"_measurement\"] == \"val\")' \\\n",
        "                ' |> filter(fn: (r) => r[\"_field\"] == \"'+bucket+ '\")' \\\n",
        "                ' |> aggregateWindow(every: 3m , fn: mean, createEmpty: false)'\\\n",
        "                ' |> yield(name: \"mean\")'\\\n",
        "\n",
        "    result = client.query_api().query(org=INFLUXDB_ORG, query=query)"
      ]
    },
    {
      "cell_type": "code",
      "execution_count": null,
      "metadata": {},
      "outputs": [],
      "source": []
    },
    {
      "cell_type": "code",
      "execution_count": 7,
      "metadata": {},
      "outputs": [
        {
          "data": {
            "text/html": [
              "<div>\n",
              "<style scoped>\n",
              "    .dataframe tbody tr th:only-of-type {\n",
              "        vertical-align: middle;\n",
              "    }\n",
              "\n",
              "    .dataframe tbody tr th {\n",
              "        vertical-align: top;\n",
              "    }\n",
              "\n",
              "    .dataframe thead th {\n",
              "        text-align: right;\n",
              "    }\n",
              "</style>\n",
              "<table border=\"1\" class=\"dataframe\">\n",
              "  <thead>\n",
              "    <tr style=\"text-align: right;\">\n",
              "      <th></th>\n",
              "      <th>Temperature</th>\n",
              "    </tr>\n",
              "  </thead>\n",
              "  <tbody>\n",
              "    <tr>\n",
              "      <th>count</th>\n",
              "      <td>449.000000</td>\n",
              "    </tr>\n",
              "    <tr>\n",
              "      <th>mean</th>\n",
              "      <td>27.829988</td>\n",
              "    </tr>\n",
              "    <tr>\n",
              "      <th>std</th>\n",
              "      <td>0.551873</td>\n",
              "    </tr>\n",
              "    <tr>\n",
              "      <th>min</th>\n",
              "      <td>23.327273</td>\n",
              "    </tr>\n",
              "    <tr>\n",
              "      <th>25%</th>\n",
              "      <td>27.513846</td>\n",
              "    </tr>\n",
              "    <tr>\n",
              "      <th>50%</th>\n",
              "      <td>27.979592</td>\n",
              "    </tr>\n",
              "    <tr>\n",
              "      <th>75%</th>\n",
              "      <td>28.279687</td>\n",
              "    </tr>\n",
              "    <tr>\n",
              "      <th>max</th>\n",
              "      <td>28.500000</td>\n",
              "    </tr>\n",
              "  </tbody>\n",
              "</table>\n",
              "</div>"
            ],
            "text/plain": [
              "       Temperature\n",
              "count   449.000000\n",
              "mean     27.829988\n",
              "std       0.551873\n",
              "min      23.327273\n",
              "25%      27.513846\n",
              "50%      27.979592\n",
              "75%      28.279687\n",
              "max      28.500000"
            ]
          },
          "execution_count": 7,
          "metadata": {},
          "output_type": "execute_result"
        }
      ],
      "source": []
    },
    {
      "cell_type": "code",
      "execution_count": 8,
      "metadata": {},
      "outputs": [],
      "source": [
        "data.index = pd.to_datetime(data.index)"
      ]
    },
    {
      "cell_type": "code",
      "execution_count": 9,
      "metadata": {},
      "outputs": [
        {
          "name": "stdout",
          "output_type": "stream",
          "text": [
            "449\n"
          ]
        }
      ],
      "source": [
        "data.head()\n",
        "print(data.shape[0])"
      ]
    },
    {
      "cell_type": "code",
      "execution_count": 10,
      "metadata": {},
      "outputs": [],
      "source": [
        "data.columns = ['value']"
      ]
    },
    {
      "cell_type": "code",
      "execution_count": 11,
      "metadata": {},
      "outputs": [
        {
          "data": {
            "image/png": "[encoded data removed]",
            "text/plain": [
              "<Figure size 640x480 with 1 Axes>"
            ]
          },
          "metadata": {},
          "output_type": "display_data"
        }
      ],
      "source": [
        "plot_cols = ['value']\n",
        "plot_features = data[plot_cols]\n",
        "plot_features.index = data.index\n",
        "_ = plot_features.plot(subplots=True)\n"
      ]
    },
    {
      "cell_type": "markdown",
      "metadata": {},
      "source": [
        "## hyperparameters setting for ARIMA model"
      ]
    },
    {
      "cell_type": "code",
      "execution_count": 12,
      "metadata": {},
      "outputs": [
        {
          "name": "stderr",
          "output_type": "stream",
          "text": [
            "/var/folders/n9/754psrw51dg25ldhmszf6lyh0000gn/T/ipykernel_46062/2653802487.py:5: FutureWarning: The pandas.datetime class is deprecated and will be removed from pandas in a future version. Import from datetime module instead.\n",
            "  from pandas import datetime\n"
          ]
        },
        {
          "name": "stdout",
          "output_type": "stream",
          "text": [
            "ARIMA(0, 0, 0) RMSE=0.428\n",
            "ARIMA(0, 0, 1) RMSE=0.252\n",
            "ARIMA(0, 0, 2) RMSE=0.183\n",
            "ARIMA(0, 1, 0) RMSE=0.069\n",
            "ARIMA(0, 1, 1) RMSE=0.069\n",
            "ARIMA(0, 1, 2) RMSE=0.069\n",
            "ARIMA(0, 2, 0) RMSE=0.089\n",
            "ARIMA(0, 2, 1) RMSE=0.070\n",
            "ARIMA(0, 2, 2) RMSE=0.070\n",
            "ARIMA(1, 0, 0) RMSE=0.072\n",
            "ARIMA(1, 0, 1) RMSE=0.072\n",
            "ARIMA(1, 0, 2) RMSE=0.072\n",
            "ARIMA(1, 1, 0) RMSE=0.069\n",
            "ARIMA(1, 1, 1) RMSE=0.069\n",
            "ARIMA(1, 1, 2) RMSE=0.067\n",
            "ARIMA(1, 2, 0) RMSE=0.082\n",
            "ARIMA(1, 2, 1) RMSE=0.070\n",
            "ARIMA(1, 2, 2) RMSE=0.070\n",
            "ARIMA(2, 0, 0) RMSE=0.072\n",
            "ARIMA(2, 0, 1) RMSE=0.072\n",
            "ARIMA(2, 0, 2) RMSE=0.071\n",
            "ARIMA(2, 1, 0) RMSE=0.069\n",
            "ARIMA(2, 1, 1) RMSE=0.067\n",
            "ARIMA(2, 1, 2) RMSE=0.067\n",
            "ARIMA(2, 2, 0) RMSE=0.080\n",
            "ARIMA(2, 2, 1) RMSE=0.069\n",
            "ARIMA(2, 2, 2) RMSE=0.069\n",
            "Best ARIMA(2, 1, 1) RMSE=0.067\n"
          ]
        }
      ],
      "source": [
        "# grid search ARIMA parameters for time series\n",
        "import warnings\n",
        "from math import sqrt\n",
        "from pandas import read_csv\n",
        "from pandas import datetime\n",
        "from statsmodels.tsa.arima.model import ARIMA\n",
        "from sklearn.metrics import mean_squared_error\n",
        " \n",
        "# evaluate an ARIMA model for a given order (p,d,q)\n",
        "def evaluate_arima_model(X, arima_order):\n",
        "\t# prepare training dataset\n",
        "\ttrain_size = int(len(X) * 0.66)\n",
        "\ttrain, test = X[0:train_size], X[train_size:]\n",
        "\thistory = [x for x in train]\n",
        "\t# make predictions\n",
        "\tpredictions = list()\n",
        "\tfor t in range(len(test)):\n",
        "\t\tmodel = ARIMA(history, order=arima_order)\n",
        "\t\tmodel_fit = model.fit()\n",
        "\t\tyhat = model_fit.forecast()[0]\n",
        "\t\tpredictions.append(yhat)\n",
        "\t\thistory.append(test[t])\n",
        "\t# calculate out of sample error\n",
        "\trmse = sqrt(mean_squared_error(test, predictions))\n",
        "\treturn rmse\n",
        " \n",
        "# evaluate combinations of p, d and q values for an ARIMA model\n",
        "def evaluate_models(dataset, p_values, d_values, q_values):\n",
        "\tdataset = dataset.astype('float32')\n",
        "\tbest_score, best_cfg = float(\"inf\"), None\n",
        "\tfor p in p_values:\n",
        "\t\tfor d in d_values:\n",
        "\t\t\tfor q in q_values:\n",
        "\t\t\t\torder = (p,d,q)\n",
        "\t\t\t\ttry:\n",
        "\t\t\t\t\trmse = evaluate_arima_model(dataset, order)\n",
        "\t\t\t\t\tif rmse < best_score:\n",
        "\t\t\t\t\t\tbest_score, best_cfg = rmse, order\n",
        "\t\t\t\t\tprint('ARIMA%s RMSE=%.3f' % (order,rmse))\n",
        "\t\t\t\texcept:\n",
        "\t\t\t\t\tcontinue\n",
        "\tprint('Best ARIMA%s RMSE=%.3f' % (best_cfg, best_score))\n",
        " \n",
        "# load dataset\n",
        "def parser(x):\n",
        "\treturn datetime.strptime('190'+x, '%Y-%m')\n",
        "# evaluate parameters\n",
        "p_values = [0, 1, 2]\n",
        "d_values = range(0, 3)\n",
        "q_values = range(0, 3)\n",
        "warnings.filterwarnings(\"ignore\")\n",
        "evaluate_models(data.values, p_values, d_values, q_values)"
      ]
    },
    {
      "cell_type": "code",
      "execution_count": 13,
      "metadata": {},
      "outputs": [
        {
          "name": "stdout",
          "output_type": "stream",
          "text": [
            "Performing stepwise search to minimize aic\n",
            " ARIMA(1,1,1)(0,1,1)[12]             : AIC=inf, Time=0.96 sec\n",
            " ARIMA(0,1,0)(0,1,0)[12]             : AIC=272.947, Time=0.01 sec\n",
            " ARIMA(1,1,0)(1,1,0)[12]             : AIC=178.589, Time=0.09 sec\n",
            " ARIMA(0,1,1)(0,1,1)[12]             : AIC=inf, Time=0.89 sec\n",
            " ARIMA(1,1,0)(0,1,0)[12]             : AIC=273.990, Time=0.02 sec\n",
            " ARIMA(1,1,0)(2,1,0)[12]             : AIC=137.226, Time=0.51 sec\n",
            " ARIMA(1,1,0)(2,1,1)[12]             : AIC=inf, Time=3.03 sec\n",
            " ARIMA(1,1,0)(1,1,1)[12]             : AIC=inf, Time=0.80 sec\n",
            " ARIMA(0,1,0)(2,1,0)[12]             : AIC=135.325, Time=0.27 sec\n",
            " ARIMA(0,1,0)(1,1,0)[12]             : AIC=176.932, Time=0.05 sec\n",
            " ARIMA(0,1,0)(2,1,1)[12]             : AIC=inf, Time=2.42 sec\n",
            " ARIMA(0,1,0)(1,1,1)[12]             : AIC=inf, Time=0.61 sec\n",
            " ARIMA(0,1,1)(2,1,0)[12]             : AIC=137.201, Time=0.39 sec\n",
            " ARIMA(1,1,1)(2,1,0)[12]             : AIC=130.924, Time=0.98 sec\n",
            " ARIMA(1,1,1)(1,1,0)[12]             : AIC=168.140, Time=0.30 sec\n",
            " ARIMA(1,1,1)(2,1,1)[12]             : AIC=inf, Time=4.08 sec\n",
            " ARIMA(1,1,1)(1,1,1)[12]             : AIC=inf, Time=0.91 sec\n",
            " ARIMA(2,1,1)(2,1,0)[12]             : AIC=130.141, Time=1.16 sec\n",
            " ARIMA(2,1,1)(1,1,0)[12]             : AIC=167.567, Time=0.32 sec\n",
            " ARIMA(2,1,1)(2,1,1)[12]             : AIC=inf, Time=4.05 sec\n",
            " ARIMA(2,1,1)(1,1,1)[12]             : AIC=inf, Time=1.43 sec\n",
            " ARIMA(2,1,0)(2,1,0)[12]             : AIC=134.863, Time=0.37 sec\n",
            " ARIMA(3,1,1)(2,1,0)[12]             : AIC=133.845, Time=0.87 sec\n",
            " ARIMA(2,1,2)(2,1,0)[12]             : AIC=132.126, Time=1.88 sec\n",
            " ARIMA(1,1,2)(2,1,0)[12]             : AIC=130.147, Time=1.00 sec\n",
            " ARIMA(3,1,0)(2,1,0)[12]             : AIC=132.392, Time=0.49 sec\n",
            " ARIMA(3,1,2)(2,1,0)[12]             : AIC=inf, Time=4.41 sec\n",
            " ARIMA(2,1,1)(2,1,0)[12] intercept   : AIC=131.131, Time=4.71 sec\n",
            "\n",
            "Best model:  ARIMA(2,1,1)(2,1,0)[12]          \n",
            "Total fit time: 37.040 seconds\n",
            "130.1406025490624\n"
          ]
        }
      ],
      "source": [
        "\n",
        "from pmdarima.arima import auto_arima\n",
        "stepwise_model = auto_arima(data.values, start_p=1, start_q=1,\n",
        "                          max_p=3, max_q=3, m=12,\n",
        "                           start_P=0, seasonal=True,\n",
        "                           d=1, D=1, trace=True,\n",
        "                           error_action='ignore',  \n",
        "                           suppress_warnings=True, \n",
        "                           stepwise=True)\n",
        "print(stepwise_model.aic())\n"
      ]
    },
    {
      "cell_type": "markdown",
      "metadata": {},
      "source": [
        "## Evaluation ARIMA model"
      ]
    },
    {
      "cell_type": "code",
      "execution_count": 37,
      "metadata": {},
      "outputs": [
        {
          "name": "stderr",
          "output_type": "stream",
          "text": [
            "/var/folders/n9/754psrw51dg25ldhmszf6lyh0000gn/T/ipykernel_49293/2024634217.py:3: FutureWarning:\n",
            "\n",
            "The pandas.datetime class is deprecated and will be removed from pandas in a future version. Import from datetime module instead.\n",
            "\n"
          ]
        },
        {
          "ename": "KeyError",
          "evalue": "0",
          "output_type": "error",
          "traceback": [
            "\u001b[0;31m---------------------------------------------------------------------------\u001b[0m",
            "\u001b[0;31mValueError\u001b[0m                                Traceback (most recent call last)",
            "File \u001b[0;32m~/Library/Python/3.8/lib/python/site-packages/pandas/core/indexes/range.py:385\u001b[0m, in \u001b[0;36mRangeIndex.get_loc\u001b[0;34m(self, key, method, tolerance)\u001b[0m\n\u001b[1;32m    384\u001b[0m \u001b[39mtry\u001b[39;00m:\n\u001b[0;32m--> 385\u001b[0m     \u001b[39mreturn\u001b[39;00m \u001b[39mself\u001b[39;49m\u001b[39m.\u001b[39;49m_range\u001b[39m.\u001b[39;49mindex(new_key)\n\u001b[1;32m    386\u001b[0m \u001b[39mexcept\u001b[39;00m \u001b[39mValueError\u001b[39;00m \u001b[39mas\u001b[39;00m err:\n",
            "\u001b[0;31mValueError\u001b[0m: 0 is not in range",
            "\nThe above exception was the direct cause of the following exception:\n",
            "\u001b[0;31mKeyError\u001b[0m                                  Traceback (most recent call last)",
            "\u001b[1;32m/Users/riccardobaratin/Documents/GitHub/iot-project/forecasting/ARIMA_Forecast_Final.ipynb Cella 19\u001b[0m in \u001b[0;36m<cell line: 24>\u001b[0;34m()\u001b[0m\n\u001b[1;32m     <a href='vscode-notebook-cell:/Users/riccardobaratin/Documents/GitHub/iot-project/forecasting/ARIMA_Forecast_Final.ipynb#X21sZmlsZQ%3D%3D?line=28'>29</a>\u001b[0m l\u001b[39m.\u001b[39mappend(yhat)\n\u001b[1;32m     <a href='vscode-notebook-cell:/Users/riccardobaratin/Documents/GitHub/iot-project/forecasting/ARIMA_Forecast_Final.ipynb#X21sZmlsZQ%3D%3D?line=29'>30</a>\u001b[0m predictions\u001b[39m.\u001b[39mappend(yhat)\n\u001b[0;32m---> <a href='vscode-notebook-cell:/Users/riccardobaratin/Documents/GitHub/iot-project/forecasting/ARIMA_Forecast_Final.ipynb#X21sZmlsZQ%3D%3D?line=30'>31</a>\u001b[0m obs \u001b[39m=\u001b[39m test[t]\n\u001b[1;32m     <a href='vscode-notebook-cell:/Users/riccardobaratin/Documents/GitHub/iot-project/forecasting/ARIMA_Forecast_Final.ipynb#X21sZmlsZQ%3D%3D?line=31'>32</a>\u001b[0m history\u001b[39m.\u001b[39mappend(obs)\n\u001b[1;32m     <a href='vscode-notebook-cell:/Users/riccardobaratin/Documents/GitHub/iot-project/forecasting/ARIMA_Forecast_Final.ipynb#X21sZmlsZQ%3D%3D?line=32'>33</a>\u001b[0m \u001b[39mprint\u001b[39m(\u001b[39m'\u001b[39m\u001b[39mpredicted=\u001b[39m\u001b[39m%f\u001b[39;00m\u001b[39m, expected=\u001b[39m\u001b[39m%f\u001b[39;00m\u001b[39m'\u001b[39m \u001b[39m%\u001b[39m (yhat, obs))\n",
            "File \u001b[0;32m~/Library/Python/3.8/lib/python/site-packages/pandas/core/series.py:958\u001b[0m, in \u001b[0;36mSeries.__getitem__\u001b[0;34m(self, key)\u001b[0m\n\u001b[1;32m    955\u001b[0m     \u001b[39mreturn\u001b[39;00m \u001b[39mself\u001b[39m\u001b[39m.\u001b[39m_values[key]\n\u001b[1;32m    957\u001b[0m \u001b[39melif\u001b[39;00m key_is_scalar:\n\u001b[0;32m--> 958\u001b[0m     \u001b[39mreturn\u001b[39;00m \u001b[39mself\u001b[39;49m\u001b[39m.\u001b[39;49m_get_value(key)\n\u001b[1;32m    960\u001b[0m \u001b[39mif\u001b[39;00m is_hashable(key):\n\u001b[1;32m    961\u001b[0m     \u001b[39m# Otherwise index.get_value will raise InvalidIndexError\u001b[39;00m\n\u001b[1;32m    962\u001b[0m     \u001b[39mtry\u001b[39;00m:\n\u001b[1;32m    963\u001b[0m         \u001b[39m# For labels that don't resolve as scalars like tuples and frozensets\u001b[39;00m\n",
            "File \u001b[0;32m~/Library/Python/3.8/lib/python/site-packages/pandas/core/series.py:1069\u001b[0m, in \u001b[0;36mSeries._get_value\u001b[0;34m(self, label, takeable)\u001b[0m\n\u001b[1;32m   1066\u001b[0m     \u001b[39mreturn\u001b[39;00m \u001b[39mself\u001b[39m\u001b[39m.\u001b[39m_values[label]\n\u001b[1;32m   1068\u001b[0m \u001b[39m# Similar to Index.get_value, but we do not fall back to positional\u001b[39;00m\n\u001b[0;32m-> 1069\u001b[0m loc \u001b[39m=\u001b[39m \u001b[39mself\u001b[39;49m\u001b[39m.\u001b[39;49mindex\u001b[39m.\u001b[39;49mget_loc(label)\n\u001b[1;32m   1070\u001b[0m \u001b[39mreturn\u001b[39;00m \u001b[39mself\u001b[39m\u001b[39m.\u001b[39mindex\u001b[39m.\u001b[39m_get_values_for_loc(\u001b[39mself\u001b[39m, loc, label)\n",
            "File \u001b[0;32m~/Library/Python/3.8/lib/python/site-packages/pandas/core/indexes/range.py:387\u001b[0m, in \u001b[0;36mRangeIndex.get_loc\u001b[0;34m(self, key, method, tolerance)\u001b[0m\n\u001b[1;32m    385\u001b[0m         \u001b[39mreturn\u001b[39;00m \u001b[39mself\u001b[39m\u001b[39m.\u001b[39m_range\u001b[39m.\u001b[39mindex(new_key)\n\u001b[1;32m    386\u001b[0m     \u001b[39mexcept\u001b[39;00m \u001b[39mValueError\u001b[39;00m \u001b[39mas\u001b[39;00m err:\n\u001b[0;32m--> 387\u001b[0m         \u001b[39mraise\u001b[39;00m \u001b[39mKeyError\u001b[39;00m(key) \u001b[39mfrom\u001b[39;00m \u001b[39merr\u001b[39;00m\n\u001b[1;32m    388\u001b[0m \u001b[39mself\u001b[39m\u001b[39m.\u001b[39m_check_indexing_error(key)\n\u001b[1;32m    389\u001b[0m \u001b[39mraise\u001b[39;00m \u001b[39mKeyError\u001b[39;00m(key)\n",
            "\u001b[0;31mKeyError\u001b[0m: 0"
          ]
        }
      ],
      "source": [
        "def result_to_dataframe(result):\n",
        "    raw = []\n",
        "    for table in result:\n",
        "        for record in table.records:\n",
        "            raw.append((record.get_time(), record.get_value()))\n",
        "    return pd.DataFrame(raw, columns=['ds','y'], index=None)\n",
        "    \n",
        "buckets = ['temperature']\n",
        "for bucket in buckets:\n",
        "    query = 'from(bucket: \"' + bucket + '\")' \\\n",
        "                ' |> range(start: 2022-09-26T00:00:00.00Z, stop: 2022-09-28T15:50:00.00Z)' \\\n",
        "                ' |> filter(fn: (r) => r[\"_measurement\"] == \"val\")' \\\n",
        "                ' |> filter(fn: (r) => r[\"_field\"] == \"'+bucket+ '\")' \\\n",
        "                ' |> aggregateWindow(every: 3m , fn: mean, createEmpty: false)'\\\n",
        "                ' |> yield(name: \"mean\")'\\\n",
        "\n",
        "    result = client.query_api().query(org=INFLUXDB_ORG, query=query)\n",
        "\n",
        "    print(result)\n",
        "    # Convert the results to dataframe\n",
        "    df = result_to_dataframe(result)\n",
        "    print(df)\n",
        "    df['ds'] = df['ds'].dt.tz_localize(None)\n",
        "\n",
        "    # split into train and test sets\n",
        "    nrows = (len(df.values))\n",
        "    splitPoint = int (nrows * 0.60)\n",
        "    train = df['y'] [:splitPoint]\n",
        "    test = df['y'] [splitPoint:]\n",
        "    history = [x for x in train]\n",
        "    predictions = list()\n",
        "    l = list()\n",
        "\n",
        "    for x in history:\n",
        "        l.append(x)\n",
        "    for t in range(len(test)):\n",
        "        print(t)\n",
        "    # walk-forward validation\n",
        "    for t in range(len(test)):\n",
        "        model = ARIMA(history, order=(2,1,1))\n",
        "        model_fit = model.fit()\n",
        "        output = model_fit.forecast()\n",
        "        yhat = output[0]\n",
        "        l.append(yhat)\n",
        "        predictions.append(yhat)\n",
        "        obs = test[t]\n",
        "        history.append(obs)\n",
        "        print('predicted=%f, expected=%f' % (yhat, obs))\n",
        "    # evaluate forecasts\n",
        "    rmse = sqrt(mean_squared_error(test, predictions))\n",
        "    print('Test RMSE: %.3f' % rmse)\n",
        "\n",
        "\n",
        "    future_forecast1 = pd.DataFrame(predictions,index = test.index ,columns = ['Predicted values'])\n",
        "    future_forecast2 = pd.DataFrame(l,index = df.index,  columns = ['Predicted values'])\n",
        "    future_forecast1\n",
        "    colors = [\"blue\",\"red\"]\n",
        "\n",
        "    cf.go_offline()\n",
        "    pd.concat([future_forecast1,test],axis=1).iplot(color = colors)\n",
        "    pd.concat([future_forecast2,train],axis=1).iplot(color = colors)"
      ]
    },
    {
      "cell_type": "code",
      "execution_count": null,
      "metadata": {},
      "outputs": [],
      "source": [
        "future_forecast1.reset_index(inplace=True)\n",
        "future_forecast1[\"Time\"]"
      ]
    },
    {
      "cell_type": "code",
      "execution_count": 29,
      "metadata": {},
      "outputs": [
        {
          "name": "stdout",
          "output_type": "stream",
          "text": [
            "['28.30059826949105', '28.300501169030294', '28.300419912377293', '28.300351568102126', '28.300294036334943', '28.30024664325173', '28.300206986313537', '28.300173632650637', '28.30014546664556', '28.30012168073786', '28.304970732567508', '28.314906801183906', '28.29886753815069', '28.30035504062549', '28.300297473189286', '28.300249262498276', '28.30020878014579', '28.300175203383088', '28.30014666088803', '28.300122864507095', '28.30010317252212', '28.300086417660374', '28.30007253400407', '28.30006077661865', '28.300050929805703', '28.300042679015814', '28.30003586363118', '28.30003008511134', '28.295525579309995', '28.300399528298584', '28.299949260137915', '28.29995741980606', '28.299964336749724', '28.299970196879883', '28.299974903586982', '28.264404338337982', '28.292313190409935', '28.30033955265716', '28.299372001124834', '28.276272869664556', '28.26492621360139', '28.243576039909836', '28.206332543619048', '28.2027634302835', '28.208214988886947', '28.206615511179113', '28.22127098757743', '28.200405525669304', '28.205256408500247', '28.202647520223113', '28.17761481282291', '28.194928126189467', '28.24847005317214', '28.249633413298525', '28.201709421717744', '28.280545230326357', '28.165822425316005', '28.17167467869488', '28.105669425728173', '28.110341637583428', '28.108681190125743', '28.158317978008547', '28.135860770145303', '28.103058701479508', '28.16268273995201', '28.143100667795746', '28.065305272050708', '28.107607895578447', '28.10333688154759', '28.102792115186304', '28.102341102977693', '28.101967418227375', '28.10164761855969', '28.101384897917363', '28.101161010492355', '28.100974656739883', '28.100819317859937', '28.10068632030131', '28.10057527037255', '28.09256904898362', '28.101068378533856', '28.10021985070104', '28.100186473065595', '28.10015502203816', '28.100130012813235', '28.100110227575858', '28.095525937152633', '28.018532146335843', '28.082107562247725', '28.00964072196924', '28.007266482152794', '28.006754209226248', '28.00566737790736', '28.00475895937561', '28.003995621795102', '28.045084417766937', '28.06735208605752', '28.012789774838822', '28.016170303745675', '28.02832661521958', '28.018978691801898', '28.060039785714064', '28.050311088699356', '28.097647222553782', '28.053910174472993', '27.99948109118864', '28.147359923342258', '28.090851010608223', '28.07904617132331', '27.999234548545797', '28.006295926442057', '28.053163332890517', '28.071337169672425', '28.072706240290483', '28.16082660933156', '27.92702279191679', '27.913408734593748', '27.926295442039393', '28.039015465857442', '27.97818206266974', '28.0598432036079', '28.005164733389016', '27.952262771385776', '27.87260780298733', '27.983980173693734', '28.065331542173293', '28.130079724869667', '28.19161058982479', '28.176045561032563', '28.189822073750747', '28.248441842968237', '28.192443603455683', '28.191707418681787', '28.213761246578343', '28.29190903929453', '28.28653376096978', '28.28871548365045', '28.21170654059003', '28.111420490009163', '28.28496178047097', '28.292376184868385', '28.291680657366918', '28.295048305903247', '28.329506533601638', '28.38484022657404', '28.293407683773363', '28.32679651465941', '28.32729386924794', '28.296875876076946', '28.22550909213191', '28.10855849478313', '28.19397812211294', '28.136307849682844', '28.114412215067272', '28.055152790774894', '28.105419970176623', '28.294796466228547', '28.322270239934223', '28.304874871601037', '28.40082938027558', '28.308138858696086', '28.096089536772052', '28.23469891424844', '28.300931033954996', '28.30991296175768', '28.344517281166617', '28.29169167410839', '28.297411857521638', '28.316053142795617', '28.489527016139927', '28.479985334827887', '28.48281620067118', '28.44232465723407', '28.35560085554669', '28.184246191505952', '27.936595507508905', '27.765104733577363', '27.853850434763924', '27.983987390832468', '28.113204583458405']\n"
          ]
        }
      ],
      "source": [
        "#buckets = [ 'temperature', 'humidity', 'gas']\n",
        "bucket = 'temperature'\n",
        "lines = [str(future_forecast1[\"Predicted values\"][d]) for d in range(len(future_forecast1))]\n",
        "print(lines)\n",
        "future_forecast1.reset_index(inplace=True)\n",
        "\n",
        "future_forecast1['Time'] = pd.to_datetime(future_forecast1['Time'])\n",
        "future_forecast1['Time'] = future_forecast1['Time'].dt.tz_localize(None)\n",
        "future_forecast1['Time']\n",
        "lines = ['val,prediction=yes,clientId=' + str(\"diubi-esp-32\")+\",lat=999,lng=999\"+ \" \" + bucket + '=' + str(future_forecast1[\"Predicted values\"][d])\n",
        "                                    + ' ' + str(int(time.mktime(future_forecast1['Time'][d].timetuple())) + 3600*2) + \"000000000\" for d in range(len(future_forecast1))]\n",
        "write_client = client.write_api(write_options=WriteOptions(batch_size=1000, flush_interval=10_000,\n",
        "                                                            jitter_interval=2_000, retry_interval=5_000, write_type=WriteType.synchronous))\n",
        "write_client.write(bucket, INFLUXDB_ORG, lines)"
      ]
    }
  ],
  "metadata": {
    "colab": {
      "collapsed_sections": [],
      "name": "forecasting.ipynb",
      "provenance": []
    },
    "kernelspec": {
      "display_name": "Python 3.8.9 64-bit",
      "language": "python",
      "name": "python3"
    },
    "language_info": {
      "codemirror_mode": {
        "name": "ipython",
        "version": 3
      },
      "file_extension": ".py",
      "mimetype": "text/x-python",
      "name": "python",
      "nbconvert_exporter": "python",
      "pygments_lexer": "ipython3",
      "version": "3.8.9"
    },
    "orig_nbformat": 4,
    "vscode": {
      "interpreter": {
        "hash": "31f2aee4e71d21fbe5cf8b01ff0e069b9275f58929596ceb00d14d90e3e16cd6"
      }
    }
  },
  "nbformat": 4,
  "nbformat_minor": 0
}
