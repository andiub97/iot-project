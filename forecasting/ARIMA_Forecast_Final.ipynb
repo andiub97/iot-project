{
  "cells": [
    {
      "cell_type": "markdown",
      "metadata": {
        "id": "fo4D4Yio9KGo"
      },
      "source": [
        "# Data Forecasting"
      ]
    },
    {
      "cell_type": "markdown",
      "metadata": {
        "id": "FdkmjLaTS43k"
      },
      "source": [
        "The module is in charge of: \n",
        "- forecasting the value of temperature in the next X seconds; \n",
        "- forecasting the value of humidity in the next X seconds; \n",
        "- forecasting the value of the gas sensor in the next X seconds \n",
        "\n",
        "(X is defined by users or developers). \n",
        "\n",
        "The time-series of the predicted values must be saved on INFLUX and shown on the GRAFANA dashboard as well; e.g. by using two lines for the temperature graph, one related to raw measurements, one to predictions. One or multiple techniques for time-series forecasting can be developed and compared.\n"
      ]
    },
    {
      "cell_type": "markdown",
      "metadata": {
        "id": "ljmAefVR9MU7"
      },
      "source": [
        "## Import Dependencies"
      ]
    },
    {
      "cell_type": "code",
      "execution_count": 3,
      "metadata": {
        "id": "5QxN6K-MeHZQ"
      },
      "outputs": [
        {
          "name": "stdout",
          "output_type": "stream",
          "text": [
            "Defaulting to user installation because normal site-packages is not writeable\n",
            "Requirement already satisfied: influxdb_client in /Users/riccardobaratin/Library/Python/3.8/lib/python/site-packages (1.32.0)\n",
            "Requirement already satisfied: reactivex>=4.0.4 in /Users/riccardobaratin/Library/Python/3.8/lib/python/site-packages (from influxdb_client) (4.0.4)\n",
            "Requirement already satisfied: urllib3>=1.26.0 in /Users/riccardobaratin/Library/Python/3.8/lib/python/site-packages (from influxdb_client) (1.26.12)\n",
            "Requirement already satisfied: python-dateutil>=2.5.3 in /Users/riccardobaratin/Library/Python/3.8/lib/python/site-packages (from influxdb_client) (2.8.2)\n",
            "Requirement already satisfied: setuptools>=21.0.0 in /Library/Developer/CommandLineTools/Library/Frameworks/Python3.framework/Versions/3.8/lib/python3.8/site-packages (from influxdb_client) (49.2.1)\n",
            "Requirement already satisfied: certifi>=14.05.14 in /Users/riccardobaratin/Library/Python/3.8/lib/python/site-packages (from influxdb_client) (2022.6.15)\n",
            "Requirement already satisfied: six>=1.5 in /Library/Developer/CommandLineTools/Library/Frameworks/Python3.framework/Versions/3.8/lib/python3.8/site-packages (from python-dateutil>=2.5.3->influxdb_client) (1.15.0)\n",
            "Requirement already satisfied: typing-extensions<5.0.0,>=4.1.1 in /Users/riccardobaratin/Library/Python/3.8/lib/python/site-packages (from reactivex>=4.0.4->influxdb_client) (4.3.0)\n",
            "Defaulting to user installation because normal site-packages is not writeable\n",
            "Requirement already satisfied: statsmodels in /Users/riccardobaratin/Library/Python/3.8/lib/python/site-packages (0.13.2)\n",
            "Requirement already satisfied: patsy>=0.5.2 in /Users/riccardobaratin/Library/Python/3.8/lib/python/site-packages (from statsmodels) (0.5.2)\n",
            "Requirement already satisfied: pandas>=0.25 in /Users/riccardobaratin/Library/Python/3.8/lib/python/site-packages (from statsmodels) (1.4.3)\n",
            "Requirement already satisfied: scipy>=1.3 in /Users/riccardobaratin/Library/Python/3.8/lib/python/site-packages (from statsmodels) (1.9.1)\n",
            "Requirement already satisfied: packaging>=21.3 in /Users/riccardobaratin/Library/Python/3.8/lib/python/site-packages (from statsmodels) (21.3)\n",
            "Requirement already satisfied: numpy>=1.17 in /Users/riccardobaratin/Library/Python/3.8/lib/python/site-packages (from statsmodels) (1.23.2)\n",
            "Requirement already satisfied: pyparsing!=3.0.5,>=2.0.2 in /Users/riccardobaratin/Library/Python/3.8/lib/python/site-packages (from packaging>=21.3->statsmodels) (3.0.9)\n",
            "Requirement already satisfied: python-dateutil>=2.8.1 in /Users/riccardobaratin/Library/Python/3.8/lib/python/site-packages (from pandas>=0.25->statsmodels) (2.8.2)\n",
            "Requirement already satisfied: pytz>=2020.1 in /Users/riccardobaratin/Library/Python/3.8/lib/python/site-packages (from pandas>=0.25->statsmodels) (2022.2.1)\n",
            "Requirement already satisfied: six in /Library/Developer/CommandLineTools/Library/Frameworks/Python3.framework/Versions/3.8/lib/python3.8/site-packages (from patsy>=0.5.2->statsmodels) (1.15.0)\n",
            "Defaulting to user installation because normal site-packages is not writeable\n",
            "Requirement already satisfied: sklearn in /Users/riccardobaratin/Library/Python/3.8/lib/python/site-packages (0.0)\n",
            "Requirement already satisfied: scikit-learn in /Users/riccardobaratin/Library/Python/3.8/lib/python/site-packages (from sklearn) (1.1.2)\n",
            "Requirement already satisfied: scipy>=1.3.2 in /Users/riccardobaratin/Library/Python/3.8/lib/python/site-packages (from scikit-learn->sklearn) (1.9.1)\n",
            "Requirement already satisfied: joblib>=1.0.0 in /Users/riccardobaratin/Library/Python/3.8/lib/python/site-packages (from scikit-learn->sklearn) (1.1.0)\n",
            "Requirement already satisfied: threadpoolctl>=2.0.0 in /Users/riccardobaratin/Library/Python/3.8/lib/python/site-packages (from scikit-learn->sklearn) (3.1.0)\n",
            "Requirement already satisfied: numpy>=1.17.3 in /Users/riccardobaratin/Library/Python/3.8/lib/python/site-packages (from scikit-learn->sklearn) (1.23.2)\n",
            "Defaulting to user installation because normal site-packages is not writeable\n",
            "Requirement already satisfied: cufflinks in /Users/riccardobaratin/Library/Python/3.8/lib/python/site-packages (0.17.3)\n",
            "Requirement already satisfied: colorlover>=0.2.1 in /Users/riccardobaratin/Library/Python/3.8/lib/python/site-packages (from cufflinks) (0.3.0)\n",
            "Requirement already satisfied: numpy>=1.9.2 in /Users/riccardobaratin/Library/Python/3.8/lib/python/site-packages (from cufflinks) (1.23.2)\n",
            "Requirement already satisfied: ipython>=5.3.0 in /Users/riccardobaratin/Library/Python/3.8/lib/python/site-packages (from cufflinks) (8.4.0)\n",
            "Requirement already satisfied: plotly>=4.1.1 in /Users/riccardobaratin/Library/Python/3.8/lib/python/site-packages (from cufflinks) (5.10.0)\n",
            "Requirement already satisfied: setuptools>=34.4.1 in /Library/Developer/CommandLineTools/Library/Frameworks/Python3.framework/Versions/3.8/lib/python3.8/site-packages (from cufflinks) (49.2.1)\n",
            "Requirement already satisfied: six>=1.9.0 in /Library/Developer/CommandLineTools/Library/Frameworks/Python3.framework/Versions/3.8/lib/python3.8/site-packages (from cufflinks) (1.15.0)\n",
            "Requirement already satisfied: ipywidgets>=7.0.0 in /Users/riccardobaratin/Library/Python/3.8/lib/python/site-packages (from cufflinks) (8.0.1)\n",
            "Requirement already satisfied: pandas>=0.19.2 in /Users/riccardobaratin/Library/Python/3.8/lib/python/site-packages (from cufflinks) (1.4.3)\n",
            "Requirement already satisfied: jedi>=0.16 in /Users/riccardobaratin/Library/Python/3.8/lib/python/site-packages (from ipython>=5.3.0->cufflinks) (0.18.1)\n",
            "Requirement already satisfied: backcall in /Users/riccardobaratin/Library/Python/3.8/lib/python/site-packages (from ipython>=5.3.0->cufflinks) (0.2.0)\n",
            "Requirement already satisfied: pexpect>4.3 in /Users/riccardobaratin/Library/Python/3.8/lib/python/site-packages (from ipython>=5.3.0->cufflinks) (4.8.0)\n",
            "Requirement already satisfied: appnope in /Users/riccardobaratin/Library/Python/3.8/lib/python/site-packages (from ipython>=5.3.0->cufflinks) (0.1.3)\n",
            "Requirement already satisfied: stack-data in /Users/riccardobaratin/Library/Python/3.8/lib/python/site-packages (from ipython>=5.3.0->cufflinks) (0.5.0)\n",
            "Requirement already satisfied: prompt-toolkit!=3.0.0,!=3.0.1,<3.1.0,>=2.0.0 in /Users/riccardobaratin/Library/Python/3.8/lib/python/site-packages (from ipython>=5.3.0->cufflinks) (3.0.30)\n",
            "Requirement already satisfied: pygments>=2.4.0 in /Users/riccardobaratin/Library/Python/3.8/lib/python/site-packages (from ipython>=5.3.0->cufflinks) (2.13.0)\n",
            "Requirement already satisfied: decorator in /Users/riccardobaratin/Library/Python/3.8/lib/python/site-packages (from ipython>=5.3.0->cufflinks) (5.1.1)\n",
            "Requirement already satisfied: traitlets>=5 in /Users/riccardobaratin/Library/Python/3.8/lib/python/site-packages (from ipython>=5.3.0->cufflinks) (5.3.0)\n",
            "Requirement already satisfied: pickleshare in /Users/riccardobaratin/Library/Python/3.8/lib/python/site-packages (from ipython>=5.3.0->cufflinks) (0.7.5)\n",
            "Requirement already satisfied: matplotlib-inline in /Users/riccardobaratin/Library/Python/3.8/lib/python/site-packages (from ipython>=5.3.0->cufflinks) (0.1.6)\n",
            "Requirement already satisfied: widgetsnbextension~=4.0 in /Users/riccardobaratin/Library/Python/3.8/lib/python/site-packages (from ipywidgets>=7.0.0->cufflinks) (4.0.2)\n",
            "Requirement already satisfied: ipykernel>=4.5.1 in /Users/riccardobaratin/Library/Python/3.8/lib/python/site-packages (from ipywidgets>=7.0.0->cufflinks) (6.15.1)\n",
            "Requirement already satisfied: jupyterlab-widgets~=3.0 in /Users/riccardobaratin/Library/Python/3.8/lib/python/site-packages (from ipywidgets>=7.0.0->cufflinks) (3.0.2)\n",
            "Requirement already satisfied: pytz>=2020.1 in /Users/riccardobaratin/Library/Python/3.8/lib/python/site-packages (from pandas>=0.19.2->cufflinks) (2022.2.1)\n",
            "Requirement already satisfied: python-dateutil>=2.8.1 in /Users/riccardobaratin/Library/Python/3.8/lib/python/site-packages (from pandas>=0.19.2->cufflinks) (2.8.2)\n",
            "Requirement already satisfied: tenacity>=6.2.0 in /Users/riccardobaratin/Library/Python/3.8/lib/python/site-packages (from plotly>=4.1.1->cufflinks) (8.0.1)\n",
            "Requirement already satisfied: debugpy>=1.0 in /Users/riccardobaratin/Library/Python/3.8/lib/python/site-packages (from ipykernel>=4.5.1->ipywidgets>=7.0.0->cufflinks) (1.6.3)\n",
            "Requirement already satisfied: jupyter-client>=6.1.12 in /Users/riccardobaratin/Library/Python/3.8/lib/python/site-packages (from ipykernel>=4.5.1->ipywidgets>=7.0.0->cufflinks) (7.3.5)\n",
            "Requirement already satisfied: tornado>=6.1 in /Users/riccardobaratin/Library/Python/3.8/lib/python/site-packages (from ipykernel>=4.5.1->ipywidgets>=7.0.0->cufflinks) (6.2)\n",
            "Requirement already satisfied: psutil in /Users/riccardobaratin/Library/Python/3.8/lib/python/site-packages (from ipykernel>=4.5.1->ipywidgets>=7.0.0->cufflinks) (5.9.1)\n",
            "Requirement already satisfied: nest-asyncio in /Users/riccardobaratin/Library/Python/3.8/lib/python/site-packages (from ipykernel>=4.5.1->ipywidgets>=7.0.0->cufflinks) (1.5.5)\n",
            "Requirement already satisfied: pyzmq>=17 in /Users/riccardobaratin/Library/Python/3.8/lib/python/site-packages (from ipykernel>=4.5.1->ipywidgets>=7.0.0->cufflinks) (23.2.1)\n",
            "Requirement already satisfied: packaging in /Users/riccardobaratin/Library/Python/3.8/lib/python/site-packages (from ipykernel>=4.5.1->ipywidgets>=7.0.0->cufflinks) (21.3)\n",
            "Requirement already satisfied: parso<0.9.0,>=0.8.0 in /Users/riccardobaratin/Library/Python/3.8/lib/python/site-packages (from jedi>=0.16->ipython>=5.3.0->cufflinks) (0.8.3)\n",
            "Requirement already satisfied: ptyprocess>=0.5 in /Users/riccardobaratin/Library/Python/3.8/lib/python/site-packages (from pexpect>4.3->ipython>=5.3.0->cufflinks) (0.7.0)\n",
            "Requirement already satisfied: wcwidth in /Users/riccardobaratin/Library/Python/3.8/lib/python/site-packages (from prompt-toolkit!=3.0.0,!=3.0.1,<3.1.0,>=2.0.0->ipython>=5.3.0->cufflinks) (0.2.5)\n",
            "Requirement already satisfied: pure-eval in /Users/riccardobaratin/Library/Python/3.8/lib/python/site-packages (from stack-data->ipython>=5.3.0->cufflinks) (0.2.2)\n",
            "Requirement already satisfied: executing in /Users/riccardobaratin/Library/Python/3.8/lib/python/site-packages (from stack-data->ipython>=5.3.0->cufflinks) (1.0.0)\n",
            "Requirement already satisfied: asttokens in /Users/riccardobaratin/Library/Python/3.8/lib/python/site-packages (from stack-data->ipython>=5.3.0->cufflinks) (2.0.8)\n",
            "Requirement already satisfied: jupyter-core>=4.9.2 in /Users/riccardobaratin/Library/Python/3.8/lib/python/site-packages (from jupyter-client>=6.1.12->ipykernel>=4.5.1->ipywidgets>=7.0.0->cufflinks) (4.11.1)\n",
            "Requirement already satisfied: entrypoints in /Users/riccardobaratin/Library/Python/3.8/lib/python/site-packages (from jupyter-client>=6.1.12->ipykernel>=4.5.1->ipywidgets>=7.0.0->cufflinks) (0.4)\n",
            "Requirement already satisfied: pyparsing!=3.0.5,>=2.0.2 in /Users/riccardobaratin/Library/Python/3.8/lib/python/site-packages (from packaging->ipykernel>=4.5.1->ipywidgets>=7.0.0->cufflinks) (3.0.9)\n"
          ]
        }
      ],
      "source": [
        "!pip3 install influxdb_client\n",
        "!pip3 install statsmodels\n",
        "!pip3 install sklearn\n",
        "!pip3 install cufflinks\n",
        "!pip3 install pmdarima"
      ]
    },
    {
      "cell_type": "code",
      "execution_count": 4,
      "metadata": {},
      "outputs": [
        {
          "name": "stdout",
          "output_type": "stream",
          "text": [
            "Defaulting to user installation because normal site-packages is not writeable\n",
            "Requirement already satisfied: chart-studio in /Users/riccardobaratin/Library/Python/3.8/lib/python/site-packages (1.1.0)\n",
            "Requirement already satisfied: plotly in /Users/riccardobaratin/Library/Python/3.8/lib/python/site-packages (from chart-studio) (5.10.0)\n",
            "Requirement already satisfied: retrying>=1.3.3 in /Users/riccardobaratin/Library/Python/3.8/lib/python/site-packages (from chart-studio) (1.3.3)\n",
            "Requirement already satisfied: six in /Library/Developer/CommandLineTools/Library/Frameworks/Python3.framework/Versions/3.8/lib/python3.8/site-packages (from chart-studio) (1.15.0)\n",
            "Requirement already satisfied: requests in /Users/riccardobaratin/Library/Python/3.8/lib/python/site-packages (from chart-studio) (2.28.1)\n",
            "Requirement already satisfied: tenacity>=6.2.0 in /Users/riccardobaratin/Library/Python/3.8/lib/python/site-packages (from plotly->chart-studio) (8.0.1)\n",
            "Requirement already satisfied: urllib3<1.27,>=1.21.1 in /Users/riccardobaratin/Library/Python/3.8/lib/python/site-packages (from requests->chart-studio) (1.26.12)\n",
            "Requirement already satisfied: charset-normalizer<3,>=2 in /Users/riccardobaratin/Library/Python/3.8/lib/python/site-packages (from requests->chart-studio) (2.1.1)\n",
            "Requirement already satisfied: idna<4,>=2.5 in /Users/riccardobaratin/Library/Python/3.8/lib/python/site-packages (from requests->chart-studio) (3.3)\n",
            "Requirement already satisfied: certifi>=2017.4.17 in /Users/riccardobaratin/Library/Python/3.8/lib/python/site-packages (from requests->chart-studio) (2022.6.15)\n"
          ]
        }
      ],
      "source": [
        "!pip3 install chart-studio"
      ]
    },
    {
      "cell_type": "code",
      "execution_count": 14,
      "metadata": {
        "id": "ok1ZYoOlX0gz"
      },
      "outputs": [],
      "source": [
        "import os\n",
        "import datetime\n",
        "import IPython\n",
        "import IPython.display\n",
        "import matplotlib as mpl\n",
        "import matplotlib.pyplot as plt\n",
        "import numpy as np\n",
        "import pandas as pd\n",
        "import seaborn as sns\n",
        "import random\n",
        "from datetime import datetime,timezone\n",
        "import dateutil.parser\n",
        "import time\n",
        "import statsmodels.graphics.tsaplots as tsaplots\n",
        "from datetime import timedelta\n",
        "from influxdb_client import InfluxDBClient, Point\n",
        "from influxdb_client.client.write_api import SYNCHRONOUS"
      ]
    },
    {
      "cell_type": "code",
      "execution_count": 65,
      "metadata": {},
      "outputs": [
        {
          "data": {
            "text/html": [
              "<div>\n",
              "<style scoped>\n",
              "    .dataframe tbody tr th:only-of-type {\n",
              "        vertical-align: middle;\n",
              "    }\n",
              "\n",
              "    .dataframe tbody tr th {\n",
              "        vertical-align: top;\n",
              "    }\n",
              "\n",
              "    .dataframe thead th {\n",
              "        text-align: right;\n",
              "    }\n",
              "</style>\n",
              "<table border=\"1\" class=\"dataframe\">\n",
              "  <thead>\n",
              "    <tr style=\"text-align: right;\">\n",
              "      <th></th>\n",
              "      <th>_value</th>\n",
              "    </tr>\n",
              "  </thead>\n",
              "  <tbody>\n",
              "    <tr>\n",
              "      <th>count</th>\n",
              "      <td>449.000000</td>\n",
              "    </tr>\n",
              "    <tr>\n",
              "      <th>mean</th>\n",
              "      <td>27.829988</td>\n",
              "    </tr>\n",
              "    <tr>\n",
              "      <th>std</th>\n",
              "      <td>0.551873</td>\n",
              "    </tr>\n",
              "    <tr>\n",
              "      <th>min</th>\n",
              "      <td>23.327273</td>\n",
              "    </tr>\n",
              "    <tr>\n",
              "      <th>25%</th>\n",
              "      <td>27.513846</td>\n",
              "    </tr>\n",
              "    <tr>\n",
              "      <th>50%</th>\n",
              "      <td>27.979592</td>\n",
              "    </tr>\n",
              "    <tr>\n",
              "      <th>75%</th>\n",
              "      <td>28.279687</td>\n",
              "    </tr>\n",
              "    <tr>\n",
              "      <th>max</th>\n",
              "      <td>28.500000</td>\n",
              "    </tr>\n",
              "  </tbody>\n",
              "</table>\n",
              "</div>"
            ],
            "text/plain": [
              "           _value\n",
              "count  449.000000\n",
              "mean    27.829988\n",
              "std      0.551873\n",
              "min     23.327273\n",
              "25%     27.513846\n",
              "50%     27.979592\n",
              "75%     28.279687\n",
              "max     28.500000"
            ]
          },
          "execution_count": 65,
          "metadata": {},
          "output_type": "execute_result"
        }
      ],
      "source": [
        "import pandas as pd\n",
        "data = pd.read_csv(\"../datasets/TempAndre.csv\",index_col=0)\n",
        "data.describe()"
      ]
    },
    {
      "cell_type": "code",
      "execution_count": 66,
      "metadata": {},
      "outputs": [],
      "source": [
        "data.index = pd.to_datetime(data.index)"
      ]
    },
    {
      "cell_type": "code",
      "execution_count": 67,
      "metadata": {},
      "outputs": [
        {
          "name": "stdout",
          "output_type": "stream",
          "text": [
            "449\n"
          ]
        }
      ],
      "source": [
        "data.head()\n",
        "print(data.shape[0])"
      ]
    },
    {
      "cell_type": "code",
      "execution_count": 68,
      "metadata": {},
      "outputs": [],
      "source": [
        "data.columns = ['value']"
      ]
    },
    {
      "cell_type": "code",
      "execution_count": 70,
      "metadata": {},
      "outputs": [
        {
          "data": {
            "image/png": "[encoded data removed]",
            "text/plain": [
              "<Figure size 640x480 with 1 Axes>"
            ]
          },
          "metadata": {},
          "output_type": "display_data"
        }
      ],
      "source": [
        "plot_cols = ['value']\n",
        "plot_features = data[plot_cols]\n",
        "plot_features.index = data.index\n",
        "_ = plot_features.plot(subplots=True)\n"
      ]
    },
    {
      "cell_type": "code",
      "execution_count": 71,
      "metadata": {},
      "outputs": [
        {
          "name": "stdout",
          "output_type": "stream",
          "text": [
            "ARIMA(0, 0, 0) RMSE=0.428\n",
            "ARIMA(0, 0, 1) RMSE=0.252\n",
            "ARIMA(0, 0, 2) RMSE=0.183\n",
            "ARIMA(0, 1, 0) RMSE=0.069\n",
            "ARIMA(0, 1, 1) RMSE=0.069\n",
            "ARIMA(0, 1, 2) RMSE=0.069\n",
            "ARIMA(0, 2, 0) RMSE=0.089\n",
            "ARIMA(0, 2, 1) RMSE=0.070\n",
            "ARIMA(0, 2, 2) RMSE=0.070\n",
            "ARIMA(1, 0, 0) RMSE=0.072\n",
            "ARIMA(1, 0, 1) RMSE=0.072\n",
            "ARIMA(1, 0, 2) RMSE=0.072\n",
            "ARIMA(1, 1, 0) RMSE=0.069\n",
            "ARIMA(1, 1, 1) RMSE=0.069\n",
            "ARIMA(1, 1, 2) RMSE=0.067\n",
            "ARIMA(1, 2, 0) RMSE=0.082\n",
            "ARIMA(1, 2, 1) RMSE=0.070\n",
            "ARIMA(1, 2, 2) RMSE=0.070\n",
            "ARIMA(2, 0, 0) RMSE=0.072\n",
            "ARIMA(2, 0, 1) RMSE=0.072\n",
            "ARIMA(2, 0, 2) RMSE=0.071\n",
            "ARIMA(2, 1, 0) RMSE=0.069\n",
            "ARIMA(2, 1, 1) RMSE=0.067\n",
            "ARIMA(2, 1, 2) RMSE=0.067\n",
            "ARIMA(2, 2, 0) RMSE=0.080\n",
            "ARIMA(2, 2, 1) RMSE=0.069\n",
            "ARIMA(2, 2, 2) RMSE=0.069\n",
            "Best ARIMA(2, 1, 1) RMSE=0.067\n"
          ]
        }
      ],
      "source": [
        "# grid search ARIMA parameters for time series\n",
        "import warnings\n",
        "from math import sqrt\n",
        "from pandas import read_csv\n",
        "from pandas import datetime\n",
        "from statsmodels.tsa.arima.model import ARIMA\n",
        "from sklearn.metrics import mean_squared_error\n",
        " \n",
        "# evaluate an ARIMA model for a given order (p,d,q)\n",
        "def evaluate_arima_model(X, arima_order):\n",
        "\t# prepare training dataset\n",
        "\ttrain_size = int(len(X) * 0.66)\n",
        "\ttrain, test = X[0:train_size], X[train_size:]\n",
        "\thistory = [x for x in train]\n",
        "\t# make predictions\n",
        "\tpredictions = list()\n",
        "\tfor t in range(len(test)):\n",
        "\t\tmodel = ARIMA(history, order=arima_order)\n",
        "\t\tmodel_fit = model.fit()\n",
        "\t\tyhat = model_fit.forecast()[0]\n",
        "\t\tpredictions.append(yhat)\n",
        "\t\thistory.append(test[t])\n",
        "\t# calculate out of sample error\n",
        "\trmse = sqrt(mean_squared_error(test, predictions))\n",
        "\treturn rmse\n",
        " \n",
        "# evaluate combinations of p, d and q values for an ARIMA model\n",
        "def evaluate_models(dataset, p_values, d_values, q_values):\n",
        "\tdataset = dataset.astype('float32')\n",
        "\tbest_score, best_cfg = float(\"inf\"), None\n",
        "\tfor p in p_values:\n",
        "\t\tfor d in d_values:\n",
        "\t\t\tfor q in q_values:\n",
        "\t\t\t\torder = (p,d,q)\n",
        "\t\t\t\ttry:\n",
        "\t\t\t\t\trmse = evaluate_arima_model(dataset, order)\n",
        "\t\t\t\t\tif rmse < best_score:\n",
        "\t\t\t\t\t\tbest_score, best_cfg = rmse, order\n",
        "\t\t\t\t\tprint('ARIMA%s RMSE=%.3f' % (order,rmse))\n",
        "\t\t\t\texcept:\n",
        "\t\t\t\t\tcontinue\n",
        "\tprint('Best ARIMA%s RMSE=%.3f' % (best_cfg, best_score))\n",
        " \n",
        "# load dataset\n",
        "def parser(x):\n",
        "\treturn datetime.strptime('190'+x, '%Y-%m')\n",
        "# evaluate parameters\n",
        "p_values = [0, 1, 2]\n",
        "d_values = range(0, 3)\n",
        "q_values = range(0, 3)\n",
        "warnings.filterwarnings(\"ignore\")\n",
        "evaluate_models(data.values, p_values, d_values, q_values)"
      ]
    },
    {
      "cell_type": "code",
      "execution_count": 100,
      "metadata": {},
      "outputs": [
        {
          "name": "stdout",
          "output_type": "stream",
          "text": [
            "Performing stepwise search to minimize aic\n",
            " ARIMA(1,1,1)(0,1,1)[12]             : AIC=inf, Time=1.03 sec\n",
            " ARIMA(0,1,0)(0,1,0)[12]             : AIC=272.947, Time=0.03 sec\n",
            " ARIMA(1,1,0)(1,1,0)[12]             : AIC=178.589, Time=0.13 sec\n",
            " ARIMA(0,1,1)(0,1,1)[12]             : AIC=inf, Time=0.89 sec\n",
            " ARIMA(1,1,0)(0,1,0)[12]             : AIC=273.990, Time=0.02 sec\n",
            " ARIMA(1,1,0)(2,1,0)[12]             : AIC=137.226, Time=0.37 sec\n",
            " ARIMA(1,1,0)(2,1,1)[12]             : AIC=inf, Time=3.47 sec\n",
            " ARIMA(1,1,0)(1,1,1)[12]             : AIC=inf, Time=0.88 sec\n",
            " ARIMA(0,1,0)(2,1,0)[12]             : AIC=135.325, Time=0.36 sec\n",
            " ARIMA(0,1,0)(1,1,0)[12]             : AIC=176.932, Time=0.06 sec\n",
            " ARIMA(0,1,0)(2,1,1)[12]             : AIC=inf, Time=2.52 sec\n",
            " ARIMA(0,1,0)(1,1,1)[12]             : AIC=inf, Time=0.64 sec\n",
            " ARIMA(0,1,1)(2,1,0)[12]             : AIC=137.201, Time=0.37 sec\n",
            " ARIMA(1,1,1)(2,1,0)[12]             : AIC=130.924, Time=1.13 sec\n",
            " ARIMA(1,1,1)(1,1,0)[12]             : AIC=168.140, Time=0.32 sec\n",
            " ARIMA(1,1,1)(2,1,1)[12]             : AIC=inf, Time=4.05 sec\n",
            " ARIMA(1,1,1)(1,1,1)[12]             : AIC=inf, Time=0.93 sec\n",
            " ARIMA(2,1,1)(2,1,0)[12]             : AIC=130.141, Time=1.00 sec\n",
            " ARIMA(2,1,1)(1,1,0)[12]             : AIC=167.567, Time=0.34 sec\n",
            " ARIMA(2,1,1)(2,1,1)[12]             : AIC=inf, Time=8.29 sec\n",
            " ARIMA(2,1,1)(1,1,1)[12]             : AIC=inf, Time=1.43 sec\n",
            " ARIMA(2,1,0)(2,1,0)[12]             : AIC=134.863, Time=0.38 sec\n",
            " ARIMA(3,1,1)(2,1,0)[12]             : AIC=133.845, Time=1.02 sec\n",
            " ARIMA(2,1,2)(2,1,0)[12]             : AIC=132.126, Time=1.50 sec\n",
            " ARIMA(1,1,2)(2,1,0)[12]             : AIC=130.147, Time=1.07 sec\n",
            " ARIMA(3,1,0)(2,1,0)[12]             : AIC=132.392, Time=0.54 sec\n",
            " ARIMA(3,1,2)(2,1,0)[12]             : AIC=inf, Time=4.74 sec\n",
            " ARIMA(2,1,1)(2,1,0)[12] intercept   : AIC=131.131, Time=4.44 sec\n",
            "\n",
            "Best model:  ARIMA(2,1,1)(2,1,0)[12]          \n",
            "Total fit time: 41.984 seconds\n",
            "130.1406025490624\n"
          ]
        }
      ],
      "source": [
        "from pmdarima.arima import auto_arima\n",
        "stepwise_model = auto_arima(data.values, start_p=1, start_q=1,\n",
        "                           max_p=3, max_q=3, m=12,\n",
        "                           start_P=0, seasonal=True,\n",
        "                           d=1, D=1, trace=True,\n",
        "                           error_action='ignore',  \n",
        "                           suppress_warnings=True, \n",
        "                           stepwise=True)\n",
        "print(stepwise_model.aic())"
      ]
    },
    {
      "cell_type": "code",
      "execution_count": 235,
      "metadata": {},
      "outputs": [
        {
          "name": "stdout",
          "output_type": "stream",
          "text": [
            "predicted=28.300598, expected=28.300000\n",
            "predicted=28.300501, expected=28.300000\n",
            "predicted=28.300420, expected=28.300000\n",
            "predicted=28.300352, expected=28.300000\n",
            "predicted=28.300294, expected=28.300000\n",
            "predicted=28.300247, expected=28.300000\n",
            "predicted=28.300207, expected=28.300000\n",
            "predicted=28.300174, expected=28.300000\n",
            "predicted=28.300145, expected=28.300000\n",
            "predicted=28.300122, expected=28.304918\n",
            "predicted=28.304971, expected=28.315385\n",
            "predicted=28.314907, expected=28.300000\n",
            "predicted=28.298868, expected=28.300000\n",
            "predicted=28.300355, expected=28.300000\n",
            "predicted=28.300297, expected=28.300000\n",
            "predicted=28.300249, expected=28.300000\n",
            "predicted=28.300209, expected=28.300000\n",
            "predicted=28.300175, expected=28.300000\n",
            "predicted=28.300147, expected=28.300000\n",
            "predicted=28.300123, expected=28.300000\n",
            "predicted=28.300103, expected=28.300000\n",
            "predicted=28.300086, expected=28.300000\n",
            "predicted=28.300073, expected=28.300000\n",
            "predicted=28.300061, expected=28.300000\n",
            "predicted=28.300051, expected=28.300000\n",
            "predicted=28.300043, expected=28.300000\n",
            "predicted=28.300036, expected=28.300000\n",
            "predicted=28.300030, expected=28.295455\n",
            "predicted=28.295526, expected=28.300000\n",
            "predicted=28.300400, expected=28.300000\n",
            "predicted=28.299949, expected=28.300000\n",
            "predicted=28.299957, expected=28.300000\n",
            "predicted=28.299964, expected=28.300000\n",
            "predicted=28.299970, expected=28.300000\n",
            "predicted=28.299975, expected=28.264063\n",
            "predicted=28.264404, expected=28.289231\n",
            "predicted=28.292313, expected=28.300000\n",
            "predicted=28.300340, expected=28.300000\n",
            "predicted=28.299372, expected=28.276562\n",
            "predicted=28.276273, expected=28.263043\n",
            "predicted=28.264926, expected=28.240625\n",
            "predicted=28.243576, expected=28.201563\n",
            "predicted=28.206333, expected=28.195385\n",
            "predicted=28.202763, expected=28.201563\n",
            "predicted=28.208215, expected=28.201563\n",
            "predicted=28.206616, expected=28.217188\n",
            "predicted=28.221271, expected=28.198113\n",
            "predicted=28.200406, expected=28.201754\n",
            "predicted=28.205256, expected=28.200000\n",
            "predicted=28.202648, expected=28.175000\n",
            "predicted=28.177615, expected=28.190769\n",
            "predicted=28.194928, expected=28.246875\n",
            "predicted=28.248470, expected=28.253125\n",
            "predicted=28.249633, expected=28.204688\n",
            "predicted=28.201709, expected=28.279687\n",
            "predicted=28.280545, expected=28.170312\n",
            "predicted=28.165822, expected=28.166154\n",
            "predicted=28.171675, expected=28.100000\n",
            "predicted=28.105669, expected=28.100000\n",
            "predicted=28.110342, expected=28.100000\n",
            "predicted=28.108681, expected=28.151563\n",
            "predicted=28.158318, expected=28.134375\n",
            "predicted=28.135861, expected=28.100000\n",
            "predicted=28.103059, expected=28.157812\n",
            "predicted=28.162683, expected=28.143750\n",
            "predicted=28.143101, expected=28.063830\n",
            "predicted=28.065305, expected=28.100000\n",
            "predicted=28.107608, expected=28.100000\n",
            "predicted=28.103337, expected=28.100000\n",
            "predicted=28.102792, expected=28.100000\n",
            "predicted=28.102341, expected=28.100000\n",
            "predicted=28.101967, expected=28.100000\n",
            "predicted=28.101648, expected=28.100000\n",
            "predicted=28.101385, expected=28.100000\n",
            "predicted=28.101161, expected=28.100000\n",
            "predicted=28.100975, expected=28.100000\n",
            "predicted=28.100819, expected=28.100000\n",
            "predicted=28.100686, expected=28.100000\n",
            "predicted=28.100575, expected=28.092000\n",
            "predicted=28.092569, expected=28.100000\n",
            "predicted=28.101068, expected=28.100000\n",
            "predicted=28.100220, expected=28.100000\n",
            "predicted=28.100186, expected=28.100000\n",
            "predicted=28.100155, expected=28.100000\n",
            "predicted=28.100130, expected=28.100000\n",
            "predicted=28.100110, expected=28.095385\n",
            "predicted=28.095526, expected=28.017187\n",
            "predicted=28.018532, expected=28.075000\n",
            "predicted=28.082108, expected=28.007812\n",
            "predicted=28.009641, expected=28.000000\n",
            "predicted=28.007266, expected=28.000000\n",
            "predicted=28.006754, expected=28.000000\n",
            "predicted=28.005667, expected=28.000000\n",
            "predicted=28.004759, expected=28.000000\n",
            "predicted=28.003996, expected=28.042187\n",
            "predicted=28.045084, expected=28.068750\n",
            "predicted=28.067352, expected=28.015625\n",
            "predicted=28.012790, expected=28.014063\n",
            "predicted=28.016170, expected=28.026563\n",
            "predicted=28.028327, expected=28.018462\n",
            "predicted=28.018979, expected=28.059375\n",
            "predicted=28.060040, expected=28.053125\n",
            "predicted=28.050311, expected=28.100000\n",
            "predicted=28.097647, expected=28.059375\n",
            "predicted=28.053910, expected=28.000000\n",
            "predicted=27.999481, expected=28.144444\n",
            "predicted=28.147360, expected=28.100000\n",
            "predicted=28.090851, expected=28.082812\n",
            "predicted=28.079046, expected=28.000000\n",
            "predicted=27.999235, expected=28.000000\n",
            "predicted=28.006296, expected=28.048437\n",
            "predicted=28.053163, expected=28.071698\n",
            "predicted=28.071337, expected=28.075000\n",
            "predicted=28.072706, expected=28.164062\n",
            "predicted=28.160827, expected=27.934375\n",
            "predicted=27.927023, expected=27.900000\n",
            "predicted=27.913409, expected=27.912308\n",
            "predicted=27.926295, expected=28.029688\n",
            "predicted=28.039015, expected=27.979592\n",
            "predicted=27.978182, expected=28.057812\n",
            "predicted=28.059843, expected=28.009375\n",
            "predicted=28.005165, expected=27.951020\n",
            "predicted=27.952263, expected=27.865625\n",
            "predicted=27.872608, expected=27.972308\n",
            "predicted=27.983980, expected=28.065625\n",
            "predicted=28.065332, expected=28.139063\n",
            "predicted=28.130080, expected=28.206122\n",
            "predicted=28.191611, expected=28.193750\n",
            "predicted=28.176046, expected=28.203774\n",
            "predicted=28.189822, expected=28.261667\n",
            "predicted=28.248442, expected=28.207813\n",
            "predicted=28.192444, expected=28.200000\n",
            "predicted=28.191707, expected=28.220313\n",
            "predicted=28.213761, expected=28.300000\n",
            "predicted=28.291909, expected=28.300000\n",
            "predicted=28.286534, expected=28.300000\n",
            "predicted=28.288715, expected=28.220312\n",
            "predicted=28.211707, expected=28.110769\n",
            "predicted=28.111420, expected=28.277049\n",
            "predicted=28.284962, expected=28.300000\n",
            "predicted=28.292376, expected=28.300000\n",
            "predicted=28.291681, expected=28.302041\n",
            "predicted=28.295048, expected=28.335938\n",
            "predicted=28.329507, expected=28.393750\n",
            "predicted=28.384840, expected=28.304687\n",
            "predicted=28.293408, expected=28.329032\n",
            "predicted=28.326797, expected=28.331250\n",
            "predicted=28.327294, expected=28.300000\n",
            "predicted=28.296876, expected=28.224590\n",
            "predicted=28.225509, expected=28.100000\n",
            "predicted=28.108558, expected=28.177193\n",
            "predicted=28.193978, expected=28.128125\n",
            "predicted=28.136308, expected=28.103125\n",
            "predicted=28.114412, expected=28.042857\n",
            "predicted=28.055153, expected=28.090625\n",
            "predicted=28.105420, expected=28.288679\n",
            "predicted=28.294796, expected=28.334375\n",
            "predicted=28.322270, expected=28.318750\n",
            "predicted=28.304875, expected=28.412245\n",
            "predicted=28.400829, expected=28.324615\n",
            "predicted=28.308139, expected=28.100000\n",
            "predicted=28.096090, expected=28.220312\n",
            "predicted=28.234699, expected=28.300000\n",
            "predicted=28.300931, expected=28.316129\n",
            "predicted=28.309913, expected=28.351562\n",
            "predicted=28.344517, expected=28.300000\n",
            "predicted=28.291692, expected=28.300000\n",
            "predicted=28.297412, expected=28.318462\n",
            "predicted=28.316053, expected=28.495313\n",
            "predicted=28.489527, expected=28.500000\n",
            "predicted=28.479985, expected=28.500000\n",
            "predicted=28.482816, expected=28.456250\n",
            "predicted=28.442325, expected=28.362500\n",
            "predicted=28.355601, expected=28.180000\n",
            "predicted=28.184246, expected=27.915000\n",
            "predicted=27.936596, expected=27.723077\n",
            "predicted=27.765105, expected=27.801562\n",
            "predicted=27.853850, expected=27.946875\n",
            "predicted=27.983987, expected=28.095312\n",
            "predicted=28.113205, expected=28.209091\n",
            "Test RMSE: 0.062\n"
          ]
        },
        {
          "data": {
            "application/vnd.plotly.v1+json": {
              "config": {
                "linkText": "Export to plot.ly",
                "plotlyServerURL": "https://plot.ly",
                "showLink": true
              },
              "data": [
                {
                  "line": {
                    "color": "rgba(55, 128, 191, 1.0)",
                    "dash": "solid",
                    "shape": "linear",
                    "width": 1.3
                  },
                  "mode": "lines",
                  "name": "Predicted values",
                  "text": "",
                  "type": "scatter",
                  "x": [
                    "2022-10-10T23:24:00Z",
                    "2022-10-10T23:27:00Z",
                    "2022-10-10T23:30:00Z",
                    "2022-10-10T23:33:00Z",
                    "2022-10-10T23:36:00Z",
                    "2022-10-10T23:39:00Z",
                    "2022-10-10T23:42:00Z",
                    "2022-10-10T23:45:00Z",
                    "2022-10-10T23:48:00Z",
                    "2022-10-10T23:51:00Z",
                    "2022-10-10T23:54:00Z",
                    "2022-10-10T23:57:00Z",
                    "2022-10-11T00:00:00Z",
                    "2022-10-11T00:03:00Z",
                    "2022-10-11T00:06:00Z",
                    "2022-10-11T00:09:00Z",
                    "2022-10-11T00:12:00Z",
                    "2022-10-11T00:15:00Z",
                    "2022-10-11T00:18:00Z",
                    "2022-10-11T00:21:00Z",
                    "2022-10-11T00:24:00Z",
                    "2022-10-11T00:27:00Z",
                    "2022-10-11T00:30:00Z",
                    "2022-10-11T00:33:00Z",
                    "2022-10-11T00:36:00Z",
                    "2022-10-11T00:39:00Z",
                    "2022-10-11T00:42:00Z",
                    "2022-10-11T00:45:00Z",
                    "2022-10-11T00:48:00Z",
                    "2022-10-11T00:51:00Z",
                    "2022-10-11T00:54:00Z",
                    "2022-10-11T00:57:00Z",
                    "2022-10-11T01:00:00Z",
                    "2022-10-11T01:03:00Z",
                    "2022-10-11T01:06:00Z",
                    "2022-10-11T01:09:00Z",
                    "2022-10-11T01:12:00Z",
                    "2022-10-11T01:15:00Z",
                    "2022-10-11T01:18:00Z",
                    "2022-10-11T01:21:00Z",
                    "2022-10-11T01:24:00Z",
                    "2022-10-11T01:27:00Z",
                    "2022-10-11T01:30:00Z",
                    "2022-10-11T01:33:00Z",
                    "2022-10-11T01:36:00Z",
                    "2022-10-11T01:39:00Z",
                    "2022-10-11T01:42:00Z",
                    "2022-10-11T01:45:00Z",
                    "2022-10-11T01:48:00Z",
                    "2022-10-11T01:51:00Z",
                    "2022-10-11T01:54:00Z",
                    "2022-10-11T01:57:00Z",
                    "2022-10-11T02:00:00Z",
                    "2022-10-11T02:03:00Z",
                    "2022-10-11T02:06:00Z",
                    "2022-10-11T02:09:00Z",
                    "2022-10-11T02:12:00Z",
                    "2022-10-11T02:15:00Z",
                    "2022-10-11T02:18:00Z",
                    "2022-10-11T02:21:00Z",
                    "2022-10-11T02:24:00Z",
                    "2022-10-11T02:27:00Z",
                    "2022-10-11T02:30:00Z",
                    "2022-10-11T02:33:00Z",
                    "2022-10-11T02:36:00Z",
                    "2022-10-11T02:39:00Z",
                    "2022-10-11T02:42:00Z",
                    "2022-10-11T02:45:00Z",
                    "2022-10-11T02:48:00Z",
                    "2022-10-11T02:51:00Z",
                    "2022-10-11T02:54:00Z",
                    "2022-10-11T02:57:00Z",
                    "2022-10-11T03:00:00Z",
                    "2022-10-11T03:03:00Z",
                    "2022-10-11T03:06:00Z",
                    "2022-10-11T03:09:00Z",
                    "2022-10-11T03:12:00Z",
                    "2022-10-11T03:15:00Z",
                    "2022-10-11T03:18:00Z",
                    "2022-10-11T03:21:00Z",
                    "2022-10-11T03:24:00Z",
                    "2022-10-11T03:27:00Z",
                    "2022-10-11T03:30:00Z",
                    "2022-10-11T03:33:00Z",
                    "2022-10-11T03:36:00Z",
                    "2022-10-11T03:39:00Z",
                    "2022-10-11T03:42:00Z",
                    "2022-10-11T03:45:00Z",
                    "2022-10-11T03:48:00Z",
                    "2022-10-11T03:51:00Z",
                    "2022-10-11T03:54:00Z",
                    "2022-10-11T03:57:00Z",
                    "2022-10-11T04:00:00Z",
                    "2022-10-11T04:03:00Z",
                    "2022-10-11T04:06:00Z",
                    "2022-10-11T04:09:00Z",
                    "2022-10-11T04:12:00Z",
                    "2022-10-11T04:15:00Z",
                    "2022-10-11T04:18:00Z",
                    "2022-10-11T04:21:00Z",
                    "2022-10-11T04:24:00Z",
                    "2022-10-11T04:27:00Z",
                    "2022-10-11T04:30:00Z",
                    "2022-10-11T04:33:00Z",
                    "2022-10-11T04:36:00Z",
                    "2022-10-11T05:21:00Z",
                    "2022-10-11T05:51:00Z",
                    "2022-10-11T05:54:00Z",
                    "2022-10-11T05:57:00Z",
                    "2022-10-11T06:00:00Z",
                    "2022-10-11T06:03:00Z",
                    "2022-10-11T06:06:00Z",
                    "2022-10-11T06:09:00Z",
                    "2022-10-11T06:12:00Z",
                    "2022-10-11T06:15:00Z",
                    "2022-10-11T06:18:00Z",
                    "2022-10-11T06:21:00Z",
                    "2022-10-11T06:24:00Z",
                    "2022-10-11T06:27:00Z",
                    "2022-10-11T06:30:00Z",
                    "2022-10-11T06:33:00Z",
                    "2022-10-11T06:36:00Z",
                    "2022-10-11T06:39:00Z",
                    "2022-10-11T06:42:00Z",
                    "2022-10-11T06:45:00Z",
                    "2022-10-11T06:48:00Z",
                    "2022-10-11T06:51:00Z",
                    "2022-10-11T06:54:00Z",
                    "2022-10-11T06:57:00Z",
                    "2022-10-11T07:00:00Z",
                    "2022-10-11T07:03:00Z",
                    "2022-10-11T07:06:00Z",
                    "2022-10-11T07:09:00Z",
                    "2022-10-11T07:12:00Z",
                    "2022-10-11T07:15:00Z",
                    "2022-10-11T07:18:00Z",
                    "2022-10-11T07:21:00Z",
                    "2022-10-11T07:24:00Z",
                    "2022-10-11T07:27:00Z",
                    "2022-10-11T07:30:00Z",
                    "2022-10-11T07:33:00Z",
                    "2022-10-11T07:36:00Z",
                    "2022-10-11T07:39:00Z",
                    "2022-10-11T07:42:00Z",
                    "2022-10-11T07:45:00Z",
                    "2022-10-11T07:48:00Z",
                    "2022-10-11T07:51:00Z",
                    "2022-10-11T07:54:00Z",
                    "2022-10-11T07:57:00Z",
                    "2022-10-11T08:00:00Z",
                    "2022-10-11T08:03:00Z",
                    "2022-10-11T08:06:00Z",
                    "2022-10-11T08:09:00Z",
                    "2022-10-11T08:12:00Z",
                    "2022-10-11T08:15:00Z",
                    "2022-10-11T08:18:00Z",
                    "2022-10-11T08:21:00Z",
                    "2022-10-11T08:24:00Z",
                    "2022-10-11T08:27:00Z",
                    "2022-10-11T08:30:00Z",
                    "2022-10-11T08:33:00Z",
                    "2022-10-11T08:36:00Z",
                    "2022-10-11T08:39:00Z",
                    "2022-10-11T08:42:00Z",
                    "2022-10-11T08:45:00Z",
                    "2022-10-11T08:48:00Z",
                    "2022-10-11T08:51:00Z",
                    "2022-10-11T08:54:00Z",
                    "2022-10-11T08:57:00Z",
                    "2022-10-11T09:00:00Z",
                    "2022-10-11T09:03:00Z",
                    "2022-10-11T09:06:00Z",
                    "2022-10-11T09:09:00Z",
                    "2022-10-11T09:12:00Z",
                    "2022-10-11T09:15:00Z",
                    "2022-10-11T09:18:00Z",
                    "2022-10-11T09:21:00Z",
                    "2022-10-11T09:24:00Z",
                    "2022-10-11T09:27:00Z",
                    "2022-10-11T09:30:00Z"
                  ],
                  "y": [
                    28.30059826949105,
                    28.300501169030294,
                    28.300419912377293,
                    28.300351568102126,
                    28.300294036334943,
                    28.30024664325173,
                    28.300206986313537,
                    28.300173632650637,
                    28.30014546664556,
                    28.30012168073786,
                    28.304970732567508,
                    28.314906801183906,
                    28.29886753815069,
                    28.30035504062549,
                    28.300297473189286,
                    28.300249262498276,
                    28.30020878014579,
                    28.300175203383088,
                    28.30014666088803,
                    28.300122864507095,
                    28.30010317252212,
                    28.300086417660374,
                    28.30007253400407,
                    28.30006077661865,
                    28.300050929805703,
                    28.300042679015814,
                    28.30003586363118,
                    28.30003008511134,
                    28.295525579309995,
                    28.300399528298584,
                    28.299949260137915,
                    28.29995741980606,
                    28.299964336749724,
                    28.299970196879883,
                    28.299974903586982,
                    28.264404338337982,
                    28.292313190409935,
                    28.30033955265716,
                    28.299372001124834,
                    28.276272869664556,
                    28.26492621360139,
                    28.243576039909836,
                    28.206332543619048,
                    28.2027634302835,
                    28.208214988886947,
                    28.206615511179113,
                    28.22127098757743,
                    28.200405525669304,
                    28.205256408500247,
                    28.202647520223113,
                    28.17761481282291,
                    28.194928126189467,
                    28.24847005317214,
                    28.249633413298525,
                    28.201709421717744,
                    28.280545230326357,
                    28.165822425316005,
                    28.17167467869488,
                    28.105669425728173,
                    28.110341637583428,
                    28.108681190125743,
                    28.158317978008547,
                    28.135860770145303,
                    28.103058701479508,
                    28.16268273995201,
                    28.143100667795746,
                    28.065305272050708,
                    28.107607895578447,
                    28.10333688154759,
                    28.102792115186304,
                    28.102341102977693,
                    28.101967418227375,
                    28.10164761855969,
                    28.101384897917363,
                    28.101161010492355,
                    28.100974656739883,
                    28.100819317859937,
                    28.10068632030131,
                    28.10057527037255,
                    28.09256904898362,
                    28.101068378533856,
                    28.10021985070104,
                    28.100186473065595,
                    28.10015502203816,
                    28.100130012813235,
                    28.100110227575858,
                    28.095525937152633,
                    28.018532146335843,
                    28.082107562247725,
                    28.00964072196924,
                    28.007266482152794,
                    28.006754209226248,
                    28.00566737790736,
                    28.00475895937561,
                    28.003995621795102,
                    28.045084417766937,
                    28.06735208605752,
                    28.012789774838822,
                    28.016170303745675,
                    28.02832661521958,
                    28.018978691801898,
                    28.060039785714064,
                    28.050311088699356,
                    28.097647222553782,
                    28.053910174472993,
                    27.99948109118864,
                    28.147359923342258,
                    28.090851010608223,
                    28.07904617132331,
                    27.999234548545797,
                    28.006295926442057,
                    28.053163332890517,
                    28.071337169672425,
                    28.072706240290483,
                    28.16082660933156,
                    27.92702279191679,
                    27.913408734593748,
                    27.926295442039393,
                    28.039015465857442,
                    27.97818206266974,
                    28.0598432036079,
                    28.005164733389016,
                    27.952262771385776,
                    27.87260780298733,
                    27.983980173693734,
                    28.065331542173293,
                    28.130079724869667,
                    28.19161058982479,
                    28.176045561032563,
                    28.189822073750747,
                    28.248441842968237,
                    28.192443603455683,
                    28.191707418681787,
                    28.213761246578343,
                    28.29190903929453,
                    28.28653376096978,
                    28.28871548365045,
                    28.21170654059003,
                    28.111420490009163,
                    28.28496178047097,
                    28.292376184868385,
                    28.291680657366918,
                    28.295048305903247,
                    28.329506533601638,
                    28.38484022657404,
                    28.293407683773363,
                    28.32679651465941,
                    28.32729386924794,
                    28.296875876076946,
                    28.22550909213191,
                    28.10855849478313,
                    28.19397812211294,
                    28.136307849682844,
                    28.114412215067272,
                    28.055152790774894,
                    28.105419970176623,
                    28.294796466228547,
                    28.322270239934223,
                    28.304874871601037,
                    28.40082938027558,
                    28.308138858696086,
                    28.096089536772052,
                    28.23469891424844,
                    28.300931033954996,
                    28.30991296175768,
                    28.344517281166617,
                    28.29169167410839,
                    28.297411857521638,
                    28.316053142795617,
                    28.489527016139927,
                    28.479985334827887,
                    28.48281620067118,
                    28.44232465723407,
                    28.35560085554669,
                    28.184246191505952,
                    27.936595507508905,
                    27.765104733577363,
                    27.853850434763924,
                    27.983987390832468,
                    28.113204583458405
                  ]
                },
                {
                  "line": {
                    "color": "rgba(219, 64, 82, 1.0)",
                    "dash": "solid",
                    "shape": "linear",
                    "width": 1.3
                  },
                  "mode": "lines",
                  "name": "Temperature",
                  "text": "",
                  "type": "scatter",
                  "x": [
                    "2022-10-10T23:24:00Z",
                    "2022-10-10T23:27:00Z",
                    "2022-10-10T23:30:00Z",
                    "2022-10-10T23:33:00Z",
                    "2022-10-10T23:36:00Z",
                    "2022-10-10T23:39:00Z",
                    "2022-10-10T23:42:00Z",
                    "2022-10-10T23:45:00Z",
                    "2022-10-10T23:48:00Z",
                    "2022-10-10T23:51:00Z",
                    "2022-10-10T23:54:00Z",
                    "2022-10-10T23:57:00Z",
                    "2022-10-11T00:00:00Z",
                    "2022-10-11T00:03:00Z",
                    "2022-10-11T00:06:00Z",
                    "2022-10-11T00:09:00Z",
                    "2022-10-11T00:12:00Z",
                    "2022-10-11T00:15:00Z",
                    "2022-10-11T00:18:00Z",
                    "2022-10-11T00:21:00Z",
                    "2022-10-11T00:24:00Z",
                    "2022-10-11T00:27:00Z",
                    "2022-10-11T00:30:00Z",
                    "2022-10-11T00:33:00Z",
                    "2022-10-11T00:36:00Z",
                    "2022-10-11T00:39:00Z",
                    "2022-10-11T00:42:00Z",
                    "2022-10-11T00:45:00Z",
                    "2022-10-11T00:48:00Z",
                    "2022-10-11T00:51:00Z",
                    "2022-10-11T00:54:00Z",
                    "2022-10-11T00:57:00Z",
                    "2022-10-11T01:00:00Z",
                    "2022-10-11T01:03:00Z",
                    "2022-10-11T01:06:00Z",
                    "2022-10-11T01:09:00Z",
                    "2022-10-11T01:12:00Z",
                    "2022-10-11T01:15:00Z",
                    "2022-10-11T01:18:00Z",
                    "2022-10-11T01:21:00Z",
                    "2022-10-11T01:24:00Z",
                    "2022-10-11T01:27:00Z",
                    "2022-10-11T01:30:00Z",
                    "2022-10-11T01:33:00Z",
                    "2022-10-11T01:36:00Z",
                    "2022-10-11T01:39:00Z",
                    "2022-10-11T01:42:00Z",
                    "2022-10-11T01:45:00Z",
                    "2022-10-11T01:48:00Z",
                    "2022-10-11T01:51:00Z",
                    "2022-10-11T01:54:00Z",
                    "2022-10-11T01:57:00Z",
                    "2022-10-11T02:00:00Z",
                    "2022-10-11T02:03:00Z",
                    "2022-10-11T02:06:00Z",
                    "2022-10-11T02:09:00Z",
                    "2022-10-11T02:12:00Z",
                    "2022-10-11T02:15:00Z",
                    "2022-10-11T02:18:00Z",
                    "2022-10-11T02:21:00Z",
                    "2022-10-11T02:24:00Z",
                    "2022-10-11T02:27:00Z",
                    "2022-10-11T02:30:00Z",
                    "2022-10-11T02:33:00Z",
                    "2022-10-11T02:36:00Z",
                    "2022-10-11T02:39:00Z",
                    "2022-10-11T02:42:00Z",
                    "2022-10-11T02:45:00Z",
                    "2022-10-11T02:48:00Z",
                    "2022-10-11T02:51:00Z",
                    "2022-10-11T02:54:00Z",
                    "2022-10-11T02:57:00Z",
                    "2022-10-11T03:00:00Z",
                    "2022-10-11T03:03:00Z",
                    "2022-10-11T03:06:00Z",
                    "2022-10-11T03:09:00Z",
                    "2022-10-11T03:12:00Z",
                    "2022-10-11T03:15:00Z",
                    "2022-10-11T03:18:00Z",
                    "2022-10-11T03:21:00Z",
                    "2022-10-11T03:24:00Z",
                    "2022-10-11T03:27:00Z",
                    "2022-10-11T03:30:00Z",
                    "2022-10-11T03:33:00Z",
                    "2022-10-11T03:36:00Z",
                    "2022-10-11T03:39:00Z",
                    "2022-10-11T03:42:00Z",
                    "2022-10-11T03:45:00Z",
                    "2022-10-11T03:48:00Z",
                    "2022-10-11T03:51:00Z",
                    "2022-10-11T03:54:00Z",
                    "2022-10-11T03:57:00Z",
                    "2022-10-11T04:00:00Z",
                    "2022-10-11T04:03:00Z",
                    "2022-10-11T04:06:00Z",
                    "2022-10-11T04:09:00Z",
                    "2022-10-11T04:12:00Z",
                    "2022-10-11T04:15:00Z",
                    "2022-10-11T04:18:00Z",
                    "2022-10-11T04:21:00Z",
                    "2022-10-11T04:24:00Z",
                    "2022-10-11T04:27:00Z",
                    "2022-10-11T04:30:00Z",
                    "2022-10-11T04:33:00Z",
                    "2022-10-11T04:36:00Z",
                    "2022-10-11T05:21:00Z",
                    "2022-10-11T05:51:00Z",
                    "2022-10-11T05:54:00Z",
                    "2022-10-11T05:57:00Z",
                    "2022-10-11T06:00:00Z",
                    "2022-10-11T06:03:00Z",
                    "2022-10-11T06:06:00Z",
                    "2022-10-11T06:09:00Z",
                    "2022-10-11T06:12:00Z",
                    "2022-10-11T06:15:00Z",
                    "2022-10-11T06:18:00Z",
                    "2022-10-11T06:21:00Z",
                    "2022-10-11T06:24:00Z",
                    "2022-10-11T06:27:00Z",
                    "2022-10-11T06:30:00Z",
                    "2022-10-11T06:33:00Z",
                    "2022-10-11T06:36:00Z",
                    "2022-10-11T06:39:00Z",
                    "2022-10-11T06:42:00Z",
                    "2022-10-11T06:45:00Z",
                    "2022-10-11T06:48:00Z",
                    "2022-10-11T06:51:00Z",
                    "2022-10-11T06:54:00Z",
                    "2022-10-11T06:57:00Z",
                    "2022-10-11T07:00:00Z",
                    "2022-10-11T07:03:00Z",
                    "2022-10-11T07:06:00Z",
                    "2022-10-11T07:09:00Z",
                    "2022-10-11T07:12:00Z",
                    "2022-10-11T07:15:00Z",
                    "2022-10-11T07:18:00Z",
                    "2022-10-11T07:21:00Z",
                    "2022-10-11T07:24:00Z",
                    "2022-10-11T07:27:00Z",
                    "2022-10-11T07:30:00Z",
                    "2022-10-11T07:33:00Z",
                    "2022-10-11T07:36:00Z",
                    "2022-10-11T07:39:00Z",
                    "2022-10-11T07:42:00Z",
                    "2022-10-11T07:45:00Z",
                    "2022-10-11T07:48:00Z",
                    "2022-10-11T07:51:00Z",
                    "2022-10-11T07:54:00Z",
                    "2022-10-11T07:57:00Z",
                    "2022-10-11T08:00:00Z",
                    "2022-10-11T08:03:00Z",
                    "2022-10-11T08:06:00Z",
                    "2022-10-11T08:09:00Z",
                    "2022-10-11T08:12:00Z",
                    "2022-10-11T08:15:00Z",
                    "2022-10-11T08:18:00Z",
                    "2022-10-11T08:21:00Z",
                    "2022-10-11T08:24:00Z",
                    "2022-10-11T08:27:00Z",
                    "2022-10-11T08:30:00Z",
                    "2022-10-11T08:33:00Z",
                    "2022-10-11T08:36:00Z",
                    "2022-10-11T08:39:00Z",
                    "2022-10-11T08:42:00Z",
                    "2022-10-11T08:45:00Z",
                    "2022-10-11T08:48:00Z",
                    "2022-10-11T08:51:00Z",
                    "2022-10-11T08:54:00Z",
                    "2022-10-11T08:57:00Z",
                    "2022-10-11T09:00:00Z",
                    "2022-10-11T09:03:00Z",
                    "2022-10-11T09:06:00Z",
                    "2022-10-11T09:09:00Z",
                    "2022-10-11T09:12:00Z",
                    "2022-10-11T09:15:00Z",
                    "2022-10-11T09:18:00Z",
                    "2022-10-11T09:21:00Z",
                    "2022-10-11T09:24:00Z",
                    "2022-10-11T09:27:00Z",
                    "2022-10-11T09:30:00Z"
                  ],
                  "y": [
                    28.29999999999997,
                    28.29999999999997,
                    28.29999999999997,
                    28.29999999999997,
                    28.29999999999997,
                    28.29999999999997,
                    28.29999999999997,
                    28.29999999999997,
                    28.299999999999976,
                    28.304918032786865,
                    28.315384615384584,
                    28.299999999999983,
                    28.29999999999997,
                    28.29999999999997,
                    28.29999999999997,
                    28.29999999999997,
                    28.299999999999976,
                    28.29999999999997,
                    28.29999999999997,
                    28.29999999999997,
                    28.29999999999997,
                    28.29999999999997,
                    28.29999999999997,
                    28.29999999999997,
                    28.29999999999997,
                    28.29999999999997,
                    28.29999999999997,
                    28.29545454545453,
                    28.29999999999997,
                    28.29999999999997,
                    28.29999999999997,
                    28.29999999999997,
                    28.29999999999997,
                    28.29999999999997,
                    28.2640625,
                    28.28923076923074,
                    28.29999999999997,
                    28.299999999999976,
                    28.276562499999997,
                    28.26304347826087,
                    28.24062500000001,
                    28.20156250000003,
                    28.195384615384643,
                    28.20156250000003,
                    28.201562500000023,
                    28.217187500000016,
                    28.198113207547195,
                    28.201754385964936,
                    28.200000000000028,
                    28.175000000000004,
                    28.19076923076926,
                    28.246874999999992,
                    28.253125000000004,
                    28.204687500000027,
                    28.279687499999977,
                    28.170312499999987,
                    28.166153846153858,
                    28.09999999999997,
                    28.09999999999997,
                    28.09999999999997,
                    28.151562500000026,
                    28.134374999999967,
                    28.09999999999997,
                    28.15781249999999,
                    28.143749999999965,
                    28.063829787234027,
                    28.09999999999997,
                    28.099999999999987,
                    28.100000000000005,
                    28.09999999999997,
                    28.099999999999984,
                    28.09999999999997,
                    28.09999999999997,
                    28.09999999999997,
                    28.09999999999997,
                    28.100000000000005,
                    28.09999999999997,
                    28.09999999999997,
                    28.091999999999995,
                    28.09999999999997,
                    28.09999999999997,
                    28.09999999999997,
                    28.09999999999997,
                    28.09999999999997,
                    28.09999999999997,
                    28.09538461538459,
                    28.0171875,
                    28.074999999999967,
                    28.0078125,
                    28,
                    28,
                    28,
                    28,
                    28,
                    28.04218749999998,
                    28.068749999999973,
                    28.015625,
                    28.0140625,
                    28.0265625,
                    28.018461538461523,
                    28.059374999999985,
                    28.05312499999997,
                    28.09999999999997,
                    28.059375000000006,
                    28,
                    28.14444444444444,
                    28.100000000000005,
                    28.082812499999985,
                    28,
                    28,
                    28.048437499999963,
                    28.071698113207557,
                    28.074999999999967,
                    28.164062499999968,
                    27.93437500000003,
                    27.90000000000003,
                    27.912307692307717,
                    28.029687500000005,
                    27.97959183673469,
                    28.057812499999976,
                    28.009375,
                    27.95102040816328,
                    27.865625000000016,
                    27.97230769230769,
                    28.065624999999965,
                    28.13906250000002,
                    28.206122448979613,
                    28.193750000000016,
                    28.20377358490568,
                    28.261666666666667,
                    28.207812500000028,
                    28.200000000000024,
                    28.22031250000001,
                    28.299999999999976,
                    28.299999999999976,
                    28.29999999999997,
                    28.2203125,
                    28.110769230769204,
                    28.27704918032784,
                    28.29999999999997,
                    28.29999999999997,
                    28.302040816326507,
                    28.335937500000007,
                    28.393750000000026,
                    28.30468749999997,
                    28.32903225806453,
                    28.331249999999976,
                    28.29999999999997,
                    28.22459016393444,
                    28.09999999999997,
                    28.17719298245617,
                    28.12812499999998,
                    28.10312499999997,
                    28.04285714285715,
                    28.090624999999992,
                    28.288679245283,
                    28.334375,
                    28.31874999999997,
                    28.412244897959184,
                    28.32461538461537,
                    28.09999999999997,
                    28.22031249999999,
                    28.29999999999997,
                    28.31612903225805,
                    28.35156249999998,
                    28.299999999999976,
                    28.29999999999997,
                    28.31846153846153,
                    28.4953125,
                    28.5,
                    28.5,
                    28.45625000000003,
                    28.36249999999997,
                    28.17999999999997,
                    27.915000000000013,
                    27.72307692307696,
                    27.801562499999992,
                    27.94687499999999,
                    28.09531249999997,
                    28.20909090909091
                  ]
                }
              ],
              "layout": {
                "legend": {
                  "bgcolor": "#F5F6F9",
                  "font": {
                    "color": "#4D5663"
                  }
                },
                "paper_bgcolor": "#F5F6F9",
                "plot_bgcolor": "#F5F6F9",
                "template": {
                  "data": {
                    "bar": [
                      {
                        "error_x": {
                          "color": "#2a3f5f"
                        },
                        "error_y": {
                          "color": "#2a3f5f"
                        },
                        "marker": {
                          "line": {
                            "color": "#E5ECF6",
                            "width": 0.5
                          },
                          "pattern": {
                            "fillmode": "overlay",
                            "size": 10,
                            "solidity": 0.2
                          }
                        },
                        "type": "bar"
                      }
                    ],
                    "barpolar": [
                      {
                        "marker": {
                          "line": {
                            "color": "#E5ECF6",
                            "width": 0.5
                          },
                          "pattern": {
                            "fillmode": "overlay",
                            "size": 10,
                            "solidity": 0.2
                          }
                        },
                        "type": "barpolar"
                      }
                    ],
                    "carpet": [
                      {
                        "aaxis": {
                          "endlinecolor": "#2a3f5f",
                          "gridcolor": "white",
                          "linecolor": "white",
                          "minorgridcolor": "white",
                          "startlinecolor": "#2a3f5f"
                        },
                        "baxis": {
                          "endlinecolor": "#2a3f5f",
                          "gridcolor": "white",
                          "linecolor": "white",
                          "minorgridcolor": "white",
                          "startlinecolor": "#2a3f5f"
                        },
                        "type": "carpet"
                      }
                    ],
                    "choropleth": [
                      {
                        "colorbar": {
                          "outlinewidth": 0,
                          "ticks": ""
                        },
                        "type": "choropleth"
                      }
                    ],
                    "contour": [
                      {
                        "colorbar": {
                          "outlinewidth": 0,
                          "ticks": ""
                        },
                        "colorscale": [
                          [
                            0,
                            "#0d0887"
                          ],
                          [
                            0.1111111111111111,
                            "#46039f"
                          ],
                          [
                            0.2222222222222222,
                            "#7201a8"
                          ],
                          [
                            0.3333333333333333,
                            "#9c179e"
                          ],
                          [
                            0.4444444444444444,
                            "#bd3786"
                          ],
                          [
                            0.5555555555555556,
                            "#d8576b"
                          ],
                          [
                            0.6666666666666666,
                            "#ed7953"
                          ],
                          [
                            0.7777777777777778,
                            "#fb9f3a"
                          ],
                          [
                            0.8888888888888888,
                            "#fdca26"
                          ],
                          [
                            1,
                            "#f0f921"
                          ]
                        ],
                        "type": "contour"
                      }
                    ],
                    "contourcarpet": [
                      {
                        "colorbar": {
                          "outlinewidth": 0,
                          "ticks": ""
                        },
                        "type": "contourcarpet"
                      }
                    ],
                    "heatmap": [
                      {
                        "colorbar": {
                          "outlinewidth": 0,
                          "ticks": ""
                        },
                        "colorscale": [
                          [
                            0,
                            "#0d0887"
                          ],
                          [
                            0.1111111111111111,
                            "#46039f"
                          ],
                          [
                            0.2222222222222222,
                            "#7201a8"
                          ],
                          [
                            0.3333333333333333,
                            "#9c179e"
                          ],
                          [
                            0.4444444444444444,
                            "#bd3786"
                          ],
                          [
                            0.5555555555555556,
                            "#d8576b"
                          ],
                          [
                            0.6666666666666666,
                            "#ed7953"
                          ],
                          [
                            0.7777777777777778,
                            "#fb9f3a"
                          ],
                          [
                            0.8888888888888888,
                            "#fdca26"
                          ],
                          [
                            1,
                            "#f0f921"
                          ]
                        ],
                        "type": "heatmap"
                      }
                    ],
                    "heatmapgl": [
                      {
                        "colorbar": {
                          "outlinewidth": 0,
                          "ticks": ""
                        },
                        "colorscale": [
                          [
                            0,
                            "#0d0887"
                          ],
                          [
                            0.1111111111111111,
                            "#46039f"
                          ],
                          [
                            0.2222222222222222,
                            "#7201a8"
                          ],
                          [
                            0.3333333333333333,
                            "#9c179e"
                          ],
                          [
                            0.4444444444444444,
                            "#bd3786"
                          ],
                          [
                            0.5555555555555556,
                            "#d8576b"
                          ],
                          [
                            0.6666666666666666,
                            "#ed7953"
                          ],
                          [
                            0.7777777777777778,
                            "#fb9f3a"
                          ],
                          [
                            0.8888888888888888,
                            "#fdca26"
                          ],
                          [
                            1,
                            "#f0f921"
                          ]
                        ],
                        "type": "heatmapgl"
                      }
                    ],
                    "histogram": [
                      {
                        "marker": {
                          "pattern": {
                            "fillmode": "overlay",
                            "size": 10,
                            "solidity": 0.2
                          }
                        },
                        "type": "histogram"
                      }
                    ],
                    "histogram2d": [
                      {
                        "colorbar": {
                          "outlinewidth": 0,
                          "ticks": ""
                        },
                        "colorscale": [
                          [
                            0,
                            "#0d0887"
                          ],
                          [
                            0.1111111111111111,
                            "#46039f"
                          ],
                          [
                            0.2222222222222222,
                            "#7201a8"
                          ],
                          [
                            0.3333333333333333,
                            "#9c179e"
                          ],
                          [
                            0.4444444444444444,
                            "#bd3786"
                          ],
                          [
                            0.5555555555555556,
                            "#d8576b"
                          ],
                          [
                            0.6666666666666666,
                            "#ed7953"
                          ],
                          [
                            0.7777777777777778,
                            "#fb9f3a"
                          ],
                          [
                            0.8888888888888888,
                            "#fdca26"
                          ],
                          [
                            1,
                            "#f0f921"
                          ]
                        ],
                        "type": "histogram2d"
                      }
                    ],
                    "histogram2dcontour": [
                      {
                        "colorbar": {
                          "outlinewidth": 0,
                          "ticks": ""
                        },
                        "colorscale": [
                          [
                            0,
                            "#0d0887"
                          ],
                          [
                            0.1111111111111111,
                            "#46039f"
                          ],
                          [
                            0.2222222222222222,
                            "#7201a8"
                          ],
                          [
                            0.3333333333333333,
                            "#9c179e"
                          ],
                          [
                            0.4444444444444444,
                            "#bd3786"
                          ],
                          [
                            0.5555555555555556,
                            "#d8576b"
                          ],
                          [
                            0.6666666666666666,
                            "#ed7953"
                          ],
                          [
                            0.7777777777777778,
                            "#fb9f3a"
                          ],
                          [
                            0.8888888888888888,
                            "#fdca26"
                          ],
                          [
                            1,
                            "#f0f921"
                          ]
                        ],
                        "type": "histogram2dcontour"
                      }
                    ],
                    "mesh3d": [
                      {
                        "colorbar": {
                          "outlinewidth": 0,
                          "ticks": ""
                        },
                        "type": "mesh3d"
                      }
                    ],
                    "parcoords": [
                      {
                        "line": {
                          "colorbar": {
                            "outlinewidth": 0,
                            "ticks": ""
                          }
                        },
                        "type": "parcoords"
                      }
                    ],
                    "pie": [
                      {
                        "automargin": true,
                        "type": "pie"
                      }
                    ],
                    "scatter": [
                      {
                        "fillpattern": {
                          "fillmode": "overlay",
                          "size": 10,
                          "solidity": 0.2
                        },
                        "type": "scatter"
                      }
                    ],
                    "scatter3d": [
                      {
                        "line": {
                          "colorbar": {
                            "outlinewidth": 0,
                            "ticks": ""
                          }
                        },
                        "marker": {
                          "colorbar": {
                            "outlinewidth": 0,
                            "ticks": ""
                          }
                        },
                        "type": "scatter3d"
                      }
                    ],
                    "scattercarpet": [
                      {
                        "marker": {
                          "colorbar": {
                            "outlinewidth": 0,
                            "ticks": ""
                          }
                        },
                        "type": "scattercarpet"
                      }
                    ],
                    "scattergeo": [
                      {
                        "marker": {
                          "colorbar": {
                            "outlinewidth": 0,
                            "ticks": ""
                          }
                        },
                        "type": "scattergeo"
                      }
                    ],
                    "scattergl": [
                      {
                        "marker": {
                          "colorbar": {
                            "outlinewidth": 0,
                            "ticks": ""
                          }
                        },
                        "type": "scattergl"
                      }
                    ],
                    "scattermapbox": [
                      {
                        "marker": {
                          "colorbar": {
                            "outlinewidth": 0,
                            "ticks": ""
                          }
                        },
                        "type": "scattermapbox"
                      }
                    ],
                    "scatterpolar": [
                      {
                        "marker": {
                          "colorbar": {
                            "outlinewidth": 0,
                            "ticks": ""
                          }
                        },
                        "type": "scatterpolar"
                      }
                    ],
                    "scatterpolargl": [
                      {
                        "marker": {
                          "colorbar": {
                            "outlinewidth": 0,
                            "ticks": ""
                          }
                        },
                        "type": "scatterpolargl"
                      }
                    ],
                    "scatterternary": [
                      {
                        "marker": {
                          "colorbar": {
                            "outlinewidth": 0,
                            "ticks": ""
                          }
                        },
                        "type": "scatterternary"
                      }
                    ],
                    "surface": [
                      {
                        "colorbar": {
                          "outlinewidth": 0,
                          "ticks": ""
                        },
                        "colorscale": [
                          [
                            0,
                            "#0d0887"
                          ],
                          [
                            0.1111111111111111,
                            "#46039f"
                          ],
                          [
                            0.2222222222222222,
                            "#7201a8"
                          ],
                          [
                            0.3333333333333333,
                            "#9c179e"
                          ],
                          [
                            0.4444444444444444,
                            "#bd3786"
                          ],
                          [
                            0.5555555555555556,
                            "#d8576b"
                          ],
                          [
                            0.6666666666666666,
                            "#ed7953"
                          ],
                          [
                            0.7777777777777778,
                            "#fb9f3a"
                          ],
                          [
                            0.8888888888888888,
                            "#fdca26"
                          ],
                          [
                            1,
                            "#f0f921"
                          ]
                        ],
                        "type": "surface"
                      }
                    ],
                    "table": [
                      {
                        "cells": {
                          "fill": {
                            "color": "#EBF0F8"
                          },
                          "line": {
                            "color": "white"
                          }
                        },
                        "header": {
                          "fill": {
                            "color": "#C8D4E3"
                          },
                          "line": {
                            "color": "white"
                          }
                        },
                        "type": "table"
                      }
                    ]
                  },
                  "layout": {
                    "annotationdefaults": {
                      "arrowcolor": "#2a3f5f",
                      "arrowhead": 0,
                      "arrowwidth": 1
                    },
                    "autotypenumbers": "strict",
                    "coloraxis": {
                      "colorbar": {
                        "outlinewidth": 0,
                        "ticks": ""
                      }
                    },
                    "colorscale": {
                      "diverging": [
                        [
                          0,
                          "#8e0152"
                        ],
                        [
                          0.1,
                          "#c51b7d"
                        ],
                        [
                          0.2,
                          "#de77ae"
                        ],
                        [
                          0.3,
                          "#f1b6da"
                        ],
                        [
                          0.4,
                          "#fde0ef"
                        ],
                        [
                          0.5,
                          "#f7f7f7"
                        ],
                        [
                          0.6,
                          "#e6f5d0"
                        ],
                        [
                          0.7,
                          "#b8e186"
                        ],
                        [
                          0.8,
                          "#7fbc41"
                        ],
                        [
                          0.9,
                          "#4d9221"
                        ],
                        [
                          1,
                          "#276419"
                        ]
                      ],
                      "sequential": [
                        [
                          0,
                          "#0d0887"
                        ],
                        [
                          0.1111111111111111,
                          "#46039f"
                        ],
                        [
                          0.2222222222222222,
                          "#7201a8"
                        ],
                        [
                          0.3333333333333333,
                          "#9c179e"
                        ],
                        [
                          0.4444444444444444,
                          "#bd3786"
                        ],
                        [
                          0.5555555555555556,
                          "#d8576b"
                        ],
                        [
                          0.6666666666666666,
                          "#ed7953"
                        ],
                        [
                          0.7777777777777778,
                          "#fb9f3a"
                        ],
                        [
                          0.8888888888888888,
                          "#fdca26"
                        ],
                        [
                          1,
                          "#f0f921"
                        ]
                      ],
                      "sequentialminus": [
                        [
                          0,
                          "#0d0887"
                        ],
                        [
                          0.1111111111111111,
                          "#46039f"
                        ],
                        [
                          0.2222222222222222,
                          "#7201a8"
                        ],
                        [
                          0.3333333333333333,
                          "#9c179e"
                        ],
                        [
                          0.4444444444444444,
                          "#bd3786"
                        ],
                        [
                          0.5555555555555556,
                          "#d8576b"
                        ],
                        [
                          0.6666666666666666,
                          "#ed7953"
                        ],
                        [
                          0.7777777777777778,
                          "#fb9f3a"
                        ],
                        [
                          0.8888888888888888,
                          "#fdca26"
                        ],
                        [
                          1,
                          "#f0f921"
                        ]
                      ]
                    },
                    "colorway": [
                      "#636efa",
                      "#EF553B",
                      "#00cc96",
                      "#ab63fa",
                      "#FFA15A",
                      "#19d3f3",
                      "#FF6692",
                      "#B6E880",
                      "#FF97FF",
                      "#FECB52"
                    ],
                    "font": {
                      "color": "#2a3f5f"
                    },
                    "geo": {
                      "bgcolor": "white",
                      "lakecolor": "white",
                      "landcolor": "#E5ECF6",
                      "showlakes": true,
                      "showland": true,
                      "subunitcolor": "white"
                    },
                    "hoverlabel": {
                      "align": "left"
                    },
                    "hovermode": "closest",
                    "mapbox": {
                      "style": "light"
                    },
                    "paper_bgcolor": "white",
                    "plot_bgcolor": "#E5ECF6",
                    "polar": {
                      "angularaxis": {
                        "gridcolor": "white",
                        "linecolor": "white",
                        "ticks": ""
                      },
                      "bgcolor": "#E5ECF6",
                      "radialaxis": {
                        "gridcolor": "white",
                        "linecolor": "white",
                        "ticks": ""
                      }
                    },
                    "scene": {
                      "xaxis": {
                        "backgroundcolor": "#E5ECF6",
                        "gridcolor": "white",
                        "gridwidth": 2,
                        "linecolor": "white",
                        "showbackground": true,
                        "ticks": "",
                        "zerolinecolor": "white"
                      },
                      "yaxis": {
                        "backgroundcolor": "#E5ECF6",
                        "gridcolor": "white",
                        "gridwidth": 2,
                        "linecolor": "white",
                        "showbackground": true,
                        "ticks": "",
                        "zerolinecolor": "white"
                      },
                      "zaxis": {
                        "backgroundcolor": "#E5ECF6",
                        "gridcolor": "white",
                        "gridwidth": 2,
                        "linecolor": "white",
                        "showbackground": true,
                        "ticks": "",
                        "zerolinecolor": "white"
                      }
                    },
                    "shapedefaults": {
                      "line": {
                        "color": "#2a3f5f"
                      }
                    },
                    "ternary": {
                      "aaxis": {
                        "gridcolor": "white",
                        "linecolor": "white",
                        "ticks": ""
                      },
                      "baxis": {
                        "gridcolor": "white",
                        "linecolor": "white",
                        "ticks": ""
                      },
                      "bgcolor": "#E5ECF6",
                      "caxis": {
                        "gridcolor": "white",
                        "linecolor": "white",
                        "ticks": ""
                      }
                    },
                    "title": {
                      "x": 0.05
                    },
                    "xaxis": {
                      "automargin": true,
                      "gridcolor": "white",
                      "linecolor": "white",
                      "ticks": "",
                      "title": {
                        "standoff": 15
                      },
                      "zerolinecolor": "white",
                      "zerolinewidth": 2
                    },
                    "yaxis": {
                      "automargin": true,
                      "gridcolor": "white",
                      "linecolor": "white",
                      "ticks": "",
                      "title": {
                        "standoff": 15
                      },
                      "zerolinecolor": "white",
                      "zerolinewidth": 2
                    }
                  }
                },
                "title": {
                  "font": {
                    "color": "#4D5663"
                  }
                },
                "xaxis": {
                  "gridcolor": "#E1E5ED",
                  "showgrid": true,
                  "tickfont": {
                    "color": "#4D5663"
                  },
                  "title": {
                    "font": {
                      "color": "#4D5663"
                    },
                    "text": ""
                  },
                  "zerolinecolor": "#E1E5ED"
                },
                "yaxis": {
                  "gridcolor": "#E1E5ED",
                  "showgrid": true,
                  "tickfont": {
                    "color": "#4D5663"
                  },
                  "title": {
                    "font": {
                      "color": "#4D5663"
                    },
                    "text": ""
                  },
                  "zerolinecolor": "#E1E5ED"
                }
              }
            },
            "text/html": [
              "<div>                            <div id=\"76098877-8210-4405-a199-e97c6f320c9a\" class=\"plotly-graph-div\" style=\"height:525px; width:100%;\"></div>            <script type=\"text/javascript\">                require([\"plotly\"], function(Plotly) {                    window.PLOTLYENV=window.PLOTLYENV || {};\n",
              "                    window.PLOTLYENV.BASE_URL='https://plot.ly';                                    if (document.getElementById(\"76098877-8210-4405-a199-e97c6f320c9a\")) {                    Plotly.newPlot(                        \"76098877-8210-4405-a199-e97c6f320c9a\",                        [{\"line\":{\"color\":\"rgba(55, 128, 191, 1.0)\",\"dash\":\"solid\",\"shape\":\"linear\",\"width\":1.3},\"mode\":\"lines\",\"name\":\"Predicted values\",\"text\":\"\",\"x\":[\"2022-10-10T23:24:00Z\",\"2022-10-10T23:27:00Z\",\"2022-10-10T23:30:00Z\",\"2022-10-10T23:33:00Z\",\"2022-10-10T23:36:00Z\",\"2022-10-10T23:39:00Z\",\"2022-10-10T23:42:00Z\",\"2022-10-10T23:45:00Z\",\"2022-10-10T23:48:00Z\",\"2022-10-10T23:51:00Z\",\"2022-10-10T23:54:00Z\",\"2022-10-10T23:57:00Z\",\"2022-10-11T00:00:00Z\",\"2022-10-11T00:03:00Z\",\"2022-10-11T00:06:00Z\",\"2022-10-11T00:09:00Z\",\"2022-10-11T00:12:00Z\",\"2022-10-11T00:15:00Z\",\"2022-10-11T00:18:00Z\",\"2022-10-11T00:21:00Z\",\"2022-10-11T00:24:00Z\",\"2022-10-11T00:27:00Z\",\"2022-10-11T00:30:00Z\",\"2022-10-11T00:33:00Z\",\"2022-10-11T00:36:00Z\",\"2022-10-11T00:39:00Z\",\"2022-10-11T00:42:00Z\",\"2022-10-11T00:45:00Z\",\"2022-10-11T00:48:00Z\",\"2022-10-11T00:51:00Z\",\"2022-10-11T00:54:00Z\",\"2022-10-11T00:57:00Z\",\"2022-10-11T01:00:00Z\",\"2022-10-11T01:03:00Z\",\"2022-10-11T01:06:00Z\",\"2022-10-11T01:09:00Z\",\"2022-10-11T01:12:00Z\",\"2022-10-11T01:15:00Z\",\"2022-10-11T01:18:00Z\",\"2022-10-11T01:21:00Z\",\"2022-10-11T01:24:00Z\",\"2022-10-11T01:27:00Z\",\"2022-10-11T01:30:00Z\",\"2022-10-11T01:33:00Z\",\"2022-10-11T01:36:00Z\",\"2022-10-11T01:39:00Z\",\"2022-10-11T01:42:00Z\",\"2022-10-11T01:45:00Z\",\"2022-10-11T01:48:00Z\",\"2022-10-11T01:51:00Z\",\"2022-10-11T01:54:00Z\",\"2022-10-11T01:57:00Z\",\"2022-10-11T02:00:00Z\",\"2022-10-11T02:03:00Z\",\"2022-10-11T02:06:00Z\",\"2022-10-11T02:09:00Z\",\"2022-10-11T02:12:00Z\",\"2022-10-11T02:15:00Z\",\"2022-10-11T02:18:00Z\",\"2022-10-11T02:21:00Z\",\"2022-10-11T02:24:00Z\",\"2022-10-11T02:27:00Z\",\"2022-10-11T02:30:00Z\",\"2022-10-11T02:33:00Z\",\"2022-10-11T02:36:00Z\",\"2022-10-11T02:39:00Z\",\"2022-10-11T02:42:00Z\",\"2022-10-11T02:45:00Z\",\"2022-10-11T02:48:00Z\",\"2022-10-11T02:51:00Z\",\"2022-10-11T02:54:00Z\",\"2022-10-11T02:57:00Z\",\"2022-10-11T03:00:00Z\",\"2022-10-11T03:03:00Z\",\"2022-10-11T03:06:00Z\",\"2022-10-11T03:09:00Z\",\"2022-10-11T03:12:00Z\",\"2022-10-11T03:15:00Z\",\"2022-10-11T03:18:00Z\",\"2022-10-11T03:21:00Z\",\"2022-10-11T03:24:00Z\",\"2022-10-11T03:27:00Z\",\"2022-10-11T03:30:00Z\",\"2022-10-11T03:33:00Z\",\"2022-10-11T03:36:00Z\",\"2022-10-11T03:39:00Z\",\"2022-10-11T03:42:00Z\",\"2022-10-11T03:45:00Z\",\"2022-10-11T03:48:00Z\",\"2022-10-11T03:51:00Z\",\"2022-10-11T03:54:00Z\",\"2022-10-11T03:57:00Z\",\"2022-10-11T04:00:00Z\",\"2022-10-11T04:03:00Z\",\"2022-10-11T04:06:00Z\",\"2022-10-11T04:09:00Z\",\"2022-10-11T04:12:00Z\",\"2022-10-11T04:15:00Z\",\"2022-10-11T04:18:00Z\",\"2022-10-11T04:21:00Z\",\"2022-10-11T04:24:00Z\",\"2022-10-11T04:27:00Z\",\"2022-10-11T04:30:00Z\",\"2022-10-11T04:33:00Z\",\"2022-10-11T04:36:00Z\",\"2022-10-11T05:21:00Z\",\"2022-10-11T05:51:00Z\",\"2022-10-11T05:54:00Z\",\"2022-10-11T05:57:00Z\",\"2022-10-11T06:00:00Z\",\"2022-10-11T06:03:00Z\",\"2022-10-11T06:06:00Z\",\"2022-10-11T06:09:00Z\",\"2022-10-11T06:12:00Z\",\"2022-10-11T06:15:00Z\",\"2022-10-11T06:18:00Z\",\"2022-10-11T06:21:00Z\",\"2022-10-11T06:24:00Z\",\"2022-10-11T06:27:00Z\",\"2022-10-11T06:30:00Z\",\"2022-10-11T06:33:00Z\",\"2022-10-11T06:36:00Z\",\"2022-10-11T06:39:00Z\",\"2022-10-11T06:42:00Z\",\"2022-10-11T06:45:00Z\",\"2022-10-11T06:48:00Z\",\"2022-10-11T06:51:00Z\",\"2022-10-11T06:54:00Z\",\"2022-10-11T06:57:00Z\",\"2022-10-11T07:00:00Z\",\"2022-10-11T07:03:00Z\",\"2022-10-11T07:06:00Z\",\"2022-10-11T07:09:00Z\",\"2022-10-11T07:12:00Z\",\"2022-10-11T07:15:00Z\",\"2022-10-11T07:18:00Z\",\"2022-10-11T07:21:00Z\",\"2022-10-11T07:24:00Z\",\"2022-10-11T07:27:00Z\",\"2022-10-11T07:30:00Z\",\"2022-10-11T07:33:00Z\",\"2022-10-11T07:36:00Z\",\"2022-10-11T07:39:00Z\",\"2022-10-11T07:42:00Z\",\"2022-10-11T07:45:00Z\",\"2022-10-11T07:48:00Z\",\"2022-10-11T07:51:00Z\",\"2022-10-11T07:54:00Z\",\"2022-10-11T07:57:00Z\",\"2022-10-11T08:00:00Z\",\"2022-10-11T08:03:00Z\",\"2022-10-11T08:06:00Z\",\"2022-10-11T08:09:00Z\",\"2022-10-11T08:12:00Z\",\"2022-10-11T08:15:00Z\",\"2022-10-11T08:18:00Z\",\"2022-10-11T08:21:00Z\",\"2022-10-11T08:24:00Z\",\"2022-10-11T08:27:00Z\",\"2022-10-11T08:30:00Z\",\"2022-10-11T08:33:00Z\",\"2022-10-11T08:36:00Z\",\"2022-10-11T08:39:00Z\",\"2022-10-11T08:42:00Z\",\"2022-10-11T08:45:00Z\",\"2022-10-11T08:48:00Z\",\"2022-10-11T08:51:00Z\",\"2022-10-11T08:54:00Z\",\"2022-10-11T08:57:00Z\",\"2022-10-11T09:00:00Z\",\"2022-10-11T09:03:00Z\",\"2022-10-11T09:06:00Z\",\"2022-10-11T09:09:00Z\",\"2022-10-11T09:12:00Z\",\"2022-10-11T09:15:00Z\",\"2022-10-11T09:18:00Z\",\"2022-10-11T09:21:00Z\",\"2022-10-11T09:24:00Z\",\"2022-10-11T09:27:00Z\",\"2022-10-11T09:30:00Z\"],\"y\":[28.30059826949105,28.300501169030294,28.300419912377293,28.300351568102126,28.300294036334943,28.30024664325173,28.300206986313537,28.300173632650637,28.30014546664556,28.30012168073786,28.304970732567508,28.314906801183906,28.29886753815069,28.30035504062549,28.300297473189286,28.300249262498276,28.30020878014579,28.300175203383088,28.30014666088803,28.300122864507095,28.30010317252212,28.300086417660374,28.30007253400407,28.30006077661865,28.300050929805703,28.300042679015814,28.30003586363118,28.30003008511134,28.295525579309995,28.300399528298584,28.299949260137915,28.29995741980606,28.299964336749724,28.299970196879883,28.299974903586982,28.264404338337982,28.292313190409935,28.30033955265716,28.299372001124834,28.276272869664556,28.26492621360139,28.243576039909836,28.206332543619048,28.2027634302835,28.208214988886947,28.206615511179113,28.22127098757743,28.200405525669304,28.205256408500247,28.202647520223113,28.17761481282291,28.194928126189467,28.24847005317214,28.249633413298525,28.201709421717744,28.280545230326357,28.165822425316005,28.17167467869488,28.105669425728173,28.110341637583428,28.108681190125743,28.158317978008547,28.135860770145303,28.103058701479508,28.16268273995201,28.143100667795746,28.065305272050708,28.107607895578447,28.10333688154759,28.102792115186304,28.102341102977693,28.101967418227375,28.10164761855969,28.101384897917363,28.101161010492355,28.100974656739883,28.100819317859937,28.10068632030131,28.10057527037255,28.09256904898362,28.101068378533856,28.10021985070104,28.100186473065595,28.10015502203816,28.100130012813235,28.100110227575858,28.095525937152633,28.018532146335843,28.082107562247725,28.00964072196924,28.007266482152794,28.006754209226248,28.00566737790736,28.00475895937561,28.003995621795102,28.045084417766937,28.06735208605752,28.012789774838822,28.016170303745675,28.02832661521958,28.018978691801898,28.060039785714064,28.050311088699356,28.097647222553782,28.053910174472993,27.99948109118864,28.147359923342258,28.090851010608223,28.07904617132331,27.999234548545797,28.006295926442057,28.053163332890517,28.071337169672425,28.072706240290483,28.16082660933156,27.92702279191679,27.913408734593748,27.926295442039393,28.039015465857442,27.97818206266974,28.0598432036079,28.005164733389016,27.952262771385776,27.87260780298733,27.983980173693734,28.065331542173293,28.130079724869667,28.19161058982479,28.176045561032563,28.189822073750747,28.248441842968237,28.192443603455683,28.191707418681787,28.213761246578343,28.29190903929453,28.28653376096978,28.28871548365045,28.21170654059003,28.111420490009163,28.28496178047097,28.292376184868385,28.291680657366918,28.295048305903247,28.329506533601638,28.38484022657404,28.293407683773363,28.32679651465941,28.32729386924794,28.296875876076946,28.22550909213191,28.10855849478313,28.19397812211294,28.136307849682844,28.114412215067272,28.055152790774894,28.105419970176623,28.294796466228547,28.322270239934223,28.304874871601037,28.40082938027558,28.308138858696086,28.096089536772052,28.23469891424844,28.300931033954996,28.30991296175768,28.344517281166617,28.29169167410839,28.297411857521638,28.316053142795617,28.489527016139927,28.479985334827887,28.48281620067118,28.44232465723407,28.35560085554669,28.184246191505952,27.936595507508905,27.765104733577363,27.853850434763924,27.983987390832468,28.113204583458405],\"type\":\"scatter\"},{\"line\":{\"color\":\"rgba(219, 64, 82, 1.0)\",\"dash\":\"solid\",\"shape\":\"linear\",\"width\":1.3},\"mode\":\"lines\",\"name\":\"Temperature\",\"text\":\"\",\"x\":[\"2022-10-10T23:24:00Z\",\"2022-10-10T23:27:00Z\",\"2022-10-10T23:30:00Z\",\"2022-10-10T23:33:00Z\",\"2022-10-10T23:36:00Z\",\"2022-10-10T23:39:00Z\",\"2022-10-10T23:42:00Z\",\"2022-10-10T23:45:00Z\",\"2022-10-10T23:48:00Z\",\"2022-10-10T23:51:00Z\",\"2022-10-10T23:54:00Z\",\"2022-10-10T23:57:00Z\",\"2022-10-11T00:00:00Z\",\"2022-10-11T00:03:00Z\",\"2022-10-11T00:06:00Z\",\"2022-10-11T00:09:00Z\",\"2022-10-11T00:12:00Z\",\"2022-10-11T00:15:00Z\",\"2022-10-11T00:18:00Z\",\"2022-10-11T00:21:00Z\",\"2022-10-11T00:24:00Z\",\"2022-10-11T00:27:00Z\",\"2022-10-11T00:30:00Z\",\"2022-10-11T00:33:00Z\",\"2022-10-11T00:36:00Z\",\"2022-10-11T00:39:00Z\",\"2022-10-11T00:42:00Z\",\"2022-10-11T00:45:00Z\",\"2022-10-11T00:48:00Z\",\"2022-10-11T00:51:00Z\",\"2022-10-11T00:54:00Z\",\"2022-10-11T00:57:00Z\",\"2022-10-11T01:00:00Z\",\"2022-10-11T01:03:00Z\",\"2022-10-11T01:06:00Z\",\"2022-10-11T01:09:00Z\",\"2022-10-11T01:12:00Z\",\"2022-10-11T01:15:00Z\",\"2022-10-11T01:18:00Z\",\"2022-10-11T01:21:00Z\",\"2022-10-11T01:24:00Z\",\"2022-10-11T01:27:00Z\",\"2022-10-11T01:30:00Z\",\"2022-10-11T01:33:00Z\",\"2022-10-11T01:36:00Z\",\"2022-10-11T01:39:00Z\",\"2022-10-11T01:42:00Z\",\"2022-10-11T01:45:00Z\",\"2022-10-11T01:48:00Z\",\"2022-10-11T01:51:00Z\",\"2022-10-11T01:54:00Z\",\"2022-10-11T01:57:00Z\",\"2022-10-11T02:00:00Z\",\"2022-10-11T02:03:00Z\",\"2022-10-11T02:06:00Z\",\"2022-10-11T02:09:00Z\",\"2022-10-11T02:12:00Z\",\"2022-10-11T02:15:00Z\",\"2022-10-11T02:18:00Z\",\"2022-10-11T02:21:00Z\",\"2022-10-11T02:24:00Z\",\"2022-10-11T02:27:00Z\",\"2022-10-11T02:30:00Z\",\"2022-10-11T02:33:00Z\",\"2022-10-11T02:36:00Z\",\"2022-10-11T02:39:00Z\",\"2022-10-11T02:42:00Z\",\"2022-10-11T02:45:00Z\",\"2022-10-11T02:48:00Z\",\"2022-10-11T02:51:00Z\",\"2022-10-11T02:54:00Z\",\"2022-10-11T02:57:00Z\",\"2022-10-11T03:00:00Z\",\"2022-10-11T03:03:00Z\",\"2022-10-11T03:06:00Z\",\"2022-10-11T03:09:00Z\",\"2022-10-11T03:12:00Z\",\"2022-10-11T03:15:00Z\",\"2022-10-11T03:18:00Z\",\"2022-10-11T03:21:00Z\",\"2022-10-11T03:24:00Z\",\"2022-10-11T03:27:00Z\",\"2022-10-11T03:30:00Z\",\"2022-10-11T03:33:00Z\",\"2022-10-11T03:36:00Z\",\"2022-10-11T03:39:00Z\",\"2022-10-11T03:42:00Z\",\"2022-10-11T03:45:00Z\",\"2022-10-11T03:48:00Z\",\"2022-10-11T03:51:00Z\",\"2022-10-11T03:54:00Z\",\"2022-10-11T03:57:00Z\",\"2022-10-11T04:00:00Z\",\"2022-10-11T04:03:00Z\",\"2022-10-11T04:06:00Z\",\"2022-10-11T04:09:00Z\",\"2022-10-11T04:12:00Z\",\"2022-10-11T04:15:00Z\",\"2022-10-11T04:18:00Z\",\"2022-10-11T04:21:00Z\",\"2022-10-11T04:24:00Z\",\"2022-10-11T04:27:00Z\",\"2022-10-11T04:30:00Z\",\"2022-10-11T04:33:00Z\",\"2022-10-11T04:36:00Z\",\"2022-10-11T05:21:00Z\",\"2022-10-11T05:51:00Z\",\"2022-10-11T05:54:00Z\",\"2022-10-11T05:57:00Z\",\"2022-10-11T06:00:00Z\",\"2022-10-11T06:03:00Z\",\"2022-10-11T06:06:00Z\",\"2022-10-11T06:09:00Z\",\"2022-10-11T06:12:00Z\",\"2022-10-11T06:15:00Z\",\"2022-10-11T06:18:00Z\",\"2022-10-11T06:21:00Z\",\"2022-10-11T06:24:00Z\",\"2022-10-11T06:27:00Z\",\"2022-10-11T06:30:00Z\",\"2022-10-11T06:33:00Z\",\"2022-10-11T06:36:00Z\",\"2022-10-11T06:39:00Z\",\"2022-10-11T06:42:00Z\",\"2022-10-11T06:45:00Z\",\"2022-10-11T06:48:00Z\",\"2022-10-11T06:51:00Z\",\"2022-10-11T06:54:00Z\",\"2022-10-11T06:57:00Z\",\"2022-10-11T07:00:00Z\",\"2022-10-11T07:03:00Z\",\"2022-10-11T07:06:00Z\",\"2022-10-11T07:09:00Z\",\"2022-10-11T07:12:00Z\",\"2022-10-11T07:15:00Z\",\"2022-10-11T07:18:00Z\",\"2022-10-11T07:21:00Z\",\"2022-10-11T07:24:00Z\",\"2022-10-11T07:27:00Z\",\"2022-10-11T07:30:00Z\",\"2022-10-11T07:33:00Z\",\"2022-10-11T07:36:00Z\",\"2022-10-11T07:39:00Z\",\"2022-10-11T07:42:00Z\",\"2022-10-11T07:45:00Z\",\"2022-10-11T07:48:00Z\",\"2022-10-11T07:51:00Z\",\"2022-10-11T07:54:00Z\",\"2022-10-11T07:57:00Z\",\"2022-10-11T08:00:00Z\",\"2022-10-11T08:03:00Z\",\"2022-10-11T08:06:00Z\",\"2022-10-11T08:09:00Z\",\"2022-10-11T08:12:00Z\",\"2022-10-11T08:15:00Z\",\"2022-10-11T08:18:00Z\",\"2022-10-11T08:21:00Z\",\"2022-10-11T08:24:00Z\",\"2022-10-11T08:27:00Z\",\"2022-10-11T08:30:00Z\",\"2022-10-11T08:33:00Z\",\"2022-10-11T08:36:00Z\",\"2022-10-11T08:39:00Z\",\"2022-10-11T08:42:00Z\",\"2022-10-11T08:45:00Z\",\"2022-10-11T08:48:00Z\",\"2022-10-11T08:51:00Z\",\"2022-10-11T08:54:00Z\",\"2022-10-11T08:57:00Z\",\"2022-10-11T09:00:00Z\",\"2022-10-11T09:03:00Z\",\"2022-10-11T09:06:00Z\",\"2022-10-11T09:09:00Z\",\"2022-10-11T09:12:00Z\",\"2022-10-11T09:15:00Z\",\"2022-10-11T09:18:00Z\",\"2022-10-11T09:21:00Z\",\"2022-10-11T09:24:00Z\",\"2022-10-11T09:27:00Z\",\"2022-10-11T09:30:00Z\"],\"y\":[28.29999999999997,28.29999999999997,28.29999999999997,28.29999999999997,28.29999999999997,28.29999999999997,28.29999999999997,28.29999999999997,28.299999999999976,28.304918032786865,28.315384615384584,28.299999999999983,28.29999999999997,28.29999999999997,28.29999999999997,28.29999999999997,28.299999999999976,28.29999999999997,28.29999999999997,28.29999999999997,28.29999999999997,28.29999999999997,28.29999999999997,28.29999999999997,28.29999999999997,28.29999999999997,28.29999999999997,28.29545454545453,28.29999999999997,28.29999999999997,28.29999999999997,28.29999999999997,28.29999999999997,28.29999999999997,28.2640625,28.28923076923074,28.29999999999997,28.299999999999976,28.276562499999997,28.26304347826087,28.24062500000001,28.20156250000003,28.195384615384643,28.20156250000003,28.201562500000023,28.217187500000016,28.198113207547195,28.201754385964936,28.200000000000028,28.175000000000004,28.19076923076926,28.246874999999992,28.253125000000004,28.204687500000027,28.279687499999977,28.170312499999987,28.166153846153858,28.09999999999997,28.09999999999997,28.09999999999997,28.151562500000026,28.134374999999967,28.09999999999997,28.15781249999999,28.143749999999965,28.063829787234027,28.09999999999997,28.099999999999987,28.100000000000005,28.09999999999997,28.099999999999984,28.09999999999997,28.09999999999997,28.09999999999997,28.09999999999997,28.100000000000005,28.09999999999997,28.09999999999997,28.091999999999995,28.09999999999997,28.09999999999997,28.09999999999997,28.09999999999997,28.09999999999997,28.09999999999997,28.09538461538459,28.0171875,28.074999999999967,28.0078125,28.0,28.0,28.0,28.0,28.0,28.04218749999998,28.068749999999973,28.015625,28.0140625,28.0265625,28.018461538461523,28.059374999999985,28.05312499999997,28.09999999999997,28.059375000000006,28.0,28.14444444444444,28.100000000000005,28.082812499999985,28.0,28.0,28.048437499999963,28.071698113207557,28.074999999999967,28.164062499999968,27.93437500000003,27.90000000000003,27.912307692307717,28.029687500000005,27.97959183673469,28.057812499999976,28.009375,27.95102040816328,27.865625000000016,27.97230769230769,28.065624999999965,28.13906250000002,28.206122448979613,28.193750000000016,28.20377358490568,28.261666666666667,28.207812500000028,28.200000000000024,28.22031250000001,28.299999999999976,28.299999999999976,28.29999999999997,28.2203125,28.110769230769204,28.27704918032784,28.29999999999997,28.29999999999997,28.302040816326507,28.335937500000007,28.393750000000026,28.30468749999997,28.32903225806453,28.331249999999976,28.29999999999997,28.22459016393444,28.09999999999997,28.17719298245617,28.12812499999998,28.10312499999997,28.04285714285715,28.090624999999992,28.288679245283,28.334375,28.31874999999997,28.412244897959184,28.32461538461537,28.09999999999997,28.22031249999999,28.29999999999997,28.31612903225805,28.35156249999998,28.299999999999976,28.29999999999997,28.31846153846153,28.4953125,28.5,28.5,28.45625000000003,28.36249999999997,28.17999999999997,27.915000000000013,27.72307692307696,27.801562499999992,27.94687499999999,28.09531249999997,28.20909090909091],\"type\":\"scatter\"}],                        {\"legend\":{\"bgcolor\":\"#F5F6F9\",\"font\":{\"color\":\"#4D5663\"}},\"paper_bgcolor\":\"#F5F6F9\",\"plot_bgcolor\":\"#F5F6F9\",\"template\":{\"data\":{\"barpolar\":[{\"marker\":{\"line\":{\"color\":\"#E5ECF6\",\"width\":0.5},\"pattern\":{\"fillmode\":\"overlay\",\"size\":10,\"solidity\":0.2}},\"type\":\"barpolar\"}],\"bar\":[{\"error_x\":{\"color\":\"#2a3f5f\"},\"error_y\":{\"color\":\"#2a3f5f\"},\"marker\":{\"line\":{\"color\":\"#E5ECF6\",\"width\":0.5},\"pattern\":{\"fillmode\":\"overlay\",\"size\":10,\"solidity\":0.2}},\"type\":\"bar\"}],\"carpet\":[{\"aaxis\":{\"endlinecolor\":\"#2a3f5f\",\"gridcolor\":\"white\",\"linecolor\":\"white\",\"minorgridcolor\":\"white\",\"startlinecolor\":\"#2a3f5f\"},\"baxis\":{\"endlinecolor\":\"#2a3f5f\",\"gridcolor\":\"white\",\"linecolor\":\"white\",\"minorgridcolor\":\"white\",\"startlinecolor\":\"#2a3f5f\"},\"type\":\"carpet\"}],\"choropleth\":[{\"colorbar\":{\"outlinewidth\":0,\"ticks\":\"\"},\"type\":\"choropleth\"}],\"contourcarpet\":[{\"colorbar\":{\"outlinewidth\":0,\"ticks\":\"\"},\"type\":\"contourcarpet\"}],\"contour\":[{\"colorbar\":{\"outlinewidth\":0,\"ticks\":\"\"},\"colorscale\":[[0.0,\"#0d0887\"],[0.1111111111111111,\"#46039f\"],[0.2222222222222222,\"#7201a8\"],[0.3333333333333333,\"#9c179e\"],[0.4444444444444444,\"#bd3786\"],[0.5555555555555556,\"#d8576b\"],[0.6666666666666666,\"#ed7953\"],[0.7777777777777778,\"#fb9f3a\"],[0.8888888888888888,\"#fdca26\"],[1.0,\"#f0f921\"]],\"type\":\"contour\"}],\"heatmapgl\":[{\"colorbar\":{\"outlinewidth\":0,\"ticks\":\"\"},\"colorscale\":[[0.0,\"#0d0887\"],[0.1111111111111111,\"#46039f\"],[0.2222222222222222,\"#7201a8\"],[0.3333333333333333,\"#9c179e\"],[0.4444444444444444,\"#bd3786\"],[0.5555555555555556,\"#d8576b\"],[0.6666666666666666,\"#ed7953\"],[0.7777777777777778,\"#fb9f3a\"],[0.8888888888888888,\"#fdca26\"],[1.0,\"#f0f921\"]],\"type\":\"heatmapgl\"}],\"heatmap\":[{\"colorbar\":{\"outlinewidth\":0,\"ticks\":\"\"},\"colorscale\":[[0.0,\"#0d0887\"],[0.1111111111111111,\"#46039f\"],[0.2222222222222222,\"#7201a8\"],[0.3333333333333333,\"#9c179e\"],[0.4444444444444444,\"#bd3786\"],[0.5555555555555556,\"#d8576b\"],[0.6666666666666666,\"#ed7953\"],[0.7777777777777778,\"#fb9f3a\"],[0.8888888888888888,\"#fdca26\"],[1.0,\"#f0f921\"]],\"type\":\"heatmap\"}],\"histogram2dcontour\":[{\"colorbar\":{\"outlinewidth\":0,\"ticks\":\"\"},\"colorscale\":[[0.0,\"#0d0887\"],[0.1111111111111111,\"#46039f\"],[0.2222222222222222,\"#7201a8\"],[0.3333333333333333,\"#9c179e\"],[0.4444444444444444,\"#bd3786\"],[0.5555555555555556,\"#d8576b\"],[0.6666666666666666,\"#ed7953\"],[0.7777777777777778,\"#fb9f3a\"],[0.8888888888888888,\"#fdca26\"],[1.0,\"#f0f921\"]],\"type\":\"histogram2dcontour\"}],\"histogram2d\":[{\"colorbar\":{\"outlinewidth\":0,\"ticks\":\"\"},\"colorscale\":[[0.0,\"#0d0887\"],[0.1111111111111111,\"#46039f\"],[0.2222222222222222,\"#7201a8\"],[0.3333333333333333,\"#9c179e\"],[0.4444444444444444,\"#bd3786\"],[0.5555555555555556,\"#d8576b\"],[0.6666666666666666,\"#ed7953\"],[0.7777777777777778,\"#fb9f3a\"],[0.8888888888888888,\"#fdca26\"],[1.0,\"#f0f921\"]],\"type\":\"histogram2d\"}],\"histogram\":[{\"marker\":{\"pattern\":{\"fillmode\":\"overlay\",\"size\":10,\"solidity\":0.2}},\"type\":\"histogram\"}],\"mesh3d\":[{\"colorbar\":{\"outlinewidth\":0,\"ticks\":\"\"},\"type\":\"mesh3d\"}],\"parcoords\":[{\"line\":{\"colorbar\":{\"outlinewidth\":0,\"ticks\":\"\"}},\"type\":\"parcoords\"}],\"pie\":[{\"automargin\":true,\"type\":\"pie\"}],\"scatter3d\":[{\"line\":{\"colorbar\":{\"outlinewidth\":0,\"ticks\":\"\"}},\"marker\":{\"colorbar\":{\"outlinewidth\":0,\"ticks\":\"\"}},\"type\":\"scatter3d\"}],\"scattercarpet\":[{\"marker\":{\"colorbar\":{\"outlinewidth\":0,\"ticks\":\"\"}},\"type\":\"scattercarpet\"}],\"scattergeo\":[{\"marker\":{\"colorbar\":{\"outlinewidth\":0,\"ticks\":\"\"}},\"type\":\"scattergeo\"}],\"scattergl\":[{\"marker\":{\"colorbar\":{\"outlinewidth\":0,\"ticks\":\"\"}},\"type\":\"scattergl\"}],\"scattermapbox\":[{\"marker\":{\"colorbar\":{\"outlinewidth\":0,\"ticks\":\"\"}},\"type\":\"scattermapbox\"}],\"scatterpolargl\":[{\"marker\":{\"colorbar\":{\"outlinewidth\":0,\"ticks\":\"\"}},\"type\":\"scatterpolargl\"}],\"scatterpolar\":[{\"marker\":{\"colorbar\":{\"outlinewidth\":0,\"ticks\":\"\"}},\"type\":\"scatterpolar\"}],\"scatter\":[{\"fillpattern\":{\"fillmode\":\"overlay\",\"size\":10,\"solidity\":0.2},\"type\":\"scatter\"}],\"scatterternary\":[{\"marker\":{\"colorbar\":{\"outlinewidth\":0,\"ticks\":\"\"}},\"type\":\"scatterternary\"}],\"surface\":[{\"colorbar\":{\"outlinewidth\":0,\"ticks\":\"\"},\"colorscale\":[[0.0,\"#0d0887\"],[0.1111111111111111,\"#46039f\"],[0.2222222222222222,\"#7201a8\"],[0.3333333333333333,\"#9c179e\"],[0.4444444444444444,\"#bd3786\"],[0.5555555555555556,\"#d8576b\"],[0.6666666666666666,\"#ed7953\"],[0.7777777777777778,\"#fb9f3a\"],[0.8888888888888888,\"#fdca26\"],[1.0,\"#f0f921\"]],\"type\":\"surface\"}],\"table\":[{\"cells\":{\"fill\":{\"color\":\"#EBF0F8\"},\"line\":{\"color\":\"white\"}},\"header\":{\"fill\":{\"color\":\"#C8D4E3\"},\"line\":{\"color\":\"white\"}},\"type\":\"table\"}]},\"layout\":{\"annotationdefaults\":{\"arrowcolor\":\"#2a3f5f\",\"arrowhead\":0,\"arrowwidth\":1},\"autotypenumbers\":\"strict\",\"coloraxis\":{\"colorbar\":{\"outlinewidth\":0,\"ticks\":\"\"}},\"colorscale\":{\"diverging\":[[0,\"#8e0152\"],[0.1,\"#c51b7d\"],[0.2,\"#de77ae\"],[0.3,\"#f1b6da\"],[0.4,\"#fde0ef\"],[0.5,\"#f7f7f7\"],[0.6,\"#e6f5d0\"],[0.7,\"#b8e186\"],[0.8,\"#7fbc41\"],[0.9,\"#4d9221\"],[1,\"#276419\"]],\"sequential\":[[0.0,\"#0d0887\"],[0.1111111111111111,\"#46039f\"],[0.2222222222222222,\"#7201a8\"],[0.3333333333333333,\"#9c179e\"],[0.4444444444444444,\"#bd3786\"],[0.5555555555555556,\"#d8576b\"],[0.6666666666666666,\"#ed7953\"],[0.7777777777777778,\"#fb9f3a\"],[0.8888888888888888,\"#fdca26\"],[1.0,\"#f0f921\"]],\"sequentialminus\":[[0.0,\"#0d0887\"],[0.1111111111111111,\"#46039f\"],[0.2222222222222222,\"#7201a8\"],[0.3333333333333333,\"#9c179e\"],[0.4444444444444444,\"#bd3786\"],[0.5555555555555556,\"#d8576b\"],[0.6666666666666666,\"#ed7953\"],[0.7777777777777778,\"#fb9f3a\"],[0.8888888888888888,\"#fdca26\"],[1.0,\"#f0f921\"]]},\"colorway\":[\"#636efa\",\"#EF553B\",\"#00cc96\",\"#ab63fa\",\"#FFA15A\",\"#19d3f3\",\"#FF6692\",\"#B6E880\",\"#FF97FF\",\"#FECB52\"],\"font\":{\"color\":\"#2a3f5f\"},\"geo\":{\"bgcolor\":\"white\",\"lakecolor\":\"white\",\"landcolor\":\"#E5ECF6\",\"showlakes\":true,\"showland\":true,\"subunitcolor\":\"white\"},\"hoverlabel\":{\"align\":\"left\"},\"hovermode\":\"closest\",\"mapbox\":{\"style\":\"light\"},\"paper_bgcolor\":\"white\",\"plot_bgcolor\":\"#E5ECF6\",\"polar\":{\"angularaxis\":{\"gridcolor\":\"white\",\"linecolor\":\"white\",\"ticks\":\"\"},\"bgcolor\":\"#E5ECF6\",\"radialaxis\":{\"gridcolor\":\"white\",\"linecolor\":\"white\",\"ticks\":\"\"}},\"scene\":{\"xaxis\":{\"backgroundcolor\":\"#E5ECF6\",\"gridcolor\":\"white\",\"gridwidth\":2,\"linecolor\":\"white\",\"showbackground\":true,\"ticks\":\"\",\"zerolinecolor\":\"white\"},\"yaxis\":{\"backgroundcolor\":\"#E5ECF6\",\"gridcolor\":\"white\",\"gridwidth\":2,\"linecolor\":\"white\",\"showbackground\":true,\"ticks\":\"\",\"zerolinecolor\":\"white\"},\"zaxis\":{\"backgroundcolor\":\"#E5ECF6\",\"gridcolor\":\"white\",\"gridwidth\":2,\"linecolor\":\"white\",\"showbackground\":true,\"ticks\":\"\",\"zerolinecolor\":\"white\"}},\"shapedefaults\":{\"line\":{\"color\":\"#2a3f5f\"}},\"ternary\":{\"aaxis\":{\"gridcolor\":\"white\",\"linecolor\":\"white\",\"ticks\":\"\"},\"baxis\":{\"gridcolor\":\"white\",\"linecolor\":\"white\",\"ticks\":\"\"},\"bgcolor\":\"#E5ECF6\",\"caxis\":{\"gridcolor\":\"white\",\"linecolor\":\"white\",\"ticks\":\"\"}},\"title\":{\"x\":0.05},\"xaxis\":{\"automargin\":true,\"gridcolor\":\"white\",\"linecolor\":\"white\",\"ticks\":\"\",\"title\":{\"standoff\":15},\"zerolinecolor\":\"white\",\"zerolinewidth\":2},\"yaxis\":{\"automargin\":true,\"gridcolor\":\"white\",\"linecolor\":\"white\",\"ticks\":\"\",\"title\":{\"standoff\":15},\"zerolinecolor\":\"white\",\"zerolinewidth\":2}}},\"title\":{\"font\":{\"color\":\"#4D5663\"}},\"xaxis\":{\"gridcolor\":\"#E1E5ED\",\"showgrid\":true,\"tickfont\":{\"color\":\"#4D5663\"},\"title\":{\"font\":{\"color\":\"#4D5663\"},\"text\":\"\"},\"zerolinecolor\":\"#E1E5ED\"},\"yaxis\":{\"gridcolor\":\"#E1E5ED\",\"showgrid\":true,\"tickfont\":{\"color\":\"#4D5663\"},\"title\":{\"font\":{\"color\":\"#4D5663\"},\"text\":\"\"},\"zerolinecolor\":\"#E1E5ED\"}},                        {\"showLink\": true, \"linkText\": \"Export to plot.ly\", \"plotlyServerURL\": \"https://plot.ly\", \"responsive\": true}                    ).then(function(){\n",
              "                            \n",
              "var gd = document.getElementById('76098877-8210-4405-a199-e97c6f320c9a');\n",
              "var x = new MutationObserver(function (mutations, observer) {{\n",
              "        var display = window.getComputedStyle(gd).display;\n",
              "        if (!display || display === 'none') {{\n",
              "            console.log([gd, 'removed!']);\n",
              "            Plotly.purge(gd);\n",
              "            observer.disconnect();\n",
              "        }}\n",
              "}});\n",
              "\n",
              "// Listen for the removal of the full notebook cells\n",
              "var notebookContainer = gd.closest('#notebook-container');\n",
              "if (notebookContainer) {{\n",
              "    x.observe(notebookContainer, {childList: true});\n",
              "}}\n",
              "\n",
              "// Listen for the clearing of the current output cell\n",
              "var outputEl = gd.closest('.output');\n",
              "if (outputEl) {{\n",
              "    x.observe(outputEl, {childList: true});\n",
              "}}\n",
              "\n",
              "                        })                };                });            </script>        </div>"
            ]
          },
          "metadata": {},
          "output_type": "display_data"
        },
        {
          "data": {
            "application/vnd.plotly.v1+json": {
              "config": {
                "linkText": "Export to plot.ly",
                "plotlyServerURL": "https://plot.ly",
                "showLink": true
              },
              "data": [
                {
                  "line": {
                    "color": "rgba(55, 128, 191, 1.0)",
                    "dash": "solid",
                    "shape": "linear",
                    "width": 1.3
                  },
                  "mode": "lines",
                  "name": "Predicted values",
                  "text": "",
                  "type": "scatter",
                  "x": [
                    "2022-10-09T21:00:00Z",
                    "2022-10-09T21:03:00Z",
                    "2022-10-09T21:06:00Z",
                    "2022-10-09T21:09:00Z",
                    "2022-10-09T21:12:00Z",
                    "2022-10-09T21:15:00Z",
                    "2022-10-09T21:18:00Z",
                    "2022-10-09T21:21:00Z",
                    "2022-10-09T21:24:00Z",
                    "2022-10-09T21:27:00Z",
                    "2022-10-09T21:30:00Z",
                    "2022-10-09T21:33:00Z",
                    "2022-10-09T21:36:00Z",
                    "2022-10-09T21:39:00Z",
                    "2022-10-09T21:42:00Z",
                    "2022-10-09T21:45:00Z",
                    "2022-10-09T21:48:00Z",
                    "2022-10-09T21:51:00Z",
                    "2022-10-09T21:54:00Z",
                    "2022-10-09T21:57:00Z",
                    "2022-10-09T22:00:00Z",
                    "2022-10-09T22:03:00Z",
                    "2022-10-09T22:06:00Z",
                    "2022-10-09T22:09:00Z",
                    "2022-10-09T22:12:00Z",
                    "2022-10-09T22:15:00Z",
                    "2022-10-09T22:18:00Z",
                    "2022-10-09T22:21:00Z",
                    "2022-10-09T22:24:00Z",
                    "2022-10-09T22:27:00Z",
                    "2022-10-09T22:30:00Z",
                    "2022-10-09T22:33:00Z",
                    "2022-10-09T22:36:00Z",
                    "2022-10-09T22:39:00Z",
                    "2022-10-09T22:42:00Z",
                    "2022-10-09T22:45:00Z",
                    "2022-10-09T22:48:00Z",
                    "2022-10-09T22:51:00Z",
                    "2022-10-09T22:54:00Z",
                    "2022-10-09T22:57:00Z",
                    "2022-10-09T23:00:00Z",
                    "2022-10-09T23:03:00Z",
                    "2022-10-09T23:06:00Z",
                    "2022-10-09T23:09:00Z",
                    "2022-10-09T23:12:00Z",
                    "2022-10-09T23:15:00Z",
                    "2022-10-09T23:18:00Z",
                    "2022-10-09T23:21:00Z",
                    "2022-10-09T23:24:00Z",
                    "2022-10-09T23:27:00Z",
                    "2022-10-09T23:30:00Z",
                    "2022-10-09T23:33:00Z",
                    "2022-10-09T23:36:00Z",
                    "2022-10-09T23:39:00Z",
                    "2022-10-09T23:42:00Z",
                    "2022-10-09T23:45:00Z",
                    "2022-10-09T23:48:00Z",
                    "2022-10-09T23:51:00Z",
                    "2022-10-09T23:54:00Z",
                    "2022-10-09T23:57:00Z",
                    "2022-10-10T00:00:00Z",
                    "2022-10-10T00:03:00Z",
                    "2022-10-10T00:06:00Z",
                    "2022-10-10T00:09:00Z",
                    "2022-10-10T00:12:00Z",
                    "2022-10-10T00:15:00Z",
                    "2022-10-10T00:18:00Z",
                    "2022-10-10T00:21:00Z",
                    "2022-10-10T00:24:00Z",
                    "2022-10-10T00:27:00Z",
                    "2022-10-10T00:30:00Z",
                    "2022-10-10T00:33:00Z",
                    "2022-10-10T00:36:00Z",
                    "2022-10-10T00:39:00Z",
                    "2022-10-10T00:42:00Z",
                    "2022-10-10T00:45:00Z",
                    "2022-10-10T00:48:00Z",
                    "2022-10-10T00:51:00Z",
                    "2022-10-10T00:54:00Z",
                    "2022-10-10T00:57:00Z",
                    "2022-10-10T01:00:00Z",
                    "2022-10-10T01:03:00Z",
                    "2022-10-10T01:06:00Z",
                    "2022-10-10T01:09:00Z",
                    "2022-10-10T01:12:00Z",
                    "2022-10-10T01:15:00Z",
                    "2022-10-10T01:18:00Z",
                    "2022-10-10T01:21:00Z",
                    "2022-10-10T01:24:00Z",
                    "2022-10-10T01:27:00Z",
                    "2022-10-10T01:30:00Z",
                    "2022-10-10T01:33:00Z",
                    "2022-10-10T01:36:00Z",
                    "2022-10-10T01:39:00Z",
                    "2022-10-10T01:42:00Z",
                    "2022-10-10T01:45:00Z",
                    "2022-10-10T01:48:00Z",
                    "2022-10-10T01:51:00Z",
                    "2022-10-10T01:54:00Z",
                    "2022-10-10T01:57:00Z",
                    "2022-10-10T02:00:00Z",
                    "2022-10-10T02:03:00Z",
                    "2022-10-10T02:06:00Z",
                    "2022-10-10T02:09:00Z",
                    "2022-10-10T02:12:00Z",
                    "2022-10-10T02:15:00Z",
                    "2022-10-10T02:18:00Z",
                    "2022-10-10T02:21:00Z",
                    "2022-10-10T02:24:00Z",
                    "2022-10-10T02:27:00Z",
                    "2022-10-10T02:30:00Z",
                    "2022-10-10T02:33:00Z",
                    "2022-10-10T02:36:00Z",
                    "2022-10-10T02:39:00Z",
                    "2022-10-10T02:42:00Z",
                    "2022-10-10T02:45:00Z",
                    "2022-10-10T02:48:00Z",
                    "2022-10-10T02:51:00Z",
                    "2022-10-10T02:54:00Z",
                    "2022-10-10T02:57:00Z",
                    "2022-10-10T03:00:00Z",
                    "2022-10-10T03:03:00Z",
                    "2022-10-10T03:06:00Z",
                    "2022-10-10T03:09:00Z",
                    "2022-10-10T03:12:00Z",
                    "2022-10-10T03:15:00Z",
                    "2022-10-10T03:18:00Z",
                    "2022-10-10T03:21:00Z",
                    "2022-10-10T03:24:00Z",
                    "2022-10-10T03:27:00Z",
                    "2022-10-10T03:30:00Z",
                    "2022-10-10T03:33:00Z",
                    "2022-10-10T03:36:00Z",
                    "2022-10-10T03:39:00Z",
                    "2022-10-10T03:42:00Z",
                    "2022-10-10T03:45:00Z",
                    "2022-10-10T03:48:00Z",
                    "2022-10-10T03:51:00Z",
                    "2022-10-10T03:54:00Z",
                    "2022-10-10T03:57:00Z",
                    "2022-10-10T04:00:00Z",
                    "2022-10-10T04:03:00Z",
                    "2022-10-10T04:06:00Z",
                    "2022-10-10T04:09:00Z",
                    "2022-10-10T04:12:00Z",
                    "2022-10-10T04:15:00Z",
                    "2022-10-10T04:18:00Z",
                    "2022-10-10T04:21:00Z",
                    "2022-10-10T04:24:00Z",
                    "2022-10-10T04:27:00Z",
                    "2022-10-10T04:30:00Z",
                    "2022-10-10T04:33:00Z",
                    "2022-10-10T04:36:00Z",
                    "2022-10-10T04:39:00Z",
                    "2022-10-10T04:42:00Z",
                    "2022-10-10T04:45:00Z",
                    "2022-10-10T04:48:00Z",
                    "2022-10-10T04:51:00Z",
                    "2022-10-10T04:54:00Z",
                    "2022-10-10T04:57:00Z",
                    "2022-10-10T05:00:00Z",
                    "2022-10-10T05:03:00Z",
                    "2022-10-10T05:06:00Z",
                    "2022-10-10T05:09:00Z",
                    "2022-10-10T05:12:00Z",
                    "2022-10-10T05:15:00Z",
                    "2022-10-10T05:18:00Z",
                    "2022-10-10T05:21:00Z",
                    "2022-10-10T05:24:00Z",
                    "2022-10-10T05:27:00Z",
                    "2022-10-10T05:30:00Z",
                    "2022-10-10T05:33:00Z",
                    "2022-10-10T05:36:00Z",
                    "2022-10-10T05:39:00Z",
                    "2022-10-10T05:42:00Z",
                    "2022-10-10T05:45:00Z",
                    "2022-10-10T05:48:00Z",
                    "2022-10-10T05:51:00Z",
                    "2022-10-10T05:54:00Z",
                    "2022-10-10T05:57:00Z",
                    "2022-10-10T06:00:00Z",
                    "2022-10-10T06:03:00Z",
                    "2022-10-10T06:06:00Z",
                    "2022-10-10T06:09:00Z",
                    "2022-10-10T06:12:00Z",
                    "2022-10-10T06:15:00Z",
                    "2022-10-10T06:18:00Z",
                    "2022-10-10T06:21:00Z",
                    "2022-10-10T06:24:00Z",
                    "2022-10-10T06:27:00Z",
                    "2022-10-10T06:30:00Z",
                    "2022-10-10T06:33:00Z",
                    "2022-10-10T06:36:00Z",
                    "2022-10-10T06:39:00Z",
                    "2022-10-10T06:42:00Z",
                    "2022-10-10T06:45:00Z",
                    "2022-10-10T06:48:00Z",
                    "2022-10-10T06:51:00Z",
                    "2022-10-10T06:54:00Z",
                    "2022-10-10T06:57:00Z",
                    "2022-10-10T07:00:00Z",
                    "2022-10-10T07:03:00Z",
                    "2022-10-10T07:06:00Z",
                    "2022-10-10T07:09:00Z",
                    "2022-10-10T07:12:00Z",
                    "2022-10-10T07:15:00Z",
                    "2022-10-10T07:18:00Z",
                    "2022-10-10T07:21:00Z",
                    "2022-10-10T07:24:00Z",
                    "2022-10-10T07:27:00Z",
                    "2022-10-10T07:30:00Z",
                    "2022-10-10T07:33:00Z",
                    "2022-10-10T07:36:00Z",
                    "2022-10-10T07:39:00Z",
                    "2022-10-10T07:42:00Z",
                    "2022-10-10T20:42:00Z",
                    "2022-10-10T20:45:00Z",
                    "2022-10-10T20:48:00Z",
                    "2022-10-10T20:51:00Z",
                    "2022-10-10T20:54:00Z",
                    "2022-10-10T20:57:00Z",
                    "2022-10-10T21:00:00Z",
                    "2022-10-10T21:03:00Z",
                    "2022-10-10T21:06:00Z",
                    "2022-10-10T21:09:00Z",
                    "2022-10-10T21:12:00Z",
                    "2022-10-10T21:15:00Z",
                    "2022-10-10T21:18:00Z",
                    "2022-10-10T21:21:00Z",
                    "2022-10-10T21:24:00Z",
                    "2022-10-10T21:27:00Z",
                    "2022-10-10T21:30:00Z",
                    "2022-10-10T21:33:00Z",
                    "2022-10-10T21:36:00Z",
                    "2022-10-10T21:39:00Z",
                    "2022-10-10T21:42:00Z",
                    "2022-10-10T21:45:00Z",
                    "2022-10-10T21:48:00Z",
                    "2022-10-10T21:51:00Z",
                    "2022-10-10T21:54:00Z",
                    "2022-10-10T21:57:00Z",
                    "2022-10-10T22:00:00Z",
                    "2022-10-10T22:03:00Z",
                    "2022-10-10T22:06:00Z",
                    "2022-10-10T22:09:00Z",
                    "2022-10-10T22:12:00Z",
                    "2022-10-10T22:15:00Z",
                    "2022-10-10T22:18:00Z",
                    "2022-10-10T22:21:00Z",
                    "2022-10-10T22:24:00Z",
                    "2022-10-10T22:27:00Z",
                    "2022-10-10T22:30:00Z",
                    "2022-10-10T22:33:00Z",
                    "2022-10-10T22:36:00Z",
                    "2022-10-10T22:39:00Z",
                    "2022-10-10T22:42:00Z",
                    "2022-10-10T22:45:00Z",
                    "2022-10-10T22:48:00Z",
                    "2022-10-10T22:51:00Z",
                    "2022-10-10T22:54:00Z",
                    "2022-10-10T22:57:00Z",
                    "2022-10-10T23:00:00Z",
                    "2022-10-10T23:03:00Z",
                    "2022-10-10T23:06:00Z",
                    "2022-10-10T23:09:00Z",
                    "2022-10-10T23:12:00Z",
                    "2022-10-10T23:15:00Z",
                    "2022-10-10T23:18:00Z",
                    "2022-10-10T23:21:00Z",
                    "2022-10-10T23:24:00Z",
                    "2022-10-10T23:27:00Z",
                    "2022-10-10T23:30:00Z",
                    "2022-10-10T23:33:00Z",
                    "2022-10-10T23:36:00Z",
                    "2022-10-10T23:39:00Z",
                    "2022-10-10T23:42:00Z",
                    "2022-10-10T23:45:00Z",
                    "2022-10-10T23:48:00Z",
                    "2022-10-10T23:51:00Z",
                    "2022-10-10T23:54:00Z",
                    "2022-10-10T23:57:00Z",
                    "2022-10-11T00:00:00Z",
                    "2022-10-11T00:03:00Z",
                    "2022-10-11T00:06:00Z",
                    "2022-10-11T00:09:00Z",
                    "2022-10-11T00:12:00Z",
                    "2022-10-11T00:15:00Z",
                    "2022-10-11T00:18:00Z",
                    "2022-10-11T00:21:00Z",
                    "2022-10-11T00:24:00Z",
                    "2022-10-11T00:27:00Z",
                    "2022-10-11T00:30:00Z",
                    "2022-10-11T00:33:00Z",
                    "2022-10-11T00:36:00Z",
                    "2022-10-11T00:39:00Z",
                    "2022-10-11T00:42:00Z",
                    "2022-10-11T00:45:00Z",
                    "2022-10-11T00:48:00Z",
                    "2022-10-11T00:51:00Z",
                    "2022-10-11T00:54:00Z",
                    "2022-10-11T00:57:00Z",
                    "2022-10-11T01:00:00Z",
                    "2022-10-11T01:03:00Z",
                    "2022-10-11T01:06:00Z",
                    "2022-10-11T01:09:00Z",
                    "2022-10-11T01:12:00Z",
                    "2022-10-11T01:15:00Z",
                    "2022-10-11T01:18:00Z",
                    "2022-10-11T01:21:00Z",
                    "2022-10-11T01:24:00Z",
                    "2022-10-11T01:27:00Z",
                    "2022-10-11T01:30:00Z",
                    "2022-10-11T01:33:00Z",
                    "2022-10-11T01:36:00Z",
                    "2022-10-11T01:39:00Z",
                    "2022-10-11T01:42:00Z",
                    "2022-10-11T01:45:00Z",
                    "2022-10-11T01:48:00Z",
                    "2022-10-11T01:51:00Z",
                    "2022-10-11T01:54:00Z",
                    "2022-10-11T01:57:00Z",
                    "2022-10-11T02:00:00Z",
                    "2022-10-11T02:03:00Z",
                    "2022-10-11T02:06:00Z",
                    "2022-10-11T02:09:00Z",
                    "2022-10-11T02:12:00Z",
                    "2022-10-11T02:15:00Z",
                    "2022-10-11T02:18:00Z",
                    "2022-10-11T02:21:00Z",
                    "2022-10-11T02:24:00Z",
                    "2022-10-11T02:27:00Z",
                    "2022-10-11T02:30:00Z",
                    "2022-10-11T02:33:00Z",
                    "2022-10-11T02:36:00Z",
                    "2022-10-11T02:39:00Z",
                    "2022-10-11T02:42:00Z",
                    "2022-10-11T02:45:00Z",
                    "2022-10-11T02:48:00Z",
                    "2022-10-11T02:51:00Z",
                    "2022-10-11T02:54:00Z",
                    "2022-10-11T02:57:00Z",
                    "2022-10-11T03:00:00Z",
                    "2022-10-11T03:03:00Z",
                    "2022-10-11T03:06:00Z",
                    "2022-10-11T03:09:00Z",
                    "2022-10-11T03:12:00Z",
                    "2022-10-11T03:15:00Z",
                    "2022-10-11T03:18:00Z",
                    "2022-10-11T03:21:00Z",
                    "2022-10-11T03:24:00Z",
                    "2022-10-11T03:27:00Z",
                    "2022-10-11T03:30:00Z",
                    "2022-10-11T03:33:00Z",
                    "2022-10-11T03:36:00Z",
                    "2022-10-11T03:39:00Z",
                    "2022-10-11T03:42:00Z",
                    "2022-10-11T03:45:00Z",
                    "2022-10-11T03:48:00Z",
                    "2022-10-11T03:51:00Z",
                    "2022-10-11T03:54:00Z",
                    "2022-10-11T03:57:00Z",
                    "2022-10-11T04:00:00Z",
                    "2022-10-11T04:03:00Z",
                    "2022-10-11T04:06:00Z",
                    "2022-10-11T04:09:00Z",
                    "2022-10-11T04:12:00Z",
                    "2022-10-11T04:15:00Z",
                    "2022-10-11T04:18:00Z",
                    "2022-10-11T04:21:00Z",
                    "2022-10-11T04:24:00Z",
                    "2022-10-11T04:27:00Z",
                    "2022-10-11T04:30:00Z",
                    "2022-10-11T04:33:00Z",
                    "2022-10-11T04:36:00Z",
                    "2022-10-11T05:21:00Z",
                    "2022-10-11T05:51:00Z",
                    "2022-10-11T05:54:00Z",
                    "2022-10-11T05:57:00Z",
                    "2022-10-11T06:00:00Z",
                    "2022-10-11T06:03:00Z",
                    "2022-10-11T06:06:00Z",
                    "2022-10-11T06:09:00Z",
                    "2022-10-11T06:12:00Z",
                    "2022-10-11T06:15:00Z",
                    "2022-10-11T06:18:00Z",
                    "2022-10-11T06:21:00Z",
                    "2022-10-11T06:24:00Z",
                    "2022-10-11T06:27:00Z",
                    "2022-10-11T06:30:00Z",
                    "2022-10-11T06:33:00Z",
                    "2022-10-11T06:36:00Z",
                    "2022-10-11T06:39:00Z",
                    "2022-10-11T06:42:00Z",
                    "2022-10-11T06:45:00Z",
                    "2022-10-11T06:48:00Z",
                    "2022-10-11T06:51:00Z",
                    "2022-10-11T06:54:00Z",
                    "2022-10-11T06:57:00Z",
                    "2022-10-11T07:00:00Z",
                    "2022-10-11T07:03:00Z",
                    "2022-10-11T07:06:00Z",
                    "2022-10-11T07:09:00Z",
                    "2022-10-11T07:12:00Z",
                    "2022-10-11T07:15:00Z",
                    "2022-10-11T07:18:00Z",
                    "2022-10-11T07:21:00Z",
                    "2022-10-11T07:24:00Z",
                    "2022-10-11T07:27:00Z",
                    "2022-10-11T07:30:00Z",
                    "2022-10-11T07:33:00Z",
                    "2022-10-11T07:36:00Z",
                    "2022-10-11T07:39:00Z",
                    "2022-10-11T07:42:00Z",
                    "2022-10-11T07:45:00Z",
                    "2022-10-11T07:48:00Z",
                    "2022-10-11T07:51:00Z",
                    "2022-10-11T07:54:00Z",
                    "2022-10-11T07:57:00Z",
                    "2022-10-11T08:00:00Z",
                    "2022-10-11T08:03:00Z",
                    "2022-10-11T08:06:00Z",
                    "2022-10-11T08:09:00Z",
                    "2022-10-11T08:12:00Z",
                    "2022-10-11T08:15:00Z",
                    "2022-10-11T08:18:00Z",
                    "2022-10-11T08:21:00Z",
                    "2022-10-11T08:24:00Z",
                    "2022-10-11T08:27:00Z",
                    "2022-10-11T08:30:00Z",
                    "2022-10-11T08:33:00Z",
                    "2022-10-11T08:36:00Z",
                    "2022-10-11T08:39:00Z",
                    "2022-10-11T08:42:00Z",
                    "2022-10-11T08:45:00Z",
                    "2022-10-11T08:48:00Z",
                    "2022-10-11T08:51:00Z",
                    "2022-10-11T08:54:00Z",
                    "2022-10-11T08:57:00Z",
                    "2022-10-11T09:00:00Z",
                    "2022-10-11T09:03:00Z",
                    "2022-10-11T09:06:00Z",
                    "2022-10-11T09:09:00Z",
                    "2022-10-11T09:12:00Z",
                    "2022-10-11T09:15:00Z",
                    "2022-10-11T09:18:00Z",
                    "2022-10-11T09:21:00Z",
                    "2022-10-11T09:24:00Z",
                    "2022-10-11T09:27:00Z",
                    "2022-10-11T09:30:00Z"
                  ],
                  "y": [
                    23.327272727272728,
                    24.078461538461543,
                    25.09795918367349,
                    26.098437500000024,
                    26.640625000000004,
                    26.9813953488372,
                    27.210937500000004,
                    27.32769230769232,
                    27.401923076923087,
                    27.4921875,
                    27.5,
                    27.5,
                    27.5,
                    27.554385964912267,
                    27.535937499999985,
                    27.59374999999997,
                    27.601538461538432,
                    27.59843749999997,
                    27.587499999999974,
                    27.59843749999997,
                    27.602272727272727,
                    27.609230769230752,
                    27.66250000000002,
                    27.682812500000026,
                    27.700000000000028,
                    27.700000000000028,
                    27.698461538461565,
                    27.700000000000028,
                    27.70000000000002,
                    27.700000000000028,
                    27.700000000000028,
                    27.703125000000025,
                    27.70307692307695,
                    27.717543859649137,
                    27.7359375,
                    27.796428571428542,
                    27.79999999999997,
                    27.79999999999997,
                    27.79999999999997,
                    27.79999999999997,
                    27.799999999999976,
                    27.79999999999997,
                    27.79999999999997,
                    27.793877551020387,
                    27.795312499999973,
                    27.79846153846151,
                    27.778846153846143,
                    27.706250000000026,
                    27.626984126984123,
                    27.50392156862745,
                    27.55781249999997,
                    27.599999999999977,
                    27.58593749999998,
                    27.586153846153824,
                    27.616666666666674,
                    27.686153846153854,
                    27.61475409836063,
                    27.5140625,
                    27.5,
                    27.5,
                    27.5,
                    27.5,
                    27.5,
                    27.5,
                    27.5,
                    27.5,
                    27.5,
                    27.5,
                    27.5,
                    27.5,
                    27.5,
                    27.5,
                    27.5,
                    27.5,
                    27.4984375,
                    27.5,
                    27.496,
                    27.5,
                    27.5,
                    27.5,
                    27.5,
                    27.5,
                    27.5,
                    27.5,
                    27.546874999999982,
                    27.584374999999973,
                    27.582812499999985,
                    27.509375,
                    27.55384615384612,
                    27.599999999999994,
                    27.60937499999998,
                    27.63437500000001,
                    27.69062500000003,
                    27.700000000000028,
                    27.67368421052632,
                    27.61249999999997,
                    27.63846153846155,
                    27.67968750000003,
                    27.700000000000028,
                    27.700000000000028,
                    27.700000000000028,
                    27.700000000000028,
                    27.72931034482759,
                    27.72187500000001,
                    27.718367346938784,
                    27.703076923076956,
                    27.700000000000028,
                    27.700000000000028,
                    27.67343750000001,
                    27.6245283018868,
                    27.65846153846154,
                    27.5,
                    27.5,
                    27.5,
                    27.446875000000038,
                    27.456249999999997,
                    27.5,
                    27.514062499999994,
                    27.54999999999997,
                    27.584210526315783,
                    27.52461538461537,
                    27.55468749999997,
                    27.59062499999997,
                    27.639062500000016,
                    27.6846153846154,
                    27.60327868852457,
                    27.487692307692324,
                    27.400000000000027,
                    27.38437500000001,
                    27.301639344262263,
                    27.25957446808511,
                    27.218461538461565,
                    27.210204081632668,
                    27.28906249999997,
                    27.26249999999999,
                    27.235483870967755,
                    27.207812500000024,
                    27.210937500000018,
                    27.22500000000002,
                    27.201562500000023,
                    27.20816326530614,
                    27.234375000000007,
                    27.24843750000001,
                    27.22500000000001,
                    27.264062499999987,
                    27.29687499999997,
                    27.29538461538459,
                    27.245283018867923,
                    27.22063492063494,
                    27.215625000000014,
                    27.224074074074103,
                    27.201562500000023,
                    27.200000000000028,
                    27.200000000000028,
                    27.19843750000003,
                    27.20000000000002,
                    27.200000000000028,
                    27.200000000000028,
                    27.200000000000024,
                    27.2390625,
                    27.212280701754413,
                    27.19843750000003,
                    27.206153846153867,
                    27.18301886792453,
                    27.11249999999998,
                    27.099999999999977,
                    27.18750000000003,
                    27.200000000000028,
                    27.200000000000028,
                    27.200000000000028,
                    27.200000000000028,
                    27.22031250000001,
                    27.217187500000016,
                    27.218750000000018,
                    27.212500000000016,
                    27.2387755102041,
                    27.3030769230769,
                    27.39843750000003,
                    27.4734693877551,
                    27.428125000000023,
                    27.403125000000028,
                    27.353124999999977,
                    27.395384615384643,
                    27.465625,
                    27.5,
                    27.519672131147523,
                    27.59807692307691,
                    27.614062499999974,
                    27.636923076923072,
                    27.584374999999994,
                    27.55781249999997,
                    27.65781250000001,
                    27.700000000000024,
                    27.5125,
                    27.5,
                    27.557894736842087,
                    27.64444444444444,
                    27.513846153846146,
                    27.691228070175463,
                    27.615625,
                    27.543749999999967,
                    27.739999999999977,
                    27.69218750000001,
                    27.63877551020411,
                    27.80156249999999,
                    27.90000000000003,
                    27.90000000000001,
                    28.043749999999967,
                    28.43125000000001,
                    28.41846153846154,
                    28.10468749999997,
                    28.099999999999987,
                    28.18437500000001,
                    28.299999999999976,
                    28.204545454545453,
                    23.9875,
                    25.336923076923068,
                    26.420312499999994,
                    27.223437500000024,
                    27.61250000000001,
                    27.75744680851065,
                    27.951562499999994,
                    27.996875000000003,
                    28.07343749999997,
                    28.22812499999999,
                    28.29999999999997,
                    28.29999999999997,
                    28.29999999999997,
                    28.351562500000025,
                    28.35937499999999,
                    28.303124999999973,
                    28.363076923076957,
                    28.40344827586209,
                    28.404687500000023,
                    28.361363636363613,
                    28.29999999999997,
                    28.30615384615382,
                    28.33770491803277,
                    28.30781249999997,
                    28.299999999999983,
                    28.29999999999997,
                    28.29999999999997,
                    28.29999999999997,
                    28.29999999999997,
                    28.29999999999998,
                    28.30156249999997,
                    28.312307692307662,
                    28.299999999999976,
                    28.29999999999997,
                    28.29999999999997,
                    28.29999999999997,
                    28.359375000000032,
                    28.381538461538472,
                    28.34843749999998,
                    28.325000000000006,
                    28.32187499999997,
                    28.378125000000036,
                    28.32461538461536,
                    28.299999999999976,
                    28.299999999999976,
                    28.29999999999997,
                    28.299999999999976,
                    28.29999999999997,
                    28.29999999999997,
                    28.29999999999997,
                    28.29999999999997,
                    28.29999999999997,
                    28.29999999999997,
                    28.299999999999976,
                    28.30059826949105,
                    28.300501169030294,
                    28.300419912377293,
                    28.300351568102126,
                    28.300294036334943,
                    28.30024664325173,
                    28.300206986313537,
                    28.300173632650637,
                    28.30014546664556,
                    28.30012168073786,
                    28.304970732567508,
                    28.314906801183906,
                    28.29886753815069,
                    28.30035504062549,
                    28.300297473189286,
                    28.300249262498276,
                    28.30020878014579,
                    28.300175203383088,
                    28.30014666088803,
                    28.300122864507095,
                    28.30010317252212,
                    28.300086417660374,
                    28.30007253400407,
                    28.30006077661865,
                    28.300050929805703,
                    28.300042679015814,
                    28.30003586363118,
                    28.30003008511134,
                    28.295525579309995,
                    28.300399528298584,
                    28.299949260137915,
                    28.29995741980606,
                    28.299964336749724,
                    28.299970196879883,
                    28.299974903586982,
                    28.264404338337982,
                    28.292313190409935,
                    28.30033955265716,
                    28.299372001124834,
                    28.276272869664556,
                    28.26492621360139,
                    28.243576039909836,
                    28.206332543619048,
                    28.2027634302835,
                    28.208214988886947,
                    28.206615511179113,
                    28.22127098757743,
                    28.200405525669304,
                    28.205256408500247,
                    28.202647520223113,
                    28.17761481282291,
                    28.194928126189467,
                    28.24847005317214,
                    28.249633413298525,
                    28.201709421717744,
                    28.280545230326357,
                    28.165822425316005,
                    28.17167467869488,
                    28.105669425728173,
                    28.110341637583428,
                    28.108681190125743,
                    28.158317978008547,
                    28.135860770145303,
                    28.103058701479508,
                    28.16268273995201,
                    28.143100667795746,
                    28.065305272050708,
                    28.107607895578447,
                    28.10333688154759,
                    28.102792115186304,
                    28.102341102977693,
                    28.101967418227375,
                    28.10164761855969,
                    28.101384897917363,
                    28.101161010492355,
                    28.100974656739883,
                    28.100819317859937,
                    28.10068632030131,
                    28.10057527037255,
                    28.09256904898362,
                    28.101068378533856,
                    28.10021985070104,
                    28.100186473065595,
                    28.10015502203816,
                    28.100130012813235,
                    28.100110227575858,
                    28.095525937152633,
                    28.018532146335843,
                    28.082107562247725,
                    28.00964072196924,
                    28.007266482152794,
                    28.006754209226248,
                    28.00566737790736,
                    28.00475895937561,
                    28.003995621795102,
                    28.045084417766937,
                    28.06735208605752,
                    28.012789774838822,
                    28.016170303745675,
                    28.02832661521958,
                    28.018978691801898,
                    28.060039785714064,
                    28.050311088699356,
                    28.097647222553782,
                    28.053910174472993,
                    27.99948109118864,
                    28.147359923342258,
                    28.090851010608223,
                    28.07904617132331,
                    27.999234548545797,
                    28.006295926442057,
                    28.053163332890517,
                    28.071337169672425,
                    28.072706240290483,
                    28.16082660933156,
                    27.92702279191679,
                    27.913408734593748,
                    27.926295442039393,
                    28.039015465857442,
                    27.97818206266974,
                    28.0598432036079,
                    28.005164733389016,
                    27.952262771385776,
                    27.87260780298733,
                    27.983980173693734,
                    28.065331542173293,
                    28.130079724869667,
                    28.19161058982479,
                    28.176045561032563,
                    28.189822073750747,
                    28.248441842968237,
                    28.192443603455683,
                    28.191707418681787,
                    28.213761246578343,
                    28.29190903929453,
                    28.28653376096978,
                    28.28871548365045,
                    28.21170654059003,
                    28.111420490009163,
                    28.28496178047097,
                    28.292376184868385,
                    28.291680657366918,
                    28.295048305903247,
                    28.329506533601638,
                    28.38484022657404,
                    28.293407683773363,
                    28.32679651465941,
                    28.32729386924794,
                    28.296875876076946,
                    28.22550909213191,
                    28.10855849478313,
                    28.19397812211294,
                    28.136307849682844,
                    28.114412215067272,
                    28.055152790774894,
                    28.105419970176623,
                    28.294796466228547,
                    28.322270239934223,
                    28.304874871601037,
                    28.40082938027558,
                    28.308138858696086,
                    28.096089536772052,
                    28.23469891424844,
                    28.300931033954996,
                    28.30991296175768,
                    28.344517281166617,
                    28.29169167410839,
                    28.297411857521638,
                    28.316053142795617,
                    28.489527016139927,
                    28.479985334827887,
                    28.48281620067118,
                    28.44232465723407,
                    28.35560085554669,
                    28.184246191505952,
                    27.936595507508905,
                    27.765104733577363,
                    27.853850434763924,
                    27.983987390832468,
                    28.113204583458405
                  ]
                },
                {
                  "line": {
                    "color": "rgba(219, 64, 82, 1.0)",
                    "dash": "solid",
                    "shape": "linear",
                    "width": 1.3
                  },
                  "mode": "lines",
                  "name": "Temperature",
                  "text": "",
                  "type": "scatter",
                  "x": [
                    "2022-10-09T21:00:00Z",
                    "2022-10-09T21:03:00Z",
                    "2022-10-09T21:06:00Z",
                    "2022-10-09T21:09:00Z",
                    "2022-10-09T21:12:00Z",
                    "2022-10-09T21:15:00Z",
                    "2022-10-09T21:18:00Z",
                    "2022-10-09T21:21:00Z",
                    "2022-10-09T21:24:00Z",
                    "2022-10-09T21:27:00Z",
                    "2022-10-09T21:30:00Z",
                    "2022-10-09T21:33:00Z",
                    "2022-10-09T21:36:00Z",
                    "2022-10-09T21:39:00Z",
                    "2022-10-09T21:42:00Z",
                    "2022-10-09T21:45:00Z",
                    "2022-10-09T21:48:00Z",
                    "2022-10-09T21:51:00Z",
                    "2022-10-09T21:54:00Z",
                    "2022-10-09T21:57:00Z",
                    "2022-10-09T22:00:00Z",
                    "2022-10-09T22:03:00Z",
                    "2022-10-09T22:06:00Z",
                    "2022-10-09T22:09:00Z",
                    "2022-10-09T22:12:00Z",
                    "2022-10-09T22:15:00Z",
                    "2022-10-09T22:18:00Z",
                    "2022-10-09T22:21:00Z",
                    "2022-10-09T22:24:00Z",
                    "2022-10-09T22:27:00Z",
                    "2022-10-09T22:30:00Z",
                    "2022-10-09T22:33:00Z",
                    "2022-10-09T22:36:00Z",
                    "2022-10-09T22:39:00Z",
                    "2022-10-09T22:42:00Z",
                    "2022-10-09T22:45:00Z",
                    "2022-10-09T22:48:00Z",
                    "2022-10-09T22:51:00Z",
                    "2022-10-09T22:54:00Z",
                    "2022-10-09T22:57:00Z",
                    "2022-10-09T23:00:00Z",
                    "2022-10-09T23:03:00Z",
                    "2022-10-09T23:06:00Z",
                    "2022-10-09T23:09:00Z",
                    "2022-10-09T23:12:00Z",
                    "2022-10-09T23:15:00Z",
                    "2022-10-09T23:18:00Z",
                    "2022-10-09T23:21:00Z",
                    "2022-10-09T23:24:00Z",
                    "2022-10-09T23:27:00Z",
                    "2022-10-09T23:30:00Z",
                    "2022-10-09T23:33:00Z",
                    "2022-10-09T23:36:00Z",
                    "2022-10-09T23:39:00Z",
                    "2022-10-09T23:42:00Z",
                    "2022-10-09T23:45:00Z",
                    "2022-10-09T23:48:00Z",
                    "2022-10-09T23:51:00Z",
                    "2022-10-09T23:54:00Z",
                    "2022-10-09T23:57:00Z",
                    "2022-10-10T00:00:00Z",
                    "2022-10-10T00:03:00Z",
                    "2022-10-10T00:06:00Z",
                    "2022-10-10T00:09:00Z",
                    "2022-10-10T00:12:00Z",
                    "2022-10-10T00:15:00Z",
                    "2022-10-10T00:18:00Z",
                    "2022-10-10T00:21:00Z",
                    "2022-10-10T00:24:00Z",
                    "2022-10-10T00:27:00Z",
                    "2022-10-10T00:30:00Z",
                    "2022-10-10T00:33:00Z",
                    "2022-10-10T00:36:00Z",
                    "2022-10-10T00:39:00Z",
                    "2022-10-10T00:42:00Z",
                    "2022-10-10T00:45:00Z",
                    "2022-10-10T00:48:00Z",
                    "2022-10-10T00:51:00Z",
                    "2022-10-10T00:54:00Z",
                    "2022-10-10T00:57:00Z",
                    "2022-10-10T01:00:00Z",
                    "2022-10-10T01:03:00Z",
                    "2022-10-10T01:06:00Z",
                    "2022-10-10T01:09:00Z",
                    "2022-10-10T01:12:00Z",
                    "2022-10-10T01:15:00Z",
                    "2022-10-10T01:18:00Z",
                    "2022-10-10T01:21:00Z",
                    "2022-10-10T01:24:00Z",
                    "2022-10-10T01:27:00Z",
                    "2022-10-10T01:30:00Z",
                    "2022-10-10T01:33:00Z",
                    "2022-10-10T01:36:00Z",
                    "2022-10-10T01:39:00Z",
                    "2022-10-10T01:42:00Z",
                    "2022-10-10T01:45:00Z",
                    "2022-10-10T01:48:00Z",
                    "2022-10-10T01:51:00Z",
                    "2022-10-10T01:54:00Z",
                    "2022-10-10T01:57:00Z",
                    "2022-10-10T02:00:00Z",
                    "2022-10-10T02:03:00Z",
                    "2022-10-10T02:06:00Z",
                    "2022-10-10T02:09:00Z",
                    "2022-10-10T02:12:00Z",
                    "2022-10-10T02:15:00Z",
                    "2022-10-10T02:18:00Z",
                    "2022-10-10T02:21:00Z",
                    "2022-10-10T02:24:00Z",
                    "2022-10-10T02:27:00Z",
                    "2022-10-10T02:30:00Z",
                    "2022-10-10T02:33:00Z",
                    "2022-10-10T02:36:00Z",
                    "2022-10-10T02:39:00Z",
                    "2022-10-10T02:42:00Z",
                    "2022-10-10T02:45:00Z",
                    "2022-10-10T02:48:00Z",
                    "2022-10-10T02:51:00Z",
                    "2022-10-10T02:54:00Z",
                    "2022-10-10T02:57:00Z",
                    "2022-10-10T03:00:00Z",
                    "2022-10-10T03:03:00Z",
                    "2022-10-10T03:06:00Z",
                    "2022-10-10T03:09:00Z",
                    "2022-10-10T03:12:00Z",
                    "2022-10-10T03:15:00Z",
                    "2022-10-10T03:18:00Z",
                    "2022-10-10T03:21:00Z",
                    "2022-10-10T03:24:00Z",
                    "2022-10-10T03:27:00Z",
                    "2022-10-10T03:30:00Z",
                    "2022-10-10T03:33:00Z",
                    "2022-10-10T03:36:00Z",
                    "2022-10-10T03:39:00Z",
                    "2022-10-10T03:42:00Z",
                    "2022-10-10T03:45:00Z",
                    "2022-10-10T03:48:00Z",
                    "2022-10-10T03:51:00Z",
                    "2022-10-10T03:54:00Z",
                    "2022-10-10T03:57:00Z",
                    "2022-10-10T04:00:00Z",
                    "2022-10-10T04:03:00Z",
                    "2022-10-10T04:06:00Z",
                    "2022-10-10T04:09:00Z",
                    "2022-10-10T04:12:00Z",
                    "2022-10-10T04:15:00Z",
                    "2022-10-10T04:18:00Z",
                    "2022-10-10T04:21:00Z",
                    "2022-10-10T04:24:00Z",
                    "2022-10-10T04:27:00Z",
                    "2022-10-10T04:30:00Z",
                    "2022-10-10T04:33:00Z",
                    "2022-10-10T04:36:00Z",
                    "2022-10-10T04:39:00Z",
                    "2022-10-10T04:42:00Z",
                    "2022-10-10T04:45:00Z",
                    "2022-10-10T04:48:00Z",
                    "2022-10-10T04:51:00Z",
                    "2022-10-10T04:54:00Z",
                    "2022-10-10T04:57:00Z",
                    "2022-10-10T05:00:00Z",
                    "2022-10-10T05:03:00Z",
                    "2022-10-10T05:06:00Z",
                    "2022-10-10T05:09:00Z",
                    "2022-10-10T05:12:00Z",
                    "2022-10-10T05:15:00Z",
                    "2022-10-10T05:18:00Z",
                    "2022-10-10T05:21:00Z",
                    "2022-10-10T05:24:00Z",
                    "2022-10-10T05:27:00Z",
                    "2022-10-10T05:30:00Z",
                    "2022-10-10T05:33:00Z",
                    "2022-10-10T05:36:00Z",
                    "2022-10-10T05:39:00Z",
                    "2022-10-10T05:42:00Z",
                    "2022-10-10T05:45:00Z",
                    "2022-10-10T05:48:00Z",
                    "2022-10-10T05:51:00Z",
                    "2022-10-10T05:54:00Z",
                    "2022-10-10T05:57:00Z",
                    "2022-10-10T06:00:00Z",
                    "2022-10-10T06:03:00Z",
                    "2022-10-10T06:06:00Z",
                    "2022-10-10T06:09:00Z",
                    "2022-10-10T06:12:00Z",
                    "2022-10-10T06:15:00Z",
                    "2022-10-10T06:18:00Z",
                    "2022-10-10T06:21:00Z",
                    "2022-10-10T06:24:00Z",
                    "2022-10-10T06:27:00Z",
                    "2022-10-10T06:30:00Z",
                    "2022-10-10T06:33:00Z",
                    "2022-10-10T06:36:00Z",
                    "2022-10-10T06:39:00Z",
                    "2022-10-10T06:42:00Z",
                    "2022-10-10T06:45:00Z",
                    "2022-10-10T06:48:00Z",
                    "2022-10-10T06:51:00Z",
                    "2022-10-10T06:54:00Z",
                    "2022-10-10T06:57:00Z",
                    "2022-10-10T07:00:00Z",
                    "2022-10-10T07:03:00Z",
                    "2022-10-10T07:06:00Z",
                    "2022-10-10T07:09:00Z",
                    "2022-10-10T07:12:00Z",
                    "2022-10-10T07:15:00Z",
                    "2022-10-10T07:18:00Z",
                    "2022-10-10T07:21:00Z",
                    "2022-10-10T07:24:00Z",
                    "2022-10-10T07:27:00Z",
                    "2022-10-10T07:30:00Z",
                    "2022-10-10T07:33:00Z",
                    "2022-10-10T07:36:00Z",
                    "2022-10-10T07:39:00Z",
                    "2022-10-10T07:42:00Z",
                    "2022-10-10T20:42:00Z",
                    "2022-10-10T20:45:00Z",
                    "2022-10-10T20:48:00Z",
                    "2022-10-10T20:51:00Z",
                    "2022-10-10T20:54:00Z",
                    "2022-10-10T20:57:00Z",
                    "2022-10-10T21:00:00Z",
                    "2022-10-10T21:03:00Z",
                    "2022-10-10T21:06:00Z",
                    "2022-10-10T21:09:00Z",
                    "2022-10-10T21:12:00Z",
                    "2022-10-10T21:15:00Z",
                    "2022-10-10T21:18:00Z",
                    "2022-10-10T21:21:00Z",
                    "2022-10-10T21:24:00Z",
                    "2022-10-10T21:27:00Z",
                    "2022-10-10T21:30:00Z",
                    "2022-10-10T21:33:00Z",
                    "2022-10-10T21:36:00Z",
                    "2022-10-10T21:39:00Z",
                    "2022-10-10T21:42:00Z",
                    "2022-10-10T21:45:00Z",
                    "2022-10-10T21:48:00Z",
                    "2022-10-10T21:51:00Z",
                    "2022-10-10T21:54:00Z",
                    "2022-10-10T21:57:00Z",
                    "2022-10-10T22:00:00Z",
                    "2022-10-10T22:03:00Z",
                    "2022-10-10T22:06:00Z",
                    "2022-10-10T22:09:00Z",
                    "2022-10-10T22:12:00Z",
                    "2022-10-10T22:15:00Z",
                    "2022-10-10T22:18:00Z",
                    "2022-10-10T22:21:00Z",
                    "2022-10-10T22:24:00Z",
                    "2022-10-10T22:27:00Z",
                    "2022-10-10T22:30:00Z",
                    "2022-10-10T22:33:00Z",
                    "2022-10-10T22:36:00Z",
                    "2022-10-10T22:39:00Z",
                    "2022-10-10T22:42:00Z",
                    "2022-10-10T22:45:00Z",
                    "2022-10-10T22:48:00Z",
                    "2022-10-10T22:51:00Z",
                    "2022-10-10T22:54:00Z",
                    "2022-10-10T22:57:00Z",
                    "2022-10-10T23:00:00Z",
                    "2022-10-10T23:03:00Z",
                    "2022-10-10T23:06:00Z",
                    "2022-10-10T23:09:00Z",
                    "2022-10-10T23:12:00Z",
                    "2022-10-10T23:15:00Z",
                    "2022-10-10T23:18:00Z",
                    "2022-10-10T23:21:00Z",
                    "2022-10-10T23:24:00Z",
                    "2022-10-10T23:27:00Z",
                    "2022-10-10T23:30:00Z",
                    "2022-10-10T23:33:00Z",
                    "2022-10-10T23:36:00Z",
                    "2022-10-10T23:39:00Z",
                    "2022-10-10T23:42:00Z",
                    "2022-10-10T23:45:00Z",
                    "2022-10-10T23:48:00Z",
                    "2022-10-10T23:51:00Z",
                    "2022-10-10T23:54:00Z",
                    "2022-10-10T23:57:00Z",
                    "2022-10-11T00:00:00Z",
                    "2022-10-11T00:03:00Z",
                    "2022-10-11T00:06:00Z",
                    "2022-10-11T00:09:00Z",
                    "2022-10-11T00:12:00Z",
                    "2022-10-11T00:15:00Z",
                    "2022-10-11T00:18:00Z",
                    "2022-10-11T00:21:00Z",
                    "2022-10-11T00:24:00Z",
                    "2022-10-11T00:27:00Z",
                    "2022-10-11T00:30:00Z",
                    "2022-10-11T00:33:00Z",
                    "2022-10-11T00:36:00Z",
                    "2022-10-11T00:39:00Z",
                    "2022-10-11T00:42:00Z",
                    "2022-10-11T00:45:00Z",
                    "2022-10-11T00:48:00Z",
                    "2022-10-11T00:51:00Z",
                    "2022-10-11T00:54:00Z",
                    "2022-10-11T00:57:00Z",
                    "2022-10-11T01:00:00Z",
                    "2022-10-11T01:03:00Z",
                    "2022-10-11T01:06:00Z",
                    "2022-10-11T01:09:00Z",
                    "2022-10-11T01:12:00Z",
                    "2022-10-11T01:15:00Z",
                    "2022-10-11T01:18:00Z",
                    "2022-10-11T01:21:00Z",
                    "2022-10-11T01:24:00Z",
                    "2022-10-11T01:27:00Z",
                    "2022-10-11T01:30:00Z",
                    "2022-10-11T01:33:00Z",
                    "2022-10-11T01:36:00Z",
                    "2022-10-11T01:39:00Z",
                    "2022-10-11T01:42:00Z",
                    "2022-10-11T01:45:00Z",
                    "2022-10-11T01:48:00Z",
                    "2022-10-11T01:51:00Z",
                    "2022-10-11T01:54:00Z",
                    "2022-10-11T01:57:00Z",
                    "2022-10-11T02:00:00Z",
                    "2022-10-11T02:03:00Z",
                    "2022-10-11T02:06:00Z",
                    "2022-10-11T02:09:00Z",
                    "2022-10-11T02:12:00Z",
                    "2022-10-11T02:15:00Z",
                    "2022-10-11T02:18:00Z",
                    "2022-10-11T02:21:00Z",
                    "2022-10-11T02:24:00Z",
                    "2022-10-11T02:27:00Z",
                    "2022-10-11T02:30:00Z",
                    "2022-10-11T02:33:00Z",
                    "2022-10-11T02:36:00Z",
                    "2022-10-11T02:39:00Z",
                    "2022-10-11T02:42:00Z",
                    "2022-10-11T02:45:00Z",
                    "2022-10-11T02:48:00Z",
                    "2022-10-11T02:51:00Z",
                    "2022-10-11T02:54:00Z",
                    "2022-10-11T02:57:00Z",
                    "2022-10-11T03:00:00Z",
                    "2022-10-11T03:03:00Z",
                    "2022-10-11T03:06:00Z",
                    "2022-10-11T03:09:00Z",
                    "2022-10-11T03:12:00Z",
                    "2022-10-11T03:15:00Z",
                    "2022-10-11T03:18:00Z",
                    "2022-10-11T03:21:00Z",
                    "2022-10-11T03:24:00Z",
                    "2022-10-11T03:27:00Z",
                    "2022-10-11T03:30:00Z",
                    "2022-10-11T03:33:00Z",
                    "2022-10-11T03:36:00Z",
                    "2022-10-11T03:39:00Z",
                    "2022-10-11T03:42:00Z",
                    "2022-10-11T03:45:00Z",
                    "2022-10-11T03:48:00Z",
                    "2022-10-11T03:51:00Z",
                    "2022-10-11T03:54:00Z",
                    "2022-10-11T03:57:00Z",
                    "2022-10-11T04:00:00Z",
                    "2022-10-11T04:03:00Z",
                    "2022-10-11T04:06:00Z",
                    "2022-10-11T04:09:00Z",
                    "2022-10-11T04:12:00Z",
                    "2022-10-11T04:15:00Z",
                    "2022-10-11T04:18:00Z",
                    "2022-10-11T04:21:00Z",
                    "2022-10-11T04:24:00Z",
                    "2022-10-11T04:27:00Z",
                    "2022-10-11T04:30:00Z",
                    "2022-10-11T04:33:00Z",
                    "2022-10-11T04:36:00Z",
                    "2022-10-11T05:21:00Z",
                    "2022-10-11T05:51:00Z",
                    "2022-10-11T05:54:00Z",
                    "2022-10-11T05:57:00Z",
                    "2022-10-11T06:00:00Z",
                    "2022-10-11T06:03:00Z",
                    "2022-10-11T06:06:00Z",
                    "2022-10-11T06:09:00Z",
                    "2022-10-11T06:12:00Z",
                    "2022-10-11T06:15:00Z",
                    "2022-10-11T06:18:00Z",
                    "2022-10-11T06:21:00Z",
                    "2022-10-11T06:24:00Z",
                    "2022-10-11T06:27:00Z",
                    "2022-10-11T06:30:00Z",
                    "2022-10-11T06:33:00Z",
                    "2022-10-11T06:36:00Z",
                    "2022-10-11T06:39:00Z",
                    "2022-10-11T06:42:00Z",
                    "2022-10-11T06:45:00Z",
                    "2022-10-11T06:48:00Z",
                    "2022-10-11T06:51:00Z",
                    "2022-10-11T06:54:00Z",
                    "2022-10-11T06:57:00Z",
                    "2022-10-11T07:00:00Z",
                    "2022-10-11T07:03:00Z",
                    "2022-10-11T07:06:00Z",
                    "2022-10-11T07:09:00Z",
                    "2022-10-11T07:12:00Z",
                    "2022-10-11T07:15:00Z",
                    "2022-10-11T07:18:00Z",
                    "2022-10-11T07:21:00Z",
                    "2022-10-11T07:24:00Z",
                    "2022-10-11T07:27:00Z",
                    "2022-10-11T07:30:00Z",
                    "2022-10-11T07:33:00Z",
                    "2022-10-11T07:36:00Z",
                    "2022-10-11T07:39:00Z",
                    "2022-10-11T07:42:00Z",
                    "2022-10-11T07:45:00Z",
                    "2022-10-11T07:48:00Z",
                    "2022-10-11T07:51:00Z",
                    "2022-10-11T07:54:00Z",
                    "2022-10-11T07:57:00Z",
                    "2022-10-11T08:00:00Z",
                    "2022-10-11T08:03:00Z",
                    "2022-10-11T08:06:00Z",
                    "2022-10-11T08:09:00Z",
                    "2022-10-11T08:12:00Z",
                    "2022-10-11T08:15:00Z",
                    "2022-10-11T08:18:00Z",
                    "2022-10-11T08:21:00Z",
                    "2022-10-11T08:24:00Z",
                    "2022-10-11T08:27:00Z",
                    "2022-10-11T08:30:00Z",
                    "2022-10-11T08:33:00Z",
                    "2022-10-11T08:36:00Z",
                    "2022-10-11T08:39:00Z",
                    "2022-10-11T08:42:00Z",
                    "2022-10-11T08:45:00Z",
                    "2022-10-11T08:48:00Z",
                    "2022-10-11T08:51:00Z",
                    "2022-10-11T08:54:00Z",
                    "2022-10-11T08:57:00Z",
                    "2022-10-11T09:00:00Z",
                    "2022-10-11T09:03:00Z",
                    "2022-10-11T09:06:00Z",
                    "2022-10-11T09:09:00Z",
                    "2022-10-11T09:12:00Z",
                    "2022-10-11T09:15:00Z",
                    "2022-10-11T09:18:00Z",
                    "2022-10-11T09:21:00Z",
                    "2022-10-11T09:24:00Z",
                    "2022-10-11T09:27:00Z",
                    "2022-10-11T09:30:00Z"
                  ],
                  "y": [
                    23.327272727272728,
                    24.078461538461543,
                    25.09795918367349,
                    26.098437500000024,
                    26.640625000000004,
                    26.9813953488372,
                    27.210937500000004,
                    27.32769230769232,
                    27.401923076923087,
                    27.4921875,
                    27.5,
                    27.5,
                    27.5,
                    27.554385964912267,
                    27.535937499999985,
                    27.59374999999997,
                    27.601538461538432,
                    27.59843749999997,
                    27.587499999999974,
                    27.59843749999997,
                    27.602272727272727,
                    27.609230769230752,
                    27.66250000000002,
                    27.682812500000026,
                    27.700000000000028,
                    27.700000000000028,
                    27.698461538461565,
                    27.700000000000028,
                    27.70000000000002,
                    27.700000000000028,
                    27.700000000000028,
                    27.703125000000025,
                    27.70307692307695,
                    27.717543859649137,
                    27.7359375,
                    27.796428571428542,
                    27.79999999999997,
                    27.79999999999997,
                    27.79999999999997,
                    27.79999999999997,
                    27.799999999999976,
                    27.79999999999997,
                    27.79999999999997,
                    27.793877551020387,
                    27.795312499999973,
                    27.79846153846151,
                    27.778846153846143,
                    27.706250000000026,
                    27.626984126984123,
                    27.50392156862745,
                    27.55781249999997,
                    27.599999999999977,
                    27.58593749999998,
                    27.586153846153824,
                    27.616666666666674,
                    27.686153846153854,
                    27.61475409836063,
                    27.5140625,
                    27.5,
                    27.5,
                    27.5,
                    27.5,
                    27.5,
                    27.5,
                    27.5,
                    27.5,
                    27.5,
                    27.5,
                    27.5,
                    27.5,
                    27.5,
                    27.5,
                    27.5,
                    27.5,
                    27.4984375,
                    27.5,
                    27.496,
                    27.5,
                    27.5,
                    27.5,
                    27.5,
                    27.5,
                    27.5,
                    27.5,
                    27.546874999999982,
                    27.584374999999973,
                    27.582812499999985,
                    27.509375,
                    27.55384615384612,
                    27.599999999999994,
                    27.60937499999998,
                    27.63437500000001,
                    27.69062500000003,
                    27.700000000000028,
                    27.67368421052632,
                    27.61249999999997,
                    27.63846153846155,
                    27.67968750000003,
                    27.700000000000028,
                    27.700000000000028,
                    27.700000000000028,
                    27.700000000000028,
                    27.72931034482759,
                    27.72187500000001,
                    27.718367346938784,
                    27.703076923076956,
                    27.700000000000028,
                    27.700000000000028,
                    27.67343750000001,
                    27.6245283018868,
                    27.65846153846154,
                    27.5,
                    27.5,
                    27.5,
                    27.446875000000038,
                    27.456249999999997,
                    27.5,
                    27.514062499999994,
                    27.54999999999997,
                    27.584210526315783,
                    27.52461538461537,
                    27.55468749999997,
                    27.59062499999997,
                    27.639062500000016,
                    27.6846153846154,
                    27.60327868852457,
                    27.487692307692324,
                    27.400000000000027,
                    27.38437500000001,
                    27.301639344262263,
                    27.25957446808511,
                    27.218461538461565,
                    27.210204081632668,
                    27.28906249999997,
                    27.26249999999999,
                    27.235483870967755,
                    27.207812500000024,
                    27.210937500000018,
                    27.22500000000002,
                    27.201562500000023,
                    27.20816326530614,
                    27.234375000000007,
                    27.24843750000001,
                    27.22500000000001,
                    27.264062499999987,
                    27.29687499999997,
                    27.29538461538459,
                    27.245283018867923,
                    27.22063492063494,
                    27.215625000000014,
                    27.224074074074103,
                    27.201562500000023,
                    27.200000000000028,
                    27.200000000000028,
                    27.19843750000003,
                    27.20000000000002,
                    27.200000000000028,
                    27.200000000000028,
                    27.200000000000024,
                    27.2390625,
                    27.212280701754413,
                    27.19843750000003,
                    27.206153846153867,
                    27.18301886792453,
                    27.11249999999998,
                    27.099999999999977,
                    27.18750000000003,
                    27.200000000000028,
                    27.200000000000028,
                    27.200000000000028,
                    27.200000000000028,
                    27.22031250000001,
                    27.217187500000016,
                    27.218750000000018,
                    27.212500000000016,
                    27.2387755102041,
                    27.3030769230769,
                    27.39843750000003,
                    27.4734693877551,
                    27.428125000000023,
                    27.403125000000028,
                    27.353124999999977,
                    27.395384615384643,
                    27.465625,
                    27.5,
                    27.519672131147523,
                    27.59807692307691,
                    27.614062499999974,
                    27.636923076923072,
                    27.584374999999994,
                    27.55781249999997,
                    27.65781250000001,
                    27.700000000000024,
                    27.5125,
                    27.5,
                    27.557894736842087,
                    27.64444444444444,
                    27.513846153846146,
                    27.691228070175463,
                    27.615625,
                    27.543749999999967,
                    27.739999999999977,
                    27.69218750000001,
                    27.63877551020411,
                    27.80156249999999,
                    27.90000000000003,
                    27.90000000000001,
                    28.043749999999967,
                    28.43125000000001,
                    28.41846153846154,
                    28.10468749999997,
                    28.099999999999987,
                    28.18437500000001,
                    28.299999999999976,
                    28.204545454545453,
                    23.9875,
                    25.336923076923068,
                    26.420312499999994,
                    27.223437500000024,
                    27.61250000000001,
                    27.75744680851065,
                    27.951562499999994,
                    27.996875000000003,
                    28.07343749999997,
                    28.22812499999999,
                    28.29999999999997,
                    28.29999999999997,
                    28.29999999999997,
                    28.351562500000025,
                    28.35937499999999,
                    28.303124999999973,
                    28.363076923076957,
                    28.40344827586209,
                    28.404687500000023,
                    28.361363636363613,
                    28.29999999999997,
                    28.30615384615382,
                    28.33770491803277,
                    28.30781249999997,
                    28.299999999999983,
                    28.29999999999997,
                    28.29999999999997,
                    28.29999999999997,
                    28.29999999999997,
                    28.29999999999998,
                    28.30156249999997,
                    28.312307692307662,
                    28.299999999999976,
                    28.29999999999997,
                    28.29999999999997,
                    28.29999999999997,
                    28.359375000000032,
                    28.381538461538472,
                    28.34843749999998,
                    28.325000000000006,
                    28.32187499999997,
                    28.378125000000036,
                    28.32461538461536,
                    28.299999999999976,
                    28.299999999999976,
                    28.29999999999997,
                    28.299999999999976,
                    28.29999999999997,
                    28.29999999999997,
                    28.29999999999997,
                    28.29999999999997,
                    28.29999999999997,
                    28.29999999999997,
                    28.299999999999976,
                    "",
                    "",
                    "",
                    "",
                    "",
                    "",
                    "",
                    "",
                    "",
                    "",
                    "",
                    "",
                    "",
                    "",
                    "",
                    "",
                    "",
                    "",
                    "",
                    "",
                    "",
                    "",
                    "",
                    "",
                    "",
                    "",
                    "",
                    "",
                    "",
                    "",
                    "",
                    "",
                    "",
                    "",
                    "",
                    "",
                    "",
                    "",
                    "",
                    "",
                    "",
                    "",
                    "",
                    "",
                    "",
                    "",
                    "",
                    "",
                    "",
                    "",
                    "",
                    "",
                    "",
                    "",
                    "",
                    "",
                    "",
                    "",
                    "",
                    "",
                    "",
                    "",
                    "",
                    "",
                    "",
                    "",
                    "",
                    "",
                    "",
                    "",
                    "",
                    "",
                    "",
                    "",
                    "",
                    "",
                    "",
                    "",
                    "",
                    "",
                    "",
                    "",
                    "",
                    "",
                    "",
                    "",
                    "",
                    "",
                    "",
                    "",
                    "",
                    "",
                    "",
                    "",
                    "",
                    "",
                    "",
                    "",
                    "",
                    "",
                    "",
                    "",
                    "",
                    "",
                    "",
                    "",
                    "",
                    "",
                    "",
                    "",
                    "",
                    "",
                    "",
                    "",
                    "",
                    "",
                    "",
                    "",
                    "",
                    "",
                    "",
                    "",
                    "",
                    "",
                    "",
                    "",
                    "",
                    "",
                    "",
                    "",
                    "",
                    "",
                    "",
                    "",
                    "",
                    "",
                    "",
                    "",
                    "",
                    "",
                    "",
                    "",
                    "",
                    "",
                    "",
                    "",
                    "",
                    "",
                    "",
                    "",
                    "",
                    "",
                    "",
                    "",
                    "",
                    "",
                    "",
                    "",
                    "",
                    "",
                    "",
                    "",
                    "",
                    "",
                    "",
                    "",
                    "",
                    "",
                    "",
                    "",
                    "",
                    "",
                    "",
                    "",
                    "",
                    "",
                    "",
                    "",
                    "",
                    ""
                  ]
                }
              ],
              "layout": {
                "legend": {
                  "bgcolor": "#F5F6F9",
                  "font": {
                    "color": "#4D5663"
                  }
                },
                "paper_bgcolor": "#F5F6F9",
                "plot_bgcolor": "#F5F6F9",
                "template": {
                  "data": {
                    "bar": [
                      {
                        "error_x": {
                          "color": "#2a3f5f"
                        },
                        "error_y": {
                          "color": "#2a3f5f"
                        },
                        "marker": {
                          "line": {
                            "color": "#E5ECF6",
                            "width": 0.5
                          },
                          "pattern": {
                            "fillmode": "overlay",
                            "size": 10,
                            "solidity": 0.2
                          }
                        },
                        "type": "bar"
                      }
                    ],
                    "barpolar": [
                      {
                        "marker": {
                          "line": {
                            "color": "#E5ECF6",
                            "width": 0.5
                          },
                          "pattern": {
                            "fillmode": "overlay",
                            "size": 10,
                            "solidity": 0.2
                          }
                        },
                        "type": "barpolar"
                      }
                    ],
                    "carpet": [
                      {
                        "aaxis": {
                          "endlinecolor": "#2a3f5f",
                          "gridcolor": "white",
                          "linecolor": "white",
                          "minorgridcolor": "white",
                          "startlinecolor": "#2a3f5f"
                        },
                        "baxis": {
                          "endlinecolor": "#2a3f5f",
                          "gridcolor": "white",
                          "linecolor": "white",
                          "minorgridcolor": "white",
                          "startlinecolor": "#2a3f5f"
                        },
                        "type": "carpet"
                      }
                    ],
                    "choropleth": [
                      {
                        "colorbar": {
                          "outlinewidth": 0,
                          "ticks": ""
                        },
                        "type": "choropleth"
                      }
                    ],
                    "contour": [
                      {
                        "colorbar": {
                          "outlinewidth": 0,
                          "ticks": ""
                        },
                        "colorscale": [
                          [
                            0,
                            "#0d0887"
                          ],
                          [
                            0.1111111111111111,
                            "#46039f"
                          ],
                          [
                            0.2222222222222222,
                            "#7201a8"
                          ],
                          [
                            0.3333333333333333,
                            "#9c179e"
                          ],
                          [
                            0.4444444444444444,
                            "#bd3786"
                          ],
                          [
                            0.5555555555555556,
                            "#d8576b"
                          ],
                          [
                            0.6666666666666666,
                            "#ed7953"
                          ],
                          [
                            0.7777777777777778,
                            "#fb9f3a"
                          ],
                          [
                            0.8888888888888888,
                            "#fdca26"
                          ],
                          [
                            1,
                            "#f0f921"
                          ]
                        ],
                        "type": "contour"
                      }
                    ],
                    "contourcarpet": [
                      {
                        "colorbar": {
                          "outlinewidth": 0,
                          "ticks": ""
                        },
                        "type": "contourcarpet"
                      }
                    ],
                    "heatmap": [
                      {
                        "colorbar": {
                          "outlinewidth": 0,
                          "ticks": ""
                        },
                        "colorscale": [
                          [
                            0,
                            "#0d0887"
                          ],
                          [
                            0.1111111111111111,
                            "#46039f"
                          ],
                          [
                            0.2222222222222222,
                            "#7201a8"
                          ],
                          [
                            0.3333333333333333,
                            "#9c179e"
                          ],
                          [
                            0.4444444444444444,
                            "#bd3786"
                          ],
                          [
                            0.5555555555555556,
                            "#d8576b"
                          ],
                          [
                            0.6666666666666666,
                            "#ed7953"
                          ],
                          [
                            0.7777777777777778,
                            "#fb9f3a"
                          ],
                          [
                            0.8888888888888888,
                            "#fdca26"
                          ],
                          [
                            1,
                            "#f0f921"
                          ]
                        ],
                        "type": "heatmap"
                      }
                    ],
                    "heatmapgl": [
                      {
                        "colorbar": {
                          "outlinewidth": 0,
                          "ticks": ""
                        },
                        "colorscale": [
                          [
                            0,
                            "#0d0887"
                          ],
                          [
                            0.1111111111111111,
                            "#46039f"
                          ],
                          [
                            0.2222222222222222,
                            "#7201a8"
                          ],
                          [
                            0.3333333333333333,
                            "#9c179e"
                          ],
                          [
                            0.4444444444444444,
                            "#bd3786"
                          ],
                          [
                            0.5555555555555556,
                            "#d8576b"
                          ],
                          [
                            0.6666666666666666,
                            "#ed7953"
                          ],
                          [
                            0.7777777777777778,
                            "#fb9f3a"
                          ],
                          [
                            0.8888888888888888,
                            "#fdca26"
                          ],
                          [
                            1,
                            "#f0f921"
                          ]
                        ],
                        "type": "heatmapgl"
                      }
                    ],
                    "histogram": [
                      {
                        "marker": {
                          "pattern": {
                            "fillmode": "overlay",
                            "size": 10,
                            "solidity": 0.2
                          }
                        },
                        "type": "histogram"
                      }
                    ],
                    "histogram2d": [
                      {
                        "colorbar": {
                          "outlinewidth": 0,
                          "ticks": ""
                        },
                        "colorscale": [
                          [
                            0,
                            "#0d0887"
                          ],
                          [
                            0.1111111111111111,
                            "#46039f"
                          ],
                          [
                            0.2222222222222222,
                            "#7201a8"
                          ],
                          [
                            0.3333333333333333,
                            "#9c179e"
                          ],
                          [
                            0.4444444444444444,
                            "#bd3786"
                          ],
                          [
                            0.5555555555555556,
                            "#d8576b"
                          ],
                          [
                            0.6666666666666666,
                            "#ed7953"
                          ],
                          [
                            0.7777777777777778,
                            "#fb9f3a"
                          ],
                          [
                            0.8888888888888888,
                            "#fdca26"
                          ],
                          [
                            1,
                            "#f0f921"
                          ]
                        ],
                        "type": "histogram2d"
                      }
                    ],
                    "histogram2dcontour": [
                      {
                        "colorbar": {
                          "outlinewidth": 0,
                          "ticks": ""
                        },
                        "colorscale": [
                          [
                            0,
                            "#0d0887"
                          ],
                          [
                            0.1111111111111111,
                            "#46039f"
                          ],
                          [
                            0.2222222222222222,
                            "#7201a8"
                          ],
                          [
                            0.3333333333333333,
                            "#9c179e"
                          ],
                          [
                            0.4444444444444444,
                            "#bd3786"
                          ],
                          [
                            0.5555555555555556,
                            "#d8576b"
                          ],
                          [
                            0.6666666666666666,
                            "#ed7953"
                          ],
                          [
                            0.7777777777777778,
                            "#fb9f3a"
                          ],
                          [
                            0.8888888888888888,
                            "#fdca26"
                          ],
                          [
                            1,
                            "#f0f921"
                          ]
                        ],
                        "type": "histogram2dcontour"
                      }
                    ],
                    "mesh3d": [
                      {
                        "colorbar": {
                          "outlinewidth": 0,
                          "ticks": ""
                        },
                        "type": "mesh3d"
                      }
                    ],
                    "parcoords": [
                      {
                        "line": {
                          "colorbar": {
                            "outlinewidth": 0,
                            "ticks": ""
                          }
                        },
                        "type": "parcoords"
                      }
                    ],
                    "pie": [
                      {
                        "automargin": true,
                        "type": "pie"
                      }
                    ],
                    "scatter": [
                      {
                        "fillpattern": {
                          "fillmode": "overlay",
                          "size": 10,
                          "solidity": 0.2
                        },
                        "type": "scatter"
                      }
                    ],
                    "scatter3d": [
                      {
                        "line": {
                          "colorbar": {
                            "outlinewidth": 0,
                            "ticks": ""
                          }
                        },
                        "marker": {
                          "colorbar": {
                            "outlinewidth": 0,
                            "ticks": ""
                          }
                        },
                        "type": "scatter3d"
                      }
                    ],
                    "scattercarpet": [
                      {
                        "marker": {
                          "colorbar": {
                            "outlinewidth": 0,
                            "ticks": ""
                          }
                        },
                        "type": "scattercarpet"
                      }
                    ],
                    "scattergeo": [
                      {
                        "marker": {
                          "colorbar": {
                            "outlinewidth": 0,
                            "ticks": ""
                          }
                        },
                        "type": "scattergeo"
                      }
                    ],
                    "scattergl": [
                      {
                        "marker": {
                          "colorbar": {
                            "outlinewidth": 0,
                            "ticks": ""
                          }
                        },
                        "type": "scattergl"
                      }
                    ],
                    "scattermapbox": [
                      {
                        "marker": {
                          "colorbar": {
                            "outlinewidth": 0,
                            "ticks": ""
                          }
                        },
                        "type": "scattermapbox"
                      }
                    ],
                    "scatterpolar": [
                      {
                        "marker": {
                          "colorbar": {
                            "outlinewidth": 0,
                            "ticks": ""
                          }
                        },
                        "type": "scatterpolar"
                      }
                    ],
                    "scatterpolargl": [
                      {
                        "marker": {
                          "colorbar": {
                            "outlinewidth": 0,
                            "ticks": ""
                          }
                        },
                        "type": "scatterpolargl"
                      }
                    ],
                    "scatterternary": [
                      {
                        "marker": {
                          "colorbar": {
                            "outlinewidth": 0,
                            "ticks": ""
                          }
                        },
                        "type": "scatterternary"
                      }
                    ],
                    "surface": [
                      {
                        "colorbar": {
                          "outlinewidth": 0,
                          "ticks": ""
                        },
                        "colorscale": [
                          [
                            0,
                            "#0d0887"
                          ],
                          [
                            0.1111111111111111,
                            "#46039f"
                          ],
                          [
                            0.2222222222222222,
                            "#7201a8"
                          ],
                          [
                            0.3333333333333333,
                            "#9c179e"
                          ],
                          [
                            0.4444444444444444,
                            "#bd3786"
                          ],
                          [
                            0.5555555555555556,
                            "#d8576b"
                          ],
                          [
                            0.6666666666666666,
                            "#ed7953"
                          ],
                          [
                            0.7777777777777778,
                            "#fb9f3a"
                          ],
                          [
                            0.8888888888888888,
                            "#fdca26"
                          ],
                          [
                            1,
                            "#f0f921"
                          ]
                        ],
                        "type": "surface"
                      }
                    ],
                    "table": [
                      {
                        "cells": {
                          "fill": {
                            "color": "#EBF0F8"
                          },
                          "line": {
                            "color": "white"
                          }
                        },
                        "header": {
                          "fill": {
                            "color": "#C8D4E3"
                          },
                          "line": {
                            "color": "white"
                          }
                        },
                        "type": "table"
                      }
                    ]
                  },
                  "layout": {
                    "annotationdefaults": {
                      "arrowcolor": "#2a3f5f",
                      "arrowhead": 0,
                      "arrowwidth": 1
                    },
                    "autotypenumbers": "strict",
                    "coloraxis": {
                      "colorbar": {
                        "outlinewidth": 0,
                        "ticks": ""
                      }
                    },
                    "colorscale": {
                      "diverging": [
                        [
                          0,
                          "#8e0152"
                        ],
                        [
                          0.1,
                          "#c51b7d"
                        ],
                        [
                          0.2,
                          "#de77ae"
                        ],
                        [
                          0.3,
                          "#f1b6da"
                        ],
                        [
                          0.4,
                          "#fde0ef"
                        ],
                        [
                          0.5,
                          "#f7f7f7"
                        ],
                        [
                          0.6,
                          "#e6f5d0"
                        ],
                        [
                          0.7,
                          "#b8e186"
                        ],
                        [
                          0.8,
                          "#7fbc41"
                        ],
                        [
                          0.9,
                          "#4d9221"
                        ],
                        [
                          1,
                          "#276419"
                        ]
                      ],
                      "sequential": [
                        [
                          0,
                          "#0d0887"
                        ],
                        [
                          0.1111111111111111,
                          "#46039f"
                        ],
                        [
                          0.2222222222222222,
                          "#7201a8"
                        ],
                        [
                          0.3333333333333333,
                          "#9c179e"
                        ],
                        [
                          0.4444444444444444,
                          "#bd3786"
                        ],
                        [
                          0.5555555555555556,
                          "#d8576b"
                        ],
                        [
                          0.6666666666666666,
                          "#ed7953"
                        ],
                        [
                          0.7777777777777778,
                          "#fb9f3a"
                        ],
                        [
                          0.8888888888888888,
                          "#fdca26"
                        ],
                        [
                          1,
                          "#f0f921"
                        ]
                      ],
                      "sequentialminus": [
                        [
                          0,
                          "#0d0887"
                        ],
                        [
                          0.1111111111111111,
                          "#46039f"
                        ],
                        [
                          0.2222222222222222,
                          "#7201a8"
                        ],
                        [
                          0.3333333333333333,
                          "#9c179e"
                        ],
                        [
                          0.4444444444444444,
                          "#bd3786"
                        ],
                        [
                          0.5555555555555556,
                          "#d8576b"
                        ],
                        [
                          0.6666666666666666,
                          "#ed7953"
                        ],
                        [
                          0.7777777777777778,
                          "#fb9f3a"
                        ],
                        [
                          0.8888888888888888,
                          "#fdca26"
                        ],
                        [
                          1,
                          "#f0f921"
                        ]
                      ]
                    },
                    "colorway": [
                      "#636efa",
                      "#EF553B",
                      "#00cc96",
                      "#ab63fa",
                      "#FFA15A",
                      "#19d3f3",
                      "#FF6692",
                      "#B6E880",
                      "#FF97FF",
                      "#FECB52"
                    ],
                    "font": {
                      "color": "#2a3f5f"
                    },
                    "geo": {
                      "bgcolor": "white",
                      "lakecolor": "white",
                      "landcolor": "#E5ECF6",
                      "showlakes": true,
                      "showland": true,
                      "subunitcolor": "white"
                    },
                    "hoverlabel": {
                      "align": "left"
                    },
                    "hovermode": "closest",
                    "mapbox": {
                      "style": "light"
                    },
                    "paper_bgcolor": "white",
                    "plot_bgcolor": "#E5ECF6",
                    "polar": {
                      "angularaxis": {
                        "gridcolor": "white",
                        "linecolor": "white",
                        "ticks": ""
                      },
                      "bgcolor": "#E5ECF6",
                      "radialaxis": {
                        "gridcolor": "white",
                        "linecolor": "white",
                        "ticks": ""
                      }
                    },
                    "scene": {
                      "xaxis": {
                        "backgroundcolor": "#E5ECF6",
                        "gridcolor": "white",
                        "gridwidth": 2,
                        "linecolor": "white",
                        "showbackground": true,
                        "ticks": "",
                        "zerolinecolor": "white"
                      },
                      "yaxis": {
                        "backgroundcolor": "#E5ECF6",
                        "gridcolor": "white",
                        "gridwidth": 2,
                        "linecolor": "white",
                        "showbackground": true,
                        "ticks": "",
                        "zerolinecolor": "white"
                      },
                      "zaxis": {
                        "backgroundcolor": "#E5ECF6",
                        "gridcolor": "white",
                        "gridwidth": 2,
                        "linecolor": "white",
                        "showbackground": true,
                        "ticks": "",
                        "zerolinecolor": "white"
                      }
                    },
                    "shapedefaults": {
                      "line": {
                        "color": "#2a3f5f"
                      }
                    },
                    "ternary": {
                      "aaxis": {
                        "gridcolor": "white",
                        "linecolor": "white",
                        "ticks": ""
                      },
                      "baxis": {
                        "gridcolor": "white",
                        "linecolor": "white",
                        "ticks": ""
                      },
                      "bgcolor": "#E5ECF6",
                      "caxis": {
                        "gridcolor": "white",
                        "linecolor": "white",
                        "ticks": ""
                      }
                    },
                    "title": {
                      "x": 0.05
                    },
                    "xaxis": {
                      "automargin": true,
                      "gridcolor": "white",
                      "linecolor": "white",
                      "ticks": "",
                      "title": {
                        "standoff": 15
                      },
                      "zerolinecolor": "white",
                      "zerolinewidth": 2
                    },
                    "yaxis": {
                      "automargin": true,
                      "gridcolor": "white",
                      "linecolor": "white",
                      "ticks": "",
                      "title": {
                        "standoff": 15
                      },
                      "zerolinecolor": "white",
                      "zerolinewidth": 2
                    }
                  }
                },
                "title": {
                  "font": {
                    "color": "#4D5663"
                  }
                },
                "xaxis": {
                  "gridcolor": "#E1E5ED",
                  "showgrid": true,
                  "tickfont": {
                    "color": "#4D5663"
                  },
                  "title": {
                    "font": {
                      "color": "#4D5663"
                    },
                    "text": ""
                  },
                  "zerolinecolor": "#E1E5ED"
                },
                "yaxis": {
                  "gridcolor": "#E1E5ED",
                  "showgrid": true,
                  "tickfont": {
                    "color": "#4D5663"
                  },
                  "title": {
                    "font": {
                      "color": "#4D5663"
                    },
                    "text": ""
                  },
                  "zerolinecolor": "#E1E5ED"
                }
              }
            },
            "text/html": [
              "<div>                            <div id=\"2826725f-f1fd-4898-a410-1d0f86dca052\" class=\"plotly-graph-div\" style=\"height:525px; width:100%;\"></div>            <script type=\"text/javascript\">                require([\"plotly\"], function(Plotly) {                    window.PLOTLYENV=window.PLOTLYENV || {};\n",
              "                    window.PLOTLYENV.BASE_URL='https://plot.ly';                                    if (document.getElementById(\"2826725f-f1fd-4898-a410-1d0f86dca052\")) {                    Plotly.newPlot(                        \"2826725f-f1fd-4898-a410-1d0f86dca052\",                        [{\"line\":{\"color\":\"rgba(55, 128, 191, 1.0)\",\"dash\":\"solid\",\"shape\":\"linear\",\"width\":1.3},\"mode\":\"lines\",\"name\":\"Predicted values\",\"text\":\"\",\"x\":[\"2022-10-09T21:00:00Z\",\"2022-10-09T21:03:00Z\",\"2022-10-09T21:06:00Z\",\"2022-10-09T21:09:00Z\",\"2022-10-09T21:12:00Z\",\"2022-10-09T21:15:00Z\",\"2022-10-09T21:18:00Z\",\"2022-10-09T21:21:00Z\",\"2022-10-09T21:24:00Z\",\"2022-10-09T21:27:00Z\",\"2022-10-09T21:30:00Z\",\"2022-10-09T21:33:00Z\",\"2022-10-09T21:36:00Z\",\"2022-10-09T21:39:00Z\",\"2022-10-09T21:42:00Z\",\"2022-10-09T21:45:00Z\",\"2022-10-09T21:48:00Z\",\"2022-10-09T21:51:00Z\",\"2022-10-09T21:54:00Z\",\"2022-10-09T21:57:00Z\",\"2022-10-09T22:00:00Z\",\"2022-10-09T22:03:00Z\",\"2022-10-09T22:06:00Z\",\"2022-10-09T22:09:00Z\",\"2022-10-09T22:12:00Z\",\"2022-10-09T22:15:00Z\",\"2022-10-09T22:18:00Z\",\"2022-10-09T22:21:00Z\",\"2022-10-09T22:24:00Z\",\"2022-10-09T22:27:00Z\",\"2022-10-09T22:30:00Z\",\"2022-10-09T22:33:00Z\",\"2022-10-09T22:36:00Z\",\"2022-10-09T22:39:00Z\",\"2022-10-09T22:42:00Z\",\"2022-10-09T22:45:00Z\",\"2022-10-09T22:48:00Z\",\"2022-10-09T22:51:00Z\",\"2022-10-09T22:54:00Z\",\"2022-10-09T22:57:00Z\",\"2022-10-09T23:00:00Z\",\"2022-10-09T23:03:00Z\",\"2022-10-09T23:06:00Z\",\"2022-10-09T23:09:00Z\",\"2022-10-09T23:12:00Z\",\"2022-10-09T23:15:00Z\",\"2022-10-09T23:18:00Z\",\"2022-10-09T23:21:00Z\",\"2022-10-09T23:24:00Z\",\"2022-10-09T23:27:00Z\",\"2022-10-09T23:30:00Z\",\"2022-10-09T23:33:00Z\",\"2022-10-09T23:36:00Z\",\"2022-10-09T23:39:00Z\",\"2022-10-09T23:42:00Z\",\"2022-10-09T23:45:00Z\",\"2022-10-09T23:48:00Z\",\"2022-10-09T23:51:00Z\",\"2022-10-09T23:54:00Z\",\"2022-10-09T23:57:00Z\",\"2022-10-10T00:00:00Z\",\"2022-10-10T00:03:00Z\",\"2022-10-10T00:06:00Z\",\"2022-10-10T00:09:00Z\",\"2022-10-10T00:12:00Z\",\"2022-10-10T00:15:00Z\",\"2022-10-10T00:18:00Z\",\"2022-10-10T00:21:00Z\",\"2022-10-10T00:24:00Z\",\"2022-10-10T00:27:00Z\",\"2022-10-10T00:30:00Z\",\"2022-10-10T00:33:00Z\",\"2022-10-10T00:36:00Z\",\"2022-10-10T00:39:00Z\",\"2022-10-10T00:42:00Z\",\"2022-10-10T00:45:00Z\",\"2022-10-10T00:48:00Z\",\"2022-10-10T00:51:00Z\",\"2022-10-10T00:54:00Z\",\"2022-10-10T00:57:00Z\",\"2022-10-10T01:00:00Z\",\"2022-10-10T01:03:00Z\",\"2022-10-10T01:06:00Z\",\"2022-10-10T01:09:00Z\",\"2022-10-10T01:12:00Z\",\"2022-10-10T01:15:00Z\",\"2022-10-10T01:18:00Z\",\"2022-10-10T01:21:00Z\",\"2022-10-10T01:24:00Z\",\"2022-10-10T01:27:00Z\",\"2022-10-10T01:30:00Z\",\"2022-10-10T01:33:00Z\",\"2022-10-10T01:36:00Z\",\"2022-10-10T01:39:00Z\",\"2022-10-10T01:42:00Z\",\"2022-10-10T01:45:00Z\",\"2022-10-10T01:48:00Z\",\"2022-10-10T01:51:00Z\",\"2022-10-10T01:54:00Z\",\"2022-10-10T01:57:00Z\",\"2022-10-10T02:00:00Z\",\"2022-10-10T02:03:00Z\",\"2022-10-10T02:06:00Z\",\"2022-10-10T02:09:00Z\",\"2022-10-10T02:12:00Z\",\"2022-10-10T02:15:00Z\",\"2022-10-10T02:18:00Z\",\"2022-10-10T02:21:00Z\",\"2022-10-10T02:24:00Z\",\"2022-10-10T02:27:00Z\",\"2022-10-10T02:30:00Z\",\"2022-10-10T02:33:00Z\",\"2022-10-10T02:36:00Z\",\"2022-10-10T02:39:00Z\",\"2022-10-10T02:42:00Z\",\"2022-10-10T02:45:00Z\",\"2022-10-10T02:48:00Z\",\"2022-10-10T02:51:00Z\",\"2022-10-10T02:54:00Z\",\"2022-10-10T02:57:00Z\",\"2022-10-10T03:00:00Z\",\"2022-10-10T03:03:00Z\",\"2022-10-10T03:06:00Z\",\"2022-10-10T03:09:00Z\",\"2022-10-10T03:12:00Z\",\"2022-10-10T03:15:00Z\",\"2022-10-10T03:18:00Z\",\"2022-10-10T03:21:00Z\",\"2022-10-10T03:24:00Z\",\"2022-10-10T03:27:00Z\",\"2022-10-10T03:30:00Z\",\"2022-10-10T03:33:00Z\",\"2022-10-10T03:36:00Z\",\"2022-10-10T03:39:00Z\",\"2022-10-10T03:42:00Z\",\"2022-10-10T03:45:00Z\",\"2022-10-10T03:48:00Z\",\"2022-10-10T03:51:00Z\",\"2022-10-10T03:54:00Z\",\"2022-10-10T03:57:00Z\",\"2022-10-10T04:00:00Z\",\"2022-10-10T04:03:00Z\",\"2022-10-10T04:06:00Z\",\"2022-10-10T04:09:00Z\",\"2022-10-10T04:12:00Z\",\"2022-10-10T04:15:00Z\",\"2022-10-10T04:18:00Z\",\"2022-10-10T04:21:00Z\",\"2022-10-10T04:24:00Z\",\"2022-10-10T04:27:00Z\",\"2022-10-10T04:30:00Z\",\"2022-10-10T04:33:00Z\",\"2022-10-10T04:36:00Z\",\"2022-10-10T04:39:00Z\",\"2022-10-10T04:42:00Z\",\"2022-10-10T04:45:00Z\",\"2022-10-10T04:48:00Z\",\"2022-10-10T04:51:00Z\",\"2022-10-10T04:54:00Z\",\"2022-10-10T04:57:00Z\",\"2022-10-10T05:00:00Z\",\"2022-10-10T05:03:00Z\",\"2022-10-10T05:06:00Z\",\"2022-10-10T05:09:00Z\",\"2022-10-10T05:12:00Z\",\"2022-10-10T05:15:00Z\",\"2022-10-10T05:18:00Z\",\"2022-10-10T05:21:00Z\",\"2022-10-10T05:24:00Z\",\"2022-10-10T05:27:00Z\",\"2022-10-10T05:30:00Z\",\"2022-10-10T05:33:00Z\",\"2022-10-10T05:36:00Z\",\"2022-10-10T05:39:00Z\",\"2022-10-10T05:42:00Z\",\"2022-10-10T05:45:00Z\",\"2022-10-10T05:48:00Z\",\"2022-10-10T05:51:00Z\",\"2022-10-10T05:54:00Z\",\"2022-10-10T05:57:00Z\",\"2022-10-10T06:00:00Z\",\"2022-10-10T06:03:00Z\",\"2022-10-10T06:06:00Z\",\"2022-10-10T06:09:00Z\",\"2022-10-10T06:12:00Z\",\"2022-10-10T06:15:00Z\",\"2022-10-10T06:18:00Z\",\"2022-10-10T06:21:00Z\",\"2022-10-10T06:24:00Z\",\"2022-10-10T06:27:00Z\",\"2022-10-10T06:30:00Z\",\"2022-10-10T06:33:00Z\",\"2022-10-10T06:36:00Z\",\"2022-10-10T06:39:00Z\",\"2022-10-10T06:42:00Z\",\"2022-10-10T06:45:00Z\",\"2022-10-10T06:48:00Z\",\"2022-10-10T06:51:00Z\",\"2022-10-10T06:54:00Z\",\"2022-10-10T06:57:00Z\",\"2022-10-10T07:00:00Z\",\"2022-10-10T07:03:00Z\",\"2022-10-10T07:06:00Z\",\"2022-10-10T07:09:00Z\",\"2022-10-10T07:12:00Z\",\"2022-10-10T07:15:00Z\",\"2022-10-10T07:18:00Z\",\"2022-10-10T07:21:00Z\",\"2022-10-10T07:24:00Z\",\"2022-10-10T07:27:00Z\",\"2022-10-10T07:30:00Z\",\"2022-10-10T07:33:00Z\",\"2022-10-10T07:36:00Z\",\"2022-10-10T07:39:00Z\",\"2022-10-10T07:42:00Z\",\"2022-10-10T20:42:00Z\",\"2022-10-10T20:45:00Z\",\"2022-10-10T20:48:00Z\",\"2022-10-10T20:51:00Z\",\"2022-10-10T20:54:00Z\",\"2022-10-10T20:57:00Z\",\"2022-10-10T21:00:00Z\",\"2022-10-10T21:03:00Z\",\"2022-10-10T21:06:00Z\",\"2022-10-10T21:09:00Z\",\"2022-10-10T21:12:00Z\",\"2022-10-10T21:15:00Z\",\"2022-10-10T21:18:00Z\",\"2022-10-10T21:21:00Z\",\"2022-10-10T21:24:00Z\",\"2022-10-10T21:27:00Z\",\"2022-10-10T21:30:00Z\",\"2022-10-10T21:33:00Z\",\"2022-10-10T21:36:00Z\",\"2022-10-10T21:39:00Z\",\"2022-10-10T21:42:00Z\",\"2022-10-10T21:45:00Z\",\"2022-10-10T21:48:00Z\",\"2022-10-10T21:51:00Z\",\"2022-10-10T21:54:00Z\",\"2022-10-10T21:57:00Z\",\"2022-10-10T22:00:00Z\",\"2022-10-10T22:03:00Z\",\"2022-10-10T22:06:00Z\",\"2022-10-10T22:09:00Z\",\"2022-10-10T22:12:00Z\",\"2022-10-10T22:15:00Z\",\"2022-10-10T22:18:00Z\",\"2022-10-10T22:21:00Z\",\"2022-10-10T22:24:00Z\",\"2022-10-10T22:27:00Z\",\"2022-10-10T22:30:00Z\",\"2022-10-10T22:33:00Z\",\"2022-10-10T22:36:00Z\",\"2022-10-10T22:39:00Z\",\"2022-10-10T22:42:00Z\",\"2022-10-10T22:45:00Z\",\"2022-10-10T22:48:00Z\",\"2022-10-10T22:51:00Z\",\"2022-10-10T22:54:00Z\",\"2022-10-10T22:57:00Z\",\"2022-10-10T23:00:00Z\",\"2022-10-10T23:03:00Z\",\"2022-10-10T23:06:00Z\",\"2022-10-10T23:09:00Z\",\"2022-10-10T23:12:00Z\",\"2022-10-10T23:15:00Z\",\"2022-10-10T23:18:00Z\",\"2022-10-10T23:21:00Z\",\"2022-10-10T23:24:00Z\",\"2022-10-10T23:27:00Z\",\"2022-10-10T23:30:00Z\",\"2022-10-10T23:33:00Z\",\"2022-10-10T23:36:00Z\",\"2022-10-10T23:39:00Z\",\"2022-10-10T23:42:00Z\",\"2022-10-10T23:45:00Z\",\"2022-10-10T23:48:00Z\",\"2022-10-10T23:51:00Z\",\"2022-10-10T23:54:00Z\",\"2022-10-10T23:57:00Z\",\"2022-10-11T00:00:00Z\",\"2022-10-11T00:03:00Z\",\"2022-10-11T00:06:00Z\",\"2022-10-11T00:09:00Z\",\"2022-10-11T00:12:00Z\",\"2022-10-11T00:15:00Z\",\"2022-10-11T00:18:00Z\",\"2022-10-11T00:21:00Z\",\"2022-10-11T00:24:00Z\",\"2022-10-11T00:27:00Z\",\"2022-10-11T00:30:00Z\",\"2022-10-11T00:33:00Z\",\"2022-10-11T00:36:00Z\",\"2022-10-11T00:39:00Z\",\"2022-10-11T00:42:00Z\",\"2022-10-11T00:45:00Z\",\"2022-10-11T00:48:00Z\",\"2022-10-11T00:51:00Z\",\"2022-10-11T00:54:00Z\",\"2022-10-11T00:57:00Z\",\"2022-10-11T01:00:00Z\",\"2022-10-11T01:03:00Z\",\"2022-10-11T01:06:00Z\",\"2022-10-11T01:09:00Z\",\"2022-10-11T01:12:00Z\",\"2022-10-11T01:15:00Z\",\"2022-10-11T01:18:00Z\",\"2022-10-11T01:21:00Z\",\"2022-10-11T01:24:00Z\",\"2022-10-11T01:27:00Z\",\"2022-10-11T01:30:00Z\",\"2022-10-11T01:33:00Z\",\"2022-10-11T01:36:00Z\",\"2022-10-11T01:39:00Z\",\"2022-10-11T01:42:00Z\",\"2022-10-11T01:45:00Z\",\"2022-10-11T01:48:00Z\",\"2022-10-11T01:51:00Z\",\"2022-10-11T01:54:00Z\",\"2022-10-11T01:57:00Z\",\"2022-10-11T02:00:00Z\",\"2022-10-11T02:03:00Z\",\"2022-10-11T02:06:00Z\",\"2022-10-11T02:09:00Z\",\"2022-10-11T02:12:00Z\",\"2022-10-11T02:15:00Z\",\"2022-10-11T02:18:00Z\",\"2022-10-11T02:21:00Z\",\"2022-10-11T02:24:00Z\",\"2022-10-11T02:27:00Z\",\"2022-10-11T02:30:00Z\",\"2022-10-11T02:33:00Z\",\"2022-10-11T02:36:00Z\",\"2022-10-11T02:39:00Z\",\"2022-10-11T02:42:00Z\",\"2022-10-11T02:45:00Z\",\"2022-10-11T02:48:00Z\",\"2022-10-11T02:51:00Z\",\"2022-10-11T02:54:00Z\",\"2022-10-11T02:57:00Z\",\"2022-10-11T03:00:00Z\",\"2022-10-11T03:03:00Z\",\"2022-10-11T03:06:00Z\",\"2022-10-11T03:09:00Z\",\"2022-10-11T03:12:00Z\",\"2022-10-11T03:15:00Z\",\"2022-10-11T03:18:00Z\",\"2022-10-11T03:21:00Z\",\"2022-10-11T03:24:00Z\",\"2022-10-11T03:27:00Z\",\"2022-10-11T03:30:00Z\",\"2022-10-11T03:33:00Z\",\"2022-10-11T03:36:00Z\",\"2022-10-11T03:39:00Z\",\"2022-10-11T03:42:00Z\",\"2022-10-11T03:45:00Z\",\"2022-10-11T03:48:00Z\",\"2022-10-11T03:51:00Z\",\"2022-10-11T03:54:00Z\",\"2022-10-11T03:57:00Z\",\"2022-10-11T04:00:00Z\",\"2022-10-11T04:03:00Z\",\"2022-10-11T04:06:00Z\",\"2022-10-11T04:09:00Z\",\"2022-10-11T04:12:00Z\",\"2022-10-11T04:15:00Z\",\"2022-10-11T04:18:00Z\",\"2022-10-11T04:21:00Z\",\"2022-10-11T04:24:00Z\",\"2022-10-11T04:27:00Z\",\"2022-10-11T04:30:00Z\",\"2022-10-11T04:33:00Z\",\"2022-10-11T04:36:00Z\",\"2022-10-11T05:21:00Z\",\"2022-10-11T05:51:00Z\",\"2022-10-11T05:54:00Z\",\"2022-10-11T05:57:00Z\",\"2022-10-11T06:00:00Z\",\"2022-10-11T06:03:00Z\",\"2022-10-11T06:06:00Z\",\"2022-10-11T06:09:00Z\",\"2022-10-11T06:12:00Z\",\"2022-10-11T06:15:00Z\",\"2022-10-11T06:18:00Z\",\"2022-10-11T06:21:00Z\",\"2022-10-11T06:24:00Z\",\"2022-10-11T06:27:00Z\",\"2022-10-11T06:30:00Z\",\"2022-10-11T06:33:00Z\",\"2022-10-11T06:36:00Z\",\"2022-10-11T06:39:00Z\",\"2022-10-11T06:42:00Z\",\"2022-10-11T06:45:00Z\",\"2022-10-11T06:48:00Z\",\"2022-10-11T06:51:00Z\",\"2022-10-11T06:54:00Z\",\"2022-10-11T06:57:00Z\",\"2022-10-11T07:00:00Z\",\"2022-10-11T07:03:00Z\",\"2022-10-11T07:06:00Z\",\"2022-10-11T07:09:00Z\",\"2022-10-11T07:12:00Z\",\"2022-10-11T07:15:00Z\",\"2022-10-11T07:18:00Z\",\"2022-10-11T07:21:00Z\",\"2022-10-11T07:24:00Z\",\"2022-10-11T07:27:00Z\",\"2022-10-11T07:30:00Z\",\"2022-10-11T07:33:00Z\",\"2022-10-11T07:36:00Z\",\"2022-10-11T07:39:00Z\",\"2022-10-11T07:42:00Z\",\"2022-10-11T07:45:00Z\",\"2022-10-11T07:48:00Z\",\"2022-10-11T07:51:00Z\",\"2022-10-11T07:54:00Z\",\"2022-10-11T07:57:00Z\",\"2022-10-11T08:00:00Z\",\"2022-10-11T08:03:00Z\",\"2022-10-11T08:06:00Z\",\"2022-10-11T08:09:00Z\",\"2022-10-11T08:12:00Z\",\"2022-10-11T08:15:00Z\",\"2022-10-11T08:18:00Z\",\"2022-10-11T08:21:00Z\",\"2022-10-11T08:24:00Z\",\"2022-10-11T08:27:00Z\",\"2022-10-11T08:30:00Z\",\"2022-10-11T08:33:00Z\",\"2022-10-11T08:36:00Z\",\"2022-10-11T08:39:00Z\",\"2022-10-11T08:42:00Z\",\"2022-10-11T08:45:00Z\",\"2022-10-11T08:48:00Z\",\"2022-10-11T08:51:00Z\",\"2022-10-11T08:54:00Z\",\"2022-10-11T08:57:00Z\",\"2022-10-11T09:00:00Z\",\"2022-10-11T09:03:00Z\",\"2022-10-11T09:06:00Z\",\"2022-10-11T09:09:00Z\",\"2022-10-11T09:12:00Z\",\"2022-10-11T09:15:00Z\",\"2022-10-11T09:18:00Z\",\"2022-10-11T09:21:00Z\",\"2022-10-11T09:24:00Z\",\"2022-10-11T09:27:00Z\",\"2022-10-11T09:30:00Z\"],\"y\":[23.327272727272728,24.078461538461543,25.09795918367349,26.098437500000024,26.640625000000004,26.9813953488372,27.210937500000004,27.32769230769232,27.401923076923087,27.4921875,27.5,27.5,27.5,27.554385964912267,27.535937499999985,27.59374999999997,27.601538461538432,27.59843749999997,27.587499999999974,27.59843749999997,27.602272727272727,27.609230769230752,27.66250000000002,27.682812500000026,27.700000000000028,27.700000000000028,27.698461538461565,27.700000000000028,27.70000000000002,27.700000000000028,27.700000000000028,27.703125000000025,27.70307692307695,27.717543859649137,27.7359375,27.796428571428542,27.79999999999997,27.79999999999997,27.79999999999997,27.79999999999997,27.799999999999976,27.79999999999997,27.79999999999997,27.793877551020387,27.795312499999973,27.79846153846151,27.778846153846143,27.706250000000026,27.626984126984123,27.50392156862745,27.55781249999997,27.599999999999977,27.58593749999998,27.586153846153824,27.616666666666674,27.686153846153854,27.61475409836063,27.5140625,27.5,27.5,27.5,27.5,27.5,27.5,27.5,27.5,27.5,27.5,27.5,27.5,27.5,27.5,27.5,27.5,27.4984375,27.5,27.496,27.5,27.5,27.5,27.5,27.5,27.5,27.5,27.546874999999982,27.584374999999973,27.582812499999985,27.509375,27.55384615384612,27.599999999999994,27.60937499999998,27.63437500000001,27.69062500000003,27.700000000000028,27.67368421052632,27.61249999999997,27.63846153846155,27.67968750000003,27.700000000000028,27.700000000000028,27.700000000000028,27.700000000000028,27.72931034482759,27.72187500000001,27.718367346938784,27.703076923076956,27.700000000000028,27.700000000000028,27.67343750000001,27.6245283018868,27.65846153846154,27.5,27.5,27.5,27.446875000000038,27.456249999999997,27.5,27.514062499999994,27.54999999999997,27.584210526315783,27.52461538461537,27.55468749999997,27.59062499999997,27.639062500000016,27.6846153846154,27.60327868852457,27.487692307692324,27.400000000000027,27.38437500000001,27.301639344262263,27.25957446808511,27.218461538461565,27.210204081632668,27.28906249999997,27.26249999999999,27.235483870967755,27.207812500000024,27.210937500000018,27.22500000000002,27.201562500000023,27.20816326530614,27.234375000000007,27.24843750000001,27.22500000000001,27.264062499999987,27.29687499999997,27.29538461538459,27.245283018867923,27.22063492063494,27.215625000000014,27.224074074074103,27.201562500000023,27.200000000000028,27.200000000000028,27.19843750000003,27.20000000000002,27.200000000000028,27.200000000000028,27.200000000000024,27.2390625,27.212280701754413,27.19843750000003,27.206153846153867,27.18301886792453,27.11249999999998,27.099999999999977,27.18750000000003,27.200000000000028,27.200000000000028,27.200000000000028,27.200000000000028,27.22031250000001,27.217187500000016,27.218750000000018,27.212500000000016,27.2387755102041,27.3030769230769,27.39843750000003,27.4734693877551,27.428125000000023,27.403125000000028,27.353124999999977,27.395384615384643,27.465625,27.5,27.519672131147523,27.59807692307691,27.614062499999974,27.636923076923072,27.584374999999994,27.55781249999997,27.65781250000001,27.700000000000024,27.5125,27.5,27.557894736842087,27.64444444444444,27.513846153846146,27.691228070175463,27.615625,27.543749999999967,27.739999999999977,27.69218750000001,27.63877551020411,27.80156249999999,27.90000000000003,27.90000000000001,28.043749999999967,28.43125000000001,28.41846153846154,28.10468749999997,28.099999999999987,28.18437500000001,28.299999999999976,28.204545454545453,23.9875,25.336923076923068,26.420312499999994,27.223437500000024,27.61250000000001,27.75744680851065,27.951562499999994,27.996875000000003,28.07343749999997,28.22812499999999,28.29999999999997,28.29999999999997,28.29999999999997,28.351562500000025,28.35937499999999,28.303124999999973,28.363076923076957,28.40344827586209,28.404687500000023,28.361363636363613,28.29999999999997,28.30615384615382,28.33770491803277,28.30781249999997,28.299999999999983,28.29999999999997,28.29999999999997,28.29999999999997,28.29999999999997,28.29999999999998,28.30156249999997,28.312307692307662,28.299999999999976,28.29999999999997,28.29999999999997,28.29999999999997,28.359375000000032,28.381538461538472,28.34843749999998,28.325000000000006,28.32187499999997,28.378125000000036,28.32461538461536,28.299999999999976,28.299999999999976,28.29999999999997,28.299999999999976,28.29999999999997,28.29999999999997,28.29999999999997,28.29999999999997,28.29999999999997,28.29999999999997,28.299999999999976,28.30059826949105,28.300501169030294,28.300419912377293,28.300351568102126,28.300294036334943,28.30024664325173,28.300206986313537,28.300173632650637,28.30014546664556,28.30012168073786,28.304970732567508,28.314906801183906,28.29886753815069,28.30035504062549,28.300297473189286,28.300249262498276,28.30020878014579,28.300175203383088,28.30014666088803,28.300122864507095,28.30010317252212,28.300086417660374,28.30007253400407,28.30006077661865,28.300050929805703,28.300042679015814,28.30003586363118,28.30003008511134,28.295525579309995,28.300399528298584,28.299949260137915,28.29995741980606,28.299964336749724,28.299970196879883,28.299974903586982,28.264404338337982,28.292313190409935,28.30033955265716,28.299372001124834,28.276272869664556,28.26492621360139,28.243576039909836,28.206332543619048,28.2027634302835,28.208214988886947,28.206615511179113,28.22127098757743,28.200405525669304,28.205256408500247,28.202647520223113,28.17761481282291,28.194928126189467,28.24847005317214,28.249633413298525,28.201709421717744,28.280545230326357,28.165822425316005,28.17167467869488,28.105669425728173,28.110341637583428,28.108681190125743,28.158317978008547,28.135860770145303,28.103058701479508,28.16268273995201,28.143100667795746,28.065305272050708,28.107607895578447,28.10333688154759,28.102792115186304,28.102341102977693,28.101967418227375,28.10164761855969,28.101384897917363,28.101161010492355,28.100974656739883,28.100819317859937,28.10068632030131,28.10057527037255,28.09256904898362,28.101068378533856,28.10021985070104,28.100186473065595,28.10015502203816,28.100130012813235,28.100110227575858,28.095525937152633,28.018532146335843,28.082107562247725,28.00964072196924,28.007266482152794,28.006754209226248,28.00566737790736,28.00475895937561,28.003995621795102,28.045084417766937,28.06735208605752,28.012789774838822,28.016170303745675,28.02832661521958,28.018978691801898,28.060039785714064,28.050311088699356,28.097647222553782,28.053910174472993,27.99948109118864,28.147359923342258,28.090851010608223,28.07904617132331,27.999234548545797,28.006295926442057,28.053163332890517,28.071337169672425,28.072706240290483,28.16082660933156,27.92702279191679,27.913408734593748,27.926295442039393,28.039015465857442,27.97818206266974,28.0598432036079,28.005164733389016,27.952262771385776,27.87260780298733,27.983980173693734,28.065331542173293,28.130079724869667,28.19161058982479,28.176045561032563,28.189822073750747,28.248441842968237,28.192443603455683,28.191707418681787,28.213761246578343,28.29190903929453,28.28653376096978,28.28871548365045,28.21170654059003,28.111420490009163,28.28496178047097,28.292376184868385,28.291680657366918,28.295048305903247,28.329506533601638,28.38484022657404,28.293407683773363,28.32679651465941,28.32729386924794,28.296875876076946,28.22550909213191,28.10855849478313,28.19397812211294,28.136307849682844,28.114412215067272,28.055152790774894,28.105419970176623,28.294796466228547,28.322270239934223,28.304874871601037,28.40082938027558,28.308138858696086,28.096089536772052,28.23469891424844,28.300931033954996,28.30991296175768,28.344517281166617,28.29169167410839,28.297411857521638,28.316053142795617,28.489527016139927,28.479985334827887,28.48281620067118,28.44232465723407,28.35560085554669,28.184246191505952,27.936595507508905,27.765104733577363,27.853850434763924,27.983987390832468,28.113204583458405],\"type\":\"scatter\"},{\"line\":{\"color\":\"rgba(219, 64, 82, 1.0)\",\"dash\":\"solid\",\"shape\":\"linear\",\"width\":1.3},\"mode\":\"lines\",\"name\":\"Temperature\",\"text\":\"\",\"x\":[\"2022-10-09T21:00:00Z\",\"2022-10-09T21:03:00Z\",\"2022-10-09T21:06:00Z\",\"2022-10-09T21:09:00Z\",\"2022-10-09T21:12:00Z\",\"2022-10-09T21:15:00Z\",\"2022-10-09T21:18:00Z\",\"2022-10-09T21:21:00Z\",\"2022-10-09T21:24:00Z\",\"2022-10-09T21:27:00Z\",\"2022-10-09T21:30:00Z\",\"2022-10-09T21:33:00Z\",\"2022-10-09T21:36:00Z\",\"2022-10-09T21:39:00Z\",\"2022-10-09T21:42:00Z\",\"2022-10-09T21:45:00Z\",\"2022-10-09T21:48:00Z\",\"2022-10-09T21:51:00Z\",\"2022-10-09T21:54:00Z\",\"2022-10-09T21:57:00Z\",\"2022-10-09T22:00:00Z\",\"2022-10-09T22:03:00Z\",\"2022-10-09T22:06:00Z\",\"2022-10-09T22:09:00Z\",\"2022-10-09T22:12:00Z\",\"2022-10-09T22:15:00Z\",\"2022-10-09T22:18:00Z\",\"2022-10-09T22:21:00Z\",\"2022-10-09T22:24:00Z\",\"2022-10-09T22:27:00Z\",\"2022-10-09T22:30:00Z\",\"2022-10-09T22:33:00Z\",\"2022-10-09T22:36:00Z\",\"2022-10-09T22:39:00Z\",\"2022-10-09T22:42:00Z\",\"2022-10-09T22:45:00Z\",\"2022-10-09T22:48:00Z\",\"2022-10-09T22:51:00Z\",\"2022-10-09T22:54:00Z\",\"2022-10-09T22:57:00Z\",\"2022-10-09T23:00:00Z\",\"2022-10-09T23:03:00Z\",\"2022-10-09T23:06:00Z\",\"2022-10-09T23:09:00Z\",\"2022-10-09T23:12:00Z\",\"2022-10-09T23:15:00Z\",\"2022-10-09T23:18:00Z\",\"2022-10-09T23:21:00Z\",\"2022-10-09T23:24:00Z\",\"2022-10-09T23:27:00Z\",\"2022-10-09T23:30:00Z\",\"2022-10-09T23:33:00Z\",\"2022-10-09T23:36:00Z\",\"2022-10-09T23:39:00Z\",\"2022-10-09T23:42:00Z\",\"2022-10-09T23:45:00Z\",\"2022-10-09T23:48:00Z\",\"2022-10-09T23:51:00Z\",\"2022-10-09T23:54:00Z\",\"2022-10-09T23:57:00Z\",\"2022-10-10T00:00:00Z\",\"2022-10-10T00:03:00Z\",\"2022-10-10T00:06:00Z\",\"2022-10-10T00:09:00Z\",\"2022-10-10T00:12:00Z\",\"2022-10-10T00:15:00Z\",\"2022-10-10T00:18:00Z\",\"2022-10-10T00:21:00Z\",\"2022-10-10T00:24:00Z\",\"2022-10-10T00:27:00Z\",\"2022-10-10T00:30:00Z\",\"2022-10-10T00:33:00Z\",\"2022-10-10T00:36:00Z\",\"2022-10-10T00:39:00Z\",\"2022-10-10T00:42:00Z\",\"2022-10-10T00:45:00Z\",\"2022-10-10T00:48:00Z\",\"2022-10-10T00:51:00Z\",\"2022-10-10T00:54:00Z\",\"2022-10-10T00:57:00Z\",\"2022-10-10T01:00:00Z\",\"2022-10-10T01:03:00Z\",\"2022-10-10T01:06:00Z\",\"2022-10-10T01:09:00Z\",\"2022-10-10T01:12:00Z\",\"2022-10-10T01:15:00Z\",\"2022-10-10T01:18:00Z\",\"2022-10-10T01:21:00Z\",\"2022-10-10T01:24:00Z\",\"2022-10-10T01:27:00Z\",\"2022-10-10T01:30:00Z\",\"2022-10-10T01:33:00Z\",\"2022-10-10T01:36:00Z\",\"2022-10-10T01:39:00Z\",\"2022-10-10T01:42:00Z\",\"2022-10-10T01:45:00Z\",\"2022-10-10T01:48:00Z\",\"2022-10-10T01:51:00Z\",\"2022-10-10T01:54:00Z\",\"2022-10-10T01:57:00Z\",\"2022-10-10T02:00:00Z\",\"2022-10-10T02:03:00Z\",\"2022-10-10T02:06:00Z\",\"2022-10-10T02:09:00Z\",\"2022-10-10T02:12:00Z\",\"2022-10-10T02:15:00Z\",\"2022-10-10T02:18:00Z\",\"2022-10-10T02:21:00Z\",\"2022-10-10T02:24:00Z\",\"2022-10-10T02:27:00Z\",\"2022-10-10T02:30:00Z\",\"2022-10-10T02:33:00Z\",\"2022-10-10T02:36:00Z\",\"2022-10-10T02:39:00Z\",\"2022-10-10T02:42:00Z\",\"2022-10-10T02:45:00Z\",\"2022-10-10T02:48:00Z\",\"2022-10-10T02:51:00Z\",\"2022-10-10T02:54:00Z\",\"2022-10-10T02:57:00Z\",\"2022-10-10T03:00:00Z\",\"2022-10-10T03:03:00Z\",\"2022-10-10T03:06:00Z\",\"2022-10-10T03:09:00Z\",\"2022-10-10T03:12:00Z\",\"2022-10-10T03:15:00Z\",\"2022-10-10T03:18:00Z\",\"2022-10-10T03:21:00Z\",\"2022-10-10T03:24:00Z\",\"2022-10-10T03:27:00Z\",\"2022-10-10T03:30:00Z\",\"2022-10-10T03:33:00Z\",\"2022-10-10T03:36:00Z\",\"2022-10-10T03:39:00Z\",\"2022-10-10T03:42:00Z\",\"2022-10-10T03:45:00Z\",\"2022-10-10T03:48:00Z\",\"2022-10-10T03:51:00Z\",\"2022-10-10T03:54:00Z\",\"2022-10-10T03:57:00Z\",\"2022-10-10T04:00:00Z\",\"2022-10-10T04:03:00Z\",\"2022-10-10T04:06:00Z\",\"2022-10-10T04:09:00Z\",\"2022-10-10T04:12:00Z\",\"2022-10-10T04:15:00Z\",\"2022-10-10T04:18:00Z\",\"2022-10-10T04:21:00Z\",\"2022-10-10T04:24:00Z\",\"2022-10-10T04:27:00Z\",\"2022-10-10T04:30:00Z\",\"2022-10-10T04:33:00Z\",\"2022-10-10T04:36:00Z\",\"2022-10-10T04:39:00Z\",\"2022-10-10T04:42:00Z\",\"2022-10-10T04:45:00Z\",\"2022-10-10T04:48:00Z\",\"2022-10-10T04:51:00Z\",\"2022-10-10T04:54:00Z\",\"2022-10-10T04:57:00Z\",\"2022-10-10T05:00:00Z\",\"2022-10-10T05:03:00Z\",\"2022-10-10T05:06:00Z\",\"2022-10-10T05:09:00Z\",\"2022-10-10T05:12:00Z\",\"2022-10-10T05:15:00Z\",\"2022-10-10T05:18:00Z\",\"2022-10-10T05:21:00Z\",\"2022-10-10T05:24:00Z\",\"2022-10-10T05:27:00Z\",\"2022-10-10T05:30:00Z\",\"2022-10-10T05:33:00Z\",\"2022-10-10T05:36:00Z\",\"2022-10-10T05:39:00Z\",\"2022-10-10T05:42:00Z\",\"2022-10-10T05:45:00Z\",\"2022-10-10T05:48:00Z\",\"2022-10-10T05:51:00Z\",\"2022-10-10T05:54:00Z\",\"2022-10-10T05:57:00Z\",\"2022-10-10T06:00:00Z\",\"2022-10-10T06:03:00Z\",\"2022-10-10T06:06:00Z\",\"2022-10-10T06:09:00Z\",\"2022-10-10T06:12:00Z\",\"2022-10-10T06:15:00Z\",\"2022-10-10T06:18:00Z\",\"2022-10-10T06:21:00Z\",\"2022-10-10T06:24:00Z\",\"2022-10-10T06:27:00Z\",\"2022-10-10T06:30:00Z\",\"2022-10-10T06:33:00Z\",\"2022-10-10T06:36:00Z\",\"2022-10-10T06:39:00Z\",\"2022-10-10T06:42:00Z\",\"2022-10-10T06:45:00Z\",\"2022-10-10T06:48:00Z\",\"2022-10-10T06:51:00Z\",\"2022-10-10T06:54:00Z\",\"2022-10-10T06:57:00Z\",\"2022-10-10T07:00:00Z\",\"2022-10-10T07:03:00Z\",\"2022-10-10T07:06:00Z\",\"2022-10-10T07:09:00Z\",\"2022-10-10T07:12:00Z\",\"2022-10-10T07:15:00Z\",\"2022-10-10T07:18:00Z\",\"2022-10-10T07:21:00Z\",\"2022-10-10T07:24:00Z\",\"2022-10-10T07:27:00Z\",\"2022-10-10T07:30:00Z\",\"2022-10-10T07:33:00Z\",\"2022-10-10T07:36:00Z\",\"2022-10-10T07:39:00Z\",\"2022-10-10T07:42:00Z\",\"2022-10-10T20:42:00Z\",\"2022-10-10T20:45:00Z\",\"2022-10-10T20:48:00Z\",\"2022-10-10T20:51:00Z\",\"2022-10-10T20:54:00Z\",\"2022-10-10T20:57:00Z\",\"2022-10-10T21:00:00Z\",\"2022-10-10T21:03:00Z\",\"2022-10-10T21:06:00Z\",\"2022-10-10T21:09:00Z\",\"2022-10-10T21:12:00Z\",\"2022-10-10T21:15:00Z\",\"2022-10-10T21:18:00Z\",\"2022-10-10T21:21:00Z\",\"2022-10-10T21:24:00Z\",\"2022-10-10T21:27:00Z\",\"2022-10-10T21:30:00Z\",\"2022-10-10T21:33:00Z\",\"2022-10-10T21:36:00Z\",\"2022-10-10T21:39:00Z\",\"2022-10-10T21:42:00Z\",\"2022-10-10T21:45:00Z\",\"2022-10-10T21:48:00Z\",\"2022-10-10T21:51:00Z\",\"2022-10-10T21:54:00Z\",\"2022-10-10T21:57:00Z\",\"2022-10-10T22:00:00Z\",\"2022-10-10T22:03:00Z\",\"2022-10-10T22:06:00Z\",\"2022-10-10T22:09:00Z\",\"2022-10-10T22:12:00Z\",\"2022-10-10T22:15:00Z\",\"2022-10-10T22:18:00Z\",\"2022-10-10T22:21:00Z\",\"2022-10-10T22:24:00Z\",\"2022-10-10T22:27:00Z\",\"2022-10-10T22:30:00Z\",\"2022-10-10T22:33:00Z\",\"2022-10-10T22:36:00Z\",\"2022-10-10T22:39:00Z\",\"2022-10-10T22:42:00Z\",\"2022-10-10T22:45:00Z\",\"2022-10-10T22:48:00Z\",\"2022-10-10T22:51:00Z\",\"2022-10-10T22:54:00Z\",\"2022-10-10T22:57:00Z\",\"2022-10-10T23:00:00Z\",\"2022-10-10T23:03:00Z\",\"2022-10-10T23:06:00Z\",\"2022-10-10T23:09:00Z\",\"2022-10-10T23:12:00Z\",\"2022-10-10T23:15:00Z\",\"2022-10-10T23:18:00Z\",\"2022-10-10T23:21:00Z\",\"2022-10-10T23:24:00Z\",\"2022-10-10T23:27:00Z\",\"2022-10-10T23:30:00Z\",\"2022-10-10T23:33:00Z\",\"2022-10-10T23:36:00Z\",\"2022-10-10T23:39:00Z\",\"2022-10-10T23:42:00Z\",\"2022-10-10T23:45:00Z\",\"2022-10-10T23:48:00Z\",\"2022-10-10T23:51:00Z\",\"2022-10-10T23:54:00Z\",\"2022-10-10T23:57:00Z\",\"2022-10-11T00:00:00Z\",\"2022-10-11T00:03:00Z\",\"2022-10-11T00:06:00Z\",\"2022-10-11T00:09:00Z\",\"2022-10-11T00:12:00Z\",\"2022-10-11T00:15:00Z\",\"2022-10-11T00:18:00Z\",\"2022-10-11T00:21:00Z\",\"2022-10-11T00:24:00Z\",\"2022-10-11T00:27:00Z\",\"2022-10-11T00:30:00Z\",\"2022-10-11T00:33:00Z\",\"2022-10-11T00:36:00Z\",\"2022-10-11T00:39:00Z\",\"2022-10-11T00:42:00Z\",\"2022-10-11T00:45:00Z\",\"2022-10-11T00:48:00Z\",\"2022-10-11T00:51:00Z\",\"2022-10-11T00:54:00Z\",\"2022-10-11T00:57:00Z\",\"2022-10-11T01:00:00Z\",\"2022-10-11T01:03:00Z\",\"2022-10-11T01:06:00Z\",\"2022-10-11T01:09:00Z\",\"2022-10-11T01:12:00Z\",\"2022-10-11T01:15:00Z\",\"2022-10-11T01:18:00Z\",\"2022-10-11T01:21:00Z\",\"2022-10-11T01:24:00Z\",\"2022-10-11T01:27:00Z\",\"2022-10-11T01:30:00Z\",\"2022-10-11T01:33:00Z\",\"2022-10-11T01:36:00Z\",\"2022-10-11T01:39:00Z\",\"2022-10-11T01:42:00Z\",\"2022-10-11T01:45:00Z\",\"2022-10-11T01:48:00Z\",\"2022-10-11T01:51:00Z\",\"2022-10-11T01:54:00Z\",\"2022-10-11T01:57:00Z\",\"2022-10-11T02:00:00Z\",\"2022-10-11T02:03:00Z\",\"2022-10-11T02:06:00Z\",\"2022-10-11T02:09:00Z\",\"2022-10-11T02:12:00Z\",\"2022-10-11T02:15:00Z\",\"2022-10-11T02:18:00Z\",\"2022-10-11T02:21:00Z\",\"2022-10-11T02:24:00Z\",\"2022-10-11T02:27:00Z\",\"2022-10-11T02:30:00Z\",\"2022-10-11T02:33:00Z\",\"2022-10-11T02:36:00Z\",\"2022-10-11T02:39:00Z\",\"2022-10-11T02:42:00Z\",\"2022-10-11T02:45:00Z\",\"2022-10-11T02:48:00Z\",\"2022-10-11T02:51:00Z\",\"2022-10-11T02:54:00Z\",\"2022-10-11T02:57:00Z\",\"2022-10-11T03:00:00Z\",\"2022-10-11T03:03:00Z\",\"2022-10-11T03:06:00Z\",\"2022-10-11T03:09:00Z\",\"2022-10-11T03:12:00Z\",\"2022-10-11T03:15:00Z\",\"2022-10-11T03:18:00Z\",\"2022-10-11T03:21:00Z\",\"2022-10-11T03:24:00Z\",\"2022-10-11T03:27:00Z\",\"2022-10-11T03:30:00Z\",\"2022-10-11T03:33:00Z\",\"2022-10-11T03:36:00Z\",\"2022-10-11T03:39:00Z\",\"2022-10-11T03:42:00Z\",\"2022-10-11T03:45:00Z\",\"2022-10-11T03:48:00Z\",\"2022-10-11T03:51:00Z\",\"2022-10-11T03:54:00Z\",\"2022-10-11T03:57:00Z\",\"2022-10-11T04:00:00Z\",\"2022-10-11T04:03:00Z\",\"2022-10-11T04:06:00Z\",\"2022-10-11T04:09:00Z\",\"2022-10-11T04:12:00Z\",\"2022-10-11T04:15:00Z\",\"2022-10-11T04:18:00Z\",\"2022-10-11T04:21:00Z\",\"2022-10-11T04:24:00Z\",\"2022-10-11T04:27:00Z\",\"2022-10-11T04:30:00Z\",\"2022-10-11T04:33:00Z\",\"2022-10-11T04:36:00Z\",\"2022-10-11T05:21:00Z\",\"2022-10-11T05:51:00Z\",\"2022-10-11T05:54:00Z\",\"2022-10-11T05:57:00Z\",\"2022-10-11T06:00:00Z\",\"2022-10-11T06:03:00Z\",\"2022-10-11T06:06:00Z\",\"2022-10-11T06:09:00Z\",\"2022-10-11T06:12:00Z\",\"2022-10-11T06:15:00Z\",\"2022-10-11T06:18:00Z\",\"2022-10-11T06:21:00Z\",\"2022-10-11T06:24:00Z\",\"2022-10-11T06:27:00Z\",\"2022-10-11T06:30:00Z\",\"2022-10-11T06:33:00Z\",\"2022-10-11T06:36:00Z\",\"2022-10-11T06:39:00Z\",\"2022-10-11T06:42:00Z\",\"2022-10-11T06:45:00Z\",\"2022-10-11T06:48:00Z\",\"2022-10-11T06:51:00Z\",\"2022-10-11T06:54:00Z\",\"2022-10-11T06:57:00Z\",\"2022-10-11T07:00:00Z\",\"2022-10-11T07:03:00Z\",\"2022-10-11T07:06:00Z\",\"2022-10-11T07:09:00Z\",\"2022-10-11T07:12:00Z\",\"2022-10-11T07:15:00Z\",\"2022-10-11T07:18:00Z\",\"2022-10-11T07:21:00Z\",\"2022-10-11T07:24:00Z\",\"2022-10-11T07:27:00Z\",\"2022-10-11T07:30:00Z\",\"2022-10-11T07:33:00Z\",\"2022-10-11T07:36:00Z\",\"2022-10-11T07:39:00Z\",\"2022-10-11T07:42:00Z\",\"2022-10-11T07:45:00Z\",\"2022-10-11T07:48:00Z\",\"2022-10-11T07:51:00Z\",\"2022-10-11T07:54:00Z\",\"2022-10-11T07:57:00Z\",\"2022-10-11T08:00:00Z\",\"2022-10-11T08:03:00Z\",\"2022-10-11T08:06:00Z\",\"2022-10-11T08:09:00Z\",\"2022-10-11T08:12:00Z\",\"2022-10-11T08:15:00Z\",\"2022-10-11T08:18:00Z\",\"2022-10-11T08:21:00Z\",\"2022-10-11T08:24:00Z\",\"2022-10-11T08:27:00Z\",\"2022-10-11T08:30:00Z\",\"2022-10-11T08:33:00Z\",\"2022-10-11T08:36:00Z\",\"2022-10-11T08:39:00Z\",\"2022-10-11T08:42:00Z\",\"2022-10-11T08:45:00Z\",\"2022-10-11T08:48:00Z\",\"2022-10-11T08:51:00Z\",\"2022-10-11T08:54:00Z\",\"2022-10-11T08:57:00Z\",\"2022-10-11T09:00:00Z\",\"2022-10-11T09:03:00Z\",\"2022-10-11T09:06:00Z\",\"2022-10-11T09:09:00Z\",\"2022-10-11T09:12:00Z\",\"2022-10-11T09:15:00Z\",\"2022-10-11T09:18:00Z\",\"2022-10-11T09:21:00Z\",\"2022-10-11T09:24:00Z\",\"2022-10-11T09:27:00Z\",\"2022-10-11T09:30:00Z\"],\"y\":[23.327272727272728,24.078461538461543,25.09795918367349,26.098437500000024,26.640625000000004,26.9813953488372,27.210937500000004,27.32769230769232,27.401923076923087,27.4921875,27.5,27.5,27.5,27.554385964912267,27.535937499999985,27.59374999999997,27.601538461538432,27.59843749999997,27.587499999999974,27.59843749999997,27.602272727272727,27.609230769230752,27.66250000000002,27.682812500000026,27.700000000000028,27.700000000000028,27.698461538461565,27.700000000000028,27.70000000000002,27.700000000000028,27.700000000000028,27.703125000000025,27.70307692307695,27.717543859649137,27.7359375,27.796428571428542,27.79999999999997,27.79999999999997,27.79999999999997,27.79999999999997,27.799999999999976,27.79999999999997,27.79999999999997,27.793877551020387,27.795312499999973,27.79846153846151,27.778846153846143,27.706250000000026,27.626984126984123,27.50392156862745,27.55781249999997,27.599999999999977,27.58593749999998,27.586153846153824,27.616666666666674,27.686153846153854,27.61475409836063,27.5140625,27.5,27.5,27.5,27.5,27.5,27.5,27.5,27.5,27.5,27.5,27.5,27.5,27.5,27.5,27.5,27.5,27.4984375,27.5,27.496,27.5,27.5,27.5,27.5,27.5,27.5,27.5,27.546874999999982,27.584374999999973,27.582812499999985,27.509375,27.55384615384612,27.599999999999994,27.60937499999998,27.63437500000001,27.69062500000003,27.700000000000028,27.67368421052632,27.61249999999997,27.63846153846155,27.67968750000003,27.700000000000028,27.700000000000028,27.700000000000028,27.700000000000028,27.72931034482759,27.72187500000001,27.718367346938784,27.703076923076956,27.700000000000028,27.700000000000028,27.67343750000001,27.6245283018868,27.65846153846154,27.5,27.5,27.5,27.446875000000038,27.456249999999997,27.5,27.514062499999994,27.54999999999997,27.584210526315783,27.52461538461537,27.55468749999997,27.59062499999997,27.639062500000016,27.6846153846154,27.60327868852457,27.487692307692324,27.400000000000027,27.38437500000001,27.301639344262263,27.25957446808511,27.218461538461565,27.210204081632668,27.28906249999997,27.26249999999999,27.235483870967755,27.207812500000024,27.210937500000018,27.22500000000002,27.201562500000023,27.20816326530614,27.234375000000007,27.24843750000001,27.22500000000001,27.264062499999987,27.29687499999997,27.29538461538459,27.245283018867923,27.22063492063494,27.215625000000014,27.224074074074103,27.201562500000023,27.200000000000028,27.200000000000028,27.19843750000003,27.20000000000002,27.200000000000028,27.200000000000028,27.200000000000024,27.2390625,27.212280701754413,27.19843750000003,27.206153846153867,27.18301886792453,27.11249999999998,27.099999999999977,27.18750000000003,27.200000000000028,27.200000000000028,27.200000000000028,27.200000000000028,27.22031250000001,27.217187500000016,27.218750000000018,27.212500000000016,27.2387755102041,27.3030769230769,27.39843750000003,27.4734693877551,27.428125000000023,27.403125000000028,27.353124999999977,27.395384615384643,27.465625,27.5,27.519672131147523,27.59807692307691,27.614062499999974,27.636923076923072,27.584374999999994,27.55781249999997,27.65781250000001,27.700000000000024,27.5125,27.5,27.557894736842087,27.64444444444444,27.513846153846146,27.691228070175463,27.615625,27.543749999999967,27.739999999999977,27.69218750000001,27.63877551020411,27.80156249999999,27.90000000000003,27.90000000000001,28.043749999999967,28.43125000000001,28.41846153846154,28.10468749999997,28.099999999999987,28.18437500000001,28.299999999999976,28.204545454545453,23.9875,25.336923076923068,26.420312499999994,27.223437500000024,27.61250000000001,27.75744680851065,27.951562499999994,27.996875000000003,28.07343749999997,28.22812499999999,28.29999999999997,28.29999999999997,28.29999999999997,28.351562500000025,28.35937499999999,28.303124999999973,28.363076923076957,28.40344827586209,28.404687500000023,28.361363636363613,28.29999999999997,28.30615384615382,28.33770491803277,28.30781249999997,28.299999999999983,28.29999999999997,28.29999999999997,28.29999999999997,28.29999999999997,28.29999999999998,28.30156249999997,28.312307692307662,28.299999999999976,28.29999999999997,28.29999999999997,28.29999999999997,28.359375000000032,28.381538461538472,28.34843749999998,28.325000000000006,28.32187499999997,28.378125000000036,28.32461538461536,28.299999999999976,28.299999999999976,28.29999999999997,28.299999999999976,28.29999999999997,28.29999999999997,28.29999999999997,28.29999999999997,28.29999999999997,28.29999999999997,28.299999999999976,\"\",\"\",\"\",\"\",\"\",\"\",\"\",\"\",\"\",\"\",\"\",\"\",\"\",\"\",\"\",\"\",\"\",\"\",\"\",\"\",\"\",\"\",\"\",\"\",\"\",\"\",\"\",\"\",\"\",\"\",\"\",\"\",\"\",\"\",\"\",\"\",\"\",\"\",\"\",\"\",\"\",\"\",\"\",\"\",\"\",\"\",\"\",\"\",\"\",\"\",\"\",\"\",\"\",\"\",\"\",\"\",\"\",\"\",\"\",\"\",\"\",\"\",\"\",\"\",\"\",\"\",\"\",\"\",\"\",\"\",\"\",\"\",\"\",\"\",\"\",\"\",\"\",\"\",\"\",\"\",\"\",\"\",\"\",\"\",\"\",\"\",\"\",\"\",\"\",\"\",\"\",\"\",\"\",\"\",\"\",\"\",\"\",\"\",\"\",\"\",\"\",\"\",\"\",\"\",\"\",\"\",\"\",\"\",\"\",\"\",\"\",\"\",\"\",\"\",\"\",\"\",\"\",\"\",\"\",\"\",\"\",\"\",\"\",\"\",\"\",\"\",\"\",\"\",\"\",\"\",\"\",\"\",\"\",\"\",\"\",\"\",\"\",\"\",\"\",\"\",\"\",\"\",\"\",\"\",\"\",\"\",\"\",\"\",\"\",\"\",\"\",\"\",\"\",\"\",\"\",\"\",\"\",\"\",\"\",\"\",\"\",\"\",\"\",\"\",\"\",\"\",\"\",\"\",\"\",\"\",\"\",\"\",\"\",\"\",\"\",\"\",\"\",\"\",\"\",\"\"],\"type\":\"scatter\"}],                        {\"legend\":{\"bgcolor\":\"#F5F6F9\",\"font\":{\"color\":\"#4D5663\"}},\"paper_bgcolor\":\"#F5F6F9\",\"plot_bgcolor\":\"#F5F6F9\",\"template\":{\"data\":{\"barpolar\":[{\"marker\":{\"line\":{\"color\":\"#E5ECF6\",\"width\":0.5},\"pattern\":{\"fillmode\":\"overlay\",\"size\":10,\"solidity\":0.2}},\"type\":\"barpolar\"}],\"bar\":[{\"error_x\":{\"color\":\"#2a3f5f\"},\"error_y\":{\"color\":\"#2a3f5f\"},\"marker\":{\"line\":{\"color\":\"#E5ECF6\",\"width\":0.5},\"pattern\":{\"fillmode\":\"overlay\",\"size\":10,\"solidity\":0.2}},\"type\":\"bar\"}],\"carpet\":[{\"aaxis\":{\"endlinecolor\":\"#2a3f5f\",\"gridcolor\":\"white\",\"linecolor\":\"white\",\"minorgridcolor\":\"white\",\"startlinecolor\":\"#2a3f5f\"},\"baxis\":{\"endlinecolor\":\"#2a3f5f\",\"gridcolor\":\"white\",\"linecolor\":\"white\",\"minorgridcolor\":\"white\",\"startlinecolor\":\"#2a3f5f\"},\"type\":\"carpet\"}],\"choropleth\":[{\"colorbar\":{\"outlinewidth\":0,\"ticks\":\"\"},\"type\":\"choropleth\"}],\"contourcarpet\":[{\"colorbar\":{\"outlinewidth\":0,\"ticks\":\"\"},\"type\":\"contourcarpet\"}],\"contour\":[{\"colorbar\":{\"outlinewidth\":0,\"ticks\":\"\"},\"colorscale\":[[0.0,\"#0d0887\"],[0.1111111111111111,\"#46039f\"],[0.2222222222222222,\"#7201a8\"],[0.3333333333333333,\"#9c179e\"],[0.4444444444444444,\"#bd3786\"],[0.5555555555555556,\"#d8576b\"],[0.6666666666666666,\"#ed7953\"],[0.7777777777777778,\"#fb9f3a\"],[0.8888888888888888,\"#fdca26\"],[1.0,\"#f0f921\"]],\"type\":\"contour\"}],\"heatmapgl\":[{\"colorbar\":{\"outlinewidth\":0,\"ticks\":\"\"},\"colorscale\":[[0.0,\"#0d0887\"],[0.1111111111111111,\"#46039f\"],[0.2222222222222222,\"#7201a8\"],[0.3333333333333333,\"#9c179e\"],[0.4444444444444444,\"#bd3786\"],[0.5555555555555556,\"#d8576b\"],[0.6666666666666666,\"#ed7953\"],[0.7777777777777778,\"#fb9f3a\"],[0.8888888888888888,\"#fdca26\"],[1.0,\"#f0f921\"]],\"type\":\"heatmapgl\"}],\"heatmap\":[{\"colorbar\":{\"outlinewidth\":0,\"ticks\":\"\"},\"colorscale\":[[0.0,\"#0d0887\"],[0.1111111111111111,\"#46039f\"],[0.2222222222222222,\"#7201a8\"],[0.3333333333333333,\"#9c179e\"],[0.4444444444444444,\"#bd3786\"],[0.5555555555555556,\"#d8576b\"],[0.6666666666666666,\"#ed7953\"],[0.7777777777777778,\"#fb9f3a\"],[0.8888888888888888,\"#fdca26\"],[1.0,\"#f0f921\"]],\"type\":\"heatmap\"}],\"histogram2dcontour\":[{\"colorbar\":{\"outlinewidth\":0,\"ticks\":\"\"},\"colorscale\":[[0.0,\"#0d0887\"],[0.1111111111111111,\"#46039f\"],[0.2222222222222222,\"#7201a8\"],[0.3333333333333333,\"#9c179e\"],[0.4444444444444444,\"#bd3786\"],[0.5555555555555556,\"#d8576b\"],[0.6666666666666666,\"#ed7953\"],[0.7777777777777778,\"#fb9f3a\"],[0.8888888888888888,\"#fdca26\"],[1.0,\"#f0f921\"]],\"type\":\"histogram2dcontour\"}],\"histogram2d\":[{\"colorbar\":{\"outlinewidth\":0,\"ticks\":\"\"},\"colorscale\":[[0.0,\"#0d0887\"],[0.1111111111111111,\"#46039f\"],[0.2222222222222222,\"#7201a8\"],[0.3333333333333333,\"#9c179e\"],[0.4444444444444444,\"#bd3786\"],[0.5555555555555556,\"#d8576b\"],[0.6666666666666666,\"#ed7953\"],[0.7777777777777778,\"#fb9f3a\"],[0.8888888888888888,\"#fdca26\"],[1.0,\"#f0f921\"]],\"type\":\"histogram2d\"}],\"histogram\":[{\"marker\":{\"pattern\":{\"fillmode\":\"overlay\",\"size\":10,\"solidity\":0.2}},\"type\":\"histogram\"}],\"mesh3d\":[{\"colorbar\":{\"outlinewidth\":0,\"ticks\":\"\"},\"type\":\"mesh3d\"}],\"parcoords\":[{\"line\":{\"colorbar\":{\"outlinewidth\":0,\"ticks\":\"\"}},\"type\":\"parcoords\"}],\"pie\":[{\"automargin\":true,\"type\":\"pie\"}],\"scatter3d\":[{\"line\":{\"colorbar\":{\"outlinewidth\":0,\"ticks\":\"\"}},\"marker\":{\"colorbar\":{\"outlinewidth\":0,\"ticks\":\"\"}},\"type\":\"scatter3d\"}],\"scattercarpet\":[{\"marker\":{\"colorbar\":{\"outlinewidth\":0,\"ticks\":\"\"}},\"type\":\"scattercarpet\"}],\"scattergeo\":[{\"marker\":{\"colorbar\":{\"outlinewidth\":0,\"ticks\":\"\"}},\"type\":\"scattergeo\"}],\"scattergl\":[{\"marker\":{\"colorbar\":{\"outlinewidth\":0,\"ticks\":\"\"}},\"type\":\"scattergl\"}],\"scattermapbox\":[{\"marker\":{\"colorbar\":{\"outlinewidth\":0,\"ticks\":\"\"}},\"type\":\"scattermapbox\"}],\"scatterpolargl\":[{\"marker\":{\"colorbar\":{\"outlinewidth\":0,\"ticks\":\"\"}},\"type\":\"scatterpolargl\"}],\"scatterpolar\":[{\"marker\":{\"colorbar\":{\"outlinewidth\":0,\"ticks\":\"\"}},\"type\":\"scatterpolar\"}],\"scatter\":[{\"fillpattern\":{\"fillmode\":\"overlay\",\"size\":10,\"solidity\":0.2},\"type\":\"scatter\"}],\"scatterternary\":[{\"marker\":{\"colorbar\":{\"outlinewidth\":0,\"ticks\":\"\"}},\"type\":\"scatterternary\"}],\"surface\":[{\"colorbar\":{\"outlinewidth\":0,\"ticks\":\"\"},\"colorscale\":[[0.0,\"#0d0887\"],[0.1111111111111111,\"#46039f\"],[0.2222222222222222,\"#7201a8\"],[0.3333333333333333,\"#9c179e\"],[0.4444444444444444,\"#bd3786\"],[0.5555555555555556,\"#d8576b\"],[0.6666666666666666,\"#ed7953\"],[0.7777777777777778,\"#fb9f3a\"],[0.8888888888888888,\"#fdca26\"],[1.0,\"#f0f921\"]],\"type\":\"surface\"}],\"table\":[{\"cells\":{\"fill\":{\"color\":\"#EBF0F8\"},\"line\":{\"color\":\"white\"}},\"header\":{\"fill\":{\"color\":\"#C8D4E3\"},\"line\":{\"color\":\"white\"}},\"type\":\"table\"}]},\"layout\":{\"annotationdefaults\":{\"arrowcolor\":\"#2a3f5f\",\"arrowhead\":0,\"arrowwidth\":1},\"autotypenumbers\":\"strict\",\"coloraxis\":{\"colorbar\":{\"outlinewidth\":0,\"ticks\":\"\"}},\"colorscale\":{\"diverging\":[[0,\"#8e0152\"],[0.1,\"#c51b7d\"],[0.2,\"#de77ae\"],[0.3,\"#f1b6da\"],[0.4,\"#fde0ef\"],[0.5,\"#f7f7f7\"],[0.6,\"#e6f5d0\"],[0.7,\"#b8e186\"],[0.8,\"#7fbc41\"],[0.9,\"#4d9221\"],[1,\"#276419\"]],\"sequential\":[[0.0,\"#0d0887\"],[0.1111111111111111,\"#46039f\"],[0.2222222222222222,\"#7201a8\"],[0.3333333333333333,\"#9c179e\"],[0.4444444444444444,\"#bd3786\"],[0.5555555555555556,\"#d8576b\"],[0.6666666666666666,\"#ed7953\"],[0.7777777777777778,\"#fb9f3a\"],[0.8888888888888888,\"#fdca26\"],[1.0,\"#f0f921\"]],\"sequentialminus\":[[0.0,\"#0d0887\"],[0.1111111111111111,\"#46039f\"],[0.2222222222222222,\"#7201a8\"],[0.3333333333333333,\"#9c179e\"],[0.4444444444444444,\"#bd3786\"],[0.5555555555555556,\"#d8576b\"],[0.6666666666666666,\"#ed7953\"],[0.7777777777777778,\"#fb9f3a\"],[0.8888888888888888,\"#fdca26\"],[1.0,\"#f0f921\"]]},\"colorway\":[\"#636efa\",\"#EF553B\",\"#00cc96\",\"#ab63fa\",\"#FFA15A\",\"#19d3f3\",\"#FF6692\",\"#B6E880\",\"#FF97FF\",\"#FECB52\"],\"font\":{\"color\":\"#2a3f5f\"},\"geo\":{\"bgcolor\":\"white\",\"lakecolor\":\"white\",\"landcolor\":\"#E5ECF6\",\"showlakes\":true,\"showland\":true,\"subunitcolor\":\"white\"},\"hoverlabel\":{\"align\":\"left\"},\"hovermode\":\"closest\",\"mapbox\":{\"style\":\"light\"},\"paper_bgcolor\":\"white\",\"plot_bgcolor\":\"#E5ECF6\",\"polar\":{\"angularaxis\":{\"gridcolor\":\"white\",\"linecolor\":\"white\",\"ticks\":\"\"},\"bgcolor\":\"#E5ECF6\",\"radialaxis\":{\"gridcolor\":\"white\",\"linecolor\":\"white\",\"ticks\":\"\"}},\"scene\":{\"xaxis\":{\"backgroundcolor\":\"#E5ECF6\",\"gridcolor\":\"white\",\"gridwidth\":2,\"linecolor\":\"white\",\"showbackground\":true,\"ticks\":\"\",\"zerolinecolor\":\"white\"},\"yaxis\":{\"backgroundcolor\":\"#E5ECF6\",\"gridcolor\":\"white\",\"gridwidth\":2,\"linecolor\":\"white\",\"showbackground\":true,\"ticks\":\"\",\"zerolinecolor\":\"white\"},\"zaxis\":{\"backgroundcolor\":\"#E5ECF6\",\"gridcolor\":\"white\",\"gridwidth\":2,\"linecolor\":\"white\",\"showbackground\":true,\"ticks\":\"\",\"zerolinecolor\":\"white\"}},\"shapedefaults\":{\"line\":{\"color\":\"#2a3f5f\"}},\"ternary\":{\"aaxis\":{\"gridcolor\":\"white\",\"linecolor\":\"white\",\"ticks\":\"\"},\"baxis\":{\"gridcolor\":\"white\",\"linecolor\":\"white\",\"ticks\":\"\"},\"bgcolor\":\"#E5ECF6\",\"caxis\":{\"gridcolor\":\"white\",\"linecolor\":\"white\",\"ticks\":\"\"}},\"title\":{\"x\":0.05},\"xaxis\":{\"automargin\":true,\"gridcolor\":\"white\",\"linecolor\":\"white\",\"ticks\":\"\",\"title\":{\"standoff\":15},\"zerolinecolor\":\"white\",\"zerolinewidth\":2},\"yaxis\":{\"automargin\":true,\"gridcolor\":\"white\",\"linecolor\":\"white\",\"ticks\":\"\",\"title\":{\"standoff\":15},\"zerolinecolor\":\"white\",\"zerolinewidth\":2}}},\"title\":{\"font\":{\"color\":\"#4D5663\"}},\"xaxis\":{\"gridcolor\":\"#E1E5ED\",\"showgrid\":true,\"tickfont\":{\"color\":\"#4D5663\"},\"title\":{\"font\":{\"color\":\"#4D5663\"},\"text\":\"\"},\"zerolinecolor\":\"#E1E5ED\"},\"yaxis\":{\"gridcolor\":\"#E1E5ED\",\"showgrid\":true,\"tickfont\":{\"color\":\"#4D5663\"},\"title\":{\"font\":{\"color\":\"#4D5663\"},\"text\":\"\"},\"zerolinecolor\":\"#E1E5ED\"}},                        {\"showLink\": true, \"linkText\": \"Export to plot.ly\", \"plotlyServerURL\": \"https://plot.ly\", \"responsive\": true}                    ).then(function(){\n",
              "                            \n",
              "var gd = document.getElementById('2826725f-f1fd-4898-a410-1d0f86dca052');\n",
              "var x = new MutationObserver(function (mutations, observer) {{\n",
              "        var display = window.getComputedStyle(gd).display;\n",
              "        if (!display || display === 'none') {{\n",
              "            console.log([gd, 'removed!']);\n",
              "            Plotly.purge(gd);\n",
              "            observer.disconnect();\n",
              "        }}\n",
              "}});\n",
              "\n",
              "// Listen for the removal of the full notebook cells\n",
              "var notebookContainer = gd.closest('#notebook-container');\n",
              "if (notebookContainer) {{\n",
              "    x.observe(notebookContainer, {childList: true});\n",
              "}}\n",
              "\n",
              "// Listen for the clearing of the current output cell\n",
              "var outputEl = gd.closest('.output');\n",
              "if (outputEl) {{\n",
              "    x.observe(outputEl, {childList: true});\n",
              "}}\n",
              "\n",
              "                        })                };                });            </script>        </div>"
            ]
          },
          "metadata": {},
          "output_type": "display_data"
        }
      ],
      "source": [
        "\n",
        "# evaluate an ARIMA model using a walk-forward validation\n",
        "from pandas import read_csv\n",
        "from pandas import datetime\n",
        "from matplotlib import pyplot\n",
        "from statsmodels.tsa.arima.model import ARIMA\n",
        "from sklearn.metrics import mean_squared_error\n",
        "from math import sqrt\n",
        "# load dataset\n",
        "def parser(x):\n",
        "\treturn datetime.fromisoformat(x[:-1]).astimezone(timezone.utc).strftime('%Y-%m-%d %H:%M:%S')\n",
        "\n",
        "series = pd.read_csv(\"../datasets/TempAndre.csv\",index_col=0)\n",
        "\n",
        "# split into train and test sets\n",
        "nrows = (len(series.values))\n",
        "splitPoint = int (nrows * 0.60)\n",
        "train = series['Temperature'] [:splitPoint]\n",
        "test = series ['Temperature'] [splitPoint:]\n",
        "\n",
        "history = [x for x in train]\n",
        "predictions = list()\n",
        "l = list()\n",
        "for x in history:\n",
        "\tl.append(x)\n",
        "\n",
        "# walk-forward validation\n",
        "for t in range(len(test)):\n",
        "\tmodel = ARIMA(history, order=(2,1,1))\n",
        "\tmodel_fit = model.fit()\n",
        "\toutput = model_fit.forecast()\n",
        "\tyhat = output[0]\n",
        "\tl.append(yhat)\n",
        "\tpredictions.append(yhat)\n",
        "\tobs = test[t]\n",
        "\thistory.append(obs)\n",
        "\tprint('predicted=%f, expected=%f' % (yhat, obs))\n",
        "# evaluate forecasts\n",
        "rmse = sqrt(mean_squared_error(test, predictions))\n",
        "print('Test RMSE: %.3f' % rmse)\n",
        "\n",
        "\n",
        "future_forecast1 = pd.DataFrame(predictions,index = test.index ,columns = ['Predicted values'])\n",
        "future_forecast2 = pd.DataFrame(l,index = series.index,  columns = ['Predicted values'])\n",
        "\n",
        "colors = [\"blue\",\"red\"]\n",
        "pd.concat([future_forecast1,test],axis=1).iplot(color = colors)\n",
        "pd.concat([future_forecast2,train],axis=1).iplot(color = colors)"
      ]
    }
  ],
  "metadata": {
    "colab": {
      "collapsed_sections": [],
      "name": "forecasting.ipynb",
      "provenance": []
    },
    "kernelspec": {
      "display_name": "Python 3.8.9 64-bit",
      "language": "python",
      "name": "python3"
    },
    "language_info": {
      "codemirror_mode": {
        "name": "ipython",
        "version": 3
      },
      "file_extension": ".py",
      "mimetype": "text/x-python",
      "name": "python",
      "nbconvert_exporter": "python",
      "pygments_lexer": "ipython3",
      "version": "3.8.9"
    },
    "orig_nbformat": 4,
    "vscode": {
      "interpreter": {
        "hash": "31f2aee4e71d21fbe5cf8b01ff0e069b9275f58929596ceb00d14d90e3e16cd6"
      }
    }
  },
  "nbformat": 4,
  "nbformat_minor": 0
}
